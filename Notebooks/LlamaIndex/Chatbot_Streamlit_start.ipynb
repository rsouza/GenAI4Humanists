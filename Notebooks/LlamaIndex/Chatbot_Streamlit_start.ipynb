{
 "cells": [
  {
   "cell_type": "markdown",
   "id": "0886dd5d-aa39-4bbb-bc95-44078b6fbec1",
   "metadata": {},
   "source": [
    "## Choose Which script to run\n",
    "\n",
    "Or alternatively run on terminal:  \n",
    "`python -m streamlit run ./Chatbot_LLamaIndex_Streamlit.py`  \n",
    "`python -m streamlit run ./Chatbot_LLamaIndex_Streamlit_RAG.py`  "
   ]
  },
  {
   "cell_type": "code",
   "execution_count": null,
   "id": "49ea6f79-49f7-4f7d-9528-d3704ab5433c",
   "metadata": {},
   "outputs": [],
   "source": [
    "!python -m streamlit run ./Chatbot_LLamaIndex_Streamlit.py \\\n",
    "--server.enableCORS=True \\\n",
    "--server.enableXsrfProtection=True \\\n",
    "--browser.gatherUsageStats=False"
   ]
  },
  {
   "cell_type": "code",
   "execution_count": null,
   "id": "d202fb45-2cc6-4cab-aa2d-ba6fd8eaffc8",
   "metadata": {},
   "outputs": [],
   "source": [
    "!python -m streamlit run ./Chatbot_LLamaIndex_Streamlit_RAG.py \\\n",
    "--server.enableCORS=True \\\n",
    "--server.enableXsrfProtection=True \\\n",
    "--browser.gatherUsageStats=False"
   ]
  },
  {
   "cell_type": "code",
   "execution_count": null,
   "id": "89245449-f9f2-4490-80c2-7f9c415d239c",
   "metadata": {},
   "outputs": [],
   "source": []
  }
 ],
 "metadata": {
  "kernelspec": {
   "display_name": "Python 3 (ipykernel)",
   "language": "python",
   "name": "python3"
  },
  "language_info": {
   "codemirror_mode": {
    "name": "ipython",
    "version": 3
   },
   "file_extension": ".py",
   "mimetype": "text/x-python",
   "name": "python",
   "nbconvert_exporter": "python",
   "pygments_lexer": "ipython3",
   "version": "3.9.13"
  }
 },
 "nbformat": 4,
 "nbformat_minor": 5
}
