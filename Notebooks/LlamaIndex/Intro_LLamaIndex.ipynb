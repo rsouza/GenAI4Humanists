{
 "cells": [
  {
   "cell_type": "markdown",
   "metadata": {
    "application/vnd.databricks.v1+cell": {
     "cellMetadata": {
      "byteLimit": 2048000,
      "rowLimit": 10000
     },
     "inputWidgets": {},
     "nuid": "0c058a22-bd74-490d-a9e3-df2e2de7d144",
     "showTitle": false,
     "title": ""
    },
    "id": "AGIMdkQnoRcj"
   },
   "source": [
    "### Quick intro to LlamaIndex  \n",
    "Sources: [1](https://lmy.medium.com/comparing-langchain-and-llamaindex-with-4-tasks-2970140edf33), [2](https://docs.llamaindex.ai/en/stable/), [3](https://github.com/run-llama/llama_index), [4](https://nanonets.com/blog/llamaindex/)  \n",
    "\n",
    "LlamaIndex is a \"data framework\" to help you build LLM apps. It provides the following tools:\n",
    "\n",
    "+ Offers data connectors to ingest your existing data sources and data formats (APIs, PDFs, docs, SQL, etc.).\n",
    "+ Provides ways to structure your data (indices, graphs) so that this data can be easily used with LLMs.\n",
    "+ Provides an advanced retrieval/query interface over your data: Feed in any LLM input prompt, get back retrieved context and knowledge-augmented output.\n",
    "+ Allows easy integrations with your outer application framework (e.g. with LangChain, Flask, Docker, ChatGPT, anything else).\n",
    "+ LlamaIndex provides tools for both beginner users and advanced users.  \n",
    "\n",
    "The high-level API allows beginner users to use LlamaIndex to ingest and query their data in 5 lines of code.  \n",
    "The lower-level APIs allow advanced users to customize and extend any module (data connectors, indices, retrievers, query engines, reranking modules), to fit their needs.  \n",
    "\n",
    "LlamaIndex provides the following tools:\n",
    "+ Data connectors ingest your existing data from their native source and format. These could be APIs, PDFs, SQL, and (much) more.\n",
    "+ Data indexes structure your data in intermediate representations that are easy and performant for LLMs to consume.\n",
    "+ Engines provide natural language access to your data. For example:\n",
    "+ Query engines are powerful retrieval interfaces for knowledge-augmented output.\n",
    "+ Chat engines are conversational interfaces for multi-message, “back and forth” interactions with your data.\n",
    "+ Data agents are LLM-powered knowledge workers augmented by tools, from simple helper functions to API integrations and more.\n",
    "+ Application integrations tie LlamaIndex back into the rest of your ecosystem. This could be LangChain, Flask, Docker, ChatGPT, or… anything else!  "
   ]
  },
  {
   "cell_type": "markdown",
   "metadata": {},
   "source": [
    "#### Installing Packages"
   ]
  },
  {
   "cell_type": "code",
   "execution_count": 1,
   "metadata": {
    "application/vnd.databricks.v1+cell": {
     "cellMetadata": {
      "byteLimit": 2048000,
      "rowLimit": 10000
     },
     "inputWidgets": {},
     "nuid": "a7f6931d-f17f-4b44-ad98-209eff067812",
     "showTitle": false,
     "title": "ro"
    },
    "colab": {
     "base_uri": "https://localhost:8080/"
    },
    "executionInfo": {
     "elapsed": 53180,
     "status": "ok",
     "timestamp": 1714082220939,
     "user": {
      "displayName": "Renato Rocha Souza",
      "userId": "08757946413431057160"
     },
     "user_tz": -120
    },
    "id": "jaMpIG2XoRck",
    "outputId": "d5e94e75-935d-4fe8-d083-b533ac53842c"
   },
   "outputs": [
    {
     "name": "stderr",
     "output_type": "stream",
     "text": [
      "  WARNING: The script llamaindex-cli.exe is installed in 'C:\\Users\\Renato Rocha Souza\\AppData\\Roaming\\Python\\Python39\\Scripts' which is not on PATH.\n",
      "  Consider adding this directory to PATH or, if you prefer to suppress this warning, use --no-warn-script-location.\n",
      "ERROR: Could not install packages due to an OSError: [WinError 5] Access is denied: 'C:\\\\Users\\\\Renato Rocha Souza\\\\AppData\\\\Roaming\\\\Python\\\\Python39\\\\site-packages\\\\~-dantic_core\\\\_pydantic_core.cp39-win_amd64.pyd'\n",
      "Check the permissions.\n",
      "\n"
     ]
    }
   ],
   "source": [
    "!pip install -qU openai\n",
    "!pip install -qU llama-index\n",
    "!pip install -qU pydantic\n",
    "!pip install -qU llama-index-llms-openai\n",
    "!pip install -qU pypdf\n",
    "!pip install -qU docx2txt"
   ]
  },
  {
   "cell_type": "markdown",
   "metadata": {},
   "source": [
    "#### Importing Packages"
   ]
  },
  {
   "cell_type": "code",
   "execution_count": 2,
   "metadata": {
    "executionInfo": {
     "elapsed": 5796,
     "status": "ok",
     "timestamp": 1714082226729,
     "user": {
      "displayName": "Renato Rocha Souza",
      "userId": "08757946413431057160"
     },
     "user_tz": -120
    },
    "id": "QuADmlLip3qc"
   },
   "outputs": [],
   "source": [
    "import os\n",
    "import sys\n",
    "import openai\n",
    "import pydantic\n",
    "\n",
    "#os.environ[\"OPENAI_API_KEY\"] = \"<the key>\"\n",
    "openai.api_key = os.environ[\"OPENAI_API_KEY\"]\n",
    "\n",
    "import llama_index\n",
    "\n",
    "from llama_index.core import Settings\n",
    "\n",
    "from llama_index.llms.openai import OpenAI\n",
    "from llama_index.embeddings.openai import OpenAIEmbedding\n",
    "\n",
    "from llama_index.llms.ollama import Ollama\n",
    "from llama_index.embeddings.huggingface import HuggingFaceEmbedding\n",
    "\n",
    "\n",
    "from llama_index.core import VectorStoreIndex\n",
    "from llama_index.core import SimpleDirectoryReader\n",
    "from llama_index.core import StorageContext\n",
    "from llama_index.core import load_index_from_storage"
   ]
  },
  {
   "cell_type": "code",
   "execution_count": 3,
   "metadata": {},
   "outputs": [
    {
     "name": "stdout",
     "output_type": "stream",
     "text": [
      "LLamaIndex: 0.12.2\n",
      "Pydantic: 2.9.2\n",
      "OpenAI: 1.55.3\n"
     ]
    }
   ],
   "source": [
    "print(\"LLamaIndex:\", llama_index.core.__version__)\n",
    "print(\"Pydantic:\", pydantic.VERSION)\n",
    "print(\"OpenAI:\", openai.__version__)"
   ]
  },
  {
   "cell_type": "code",
   "execution_count": 4,
   "metadata": {
    "executionInfo": {
     "elapsed": 313,
     "status": "ok",
     "timestamp": 1714082896084,
     "user": {
      "displayName": "Renato Rocha Souza",
      "userId": "08757946413431057160"
     },
     "user_tz": -120
    },
    "id": "9LvdQOGpuPND"
   },
   "outputs": [],
   "source": [
    "import logging\n",
    "import sys\n",
    "\n",
    "#logging.basicConfig(stream=sys.stdout, level=logging.DEBUG)\n",
    "#logging.getLogger().addHandler(logging.StreamHandler(stream=sys.stdout))"
   ]
  },
  {
   "cell_type": "markdown",
   "metadata": {},
   "source": [
    "#### Defining Models\n",
    "\n",
    "For using [Ollama Models](https://ollama.com/search), check which ones are installed in your local machine"
   ]
  },
  {
   "cell_type": "code",
   "execution_count": 5,
   "metadata": {},
   "outputs": [],
   "source": [
    "#model=\"gpt-4o\"\n",
    "model=\"gpt-4o-mini\"\n",
    "\n",
    "Settings.llm = OpenAI(temperature=0, \n",
    "                      model=model, \n",
    "                      #max_tokens=512\n",
    "                      PRESENCE_PENALTY=-2,\n",
    "                      TOP_P=1,\n",
    "                     )\n",
    "\n",
    "#Settings.llm = Ollama(model=\"llama3.2\", request_timeout=300.0)\n",
    "\n",
    "Settings.embed_model = OpenAIEmbedding(model=\"text-embedding-3-small\")\n",
    "\n",
    "#Settings.embed_model = HuggingFaceEmbedding(model_name=\"BAAI/bge-small-en-v1.5\")"
   ]
  },
  {
   "cell_type": "markdown",
   "metadata": {
    "id": "c8xXV5d4ssLZ"
   },
   "source": [
    "#### Defining Folders"
   ]
  },
  {
   "cell_type": "code",
   "execution_count": 6,
   "metadata": {
    "colab": {
     "base_uri": "https://localhost:8080/"
    },
    "executionInfo": {
     "elapsed": 306,
     "status": "ok",
     "timestamp": 1713516821732,
     "user": {
      "displayName": "Renato Rocha Souza",
      "userId": "08757946413431057160"
     },
     "user_tz": -120
    },
    "id": "QRrbzYaVtEnm",
    "outputId": "85448919-e437-449f-c568-5665b79316d5"
   },
   "outputs": [
    {
     "name": "stdout",
     "output_type": "stream",
     "text": [
      "Current dir: C:\\Users\\Renato Rocha Souza\\Documents\\Repos\\GenAI4Humanists\\Notebooks\\LlamaIndex\n",
      "Files in ../../Data/\n",
      ".ipynb_checkpoints\n",
      "1.pdf\n",
      "Lightroom.jpeg\n",
      "Sign.png\n",
      "Vienna_dataset.json\n",
      "Vienna_image.png\n",
      "Vienna_mask.png\n",
      "WarrenCommissionReport.txt\n",
      "attention.png\n",
      "axis_report.pdf\n",
      "california_housing_train.csv\n",
      "fossils.jpeg\n",
      "handwritten.jpg\n",
      "handwritten2.jpg\n",
      "handwritten3.jpg\n",
      "hdfc_report.pdf\n",
      "hr.sqlite\n",
      "icici_report.pdf\n",
      "imageToSave.png\n",
      "imageToSave2.png\n",
      "kafka_metamorphosis.txt\n",
      "keynote_recap.mp3\n",
      "keynote_recap.mp4\n",
      "knowledge_card.pdf\n",
      "loftq.pdf\n",
      "longlora.pdf\n",
      "lyft_2021.pdf\n",
      "metagpt.pdf\n",
      "metra.pdf\n",
      "new_rag_dataset.json\n",
      "nyc_text.txt\n",
      "paul_graham_essay.txt\n",
      "rag_dataset.json\n",
      "selfrag.pdf\n",
      "sound_english.mp3\n",
      "sound_german.mp3\n",
      "sound_portuguese.mp3\n",
      "speech.mp3\n",
      "swebench.pdf\n",
      "triangle.png\n",
      "uber_2021.pdf\n",
      "values.pdf\n",
      "vr_mcl.pdf\n",
      "zipformer.pdf\n"
     ]
    }
   ],
   "source": [
    "print(f\"Current dir: {os.getcwd()}\")\n",
    "DOCS_DIR = \"../../Data/\"\n",
    "if not os.path.exists(DOCS_DIR):\n",
    "  os.mkdir(DOCS_DIR)\n",
    "docs = os.listdir(DOCS_DIR)\n",
    "docs = [d for d in docs]\n",
    "docs.sort()\n",
    "print(f\"Files in {DOCS_DIR}\")\n",
    "for doc in docs:\n",
    "    print(doc)"
   ]
  },
  {
   "cell_type": "code",
   "execution_count": 7,
   "metadata": {
    "colab": {
     "base_uri": "https://localhost:8080/"
    },
    "executionInfo": {
     "elapsed": 1052,
     "status": "ok",
     "timestamp": 1713516967050,
     "user": {
      "displayName": "Renato Rocha Souza",
      "userId": "08757946413431057160"
     },
     "user_tz": -120
    },
    "id": "5mMBhXdwqLZ-",
    "outputId": "36b0e91f-92c3-4cd7-d9d6-683a6502fec9"
   },
   "outputs": [
    {
     "data": {
      "text/plain": [
       "[Document(id_='ebc9c08b-a1fd-40db-9340-487f0c5e594d', embedding=None, metadata={'page_label': '1', 'file_name': '1.pdf', 'file_path': '..\\\\..\\\\Data\\\\1.pdf', 'file_type': 'application/pdf', 'file_size': 154717, 'creation_date': '2024-05-31', 'last_modified_date': '2024-05-31'}, excluded_embed_metadata_keys=['file_name', 'file_type', 'file_size', 'creation_date', 'last_modified_date', 'last_accessed_date'], excluded_llm_metadata_keys=['file_name', 'file_type', 'file_size', 'creation_date', 'last_modified_date', 'last_accessed_date'], relationships={}, metadata_template='{key}: {value}', metadata_separator='\\n', text=' \\nFood Calories List \\nFrom: www.weightlossforall.com \\nThe food calories list is a table of everyday foods listing their calorie content per average portion. The \\nfood calories list also gives the calorie content in 100 grams so it can be compared with any other \\nproducts not listed here. The table can be useful if you want to exchange a food with similar calorie \\ncontent when following a weight loss low calorie program.  \\nThe food calories list is broken down into sections based on the 5 basic food groups of a balanced diet.  \\nBREADS & CEREALS Portion size * per 100 grams \\n(3.5 oz) energy content \\nBagel ( 1 average ) 140 cals (45g) 310 cals Medium \\nBiscuit digestives  86 cals (per biscuit) 480 cals High \\nJaffa cake 48 cals (per biscuit) 370 cals Med-High \\nBread white (thick slice) 96  cals (1 slice 40g) 240 cals Medium \\nBread wholemeal (thick) 88  cals (1 slice 40g) 220 cals Low-med \\nChapatis 250 cals 300 cals Medium \\nCornflakes 130  cals (35g) 370 cals Med-High \\nCrackerbread 17 cals per slice 325 cals Low Calorie \\nCream crackers 35 cals (per cracker) 440 cals Low / portion \\nCrumpets 93 cals (per crumpet) 198 cals Low-Med \\nFlapjacks basic fruit mix 320 cals 500 cals High \\nMacaroni (boiled) 238 cals (250g) 95 cals Low calorie \\nMuesli 195  cals (50g) 390 cals Med-high \\nNaan bread (normal) 300 cals (small plate size) 320 cals  Medium \\nNoodles (boiled) 175 cals (250g) 70 cals Low calorie \\nPasta ( normal boiled ) 330 cals (300g) 110 cals Low calorie \\nPasta (wholemeal boiled ) 315 cals (300g) 105 cals Low calorie \\nPorridge oats (with water) 193 cals (350g) 55 cals Low calorie \\nPotatoes** (boiled) 210 cals (300g) 70 cals Low calorie \\nPotatoes** (roast) 420 cals (300g) 140 cals Medium ', mimetype='text/plain', start_char_idx=None, end_char_idx=None, metadata_seperator='\\n', text_template='{metadata_str}\\n\\n{content}'),\n",
       " Document(id_='69ce6608-d346-43f8-accd-2aa9d694866b', embedding=None, metadata={'page_label': '2', 'file_name': '1.pdf', 'file_path': '..\\\\..\\\\Data\\\\1.pdf', 'file_type': 'application/pdf', 'file_size': 154717, 'creation_date': '2024-05-31', 'last_modified_date': '2024-05-31'}, excluded_embed_metadata_keys=['file_name', 'file_type', 'file_size', 'creation_date', 'last_modified_date', 'last_accessed_date'], excluded_llm_metadata_keys=['file_name', 'file_type', 'file_size', 'creation_date', 'last_modified_date', 'last_accessed_date'], relationships={}, metadata_template='{key}: {value}', metadata_separator='\\n', text=' \\nRice (white boiled) 420 cals (300g) 140 cals Low calorie \\nRice (egg-fried) 500 cals 200 cals High in portion \\nRice ( Brown ) 405 cals (300g) 135 cals Low calorie \\nRice cakes 28 Cals = 1 slice 373 Cals Medium \\nRyvita Multi grain 37 Cals per slice 331 Cals Medium \\nRyvita + seed & Oats 180 Cals 4 slices 362 Cals Medium \\nSpaghetti (boiled) 303 cals (300g) 101 cals Low calorie \\n  \\n  \\n*  Portion sizes will vary depending on the type and make of product purchased. Portion size is very \\noften a subjective view and may again vary according to bowl, cup or plate size used. \\n** Potatoes are vegetables but listed here because they form a staple part of many meals. See a \\nbalanced diet section. \\nNB. The food calories list shows products in alphabetical order.  \\nMost natural foods are calculated in tests and specific product values are calculated from their \\ningredients list or from manufacturers information. Some values may not be accurate and should only \\nbe used for general comparison purposes. \\n  \\nMeats & Fish Portion size * per 100 grams \\n(3.5 oz) energy content \\nAnchovies tinned 300 cals 300 cals Medium \\nBacon average fried 250 cals (2 rashers) 500 cals High \\nBacon average grilled 150 cals 380 cals Med-High \\nBeef (roast) 300 cals 280 cals Medium \\nBeef burgers frozen 320 cals 280 cals Med-High \\nChicken 220 cals 200 cals Medium \\nCockles  50 cals 50 cals Low \\nCod fresh 150 cals 100 cals Low calorie \\nCod chip shop food 400 cals 200 cals Med-High \\nCrab fresh 200 cals 110 cals low calorie \\nDuck roast 400 cals 430 cals High ', mimetype='text/plain', start_char_idx=None, end_char_idx=None, metadata_seperator='\\n', text_template='{metadata_str}\\n\\n{content}'),\n",
       " Document(id_='a041fe5b-e3f5-4d9f-912d-305b1c85938c', embedding=None, metadata={'page_label': '3', 'file_name': '1.pdf', 'file_path': '..\\\\..\\\\Data\\\\1.pdf', 'file_type': 'application/pdf', 'file_size': 154717, 'creation_date': '2024-05-31', 'last_modified_date': '2024-05-31'}, excluded_embed_metadata_keys=['file_name', 'file_type', 'file_size', 'creation_date', 'last_modified_date', 'last_accessed_date'], excluded_llm_metadata_keys=['file_name', 'file_type', 'file_size', 'creation_date', 'last_modified_date', 'last_accessed_date'], relationships={}, metadata_template='{key}: {value}', metadata_separator='\\n', text=' \\nFish cake 90 cals per cake 200 cals Medium \\nFish fingers 50 cals per piece 220 cals Medium \\nGammon 320 cals 280 cals Med-High \\nHaddock fresh 200 cals 110 cals Low calorie \\nHalibut fresh 220 cals 125 cals Low calorie \\nHam 6 cals 240 cals Medium \\nHerring fresh grilled 300 cals 200 cals Medium \\nKidney 200 cals 160 cals Medium \\nKipper 200 cals 120 cals Low calorie \\nLiver 200 cals 150 cals Medium \\nLiver pate 150 cals 300 cals Medium \\nLamb (roast) 300 cals 300 cals Med-High \\nLobster boiled 200 cals 100 cals Low calorie \\nLuncheon meat 300 cals 400 cals High \\nMackeral 320 cals 300 cals Medium \\nMussels 90 cals 90 cals Low-Med \\nPheasant roast 200 cals 200 cals Medium \\nPilchards (tinned) 140 cals 140 cals Medium \\nPrawns 180 cals 100 cals Low- Med \\nPork  320 cals 290 cals Med-High \\nPork pie 320 cals 450 cals High \\nRabbit 200 cals 180 cals Medium \\nSalmon fresh 220 cals 180 cals Medium \\nSardines tinned in oil 220 cals 220 cals Medium \\nSardines in tomato sauce 180 cals 180 cals Medium \\nSausage pork fried 250 cals 320 cals High \\nSausage pork grilled 220 cals 280 cals Med-High \\nSausage roll 290 cals 480 cals High \\nScampi fried in oil 400 cals 340 cals High \\nSteak & kidney pie 400 cals 350 cals High ', mimetype='text/plain', start_char_idx=None, end_char_idx=None, metadata_seperator='\\n', text_template='{metadata_str}\\n\\n{content}'),\n",
       " Document(id_='7f599d0e-45ff-402d-a4db-c0ea61fa01c5', embedding=None, metadata={'page_label': '4', 'file_name': '1.pdf', 'file_path': '..\\\\..\\\\Data\\\\1.pdf', 'file_type': 'application/pdf', 'file_size': 154717, 'creation_date': '2024-05-31', 'last_modified_date': '2024-05-31'}, excluded_embed_metadata_keys=['file_name', 'file_type', 'file_size', 'creation_date', 'last_modified_date', 'last_accessed_date'], excluded_llm_metadata_keys=['file_name', 'file_type', 'file_size', 'creation_date', 'last_modified_date', 'last_accessed_date'], relationships={}, metadata_template='{key}: {value}', metadata_separator='\\n', text=' \\nTaramasalata 130 cals 490 cals High \\nTrout fresh 200 cals 120 cals Low calorie \\nTuna tinned water 100 cals 100 cals Low calorie \\nTuna tinned oil 180 cals 180 cals Medium \\nTurkey 200 cals 160 cals Medium \\nVeal 300 cals 240 cals Medium \\n \\n* Portion sizes will vary depending on the type and make of product purchased. Portion size is very \\noften a subjective view and may again vary according to bowl, cup or plate size used. \\n  \\nFruits & Vegetables Portion size * per 100 grams (3.5 \\noz) energy content \\nApple 44 calories 44 calories Low calorie \\nBanana 107 cals 65 calories Low calorie \\nBeans baked beans 170 cals 80 calories Low calorie \\nBeans dried (boiled) 180 cals 130 calories Low calorie \\nBlackberries 25 cals 25 calories Low calorie \\nBlackcurrant 30 cals 30 calories Low calorie \\nBroccoli 27 cals 32 cals Very low \\nCabbage (boiled) 15 calories 20 calories Low calorie \\nCarrot (boiled) 16 calories 25 calories Low calorie \\nCauliflower (boiled) 20 calories 30 calories Low calorie \\nCelery (boiled) 5 calories 10 calories Low calorie \\nCherry 35 calories 50 calories Low calorie \\nCourgette 8 cals  20 cals Very low cal \\nCucumber 3 calories 10 calories Low calorie \\nDates 100 calories 235 calories Med-High \\nGrapes 55 calories 62 calories Low calorie \\nGrapefruit 32 calories 32 calories Low calorie \\nKiwi 40 calories 50 calories Low calorie \\nLeek (boiled) 10 calories 20 calories Low calorie ', mimetype='text/plain', start_char_idx=None, end_char_idx=None, metadata_seperator='\\n', text_template='{metadata_str}\\n\\n{content}'),\n",
       " Document(id_='80ed6cdb-4eaa-40f6-b98b-db33f3626b8f', embedding=None, metadata={'page_label': '5', 'file_name': '1.pdf', 'file_path': '..\\\\..\\\\Data\\\\1.pdf', 'file_type': 'application/pdf', 'file_size': 154717, 'creation_date': '2024-05-31', 'last_modified_date': '2024-05-31'}, excluded_embed_metadata_keys=['file_name', 'file_type', 'file_size', 'creation_date', 'last_modified_date', 'last_accessed_date'], excluded_llm_metadata_keys=['file_name', 'file_type', 'file_size', 'creation_date', 'last_modified_date', 'last_accessed_date'], relationships={}, metadata_template='{key}: {value}', metadata_separator='\\n', text=' \\nLentils (boiled) 150 calories 100 calories Medium \\nLettuce 4 calories 15 calories Very Low \\nMelon 14 calories 28 calories Medium \\nMushrooms raw one \\naverage 3 cals 15 cals Very low cal \\nMushrooms (boiled) 12 calories 12 calories Low calorie \\nMushrooms (fried) 100 calories 145 calories High \\nOlives 50 calories 80 calories Low calorie \\nOnion (boiled) 14 calories 18 calories Low calorie \\nOne red Onion 49 cals 33 cals Low calorie \\nOnions spring  3 cals 25 cals Very low cal \\nOnion (fried) 86 calories 155 calories High \\nOrange 40 calories 30 calories Low calorie \\nPeas 210 calories 148 calories Medium \\nPeas dried & boiled 200 calories 120 calories Low calorie \\nPeach 35 calories 30 calories Low calorie \\nPear 45 calories 38 calories Low calorie \\nPepper yellow 6 cals 16 cals Very low \\nPineapple 40 calories 40 calories Low calorie \\nPlum 30 calories 39 calories Low calorie \\nSpinach 8 calories 8 calories Low calorie \\nStrawberries (1 average) 10 calories 30 calories Low calorie \\nSweetcorn 95 calories 130 calories Medium \\nSweetcorn on the cob 70 calories 70 calories Low calorie \\nTomato 30 calories 20 calories Low calorie \\nTomato cherry 6 cals ( 3 toms) 17 Cals Very low cal \\nTomato puree 70 calories 70 calories Low-Medium \\nWatercress 5 calories 20 calories Low calorie \\n \\n*  Portion sizes will vary depending on the type and make of product purchased. Portion size is very \\noften a subjective view and may again vary according to bowl, cup or plate size used. ', mimetype='text/plain', start_char_idx=None, end_char_idx=None, metadata_seperator='\\n', text_template='{metadata_str}\\n\\n{content}'),\n",
       " Document(id_='632ca5cb-b9c5-4045-95ef-ce1a09f73371', embedding=None, metadata={'page_label': '6', 'file_name': '1.pdf', 'file_path': '..\\\\..\\\\Data\\\\1.pdf', 'file_type': 'application/pdf', 'file_size': 154717, 'creation_date': '2024-05-31', 'last_modified_date': '2024-05-31'}, excluded_embed_metadata_keys=['file_name', 'file_type', 'file_size', 'creation_date', 'last_modified_date', 'last_accessed_date'], excluded_llm_metadata_keys=['file_name', 'file_type', 'file_size', 'creation_date', 'last_modified_date', 'last_accessed_date'], relationships={}, metadata_template='{key}: {value}', metadata_separator='\\n', text=' \\n \\n*  Portion sizes will vary depending on the type and make of product purchased. Portion size is very \\noften a subjective view and may again vary according to bowl, cup or plate size used. \\n \\nMilk & Dairy produce Portion size * per 100 grams \\n(3.5 oz) energy content \\nCheese average 110 cals (25g) 440 cals High \\nCheddar types average reduced \\nfat 130 260 calories Medium \\nCheese spreads average 90 cals 270 Medium \\nCottage cheese low fat 40 calories 80 cals low - med \\nCottage cheese 49 cals 98 cals Low calorie \\nCream cheese 200 cals 428 cals High \\nCream fresh half 128 cals 160 cals Med-High \\nCream fresh single 160 cals 200 cals Med-High \\nCream fresh double 340 cals 430 cals High \\nCream fresh clotted 480 cals 600 cals High \\nCustard 210 cals 100 cals Medium \\nEggs ( 1 average size) 90 cals 150 cals Medium \\nEggs fried 120 cals 180 cals Med-High \\nFromage frais 125 cals 125 cals Low calorie \\nIce cream 200 cals 180 cals Medium \\nMilk whole 175 cals (250ml/half pint) 70 cals Med-High \\nMilk semi-skimmed 125 cals (250ml/half pint) 50 cals Medium \\nMilk skimmed 95 cals (250ml/half pint) 38 cals Low calorie \\nMilk Soya 90 cals 36 cals Low calorie \\nMousse flavored 120 cals 140 cals Medium \\nOmelette with cheese 300 cals 266 cals Medium \\nTrifle with cream 290 cals 190 cals Medium \\nYogurt natural 90 cals 60 cals Low calorie \\nYogurt reduced fat 70 cals 45 cals Low calorie ', mimetype='text/plain', start_char_idx=None, end_char_idx=None, metadata_seperator='\\n', text_template='{metadata_str}\\n\\n{content}'),\n",
       " Document(id_='e0ab8011-e2d2-4900-ab0e-42b269aa5eda', embedding=None, metadata={'page_label': '7', 'file_name': '1.pdf', 'file_path': '..\\\\..\\\\Data\\\\1.pdf', 'file_type': 'application/pdf', 'file_size': 154717, 'creation_date': '2024-05-31', 'last_modified_date': '2024-05-31'}, excluded_embed_metadata_keys=['file_name', 'file_type', 'file_size', 'creation_date', 'last_modified_date', 'last_accessed_date'], excluded_llm_metadata_keys=['file_name', 'file_type', 'file_size', 'creation_date', 'last_modified_date', 'last_accessed_date'], relationships={}, metadata_template='{key}: {value}', metadata_separator='\\n', text=' \\nFats & Sugars Portion size * per 100 grams \\n(3.5 oz) energy content \\nPURE FAT 9 cals (1 gram) 900 cals High \\nBombay mix 250 cals 500 cals High \\nButter 112 cals 750 cals High \\nChewing gum 8 cals per piece - Low calorie \\nChocolate 200 cals 500 cals High \\nCod liver oil 135 cals (1 tbspoon) 900 cals High \\nCorn snack 125 cals 500 cals High \\nCrisps (chips US) average 100 cals 500 cals High \\nHoney 42 cals 280 cals Medium \\nJam 38 cals 250 cals Medium \\nLard 225 cals 890 cals High \\nLow fat spread 50 cals 400 cals High \\nMargarine 50 cals 750 cals High \\nMars bar 240 cals 480 cals Med-High \\nMint sweets 10 cals per piece - High \\nOils -corn, sunflower, olive 135 cals (1 Tbspoon) 900 cals High \\nPopcorn average 150 cals 460 cals High \\nSugar white table sugar 20 cals (1 tspoon) 400 cals Medium \\nSweets (boiled) 100 cals 300 cals Med-High \\nSyrup 15 cals 300 cals Medium \\nToffee 100 cals 400 cals High \\n \\n*  Portion sizes will vary depending on the type and make of product purchased. Portion size is very \\noften a subjective view and may again vary according to bowl, cup or plate size used. \\n \\n \\n ', mimetype='text/plain', start_char_idx=None, end_char_idx=None, metadata_seperator='\\n', text_template='{metadata_str}\\n\\n{content}'),\n",
       " Document(id_='0815900f-9b2a-45ae-8c97-72c3e527c615', embedding=None, metadata={'page_label': '8', 'file_name': '1.pdf', 'file_path': '..\\\\..\\\\Data\\\\1.pdf', 'file_type': 'application/pdf', 'file_size': 154717, 'creation_date': '2024-05-31', 'last_modified_date': '2024-05-31'}, excluded_embed_metadata_keys=['file_name', 'file_type', 'file_size', 'creation_date', 'last_modified_date', 'last_accessed_date'], excluded_llm_metadata_keys=['file_name', 'file_type', 'file_size', 'creation_date', 'last_modified_date', 'last_accessed_date'], relationships={}, metadata_template='{key}: {value}', metadata_separator='\\n', text=' \\nFruit Calories per piece Carbs (grams) Water \\nContent \\nApple (1 average) 44 calories 10.5 85 % \\nApple cooking 35 calories 9 88 % \\nApricot 30 calories 6.7 85 % \\nAvocado 150 calories 2 60 % \\nBanana 107 calories 26 75 % \\nBlackberries each  1 calorie 0.2 85 % \\nBlackcurrant each 1.1 calorie 0.25 77 % \\nBlueberries  (new) 100g 49 Cals ( 100g ) 15 g 81 % \\nCherry each 2.4 calories 0.6 83 % \\nClementine 24 cals 5 66 % \\nCurrants 5 calories 1.4 16 % \\nDamson 28 calories 7.2 70 % \\nOne average date 5g 5 cals 1.2 14 % \\nDates with inverted sugar 100g 250 calories 63 12 % \\nFigs 10 calories 2.4 24 % \\nGooseberries 2.6 calories 0.65 80 % \\nGrapes 100g Seedless 50 cals 15 82 % \\none average Grape 6g 3 calories 0.9 82 % \\nGrapefruit whole 100 calories 23 65 % \\nGuava 24 calories 4.4 85 % \\nKiwi 34 calories 8 75 % \\nLemon 20 calories 3.4 85 % \\nLychees 3 calories 0.7 80 % \\nMango 40 calories 9.5 80 % \\nMelon Honeydew (130g) 36 calories 9 90 % \\nMelon Canteloupe (130g) 25 cals 6 93 % \\nNectarines 42 calories 9 80 % \\nOlives 6.8 calories trace 63 % ', mimetype='text/plain', start_char_idx=None, end_char_idx=None, metadata_seperator='\\n', text_template='{metadata_str}\\n\\n{content}'),\n",
       " Document(id_='9813f618-0337-4185-9d9d-61e1257923db', embedding=None, metadata={'page_label': '9', 'file_name': '1.pdf', 'file_path': '..\\\\..\\\\Data\\\\1.pdf', 'file_type': 'application/pdf', 'file_size': 154717, 'creation_date': '2024-05-31', 'last_modified_date': '2024-05-31'}, excluded_embed_metadata_keys=['file_name', 'file_type', 'file_size', 'creation_date', 'last_modified_date', 'last_accessed_date'], excluded_llm_metadata_keys=['file_name', 'file_type', 'file_size', 'creation_date', 'last_modified_date', 'last_accessed_date'], relationships={}, metadata_template='{key}: {value}', metadata_separator='\\n', text=' \\nOrange average 35 calories 8.5 73 % \\nOrange large 350g 100 Cals 22g 75 % \\nPapaya Diced (small handful) 67 Cals  (20g) 17g - \\nPassion Fruit 30 calories 3 50 % \\nPaw Paw 28 calories 6 70 % \\nPeach 35 calories 7 80 % \\nPear 45 calories 12 77 % \\nPineapple 50 calories 12 85 % \\nPlum 25 calories 6 79 % \\nPrunes 9 calories 2.2 37 % \\nRaisins 5 calories 1.4 13 % \\nRaspberries each 1.1 calories 0.2 87 % \\nRhubarb 8 calories 0.8 95 % \\nSatsuma one average 112g 29 cals 6.5 88 % \\nSatsumas 100g 35 calories 8.5 88 % \\nStrawberries (1 average) 2.7 calories 0.6 90 % \\nSultanas 5 calories 1.4 16 % \\nTangerine 26 calories 6 60 % \\nTomatoes (1 average size) 9 cals 2.2 93 % \\nTomatoes Cherry (1 average size) 2 calories 0.5 90 % \\n \\nAll values correct at time of testing, values for fruit calories may vary between different pieces!  \\n*  Fruit calories will vary depending on the size of fruit consumed. Some values for fruit calories may \\nnot be exact and should only be used for general comparison purposes.  \\n ', mimetype='text/plain', start_char_idx=None, end_char_idx=None, metadata_seperator='\\n', text_template='{metadata_str}\\n\\n{content}')]"
      ]
     },
     "execution_count": 7,
     "metadata": {},
     "output_type": "execute_result"
    }
   ],
   "source": [
    "documents = SimpleDirectoryReader(input_files=[f\"{DOCS_DIR}1.pdf\"]).load_data()\n",
    "documents"
   ]
  },
  {
   "cell_type": "code",
   "execution_count": 8,
   "metadata": {
    "id": "KNY0yyMcqQck"
   },
   "outputs": [],
   "source": [
    "index = VectorStoreIndex.from_documents(documents)"
   ]
  },
  {
   "cell_type": "code",
   "execution_count": 9,
   "metadata": {
    "colab": {
     "base_uri": "https://localhost:8080/"
    },
    "executionInfo": {
     "elapsed": 2824,
     "status": "ok",
     "timestamp": 1713517051337,
     "user": {
      "displayName": "Renato Rocha Souza",
      "userId": "08757946413431057160"
     },
     "user_tz": -120
    },
    "id": "8e5iFJhBt3hs",
    "outputId": "450bf509-d520-4976-fa10-8f637aa39c07"
   },
   "outputs": [
    {
     "name": "stdout",
     "output_type": "stream",
     "text": [
      "The document provides a food calories list that details the calorie content of various everyday foods per average portion and per 100 grams. It categorizes foods based on the five basic food groups of a balanced diet, making it useful for those following a weight loss or low-calorie program.\n"
     ]
    }
   ],
   "source": [
    "query_engine = index.as_query_engine()\n",
    "response = query_engine.query(\"What is the document about?\")\n",
    "print(response)"
   ]
  },
  {
   "cell_type": "code",
   "execution_count": 10,
   "metadata": {
    "application/vnd.databricks.v1+cell": {
     "cellMetadata": {},
     "inputWidgets": {},
     "nuid": "cb3507d5-8685-42d1-8379-f811cc032bc5",
     "showTitle": false,
     "title": ""
    },
    "id": "7Q5L0vMWoRcu"
   },
   "outputs": [],
   "source": [
    "INDEX_DIR = \"../../Index/VectorStoreIndex/\"\n",
    "if not os.path.exists(INDEX_DIR):\n",
    "  os.mkdir(INDEX_DIR)\n",
    "index.storage_context.persist(INDEX_DIR)"
   ]
  },
  {
   "cell_type": "code",
   "execution_count": 11,
   "metadata": {
    "colab": {
     "base_uri": "https://localhost:8080/"
    },
    "executionInfo": {
     "elapsed": 3293,
     "status": "ok",
     "timestamp": 1713517170107,
     "user": {
      "displayName": "Renato Rocha Souza",
      "userId": "08757946413431057160"
     },
     "user_tz": -120
    },
    "id": "WUYxHy_5u3VJ",
    "outputId": "990e818f-204b-4d22-cfae-307768771738"
   },
   "outputs": [
    {
     "name": "stdout",
     "output_type": "stream",
     "text": [
      "The document provides a food calories list that details the calorie content of various everyday foods per average portion and per 100 grams. It categorizes foods based on the five basic food groups of a balanced diet, making it useful for those following a weight loss or low-calorie program.\n"
     ]
    }
   ],
   "source": [
    "if not os.path.exists(INDEX_DIR):\n",
    "    documents = SimpleDirectoryReader(DOCS_DIR).load_data()\n",
    "    index = VectorStoreIndex.from_documents(documents)\n",
    "    index.storage_context.persist(persist_dir=INDEX_DIR)\n",
    "else:\n",
    "    storage_context = StorageContext.from_defaults(persist_dir=INDEX_DIR)\n",
    "    index = load_index_from_storage(storage_context)\n",
    "\n",
    "query_engine = index.as_query_engine()\n",
    "response = query_engine.query(\"What is the document about?\")\n",
    "print(response)"
   ]
  },
  {
   "cell_type": "code",
   "execution_count": 12,
   "metadata": {
    "colab": {
     "base_uri": "https://localhost:8080/"
    },
    "executionInfo": {
     "elapsed": 4416,
     "status": "ok",
     "timestamp": 1713517208842,
     "user": {
      "displayName": "Renato Rocha Souza",
      "userId": "08757946413431057160"
     },
     "user_tz": -120
    },
    "id": "CZpJt8hevz5s",
    "outputId": "0c89f3b4-34de-4579-e65f-fe853e0be4e0"
   },
   "outputs": [
    {
     "name": "stdout",
     "output_type": "stream",
     "text": [
      "Some ingredients mentioned include lentils, lettuce, melon, mushrooms, olives, onion, orange, peas, peach, pear, pepper, pineapple, plum, spinach, strawberries, sweetcorn, tomato, and watercress.\n"
     ]
    }
   ],
   "source": [
    "response = query_engine.query(\"List some ingredients mentioned in the document?\")\n",
    "print(response)"
   ]
  },
  {
   "cell_type": "code",
   "execution_count": 13,
   "metadata": {},
   "outputs": [
    {
     "name": "stdout",
     "output_type": "stream",
     "text": [
      "The ingredient with the least calories is cucumber, which has 3 calories per 100 grams.\n"
     ]
    }
   ],
   "source": [
    "response = query_engine.query(\"What is the less caloric ingredient?\")\n",
    "print(response)"
   ]
  },
  {
   "cell_type": "code",
   "execution_count": null,
   "metadata": {},
   "outputs": [],
   "source": []
  }
 ],
 "metadata": {
  "application/vnd.databricks.v1+notebook": {
   "dashboards": [],
   "language": "python",
   "notebookMetadata": {
    "pythonIndentUnit": 4
   },
   "notebookName": "1-Intro_LLamaIndex",
   "widgets": {}
  },
  "colab": {
   "provenance": [
    {
     "file_id": "https://github.com/rsouza/Prompt_Engineering_Course/blob/main/Notebooks/5_LlamaIndex/1-Intro_LLamaIndex.ipynb",
     "timestamp": 1713484412168
    }
   ]
  },
  "kernelspec": {
   "display_name": "Python 3 (ipykernel)",
   "language": "python",
   "name": "python3"
  },
  "language_info": {
   "codemirror_mode": {
    "name": "ipython",
    "version": 3
   },
   "file_extension": ".py",
   "mimetype": "text/x-python",
   "name": "python",
   "nbconvert_exporter": "python",
   "pygments_lexer": "ipython3",
   "version": "3.9.13"
  }
 },
 "nbformat": 4,
 "nbformat_minor": 4
}
