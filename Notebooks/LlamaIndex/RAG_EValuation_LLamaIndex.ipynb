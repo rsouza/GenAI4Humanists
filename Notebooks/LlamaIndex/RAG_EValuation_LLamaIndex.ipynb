{
 "cells": [
  {
   "cell_type": "markdown",
   "metadata": {
    "application/vnd.databricks.v1+cell": {
     "cellMetadata": {
      "byteLimit": 2048000,
      "rowLimit": 10000
     },
     "inputWidgets": {},
     "nuid": "30a0635d-0c62-49ec-a325-88ce54ba9852",
     "showTitle": false,
     "title": ""
    },
    "id": "b0L5n3kwNdj9"
   },
   "source": [
    "# LLM and RAG Evaluation\n",
    "\n",
    "Sources: [1](https://docs.llamaindex.ai/en/stable/module_guides/evaluating/), [2](https://docs.llamaindex.ai/en/stable/examples/evaluation/faithfulness_eval/)  \n",
    "\n",
    "LLMs are trained on enormous bodies of data but they aren’t trained on your data. Retrieval-Augmented Generation (RAG) solves this problem by adding your data to the data LLMs already have access to. You will see references to RAG frequently in this documentation.  \n",
    "In RAG, your data is loaded and prepared for queries or “indexed”. User queries act on the index, which filters your data down to the most relevant context. This context and your query then go to the LLM along with a prompt, and the LLM provides a response.  \n",
    "Even if what you’re building is a chatbot or an agent, you’ll want to know RAG techniques for getting data into your application.  \n",
    "\n",
    "Evaluation and benchmarking are crucial concepts in LLM development. To improve the performance of an LLM app (RAG, agents), you must have a way to measure it.\n",
    "\n",
    "LlamaIndex offers key modules to measure the quality of generated results. We also offer key modules to measure retrieval quality.\n",
    "\n",
    "## 1.Response Evaluation:  \n",
    "Does the response match the retrieved context? Does it also match the query? Does it match the reference answer or guidelines?\n",
    "\n",
    "## 2. Retrieval Evaluation:  \n",
    "Are the retrieved sources relevant to the query?\n",
    "\n",
    "This section describes how the evaluation components within LlamaIndex work.\n",
    "\n",
    "---  \n",
    "## 1. Response Evaluation\n",
    "\n",
    "Evaluation of generated results can be difficult, since unlike traditional machine learning the predicted result isn't a single number, and it can be hard to define quantitative metrics for this problem. LlamaIndex offers LLM-based evaluation modules to measure the quality of results. This uses a \"gold\" LLM (e.g. GPT-4) to decide whether the predicted answer is correct in a variety of ways. Note that many of these current evaluation modules do not require ground-truth labels. Evaluation can be done with some combination of the query, context, response, and combine these with LLM calls.\n",
    "\n",
    "These evaluation modules are in the following forms:\n",
    "\n",
    "+ #### Correctness: Whether the generated answer matches that of the reference answer given the query (requires labels).\n",
    "+ #### Semantic Similarity Whether the predicted answer is semantically similar to the reference answer (requires labels).\n",
    "+ #### Faithfulness: Evaluates if the answer is faithful to the retrieved contexts (in other words, whether if there's hallucination).\n",
    "+ #### Context Relevancy: Whether retrieved context is relevant to the query.\n",
    "+ #### Answer Relevancy: Whether the generated answer is relevant to the query.\n",
    "+ #### Guideline Adherence: Whether the predicted answer adheres to specific guidelines.\n",
    "\n",
    "+ #### Question Generation: In addition to evaluating queries, LlamaIndex can also use your data to generate questions to evaluate on. This means that you can automatically generate questions, and then run an evaluation pipeline to test if the LLM can actually answer questions accurately using your data.\n",
    "\n",
    "---\n",
    "## 2. Retrieval Evaluation (TBD)\n",
    "\n",
    "We also provide modules to help evaluate retrieval independently.\n",
    "\n",
    "The concept of retrieval evaluation is not new; given a dataset of questions and ground-truth rankings, we can evaluate retrievers using ranking metrics like mean-reciprocal rank (MRR), hit-rate, precision, and more.\n",
    "\n",
    "The core retrieval evaluation steps revolve around the following:\n",
    "\n",
    "+ #### Dataset generation: Given an unstructured text corpus, synthetically generate (question, context) pairs.  \n",
    "+ #### Retrieval Evaluation: Given a retriever and a set of questions, evaluate retrieved results using ranking metrics.  \n",
    "--- "
   ]
  },
  {
   "cell_type": "markdown",
   "metadata": {
    "application/vnd.databricks.v1+cell": {
     "cellMetadata": {
      "byteLimit": 2048000,
      "rowLimit": 10000
     },
     "inputWidgets": {},
     "nuid": "7fabe163-b043-407c-bd24-780e277a0e98",
     "showTitle": false,
     "title": ""
    },
    "id": "HyWM-ThgNdj_"
   },
   "source": [
    "#### Installing Packages"
   ]
  },
  {
   "cell_type": "code",
   "execution_count": 104,
   "metadata": {},
   "outputs": [],
   "source": [
    "import warnings\n",
    "warnings.filterwarnings(\"ignore\")"
   ]
  },
  {
   "cell_type": "code",
   "execution_count": 105,
   "metadata": {
    "application/vnd.databricks.v1+cell": {
     "cellMetadata": {
      "byteLimit": 2048000,
      "rowLimit": 10000
     },
     "inputWidgets": {},
     "nuid": "2c66c693-d00b-4efc-a585-eb95ad7d93eb",
     "showTitle": false,
     "title": "ro"
    },
    "colab": {
     "base_uri": "https://localhost:8080/"
    },
    "executionInfo": {
     "elapsed": 58959,
     "status": "ok",
     "timestamp": 1714120484723,
     "user": {
      "displayName": "Renato Rocha Souza",
      "userId": "08757946413431057160"
     },
     "user_tz": -120
    },
    "id": "1hOqc6qhNdkA",
    "outputId": "85c7a624-7116-4b6b-8d07-0d02fc01a6a0"
   },
   "outputs": [
    {
     "name": "stderr",
     "output_type": "stream",
     "text": [
      "ERROR: pip's dependency resolver does not currently take into account all the packages that are installed. This behaviour is the source of the following dependency conflicts.\n",
      "llama-index 0.12.10 requires llama-index-core<0.13.0,>=0.12.10, but you have llama-index-core 0.11.23 which is incompatible.\n",
      "llama-index 0.12.10 requires llama-index-llms-openai<0.4.0,>=0.3.0, but you have llama-index-llms-openai 0.2.16 which is incompatible.\n",
      "llama-index-retrievers-bm25 0.5.0 requires llama-index-core<0.13.0,>=0.12.0, but you have llama-index-core 0.11.23 which is incompatible.\n",
      "llama-index-readers-wikipedia 0.3.0 requires llama-index-core<0.13.0,>=0.12.0, but you have llama-index-core 0.11.23 which is incompatible.\n",
      "llama-index-readers-llama-parse 0.4.0 requires llama-index-core<0.13.0,>=0.12.0, but you have llama-index-core 0.11.23 which is incompatible.\n",
      "llama-index-readers-file 0.4.0 requires llama-index-core<0.13.0,>=0.12.0, but you have llama-index-core 0.11.23 which is incompatible.\n",
      "llama-index-question-gen-openai 0.3.0 requires llama-index-core<0.13.0,>=0.12.0, but you have llama-index-core 0.11.23 which is incompatible.\n",
      "llama-index-question-gen-openai 0.3.0 requires llama-index-llms-openai<0.4.0,>=0.3.0, but you have llama-index-llms-openai 0.2.16 which is incompatible.\n",
      "llama-index-program-openai 0.3.0 requires llama-index-core<0.13.0,>=0.12.0, but you have llama-index-core 0.11.23 which is incompatible.\n",
      "llama-index-program-openai 0.3.0 requires llama-index-llms-openai<0.4.0,>=0.3.0, but you have llama-index-llms-openai 0.2.16 which is incompatible.\n",
      "llama-index-postprocessor-colbert-rerank 0.3.0 requires llama-index-core<0.13.0,>=0.12.0, but you have llama-index-core 0.11.23 which is incompatible.\n",
      "llama-index-multi-modal-llms-openai 0.4.2 requires llama-index-core<0.13.0,>=0.12.3, but you have llama-index-core 0.11.23 which is incompatible.\n",
      "llama-index-multi-modal-llms-openai 0.4.2 requires llama-index-llms-openai<0.4.0,>=0.3.0, but you have llama-index-llms-openai 0.2.16 which is incompatible.\n",
      "llama-index-llms-ollama 0.4.1 requires llama-index-core<0.13.0,>=0.12.0, but you have llama-index-core 0.11.23 which is incompatible.\n",
      "llama-index-indices-managed-llama-cloud 0.6.2 requires llama-index-core<0.13.0,>=0.12.0, but you have llama-index-core 0.11.23 which is incompatible.\n",
      "llama-index-embeddings-openai 0.3.0 requires llama-index-core<0.13.0,>=0.12.0, but you have llama-index-core 0.11.23 which is incompatible.\n",
      "llama-index-embeddings-instructor 0.3.0 requires llama-index-core<0.13.0,>=0.12.0, but you have llama-index-core 0.11.23 which is incompatible.\n",
      "llama-index-embeddings-huggingface 0.4.0 requires llama-index-core<0.13.0,>=0.12.0, but you have llama-index-core 0.11.23 which is incompatible.\n",
      "llama-index-cli 0.4.0 requires llama-index-core<0.13.0,>=0.12.0, but you have llama-index-core 0.11.23 which is incompatible.\n",
      "llama-index-cli 0.4.0 requires llama-index-llms-openai<0.4.0,>=0.3.0, but you have llama-index-llms-openai 0.2.16 which is incompatible.\n",
      "llama-index-agent-openai 0.4.0 requires llama-index-core<0.13.0,>=0.12.0, but you have llama-index-core 0.11.23 which is incompatible.\n",
      "llama-index-agent-openai 0.4.0 requires llama-index-llms-openai<0.4.0,>=0.3.0, but you have llama-index-llms-openai 0.2.16 which is incompatible.\n",
      "ERROR: pip's dependency resolver does not currently take into account all the packages that are installed. This behaviour is the source of the following dependency conflicts.\n",
      "llama-index-postprocessor-cohere-rerank 0.2.1 requires llama-index-core<0.12.0,>=0.11.0, but you have llama-index-core 0.12.10.post1 which is incompatible.\n",
      "llama-index-llms-mistralai 0.2.7 requires llama-index-core<0.12.0,>=0.11.0, but you have llama-index-core 0.12.10.post1 which is incompatible.\n",
      "llama-index-llms-azure-openai 0.2.2 requires llama-index-core<0.12.0,>=0.11.0, but you have llama-index-core 0.12.10.post1 which is incompatible.\n",
      "llama-index-llms-azure-openai 0.2.2 requires llama-index-llms-openai<0.3.0,>=0.2.1, but you have llama-index-llms-openai 0.3.13 which is incompatible.\n",
      "llama-index-finetuning 0.2.0 requires llama-index-core<0.12.0,>=0.11.0, but you have llama-index-core 0.12.10.post1 which is incompatible.\n",
      "llama-index-finetuning 0.2.0 requires llama-index-llms-openai<0.3.0,>=0.2.0, but you have llama-index-llms-openai 0.3.13 which is incompatible.\n",
      "llama-index-experimental 0.3.1 requires llama-index-core<0.12.0,>=0.11.0, but you have llama-index-core 0.12.10.post1 which is incompatible.\n",
      "llama-index-embeddings-adapter 0.2.2 requires llama-index-core<0.12.0,>=0.11.0, but you have llama-index-core 0.12.10.post1 which is incompatible.\n"
     ]
    }
   ],
   "source": [
    "!pip install -qU openai\n",
    "!pip install -qU llama-index\n",
    "!pip install -qU llama-index-experimental\n",
    "!pip install -qU llama-index-llms-openai"
   ]
  },
  {
   "cell_type": "markdown",
   "metadata": {
    "application/vnd.databricks.v1+cell": {
     "cellMetadata": {
      "byteLimit": 2048000,
      "rowLimit": 10000
     },
     "inputWidgets": {},
     "nuid": "a49d493c-7c36-4a40-8a4d-53c5648b8768",
     "showTitle": false,
     "title": ""
    },
    "id": "SG6gzO4zNdkB"
   },
   "source": [
    "#### Importing Packages"
   ]
  },
  {
   "cell_type": "code",
   "execution_count": 2,
   "metadata": {
    "application/vnd.databricks.v1+cell": {
     "cellMetadata": {
      "byteLimit": 2048000,
      "rowLimit": 10000
     },
     "inputWidgets": {},
     "nuid": "fef0c9a7-a01e-48a6-9e69-b3d9a4fc4dc1",
     "showTitle": false,
     "title": ""
    },
    "executionInfo": {
     "elapsed": 4306,
     "status": "ok",
     "timestamp": 1714120598656,
     "user": {
      "displayName": "Renato Rocha Souza",
      "userId": "08757946413431057160"
     },
     "user_tz": -120
    },
    "id": "2T8UKZJNNdkC"
   },
   "outputs": [],
   "source": [
    "import os\n",
    "import openai\n",
    "\n",
    "#os.environ[\"OPENAI_API_KEY\"] = \"<the key>\"\n",
    "openai.api_key = os.environ[\"OPENAI_API_KEY\"]\n",
    "\n",
    "import sys\n",
    "import shutil\n",
    "import glob\n",
    "from pathlib import Path\n",
    "\n",
    "import warnings\n",
    "warnings.filterwarnings('ignore')\n",
    "\n",
    "import pandas as pd\n",
    "\n",
    "\n",
    "import llama_index\n",
    "\n",
    "## Llamaindex readers\n",
    "from llama_index.core import SimpleDirectoryReader\n",
    "\n",
    "## LlamaIndex Index Types\n",
    "from llama_index.core import ListIndex\n",
    "from llama_index.core import VectorStoreIndex\n",
    "from llama_index.core import TreeIndex\n",
    "from llama_index.core import KeywordTableIndex\n",
    "from llama_index.core import SimpleKeywordTableIndex\n",
    "from llama_index.core import DocumentSummaryIndex\n",
    "from llama_index.core import KnowledgeGraphIndex\n",
    "from llama_index.experimental.query_engine import PandasQueryEngine\n",
    "\n",
    "## LlamaIndex Context Managers\n",
    "from llama_index.core import StorageContext\n",
    "from llama_index.core import load_index_from_storage\n",
    "from llama_index.core.response_synthesizers import get_response_synthesizer\n",
    "from llama_index.core.response_synthesizers import ResponseMode\n",
    "from llama_index.core.schema import Node\n",
    "\n",
    "## LlamaIndex Callbacks\n",
    "from llama_index.core.callbacks import CallbackManager\n",
    "from llama_index.core.callbacks import LlamaDebugHandler"
   ]
  },
  {
   "cell_type": "code",
   "execution_count": 3,
   "metadata": {
    "executionInfo": {
     "elapsed": 266,
     "status": "ok",
     "timestamp": 1714120600612,
     "user": {
      "displayName": "Renato Rocha Souza",
      "userId": "08757946413431057160"
     },
     "user_tz": -120
    },
    "id": "UlTWP4TITXbv"
   },
   "outputs": [],
   "source": [
    "import logging\n",
    "\n",
    "#logging.basicConfig(stream=sys.stdout, level=logging.DEBUG)\n",
    "#logging.getLogger().addHandler(logging.StreamHandler(stream=sys.stdout))"
   ]
  },
  {
   "cell_type": "markdown",
   "metadata": {},
   "source": [
    "#### Defining Models"
   ]
  },
  {
   "cell_type": "code",
   "execution_count": 4,
   "metadata": {},
   "outputs": [],
   "source": [
    "from llama_index.core import Settings\n",
    "from llama_index.llms.openai import OpenAI\n",
    "from llama_index.embeddings.openai import OpenAIEmbedding\n",
    "\n",
    "#model=\"gpt-3.5-turbo\"\n",
    "model=\"gpt-4o-mini\"\n",
    "#model=\"gpt-4o\"\n",
    "\n",
    "Settings.llm = OpenAI(temperature=0, model=model)\n",
    "llm = Settings.llm\n",
    "\n",
    "Settings.embed_model = OpenAIEmbedding(model=\"text-embedding-ada-002\")\n",
    "embed_model = Settings.embed_model"
   ]
  },
  {
   "cell_type": "code",
   "execution_count": 5,
   "metadata": {},
   "outputs": [],
   "source": [
    "import nest_asyncio\n",
    "nest_asyncio.apply()"
   ]
  },
  {
   "cell_type": "markdown",
   "metadata": {},
   "source": [
    "# 1. Response Evaluation"
   ]
  },
  {
   "cell_type": "markdown",
   "metadata": {},
   "source": [
    "## 1.1 Correctness  \n",
    "The CorrectnessEvaluator evaluates the relevance and correctness of a generated answer against a reference answer."
   ]
  },
  {
   "cell_type": "code",
   "execution_count": 6,
   "metadata": {},
   "outputs": [],
   "source": [
    "from llama_index.core.evaluation import CorrectnessEvaluator\n",
    "evaluator = CorrectnessEvaluator(llm=llm)"
   ]
  },
  {
   "cell_type": "code",
   "execution_count": 7,
   "metadata": {},
   "outputs": [],
   "source": [
    "query = (\"Can you explain the theory of relativity proposed by Albert Einstein in detail?\")\n",
    "\n",
    "reference = \"\"\"\n",
    "Certainly! Albert Einstein's theory of relativity consists of two main components: special relativity and general relativity. Special relativity, \n",
    "published in 1905, introduced the concept that the laws of physics are the same for all non-accelerating observers and that the speed of light in a \n",
    "vacuum is a constant, regardless of the motion of the source or observer. It also gave rise to the famous equation E=mc², which relates energy (E) and mass (m).\n",
    "General relativity, published in 1915, extended these ideas to include the effects of gravity. According to general relativity, gravity is not a force between \n",
    "masses, as described by Newton's theory of gravity, but rather the result of the warping of space and time by mass and energy. Massive objects, such as \n",
    "planets and stars, cause a curvature in spacetime, and smaller objects follow curved paths in response to this curvature. This concept is often illustrated \n",
    "using the analogy of a heavy ball placed on a rubber sheet, causing it to create a depression that other objects (representing smaller masses) naturally move \n",
    "towards.\n",
    "In essence, general relativity provided a new understanding of gravity, explaining phenomena like the bending of light by gravity (gravitational lensing) and the precession of the orbit of Mercury. It has been confirmed through numerous experiments and observations and has become a fundamental theory in modern physics.\n",
    "\"\"\"\n",
    "\n",
    "response = \"\"\"\n",
    "Certainly! Albert Einstein's theory of relativity consists of two main components: special relativity and general relativity. Special relativity, \n",
    "published in 1905, introduced the concept that the laws of physics are the same for all non-accelerating observers and that the speed of light in a \n",
    "vacuum is a constant, regardless of the motion of the source or observer. It also gave rise to the famous equation E=mc², which relates energy (E) \n",
    "and mass (m).\n",
    "However, general relativity, published in 1915, extended these ideas to include the effects of magnetism. According to general relativity, \n",
    "gravity is not a force between masses but rather the result of the warping of space and time by magnetic fields generated by massive objects. \n",
    "Massive objects, such as planets and stars, create magnetic fields that cause a curvature in spacetime, and smaller objects follow curved paths \n",
    "in response to this magnetic curvature. This concept is often illustrated using the analogy of a heavy ball placed on a rubber sheet with magnets \n",
    "underneath, causing it to create a depression that other objects (representing smaller masses) naturally move towards due to magnetic attraction.\n",
    "\"\"\""
   ]
  },
  {
   "cell_type": "code",
   "execution_count": 8,
   "metadata": {},
   "outputs": [
    {
     "name": "stdout",
     "output_type": "stream",
     "text": [
      "INFO:httpx:HTTP Request: POST https://api.openai.com/v1/chat/completions \"HTTP/1.1 200 OK\"\n",
      "HTTP Request: POST https://api.openai.com/v1/chat/completions \"HTTP/1.1 200 OK\"\n",
      "2.0\n",
      "The generated answer is relevant to the user query as it discusses the theory of relativity, but it contains significant inaccuracies, particularly in its explanation of general relativity, which incorrectly attributes the warping of spacetime to magnetic fields instead of mass and energy. This misrepresentation affects the correctness of the answer.\n"
     ]
    }
   ],
   "source": [
    "result = evaluator.evaluate(query=query, \n",
    "                            response=response, \n",
    "                            reference=reference,)\n",
    "print(result.score)\n",
    "print(result.feedback)"
   ]
  },
  {
   "cell_type": "markdown",
   "metadata": {},
   "source": [
    "## 1.2 Semantic Similarity  \n",
    "The SemanticSimilarityEvaluator evaluates the quality of a question answering system via semantic similarity.  \n",
    "Concretely, it calculates the similarity score between embeddings of the generated answer and the reference answer.  "
   ]
  },
  {
   "cell_type": "code",
   "execution_count": 9,
   "metadata": {},
   "outputs": [],
   "source": [
    "from llama_index.core.evaluation import SemanticSimilarityEvaluator\n",
    "evaluator = SemanticSimilarityEvaluator()"
   ]
  },
  {
   "cell_type": "code",
   "execution_count": 10,
   "metadata": {},
   "outputs": [
    {
     "name": "stdout",
     "output_type": "stream",
     "text": [
      "INFO:httpx:HTTP Request: POST https://api.openai.com/v1/embeddings \"HTTP/1.1 200 OK\"\n",
      "HTTP Request: POST https://api.openai.com/v1/embeddings \"HTTP/1.1 200 OK\"\n",
      "INFO:httpx:HTTP Request: POST https://api.openai.com/v1/embeddings \"HTTP/1.1 200 OK\"\n",
      "HTTP Request: POST https://api.openai.com/v1/embeddings \"HTTP/1.1 200 OK\"\n",
      "Score:  0.8739485436676929\n",
      "Passing:  True\n"
     ]
    }
   ],
   "source": [
    "# This evaluator only uses `response` and `reference`. The passing in query does not influence the evaluation\n",
    "# query = 'What is the color of the sky'\n",
    "\n",
    "response = \"The sky is typically blue\"\n",
    "\n",
    "reference = \"\"\"The color of the sky can vary depending on several factors, including time of day, weather conditions, \n",
    "and location. During the day, when the sun is in the sky, the sky often appears blue. \n",
    "This is because of a phenomenon called Rayleigh scattering, where molecules and particles in the Earth's atmosphere \n",
    "scatter sunlight in all directions, and blue light is scattered more than other colors because it travels as shorter,\n",
    "smaller waves. This is why we perceive the sky as blue on a clear day.\n",
    "\"\"\"\n",
    "\n",
    "result = await evaluator.aevaluate(response=response, \n",
    "                                   reference=reference,)\n",
    "print(\"Score: \", result.score)\n",
    "print(\"Passing: \", result.passing)  # default similarity threshold is 0.8"
   ]
  },
  {
   "cell_type": "code",
   "execution_count": 11,
   "metadata": {},
   "outputs": [
    {
     "name": "stdout",
     "output_type": "stream",
     "text": [
      "INFO:httpx:HTTP Request: POST https://api.openai.com/v1/embeddings \"HTTP/1.1 200 OK\"\n",
      "HTTP Request: POST https://api.openai.com/v1/embeddings \"HTTP/1.1 200 OK\"\n",
      "INFO:httpx:HTTP Request: POST https://api.openai.com/v1/embeddings \"HTTP/1.1 200 OK\"\n",
      "HTTP Request: POST https://api.openai.com/v1/embeddings \"HTTP/1.1 200 OK\"\n",
      "Score:  0.7216314937446562\n",
      "Passing:  False\n"
     ]
    }
   ],
   "source": [
    "response = \"Sorry, I do not have sufficient context to answer this question.\"\n",
    "\n",
    "reference = \"\"\"The color of the sky can vary depending on several factors, including time of day, weather conditions, \n",
    "and location. During the day, when the sun is in the sky, the sky often appears blue. \n",
    "This is because of a phenomenon called Rayleigh scattering, where molecules and particles in the Earth's atmosphere \n",
    "scatter sunlight in all directions, and blue light is scattered more than other colors because it travels as shorter,\n",
    "smaller waves. This is why we perceive the sky as blue on a clear day.\n",
    "\"\"\"\n",
    "\n",
    "result = await evaluator.aevaluate(response=response, reference=reference,)\n",
    "print(\"Score: \", result.score)\n",
    "print(\"Passing: \", result.passing)  # default similarity threshold is 0.8"
   ]
  },
  {
   "cell_type": "markdown",
   "metadata": {},
   "source": [
    "### Customization of matching function and threshold:"
   ]
  },
  {
   "cell_type": "code",
   "execution_count": 13,
   "metadata": {},
   "outputs": [],
   "source": [
    "from llama_index.core.embeddings import resolve_embed_model\n",
    "evaluator = SemanticSimilarityEvaluator(embed_model=embed_model, \n",
    "                                        similarity_threshold=0.6,)"
   ]
  },
  {
   "cell_type": "code",
   "execution_count": 14,
   "metadata": {},
   "outputs": [
    {
     "name": "stdout",
     "output_type": "stream",
     "text": [
      "INFO:httpx:HTTP Request: POST https://api.openai.com/v1/embeddings \"HTTP/1.1 200 OK\"\n",
      "HTTP Request: POST https://api.openai.com/v1/embeddings \"HTTP/1.1 200 OK\"\n",
      "INFO:httpx:HTTP Request: POST https://api.openai.com/v1/embeddings \"HTTP/1.1 200 OK\"\n",
      "HTTP Request: POST https://api.openai.com/v1/embeddings \"HTTP/1.1 200 OK\"\n",
      "Score:  0.9405787817542284\n",
      "Passing:  True\n"
     ]
    }
   ],
   "source": [
    "response = \"The sky is yellow.\"\n",
    "reference = \"The sky is blue.\"\n",
    "\n",
    "result = await evaluator.aevaluate(response=response, reference=reference,)\n",
    "print(\"Score: \", result.score)\n",
    "print(\"Passing: \", result.passing)"
   ]
  },
  {
   "cell_type": "markdown",
   "metadata": {},
   "source": [
    "We note here that a high score does not imply the answer is always correct.   \n",
    "Embedding similarity primarily captures the notion of \"relevancy\". \n",
    "\n",
    "Since both the response and reference discuss \"the sky\" and colors, they are semantically similar."
   ]
  },
  {
   "cell_type": "markdown",
   "metadata": {},
   "source": [
    "## 1.3 Faithfulness"
   ]
  },
  {
   "cell_type": "markdown",
   "metadata": {},
   "source": [
    "The `FaithfulnessEvaluator` module measures if the response from a query engine matches any source nodes.  \n",
    "This is useful for measuring if the response was hallucinated.  "
   ]
  },
  {
   "cell_type": "code",
   "execution_count": 20,
   "metadata": {},
   "outputs": [],
   "source": [
    "from llama_index.core import VectorStoreIndex\n",
    "from llama_index.core import SimpleDirectoryReader\n",
    "from llama_index.core import Response\n",
    "\n",
    "from llama_index.core.evaluation import FaithfulnessEvaluator\n",
    "from llama_index.core.evaluation import EvaluationResult\n",
    "from llama_index.core.node_parser import SentenceSplitter\n",
    "import pandas as pd\n",
    "\n",
    "pd.set_option(\"display.max_colwidth\", 0)"
   ]
  },
  {
   "cell_type": "markdown",
   "metadata": {},
   "source": [
    "#### The data is extracted from the [New York City](https://en.wikipedia.org/wiki/New_York_City) wikipedia page."
   ]
  },
  {
   "cell_type": "code",
   "execution_count": 22,
   "metadata": {},
   "outputs": [
    {
     "name": "stdout",
     "output_type": "stream",
     "text": [
      "INFO:httpx:HTTP Request: POST https://api.openai.com/v1/embeddings \"HTTP/1.1 200 OK\"\n",
      "HTTP Request: POST https://api.openai.com/v1/embeddings \"HTTP/1.1 200 OK\"\n"
     ]
    }
   ],
   "source": [
    "documents = SimpleDirectoryReader(input_files=[\"../../Data/nyc_text.txt\"]).load_data()\n",
    "splitter = SentenceSplitter(chunk_size=512)\n",
    "vector_index = VectorStoreIndex.from_documents(documents, transformations=[splitter])"
   ]
  },
  {
   "cell_type": "markdown",
   "metadata": {},
   "source": [
    "#### Defining a jupyter display function"
   ]
  },
  {
   "cell_type": "code",
   "execution_count": 23,
   "metadata": {},
   "outputs": [],
   "source": [
    "def display_eval_df(response: Response, eval_result: EvaluationResult) -> None:\n",
    "    if response.source_nodes == []:\n",
    "        print(\"no response!\")\n",
    "        return\n",
    "    eval_df = pd.DataFrame(\n",
    "        {\n",
    "            \"Response\": str(response),\n",
    "            \"Source\": response.source_nodes[0].node.text[:1000] + \"...\",\n",
    "            \"Evaluation Result\": \"Pass\" if eval_result.passing else \"Fail\",\n",
    "            \"Reasoning\": eval_result.feedback,\n",
    "        },\n",
    "        index=[0],\n",
    "    )\n",
    "    eval_df = eval_df.style.set_properties(\n",
    "        **{\n",
    "            \"inline-size\": \"600px\",\n",
    "            \"overflow-wrap\": \"break-word\",\n",
    "        },\n",
    "        subset=[\"Response\", \"Source\"]\n",
    "    )\n",
    "    display(eval_df)"
   ]
  },
  {
   "cell_type": "markdown",
   "metadata": {},
   "source": [
    "To run evaluations you can call the `.evaluate_response()` function on the `Response` object return from the query to run the evaluations.  \n",
    "Lets evaluate the outputs of the vector_index."
   ]
  },
  {
   "cell_type": "code",
   "execution_count": 21,
   "metadata": {},
   "outputs": [],
   "source": [
    "evaluator = FaithfulnessEvaluator(llm=llm)"
   ]
  },
  {
   "cell_type": "code",
   "execution_count": 37,
   "metadata": {},
   "outputs": [
    {
     "name": "stdout",
     "output_type": "stream",
     "text": [
      "INFO:httpx:HTTP Request: POST https://api.openai.com/v1/embeddings \"HTTP/1.1 200 OK\"\n",
      "HTTP Request: POST https://api.openai.com/v1/embeddings \"HTTP/1.1 200 OK\"\n",
      "INFO:httpx:HTTP Request: POST https://api.openai.com/v1/chat/completions \"HTTP/1.1 200 OK\"\n",
      "HTTP Request: POST https://api.openai.com/v1/chat/completions \"HTTP/1.1 200 OK\"\n",
      "INFO:httpx:HTTP Request: POST https://api.openai.com/v1/chat/completions \"HTTP/1.1 200 OK\"\n",
      "HTTP Request: POST https://api.openai.com/v1/chat/completions \"HTTP/1.1 200 OK\"\n"
     ]
    },
    {
     "data": {
      "text/html": [
       "<style type=\"text/css\">\n",
       "#T_5689f_row0_col0, #T_5689f_row0_col1 {\n",
       "  inline-size: 600px;\n",
       "  overflow-wrap: break-word;\n",
       "}\n",
       "</style>\n",
       "<table id=\"T_5689f\">\n",
       "  <thead>\n",
       "    <tr>\n",
       "      <th class=\"blank level0\" >&nbsp;</th>\n",
       "      <th id=\"T_5689f_level0_col0\" class=\"col_heading level0 col0\" >Response</th>\n",
       "      <th id=\"T_5689f_level0_col1\" class=\"col_heading level0 col1\" >Source</th>\n",
       "      <th id=\"T_5689f_level0_col2\" class=\"col_heading level0 col2\" >Evaluation Result</th>\n",
       "      <th id=\"T_5689f_level0_col3\" class=\"col_heading level0 col3\" >Reasoning</th>\n",
       "    </tr>\n",
       "  </thead>\n",
       "  <tbody>\n",
       "    <tr>\n",
       "      <th id=\"T_5689f_level0_row0\" class=\"row_heading level0 row0\" >0</th>\n",
       "      <td id=\"T_5689f_row0_col0\" class=\"data row0 col0\" >New York City was named in honor of the Duke of York, who would later become King James II of England. The name was given in 1664 when England seized the territory from Dutch control, and the Duke was appointed as the proprietor of the former territory of New Netherland, which included the city of New Amsterdam.</td>\n",
       "      <td id=\"T_5689f_row0_col1\" class=\"data row0 col1\" >The city came under British control in 1664 and was renamed New York after King Charles II of England granted the lands to his brother, the Duke of York. The city was regained by the Dutch in July 1673 and was renamed New Orange for one year and three months; the city has been continuously named New York since November 1674. New York City was the capital of the United States from 1785 until 1790, and has been the largest U.S. city since 1790. The Statue of Liberty greeted millions of immigrants as they came to the U.S. by ship in the late 19th and early 20th centuries, and is a symbol of the U.S. and its ideals of liberty and peace. In the 21st century, New York City has emerged as a global node of creativity, entrepreneurship, and as a symbol of freedom and cultural diversity. The New York Times has won the most Pulitzer Prizes for journalism and remains the U.S. media's \"newspaper of record\". In 2019, New York City was voted the greatest city in the world in a survey of over 30,000 p...</td>\n",
       "      <td id=\"T_5689f_row0_col2\" class=\"data row0 col2\" >Pass</td>\n",
       "      <td id=\"T_5689f_row0_col3\" class=\"data row0 col3\" >YES</td>\n",
       "    </tr>\n",
       "  </tbody>\n",
       "</table>\n"
      ],
      "text/plain": [
       "<pandas.io.formats.style.Styler at 0x1a6342598b0>"
      ]
     },
     "metadata": {},
     "output_type": "display_data"
    }
   ],
   "source": [
    "query_engine = vector_index.as_query_engine()\n",
    "response_vector = query_engine.query(\"How did New York City get its name?\")\n",
    "eval_result = evaluator.evaluate_response(response=response_vector)\n",
    "display_eval_df(response_vector, eval_result)"
   ]
  },
  {
   "cell_type": "markdown",
   "metadata": {},
   "source": [
    "#### Benchmark on Generated Questions\n",
    "\n",
    "Now lets generate a few more questions so that we have more to evaluate with and run a small benchmark."
   ]
  },
  {
   "cell_type": "code",
   "execution_count": 25,
   "metadata": {},
   "outputs": [
    {
     "name": "stdout",
     "output_type": "stream",
     "text": [
      "INFO:httpx:HTTP Request: POST https://api.openai.com/v1/chat/completions \"HTTP/1.1 200 OK\"\n",
      "HTTP Request: POST https://api.openai.com/v1/chat/completions \"HTTP/1.1 200 OK\"\n",
      "INFO:httpx:HTTP Request: POST https://api.openai.com/v1/chat/completions \"HTTP/1.1 200 OK\"\n",
      "HTTP Request: POST https://api.openai.com/v1/chat/completions \"HTTP/1.1 200 OK\"\n",
      "INFO:httpx:HTTP Request: POST https://api.openai.com/v1/chat/completions \"HTTP/1.1 200 OK\"\n",
      "HTTP Request: POST https://api.openai.com/v1/chat/completions \"HTTP/1.1 200 OK\"\n",
      "INFO:httpx:HTTP Request: POST https://api.openai.com/v1/chat/completions \"HTTP/1.1 200 OK\"\n",
      "HTTP Request: POST https://api.openai.com/v1/chat/completions \"HTTP/1.1 200 OK\"\n",
      "INFO:httpx:HTTP Request: POST https://api.openai.com/v1/chat/completions \"HTTP/1.1 200 OK\"\n",
      "HTTP Request: POST https://api.openai.com/v1/chat/completions \"HTTP/1.1 200 OK\"\n",
      "INFO:httpx:HTTP Request: POST https://api.openai.com/v1/chat/completions \"HTTP/1.1 200 OK\"\n",
      "HTTP Request: POST https://api.openai.com/v1/chat/completions \"HTTP/1.1 200 OK\"\n",
      "INFO:httpx:HTTP Request: POST https://api.openai.com/v1/chat/completions \"HTTP/1.1 200 OK\"\n",
      "HTTP Request: POST https://api.openai.com/v1/chat/completions \"HTTP/1.1 200 OK\"\n",
      "INFO:httpx:HTTP Request: POST https://api.openai.com/v1/chat/completions \"HTTP/1.1 200 OK\"\n",
      "HTTP Request: POST https://api.openai.com/v1/chat/completions \"HTTP/1.1 200 OK\"\n",
      "INFO:httpx:HTTP Request: POST https://api.openai.com/v1/chat/completions \"HTTP/1.1 200 OK\"\n",
      "HTTP Request: POST https://api.openai.com/v1/chat/completions \"HTTP/1.1 200 OK\"\n",
      "INFO:httpx:HTTP Request: POST https://api.openai.com/v1/chat/completions \"HTTP/1.1 200 OK\"\n",
      "HTTP Request: POST https://api.openai.com/v1/chat/completions \"HTTP/1.1 200 OK\"\n",
      "INFO:httpx:HTTP Request: POST https://api.openai.com/v1/chat/completions \"HTTP/1.1 200 OK\"\n",
      "HTTP Request: POST https://api.openai.com/v1/chat/completions \"HTTP/1.1 200 OK\"\n",
      "INFO:httpx:HTTP Request: POST https://api.openai.com/v1/chat/completions \"HTTP/1.1 200 OK\"\n",
      "HTTP Request: POST https://api.openai.com/v1/chat/completions \"HTTP/1.1 200 OK\"\n",
      "INFO:httpx:HTTP Request: POST https://api.openai.com/v1/chat/completions \"HTTP/1.1 200 OK\"\n",
      "HTTP Request: POST https://api.openai.com/v1/chat/completions \"HTTP/1.1 200 OK\"\n",
      "INFO:httpx:HTTP Request: POST https://api.openai.com/v1/chat/completions \"HTTP/1.1 200 OK\"\n",
      "HTTP Request: POST https://api.openai.com/v1/chat/completions \"HTTP/1.1 200 OK\"\n",
      "INFO:httpx:HTTP Request: POST https://api.openai.com/v1/chat/completions \"HTTP/1.1 200 OK\"\n",
      "HTTP Request: POST https://api.openai.com/v1/chat/completions \"HTTP/1.1 200 OK\"\n",
      "INFO:httpx:HTTP Request: POST https://api.openai.com/v1/chat/completions \"HTTP/1.1 200 OK\"\n",
      "HTTP Request: POST https://api.openai.com/v1/chat/completions \"HTTP/1.1 200 OK\"\n",
      "INFO:httpx:HTTP Request: POST https://api.openai.com/v1/chat/completions \"HTTP/1.1 200 OK\"\n",
      "HTTP Request: POST https://api.openai.com/v1/chat/completions \"HTTP/1.1 200 OK\"\n",
      "INFO:httpx:HTTP Request: POST https://api.openai.com/v1/chat/completions \"HTTP/1.1 200 OK\"\n",
      "HTTP Request: POST https://api.openai.com/v1/chat/completions \"HTTP/1.1 200 OK\"\n",
      "INFO:httpx:HTTP Request: POST https://api.openai.com/v1/chat/completions \"HTTP/1.1 200 OK\"\n",
      "HTTP Request: POST https://api.openai.com/v1/chat/completions \"HTTP/1.1 200 OK\"\n",
      "INFO:httpx:HTTP Request: POST https://api.openai.com/v1/chat/completions \"HTTP/1.1 200 OK\"\n",
      "HTTP Request: POST https://api.openai.com/v1/chat/completions \"HTTP/1.1 200 OK\"\n",
      "INFO:httpx:HTTP Request: POST https://api.openai.com/v1/chat/completions \"HTTP/1.1 200 OK\"\n",
      "HTTP Request: POST https://api.openai.com/v1/chat/completions \"HTTP/1.1 200 OK\"\n",
      "INFO:httpx:HTTP Request: POST https://api.openai.com/v1/chat/completions \"HTTP/1.1 200 OK\"\n",
      "HTTP Request: POST https://api.openai.com/v1/chat/completions \"HTTP/1.1 200 OK\"\n",
      "INFO:httpx:HTTP Request: POST https://api.openai.com/v1/chat/completions \"HTTP/1.1 200 OK\"\n",
      "HTTP Request: POST https://api.openai.com/v1/chat/completions \"HTTP/1.1 200 OK\"\n",
      "INFO:httpx:HTTP Request: POST https://api.openai.com/v1/chat/completions \"HTTP/1.1 200 OK\"\n",
      "HTTP Request: POST https://api.openai.com/v1/chat/completions \"HTTP/1.1 200 OK\"\n",
      "INFO:httpx:HTTP Request: POST https://api.openai.com/v1/chat/completions \"HTTP/1.1 200 OK\"\n",
      "HTTP Request: POST https://api.openai.com/v1/chat/completions \"HTTP/1.1 200 OK\"\n",
      "INFO:httpx:HTTP Request: POST https://api.openai.com/v1/chat/completions \"HTTP/1.1 200 OK\"\n",
      "HTTP Request: POST https://api.openai.com/v1/chat/completions \"HTTP/1.1 200 OK\"\n",
      "INFO:httpx:HTTP Request: POST https://api.openai.com/v1/chat/completions \"HTTP/1.1 200 OK\"\n",
      "HTTP Request: POST https://api.openai.com/v1/chat/completions \"HTTP/1.1 200 OK\"\n",
      "INFO:httpx:HTTP Request: POST https://api.openai.com/v1/chat/completions \"HTTP/1.1 200 OK\"\n",
      "HTTP Request: POST https://api.openai.com/v1/chat/completions \"HTTP/1.1 200 OK\"\n",
      "INFO:httpx:HTTP Request: POST https://api.openai.com/v1/chat/completions \"HTTP/1.1 200 OK\"\n",
      "HTTP Request: POST https://api.openai.com/v1/chat/completions \"HTTP/1.1 200 OK\"\n",
      "INFO:httpx:HTTP Request: POST https://api.openai.com/v1/chat/completions \"HTTP/1.1 200 OK\"\n",
      "HTTP Request: POST https://api.openai.com/v1/chat/completions \"HTTP/1.1 200 OK\"\n",
      "INFO:httpx:HTTP Request: POST https://api.openai.com/v1/chat/completions \"HTTP/1.1 200 OK\"\n",
      "HTTP Request: POST https://api.openai.com/v1/chat/completions \"HTTP/1.1 200 OK\"\n",
      "INFO:httpx:HTTP Request: POST https://api.openai.com/v1/chat/completions \"HTTP/1.1 200 OK\"\n",
      "HTTP Request: POST https://api.openai.com/v1/chat/completions \"HTTP/1.1 200 OK\"\n",
      "INFO:httpx:HTTP Request: POST https://api.openai.com/v1/chat/completions \"HTTP/1.1 200 OK\"\n",
      "HTTP Request: POST https://api.openai.com/v1/chat/completions \"HTTP/1.1 200 OK\"\n",
      "INFO:httpx:HTTP Request: POST https://api.openai.com/v1/chat/completions \"HTTP/1.1 200 OK\"\n",
      "HTTP Request: POST https://api.openai.com/v1/chat/completions \"HTTP/1.1 200 OK\"\n",
      "INFO:httpx:HTTP Request: POST https://api.openai.com/v1/chat/completions \"HTTP/1.1 200 OK\"\n",
      "HTTP Request: POST https://api.openai.com/v1/chat/completions \"HTTP/1.1 200 OK\"\n"
     ]
    }
   ],
   "source": [
    "#from llama_index.core.evaluation import DatasetGenerator\n",
    "from llama_index.core.llama_dataset.generator import RagDatasetGenerator\n",
    "\n",
    "#question_generator = DatasetGenerator.from_documents(documents)\n",
    "question_generator = RagDatasetGenerator.from_documents(documents)\n",
    "eval_questions = question_generator.generate_questions_from_nodes()"
   ]
  },
  {
   "cell_type": "code",
   "execution_count": 26,
   "metadata": {},
   "outputs": [
    {
     "data": {
      "text/html": [
       "<div>\n",
       "<style scoped>\n",
       "    .dataframe tbody tr th:only-of-type {\n",
       "        vertical-align: middle;\n",
       "    }\n",
       "\n",
       "    .dataframe tbody tr th {\n",
       "        vertical-align: top;\n",
       "    }\n",
       "\n",
       "    .dataframe thead th {\n",
       "        text-align: right;\n",
       "    }\n",
       "</style>\n",
       "<table border=\"1\" class=\"dataframe\">\n",
       "  <thead>\n",
       "    <tr style=\"text-align: right;\">\n",
       "      <th></th>\n",
       "      <th>query</th>\n",
       "      <th>reference_contexts</th>\n",
       "      <th>reference_answer</th>\n",
       "      <th>reference_answer_by</th>\n",
       "      <th>query_by</th>\n",
       "    </tr>\n",
       "  </thead>\n",
       "  <tbody>\n",
       "    <tr>\n",
       "      <th>0</th>\n",
       "      <td>What are the five boroughs of New York City, and how are they related to the counties of New York State?</td>\n",
       "      <td>[New York, often called New York City or NYC, is the most populous city in the United States. With a 2020 population of 8,804,190 distributed over 300.46 square miles (778.2 km2), New York City is the most densely populated major city in the United States and more than twice as populous as Los Angeles, the nation's second-largest city. New York City is located at the southern tip of New York State. It constitutes the geographical and demographic center of both the Northeast megalopolis and the New York metropolitan area, the largest metropolitan area in the U.S. by both population and urban area. With over 20.1 million people in its metropolitan statistical area and 23.5 million in its combined statistical area as of 2020, New York is one of the world's most populous megacities, and over 58 million people live within 250 mi (400 km) of the city. New York City is a global cultural, financial, entertainment, and media center with a significant influence on commerce, health care and life sciences, research, technology, education, politics, tourism, dining, art, fashion, and sports. Home to the headquarters of the United Nations, New York is an important center for international diplomacy, and is sometimes described as the capital of the world.Situated on one of the world's largest natural harbors and extending into the Atlantic Ocean, New York City comprises five boroughs, each of which is coextensive with a respective county of the state of New York. The five boroughs, which were created in 1898 when local governments were consolidated into a single municipal entity, are: Brooklyn (in Kings County), Queens (in Queens County), Manhattan (in New York County), The Bronx (in Bronx County), and Staten Island (in Richmond County).As of 2021, the New York metropolitan area is the largest metropolitan economy in the world with a gross metropolitan product of over $2.4 trillion. If the New York metropolitan area were a sovereign state, it would have the eighth-largest economy in the world. New York City is an established safe haven for global investors. New York is home to the highest number of billionaires, individuals of ultra-high net worth (greater than US$30 million), and millionaires of any city in the world.\\r\\nThe city and its metropolitan area constitute the premier gateway for legal immigration to the United States. As many as 800 languages are spoken in New York, making it the most linguistically diverse city in the world. New York City is home to more than 3.2 million residents born outside the U.S., the largest foreign-born population of any city in the world as of 2016.New York City traces its origins to a trading post founded on the southern tip of Manhattan Island by Dutch colonists in approximately 1624. The settlement was named New Amsterdam (Dutch: Nieuw Amsterdam) in 1626 and was chartered as a city in 1653. The city came under British control in 1664 and was renamed New York after King Charles II of England granted the lands to his brother, the Duke of York. The city was regained by the Dutch in July 1673 and was renamed New Orange for one year and three months; the city has been continuously named New York since November 1674. New York City was the capital of the United States from 1785 until 1790, and has been the largest U.S. city since 1790. The Statue of Liberty greeted millions of immigrants as they came to the U.S. by ship in the late 19th and early 20th centuries, and is a symbol of the U.S. and its ideals of liberty and peace. In the 21st century, New York City has emerged as a global node of creativity, entrepreneurship, and as a symbol of freedom and cultural diversity. The New York Times has won the most Pulitzer Prizes for journalism and remains the U.S. media's \"newspaper of record\". In 2019, New York City was voted the greatest city in the world in a survey of over 30,000 people from 48 cities worldwide, citing its cultural diversity.Many districts and monuments in New York City are major landmarks, including three of the world's ten most visited tourist attractions in 2013. A record 66.6 million tourists visited New York City in 2019. Times Square is the brightly illuminated hub of the Broadway Theater District, one of the world's busiest pedestrian intersections and a major center of the world's entertainment industry. Many of the city's landmarks, skyscrapers, and parks are known around the world, and the city's fast pace led to the phrase New York minute.]</td>\n",
       "      <td></td>\n",
       "      <td>None</td>\n",
       "      <td>ai (gpt-4o-mini)</td>\n",
       "    </tr>\n",
       "    <tr>\n",
       "      <th>1</th>\n",
       "      <td>Discuss the historical significance of the Statue of Liberty in relation to immigration in the United States.</td>\n",
       "      <td>[New York, often called New York City or NYC, is the most populous city in the United States. With a 2020 population of 8,804,190 distributed over 300.46 square miles (778.2 km2), New York City is the most densely populated major city in the United States and more than twice as populous as Los Angeles, the nation's second-largest city. New York City is located at the southern tip of New York State. It constitutes the geographical and demographic center of both the Northeast megalopolis and the New York metropolitan area, the largest metropolitan area in the U.S. by both population and urban area. With over 20.1 million people in its metropolitan statistical area and 23.5 million in its combined statistical area as of 2020, New York is one of the world's most populous megacities, and over 58 million people live within 250 mi (400 km) of the city. New York City is a global cultural, financial, entertainment, and media center with a significant influence on commerce, health care and life sciences, research, technology, education, politics, tourism, dining, art, fashion, and sports. Home to the headquarters of the United Nations, New York is an important center for international diplomacy, and is sometimes described as the capital of the world.Situated on one of the world's largest natural harbors and extending into the Atlantic Ocean, New York City comprises five boroughs, each of which is coextensive with a respective county of the state of New York. The five boroughs, which were created in 1898 when local governments were consolidated into a single municipal entity, are: Brooklyn (in Kings County), Queens (in Queens County), Manhattan (in New York County), The Bronx (in Bronx County), and Staten Island (in Richmond County).As of 2021, the New York metropolitan area is the largest metropolitan economy in the world with a gross metropolitan product of over $2.4 trillion. If the New York metropolitan area were a sovereign state, it would have the eighth-largest economy in the world. New York City is an established safe haven for global investors. New York is home to the highest number of billionaires, individuals of ultra-high net worth (greater than US$30 million), and millionaires of any city in the world.\\r\\nThe city and its metropolitan area constitute the premier gateway for legal immigration to the United States. As many as 800 languages are spoken in New York, making it the most linguistically diverse city in the world. New York City is home to more than 3.2 million residents born outside the U.S., the largest foreign-born population of any city in the world as of 2016.New York City traces its origins to a trading post founded on the southern tip of Manhattan Island by Dutch colonists in approximately 1624. The settlement was named New Amsterdam (Dutch: Nieuw Amsterdam) in 1626 and was chartered as a city in 1653. The city came under British control in 1664 and was renamed New York after King Charles II of England granted the lands to his brother, the Duke of York. The city was regained by the Dutch in July 1673 and was renamed New Orange for one year and three months; the city has been continuously named New York since November 1674. New York City was the capital of the United States from 1785 until 1790, and has been the largest U.S. city since 1790. The Statue of Liberty greeted millions of immigrants as they came to the U.S. by ship in the late 19th and early 20th centuries, and is a symbol of the U.S. and its ideals of liberty and peace. In the 21st century, New York City has emerged as a global node of creativity, entrepreneurship, and as a symbol of freedom and cultural diversity. The New York Times has won the most Pulitzer Prizes for journalism and remains the U.S. media's \"newspaper of record\". In 2019, New York City was voted the greatest city in the world in a survey of over 30,000 people from 48 cities worldwide, citing its cultural diversity.Many districts and monuments in New York City are major landmarks, including three of the world's ten most visited tourist attractions in 2013. A record 66.6 million tourists visited New York City in 2019. Times Square is the brightly illuminated hub of the Broadway Theater District, one of the world's busiest pedestrian intersections and a major center of the world's entertainment industry. Many of the city's landmarks, skyscrapers, and parks are known around the world, and the city's fast pace led to the phrase New York minute.]</td>\n",
       "      <td></td>\n",
       "      <td>None</td>\n",
       "      <td>ai (gpt-4o-mini)</td>\n",
       "    </tr>\n",
       "  </tbody>\n",
       "</table>\n",
       "</div>"
      ],
      "text/plain": [
       "                                                                                                           query  \\\n",
       "0  What are the five boroughs of New York City, and how are they related to the counties of New York State?        \n",
       "1  Discuss the historical significance of the Statue of Liberty in relation to immigration in the United States.   \n",
       "\n",
       "                                                                                                                                                                                                                                                                                                                                                                                                                                                                                                                                                                                                                                                                                                                                                                                                                                                                                                                                                                                                                                                                                                                                                                                                                                                                                                                                                                                                                                                                                                                                                                                                                                                                                                                                                                                                                                                                                                                                                                                                                                                                                                                                                                                                                                                                                                                                                                                                                                                                                                                                                                                                                                                                                                                                                                                                                                                                                                                                                                                                                                                                                                                                                                                                                                                                                                                                                                                                                                                                                                                                                                                                                                                                                                                                                                                                                                                                                                                                                                                                                                                                                                                                                                                                                                                                                                                                                                                                                                                                                                                                                                                                                                    reference_contexts  \\\n",
       "0  [New York, often called New York City or NYC, is the most populous city in the United States. With a 2020 population of 8,804,190 distributed over 300.46 square miles (778.2 km2), New York City is the most densely populated major city in the United States and more than twice as populous as Los Angeles, the nation's second-largest city. New York City is located at the southern tip of New York State. It constitutes the geographical and demographic center of both the Northeast megalopolis and the New York metropolitan area, the largest metropolitan area in the U.S. by both population and urban area. With over 20.1 million people in its metropolitan statistical area and 23.5 million in its combined statistical area as of 2020, New York is one of the world's most populous megacities, and over 58 million people live within 250 mi (400 km) of the city. New York City is a global cultural, financial, entertainment, and media center with a significant influence on commerce, health care and life sciences, research, technology, education, politics, tourism, dining, art, fashion, and sports. Home to the headquarters of the United Nations, New York is an important center for international diplomacy, and is sometimes described as the capital of the world.Situated on one of the world's largest natural harbors and extending into the Atlantic Ocean, New York City comprises five boroughs, each of which is coextensive with a respective county of the state of New York. The five boroughs, which were created in 1898 when local governments were consolidated into a single municipal entity, are: Brooklyn (in Kings County), Queens (in Queens County), Manhattan (in New York County), The Bronx (in Bronx County), and Staten Island (in Richmond County).As of 2021, the New York metropolitan area is the largest metropolitan economy in the world with a gross metropolitan product of over $2.4 trillion. If the New York metropolitan area were a sovereign state, it would have the eighth-largest economy in the world. New York City is an established safe haven for global investors. New York is home to the highest number of billionaires, individuals of ultra-high net worth (greater than US$30 million), and millionaires of any city in the world.\\r\\nThe city and its metropolitan area constitute the premier gateway for legal immigration to the United States. As many as 800 languages are spoken in New York, making it the most linguistically diverse city in the world. New York City is home to more than 3.2 million residents born outside the U.S., the largest foreign-born population of any city in the world as of 2016.New York City traces its origins to a trading post founded on the southern tip of Manhattan Island by Dutch colonists in approximately 1624. The settlement was named New Amsterdam (Dutch: Nieuw Amsterdam) in 1626 and was chartered as a city in 1653. The city came under British control in 1664 and was renamed New York after King Charles II of England granted the lands to his brother, the Duke of York. The city was regained by the Dutch in July 1673 and was renamed New Orange for one year and three months; the city has been continuously named New York since November 1674. New York City was the capital of the United States from 1785 until 1790, and has been the largest U.S. city since 1790. The Statue of Liberty greeted millions of immigrants as they came to the U.S. by ship in the late 19th and early 20th centuries, and is a symbol of the U.S. and its ideals of liberty and peace. In the 21st century, New York City has emerged as a global node of creativity, entrepreneurship, and as a symbol of freedom and cultural diversity. The New York Times has won the most Pulitzer Prizes for journalism and remains the U.S. media's \"newspaper of record\". In 2019, New York City was voted the greatest city in the world in a survey of over 30,000 people from 48 cities worldwide, citing its cultural diversity.Many districts and monuments in New York City are major landmarks, including three of the world's ten most visited tourist attractions in 2013. A record 66.6 million tourists visited New York City in 2019. Times Square is the brightly illuminated hub of the Broadway Theater District, one of the world's busiest pedestrian intersections and a major center of the world's entertainment industry. Many of the city's landmarks, skyscrapers, and parks are known around the world, and the city's fast pace led to the phrase New York minute.]   \n",
       "1  [New York, often called New York City or NYC, is the most populous city in the United States. With a 2020 population of 8,804,190 distributed over 300.46 square miles (778.2 km2), New York City is the most densely populated major city in the United States and more than twice as populous as Los Angeles, the nation's second-largest city. New York City is located at the southern tip of New York State. It constitutes the geographical and demographic center of both the Northeast megalopolis and the New York metropolitan area, the largest metropolitan area in the U.S. by both population and urban area. With over 20.1 million people in its metropolitan statistical area and 23.5 million in its combined statistical area as of 2020, New York is one of the world's most populous megacities, and over 58 million people live within 250 mi (400 km) of the city. New York City is a global cultural, financial, entertainment, and media center with a significant influence on commerce, health care and life sciences, research, technology, education, politics, tourism, dining, art, fashion, and sports. Home to the headquarters of the United Nations, New York is an important center for international diplomacy, and is sometimes described as the capital of the world.Situated on one of the world's largest natural harbors and extending into the Atlantic Ocean, New York City comprises five boroughs, each of which is coextensive with a respective county of the state of New York. The five boroughs, which were created in 1898 when local governments were consolidated into a single municipal entity, are: Brooklyn (in Kings County), Queens (in Queens County), Manhattan (in New York County), The Bronx (in Bronx County), and Staten Island (in Richmond County).As of 2021, the New York metropolitan area is the largest metropolitan economy in the world with a gross metropolitan product of over $2.4 trillion. If the New York metropolitan area were a sovereign state, it would have the eighth-largest economy in the world. New York City is an established safe haven for global investors. New York is home to the highest number of billionaires, individuals of ultra-high net worth (greater than US$30 million), and millionaires of any city in the world.\\r\\nThe city and its metropolitan area constitute the premier gateway for legal immigration to the United States. As many as 800 languages are spoken in New York, making it the most linguistically diverse city in the world. New York City is home to more than 3.2 million residents born outside the U.S., the largest foreign-born population of any city in the world as of 2016.New York City traces its origins to a trading post founded on the southern tip of Manhattan Island by Dutch colonists in approximately 1624. The settlement was named New Amsterdam (Dutch: Nieuw Amsterdam) in 1626 and was chartered as a city in 1653. The city came under British control in 1664 and was renamed New York after King Charles II of England granted the lands to his brother, the Duke of York. The city was regained by the Dutch in July 1673 and was renamed New Orange for one year and three months; the city has been continuously named New York since November 1674. New York City was the capital of the United States from 1785 until 1790, and has been the largest U.S. city since 1790. The Statue of Liberty greeted millions of immigrants as they came to the U.S. by ship in the late 19th and early 20th centuries, and is a symbol of the U.S. and its ideals of liberty and peace. In the 21st century, New York City has emerged as a global node of creativity, entrepreneurship, and as a symbol of freedom and cultural diversity. The New York Times has won the most Pulitzer Prizes for journalism and remains the U.S. media's \"newspaper of record\". In 2019, New York City was voted the greatest city in the world in a survey of over 30,000 people from 48 cities worldwide, citing its cultural diversity.Many districts and monuments in New York City are major landmarks, including three of the world's ten most visited tourist attractions in 2013. A record 66.6 million tourists visited New York City in 2019. Times Square is the brightly illuminated hub of the Broadway Theater District, one of the world's busiest pedestrian intersections and a major center of the world's entertainment industry. Many of the city's landmarks, skyscrapers, and parks are known around the world, and the city's fast pace led to the phrase New York minute.]   \n",
       "\n",
       "  reference_answer reference_answer_by          query_by  \n",
       "0                   None                ai (gpt-4o-mini)  \n",
       "1                   None                ai (gpt-4o-mini)  "
      ]
     },
     "execution_count": 26,
     "metadata": {},
     "output_type": "execute_result"
    }
   ],
   "source": [
    "eval_questions.to_pandas().head(2)"
   ]
  },
  {
   "cell_type": "code",
   "execution_count": 30,
   "metadata": {},
   "outputs": [
    {
     "name": "stdout",
     "output_type": "stream",
     "text": [
      "- What are the five boroughs of New York City, and how are they related to the counties of New York State?\n",
      "- Discuss the historical significance of the Statue of Liberty in relation to immigration in the United States.\n",
      "- How does New York City's metropolitan economy compare to that of other global cities, and what would its gross metropolitan product rank if it were a sovereign state?\n",
      "- What significant cultural and economic roles does New York City play on a global scale, as mentioned in the context information?\n",
      "- Describe the early history of New York City, including the indigenous people who inhabited the area and the first documented European exploration.\n"
     ]
    }
   ],
   "source": [
    "for q in [e.query for e in eval_questions.examples[0:5]]:\n",
    "    print(f\"- {q}\")"
   ]
  },
  {
   "cell_type": "code",
   "execution_count": 38,
   "metadata": {},
   "outputs": [],
   "source": [
    "import asyncio\n",
    "\n",
    "def evaluate_query_engine(query_engine, questions):\n",
    "    c = [query_engine.aquery(q) for q in questions]\n",
    "    results = asyncio.run(asyncio.gather(*c))\n",
    "    print(\"finished query\")\n",
    "\n",
    "    total_correct = 0\n",
    "    for r in results:\n",
    "        # evaluate with gpt 4\n",
    "        eval_result = (1 if evaluator.evaluate_response(response=r).passing else 0)\n",
    "        total_correct += eval_result\n",
    "\n",
    "    return total_correct, len(results)"
   ]
  },
  {
   "cell_type": "code",
   "execution_count": 39,
   "metadata": {},
   "outputs": [
    {
     "name": "stdout",
     "output_type": "stream",
     "text": [
      "INFO:httpx:HTTP Request: POST https://api.openai.com/v1/embeddings \"HTTP/1.1 200 OK\"\n",
      "HTTP Request: POST https://api.openai.com/v1/embeddings \"HTTP/1.1 200 OK\"\n",
      "INFO:httpx:HTTP Request: POST https://api.openai.com/v1/embeddings \"HTTP/1.1 200 OK\"\n",
      "HTTP Request: POST https://api.openai.com/v1/embeddings \"HTTP/1.1 200 OK\"\n",
      "INFO:httpx:HTTP Request: POST https://api.openai.com/v1/embeddings \"HTTP/1.1 200 OK\"\n",
      "HTTP Request: POST https://api.openai.com/v1/embeddings \"HTTP/1.1 200 OK\"\n",
      "INFO:httpx:HTTP Request: POST https://api.openai.com/v1/embeddings \"HTTP/1.1 200 OK\"\n",
      "HTTP Request: POST https://api.openai.com/v1/embeddings \"HTTP/1.1 200 OK\"\n",
      "INFO:httpx:HTTP Request: POST https://api.openai.com/v1/embeddings \"HTTP/1.1 200 OK\"\n",
      "HTTP Request: POST https://api.openai.com/v1/embeddings \"HTTP/1.1 200 OK\"\n",
      "INFO:httpx:HTTP Request: POST https://api.openai.com/v1/chat/completions \"HTTP/1.1 200 OK\"\n",
      "HTTP Request: POST https://api.openai.com/v1/chat/completions \"HTTP/1.1 200 OK\"\n",
      "INFO:httpx:HTTP Request: POST https://api.openai.com/v1/chat/completions \"HTTP/1.1 200 OK\"\n",
      "HTTP Request: POST https://api.openai.com/v1/chat/completions \"HTTP/1.1 200 OK\"\n",
      "INFO:httpx:HTTP Request: POST https://api.openai.com/v1/chat/completions \"HTTP/1.1 200 OK\"\n",
      "HTTP Request: POST https://api.openai.com/v1/chat/completions \"HTTP/1.1 200 OK\"\n",
      "INFO:httpx:HTTP Request: POST https://api.openai.com/v1/chat/completions \"HTTP/1.1 200 OK\"\n",
      "HTTP Request: POST https://api.openai.com/v1/chat/completions \"HTTP/1.1 200 OK\"\n",
      "INFO:httpx:HTTP Request: POST https://api.openai.com/v1/chat/completions \"HTTP/1.1 200 OK\"\n",
      "HTTP Request: POST https://api.openai.com/v1/chat/completions \"HTTP/1.1 200 OK\"\n",
      "finished query\n",
      "INFO:httpx:HTTP Request: POST https://api.openai.com/v1/chat/completions \"HTTP/1.1 200 OK\"\n",
      "HTTP Request: POST https://api.openai.com/v1/chat/completions \"HTTP/1.1 200 OK\"\n",
      "INFO:httpx:HTTP Request: POST https://api.openai.com/v1/chat/completions \"HTTP/1.1 200 OK\"\n",
      "HTTP Request: POST https://api.openai.com/v1/chat/completions \"HTTP/1.1 200 OK\"\n",
      "INFO:httpx:HTTP Request: POST https://api.openai.com/v1/chat/completions \"HTTP/1.1 200 OK\"\n",
      "HTTP Request: POST https://api.openai.com/v1/chat/completions \"HTTP/1.1 200 OK\"\n",
      "INFO:httpx:HTTP Request: POST https://api.openai.com/v1/chat/completions \"HTTP/1.1 200 OK\"\n",
      "HTTP Request: POST https://api.openai.com/v1/chat/completions \"HTTP/1.1 200 OK\"\n",
      "INFO:httpx:HTTP Request: POST https://api.openai.com/v1/chat/completions \"HTTP/1.1 200 OK\"\n",
      "HTTP Request: POST https://api.openai.com/v1/chat/completions \"HTTP/1.1 200 OK\"\n",
      "score: 4/5\n"
     ]
    }
   ],
   "source": [
    "vector_query_engine = vector_index.as_query_engine()\n",
    "correct, total = evaluate_query_engine(vector_query_engine, [e.query for e in eval_questions.examples[0:5]]) #eval_questions[:5])\n",
    "\n",
    "print(f\"score: {correct}/{total}\")"
   ]
  },
  {
   "cell_type": "markdown",
   "metadata": {},
   "source": [
    "#### The response was faithful regarding the context 80% of the time."
   ]
  },
  {
   "cell_type": "markdown",
   "metadata": {},
   "source": [
    "## 1.4 Guideline Adherence  \n",
    "GuidelineEvaluator evaluates a question answer system given user specified guidelines."
   ]
  },
  {
   "cell_type": "code",
   "execution_count": 40,
   "metadata": {},
   "outputs": [],
   "source": [
    "from llama_index.core.evaluation import GuidelineEvaluator\n",
    "import nest_asyncio\n",
    "nest_asyncio.apply()"
   ]
  },
  {
   "cell_type": "code",
   "execution_count": 41,
   "metadata": {},
   "outputs": [],
   "source": [
    "GUIDELINES = [\"The response should fully answer the query.\",\n",
    "              \"The response should avoid being vague or ambiguous.\",\n",
    "              \"The response should be specific and use statistics or numbers when possible.\",\n",
    "             ]\n",
    "\n",
    "evaluators = [GuidelineEvaluator(llm=llm, guidelines=guideline) for guideline in GUIDELINES]"
   ]
  },
  {
   "cell_type": "code",
   "execution_count": 42,
   "metadata": {},
   "outputs": [],
   "source": [
    "sample_data = {\n",
    "    \"query\": \"Tell me about global warming.\",\n",
    "    \"contexts\": [\n",
    "        (\n",
    "            \"Global warming refers to the long-term increase in Earth's\"\n",
    "            \" average surface temperature due to human activities such as the\"\n",
    "            \" burning of fossil fuels and deforestation.\"\n",
    "        ),\n",
    "        (\n",
    "            \"It is a major environmental issue with consequences such as\"\n",
    "            \" rising sea levels, extreme weather events, and disruptions to\"\n",
    "            \" ecosystems.\"\n",
    "        ),\n",
    "        (\n",
    "            \"Efforts to combat global warming include reducing carbon\"\n",
    "            \" emissions, transitioning to renewable energy sources, and\"\n",
    "            \" promoting sustainable practices.\"\n",
    "        ),\n",
    "    ],\n",
    "    \"response\": (\n",
    "        \"Global warming is a critical environmental issue caused by human\"\n",
    "        \" activities that lead to a rise in Earth's temperature. It has\"\n",
    "        \" various adverse effects on the planet.\"\n",
    "    ),\n",
    "}"
   ]
  },
  {
   "cell_type": "code",
   "execution_count": 43,
   "metadata": {},
   "outputs": [
    {
     "name": "stdout",
     "output_type": "stream",
     "text": [
      "INFO:httpx:HTTP Request: POST https://api.openai.com/v1/chat/completions \"HTTP/1.1 200 OK\"\n",
      "HTTP Request: POST https://api.openai.com/v1/chat/completions \"HTTP/1.1 200 OK\"\n",
      "=====\n",
      "Guideline: The response should fully answer the query.\n",
      "Pass: False\n",
      "Feedback: The response provides a brief overview of global warming but lacks depth and detail. It mentions that global warming is caused by human activities and has adverse effects, but it does not specify what those activities are or what the effects might be. A more comprehensive answer would include information on greenhouse gas emissions, the role of fossil fuels, specific impacts on ecosystems and weather patterns, and potential solutions or mitigation strategies.\n",
      "INFO:httpx:HTTP Request: POST https://api.openai.com/v1/chat/completions \"HTTP/1.1 200 OK\"\n",
      "HTTP Request: POST https://api.openai.com/v1/chat/completions \"HTTP/1.1 200 OK\"\n",
      "=====\n",
      "Guideline: The response should avoid being vague or ambiguous.\n",
      "Pass: False\n",
      "Feedback: The response is somewhat vague and lacks specific details about global warming. It would benefit from elaborating on the human activities contributing to global warming, such as fossil fuel combustion and deforestation, as well as providing examples of the adverse effects, like rising sea levels, extreme weather events, and impacts on biodiversity.\n",
      "INFO:httpx:HTTP Request: POST https://api.openai.com/v1/chat/completions \"HTTP/1.1 200 OK\"\n",
      "HTTP Request: POST https://api.openai.com/v1/chat/completions \"HTTP/1.1 200 OK\"\n",
      "=====\n",
      "Guideline: The response should be specific and use statistics or numbers when possible.\n",
      "Pass: False\n",
      "Feedback: The response provides a general overview of global warming but lacks specific details and statistics. For example, it could mention that the Earth's average temperature has increased by approximately 1.2 degrees Celsius since the late 19th century, or that the concentration of CO2 in the atmosphere has risen from about 280 parts per million to over 410 parts per million. Including such data would enhance the response's credibility and informativeness.\n"
     ]
    }
   ],
   "source": [
    "for guideline, evaluator in zip(GUIDELINES, evaluators):\n",
    "    eval_result = evaluator.evaluate(\n",
    "        query=sample_data[\"query\"],\n",
    "        contexts=sample_data[\"contexts\"],\n",
    "        response=sample_data[\"response\"],\n",
    "    )\n",
    "    print(\"=====\")\n",
    "    print(f\"Guideline: {guideline}\")\n",
    "    print(f\"Pass: {eval_result.passing}\")\n",
    "    print(f\"Feedback: {eval_result.feedback}\")"
   ]
  },
  {
   "cell_type": "markdown",
   "metadata": {},
   "source": [
    "## 1.5 Question Generation  \n",
    "\n",
    "We will walk again through the process of generating a list of questions that could be asked about your data.  \n",
    "This is useful for setting up an evaluation pipeline using the **FaithfulnessEvaluator** and **RelevancyEvaluator** evaluation tools."
   ]
  },
  {
   "cell_type": "code",
   "execution_count": 48,
   "metadata": {},
   "outputs": [],
   "source": [
    "#from llama_index.core.evaluation import DatasetGenerator, \n",
    "from llama_index.core.evaluation import RelevancyEvaluator\n",
    "from llama_index.core.llama_dataset.generator import RagDatasetGenerator\n",
    "from llama_index.core.llama_dataset import LabelledRagDataset\n",
    "from llama_index.core import SimpleDirectoryReader, VectorStoreIndex, Response\n",
    "\n",
    "#import logging\n",
    "#import sys\n",
    "#import pandas as pd\n",
    "\n",
    "#logging.basicConfig(stream=sys.stdout, level=logging.INFO)\n",
    "#logging.getLogger().addHandler(logging.StreamHandler(stream=sys.stdout))"
   ]
  },
  {
   "cell_type": "code",
   "execution_count": 49,
   "metadata": {},
   "outputs": [],
   "source": [
    "reader = SimpleDirectoryReader(input_files=[f\"../../Data/paul_graham_essay.txt\"])\n",
    "documents = reader.load_data()"
   ]
  },
  {
   "cell_type": "code",
   "execution_count": 50,
   "metadata": {},
   "outputs": [],
   "source": [
    "data_generator = RagDatasetGenerator.from_documents(documents)"
   ]
  },
  {
   "cell_type": "code",
   "execution_count": 51,
   "metadata": {},
   "outputs": [],
   "source": [
    "#eval_questions = data_generator.generate_questions_from_nodes()\n",
    "eval_questions = LabelledRagDataset.from_json(\"../../Data/rag_dataset.json\")"
   ]
  },
  {
   "cell_type": "code",
   "execution_count": 52,
   "metadata": {},
   "outputs": [
    {
     "data": {
      "text/html": [
       "<div>\n",
       "<style scoped>\n",
       "    .dataframe tbody tr th:only-of-type {\n",
       "        vertical-align: middle;\n",
       "    }\n",
       "\n",
       "    .dataframe tbody tr th {\n",
       "        vertical-align: top;\n",
       "    }\n",
       "\n",
       "    .dataframe thead th {\n",
       "        text-align: right;\n",
       "    }\n",
       "</style>\n",
       "<table border=\"1\" class=\"dataframe\">\n",
       "  <thead>\n",
       "    <tr style=\"text-align: right;\">\n",
       "      <th></th>\n",
       "      <th>query</th>\n",
       "      <th>reference_contexts</th>\n",
       "      <th>reference_answer</th>\n",
       "      <th>reference_answer_by</th>\n",
       "      <th>query_by</th>\n",
       "    </tr>\n",
       "  </thead>\n",
       "  <tbody>\n",
       "    <tr>\n",
       "      <th>0</th>\n",
       "      <td>\"Describe the author's early experiences with programming. What was the first machine he used and what challenges did he face while trying to write programs on it?\"</td>\n",
       "      <td>[What I Worked On\\n\\nFebruary 2021\\n\\nBefore college the two main things I worked on, outside of school, were writing and programming. I didn't write essays. I wrote what beginning writers were supposed to write then, and probably still are: short stories. My stories were awful. They had hardly any plot, just characters with strong feelings, which I imagined made them deep.\\n\\nThe first programs I tried writing were on the IBM 1401 that our school district used for what was then called \"data processing.\" This was in 9th grade, so I was 13 or 14. The school district's 1401 happened to be in the basement of our junior high school, and my friend Rich Draves and I got permission to use it. It was like a mini Bond villain's lair down there, with all these alien-looking machines — CPU, disk drives, printer, card reader — sitting up on a raised floor under bright fluorescent lights.\\n\\nThe language we used was an early version of Fortran. You had to type programs on punch cards, then stack them in the card reader and press a button to load the program into memory and run it. The result would ordinarily be to print something on the spectacularly loud printer.\\n\\nI was puzzled by the 1401. I couldn't figure out what to do with it. And in retrospect there's not much I could have done with it. The only form of input to programs was data stored on punched cards, and I didn't have any data stored on punched cards. The only other option was to do things that didn't rely on any input, like calculate approximations of pi, but I didn't know enough math to do anything interesting of that type. So I'm not surprised I can't remember any programs I wrote, because they can't have done much. My clearest memory is of the moment I learned it was possible for programs not to terminate, when one of mine didn't. On a machine without time-sharing, this was a social as well as a technical error, as the data center manager's expression made clear.\\n\\nWith microcomputers, everything changed. Now you could have a computer sitting right in front of you, on a desk, that could respond to your keystrokes as it was running instead of just churning through a stack of punch cards and then stopping. [1]\\n\\nThe first of my friends to get a microcomputer built it himself. It was sold as a kit by Heathkit. I remember vividly how impressed and envious I felt watching him sitting in front of it, typing programs right into the computer.\\n\\nComputers were expensive in those days and it took me years of nagging before I convinced my father to buy one, a TRS-80, in about 1980. The gold standard then was the Apple II, but a TRS-80 was good enough. This was when I really started programming. I wrote simple games, a program to predict how high my model rockets would fly, and a word processor that my father used to write at least one book. There was only room in memory for about 2 pages of text, so he'd write 2 pages at a time and then print them out, but it was a lot better than a typewriter.\\n\\nThough I liked programming, I didn't plan to study it in college. In college I was going to study philosophy, which sounded much more powerful. It seemed, to my naive high school self, to be the study of the ultimate truths, compared to which the things studied in other fields would be mere domain knowledge. What I discovered when I got to college was that the other fields took up so much of the space of ideas that there wasn't much left for these supposed ultimate truths. All that seemed left for philosophy were edge cases that people in other fields felt could safely be ignored.\\n\\nI couldn't have put this into words when I was 18. All I knew at the time was that I kept taking philosophy courses and they kept being boring. So I decided to switch to AI.\\n\\nAI was in the air in the mid 1980s, but there were two things especially that made me want to work on it: a novel by Heinlein called The Moon is a Harsh Mistress, which featured an intelligent computer called Mike, and a PBS documentary that showed Terry Winograd using SHRDLU. I haven't tried rereading The Moon is a Harsh Mistress, so I don't know how well it has aged, but when I read it I was drawn entirely into its world. It seemed only a matter of time before we'd have Mike, and when I saw Winograd using SHRDLU, it seemed like that time would be a few years at most.]</td>\n",
       "      <td></td>\n",
       "      <td>None</td>\n",
       "      <td>ai (gpt-4)</td>\n",
       "    </tr>\n",
       "    <tr>\n",
       "      <th>1</th>\n",
       "      <td>\"What were the author's initial career aspirations before college and how did his experiences in college change his perspective and career path?\"</td>\n",
       "      <td>[What I Worked On\\n\\nFebruary 2021\\n\\nBefore college the two main things I worked on, outside of school, were writing and programming. I didn't write essays. I wrote what beginning writers were supposed to write then, and probably still are: short stories. My stories were awful. They had hardly any plot, just characters with strong feelings, which I imagined made them deep.\\n\\nThe first programs I tried writing were on the IBM 1401 that our school district used for what was then called \"data processing.\" This was in 9th grade, so I was 13 or 14. The school district's 1401 happened to be in the basement of our junior high school, and my friend Rich Draves and I got permission to use it. It was like a mini Bond villain's lair down there, with all these alien-looking machines — CPU, disk drives, printer, card reader — sitting up on a raised floor under bright fluorescent lights.\\n\\nThe language we used was an early version of Fortran. You had to type programs on punch cards, then stack them in the card reader and press a button to load the program into memory and run it. The result would ordinarily be to print something on the spectacularly loud printer.\\n\\nI was puzzled by the 1401. I couldn't figure out what to do with it. And in retrospect there's not much I could have done with it. The only form of input to programs was data stored on punched cards, and I didn't have any data stored on punched cards. The only other option was to do things that didn't rely on any input, like calculate approximations of pi, but I didn't know enough math to do anything interesting of that type. So I'm not surprised I can't remember any programs I wrote, because they can't have done much. My clearest memory is of the moment I learned it was possible for programs not to terminate, when one of mine didn't. On a machine without time-sharing, this was a social as well as a technical error, as the data center manager's expression made clear.\\n\\nWith microcomputers, everything changed. Now you could have a computer sitting right in front of you, on a desk, that could respond to your keystrokes as it was running instead of just churning through a stack of punch cards and then stopping. [1]\\n\\nThe first of my friends to get a microcomputer built it himself. It was sold as a kit by Heathkit. I remember vividly how impressed and envious I felt watching him sitting in front of it, typing programs right into the computer.\\n\\nComputers were expensive in those days and it took me years of nagging before I convinced my father to buy one, a TRS-80, in about 1980. The gold standard then was the Apple II, but a TRS-80 was good enough. This was when I really started programming. I wrote simple games, a program to predict how high my model rockets would fly, and a word processor that my father used to write at least one book. There was only room in memory for about 2 pages of text, so he'd write 2 pages at a time and then print them out, but it was a lot better than a typewriter.\\n\\nThough I liked programming, I didn't plan to study it in college. In college I was going to study philosophy, which sounded much more powerful. It seemed, to my naive high school self, to be the study of the ultimate truths, compared to which the things studied in other fields would be mere domain knowledge. What I discovered when I got to college was that the other fields took up so much of the space of ideas that there wasn't much left for these supposed ultimate truths. All that seemed left for philosophy were edge cases that people in other fields felt could safely be ignored.\\n\\nI couldn't have put this into words when I was 18. All I knew at the time was that I kept taking philosophy courses and they kept being boring. So I decided to switch to AI.\\n\\nAI was in the air in the mid 1980s, but there were two things especially that made me want to work on it: a novel by Heinlein called The Moon is a Harsh Mistress, which featured an intelligent computer called Mike, and a PBS documentary that showed Terry Winograd using SHRDLU. I haven't tried rereading The Moon is a Harsh Mistress, so I don't know how well it has aged, but when I read it I was drawn entirely into its world. It seemed only a matter of time before we'd have Mike, and when I saw Winograd using SHRDLU, it seemed like that time would be a few years at most.]</td>\n",
       "      <td></td>\n",
       "      <td>None</td>\n",
       "      <td>ai (gpt-4)</td>\n",
       "    </tr>\n",
       "    <tr>\n",
       "      <th>2</th>\n",
       "      <td>\"Discuss the influence of the novel 'The Moon is a Harsh Mistress' and the PBS documentary featuring Terry Winograd on the author's decision to switch to AI. Why did these two sources inspire him?\"</td>\n",
       "      <td>[What I Worked On\\n\\nFebruary 2021\\n\\nBefore college the two main things I worked on, outside of school, were writing and programming. I didn't write essays. I wrote what beginning writers were supposed to write then, and probably still are: short stories. My stories were awful. They had hardly any plot, just characters with strong feelings, which I imagined made them deep.\\n\\nThe first programs I tried writing were on the IBM 1401 that our school district used for what was then called \"data processing.\" This was in 9th grade, so I was 13 or 14. The school district's 1401 happened to be in the basement of our junior high school, and my friend Rich Draves and I got permission to use it. It was like a mini Bond villain's lair down there, with all these alien-looking machines — CPU, disk drives, printer, card reader — sitting up on a raised floor under bright fluorescent lights.\\n\\nThe language we used was an early version of Fortran. You had to type programs on punch cards, then stack them in the card reader and press a button to load the program into memory and run it. The result would ordinarily be to print something on the spectacularly loud printer.\\n\\nI was puzzled by the 1401. I couldn't figure out what to do with it. And in retrospect there's not much I could have done with it. The only form of input to programs was data stored on punched cards, and I didn't have any data stored on punched cards. The only other option was to do things that didn't rely on any input, like calculate approximations of pi, but I didn't know enough math to do anything interesting of that type. So I'm not surprised I can't remember any programs I wrote, because they can't have done much. My clearest memory is of the moment I learned it was possible for programs not to terminate, when one of mine didn't. On a machine without time-sharing, this was a social as well as a technical error, as the data center manager's expression made clear.\\n\\nWith microcomputers, everything changed. Now you could have a computer sitting right in front of you, on a desk, that could respond to your keystrokes as it was running instead of just churning through a stack of punch cards and then stopping. [1]\\n\\nThe first of my friends to get a microcomputer built it himself. It was sold as a kit by Heathkit. I remember vividly how impressed and envious I felt watching him sitting in front of it, typing programs right into the computer.\\n\\nComputers were expensive in those days and it took me years of nagging before I convinced my father to buy one, a TRS-80, in about 1980. The gold standard then was the Apple II, but a TRS-80 was good enough. This was when I really started programming. I wrote simple games, a program to predict how high my model rockets would fly, and a word processor that my father used to write at least one book. There was only room in memory for about 2 pages of text, so he'd write 2 pages at a time and then print them out, but it was a lot better than a typewriter.\\n\\nThough I liked programming, I didn't plan to study it in college. In college I was going to study philosophy, which sounded much more powerful. It seemed, to my naive high school self, to be the study of the ultimate truths, compared to which the things studied in other fields would be mere domain knowledge. What I discovered when I got to college was that the other fields took up so much of the space of ideas that there wasn't much left for these supposed ultimate truths. All that seemed left for philosophy were edge cases that people in other fields felt could safely be ignored.\\n\\nI couldn't have put this into words when I was 18. All I knew at the time was that I kept taking philosophy courses and they kept being boring. So I decided to switch to AI.\\n\\nAI was in the air in the mid 1980s, but there were two things especially that made me want to work on it: a novel by Heinlein called The Moon is a Harsh Mistress, which featured an intelligent computer called Mike, and a PBS documentary that showed Terry Winograd using SHRDLU. I haven't tried rereading The Moon is a Harsh Mistress, so I don't know how well it has aged, but when I read it I was drawn entirely into its world. It seemed only a matter of time before we'd have Mike, and when I saw Winograd using SHRDLU, it seemed like that time would be a few years at most.]</td>\n",
       "      <td></td>\n",
       "      <td>None</td>\n",
       "      <td>ai (gpt-4)</td>\n",
       "    </tr>\n",
       "    <tr>\n",
       "      <th>3</th>\n",
       "      <td>\"In the context, the author mentions a novel by Heinlein that influenced his interest in AI. What is the name of this novel and how did it inspire the author's interest in AI?\"</td>\n",
       "      <td>[I couldn't have put this into words when I was 18. All I knew at the time was that I kept taking philosophy courses and they kept being boring. So I decided to switch to AI.\\n\\nAI was in the air in the mid 1980s, but there were two things especially that made me want to work on it: a novel by Heinlein called The Moon is a Harsh Mistress, which featured an intelligent computer called Mike, and a PBS documentary that showed Terry Winograd using SHRDLU. I haven't tried rereading The Moon is a Harsh Mistress, so I don't know how well it has aged, but when I read it I was drawn entirely into its world. It seemed only a matter of time before we'd have Mike, and when I saw Winograd using SHRDLU, it seemed like that time would be a few years at most. All you had to do was teach SHRDLU more words.\\n\\nThere weren't any classes in AI at Cornell then, not even graduate classes, so I started trying to teach myself. Which meant learning Lisp, since in those days Lisp was regarded as the language of AI. The commonly used programming languages then were pretty primitive, and programmers' ideas correspondingly so. The default language at Cornell was a Pascal-like language called PL/I, and the situation was similar elsewhere. Learning Lisp expanded my concept of a program so fast that it was years before I started to have a sense of where the new limits were. This was more like it; this was what I had expected college to do. It wasn't happening in a class, like it was supposed to, but that was ok. For the next couple years I was on a roll. I knew what I was going to do.\\n\\nFor my undergraduate thesis, I reverse-engineered SHRDLU. My God did I love working on that program. It was a pleasing bit of code, but what made it even more exciting was my belief — hard to imagine now, but not unique in 1985 — that it was already climbing the lower slopes of intelligence.\\n\\nI had gotten into a program at Cornell that didn't make you choose a major. You could take whatever classes you liked, and choose whatever you liked to put on your degree. I of course chose \"Artificial Intelligence.\" When I got the actual physical diploma, I was dismayed to find that the quotes had been included, which made them read as scare-quotes. At the time this bothered me, but now it seems amusingly accurate, for reasons I was about to discover.\\n\\nI applied to 3 grad schools: MIT and Yale, which were renowned for AI at the time, and Harvard, which I'd visited because Rich Draves went there, and was also home to Bill Woods, who'd invented the type of parser I used in my SHRDLU clone. Only Harvard accepted me, so that was where I went.\\n\\nI don't remember the moment it happened, or if there even was a specific moment, but during the first year of grad school I realized that AI, as practiced at the time, was a hoax. By which I mean the sort of AI in which a program that's told \"the dog is sitting on the chair\" translates this into some formal representation and adds it to the list of things it knows.\\n\\nWhat these programs really showed was that there's a subset of natural language that's a formal language. But a very proper subset. It was clear that there was an unbridgeable gap between what they could do and actually understanding natural language. It was not, in fact, simply a matter of teaching SHRDLU more words. That whole way of doing AI, with explicit data structures representing concepts, was not going to work. Its brokenness did, as so often happens, generate a lot of opportunities to write papers about various band-aids that could be applied to it, but it was never going to get us Mike.\\n\\nSo I looked around to see what I could salvage from the wreckage of my plans, and there was Lisp. I knew from experience that Lisp was interesting for its own sake and not just for its association with AI, even though that was the main reason people cared about it at the time. So I decided to focus on Lisp. In fact, I decided to write a book about Lisp hacking. It's scary to think how little I knew about Lisp hacking when I started writing that book. But there's nothing like writing a book about something to help you learn it. The book, On Lisp, wasn't published till 1993, but I wrote much of it in grad school.\\n\\nComputer Science is an uneasy alliance between two halves, theory and systems. The theory people prove things, and the systems people build things. I wanted to build things.]</td>\n",
       "      <td></td>\n",
       "      <td>None</td>\n",
       "      <td>ai (gpt-4)</td>\n",
       "    </tr>\n",
       "    <tr>\n",
       "      <th>4</th>\n",
       "      <td>\"The author discusses his experience with learning Lisp and how it expanded his concept of a program. Can you explain what Lisp is and why it was considered the language of AI during that time?\"</td>\n",
       "      <td>[I couldn't have put this into words when I was 18. All I knew at the time was that I kept taking philosophy courses and they kept being boring. So I decided to switch to AI.\\n\\nAI was in the air in the mid 1980s, but there were two things especially that made me want to work on it: a novel by Heinlein called The Moon is a Harsh Mistress, which featured an intelligent computer called Mike, and a PBS documentary that showed Terry Winograd using SHRDLU. I haven't tried rereading The Moon is a Harsh Mistress, so I don't know how well it has aged, but when I read it I was drawn entirely into its world. It seemed only a matter of time before we'd have Mike, and when I saw Winograd using SHRDLU, it seemed like that time would be a few years at most. All you had to do was teach SHRDLU more words.\\n\\nThere weren't any classes in AI at Cornell then, not even graduate classes, so I started trying to teach myself. Which meant learning Lisp, since in those days Lisp was regarded as the language of AI. The commonly used programming languages then were pretty primitive, and programmers' ideas correspondingly so. The default language at Cornell was a Pascal-like language called PL/I, and the situation was similar elsewhere. Learning Lisp expanded my concept of a program so fast that it was years before I started to have a sense of where the new limits were. This was more like it; this was what I had expected college to do. It wasn't happening in a class, like it was supposed to, but that was ok. For the next couple years I was on a roll. I knew what I was going to do.\\n\\nFor my undergraduate thesis, I reverse-engineered SHRDLU. My God did I love working on that program. It was a pleasing bit of code, but what made it even more exciting was my belief — hard to imagine now, but not unique in 1985 — that it was already climbing the lower slopes of intelligence.\\n\\nI had gotten into a program at Cornell that didn't make you choose a major. You could take whatever classes you liked, and choose whatever you liked to put on your degree. I of course chose \"Artificial Intelligence.\" When I got the actual physical diploma, I was dismayed to find that the quotes had been included, which made them read as scare-quotes. At the time this bothered me, but now it seems amusingly accurate, for reasons I was about to discover.\\n\\nI applied to 3 grad schools: MIT and Yale, which were renowned for AI at the time, and Harvard, which I'd visited because Rich Draves went there, and was also home to Bill Woods, who'd invented the type of parser I used in my SHRDLU clone. Only Harvard accepted me, so that was where I went.\\n\\nI don't remember the moment it happened, or if there even was a specific moment, but during the first year of grad school I realized that AI, as practiced at the time, was a hoax. By which I mean the sort of AI in which a program that's told \"the dog is sitting on the chair\" translates this into some formal representation and adds it to the list of things it knows.\\n\\nWhat these programs really showed was that there's a subset of natural language that's a formal language. But a very proper subset. It was clear that there was an unbridgeable gap between what they could do and actually understanding natural language. It was not, in fact, simply a matter of teaching SHRDLU more words. That whole way of doing AI, with explicit data structures representing concepts, was not going to work. Its brokenness did, as so often happens, generate a lot of opportunities to write papers about various band-aids that could be applied to it, but it was never going to get us Mike.\\n\\nSo I looked around to see what I could salvage from the wreckage of my plans, and there was Lisp. I knew from experience that Lisp was interesting for its own sake and not just for its association with AI, even though that was the main reason people cared about it at the time. So I decided to focus on Lisp. In fact, I decided to write a book about Lisp hacking. It's scary to think how little I knew about Lisp hacking when I started writing that book. But there's nothing like writing a book about something to help you learn it. The book, On Lisp, wasn't published till 1993, but I wrote much of it in grad school.\\n\\nComputer Science is an uneasy alliance between two halves, theory and systems. The theory people prove things, and the systems people build things. I wanted to build things.]</td>\n",
       "      <td></td>\n",
       "      <td>None</td>\n",
       "      <td>ai (gpt-4)</td>\n",
       "    </tr>\n",
       "  </tbody>\n",
       "</table>\n",
       "</div>"
      ],
      "text/plain": [
       "                                                                                                                                                                                                   query  \\\n",
       "0  \"Describe the author's early experiences with programming. What was the first machine he used and what challenges did he face while trying to write programs on it?\"                                    \n",
       "1  \"What were the author's initial career aspirations before college and how did his experiences in college change his perspective and career path?\"                                                       \n",
       "2  \"Discuss the influence of the novel 'The Moon is a Harsh Mistress' and the PBS documentary featuring Terry Winograd on the author's decision to switch to AI. Why did these two sources inspire him?\"   \n",
       "3  \"In the context, the author mentions a novel by Heinlein that influenced his interest in AI. What is the name of this novel and how did it inspire the author's interest in AI?\"                        \n",
       "4  \"The author discusses his experience with learning Lisp and how it expanded his concept of a program. Can you explain what Lisp is and why it was considered the language of AI during that time?\"      \n",
       "\n",
       "                                                                                                                                                                                                                                                                                                                                                                                                                                                                                                                                                                                                                                                                                                                                                                                                                                                                                                                                                                                                                                                                                                                                                                                                                                                                                                                                                                                                                                                                                                                                                                                                                                                                                                                                                                                                                                                                                                                                                                                                                                                                                                                                                                                                                                                                                                                                                                                                                                                                                                                                                                                                                                                                                                                                                                                                                                                                                                                                                                                                                                                                                                                                                                                                                                                                                                                                                                                                                                                                                                                                                                                                                                                                                                                                                                                                                                                                                                                                                                                                                                                                                                                                                                                                                                                                                                                                                                                                                                                                                                                                                                          reference_contexts  \\\n",
       "0  [What I Worked On\\n\\nFebruary 2021\\n\\nBefore college the two main things I worked on, outside of school, were writing and programming. I didn't write essays. I wrote what beginning writers were supposed to write then, and probably still are: short stories. My stories were awful. They had hardly any plot, just characters with strong feelings, which I imagined made them deep.\\n\\nThe first programs I tried writing were on the IBM 1401 that our school district used for what was then called \"data processing.\" This was in 9th grade, so I was 13 or 14. The school district's 1401 happened to be in the basement of our junior high school, and my friend Rich Draves and I got permission to use it. It was like a mini Bond villain's lair down there, with all these alien-looking machines — CPU, disk drives, printer, card reader — sitting up on a raised floor under bright fluorescent lights.\\n\\nThe language we used was an early version of Fortran. You had to type programs on punch cards, then stack them in the card reader and press a button to load the program into memory and run it. The result would ordinarily be to print something on the spectacularly loud printer.\\n\\nI was puzzled by the 1401. I couldn't figure out what to do with it. And in retrospect there's not much I could have done with it. The only form of input to programs was data stored on punched cards, and I didn't have any data stored on punched cards. The only other option was to do things that didn't rely on any input, like calculate approximations of pi, but I didn't know enough math to do anything interesting of that type. So I'm not surprised I can't remember any programs I wrote, because they can't have done much. My clearest memory is of the moment I learned it was possible for programs not to terminate, when one of mine didn't. On a machine without time-sharing, this was a social as well as a technical error, as the data center manager's expression made clear.\\n\\nWith microcomputers, everything changed. Now you could have a computer sitting right in front of you, on a desk, that could respond to your keystrokes as it was running instead of just churning through a stack of punch cards and then stopping. [1]\\n\\nThe first of my friends to get a microcomputer built it himself. It was sold as a kit by Heathkit. I remember vividly how impressed and envious I felt watching him sitting in front of it, typing programs right into the computer.\\n\\nComputers were expensive in those days and it took me years of nagging before I convinced my father to buy one, a TRS-80, in about 1980. The gold standard then was the Apple II, but a TRS-80 was good enough. This was when I really started programming. I wrote simple games, a program to predict how high my model rockets would fly, and a word processor that my father used to write at least one book. There was only room in memory for about 2 pages of text, so he'd write 2 pages at a time and then print them out, but it was a lot better than a typewriter.\\n\\nThough I liked programming, I didn't plan to study it in college. In college I was going to study philosophy, which sounded much more powerful. It seemed, to my naive high school self, to be the study of the ultimate truths, compared to which the things studied in other fields would be mere domain knowledge. What I discovered when I got to college was that the other fields took up so much of the space of ideas that there wasn't much left for these supposed ultimate truths. All that seemed left for philosophy were edge cases that people in other fields felt could safely be ignored.\\n\\nI couldn't have put this into words when I was 18. All I knew at the time was that I kept taking philosophy courses and they kept being boring. So I decided to switch to AI.\\n\\nAI was in the air in the mid 1980s, but there were two things especially that made me want to work on it: a novel by Heinlein called The Moon is a Harsh Mistress, which featured an intelligent computer called Mike, and a PBS documentary that showed Terry Winograd using SHRDLU. I haven't tried rereading The Moon is a Harsh Mistress, so I don't know how well it has aged, but when I read it I was drawn entirely into its world. It seemed only a matter of time before we'd have Mike, and when I saw Winograd using SHRDLU, it seemed like that time would be a few years at most.]                                                                      \n",
       "1  [What I Worked On\\n\\nFebruary 2021\\n\\nBefore college the two main things I worked on, outside of school, were writing and programming. I didn't write essays. I wrote what beginning writers were supposed to write then, and probably still are: short stories. My stories were awful. They had hardly any plot, just characters with strong feelings, which I imagined made them deep.\\n\\nThe first programs I tried writing were on the IBM 1401 that our school district used for what was then called \"data processing.\" This was in 9th grade, so I was 13 or 14. The school district's 1401 happened to be in the basement of our junior high school, and my friend Rich Draves and I got permission to use it. It was like a mini Bond villain's lair down there, with all these alien-looking machines — CPU, disk drives, printer, card reader — sitting up on a raised floor under bright fluorescent lights.\\n\\nThe language we used was an early version of Fortran. You had to type programs on punch cards, then stack them in the card reader and press a button to load the program into memory and run it. The result would ordinarily be to print something on the spectacularly loud printer.\\n\\nI was puzzled by the 1401. I couldn't figure out what to do with it. And in retrospect there's not much I could have done with it. The only form of input to programs was data stored on punched cards, and I didn't have any data stored on punched cards. The only other option was to do things that didn't rely on any input, like calculate approximations of pi, but I didn't know enough math to do anything interesting of that type. So I'm not surprised I can't remember any programs I wrote, because they can't have done much. My clearest memory is of the moment I learned it was possible for programs not to terminate, when one of mine didn't. On a machine without time-sharing, this was a social as well as a technical error, as the data center manager's expression made clear.\\n\\nWith microcomputers, everything changed. Now you could have a computer sitting right in front of you, on a desk, that could respond to your keystrokes as it was running instead of just churning through a stack of punch cards and then stopping. [1]\\n\\nThe first of my friends to get a microcomputer built it himself. It was sold as a kit by Heathkit. I remember vividly how impressed and envious I felt watching him sitting in front of it, typing programs right into the computer.\\n\\nComputers were expensive in those days and it took me years of nagging before I convinced my father to buy one, a TRS-80, in about 1980. The gold standard then was the Apple II, but a TRS-80 was good enough. This was when I really started programming. I wrote simple games, a program to predict how high my model rockets would fly, and a word processor that my father used to write at least one book. There was only room in memory for about 2 pages of text, so he'd write 2 pages at a time and then print them out, but it was a lot better than a typewriter.\\n\\nThough I liked programming, I didn't plan to study it in college. In college I was going to study philosophy, which sounded much more powerful. It seemed, to my naive high school self, to be the study of the ultimate truths, compared to which the things studied in other fields would be mere domain knowledge. What I discovered when I got to college was that the other fields took up so much of the space of ideas that there wasn't much left for these supposed ultimate truths. All that seemed left for philosophy were edge cases that people in other fields felt could safely be ignored.\\n\\nI couldn't have put this into words when I was 18. All I knew at the time was that I kept taking philosophy courses and they kept being boring. So I decided to switch to AI.\\n\\nAI was in the air in the mid 1980s, but there were two things especially that made me want to work on it: a novel by Heinlein called The Moon is a Harsh Mistress, which featured an intelligent computer called Mike, and a PBS documentary that showed Terry Winograd using SHRDLU. I haven't tried rereading The Moon is a Harsh Mistress, so I don't know how well it has aged, but when I read it I was drawn entirely into its world. It seemed only a matter of time before we'd have Mike, and when I saw Winograd using SHRDLU, it seemed like that time would be a few years at most.]                                                                      \n",
       "2  [What I Worked On\\n\\nFebruary 2021\\n\\nBefore college the two main things I worked on, outside of school, were writing and programming. I didn't write essays. I wrote what beginning writers were supposed to write then, and probably still are: short stories. My stories were awful. They had hardly any plot, just characters with strong feelings, which I imagined made them deep.\\n\\nThe first programs I tried writing were on the IBM 1401 that our school district used for what was then called \"data processing.\" This was in 9th grade, so I was 13 or 14. The school district's 1401 happened to be in the basement of our junior high school, and my friend Rich Draves and I got permission to use it. It was like a mini Bond villain's lair down there, with all these alien-looking machines — CPU, disk drives, printer, card reader — sitting up on a raised floor under bright fluorescent lights.\\n\\nThe language we used was an early version of Fortran. You had to type programs on punch cards, then stack them in the card reader and press a button to load the program into memory and run it. The result would ordinarily be to print something on the spectacularly loud printer.\\n\\nI was puzzled by the 1401. I couldn't figure out what to do with it. And in retrospect there's not much I could have done with it. The only form of input to programs was data stored on punched cards, and I didn't have any data stored on punched cards. The only other option was to do things that didn't rely on any input, like calculate approximations of pi, but I didn't know enough math to do anything interesting of that type. So I'm not surprised I can't remember any programs I wrote, because they can't have done much. My clearest memory is of the moment I learned it was possible for programs not to terminate, when one of mine didn't. On a machine without time-sharing, this was a social as well as a technical error, as the data center manager's expression made clear.\\n\\nWith microcomputers, everything changed. Now you could have a computer sitting right in front of you, on a desk, that could respond to your keystrokes as it was running instead of just churning through a stack of punch cards and then stopping. [1]\\n\\nThe first of my friends to get a microcomputer built it himself. It was sold as a kit by Heathkit. I remember vividly how impressed and envious I felt watching him sitting in front of it, typing programs right into the computer.\\n\\nComputers were expensive in those days and it took me years of nagging before I convinced my father to buy one, a TRS-80, in about 1980. The gold standard then was the Apple II, but a TRS-80 was good enough. This was when I really started programming. I wrote simple games, a program to predict how high my model rockets would fly, and a word processor that my father used to write at least one book. There was only room in memory for about 2 pages of text, so he'd write 2 pages at a time and then print them out, but it was a lot better than a typewriter.\\n\\nThough I liked programming, I didn't plan to study it in college. In college I was going to study philosophy, which sounded much more powerful. It seemed, to my naive high school self, to be the study of the ultimate truths, compared to which the things studied in other fields would be mere domain knowledge. What I discovered when I got to college was that the other fields took up so much of the space of ideas that there wasn't much left for these supposed ultimate truths. All that seemed left for philosophy were edge cases that people in other fields felt could safely be ignored.\\n\\nI couldn't have put this into words when I was 18. All I knew at the time was that I kept taking philosophy courses and they kept being boring. So I decided to switch to AI.\\n\\nAI was in the air in the mid 1980s, but there were two things especially that made me want to work on it: a novel by Heinlein called The Moon is a Harsh Mistress, which featured an intelligent computer called Mike, and a PBS documentary that showed Terry Winograd using SHRDLU. I haven't tried rereading The Moon is a Harsh Mistress, so I don't know how well it has aged, but when I read it I was drawn entirely into its world. It seemed only a matter of time before we'd have Mike, and when I saw Winograd using SHRDLU, it seemed like that time would be a few years at most.]                                                                      \n",
       "3  [I couldn't have put this into words when I was 18. All I knew at the time was that I kept taking philosophy courses and they kept being boring. So I decided to switch to AI.\\n\\nAI was in the air in the mid 1980s, but there were two things especially that made me want to work on it: a novel by Heinlein called The Moon is a Harsh Mistress, which featured an intelligent computer called Mike, and a PBS documentary that showed Terry Winograd using SHRDLU. I haven't tried rereading The Moon is a Harsh Mistress, so I don't know how well it has aged, but when I read it I was drawn entirely into its world. It seemed only a matter of time before we'd have Mike, and when I saw Winograd using SHRDLU, it seemed like that time would be a few years at most. All you had to do was teach SHRDLU more words.\\n\\nThere weren't any classes in AI at Cornell then, not even graduate classes, so I started trying to teach myself. Which meant learning Lisp, since in those days Lisp was regarded as the language of AI. The commonly used programming languages then were pretty primitive, and programmers' ideas correspondingly so. The default language at Cornell was a Pascal-like language called PL/I, and the situation was similar elsewhere. Learning Lisp expanded my concept of a program so fast that it was years before I started to have a sense of where the new limits were. This was more like it; this was what I had expected college to do. It wasn't happening in a class, like it was supposed to, but that was ok. For the next couple years I was on a roll. I knew what I was going to do.\\n\\nFor my undergraduate thesis, I reverse-engineered SHRDLU. My God did I love working on that program. It was a pleasing bit of code, but what made it even more exciting was my belief — hard to imagine now, but not unique in 1985 — that it was already climbing the lower slopes of intelligence.\\n\\nI had gotten into a program at Cornell that didn't make you choose a major. You could take whatever classes you liked, and choose whatever you liked to put on your degree. I of course chose \"Artificial Intelligence.\" When I got the actual physical diploma, I was dismayed to find that the quotes had been included, which made them read as scare-quotes. At the time this bothered me, but now it seems amusingly accurate, for reasons I was about to discover.\\n\\nI applied to 3 grad schools: MIT and Yale, which were renowned for AI at the time, and Harvard, which I'd visited because Rich Draves went there, and was also home to Bill Woods, who'd invented the type of parser I used in my SHRDLU clone. Only Harvard accepted me, so that was where I went.\\n\\nI don't remember the moment it happened, or if there even was a specific moment, but during the first year of grad school I realized that AI, as practiced at the time, was a hoax. By which I mean the sort of AI in which a program that's told \"the dog is sitting on the chair\" translates this into some formal representation and adds it to the list of things it knows.\\n\\nWhat these programs really showed was that there's a subset of natural language that's a formal language. But a very proper subset. It was clear that there was an unbridgeable gap between what they could do and actually understanding natural language. It was not, in fact, simply a matter of teaching SHRDLU more words. That whole way of doing AI, with explicit data structures representing concepts, was not going to work. Its brokenness did, as so often happens, generate a lot of opportunities to write papers about various band-aids that could be applied to it, but it was never going to get us Mike.\\n\\nSo I looked around to see what I could salvage from the wreckage of my plans, and there was Lisp. I knew from experience that Lisp was interesting for its own sake and not just for its association with AI, even though that was the main reason people cared about it at the time. So I decided to focus on Lisp. In fact, I decided to write a book about Lisp hacking. It's scary to think how little I knew about Lisp hacking when I started writing that book. But there's nothing like writing a book about something to help you learn it. The book, On Lisp, wasn't published till 1993, but I wrote much of it in grad school.\\n\\nComputer Science is an uneasy alliance between two halves, theory and systems. The theory people prove things, and the systems people build things. I wanted to build things.]   \n",
       "4  [I couldn't have put this into words when I was 18. All I knew at the time was that I kept taking philosophy courses and they kept being boring. So I decided to switch to AI.\\n\\nAI was in the air in the mid 1980s, but there were two things especially that made me want to work on it: a novel by Heinlein called The Moon is a Harsh Mistress, which featured an intelligent computer called Mike, and a PBS documentary that showed Terry Winograd using SHRDLU. I haven't tried rereading The Moon is a Harsh Mistress, so I don't know how well it has aged, but when I read it I was drawn entirely into its world. It seemed only a matter of time before we'd have Mike, and when I saw Winograd using SHRDLU, it seemed like that time would be a few years at most. All you had to do was teach SHRDLU more words.\\n\\nThere weren't any classes in AI at Cornell then, not even graduate classes, so I started trying to teach myself. Which meant learning Lisp, since in those days Lisp was regarded as the language of AI. The commonly used programming languages then were pretty primitive, and programmers' ideas correspondingly so. The default language at Cornell was a Pascal-like language called PL/I, and the situation was similar elsewhere. Learning Lisp expanded my concept of a program so fast that it was years before I started to have a sense of where the new limits were. This was more like it; this was what I had expected college to do. It wasn't happening in a class, like it was supposed to, but that was ok. For the next couple years I was on a roll. I knew what I was going to do.\\n\\nFor my undergraduate thesis, I reverse-engineered SHRDLU. My God did I love working on that program. It was a pleasing bit of code, but what made it even more exciting was my belief — hard to imagine now, but not unique in 1985 — that it was already climbing the lower slopes of intelligence.\\n\\nI had gotten into a program at Cornell that didn't make you choose a major. You could take whatever classes you liked, and choose whatever you liked to put on your degree. I of course chose \"Artificial Intelligence.\" When I got the actual physical diploma, I was dismayed to find that the quotes had been included, which made them read as scare-quotes. At the time this bothered me, but now it seems amusingly accurate, for reasons I was about to discover.\\n\\nI applied to 3 grad schools: MIT and Yale, which were renowned for AI at the time, and Harvard, which I'd visited because Rich Draves went there, and was also home to Bill Woods, who'd invented the type of parser I used in my SHRDLU clone. Only Harvard accepted me, so that was where I went.\\n\\nI don't remember the moment it happened, or if there even was a specific moment, but during the first year of grad school I realized that AI, as practiced at the time, was a hoax. By which I mean the sort of AI in which a program that's told \"the dog is sitting on the chair\" translates this into some formal representation and adds it to the list of things it knows.\\n\\nWhat these programs really showed was that there's a subset of natural language that's a formal language. But a very proper subset. It was clear that there was an unbridgeable gap between what they could do and actually understanding natural language. It was not, in fact, simply a matter of teaching SHRDLU more words. That whole way of doing AI, with explicit data structures representing concepts, was not going to work. Its brokenness did, as so often happens, generate a lot of opportunities to write papers about various band-aids that could be applied to it, but it was never going to get us Mike.\\n\\nSo I looked around to see what I could salvage from the wreckage of my plans, and there was Lisp. I knew from experience that Lisp was interesting for its own sake and not just for its association with AI, even though that was the main reason people cared about it at the time. So I decided to focus on Lisp. In fact, I decided to write a book about Lisp hacking. It's scary to think how little I knew about Lisp hacking when I started writing that book. But there's nothing like writing a book about something to help you learn it. The book, On Lisp, wasn't published till 1993, but I wrote much of it in grad school.\\n\\nComputer Science is an uneasy alliance between two halves, theory and systems. The theory people prove things, and the systems people build things. I wanted to build things.]   \n",
       "\n",
       "  reference_answer reference_answer_by    query_by  \n",
       "0                   None                ai (gpt-4)  \n",
       "1                   None                ai (gpt-4)  \n",
       "2                   None                ai (gpt-4)  \n",
       "3                   None                ai (gpt-4)  \n",
       "4                   None                ai (gpt-4)  "
      ]
     },
     "execution_count": 52,
     "metadata": {},
     "output_type": "execute_result"
    }
   ],
   "source": [
    "eval_questions.to_pandas().head(5)"
   ]
  },
  {
   "cell_type": "code",
   "execution_count": 54,
   "metadata": {},
   "outputs": [
    {
     "name": "stdout",
     "output_type": "stream",
     "text": [
      "- \"Describe the author's early experiences with programming. What was the first machine he used and what challenges did he face while trying to write programs on it?\"\n",
      "- \"What were the author's initial career aspirations before college and how did his experiences in college change his perspective and career path?\"\n",
      "- \"Discuss the influence of the novel 'The Moon is a Harsh Mistress' and the PBS documentary featuring Terry Winograd on the author's decision to switch to AI. Why did these two sources inspire him?\"\n",
      "- \"In the context, the author mentions a novel by Heinlein that influenced his interest in AI. What is the name of this novel and how did it inspire the author's interest in AI?\"\n",
      "- \"The author discusses his experience with learning Lisp and how it expanded his concept of a program. Can you explain what Lisp is and why it was considered the language of AI during that time?\"\n"
     ]
    }
   ],
   "source": [
    "for q in [e.query for e in eval_questions.examples[0:5]]:\n",
    "    print(f\"- {q}\")"
   ]
  },
  {
   "cell_type": "markdown",
   "metadata": {},
   "source": [
    "#### Saving our Dataset"
   ]
  },
  {
   "cell_type": "code",
   "execution_count": 55,
   "metadata": {},
   "outputs": [],
   "source": [
    "eval_questions.save_json(\"../../Data/rag_dataset.json\")"
   ]
  },
  {
   "cell_type": "markdown",
   "metadata": {},
   "source": [
    "#### Reading the saved Dataset"
   ]
  },
  {
   "cell_type": "code",
   "execution_count": 57,
   "metadata": {},
   "outputs": [],
   "source": [
    "eval_questions = LabelledRagDataset.from_json(\"../../Data/rag_dataset.json\")"
   ]
  },
  {
   "cell_type": "markdown",
   "metadata": {},
   "source": [
    "#### Using the Dataset for Evaluation (creating an index with the same source of the questions)"
   ]
  },
  {
   "cell_type": "code",
   "execution_count": 58,
   "metadata": {},
   "outputs": [],
   "source": [
    "evaluator = RelevancyEvaluator(llm=llm)"
   ]
  },
  {
   "cell_type": "code",
   "execution_count": 59,
   "metadata": {},
   "outputs": [
    {
     "name": "stdout",
     "output_type": "stream",
     "text": [
      "INFO:httpx:HTTP Request: POST https://api.openai.com/v1/embeddings \"HTTP/1.1 200 OK\"\n",
      "HTTP Request: POST https://api.openai.com/v1/embeddings \"HTTP/1.1 200 OK\"\n"
     ]
    }
   ],
   "source": [
    "# create vector index\n",
    "vector_index = VectorStoreIndex.from_documents(documents)"
   ]
  },
  {
   "cell_type": "markdown",
   "metadata": {},
   "source": [
    "#### Defining another jupyter display function"
   ]
  },
  {
   "cell_type": "code",
   "execution_count": 70,
   "metadata": {},
   "outputs": [],
   "source": [
    "def display_eval_df(query: str, response: Response, eval_result: str) -> None:\n",
    "    eval_df = pd.DataFrame(\n",
    "        {\n",
    "            \"Query\": query,\n",
    "            \"Response\": str(response.response),\n",
    "            \"Source\": (response.source_nodes[0].node.get_content()[:1000] + \"...\"),\n",
    "            \"Evaluation Result\": eval_result,\n",
    "        },\n",
    "        index=[0],\n",
    "    )\n",
    "    eval_df = eval_df.style.set_properties(\n",
    "        **{\n",
    "            \"inline-size\": \"600px\",\n",
    "            \"overflow-wrap\": \"break-word\",\n",
    "        },\n",
    "        subset=[\"Response\", \"Source\"]\n",
    "    )\n",
    "    display(eval_df)"
   ]
  },
  {
   "cell_type": "code",
   "execution_count": 66,
   "metadata": {},
   "outputs": [
    {
     "data": {
      "text/plain": [
       "'\"What were the author\\'s initial career aspirations before college and how did his experiences in college change his perspective and career path?\"'"
      ]
     },
     "execution_count": 66,
     "metadata": {},
     "output_type": "execute_result"
    }
   ],
   "source": [
    "eval_questions[1].query"
   ]
  },
  {
   "cell_type": "code",
   "execution_count": 68,
   "metadata": {},
   "outputs": [
    {
     "name": "stdout",
     "output_type": "stream",
     "text": [
      "INFO:httpx:HTTP Request: POST https://api.openai.com/v1/embeddings \"HTTP/1.1 200 OK\"\n",
      "HTTP Request: POST https://api.openai.com/v1/embeddings \"HTTP/1.1 200 OK\"\n",
      "INFO:httpx:HTTP Request: POST https://api.openai.com/v1/chat/completions \"HTTP/1.1 200 OK\"\n",
      "HTTP Request: POST https://api.openai.com/v1/chat/completions \"HTTP/1.1 200 OK\"\n",
      "INFO:httpx:HTTP Request: POST https://api.openai.com/v1/chat/completions \"HTTP/1.1 200 OK\"\n",
      "HTTP Request: POST https://api.openai.com/v1/chat/completions \"HTTP/1.1 200 OK\"\n"
     ]
    },
    {
     "data": {
      "text/html": [
       "<style type=\"text/css\">\n",
       "#T_81f08_row0_col1, #T_81f08_row0_col2 {\n",
       "  inline-size: 600px;\n",
       "  overflow-wrap: break-word;\n",
       "}\n",
       "</style>\n",
       "<table id=\"T_81f08\">\n",
       "  <thead>\n",
       "    <tr>\n",
       "      <th class=\"blank level0\" >&nbsp;</th>\n",
       "      <th id=\"T_81f08_level0_col0\" class=\"col_heading level0 col0\" >Query</th>\n",
       "      <th id=\"T_81f08_level0_col1\" class=\"col_heading level0 col1\" >Response</th>\n",
       "      <th id=\"T_81f08_level0_col2\" class=\"col_heading level0 col2\" >Source</th>\n",
       "      <th id=\"T_81f08_level0_col3\" class=\"col_heading level0 col3\" >Evaluation Result</th>\n",
       "    </tr>\n",
       "  </thead>\n",
       "  <tbody>\n",
       "    <tr>\n",
       "      <th id=\"T_81f08_level0_row0\" class=\"row_heading level0 row0\" >0</th>\n",
       "      <td id=\"T_81f08_row0_col0\" class=\"data row0 col0\" >\"What were the author's initial career aspirations before college and how did his experiences in college change his perspective and career path?\"</td>\n",
       "      <td id=\"T_81f08_row0_col1\" class=\"data row0 col1\" >The novel \"The Moon is a Harsh Mistress\" and the PBS documentary featuring Terry Winograd had a significant impact on the author's decision to switch to AI. The novel, which features an intelligent computer named Mike, captivated the author and created a sense of anticipation about the future of AI. It painted a vivid picture of a world where intelligent machines could exist, leading him to believe that such advancements were imminent.\n",
       "\n",
       "Similarly, the PBS documentary showcasing Winograd using SHRDLU, an early natural language processing program, further fueled his enthusiasm. The demonstration suggested that the development of intelligent systems was not just a distant dream but something that could be realized in the near future. The author was inspired by the idea that with enough knowledge and effort, it was possible to teach machines to understand and process human language, which aligned with his growing interest in AI.\n",
       "\n",
       "Together, these sources instilled a sense of excitement and possibility, prompting the author to shift his focus from philosophy, which he found unfulfilling, to the burgeoning field of artificial intelligence.</td>\n",
       "      <td id=\"T_81f08_row0_col2\" class=\"data row0 col2\" >I couldn't have put this into words when I was 18. All I knew at the time was that I kept taking philosophy courses and they kept being boring. So I decided to switch to AI.\r\n",
       "\r\n",
       "AI was in the air in the mid 1980s, but there were two things especially that made me want to work on it: a novel by Heinlein called The Moon is a Harsh Mistress, which featured an intelligent computer called Mike, and a PBS documentary that showed Terry Winograd using SHRDLU. I haven't tried rereading The Moon is a Harsh Mistress, so I don't know how well it has aged, but when I read it I was drawn entirely into its world. It seemed only a matter of time before we'd have Mike, and when I saw Winograd using SHRDLU, it seemed like that time would be a few years at most. All you had to do was teach SHRDLU more words.\r\n",
       "\r\n",
       "There weren't any classes in AI at Cornell then, not even graduate classes, so I started trying to teach myself. Which meant learning Lisp, since in those days Lisp was regarded as the language of ...</td>\n",
       "      <td id=\"T_81f08_row0_col3\" class=\"data row0 col3\" >YES</td>\n",
       "    </tr>\n",
       "  </tbody>\n",
       "</table>\n"
      ],
      "text/plain": [
       "<pandas.io.formats.style.Styler at 0x1a635969640>"
      ]
     },
     "metadata": {},
     "output_type": "display_data"
    }
   ],
   "source": [
    "query_engine = vector_index.as_query_engine()\n",
    "response_vector = query_engine.query(eval_questions[2].query)\n",
    "eval_result = evaluator.evaluate_response(query=eval_questions[1].query, response=response_vector)\n",
    "display_eval_df(eval_questions[1].query, response_vector, eval_result.feedback)"
   ]
  },
  {
   "cell_type": "code",
   "execution_count": 69,
   "metadata": {},
   "outputs": [
    {
     "name": "stdout",
     "output_type": "stream",
     "text": [
      "True\n",
      "1.0\n",
      "YES\n"
     ]
    }
   ],
   "source": [
    "print(eval_result.passing)\n",
    "print(eval_result.score)\n",
    "print(eval_result.feedback)"
   ]
  },
  {
   "cell_type": "markdown",
   "metadata": {},
   "source": [
    "# 2 Dataset generation  \n",
    "## 2.1 Benchmarking RAG Pipelines with a `LabelledRagDatatset`\n",
    "\n",
    "The `LabelledRagDataset` is meant to be used for evaluating any given RAG pipeline, for which there could be several configurations (i.e. choosing the `LLM`, values for the `similarity_top_k`, `chunk_size`, and others). \n",
    "This relates to traditional machine learning datasets, where `X` features are meant to predict a ground-truth label `y`. In this case, we use the `query` as well as the retrieved `contexts` as the \"features\" and the answer to the query, called `reference_answer` as the ground-truth label.\n",
    "\n",
    "And of course, such datasets are comprised of observations or examples. In the case of `LabelledRagDataset`, these are made up with a set of `LabelledRagDataExample`'s.\n",
    "\n",
    "Let's construct a `LabelledRagDataset` from scratch. Please note that the alternative to this would be to simply download a community supplied `LabelledRagDataset` from `llama-hub` in order to evaluate/benchmark your own RAG pipeline on it."
   ]
  },
  {
   "cell_type": "code",
   "execution_count": 72,
   "metadata": {},
   "outputs": [],
   "source": [
    "from llama_index.core.llama_dataset import (\n",
    "    LabelledRagDataExample,\n",
    "    CreatedByType,\n",
    "    CreatedBy,\n",
    ")\n",
    "\n",
    "# constructing a LabelledRagDataExample\n",
    "query = \"This is a test query, is it not?\"\n",
    "query_by = CreatedBy(type=CreatedByType.AI, model_name=\"gpt-4\")\n",
    "reference_answer = \"Yes it is.\"\n",
    "reference_answer_by = CreatedBy(type=CreatedByType.HUMAN)\n",
    "reference_contexts = [\"This is a sample context\"]\n",
    "\n",
    "rag_example = LabelledRagDataExample(\n",
    "    query=query,\n",
    "    query_by=query_by,\n",
    "    reference_contexts=reference_contexts,\n",
    "    reference_answer=reference_answer,\n",
    "    reference_answer_by=reference_answer_by,\n",
    ")"
   ]
  },
  {
   "cell_type": "markdown",
   "metadata": {},
   "source": [
    "The `LabelledRagDataExample` is a Pydantic `Model` and so, going from `json` or `dict` (and vice-versa) is possible."
   ]
  },
  {
   "cell_type": "markdown",
   "metadata": {},
   "source": [
    "JSON view"
   ]
  },
  {
   "cell_type": "code",
   "execution_count": 73,
   "metadata": {},
   "outputs": [
    {
     "name": "stdout",
     "output_type": "stream",
     "text": [
      "{\"query\":\"This is a test query, is it not?\",\"query_by\":{\"model_name\":\"gpt-4\",\"type\":\"ai\"},\"reference_contexts\":[\"This is a sample context\"],\"reference_answer\":\"Yes it is.\",\"reference_answer_by\":{\"model_name\":\"\",\"type\":\"human\"}}\n"
     ]
    }
   ],
   "source": [
    "print(rag_example.json())"
   ]
  },
  {
   "cell_type": "code",
   "execution_count": 74,
   "metadata": {},
   "outputs": [
    {
     "data": {
      "text/plain": [
       "LabelledRagDataExample(query='This is a test query, is it not?', query_by=CreatedBy(model_name='gpt-4', type=<CreatedByType.AI: 'ai'>), reference_contexts=['This is a sample context'], reference_answer='Yes it is.', reference_answer_by=CreatedBy(model_name='', type=<CreatedByType.HUMAN: 'human'>))"
      ]
     },
     "execution_count": 74,
     "metadata": {},
     "output_type": "execute_result"
    }
   ],
   "source": [
    "LabelledRagDataExample.parse_raw(rag_example.json())"
   ]
  },
  {
   "cell_type": "markdown",
   "metadata": {},
   "source": [
    "Dictionary view"
   ]
  },
  {
   "cell_type": "code",
   "execution_count": 75,
   "metadata": {},
   "outputs": [
    {
     "data": {
      "text/plain": [
       "{'query': 'This is a test query, is it not?',\n",
       " 'query_by': {'model_name': 'gpt-4', 'type': <CreatedByType.AI: 'ai'>},\n",
       " 'reference_contexts': ['This is a sample context'],\n",
       " 'reference_answer': 'Yes it is.',\n",
       " 'reference_answer_by': {'model_name': '',\n",
       "  'type': <CreatedByType.HUMAN: 'human'>}}"
      ]
     },
     "execution_count": 75,
     "metadata": {},
     "output_type": "execute_result"
    }
   ],
   "source": [
    "rag_example.dict()"
   ]
  },
  {
   "cell_type": "code",
   "execution_count": 76,
   "metadata": {},
   "outputs": [
    {
     "data": {
      "text/plain": [
       "LabelledRagDataExample(query='This is a test query, is it not?', query_by=CreatedBy(model_name='gpt-4', type=<CreatedByType.AI: 'ai'>), reference_contexts=['This is a sample context'], reference_answer='Yes it is.', reference_answer_by=CreatedBy(model_name='', type=<CreatedByType.HUMAN: 'human'>))"
      ]
     },
     "execution_count": 76,
     "metadata": {},
     "output_type": "execute_result"
    }
   ],
   "source": [
    "LabelledRagDataExample.parse_obj(rag_example.dict())"
   ]
  },
  {
   "cell_type": "markdown",
   "metadata": {},
   "source": [
    "#### Let's create a second example, so we can have a (slightly) more interesting `LabelledRagDataset`."
   ]
  },
  {
   "cell_type": "code",
   "execution_count": 77,
   "metadata": {},
   "outputs": [],
   "source": [
    "query = \"This is a test query, is it so?\"\n",
    "reference_answer = \"I think yes, it is.\"\n",
    "reference_contexts = [\"This is a second sample context\"]\n",
    "\n",
    "rag_example_2 = LabelledRagDataExample(\n",
    "    query=query,\n",
    "    query_by=query_by,\n",
    "    reference_contexts=reference_contexts,\n",
    "    reference_answer=reference_answer,\n",
    "    reference_answer_by=reference_answer_by,\n",
    ")"
   ]
  },
  {
   "cell_type": "markdown",
   "metadata": {},
   "source": [
    "### The `LabelledRagDataset` Class"
   ]
  },
  {
   "cell_type": "code",
   "execution_count": 78,
   "metadata": {},
   "outputs": [
    {
     "data": {
      "text/html": [
       "<div>\n",
       "<style scoped>\n",
       "    .dataframe tbody tr th:only-of-type {\n",
       "        vertical-align: middle;\n",
       "    }\n",
       "\n",
       "    .dataframe tbody tr th {\n",
       "        vertical-align: top;\n",
       "    }\n",
       "\n",
       "    .dataframe thead th {\n",
       "        text-align: right;\n",
       "    }\n",
       "</style>\n",
       "<table border=\"1\" class=\"dataframe\">\n",
       "  <thead>\n",
       "    <tr style=\"text-align: right;\">\n",
       "      <th></th>\n",
       "      <th>query</th>\n",
       "      <th>reference_contexts</th>\n",
       "      <th>reference_answer</th>\n",
       "      <th>reference_answer_by</th>\n",
       "      <th>query_by</th>\n",
       "    </tr>\n",
       "  </thead>\n",
       "  <tbody>\n",
       "    <tr>\n",
       "      <th>0</th>\n",
       "      <td>This is a test query, is it not?</td>\n",
       "      <td>[This is a sample context]</td>\n",
       "      <td>Yes it is.</td>\n",
       "      <td>human</td>\n",
       "      <td>ai (gpt-4)</td>\n",
       "    </tr>\n",
       "    <tr>\n",
       "      <th>1</th>\n",
       "      <td>This is a test query, is it so?</td>\n",
       "      <td>[This is a second sample context]</td>\n",
       "      <td>I think yes, it is.</td>\n",
       "      <td>human</td>\n",
       "      <td>ai (gpt-4)</td>\n",
       "    </tr>\n",
       "  </tbody>\n",
       "</table>\n",
       "</div>"
      ],
      "text/plain": [
       "                              query                 reference_contexts  \\\n",
       "0  This is a test query, is it not?  [This is a sample context]          \n",
       "1  This is a test query, is it so?   [This is a second sample context]   \n",
       "\n",
       "      reference_answer reference_answer_by    query_by  \n",
       "0  Yes it is.           human               ai (gpt-4)  \n",
       "1  I think yes, it is.  human               ai (gpt-4)  "
      ]
     },
     "execution_count": 78,
     "metadata": {},
     "output_type": "execute_result"
    }
   ],
   "source": [
    "from llama_index.core.llama_dataset import LabelledRagDataset\n",
    "\n",
    "new_rag_dataset = LabelledRagDataset(examples=[rag_example, rag_example_2])\n",
    "new_rag_dataset.to_pandas()"
   ]
  },
  {
   "cell_type": "markdown",
   "metadata": {},
   "source": [
    "To persist and load the dataset to and from disk, there are the `save_json` and `from_json` methods."
   ]
  },
  {
   "cell_type": "code",
   "execution_count": 79,
   "metadata": {},
   "outputs": [],
   "source": [
    "new_rag_dataset.save_json(\"../../Data/new_rag_dataset.json\")\n",
    "reload_rag_dataset = LabelledRagDataset.from_json(\"../../Data/rag_dataset.json\")"
   ]
  },
  {
   "cell_type": "markdown",
   "metadata": {},
   "source": [
    "#### Building a synthetic `LabelledRagDataset` over Wikipedia \n",
    "\n",
    "For this section, we'll first create a `LabelledRagDataset` using a synthetic generator. Ultimately, we will use GPT-4 to produce both the `query` and `reference_answer` for the synthetic `LabelledRagDataExample`'s.\n",
    "\n",
    "NOTE: if one has queries, reference answers, and contexts over a text corpus, then it is not necessary to use data synthesis to be able to predict and subsequently evaluate said predictions."
   ]
  },
  {
   "cell_type": "code",
   "execution_count": 80,
   "metadata": {},
   "outputs": [],
   "source": [
    "from tqdm.asyncio import tqdm_asyncio\n",
    "import nest_asyncio\n",
    "nest_asyncio.apply()"
   ]
  },
  {
   "cell_type": "code",
   "execution_count": 81,
   "metadata": {},
   "outputs": [],
   "source": [
    "#%pip install -q llama-index-llms-openai\n",
    "%pip install -qU llama-index-readers-wikipedia\n",
    "%pip install -q wikipedia"
   ]
  },
  {
   "cell_type": "code",
   "execution_count": 85,
   "metadata": {},
   "outputs": [],
   "source": [
    "#from llama_index.llms.openai import OpenAI\n",
    "#from llama_index.core.llama_dataset.generator import RagDatasetGenerator\n",
    "from llama_index.readers.wikipedia import WikipediaReader\n",
    "from llama_index.core import VectorStoreIndex"
   ]
  },
  {
   "cell_type": "markdown",
   "metadata": {},
   "source": [
    "#### Creating a small Corpus from wikipedia"
   ]
  },
  {
   "cell_type": "code",
   "execution_count": 86,
   "metadata": {},
   "outputs": [
    {
     "name": "stdout",
     "output_type": "stream",
     "text": [
      "INFO:httpx:HTTP Request: POST https://api.openai.com/v1/embeddings \"HTTP/1.1 200 OK\"\n",
      "HTTP Request: POST https://api.openai.com/v1/embeddings \"HTTP/1.1 200 OK\"\n"
     ]
    }
   ],
   "source": [
    "cities = [\"Vienna\",]\n",
    "documents = WikipediaReader().load_data(pages=[f\"History of {x}\" for x in cities])\n",
    "index = VectorStoreIndex.from_documents(documents)"
   ]
  },
  {
   "cell_type": "markdown",
   "metadata": {},
   "source": [
    "The `RagDatasetGenerator` can be built over a set of documents to generate `LabelledRagDataExample`'s."
   ]
  },
  {
   "cell_type": "markdown",
   "metadata": {},
   "source": [
    "#### Generating questions against chunks  \n",
    "#### Instantiating a DatasetGenerator"
   ]
  },
  {
   "cell_type": "code",
   "execution_count": 87,
   "metadata": {},
   "outputs": [
    {
     "data": {
      "application/vnd.jupyter.widget-view+json": {
       "model_id": "04f811bb5686437db4a42d9bd1a23ea9",
       "version_major": 2,
       "version_minor": 0
      },
      "text/plain": [
       "Parsing nodes:   0%|          | 0/1 [00:00<?, ?it/s]"
      ]
     },
     "metadata": {},
     "output_type": "display_data"
    }
   ],
   "source": [
    "dataset_generator = RagDatasetGenerator.from_documents(\n",
    "    documents,\n",
    "    llm=llm,\n",
    "    num_questions_per_chunk=2,  # set the number of questions per nodes\n",
    "    show_progress=True,\n",
    ")"
   ]
  },
  {
   "cell_type": "code",
   "execution_count": 88,
   "metadata": {},
   "outputs": [
    {
     "data": {
      "text/plain": [
       "8"
      ]
     },
     "execution_count": 88,
     "metadata": {},
     "output_type": "execute_result"
    }
   ],
   "source": [
    "len(dataset_generator.nodes)"
   ]
  },
  {
   "cell_type": "code",
   "execution_count": 89,
   "metadata": {},
   "outputs": [
    {
     "name": "stderr",
     "output_type": "stream",
     "text": [
      "  0%|          | 0/8 [00:00<?, ?it/s]"
     ]
    },
    {
     "name": "stdout",
     "output_type": "stream",
     "text": [
      "INFO:httpx:HTTP Request: POST https://api.openai.com/v1/chat/completions \"HTTP/1.1 200 OK\"\n",
      "HTTP Request: POST https://api.openai.com/v1/chat/completions \"HTTP/1.1 200 OK\"\n"
     ]
    },
    {
     "name": "stderr",
     "output_type": "stream",
     "text": [
      " 12%|█▎        | 1/8 [00:01<00:08,  1.25s/it]"
     ]
    },
    {
     "name": "stdout",
     "output_type": "stream",
     "text": [
      "INFO:httpx:HTTP Request: POST https://api.openai.com/v1/chat/completions \"HTTP/1.1 200 OK\"\n",
      "HTTP Request: POST https://api.openai.com/v1/chat/completions \"HTTP/1.1 200 OK\"\n"
     ]
    },
    {
     "name": "stderr",
     "output_type": "stream",
     "text": [
      " 25%|██▌       | 2/8 [00:01<00:04,  1.27it/s]"
     ]
    },
    {
     "name": "stdout",
     "output_type": "stream",
     "text": [
      "INFO:httpx:HTTP Request: POST https://api.openai.com/v1/chat/completions \"HTTP/1.1 200 OK\"\n",
      "HTTP Request: POST https://api.openai.com/v1/chat/completions \"HTTP/1.1 200 OK\"\n"
     ]
    },
    {
     "name": "stderr",
     "output_type": "stream",
     "text": [
      " 38%|███▊      | 3/8 [00:01<00:02,  1.89it/s]"
     ]
    },
    {
     "name": "stdout",
     "output_type": "stream",
     "text": [
      "INFO:httpx:HTTP Request: POST https://api.openai.com/v1/chat/completions \"HTTP/1.1 200 OK\"\n",
      "HTTP Request: POST https://api.openai.com/v1/chat/completions \"HTTP/1.1 200 OK\"\n",
      "INFO:httpx:HTTP Request: POST https://api.openai.com/v1/chat/completions \"HTTP/1.1 200 OK\"\n",
      "HTTP Request: POST https://api.openai.com/v1/chat/completions \"HTTP/1.1 200 OK\"\n"
     ]
    },
    {
     "name": "stderr",
     "output_type": "stream",
     "text": [
      " 62%|██████▎   | 5/8 [00:02<00:01,  2.10it/s]"
     ]
    },
    {
     "name": "stdout",
     "output_type": "stream",
     "text": [
      "INFO:httpx:HTTP Request: POST https://api.openai.com/v1/chat/completions \"HTTP/1.1 200 OK\"\n",
      "HTTP Request: POST https://api.openai.com/v1/chat/completions \"HTTP/1.1 200 OK\"\n"
     ]
    },
    {
     "name": "stderr",
     "output_type": "stream",
     "text": [
      " 75%|███████▌  | 6/8 [00:03<00:01,  1.97it/s]"
     ]
    },
    {
     "name": "stdout",
     "output_type": "stream",
     "text": [
      "INFO:httpx:HTTP Request: POST https://api.openai.com/v1/chat/completions \"HTTP/1.1 200 OK\"\n",
      "HTTP Request: POST https://api.openai.com/v1/chat/completions \"HTTP/1.1 200 OK\"\n"
     ]
    },
    {
     "name": "stderr",
     "output_type": "stream",
     "text": [
      " 88%|████████▊ | 7/8 [00:04<00:00,  1.74it/s]"
     ]
    },
    {
     "name": "stdout",
     "output_type": "stream",
     "text": [
      "INFO:httpx:HTTP Request: POST https://api.openai.com/v1/chat/completions \"HTTP/1.1 200 OK\"\n",
      "HTTP Request: POST https://api.openai.com/v1/chat/completions \"HTTP/1.1 200 OK\"\n"
     ]
    },
    {
     "name": "stderr",
     "output_type": "stream",
     "text": [
      "100%|██████████| 8/8 [00:04<00:00,  1.83it/s]\n",
      "  0%|          | 0/2 [00:00<?, ?it/s]"
     ]
    },
    {
     "name": "stdout",
     "output_type": "stream",
     "text": [
      "INFO:httpx:HTTP Request: POST https://api.openai.com/v1/chat/completions \"HTTP/1.1 200 OK\"\n",
      "HTTP Request: POST https://api.openai.com/v1/chat/completions \"HTTP/1.1 200 OK\"\n"
     ]
    },
    {
     "name": "stderr",
     "output_type": "stream",
     "text": [
      " 50%|█████     | 1/2 [00:03<00:03,  3.93s/it]"
     ]
    },
    {
     "name": "stdout",
     "output_type": "stream",
     "text": [
      "INFO:httpx:HTTP Request: POST https://api.openai.com/v1/chat/completions \"HTTP/1.1 200 OK\"\n",
      "HTTP Request: POST https://api.openai.com/v1/chat/completions \"HTTP/1.1 200 OK\"\n"
     ]
    },
    {
     "name": "stderr",
     "output_type": "stream",
     "text": [
      "100%|██████████| 2/2 [00:04<00:00,  2.29s/it]\n",
      "  0%|          | 0/2 [00:00<?, ?it/s]"
     ]
    },
    {
     "name": "stdout",
     "output_type": "stream",
     "text": [
      "INFO:httpx:HTTP Request: POST https://api.openai.com/v1/chat/completions \"HTTP/1.1 200 OK\"\n",
      "HTTP Request: POST https://api.openai.com/v1/chat/completions \"HTTP/1.1 200 OK\"\n"
     ]
    },
    {
     "name": "stderr",
     "output_type": "stream",
     "text": [
      " 50%|█████     | 1/2 [00:04<00:04,  4.36s/it]"
     ]
    },
    {
     "name": "stdout",
     "output_type": "stream",
     "text": [
      "INFO:httpx:HTTP Request: POST https://api.openai.com/v1/chat/completions \"HTTP/1.1 200 OK\"\n",
      "HTTP Request: POST https://api.openai.com/v1/chat/completions \"HTTP/1.1 200 OK\"\n"
     ]
    },
    {
     "name": "stderr",
     "output_type": "stream",
     "text": [
      "100%|██████████| 2/2 [00:06<00:00,  3.28s/it]\n",
      "  0%|          | 0/2 [00:00<?, ?it/s]"
     ]
    },
    {
     "name": "stdout",
     "output_type": "stream",
     "text": [
      "INFO:httpx:HTTP Request: POST https://api.openai.com/v1/chat/completions \"HTTP/1.1 200 OK\"\n",
      "HTTP Request: POST https://api.openai.com/v1/chat/completions \"HTTP/1.1 200 OK\"\n"
     ]
    },
    {
     "name": "stderr",
     "output_type": "stream",
     "text": [
      " 50%|█████     | 1/2 [00:06<00:06,  6.03s/it]"
     ]
    },
    {
     "name": "stdout",
     "output_type": "stream",
     "text": [
      "INFO:httpx:HTTP Request: POST https://api.openai.com/v1/chat/completions \"HTTP/1.1 200 OK\"\n",
      "HTTP Request: POST https://api.openai.com/v1/chat/completions \"HTTP/1.1 200 OK\"\n"
     ]
    },
    {
     "name": "stderr",
     "output_type": "stream",
     "text": [
      "100%|██████████| 2/2 [00:09<00:00,  4.93s/it]\n",
      "  0%|          | 0/2 [00:00<?, ?it/s]"
     ]
    },
    {
     "name": "stdout",
     "output_type": "stream",
     "text": [
      "INFO:httpx:HTTP Request: POST https://api.openai.com/v1/chat/completions \"HTTP/1.1 200 OK\"\n",
      "HTTP Request: POST https://api.openai.com/v1/chat/completions \"HTTP/1.1 200 OK\"\n"
     ]
    },
    {
     "name": "stderr",
     "output_type": "stream",
     "text": [
      " 50%|█████     | 1/2 [00:05<00:05,  5.31s/it]"
     ]
    },
    {
     "name": "stdout",
     "output_type": "stream",
     "text": [
      "INFO:httpx:HTTP Request: POST https://api.openai.com/v1/chat/completions \"HTTP/1.1 200 OK\"\n",
      "HTTP Request: POST https://api.openai.com/v1/chat/completions \"HTTP/1.1 200 OK\"\n"
     ]
    },
    {
     "name": "stderr",
     "output_type": "stream",
     "text": [
      "100%|██████████| 2/2 [00:07<00:00,  3.52s/it]\n",
      "  0%|          | 0/2 [00:00<?, ?it/s]"
     ]
    },
    {
     "name": "stdout",
     "output_type": "stream",
     "text": [
      "INFO:httpx:HTTP Request: POST https://api.openai.com/v1/chat/completions \"HTTP/1.1 200 OK\"\n",
      "HTTP Request: POST https://api.openai.com/v1/chat/completions \"HTTP/1.1 200 OK\"\n"
     ]
    },
    {
     "name": "stderr",
     "output_type": "stream",
     "text": [
      " 50%|█████     | 1/2 [00:06<00:06,  6.45s/it]"
     ]
    },
    {
     "name": "stdout",
     "output_type": "stream",
     "text": [
      "INFO:httpx:HTTP Request: POST https://api.openai.com/v1/chat/completions \"HTTP/1.1 200 OK\"\n",
      "HTTP Request: POST https://api.openai.com/v1/chat/completions \"HTTP/1.1 200 OK\"\n"
     ]
    },
    {
     "name": "stderr",
     "output_type": "stream",
     "text": [
      "100%|██████████| 2/2 [00:11<00:00,  5.62s/it]\n",
      "  0%|          | 0/2 [00:00<?, ?it/s]"
     ]
    },
    {
     "name": "stdout",
     "output_type": "stream",
     "text": [
      "INFO:httpx:HTTP Request: POST https://api.openai.com/v1/chat/completions \"HTTP/1.1 200 OK\"\n",
      "HTTP Request: POST https://api.openai.com/v1/chat/completions \"HTTP/1.1 200 OK\"\n"
     ]
    },
    {
     "name": "stderr",
     "output_type": "stream",
     "text": [
      " 50%|█████     | 1/2 [00:06<00:06,  6.82s/it]"
     ]
    },
    {
     "name": "stdout",
     "output_type": "stream",
     "text": [
      "INFO:httpx:HTTP Request: POST https://api.openai.com/v1/chat/completions \"HTTP/1.1 200 OK\"\n",
      "HTTP Request: POST https://api.openai.com/v1/chat/completions \"HTTP/1.1 200 OK\"\n"
     ]
    },
    {
     "name": "stderr",
     "output_type": "stream",
     "text": [
      "100%|██████████| 2/2 [00:08<00:00,  4.34s/it]\n",
      "  0%|          | 0/2 [00:00<?, ?it/s]"
     ]
    },
    {
     "name": "stdout",
     "output_type": "stream",
     "text": [
      "INFO:httpx:HTTP Request: POST https://api.openai.com/v1/chat/completions \"HTTP/1.1 200 OK\"\n",
      "HTTP Request: POST https://api.openai.com/v1/chat/completions \"HTTP/1.1 200 OK\"\n"
     ]
    },
    {
     "name": "stderr",
     "output_type": "stream",
     "text": [
      " 50%|█████     | 1/2 [00:06<00:06,  6.55s/it]"
     ]
    },
    {
     "name": "stdout",
     "output_type": "stream",
     "text": [
      "INFO:httpx:HTTP Request: POST https://api.openai.com/v1/chat/completions \"HTTP/1.1 200 OK\"\n",
      "HTTP Request: POST https://api.openai.com/v1/chat/completions \"HTTP/1.1 200 OK\"\n"
     ]
    },
    {
     "name": "stderr",
     "output_type": "stream",
     "text": [
      "100%|██████████| 2/2 [00:08<00:00,  4.11s/it]\n",
      "  0%|          | 0/2 [00:00<?, ?it/s]"
     ]
    },
    {
     "name": "stdout",
     "output_type": "stream",
     "text": [
      "INFO:httpx:HTTP Request: POST https://api.openai.com/v1/chat/completions \"HTTP/1.1 200 OK\"\n",
      "HTTP Request: POST https://api.openai.com/v1/chat/completions \"HTTP/1.1 200 OK\"\n"
     ]
    },
    {
     "name": "stderr",
     "output_type": "stream",
     "text": [
      " 50%|█████     | 1/2 [00:07<00:07,  7.21s/it]"
     ]
    },
    {
     "name": "stdout",
     "output_type": "stream",
     "text": [
      "INFO:httpx:HTTP Request: POST https://api.openai.com/v1/chat/completions \"HTTP/1.1 200 OK\"\n",
      "HTTP Request: POST https://api.openai.com/v1/chat/completions \"HTTP/1.1 200 OK\"\n"
     ]
    },
    {
     "name": "stderr",
     "output_type": "stream",
     "text": [
      "100%|██████████| 2/2 [00:12<00:00,  6.20s/it]\n"
     ]
    }
   ],
   "source": [
    "# since there are 8 nodes, there should be a total of 16 questions\n",
    "rag_dataset = dataset_generator.generate_dataset_from_nodes()"
   ]
  },
  {
   "cell_type": "code",
   "execution_count": 90,
   "metadata": {},
   "outputs": [
    {
     "data": {
      "text/html": [
       "<div>\n",
       "<style scoped>\n",
       "    .dataframe tbody tr th:only-of-type {\n",
       "        vertical-align: middle;\n",
       "    }\n",
       "\n",
       "    .dataframe tbody tr th {\n",
       "        vertical-align: top;\n",
       "    }\n",
       "\n",
       "    .dataframe thead th {\n",
       "        text-align: right;\n",
       "    }\n",
       "</style>\n",
       "<table border=\"1\" class=\"dataframe\">\n",
       "  <thead>\n",
       "    <tr style=\"text-align: right;\">\n",
       "      <th></th>\n",
       "      <th>query</th>\n",
       "      <th>reference_contexts</th>\n",
       "      <th>reference_answer</th>\n",
       "      <th>reference_answer_by</th>\n",
       "      <th>query_by</th>\n",
       "    </tr>\n",
       "  </thead>\n",
       "  <tbody>\n",
       "    <tr>\n",
       "      <th>0</th>\n",
       "      <td>Discuss the significance of the year 1155 in the history of Vienna and explain how it contributed to the city's development under the Babenberg dynasty.</td>\n",
       "      <td>[The history of Vienna has been long and varied, beginning when the Roman Empire created a military camp in the area now covered by Vienna's city centre. Vienna grew from the Roman settlement known as Vindobona to be an important trading site in the 11th century. It became the capital of the Babenberg dynasty and subsequently of the Austrian Habsburgs, under whom it became one of Europe's cultural hubs. During the 19th century as the capital of the Austrian Empire and later Austria-Hungary, it temporarily became one of Europe's biggest cities. Since the end of World War I, Vienna has been the capital of the Republic of Austria.\\n\\n\\n== Beginnings and early Middle Ages ==\\n\\nThe name Vindobona derives from a Celtic language, suggesting that the region must have been inhabited before Roman times. The Romans created a military camp (occupied by Legio X Gemina) during the 1st century on the site of the city centre of present-day Vienna. The settlement was raised to the status of a municipium in 212. Even today, the streets of the First District show where the encampment placed its walls and moats. The Romans stayed until the 5th century.\\nRoman Vindobona was located in the outskirts of the empire and thus fell prey to the chaos of the Migration Period. There are some indications that a catastrophic fire occurred around the beginning of the 5th century. However, the remains of the encampment were not deserted, and a small settlement remained. The streets and houses of early medieval Vienna followed the former Roman walls, which gives rise to the conclusion that parts of the fortification were still in place and used by the settlers.\\nByzantine copper coins from the 6th century have been found several times in the area of today's city centre, indicating considerable trade activity. Graves from the 6th century were found during excavations next to the Berghof, in an area around Salvatorgasse. At that time, the Lombards controlled the area, with Slavs and Avars following later. Early Vienna was  centred on the Berghof.\\nThe first documented mention of the city during the Middle Ages is within the Salzburg Annals, dating to 881, when a battle apud Weniam was fought against the Magyars. However, it is unclear whether this refers to the city or the River Wien.\\n\\n\\n== Babenberg rule ==\\n\\nIn 976, the Margraviate of Ostarrîchi was given to the Babenberg family. Vienna lay at its border with Hungary.\\nVienna was an important site of trade as early as the 11th century. In the Exchange of Mautern between the Bishop of Passau and Margrave Leopold IV, Vienna is mentioned as a Civitas for the first time, which indicates the existence of a well-ordered settlement. \\nIn 1155, Margrave Henry II of Austria made Vienna his capital. In 1156, Austria was raised to a duchy in the Privilegium Minus, with Vienna becoming the seat of all future dukes. During that time, the Schottenstift was founded.\\nThe events surrounding the Third Crusade, during which King Richard the Lionheart was discovered and captured by Duke Leopold V the Virtuous two days before Christmas of 1192 in Erdberg near Vienna, brought an enormous ransom of 50,000 Silver Marks (about 10 to 12 tons of silver, about a third of the emperor's claims against the English. Richard had been extradited to him in March 1193). This allowed the creation of a mint and the construction of city walls around the year 1200. At the U-Bahn station Stubentor, some remains of the city walls can still be seen today. Because he had abused a protected crusader, Leopold V was excommunicated by Pope Celestine III, and died (without having been absolved) after falling from a horse in a tournament.\\nIn 1221, Vienna received the rights of a city and as a staple port (Stapelrecht). This meant that all traders passing through Vienna had to offer their goods in the city. This allowed the Viennese to act as middlemen in trade, so that Vienna soon created a network of far-reaching trade relations, particularly along the Danube basin and to Venice, and to become one of the most important cities in the Holy Roman Empire.\\n\\nHowever, it was considered embarrassing that Vienna did not have its own bishop. It is known that Duke Frederick II negotiated about the creation of a bishopric in Vienna, and the same is suspected of Ottokar Přemysl.]</td>\n",
       "      <td>The year 1155 is significant in the history of Vienna as it marks the moment when Margrave Henry II of Austria made Vienna his capital. This decision was pivotal for the city's development under the Babenberg dynasty for several reasons.\\n\\nFirstly, by establishing Vienna as the capital, Henry II elevated its status from a regional settlement to a central political hub. This move not only solidified the Babenberg family's power but also positioned Vienna as a focal point for governance and administration in the region. As the seat of the dukes, Vienna became the center of political activity, which attracted nobility, merchants, and artisans, fostering economic growth and urban development.\\n\\nSecondly, the elevation of Vienna to capital status coincided with the raising of Austria to a duchy in 1156 through the Privilegium Minus. This change further enhanced Vienna's importance, as it became the administrative heart of the newly established duchy. The presence of the ducal court and the associated administrative functions stimulated the local economy and encouraged the establishment of institutions that would support trade and commerce.\\n\\nAdditionally, the Babenberg dynasty's focus on Vienna led to significant infrastructural developments. The city began to grow in size and complexity, with the construction of city walls and other fortifications around the year 1200, which were essential for protecting the burgeoning population and trade activities. The establishment of a mint following the capture of King Richard the Lionheart during the Third Crusade also contributed to the city's economic prosperity, allowing Vienna to engage more actively in trade.\\n\\nIn summary, the year 1155 was a turning point for Vienna, as it became the capital of the Babenberg dynasty. This status not only enhanced its political significance but also laid the groundwork for economic growth, urban development, and the establishment of vital trade networks, ultimately shaping Vienna into one of the most important cities in the Holy Roman Empire.</td>\n",
       "      <td>ai (gpt-4o-mini)</td>\n",
       "      <td>ai (gpt-4o-mini)</td>\n",
       "    </tr>\n",
       "    <tr>\n",
       "      <th>1</th>\n",
       "      <td>What were the implications of Vienna receiving the rights of a city and staple port in 1221, and how did this status affect its role in trade within the Holy Roman Empire?</td>\n",
       "      <td>[The history of Vienna has been long and varied, beginning when the Roman Empire created a military camp in the area now covered by Vienna's city centre. Vienna grew from the Roman settlement known as Vindobona to be an important trading site in the 11th century. It became the capital of the Babenberg dynasty and subsequently of the Austrian Habsburgs, under whom it became one of Europe's cultural hubs. During the 19th century as the capital of the Austrian Empire and later Austria-Hungary, it temporarily became one of Europe's biggest cities. Since the end of World War I, Vienna has been the capital of the Republic of Austria.\\n\\n\\n== Beginnings and early Middle Ages ==\\n\\nThe name Vindobona derives from a Celtic language, suggesting that the region must have been inhabited before Roman times. The Romans created a military camp (occupied by Legio X Gemina) during the 1st century on the site of the city centre of present-day Vienna. The settlement was raised to the status of a municipium in 212. Even today, the streets of the First District show where the encampment placed its walls and moats. The Romans stayed until the 5th century.\\nRoman Vindobona was located in the outskirts of the empire and thus fell prey to the chaos of the Migration Period. There are some indications that a catastrophic fire occurred around the beginning of the 5th century. However, the remains of the encampment were not deserted, and a small settlement remained. The streets and houses of early medieval Vienna followed the former Roman walls, which gives rise to the conclusion that parts of the fortification were still in place and used by the settlers.\\nByzantine copper coins from the 6th century have been found several times in the area of today's city centre, indicating considerable trade activity. Graves from the 6th century were found during excavations next to the Berghof, in an area around Salvatorgasse. At that time, the Lombards controlled the area, with Slavs and Avars following later. Early Vienna was  centred on the Berghof.\\nThe first documented mention of the city during the Middle Ages is within the Salzburg Annals, dating to 881, when a battle apud Weniam was fought against the Magyars. However, it is unclear whether this refers to the city or the River Wien.\\n\\n\\n== Babenberg rule ==\\n\\nIn 976, the Margraviate of Ostarrîchi was given to the Babenberg family. Vienna lay at its border with Hungary.\\nVienna was an important site of trade as early as the 11th century. In the Exchange of Mautern between the Bishop of Passau and Margrave Leopold IV, Vienna is mentioned as a Civitas for the first time, which indicates the existence of a well-ordered settlement. \\nIn 1155, Margrave Henry II of Austria made Vienna his capital. In 1156, Austria was raised to a duchy in the Privilegium Minus, with Vienna becoming the seat of all future dukes. During that time, the Schottenstift was founded.\\nThe events surrounding the Third Crusade, during which King Richard the Lionheart was discovered and captured by Duke Leopold V the Virtuous two days before Christmas of 1192 in Erdberg near Vienna, brought an enormous ransom of 50,000 Silver Marks (about 10 to 12 tons of silver, about a third of the emperor's claims against the English. Richard had been extradited to him in March 1193). This allowed the creation of a mint and the construction of city walls around the year 1200. At the U-Bahn station Stubentor, some remains of the city walls can still be seen today. Because he had abused a protected crusader, Leopold V was excommunicated by Pope Celestine III, and died (without having been absolved) after falling from a horse in a tournament.\\nIn 1221, Vienna received the rights of a city and as a staple port (Stapelrecht). This meant that all traders passing through Vienna had to offer their goods in the city. This allowed the Viennese to act as middlemen in trade, so that Vienna soon created a network of far-reaching trade relations, particularly along the Danube basin and to Venice, and to become one of the most important cities in the Holy Roman Empire.\\n\\nHowever, it was considered embarrassing that Vienna did not have its own bishop. It is known that Duke Frederick II negotiated about the creation of a bishopric in Vienna, and the same is suspected of Ottokar Přemysl.]</td>\n",
       "      <td>The granting of city rights and staple port status to Vienna in 1221 had significant implications for its development and role in trade within the Holy Roman Empire. \\n\\nFirstly, receiving city rights meant that Vienna was recognized as a self-governing entity with certain privileges, which included the ability to establish its own laws and governance structures. This autonomy allowed Vienna to develop a more organized and structured urban environment, fostering a sense of community and stability that was attractive to traders and settlers.\\n\\nThe staple port status (Stapelrecht) was particularly crucial for Vienna's economic growth. It mandated that all traders passing through the city had to offer their goods for sale there before continuing on their journeys. This requirement positioned Vienna as a central hub in trade networks, allowing it to act as a middleman in the exchange of goods. As a result, the city became a vital point for commerce, facilitating trade not only along the Danube basin but also extending to Venice and beyond.\\n\\nThis enhanced trade activity contributed to Vienna's emergence as one of the most important cities in the Holy Roman Empire. The influx of goods and merchants led to increased economic prosperity, which in turn attracted more people to the city, further boosting its population and economic significance. The establishment of a network of far-reaching trade relations helped Vienna to solidify its status as a cultural and economic center in the region.\\n\\nIn summary, the rights granted to Vienna in 1221 transformed it into a key player in the trade dynamics of the Holy Roman Empire, fostering economic growth, urban development, and a strategic position in regional commerce.</td>\n",
       "      <td>ai (gpt-4o-mini)</td>\n",
       "      <td>ai (gpt-4o-mini)</td>\n",
       "    </tr>\n",
       "    <tr>\n",
       "      <th>2</th>\n",
       "      <td>Discuss the significance of Rudolf IV of Austria's contributions to Vienna during the Habsburg rule, particularly in relation to the establishment of the University of Vienna and the construction of the Stephansdom.</td>\n",
       "      <td>[== Habsburg rule ==\\n\\nIn 1278, Rudolf I took control over the Austrian lands after his victory over Ottokar II of Bohemia and began to establish Habsburg rule. In Vienna, it took a relatively long time for the Habsburgs to establish their control, because partisans of Ottokar remained strong for a long time. There were several uprisings against Albert I. The family of the Paltrams vom Stephansfreithof was foremost among the insurgents.\\nIn 1280, Jans der Enikel wrote the \"Fürstenbuch\", a first history of the city.\\nWith the Luxembourg emperors, Prague became the imperial residence and Vienna stood in its shadow. The early Habsburgs attempted to extend it in order to keep up. Duke Albert II, for example, had the gothic choir of the Stephansdom built. In 1327, Frederick the Handsome published his edict allowing the city to maintain an Eisenbuch (iron book) listing its privileges.\\n\\nThe combination of the heraldic eagle with the city coat of arms showing a white cross in a red field is found on a seal dated 1327.\\nThis heraldic emblem was in use throughout the 14th century in different variants.\\nRudolf IV of Austria deserves credit for his prudent economic policy, which raised the level of prosperity. His epithet the Founder is due to two things: first, he founded the University of Vienna in 1365, and second, he began the construction of the gothic nave in the Stephansdom. The latter is connected to the creation of a metropolitan chapter, as a symbolic substitute for a bishop.\\nThere was a period of inheritance disputes among the Habsburgs resulting not only in confusion, but also in an economic decline and social unrest, with disputes between the parties of patricians and artisans. While the patricians supported Ernest the Iron, the artisans supported Leopold IV. In 1408, the mayor Konrad Vorlauf, an  exponent of the patrician party, was executed.\\nAfter the election of Duke Albert V as German King Albert II, Vienna became the capital of the Holy Roman Empire. Albert's name is remembered for his expulsion of the Jewish population of Vienna in 1421/22.\\nEventually, in 1469, Vienna was given its own bishop, and the Stephansdom became a cathedral. During the upheavals of the era of Emperor Frederick III, Vienna remained on the side of his opponents (first Albert VI, then Matthias Corvinus), as Frederick proved unable to maintain peace in the land vis-à-vis rampaging gangs of mercenaries (often remaining from the Hussite Wars).\\nIn 1485, the Hungarian King Matthias Corvinus and the Black Army of Hungary conquered the city and Vienna became the king's seat that served as the capital of Hungary until 1490.\\nIn 1522, under Ferdinand I, Holy Roman Emperor the Blood Judgment of Wiener Neustadt led to the execution of leading members of the opposition within the city, and thus a destruction of the political structures. From then on, the city stood under direct imperial control.\\n\\nIn 1556, Vienna became the seat of the Emperor, with Bohemia having been added to the Habsburg realm in 1526.\\nDuring this time, the city was also recatholicised after having become Protestant rather quickly. In 1551, the Jesuits were brought to town and soon gained a large influence in court. The leader of the Counter-Reformation here was Melchior Khlesl, Bishop of Vienna from 1600.\\n\\n\\n=== Turkish sieges ===\\n\\nIn 1529, Vienna was besieged by the Ottoman Turks for the first time (the First Turkish Siege), although unsuccessfully. The city, protected by medieval walls, only barely withstood the attacks, until epidemics and an early winter forced the Turks to retreat. The siege had shown that new fortifications were needed. Following plans by Sebastian Schrantz, Vienna was expanded to a fortress in 1548. The city was furnished with eleven bastions and surrounded by a moat. A glacis was created around Vienna, a broad strip without any buildings, which allowed defenders to fire freely. These fortifications, which accounted for the major part of building activities well into the 17th century, became decisive in the Second Turkish Siege of 1683, as they allowed the city to maintain itself for two months, until the Turkish army was defeated by the army led by the Polish King John III Sobieski. This was the turning point in the Turkish Wars, as the Ottoman Empire was pushed back more and more during the following decades.]</td>\n",
       "      <td>Rudolf IV of Austria, known as \"the Founder,\" played a pivotal role in shaping Vienna during the Habsburg rule through his significant contributions to the city's cultural and architectural landscape. His establishment of the University of Vienna in 1365 marked a crucial step in the development of higher education in the region, positioning Vienna as an intellectual center in Central Europe. This institution not only fostered academic growth but also attracted scholars and students, enhancing the city's reputation and contributing to its prosperity.\\n\\nIn addition to his educational reforms, Rudolf IV initiated the construction of the gothic nave of the Stephansdom, which became a symbol of Vienna's religious and cultural identity. This project was significant not only for its architectural grandeur but also for its role in establishing a metropolitan chapter, effectively elevating the status of the church in Vienna. The cathedral became a focal point for the community, reflecting the city's aspirations and ambitions during a time when it was striving to assert its importance within the Holy Roman Empire.\\n\\nRudolf IV's prudent economic policies further supported these initiatives, leading to increased prosperity in Vienna. His contributions laid the groundwork for the city's development as a major urban center, influencing its social, cultural, and political landscape for generations to come. Overall, Rudolf IV's legacy is marked by his efforts to enhance Vienna's educational and architectural stature, which were instrumental in the city's evolution during the Habsburg era.</td>\n",
       "      <td>ai (gpt-4o-mini)</td>\n",
       "      <td>ai (gpt-4o-mini)</td>\n",
       "    </tr>\n",
       "    <tr>\n",
       "      <th>3</th>\n",
       "      <td>Analyze the impact of the First Turkish Siege of 1529 on Vienna's fortifications and military strategy, and explain how these developments influenced the outcome of the Second Turkish Siege in 1683.</td>\n",
       "      <td>[== Habsburg rule ==\\n\\nIn 1278, Rudolf I took control over the Austrian lands after his victory over Ottokar II of Bohemia and began to establish Habsburg rule. In Vienna, it took a relatively long time for the Habsburgs to establish their control, because partisans of Ottokar remained strong for a long time. There were several uprisings against Albert I. The family of the Paltrams vom Stephansfreithof was foremost among the insurgents.\\nIn 1280, Jans der Enikel wrote the \"Fürstenbuch\", a first history of the city.\\nWith the Luxembourg emperors, Prague became the imperial residence and Vienna stood in its shadow. The early Habsburgs attempted to extend it in order to keep up. Duke Albert II, for example, had the gothic choir of the Stephansdom built. In 1327, Frederick the Handsome published his edict allowing the city to maintain an Eisenbuch (iron book) listing its privileges.\\n\\nThe combination of the heraldic eagle with the city coat of arms showing a white cross in a red field is found on a seal dated 1327.\\nThis heraldic emblem was in use throughout the 14th century in different variants.\\nRudolf IV of Austria deserves credit for his prudent economic policy, which raised the level of prosperity. His epithet the Founder is due to two things: first, he founded the University of Vienna in 1365, and second, he began the construction of the gothic nave in the Stephansdom. The latter is connected to the creation of a metropolitan chapter, as a symbolic substitute for a bishop.\\nThere was a period of inheritance disputes among the Habsburgs resulting not only in confusion, but also in an economic decline and social unrest, with disputes between the parties of patricians and artisans. While the patricians supported Ernest the Iron, the artisans supported Leopold IV. In 1408, the mayor Konrad Vorlauf, an  exponent of the patrician party, was executed.\\nAfter the election of Duke Albert V as German King Albert II, Vienna became the capital of the Holy Roman Empire. Albert's name is remembered for his expulsion of the Jewish population of Vienna in 1421/22.\\nEventually, in 1469, Vienna was given its own bishop, and the Stephansdom became a cathedral. During the upheavals of the era of Emperor Frederick III, Vienna remained on the side of his opponents (first Albert VI, then Matthias Corvinus), as Frederick proved unable to maintain peace in the land vis-à-vis rampaging gangs of mercenaries (often remaining from the Hussite Wars).\\nIn 1485, the Hungarian King Matthias Corvinus and the Black Army of Hungary conquered the city and Vienna became the king's seat that served as the capital of Hungary until 1490.\\nIn 1522, under Ferdinand I, Holy Roman Emperor the Blood Judgment of Wiener Neustadt led to the execution of leading members of the opposition within the city, and thus a destruction of the political structures. From then on, the city stood under direct imperial control.\\n\\nIn 1556, Vienna became the seat of the Emperor, with Bohemia having been added to the Habsburg realm in 1526.\\nDuring this time, the city was also recatholicised after having become Protestant rather quickly. In 1551, the Jesuits were brought to town and soon gained a large influence in court. The leader of the Counter-Reformation here was Melchior Khlesl, Bishop of Vienna from 1600.\\n\\n\\n=== Turkish sieges ===\\n\\nIn 1529, Vienna was besieged by the Ottoman Turks for the first time (the First Turkish Siege), although unsuccessfully. The city, protected by medieval walls, only barely withstood the attacks, until epidemics and an early winter forced the Turks to retreat. The siege had shown that new fortifications were needed. Following plans by Sebastian Schrantz, Vienna was expanded to a fortress in 1548. The city was furnished with eleven bastions and surrounded by a moat. A glacis was created around Vienna, a broad strip without any buildings, which allowed defenders to fire freely. These fortifications, which accounted for the major part of building activities well into the 17th century, became decisive in the Second Turkish Siege of 1683, as they allowed the city to maintain itself for two months, until the Turkish army was defeated by the army led by the Polish King John III Sobieski. This was the turning point in the Turkish Wars, as the Ottoman Empire was pushed back more and more during the following decades.]</td>\n",
       "      <td>The First Turkish Siege of Vienna in 1529 had a profound impact on the city's fortifications and military strategy, which ultimately influenced the outcome of the Second Turkish Siege in 1683.\\n\\nDuring the First Siege, Vienna's medieval walls were put to the test against the Ottoman forces. Although the city managed to withstand the siege, it became evident that the existing fortifications were inadequate to repel a determined and well-equipped enemy. The siege highlighted the need for modernized defenses, as the city's defenses barely held against the Turkish attacks, which were exacerbated by epidemics and harsh winter conditions that forced the Ottomans to retreat.\\n\\nIn response to the vulnerabilities exposed during the First Siege, significant improvements were made to Vienna's fortifications. By 1548, under the guidance of military architect Sebastian Schrantz, the city was transformed into a formidable fortress. This included the construction of eleven bastions, a surrounding moat, and a glacis—a clear area that allowed defenders to fire upon attackers without obstruction. These enhancements were crucial in creating a more defensible position for the city, allowing it to withstand future sieges more effectively.\\n\\nWhen the Second Turkish Siege occurred in 1683, the improvements made to Vienna's fortifications played a critical role in the city's defense. The fortified walls and bastions allowed the defenders to hold out against the Ottoman forces for two months, demonstrating the effectiveness of the new military strategy and fortifications. The city's ability to maintain its defenses until the arrival of reinforcements, particularly the Polish army led by King John III Sobieski, was pivotal in the eventual defeat of the Ottoman forces.\\n\\nIn summary, the First Turkish Siege of 1529 served as a catalyst for significant advancements in Vienna's military strategy and fortifications. The lessons learned from that siege directly influenced the city's preparedness and resilience during the Second Turkish Siege in 1683, ultimately contributing to the successful defense of Vienna and marking a turning point in the conflict between the Habsburgs and the Ottoman Empire.</td>\n",
       "      <td>ai (gpt-4o-mini)</td>\n",
       "      <td>ai (gpt-4o-mini)</td>\n",
       "    </tr>\n",
       "    <tr>\n",
       "      <th>4</th>\n",
       "      <td>Discuss the impact of Emperor Joseph II's administration reforms in 1783 on the city of Vienna, particularly in relation to urban management and public health.</td>\n",
       "      <td>[=== 18th century ===\\n\\nThe following period was characterised by extensive building activities. In the course of reconstruction, Vienna was largely turned into a baroque city. The most important architects were Johann Bernhard Fischer von Erlach and Johann Lukas von Hildebrandt. Most construction happened in the suburbs (Vorstädte), as the nobility began to cover the surrounding land with garden palaces, known as Palais. The best known are the Palais Liechtenstein, Palais Modena, Schönbrunn Palace, Palais Schwarzenberg, and the Belvedere (the garden palais of Prince Eugene of Savoy). In 1704, an outer fortification, the Linienwall, was built around the Vorstädte.\\nAfter the extensive plague epidemics of 1679 and 1713, the population began to grow steadily. It is estimated that 150,000 people lived in Vienna in 1724, and 200,000 in 1790. At that time, the first factories were built, starting in Leopoldstadt. Leopoldstadt also became a site where many Jews lived, as they had been driven out of their 50-year-old ghetto in 1670. Hygienic problems began to become noticeable: sewers and street cleaning began to develop. Also in this time, the first house numbers (the Konskriptionsnummern) were issued, and the government postal system began to develop.\\nUnder Emperor Joseph II, the city administration was modernized in 1783: officials in charge of only the city were introduced, and the Magistrate was created (More information about the Magistrate of the City of Vienna specifically can be found in German at de:Magistrat der Stadt Wien.). At the same time, the graveyards within the city were closed.\\n\\n\\n=== 19th century ===\\n\\nDuring the Napoleonic Wars, Vienna was taken by the French twice, in 1805 and 1809. The first conquest happened without a battle. Three French marshals crossed the strongly defended Taborbrücke (Tábor bridge), the only Danube bridge at that time, and convinced the Austrian commander that the war was already over. In the meantime, the French army easily entered the city and was greeted by the population with interest rather than rejection. Napoleon allowed 10,000 men of the Vienna national guard to remain armed and left the arsenal to them when he left, as complete as he had found it.\\nHowever, the second occupation happened only after heavy fire. Shortly after, Napoleon suffered his first large defeat at Aspern, nearby. Less than two months later, his army crossed the Danube again and fought the Battle of Wagram on the same terrain as the previous Battle of Aspern. This second battle resulted in a victory for the French, and Austria soon surrendered, ending the War of the Fifth Coalition. In 1810, Salomon Mayer Rothschild arrived in Vienna from Frankfurt and sets up a bank named \"Mayer von Rothschild und Söhne\". The Emperor of Austria in 1823, made the five Rothschild brothers barons. The Rothschild family became famous as bankers in the major countries of Europe, and the Rothschild banking family of Austria remained prominent until the Creditanstalt bank in Vienna was confiscated by the Nazis in 1938.\\nAfter Napoleon's final defeat, the Congress of Vienna took place from September 18, 1814 to June 9, 1815, in which the political map of Europe was redrawn. The congress members indulged in many social events, which induced the witty Charles Joseph, Prince de Ligne to famously say: Le congres danse beaucoup, mais il ne marche pas (\"The congress dances, but does not progress\"). The events cost Austria a great deal of money, which was reflected in mockery about the major participants:\\n\\nAlexander of Russia: loves for all\\nFrederick William of Prussia: thinks for all\\nFrederick of Denmark: speaks for all\\nMaximilian of Bavaria: drinks for all\\nFrederick of Württemberg: eats for all\\nEmperor Francis of Austria: pays for all\\n\\nThe first half of the century was characterised by intensive industrialization, with Vienna being the center of the railway network after 1837.\\nThe French February Revolution of 1848 had an effect as far away as Vienna: on March 13, the March Revolution, which forced long-serving chancellor Metternich to resign.\\nDuring the 19th century, Vienna, along with Budapest, became one of the main centers of the Aromanian diaspora. The Aromanian population of these cities stands out for one of the first ones to develop a strictly Aromanian identity.]</td>\n",
       "      <td>Emperor Joseph II's administration reforms in 1783 had a significant impact on the city of Vienna, particularly in the areas of urban management and public health. One of the key changes was the modernization of the city administration, which involved the introduction of officials specifically responsible for managing the city. This restructuring led to the establishment of the Magistrate, an administrative body that played a crucial role in overseeing various aspects of urban life.\\n\\nThe reforms aimed to improve the efficiency and effectiveness of governance in Vienna, which was becoming increasingly important as the population grew and urban issues became more pronounced. With an estimated population of 200,000 by 1790, the city faced challenges related to infrastructure, sanitation, and public health. The introduction of a dedicated city administration allowed for more focused attention on these issues.\\n\\nIn terms of public health, the reforms coincided with the growing recognition of hygienic problems in the city. The previous extensive plague epidemics had highlighted the need for better sanitation and health measures. Under Joseph II's administration, efforts began to develop sewers and improve street cleaning, which were essential for reducing the spread of disease and improving the overall living conditions in Vienna.\\n\\nAdditionally, the closure of graveyards within the city limits was a significant public health measure. This action not only addressed the health risks associated with overcrowded burial sites but also reflected a shift towards more modern urban planning practices that prioritized the well-being of residents.\\n\\nOverall, Emperor Joseph II's reforms laid the groundwork for a more organized and health-conscious approach to urban management in Vienna, addressing the pressing needs of a growing population and setting the stage for further developments in public health and city planning in the years to come.</td>\n",
       "      <td>ai (gpt-4o-mini)</td>\n",
       "      <td>ai (gpt-4o-mini)</td>\n",
       "    </tr>\n",
       "  </tbody>\n",
       "</table>\n",
       "</div>"
      ],
      "text/plain": [
       "                                                                                                                                                                                                                     query  \\\n",
       "0  Discuss the significance of the year 1155 in the history of Vienna and explain how it contributed to the city's development under the Babenberg dynasty.                                                                  \n",
       "1  What were the implications of Vienna receiving the rights of a city and staple port in 1221, and how did this status affect its role in trade within the Holy Roman Empire?                                               \n",
       "2  Discuss the significance of Rudolf IV of Austria's contributions to Vienna during the Habsburg rule, particularly in relation to the establishment of the University of Vienna and the construction of the Stephansdom.   \n",
       "3  Analyze the impact of the First Turkish Siege of 1529 on Vienna's fortifications and military strategy, and explain how these developments influenced the outcome of the Second Turkish Siege in 1683.                    \n",
       "4  Discuss the impact of Emperor Joseph II's administration reforms in 1783 on the city of Vienna, particularly in relation to urban management and public health.                                                           \n",
       "\n",
       "                                                                                                                                                                                                                                                                                                                                                                                                                                                                                                                                                                                                                                                                                                                                                                                                                                                                                                                                                                                                                                                                                                                                                                                                                                                                                                                                                                                                                                                                                                                                                                                                                                                                                                                                                                                                                                                                                                                                                                                                                                                                                                                                                                                                                                                                                                                                                                                                                                                                                                                                                                                                                                                                                                                                                                                                                                                                                                                                                                                                                                                                                                                                                                                                                                                                                                                                                                                                                                                                                                                                                                                                                                                                                                                                                                                                                                                                                                                                                                                                                                                                                                                                                                                                                                                                                                                                                                                                                                                                                                                                reference_contexts  \\\n",
       "0  [The history of Vienna has been long and varied, beginning when the Roman Empire created a military camp in the area now covered by Vienna's city centre. Vienna grew from the Roman settlement known as Vindobona to be an important trading site in the 11th century. It became the capital of the Babenberg dynasty and subsequently of the Austrian Habsburgs, under whom it became one of Europe's cultural hubs. During the 19th century as the capital of the Austrian Empire and later Austria-Hungary, it temporarily became one of Europe's biggest cities. Since the end of World War I, Vienna has been the capital of the Republic of Austria.\\n\\n\\n== Beginnings and early Middle Ages ==\\n\\nThe name Vindobona derives from a Celtic language, suggesting that the region must have been inhabited before Roman times. The Romans created a military camp (occupied by Legio X Gemina) during the 1st century on the site of the city centre of present-day Vienna. The settlement was raised to the status of a municipium in 212. Even today, the streets of the First District show where the encampment placed its walls and moats. The Romans stayed until the 5th century.\\nRoman Vindobona was located in the outskirts of the empire and thus fell prey to the chaos of the Migration Period. There are some indications that a catastrophic fire occurred around the beginning of the 5th century. However, the remains of the encampment were not deserted, and a small settlement remained. The streets and houses of early medieval Vienna followed the former Roman walls, which gives rise to the conclusion that parts of the fortification were still in place and used by the settlers.\\nByzantine copper coins from the 6th century have been found several times in the area of today's city centre, indicating considerable trade activity. Graves from the 6th century were found during excavations next to the Berghof, in an area around Salvatorgasse. At that time, the Lombards controlled the area, with Slavs and Avars following later. Early Vienna was  centred on the Berghof.\\nThe first documented mention of the city during the Middle Ages is within the Salzburg Annals, dating to 881, when a battle apud Weniam was fought against the Magyars. However, it is unclear whether this refers to the city or the River Wien.\\n\\n\\n== Babenberg rule ==\\n\\nIn 976, the Margraviate of Ostarrîchi was given to the Babenberg family. Vienna lay at its border with Hungary.\\nVienna was an important site of trade as early as the 11th century. In the Exchange of Mautern between the Bishop of Passau and Margrave Leopold IV, Vienna is mentioned as a Civitas for the first time, which indicates the existence of a well-ordered settlement. \\nIn 1155, Margrave Henry II of Austria made Vienna his capital. In 1156, Austria was raised to a duchy in the Privilegium Minus, with Vienna becoming the seat of all future dukes. During that time, the Schottenstift was founded.\\nThe events surrounding the Third Crusade, during which King Richard the Lionheart was discovered and captured by Duke Leopold V the Virtuous two days before Christmas of 1192 in Erdberg near Vienna, brought an enormous ransom of 50,000 Silver Marks (about 10 to 12 tons of silver, about a third of the emperor's claims against the English. Richard had been extradited to him in March 1193). This allowed the creation of a mint and the construction of city walls around the year 1200. At the U-Bahn station Stubentor, some remains of the city walls can still be seen today. Because he had abused a protected crusader, Leopold V was excommunicated by Pope Celestine III, and died (without having been absolved) after falling from a horse in a tournament.\\nIn 1221, Vienna received the rights of a city and as a staple port (Stapelrecht). This meant that all traders passing through Vienna had to offer their goods in the city. This allowed the Viennese to act as middlemen in trade, so that Vienna soon created a network of far-reaching trade relations, particularly along the Danube basin and to Venice, and to become one of the most important cities in the Holy Roman Empire.\\n\\nHowever, it was considered embarrassing that Vienna did not have its own bishop. It is known that Duke Frederick II negotiated about the creation of a bishopric in Vienna, and the same is suspected of Ottokar Přemysl.]                                                \n",
       "1  [The history of Vienna has been long and varied, beginning when the Roman Empire created a military camp in the area now covered by Vienna's city centre. Vienna grew from the Roman settlement known as Vindobona to be an important trading site in the 11th century. It became the capital of the Babenberg dynasty and subsequently of the Austrian Habsburgs, under whom it became one of Europe's cultural hubs. During the 19th century as the capital of the Austrian Empire and later Austria-Hungary, it temporarily became one of Europe's biggest cities. Since the end of World War I, Vienna has been the capital of the Republic of Austria.\\n\\n\\n== Beginnings and early Middle Ages ==\\n\\nThe name Vindobona derives from a Celtic language, suggesting that the region must have been inhabited before Roman times. The Romans created a military camp (occupied by Legio X Gemina) during the 1st century on the site of the city centre of present-day Vienna. The settlement was raised to the status of a municipium in 212. Even today, the streets of the First District show where the encampment placed its walls and moats. The Romans stayed until the 5th century.\\nRoman Vindobona was located in the outskirts of the empire and thus fell prey to the chaos of the Migration Period. There are some indications that a catastrophic fire occurred around the beginning of the 5th century. However, the remains of the encampment were not deserted, and a small settlement remained. The streets and houses of early medieval Vienna followed the former Roman walls, which gives rise to the conclusion that parts of the fortification were still in place and used by the settlers.\\nByzantine copper coins from the 6th century have been found several times in the area of today's city centre, indicating considerable trade activity. Graves from the 6th century were found during excavations next to the Berghof, in an area around Salvatorgasse. At that time, the Lombards controlled the area, with Slavs and Avars following later. Early Vienna was  centred on the Berghof.\\nThe first documented mention of the city during the Middle Ages is within the Salzburg Annals, dating to 881, when a battle apud Weniam was fought against the Magyars. However, it is unclear whether this refers to the city or the River Wien.\\n\\n\\n== Babenberg rule ==\\n\\nIn 976, the Margraviate of Ostarrîchi was given to the Babenberg family. Vienna lay at its border with Hungary.\\nVienna was an important site of trade as early as the 11th century. In the Exchange of Mautern between the Bishop of Passau and Margrave Leopold IV, Vienna is mentioned as a Civitas for the first time, which indicates the existence of a well-ordered settlement. \\nIn 1155, Margrave Henry II of Austria made Vienna his capital. In 1156, Austria was raised to a duchy in the Privilegium Minus, with Vienna becoming the seat of all future dukes. During that time, the Schottenstift was founded.\\nThe events surrounding the Third Crusade, during which King Richard the Lionheart was discovered and captured by Duke Leopold V the Virtuous two days before Christmas of 1192 in Erdberg near Vienna, brought an enormous ransom of 50,000 Silver Marks (about 10 to 12 tons of silver, about a third of the emperor's claims against the English. Richard had been extradited to him in March 1193). This allowed the creation of a mint and the construction of city walls around the year 1200. At the U-Bahn station Stubentor, some remains of the city walls can still be seen today. Because he had abused a protected crusader, Leopold V was excommunicated by Pope Celestine III, and died (without having been absolved) after falling from a horse in a tournament.\\nIn 1221, Vienna received the rights of a city and as a staple port (Stapelrecht). This meant that all traders passing through Vienna had to offer their goods in the city. This allowed the Viennese to act as middlemen in trade, so that Vienna soon created a network of far-reaching trade relations, particularly along the Danube basin and to Venice, and to become one of the most important cities in the Holy Roman Empire.\\n\\nHowever, it was considered embarrassing that Vienna did not have its own bishop. It is known that Duke Frederick II negotiated about the creation of a bishopric in Vienna, and the same is suspected of Ottokar Přemysl.]                                                \n",
       "2  [== Habsburg rule ==\\n\\nIn 1278, Rudolf I took control over the Austrian lands after his victory over Ottokar II of Bohemia and began to establish Habsburg rule. In Vienna, it took a relatively long time for the Habsburgs to establish their control, because partisans of Ottokar remained strong for a long time. There were several uprisings against Albert I. The family of the Paltrams vom Stephansfreithof was foremost among the insurgents.\\nIn 1280, Jans der Enikel wrote the \"Fürstenbuch\", a first history of the city.\\nWith the Luxembourg emperors, Prague became the imperial residence and Vienna stood in its shadow. The early Habsburgs attempted to extend it in order to keep up. Duke Albert II, for example, had the gothic choir of the Stephansdom built. In 1327, Frederick the Handsome published his edict allowing the city to maintain an Eisenbuch (iron book) listing its privileges.\\n\\nThe combination of the heraldic eagle with the city coat of arms showing a white cross in a red field is found on a seal dated 1327.\\nThis heraldic emblem was in use throughout the 14th century in different variants.\\nRudolf IV of Austria deserves credit for his prudent economic policy, which raised the level of prosperity. His epithet the Founder is due to two things: first, he founded the University of Vienna in 1365, and second, he began the construction of the gothic nave in the Stephansdom. The latter is connected to the creation of a metropolitan chapter, as a symbolic substitute for a bishop.\\nThere was a period of inheritance disputes among the Habsburgs resulting not only in confusion, but also in an economic decline and social unrest, with disputes between the parties of patricians and artisans. While the patricians supported Ernest the Iron, the artisans supported Leopold IV. In 1408, the mayor Konrad Vorlauf, an  exponent of the patrician party, was executed.\\nAfter the election of Duke Albert V as German King Albert II, Vienna became the capital of the Holy Roman Empire. Albert's name is remembered for his expulsion of the Jewish population of Vienna in 1421/22.\\nEventually, in 1469, Vienna was given its own bishop, and the Stephansdom became a cathedral. During the upheavals of the era of Emperor Frederick III, Vienna remained on the side of his opponents (first Albert VI, then Matthias Corvinus), as Frederick proved unable to maintain peace in the land vis-à-vis rampaging gangs of mercenaries (often remaining from the Hussite Wars).\\nIn 1485, the Hungarian King Matthias Corvinus and the Black Army of Hungary conquered the city and Vienna became the king's seat that served as the capital of Hungary until 1490.\\nIn 1522, under Ferdinand I, Holy Roman Emperor the Blood Judgment of Wiener Neustadt led to the execution of leading members of the opposition within the city, and thus a destruction of the political structures. From then on, the city stood under direct imperial control.\\n\\nIn 1556, Vienna became the seat of the Emperor, with Bohemia having been added to the Habsburg realm in 1526.\\nDuring this time, the city was also recatholicised after having become Protestant rather quickly. In 1551, the Jesuits were brought to town and soon gained a large influence in court. The leader of the Counter-Reformation here was Melchior Khlesl, Bishop of Vienna from 1600.\\n\\n\\n=== Turkish sieges ===\\n\\nIn 1529, Vienna was besieged by the Ottoman Turks for the first time (the First Turkish Siege), although unsuccessfully. The city, protected by medieval walls, only barely withstood the attacks, until epidemics and an early winter forced the Turks to retreat. The siege had shown that new fortifications were needed. Following plans by Sebastian Schrantz, Vienna was expanded to a fortress in 1548. The city was furnished with eleven bastions and surrounded by a moat. A glacis was created around Vienna, a broad strip without any buildings, which allowed defenders to fire freely. These fortifications, which accounted for the major part of building activities well into the 17th century, became decisive in the Second Turkish Siege of 1683, as they allowed the city to maintain itself for two months, until the Turkish army was defeated by the army led by the Polish King John III Sobieski. This was the turning point in the Turkish Wars, as the Ottoman Empire was pushed back more and more during the following decades.]   \n",
       "3  [== Habsburg rule ==\\n\\nIn 1278, Rudolf I took control over the Austrian lands after his victory over Ottokar II of Bohemia and began to establish Habsburg rule. In Vienna, it took a relatively long time for the Habsburgs to establish their control, because partisans of Ottokar remained strong for a long time. There were several uprisings against Albert I. The family of the Paltrams vom Stephansfreithof was foremost among the insurgents.\\nIn 1280, Jans der Enikel wrote the \"Fürstenbuch\", a first history of the city.\\nWith the Luxembourg emperors, Prague became the imperial residence and Vienna stood in its shadow. The early Habsburgs attempted to extend it in order to keep up. Duke Albert II, for example, had the gothic choir of the Stephansdom built. In 1327, Frederick the Handsome published his edict allowing the city to maintain an Eisenbuch (iron book) listing its privileges.\\n\\nThe combination of the heraldic eagle with the city coat of arms showing a white cross in a red field is found on a seal dated 1327.\\nThis heraldic emblem was in use throughout the 14th century in different variants.\\nRudolf IV of Austria deserves credit for his prudent economic policy, which raised the level of prosperity. His epithet the Founder is due to two things: first, he founded the University of Vienna in 1365, and second, he began the construction of the gothic nave in the Stephansdom. The latter is connected to the creation of a metropolitan chapter, as a symbolic substitute for a bishop.\\nThere was a period of inheritance disputes among the Habsburgs resulting not only in confusion, but also in an economic decline and social unrest, with disputes between the parties of patricians and artisans. While the patricians supported Ernest the Iron, the artisans supported Leopold IV. In 1408, the mayor Konrad Vorlauf, an  exponent of the patrician party, was executed.\\nAfter the election of Duke Albert V as German King Albert II, Vienna became the capital of the Holy Roman Empire. Albert's name is remembered for his expulsion of the Jewish population of Vienna in 1421/22.\\nEventually, in 1469, Vienna was given its own bishop, and the Stephansdom became a cathedral. During the upheavals of the era of Emperor Frederick III, Vienna remained on the side of his opponents (first Albert VI, then Matthias Corvinus), as Frederick proved unable to maintain peace in the land vis-à-vis rampaging gangs of mercenaries (often remaining from the Hussite Wars).\\nIn 1485, the Hungarian King Matthias Corvinus and the Black Army of Hungary conquered the city and Vienna became the king's seat that served as the capital of Hungary until 1490.\\nIn 1522, under Ferdinand I, Holy Roman Emperor the Blood Judgment of Wiener Neustadt led to the execution of leading members of the opposition within the city, and thus a destruction of the political structures. From then on, the city stood under direct imperial control.\\n\\nIn 1556, Vienna became the seat of the Emperor, with Bohemia having been added to the Habsburg realm in 1526.\\nDuring this time, the city was also recatholicised after having become Protestant rather quickly. In 1551, the Jesuits were brought to town and soon gained a large influence in court. The leader of the Counter-Reformation here was Melchior Khlesl, Bishop of Vienna from 1600.\\n\\n\\n=== Turkish sieges ===\\n\\nIn 1529, Vienna was besieged by the Ottoman Turks for the first time (the First Turkish Siege), although unsuccessfully. The city, protected by medieval walls, only barely withstood the attacks, until epidemics and an early winter forced the Turks to retreat. The siege had shown that new fortifications were needed. Following plans by Sebastian Schrantz, Vienna was expanded to a fortress in 1548. The city was furnished with eleven bastions and surrounded by a moat. A glacis was created around Vienna, a broad strip without any buildings, which allowed defenders to fire freely. These fortifications, which accounted for the major part of building activities well into the 17th century, became decisive in the Second Turkish Siege of 1683, as they allowed the city to maintain itself for two months, until the Turkish army was defeated by the army led by the Polish King John III Sobieski. This was the turning point in the Turkish Wars, as the Ottoman Empire was pushed back more and more during the following decades.]   \n",
       "4  [=== 18th century ===\\n\\nThe following period was characterised by extensive building activities. In the course of reconstruction, Vienna was largely turned into a baroque city. The most important architects were Johann Bernhard Fischer von Erlach and Johann Lukas von Hildebrandt. Most construction happened in the suburbs (Vorstädte), as the nobility began to cover the surrounding land with garden palaces, known as Palais. The best known are the Palais Liechtenstein, Palais Modena, Schönbrunn Palace, Palais Schwarzenberg, and the Belvedere (the garden palais of Prince Eugene of Savoy). In 1704, an outer fortification, the Linienwall, was built around the Vorstädte.\\nAfter the extensive plague epidemics of 1679 and 1713, the population began to grow steadily. It is estimated that 150,000 people lived in Vienna in 1724, and 200,000 in 1790. At that time, the first factories were built, starting in Leopoldstadt. Leopoldstadt also became a site where many Jews lived, as they had been driven out of their 50-year-old ghetto in 1670. Hygienic problems began to become noticeable: sewers and street cleaning began to develop. Also in this time, the first house numbers (the Konskriptionsnummern) were issued, and the government postal system began to develop.\\nUnder Emperor Joseph II, the city administration was modernized in 1783: officials in charge of only the city were introduced, and the Magistrate was created (More information about the Magistrate of the City of Vienna specifically can be found in German at de:Magistrat der Stadt Wien.). At the same time, the graveyards within the city were closed.\\n\\n\\n=== 19th century ===\\n\\nDuring the Napoleonic Wars, Vienna was taken by the French twice, in 1805 and 1809. The first conquest happened without a battle. Three French marshals crossed the strongly defended Taborbrücke (Tábor bridge), the only Danube bridge at that time, and convinced the Austrian commander that the war was already over. In the meantime, the French army easily entered the city and was greeted by the population with interest rather than rejection. Napoleon allowed 10,000 men of the Vienna national guard to remain armed and left the arsenal to them when he left, as complete as he had found it.\\nHowever, the second occupation happened only after heavy fire. Shortly after, Napoleon suffered his first large defeat at Aspern, nearby. Less than two months later, his army crossed the Danube again and fought the Battle of Wagram on the same terrain as the previous Battle of Aspern. This second battle resulted in a victory for the French, and Austria soon surrendered, ending the War of the Fifth Coalition. In 1810, Salomon Mayer Rothschild arrived in Vienna from Frankfurt and sets up a bank named \"Mayer von Rothschild und Söhne\". The Emperor of Austria in 1823, made the five Rothschild brothers barons. The Rothschild family became famous as bankers in the major countries of Europe, and the Rothschild banking family of Austria remained prominent until the Creditanstalt bank in Vienna was confiscated by the Nazis in 1938.\\nAfter Napoleon's final defeat, the Congress of Vienna took place from September 18, 1814 to June 9, 1815, in which the political map of Europe was redrawn. The congress members indulged in many social events, which induced the witty Charles Joseph, Prince de Ligne to famously say: Le congres danse beaucoup, mais il ne marche pas (\"The congress dances, but does not progress\"). The events cost Austria a great deal of money, which was reflected in mockery about the major participants:\\n\\nAlexander of Russia: loves for all\\nFrederick William of Prussia: thinks for all\\nFrederick of Denmark: speaks for all\\nMaximilian of Bavaria: drinks for all\\nFrederick of Württemberg: eats for all\\nEmperor Francis of Austria: pays for all\\n\\nThe first half of the century was characterised by intensive industrialization, with Vienna being the center of the railway network after 1837.\\nThe French February Revolution of 1848 had an effect as far away as Vienna: on March 13, the March Revolution, which forced long-serving chancellor Metternich to resign.\\nDuring the 19th century, Vienna, along with Budapest, became one of the main centers of the Aromanian diaspora. The Aromanian population of these cities stands out for one of the first ones to develop a strictly Aromanian identity.]             \n",
       "\n",
       "                                                                                                                                                                                                                                                                                                                                                                                                                                                                                                                                                                                                                                                                                                                                                                                                                                                                                                                                                                                                                                                                                                                                                                                                                                                                                                                                                                                                                                                                                                                                                                                                                                                                                                                                                                                                                                                                                                                                                                                                                                                                                                                                                                                                                                                                                   reference_answer  \\\n",
       "0  The year 1155 is significant in the history of Vienna as it marks the moment when Margrave Henry II of Austria made Vienna his capital. This decision was pivotal for the city's development under the Babenberg dynasty for several reasons.\\n\\nFirstly, by establishing Vienna as the capital, Henry II elevated its status from a regional settlement to a central political hub. This move not only solidified the Babenberg family's power but also positioned Vienna as a focal point for governance and administration in the region. As the seat of the dukes, Vienna became the center of political activity, which attracted nobility, merchants, and artisans, fostering economic growth and urban development.\\n\\nSecondly, the elevation of Vienna to capital status coincided with the raising of Austria to a duchy in 1156 through the Privilegium Minus. This change further enhanced Vienna's importance, as it became the administrative heart of the newly established duchy. The presence of the ducal court and the associated administrative functions stimulated the local economy and encouraged the establishment of institutions that would support trade and commerce.\\n\\nAdditionally, the Babenberg dynasty's focus on Vienna led to significant infrastructural developments. The city began to grow in size and complexity, with the construction of city walls and other fortifications around the year 1200, which were essential for protecting the burgeoning population and trade activities. The establishment of a mint following the capture of King Richard the Lionheart during the Third Crusade also contributed to the city's economic prosperity, allowing Vienna to engage more actively in trade.\\n\\nIn summary, the year 1155 was a turning point for Vienna, as it became the capital of the Babenberg dynasty. This status not only enhanced its political significance but also laid the groundwork for economic growth, urban development, and the establishment of vital trade networks, ultimately shaping Vienna into one of the most important cities in the Holy Roman Empire.                                                                                                                                                           \n",
       "1  The granting of city rights and staple port status to Vienna in 1221 had significant implications for its development and role in trade within the Holy Roman Empire. \\n\\nFirstly, receiving city rights meant that Vienna was recognized as a self-governing entity with certain privileges, which included the ability to establish its own laws and governance structures. This autonomy allowed Vienna to develop a more organized and structured urban environment, fostering a sense of community and stability that was attractive to traders and settlers.\\n\\nThe staple port status (Stapelrecht) was particularly crucial for Vienna's economic growth. It mandated that all traders passing through the city had to offer their goods for sale there before continuing on their journeys. This requirement positioned Vienna as a central hub in trade networks, allowing it to act as a middleman in the exchange of goods. As a result, the city became a vital point for commerce, facilitating trade not only along the Danube basin but also extending to Venice and beyond.\\n\\nThis enhanced trade activity contributed to Vienna's emergence as one of the most important cities in the Holy Roman Empire. The influx of goods and merchants led to increased economic prosperity, which in turn attracted more people to the city, further boosting its population and economic significance. The establishment of a network of far-reaching trade relations helped Vienna to solidify its status as a cultural and economic center in the region.\\n\\nIn summary, the rights granted to Vienna in 1221 transformed it into a key player in the trade dynamics of the Holy Roman Empire, fostering economic growth, urban development, and a strategic position in regional commerce.                                                                                                                                                                                                                                                                                                                                                                                                                                                                                            \n",
       "2  Rudolf IV of Austria, known as \"the Founder,\" played a pivotal role in shaping Vienna during the Habsburg rule through his significant contributions to the city's cultural and architectural landscape. His establishment of the University of Vienna in 1365 marked a crucial step in the development of higher education in the region, positioning Vienna as an intellectual center in Central Europe. This institution not only fostered academic growth but also attracted scholars and students, enhancing the city's reputation and contributing to its prosperity.\\n\\nIn addition to his educational reforms, Rudolf IV initiated the construction of the gothic nave of the Stephansdom, which became a symbol of Vienna's religious and cultural identity. This project was significant not only for its architectural grandeur but also for its role in establishing a metropolitan chapter, effectively elevating the status of the church in Vienna. The cathedral became a focal point for the community, reflecting the city's aspirations and ambitions during a time when it was striving to assert its importance within the Holy Roman Empire.\\n\\nRudolf IV's prudent economic policies further supported these initiatives, leading to increased prosperity in Vienna. His contributions laid the groundwork for the city's development as a major urban center, influencing its social, cultural, and political landscape for generations to come. Overall, Rudolf IV's legacy is marked by his efforts to enhance Vienna's educational and architectural stature, which were instrumental in the city's evolution during the Habsburg era.                                                                                                                                                                                                                                                                                                                                                                                                                                                                                                                                                                                                                                  \n",
       "3  The First Turkish Siege of Vienna in 1529 had a profound impact on the city's fortifications and military strategy, which ultimately influenced the outcome of the Second Turkish Siege in 1683.\\n\\nDuring the First Siege, Vienna's medieval walls were put to the test against the Ottoman forces. Although the city managed to withstand the siege, it became evident that the existing fortifications were inadequate to repel a determined and well-equipped enemy. The siege highlighted the need for modernized defenses, as the city's defenses barely held against the Turkish attacks, which were exacerbated by epidemics and harsh winter conditions that forced the Ottomans to retreat.\\n\\nIn response to the vulnerabilities exposed during the First Siege, significant improvements were made to Vienna's fortifications. By 1548, under the guidance of military architect Sebastian Schrantz, the city was transformed into a formidable fortress. This included the construction of eleven bastions, a surrounding moat, and a glacis—a clear area that allowed defenders to fire upon attackers without obstruction. These enhancements were crucial in creating a more defensible position for the city, allowing it to withstand future sieges more effectively.\\n\\nWhen the Second Turkish Siege occurred in 1683, the improvements made to Vienna's fortifications played a critical role in the city's defense. The fortified walls and bastions allowed the defenders to hold out against the Ottoman forces for two months, demonstrating the effectiveness of the new military strategy and fortifications. The city's ability to maintain its defenses until the arrival of reinforcements, particularly the Polish army led by King John III Sobieski, was pivotal in the eventual defeat of the Ottoman forces.\\n\\nIn summary, the First Turkish Siege of 1529 served as a catalyst for significant advancements in Vienna's military strategy and fortifications. The lessons learned from that siege directly influenced the city's preparedness and resilience during the Second Turkish Siege in 1683, ultimately contributing to the successful defense of Vienna and marking a turning point in the conflict between the Habsburgs and the Ottoman Empire.   \n",
       "4  Emperor Joseph II's administration reforms in 1783 had a significant impact on the city of Vienna, particularly in the areas of urban management and public health. One of the key changes was the modernization of the city administration, which involved the introduction of officials specifically responsible for managing the city. This restructuring led to the establishment of the Magistrate, an administrative body that played a crucial role in overseeing various aspects of urban life.\\n\\nThe reforms aimed to improve the efficiency and effectiveness of governance in Vienna, which was becoming increasingly important as the population grew and urban issues became more pronounced. With an estimated population of 200,000 by 1790, the city faced challenges related to infrastructure, sanitation, and public health. The introduction of a dedicated city administration allowed for more focused attention on these issues.\\n\\nIn terms of public health, the reforms coincided with the growing recognition of hygienic problems in the city. The previous extensive plague epidemics had highlighted the need for better sanitation and health measures. Under Joseph II's administration, efforts began to develop sewers and improve street cleaning, which were essential for reducing the spread of disease and improving the overall living conditions in Vienna.\\n\\nAdditionally, the closure of graveyards within the city limits was a significant public health measure. This action not only addressed the health risks associated with overcrowded burial sites but also reflected a shift towards more modern urban planning practices that prioritized the well-being of residents.\\n\\nOverall, Emperor Joseph II's reforms laid the groundwork for a more organized and health-conscious approach to urban management in Vienna, addressing the pressing needs of a growing population and setting the stage for further developments in public health and city planning in the years to come.                                                                                                                                                                                                                                                        \n",
       "\n",
       "  reference_answer_by          query_by  \n",
       "0  ai (gpt-4o-mini)    ai (gpt-4o-mini)  \n",
       "1  ai (gpt-4o-mini)    ai (gpt-4o-mini)  \n",
       "2  ai (gpt-4o-mini)    ai (gpt-4o-mini)  \n",
       "3  ai (gpt-4o-mini)    ai (gpt-4o-mini)  \n",
       "4  ai (gpt-4o-mini)    ai (gpt-4o-mini)  "
      ]
     },
     "execution_count": 90,
     "metadata": {},
     "output_type": "execute_result"
    }
   ],
   "source": [
    "rag_dataset.to_pandas().head(5)"
   ]
  },
  {
   "cell_type": "code",
   "execution_count": 91,
   "metadata": {},
   "outputs": [],
   "source": [
    "rag_dataset.save_json(\"../../Data/Vienna_dataset.json\")"
   ]
  },
  {
   "cell_type": "markdown",
   "metadata": {
    "tags": []
   },
   "source": [
    "### 1.7 Context Relevancy and Answer Relevancy  \n",
    "`AnswerRelevancyEvaluator` and `ContextRelevancyEvaluator` give a measure on the relevancy of a generated answer and retrieved contexts, respectively, to a given user query. Both of these evaluators return a `score` that is between 0 and 1 as well as a generated `feedback` explaining the score. Note that, higher score means higher relevancy. In particular, we prompt the judge LLM to take a step-by-step approach in providing a relevancy score, asking it to answer the following two questions of a generated answer to a query for answer relevancy (for context relevancy these are slightly adjusted):\n",
    "\n",
    "1. Does the provided response match the subject matter of the user's query?\n",
    "2. Does the provided response attempt to address the focus or perspective on the subject matter taken on by the user's query?\n",
    "\n",
    "Each question is worth 1 point and so a perfect evaluation would yield a score of 2/2."
   ]
  },
  {
   "cell_type": "markdown",
   "metadata": {},
   "source": [
    "First, we build a RAG over the same source documents used to created the `rag_dataset`."
   ]
  },
  {
   "cell_type": "code",
   "execution_count": 92,
   "metadata": {},
   "outputs": [
    {
     "name": "stdout",
     "output_type": "stream",
     "text": [
      "INFO:httpx:HTTP Request: POST https://api.openai.com/v1/embeddings \"HTTP/1.1 200 OK\"\n",
      "HTTP Request: POST https://api.openai.com/v1/embeddings \"HTTP/1.1 200 OK\"\n"
     ]
    }
   ],
   "source": [
    "index = VectorStoreIndex.from_documents(documents=documents)\n",
    "query_engine = index.as_query_engine()"
   ]
  },
  {
   "cell_type": "markdown",
   "metadata": {},
   "source": [
    "With our RAG (i.e `query_engine`) defined, we can make predictions (i.e., generate responses to the query) with it over the `rag_dataset`."
   ]
  },
  {
   "cell_type": "code",
   "execution_count": 93,
   "metadata": {},
   "outputs": [
    {
     "name": "stderr",
     "output_type": "stream",
     "text": [
      "Batch processing of predictions:   0%|          | 0/16 [00:00<?, ?it/s]"
     ]
    },
    {
     "name": "stdout",
     "output_type": "stream",
     "text": [
      "INFO:httpx:HTTP Request: POST https://api.openai.com/v1/embeddings \"HTTP/1.1 200 OK\"\n",
      "HTTP Request: POST https://api.openai.com/v1/embeddings \"HTTP/1.1 200 OK\"\n",
      "INFO:httpx:HTTP Request: POST https://api.openai.com/v1/embeddings \"HTTP/1.1 200 OK\"\n",
      "HTTP Request: POST https://api.openai.com/v1/embeddings \"HTTP/1.1 200 OK\"\n",
      "INFO:httpx:HTTP Request: POST https://api.openai.com/v1/embeddings \"HTTP/1.1 200 OK\"\n",
      "HTTP Request: POST https://api.openai.com/v1/embeddings \"HTTP/1.1 200 OK\"\n",
      "INFO:httpx:HTTP Request: POST https://api.openai.com/v1/embeddings \"HTTP/1.1 200 OK\"\n",
      "HTTP Request: POST https://api.openai.com/v1/embeddings \"HTTP/1.1 200 OK\"\n",
      "INFO:httpx:HTTP Request: POST https://api.openai.com/v1/embeddings \"HTTP/1.1 200 OK\"\n",
      "HTTP Request: POST https://api.openai.com/v1/embeddings \"HTTP/1.1 200 OK\"\n",
      "INFO:httpx:HTTP Request: POST https://api.openai.com/v1/embeddings \"HTTP/1.1 200 OK\"\n",
      "HTTP Request: POST https://api.openai.com/v1/embeddings \"HTTP/1.1 200 OK\"\n",
      "INFO:httpx:HTTP Request: POST https://api.openai.com/v1/embeddings \"HTTP/1.1 200 OK\"\n",
      "HTTP Request: POST https://api.openai.com/v1/embeddings \"HTTP/1.1 200 OK\"\n",
      "INFO:httpx:HTTP Request: POST https://api.openai.com/v1/embeddings \"HTTP/1.1 200 OK\"\n",
      "HTTP Request: POST https://api.openai.com/v1/embeddings \"HTTP/1.1 200 OK\"\n",
      "INFO:httpx:HTTP Request: POST https://api.openai.com/v1/embeddings \"HTTP/1.1 200 OK\"\n",
      "HTTP Request: POST https://api.openai.com/v1/embeddings \"HTTP/1.1 200 OK\"\n",
      "INFO:httpx:HTTP Request: POST https://api.openai.com/v1/embeddings \"HTTP/1.1 200 OK\"\n",
      "HTTP Request: POST https://api.openai.com/v1/embeddings \"HTTP/1.1 200 OK\"\n",
      "INFO:httpx:HTTP Request: POST https://api.openai.com/v1/embeddings \"HTTP/1.1 200 OK\"\n",
      "HTTP Request: POST https://api.openai.com/v1/embeddings \"HTTP/1.1 200 OK\"\n",
      "INFO:httpx:HTTP Request: POST https://api.openai.com/v1/embeddings \"HTTP/1.1 200 OK\"\n",
      "HTTP Request: POST https://api.openai.com/v1/embeddings \"HTTP/1.1 200 OK\"\n",
      "INFO:httpx:HTTP Request: POST https://api.openai.com/v1/embeddings \"HTTP/1.1 200 OK\"\n",
      "HTTP Request: POST https://api.openai.com/v1/embeddings \"HTTP/1.1 200 OK\"\n",
      "INFO:httpx:HTTP Request: POST https://api.openai.com/v1/embeddings \"HTTP/1.1 200 OK\"\n",
      "HTTP Request: POST https://api.openai.com/v1/embeddings \"HTTP/1.1 200 OK\"\n",
      "INFO:httpx:HTTP Request: POST https://api.openai.com/v1/embeddings \"HTTP/1.1 200 OK\"\n",
      "HTTP Request: POST https://api.openai.com/v1/embeddings \"HTTP/1.1 200 OK\"\n",
      "INFO:httpx:HTTP Request: POST https://api.openai.com/v1/embeddings \"HTTP/1.1 200 OK\"\n",
      "HTTP Request: POST https://api.openai.com/v1/embeddings \"HTTP/1.1 200 OK\"\n",
      "INFO:httpx:HTTP Request: POST https://api.openai.com/v1/chat/completions \"HTTP/1.1 200 OK\"\n",
      "HTTP Request: POST https://api.openai.com/v1/chat/completions \"HTTP/1.1 200 OK\"\n"
     ]
    },
    {
     "name": "stderr",
     "output_type": "stream",
     "text": [
      "Batch processing of predictions:   6%|▋         | 1/16 [00:04<01:08,  4.56s/it]"
     ]
    },
    {
     "name": "stdout",
     "output_type": "stream",
     "text": [
      "INFO:httpx:HTTP Request: POST https://api.openai.com/v1/chat/completions \"HTTP/1.1 200 OK\"\n",
      "HTTP Request: POST https://api.openai.com/v1/chat/completions \"HTTP/1.1 200 OK\"\n"
     ]
    },
    {
     "name": "stderr",
     "output_type": "stream",
     "text": [
      "Batch processing of predictions:  12%|█▎        | 2/16 [00:04<00:28,  2.03s/it]"
     ]
    },
    {
     "name": "stdout",
     "output_type": "stream",
     "text": [
      "INFO:httpx:HTTP Request: POST https://api.openai.com/v1/chat/completions \"HTTP/1.1 200 OK\"\n",
      "HTTP Request: POST https://api.openai.com/v1/chat/completions \"HTTP/1.1 200 OK\"\n"
     ]
    },
    {
     "name": "stderr",
     "output_type": "stream",
     "text": [
      "Batch processing of predictions:  19%|█▉        | 3/16 [00:05<00:15,  1.20s/it]"
     ]
    },
    {
     "name": "stdout",
     "output_type": "stream",
     "text": [
      "INFO:httpx:HTTP Request: POST https://api.openai.com/v1/chat/completions \"HTTP/1.1 200 OK\"\n",
      "HTTP Request: POST https://api.openai.com/v1/chat/completions \"HTTP/1.1 200 OK\"\n"
     ]
    },
    {
     "name": "stderr",
     "output_type": "stream",
     "text": [
      "Batch processing of predictions:  25%|██▌       | 4/16 [00:05<00:11,  1.09it/s]"
     ]
    },
    {
     "name": "stdout",
     "output_type": "stream",
     "text": [
      "INFO:httpx:HTTP Request: POST https://api.openai.com/v1/chat/completions \"HTTP/1.1 200 OK\"\n",
      "HTTP Request: POST https://api.openai.com/v1/chat/completions \"HTTP/1.1 200 OK\"\n"
     ]
    },
    {
     "name": "stderr",
     "output_type": "stream",
     "text": [
      "Batch processing of predictions:  31%|███▏      | 5/16 [00:05<00:07,  1.55it/s]"
     ]
    },
    {
     "name": "stdout",
     "output_type": "stream",
     "text": [
      "INFO:httpx:HTTP Request: POST https://api.openai.com/v1/chat/completions \"HTTP/1.1 200 OK\"\n",
      "HTTP Request: POST https://api.openai.com/v1/chat/completions \"HTTP/1.1 200 OK\"\n"
     ]
    },
    {
     "name": "stderr",
     "output_type": "stream",
     "text": [
      "Batch processing of predictions:  38%|███▊      | 6/16 [00:06<00:05,  1.79it/s]"
     ]
    },
    {
     "name": "stdout",
     "output_type": "stream",
     "text": [
      "INFO:httpx:HTTP Request: POST https://api.openai.com/v1/chat/completions \"HTTP/1.1 200 OK\"\n",
      "HTTP Request: POST https://api.openai.com/v1/chat/completions \"HTTP/1.1 200 OK\"\n",
      "INFO:httpx:HTTP Request: POST https://api.openai.com/v1/chat/completions \"HTTP/1.1 200 OK\"\n",
      "HTTP Request: POST https://api.openai.com/v1/chat/completions \"HTTP/1.1 200 OK\"\n"
     ]
    },
    {
     "name": "stderr",
     "output_type": "stream",
     "text": [
      "Batch processing of predictions:  50%|█████     | 8/16 [00:06<00:03,  2.59it/s]"
     ]
    },
    {
     "name": "stdout",
     "output_type": "stream",
     "text": [
      "INFO:httpx:HTTP Request: POST https://api.openai.com/v1/chat/completions \"HTTP/1.1 200 OK\"\n",
      "HTTP Request: POST https://api.openai.com/v1/chat/completions \"HTTP/1.1 200 OK\"\n",
      "INFO:httpx:HTTP Request: POST https://api.openai.com/v1/chat/completions \"HTTP/1.1 200 OK\"\n",
      "HTTP Request: POST https://api.openai.com/v1/chat/completions \"HTTP/1.1 200 OK\"\n"
     ]
    },
    {
     "name": "stderr",
     "output_type": "stream",
     "text": [
      "Batch processing of predictions:  62%|██████▎   | 10/16 [00:06<00:01,  3.38it/s]"
     ]
    },
    {
     "name": "stdout",
     "output_type": "stream",
     "text": [
      "INFO:httpx:HTTP Request: POST https://api.openai.com/v1/chat/completions \"HTTP/1.1 200 OK\"\n",
      "HTTP Request: POST https://api.openai.com/v1/chat/completions \"HTTP/1.1 200 OK\"\n"
     ]
    },
    {
     "name": "stderr",
     "output_type": "stream",
     "text": [
      "Batch processing of predictions:  69%|██████▉   | 11/16 [00:07<00:01,  3.02it/s]"
     ]
    },
    {
     "name": "stdout",
     "output_type": "stream",
     "text": [
      "INFO:httpx:HTTP Request: POST https://api.openai.com/v1/chat/completions \"HTTP/1.1 200 OK\"\n",
      "HTTP Request: POST https://api.openai.com/v1/chat/completions \"HTTP/1.1 200 OK\"\n"
     ]
    },
    {
     "name": "stderr",
     "output_type": "stream",
     "text": [
      "Batch processing of predictions:  75%|███████▌  | 12/16 [00:07<00:01,  2.35it/s]"
     ]
    },
    {
     "name": "stdout",
     "output_type": "stream",
     "text": [
      "INFO:httpx:HTTP Request: POST https://api.openai.com/v1/chat/completions \"HTTP/1.1 200 OK\"\n",
      "HTTP Request: POST https://api.openai.com/v1/chat/completions \"HTTP/1.1 200 OK\"\n",
      "INFO:httpx:HTTP Request: POST https://api.openai.com/v1/chat/completions \"HTTP/1.1 200 OK\"\n",
      "HTTP Request: POST https://api.openai.com/v1/chat/completions \"HTTP/1.1 200 OK\"\n"
     ]
    },
    {
     "name": "stderr",
     "output_type": "stream",
     "text": [
      "Batch processing of predictions:  88%|████████▊ | 14/16 [00:08<00:00,  3.16it/s]"
     ]
    },
    {
     "name": "stdout",
     "output_type": "stream",
     "text": [
      "INFO:httpx:HTTP Request: POST https://api.openai.com/v1/chat/completions \"HTTP/1.1 200 OK\"\n",
      "HTTP Request: POST https://api.openai.com/v1/chat/completions \"HTTP/1.1 200 OK\"\n"
     ]
    },
    {
     "name": "stderr",
     "output_type": "stream",
     "text": [
      "Batch processing of predictions:  94%|█████████▍| 15/16 [00:09<00:00,  1.96it/s]"
     ]
    },
    {
     "name": "stdout",
     "output_type": "stream",
     "text": [
      "INFO:httpx:HTTP Request: POST https://api.openai.com/v1/chat/completions \"HTTP/1.1 200 OK\"\n",
      "HTTP Request: POST https://api.openai.com/v1/chat/completions \"HTTP/1.1 200 OK\"\n"
     ]
    },
    {
     "name": "stderr",
     "output_type": "stream",
     "text": [
      "Batch processing of predictions: 100%|██████████| 16/16 [00:10<00:00,  1.58it/s]\n"
     ]
    }
   ],
   "source": [
    "prediction_dataset = await rag_dataset.amake_predictions_with(\n",
    "    predictor=query_engine, batch_size=100, show_progress=True\n",
    ")"
   ]
  },
  {
   "cell_type": "markdown",
   "metadata": {},
   "source": [
    "### Evaluating Answer and Context Relevancy Separately"
   ]
  },
  {
   "cell_type": "markdown",
   "metadata": {},
   "source": [
    "We first need to define our evaluators (i.e. `AnswerRelevancyEvaluator` & `ContextRelevancyEvaluator`):"
   ]
  },
  {
   "cell_type": "code",
   "execution_count": 94,
   "metadata": {},
   "outputs": [],
   "source": [
    "# instantiate the gpt-4 judges\n",
    "#from llama_index.llms.openai import OpenAI\n",
    "from llama_index.core.evaluation import (\n",
    "    AnswerRelevancyEvaluator,\n",
    "    ContextRelevancyEvaluator,\n",
    ")\n",
    "\n",
    "judges = {}\n",
    "\n",
    "judges[\"answer_relevancy\"] = AnswerRelevancyEvaluator(\n",
    "    llm=OpenAI(temperature=0, model=\"gpt-3.5-turbo\"),\n",
    ")\n",
    "\n",
    "judges[\"context_relevancy\"] = ContextRelevancyEvaluator(\n",
    "    llm=OpenAI(temperature=0, model=\"gpt-4\"),\n",
    ")"
   ]
  },
  {
   "cell_type": "markdown",
   "metadata": {},
   "source": [
    "Now, we can use our evaluator to make evaluations by looping through all of the <example, prediction> pairs."
   ]
  },
  {
   "cell_type": "code",
   "execution_count": 95,
   "metadata": {},
   "outputs": [],
   "source": [
    "eval_tasks = []\n",
    "for example, prediction in zip(\n",
    "    rag_dataset.examples, prediction_dataset.predictions\n",
    "):\n",
    "    eval_tasks.append(\n",
    "        judges[\"answer_relevancy\"].aevaluate(\n",
    "            query=example.query,\n",
    "            response=prediction.response,\n",
    "            sleep_time_in_seconds=10.0,\n",
    "        )\n",
    "    )\n",
    "    eval_tasks.append(\n",
    "        judges[\"context_relevancy\"].aevaluate(\n",
    "            query=example.query,\n",
    "            contexts=prediction.contexts,\n",
    "            sleep_time_in_seconds=10.0,\n",
    "        )\n",
    "    )"
   ]
  },
  {
   "cell_type": "code",
   "execution_count": 96,
   "metadata": {},
   "outputs": [
    {
     "name": "stderr",
     "output_type": "stream",
     "text": [
      "  0%|          | 0/8 [00:00<?, ?it/s]"
     ]
    },
    {
     "name": "stdout",
     "output_type": "stream",
     "text": [
      "INFO:httpx:HTTP Request: POST https://api.openai.com/v1/chat/completions \"HTTP/1.1 200 OK\"\n",
      "HTTP Request: POST https://api.openai.com/v1/chat/completions \"HTTP/1.1 200 OK\"\n"
     ]
    },
    {
     "name": "stderr",
     "output_type": "stream",
     "text": [
      " 12%|█▎        | 1/8 [00:11<01:20, 11.48s/it]"
     ]
    },
    {
     "name": "stdout",
     "output_type": "stream",
     "text": [
      "INFO:httpx:HTTP Request: POST https://api.openai.com/v1/chat/completions \"HTTP/1.1 200 OK\"\n",
      "HTTP Request: POST https://api.openai.com/v1/chat/completions \"HTTP/1.1 200 OK\"\n"
     ]
    },
    {
     "name": "stderr",
     "output_type": "stream",
     "text": [
      " 25%|██▌       | 2/8 [00:12<00:32,  5.39s/it]"
     ]
    },
    {
     "name": "stdout",
     "output_type": "stream",
     "text": [
      "INFO:httpx:HTTP Request: POST https://api.openai.com/v1/chat/completions \"HTTP/1.1 200 OK\"\n",
      "HTTP Request: POST https://api.openai.com/v1/chat/completions \"HTTP/1.1 200 OK\"\n"
     ]
    },
    {
     "name": "stderr",
     "output_type": "stream",
     "text": [
      " 38%|███▊      | 3/8 [00:13<00:15,  3.15s/it]"
     ]
    },
    {
     "name": "stdout",
     "output_type": "stream",
     "text": [
      "INFO:httpx:HTTP Request: POST https://api.openai.com/v1/chat/completions \"HTTP/1.1 200 OK\"\n",
      "HTTP Request: POST https://api.openai.com/v1/chat/completions \"HTTP/1.1 200 OK\"\n"
     ]
    },
    {
     "name": "stderr",
     "output_type": "stream",
     "text": [
      " 50%|█████     | 4/8 [00:13<00:09,  2.26s/it]"
     ]
    },
    {
     "name": "stdout",
     "output_type": "stream",
     "text": [
      "INFO:httpx:HTTP Request: POST https://api.openai.com/v1/chat/completions \"HTTP/1.1 200 OK\"\n",
      "HTTP Request: POST https://api.openai.com/v1/chat/completions \"HTTP/1.1 200 OK\"\n"
     ]
    },
    {
     "name": "stderr",
     "output_type": "stream",
     "text": [
      " 62%|██████▎   | 5/8 [00:16<00:06,  2.20s/it]"
     ]
    },
    {
     "name": "stdout",
     "output_type": "stream",
     "text": [
      "INFO:httpx:HTTP Request: POST https://api.openai.com/v1/chat/completions \"HTTP/1.1 200 OK\"\n",
      "HTTP Request: POST https://api.openai.com/v1/chat/completions \"HTTP/1.1 200 OK\"\n",
      "INFO:httpx:HTTP Request: POST https://api.openai.com/v1/chat/completions \"HTTP/1.1 200 OK\"\n",
      "HTTP Request: POST https://api.openai.com/v1/chat/completions \"HTTP/1.1 200 OK\"\n"
     ]
    },
    {
     "name": "stderr",
     "output_type": "stream",
     "text": [
      " 88%|████████▊ | 7/8 [00:18<00:01,  1.59s/it]"
     ]
    },
    {
     "name": "stdout",
     "output_type": "stream",
     "text": [
      "INFO:httpx:HTTP Request: POST https://api.openai.com/v1/chat/completions \"HTTP/1.1 200 OK\"\n",
      "HTTP Request: POST https://api.openai.com/v1/chat/completions \"HTTP/1.1 200 OK\"\n"
     ]
    },
    {
     "name": "stderr",
     "output_type": "stream",
     "text": [
      "100%|██████████| 8/8 [00:23<00:00,  2.95s/it]\n",
      "  0%|          | 0/8 [00:00<?, ?it/s]"
     ]
    },
    {
     "name": "stdout",
     "output_type": "stream",
     "text": [
      "INFO:httpx:HTTP Request: POST https://api.openai.com/v1/chat/completions \"HTTP/1.1 429 Too Many Requests\"\n",
      "HTTP Request: POST https://api.openai.com/v1/chat/completions \"HTTP/1.1 429 Too Many Requests\"\n",
      "INFO:openai._base_client:Retrying request to /chat/completions in 7.932000 seconds\n",
      "Retrying request to /chat/completions in 7.932000 seconds\n",
      "INFO:httpx:HTTP Request: POST https://api.openai.com/v1/chat/completions \"HTTP/1.1 429 Too Many Requests\"\n",
      "HTTP Request: POST https://api.openai.com/v1/chat/completions \"HTTP/1.1 429 Too Many Requests\"\n",
      "INFO:openai._base_client:Retrying request to /chat/completions in 7.722000 seconds\n",
      "Retrying request to /chat/completions in 7.722000 seconds\n",
      "INFO:httpx:HTTP Request: POST https://api.openai.com/v1/chat/completions \"HTTP/1.1 200 OK\"\n",
      "HTTP Request: POST https://api.openai.com/v1/chat/completions \"HTTP/1.1 200 OK\"\n"
     ]
    },
    {
     "name": "stderr",
     "output_type": "stream",
     "text": [
      " 12%|█▎        | 1/8 [00:11<01:18, 11.26s/it]"
     ]
    },
    {
     "name": "stdout",
     "output_type": "stream",
     "text": [
      "INFO:httpx:HTTP Request: POST https://api.openai.com/v1/chat/completions \"HTTP/1.1 200 OK\"\n",
      "HTTP Request: POST https://api.openai.com/v1/chat/completions \"HTTP/1.1 200 OK\"\n"
     ]
    },
    {
     "name": "stderr",
     "output_type": "stream",
     "text": [
      " 25%|██▌       | 2/8 [00:11<00:28,  4.79s/it]"
     ]
    },
    {
     "name": "stdout",
     "output_type": "stream",
     "text": [
      "INFO:httpx:HTTP Request: POST https://api.openai.com/v1/chat/completions \"HTTP/1.1 200 OK\"\n",
      "HTTP Request: POST https://api.openai.com/v1/chat/completions \"HTTP/1.1 200 OK\"\n"
     ]
    },
    {
     "name": "stderr",
     "output_type": "stream",
     "text": [
      " 38%|███▊      | 3/8 [00:11<00:13,  2.74s/it]"
     ]
    },
    {
     "name": "stdout",
     "output_type": "stream",
     "text": [
      "INFO:httpx:HTTP Request: POST https://api.openai.com/v1/chat/completions \"HTTP/1.1 200 OK\"\n",
      "HTTP Request: POST https://api.openai.com/v1/chat/completions \"HTTP/1.1 200 OK\"\n"
     ]
    },
    {
     "name": "stderr",
     "output_type": "stream",
     "text": [
      " 50%|█████     | 4/8 [00:12<00:07,  1.88s/it]"
     ]
    },
    {
     "name": "stdout",
     "output_type": "stream",
     "text": [
      "INFO:httpx:HTTP Request: POST https://api.openai.com/v1/chat/completions \"HTTP/1.1 200 OK\"\n",
      "HTTP Request: POST https://api.openai.com/v1/chat/completions \"HTTP/1.1 200 OK\"\n"
     ]
    },
    {
     "name": "stderr",
     "output_type": "stream",
     "text": [
      " 62%|██████▎   | 5/8 [00:17<00:08,  2.87s/it]"
     ]
    },
    {
     "name": "stdout",
     "output_type": "stream",
     "text": [
      "INFO:httpx:HTTP Request: POST https://api.openai.com/v1/chat/completions \"HTTP/1.1 429 Too Many Requests\"\n",
      "HTTP Request: POST https://api.openai.com/v1/chat/completions \"HTTP/1.1 429 Too Many Requests\"\n",
      "INFO:openai._base_client:Retrying request to /chat/completions in 0.630000 seconds\n",
      "Retrying request to /chat/completions in 0.630000 seconds\n",
      "INFO:httpx:HTTP Request: POST https://api.openai.com/v1/chat/completions \"HTTP/1.1 200 OK\"\n",
      "HTTP Request: POST https://api.openai.com/v1/chat/completions \"HTTP/1.1 200 OK\"\n"
     ]
    },
    {
     "name": "stderr",
     "output_type": "stream",
     "text": [
      " 75%|███████▌  | 6/8 [00:18<00:04,  2.37s/it]"
     ]
    },
    {
     "name": "stdout",
     "output_type": "stream",
     "text": [
      "INFO:httpx:HTTP Request: POST https://api.openai.com/v1/chat/completions \"HTTP/1.1 429 Too Many Requests\"\n",
      "HTTP Request: POST https://api.openai.com/v1/chat/completions \"HTTP/1.1 429 Too Many Requests\"\n",
      "INFO:openai._base_client:Retrying request to /chat/completions in 12.576000 seconds\n",
      "Retrying request to /chat/completions in 12.576000 seconds\n",
      "INFO:httpx:HTTP Request: POST https://api.openai.com/v1/chat/completions \"HTTP/1.1 200 OK\"\n",
      "HTTP Request: POST https://api.openai.com/v1/chat/completions \"HTTP/1.1 200 OK\"\n"
     ]
    },
    {
     "name": "stderr",
     "output_type": "stream",
     "text": [
      " 88%|████████▊ | 7/8 [00:25<00:03,  3.79s/it]"
     ]
    },
    {
     "name": "stdout",
     "output_type": "stream",
     "text": [
      "INFO:httpx:HTTP Request: POST https://api.openai.com/v1/chat/completions \"HTTP/1.1 200 OK\"\n",
      "HTTP Request: POST https://api.openai.com/v1/chat/completions \"HTTP/1.1 200 OK\"\n"
     ]
    },
    {
     "name": "stderr",
     "output_type": "stream",
     "text": [
      "100%|██████████| 8/8 [00:38<00:00,  4.79s/it]\n",
      "  0%|          | 0/8 [00:00<?, ?it/s]"
     ]
    },
    {
     "name": "stdout",
     "output_type": "stream",
     "text": [
      "INFO:httpx:HTTP Request: POST https://api.openai.com/v1/chat/completions \"HTTP/1.1 429 Too Many Requests\"\n",
      "HTTP Request: POST https://api.openai.com/v1/chat/completions \"HTTP/1.1 429 Too Many Requests\"\n",
      "INFO:openai._base_client:Retrying request to /chat/completions in 11.202000 seconds\n",
      "Retrying request to /chat/completions in 11.202000 seconds\n",
      "INFO:httpx:HTTP Request: POST https://api.openai.com/v1/chat/completions \"HTTP/1.1 429 Too Many Requests\"\n",
      "HTTP Request: POST https://api.openai.com/v1/chat/completions \"HTTP/1.1 429 Too Many Requests\"\n",
      "INFO:openai._base_client:Retrying request to /chat/completions in 11.058000 seconds\n",
      "Retrying request to /chat/completions in 11.058000 seconds\n",
      "INFO:httpx:HTTP Request: POST https://api.openai.com/v1/chat/completions \"HTTP/1.1 429 Too Many Requests\"\n",
      "HTTP Request: POST https://api.openai.com/v1/chat/completions \"HTTP/1.1 429 Too Many Requests\"\n",
      "INFO:openai._base_client:Retrying request to /chat/completions in 10.686000 seconds\n",
      "Retrying request to /chat/completions in 10.686000 seconds\n",
      "INFO:httpx:HTTP Request: POST https://api.openai.com/v1/chat/completions \"HTTP/1.1 200 OK\"\n",
      "HTTP Request: POST https://api.openai.com/v1/chat/completions \"HTTP/1.1 200 OK\"\n"
     ]
    },
    {
     "name": "stderr",
     "output_type": "stream",
     "text": [
      " 12%|█▎        | 1/8 [00:11<01:21, 11.66s/it]"
     ]
    },
    {
     "name": "stdout",
     "output_type": "stream",
     "text": [
      "INFO:httpx:HTTP Request: POST https://api.openai.com/v1/chat/completions \"HTTP/1.1 200 OK\"\n",
      "HTTP Request: POST https://api.openai.com/v1/chat/completions \"HTTP/1.1 200 OK\"\n"
     ]
    },
    {
     "name": "stderr",
     "output_type": "stream",
     "text": [
      " 25%|██▌       | 2/8 [00:12<00:30,  5.01s/it]"
     ]
    },
    {
     "name": "stdout",
     "output_type": "stream",
     "text": [
      "INFO:httpx:HTTP Request: POST https://api.openai.com/v1/chat/completions \"HTTP/1.1 200 OK\"\n",
      "HTTP Request: POST https://api.openai.com/v1/chat/completions \"HTTP/1.1 200 OK\"\n",
      "INFO:httpx:HTTP Request: POST https://api.openai.com/v1/chat/completions \"HTTP/1.1 200 OK\"\n",
      "HTTP Request: POST https://api.openai.com/v1/chat/completions \"HTTP/1.1 200 OK\"\n"
     ]
    },
    {
     "name": "stderr",
     "output_type": "stream",
     "text": [
      " 50%|█████     | 4/8 [00:12<00:08,  2.01s/it]"
     ]
    },
    {
     "name": "stdout",
     "output_type": "stream",
     "text": [
      "INFO:httpx:HTTP Request: POST https://api.openai.com/v1/chat/completions \"HTTP/1.1 200 OK\"\n",
      "HTTP Request: POST https://api.openai.com/v1/chat/completions \"HTTP/1.1 200 OK\"\n"
     ]
    },
    {
     "name": "stderr",
     "output_type": "stream",
     "text": [
      " 62%|██████▎   | 5/8 [00:16<00:08,  2.78s/it]"
     ]
    },
    {
     "name": "stdout",
     "output_type": "stream",
     "text": [
      "INFO:httpx:HTTP Request: POST https://api.openai.com/v1/chat/completions \"HTTP/1.1 429 Too Many Requests\"\n",
      "HTTP Request: POST https://api.openai.com/v1/chat/completions \"HTTP/1.1 429 Too Many Requests\"\n",
      "INFO:openai._base_client:Retrying request to /chat/completions in 13.794000 seconds\n",
      "Retrying request to /chat/completions in 13.794000 seconds\n",
      "INFO:httpx:HTTP Request: POST https://api.openai.com/v1/chat/completions \"HTTP/1.1 429 Too Many Requests\"\n",
      "HTTP Request: POST https://api.openai.com/v1/chat/completions \"HTTP/1.1 429 Too Many Requests\"\n",
      "INFO:openai._base_client:Retrying request to /chat/completions in 13.788000 seconds\n",
      "Retrying request to /chat/completions in 13.788000 seconds\n",
      "INFO:httpx:HTTP Request: POST https://api.openai.com/v1/chat/completions \"HTTP/1.1 200 OK\"\n",
      "HTTP Request: POST https://api.openai.com/v1/chat/completions \"HTTP/1.1 200 OK\"\n"
     ]
    },
    {
     "name": "stderr",
     "output_type": "stream",
     "text": [
      " 75%|███████▌  | 6/8 [00:26<00:09,  4.72s/it]"
     ]
    },
    {
     "name": "stdout",
     "output_type": "stream",
     "text": [
      "INFO:httpx:HTTP Request: POST https://api.openai.com/v1/chat/completions \"HTTP/1.1 429 Too Many Requests\"\n",
      "HTTP Request: POST https://api.openai.com/v1/chat/completions \"HTTP/1.1 429 Too Many Requests\"\n",
      "INFO:openai._base_client:Retrying request to /chat/completions in 12.972000 seconds\n",
      "Retrying request to /chat/completions in 12.972000 seconds\n",
      "INFO:httpx:HTTP Request: POST https://api.openai.com/v1/chat/completions \"HTTP/1.1 200 OK\"\n",
      "HTTP Request: POST https://api.openai.com/v1/chat/completions \"HTTP/1.1 200 OK\"\n"
     ]
    },
    {
     "name": "stderr",
     "output_type": "stream",
     "text": [
      " 88%|████████▊ | 7/8 [00:42<00:08,  8.30s/it]"
     ]
    },
    {
     "name": "stdout",
     "output_type": "stream",
     "text": [
      "INFO:httpx:HTTP Request: POST https://api.openai.com/v1/chat/completions \"HTTP/1.1 200 OK\"\n",
      "HTTP Request: POST https://api.openai.com/v1/chat/completions \"HTTP/1.1 200 OK\"\n"
     ]
    },
    {
     "name": "stderr",
     "output_type": "stream",
     "text": [
      "100%|██████████| 8/8 [00:55<00:00,  6.98s/it]\n",
      "  0%|          | 0/8 [00:00<?, ?it/s]"
     ]
    },
    {
     "name": "stdout",
     "output_type": "stream",
     "text": [
      "INFO:httpx:HTTP Request: POST https://api.openai.com/v1/chat/completions \"HTTP/1.1 429 Too Many Requests\"\n",
      "HTTP Request: POST https://api.openai.com/v1/chat/completions \"HTTP/1.1 429 Too Many Requests\"\n",
      "INFO:openai._base_client:Retrying request to /chat/completions in 0.312000 seconds\n",
      "Retrying request to /chat/completions in 0.312000 seconds\n",
      "INFO:httpx:HTTP Request: POST https://api.openai.com/v1/chat/completions \"HTTP/1.1 429 Too Many Requests\"\n",
      "HTTP Request: POST https://api.openai.com/v1/chat/completions \"HTTP/1.1 429 Too Many Requests\"\n",
      "INFO:openai._base_client:Retrying request to /chat/completions in 0.084000 seconds\n",
      "Retrying request to /chat/completions in 0.084000 seconds\n",
      "INFO:httpx:HTTP Request: POST https://api.openai.com/v1/chat/completions \"HTTP/1.1 429 Too Many Requests\"\n",
      "HTTP Request: POST https://api.openai.com/v1/chat/completions \"HTTP/1.1 429 Too Many Requests\"\n",
      "INFO:openai._base_client:Retrying request to /chat/completions in 0.156000 seconds\n",
      "Retrying request to /chat/completions in 0.156000 seconds\n",
      "INFO:httpx:HTTP Request: POST https://api.openai.com/v1/chat/completions \"HTTP/1.1 429 Too Many Requests\"\n",
      "HTTP Request: POST https://api.openai.com/v1/chat/completions \"HTTP/1.1 429 Too Many Requests\"\n",
      "INFO:openai._base_client:Retrying request to /chat/completions in 9.006000 seconds\n",
      "Retrying request to /chat/completions in 9.006000 seconds\n",
      "INFO:httpx:HTTP Request: POST https://api.openai.com/v1/chat/completions \"HTTP/1.1 429 Too Many Requests\"\n",
      "HTTP Request: POST https://api.openai.com/v1/chat/completions \"HTTP/1.1 429 Too Many Requests\"\n",
      "INFO:openai._base_client:Retrying request to /chat/completions in 9.066000 seconds\n",
      "Retrying request to /chat/completions in 9.066000 seconds\n",
      "INFO:httpx:HTTP Request: POST https://api.openai.com/v1/chat/completions \"HTTP/1.1 200 OK\"\n",
      "HTTP Request: POST https://api.openai.com/v1/chat/completions \"HTTP/1.1 200 OK\"\n"
     ]
    },
    {
     "name": "stderr",
     "output_type": "stream",
     "text": [
      " 12%|█▎        | 1/8 [00:11<01:19, 11.41s/it]"
     ]
    },
    {
     "name": "stdout",
     "output_type": "stream",
     "text": [
      "INFO:httpx:HTTP Request: POST https://api.openai.com/v1/chat/completions \"HTTP/1.1 200 OK\"\n",
      "HTTP Request: POST https://api.openai.com/v1/chat/completions \"HTTP/1.1 200 OK\"\n",
      "INFO:httpx:HTTP Request: POST https://api.openai.com/v1/chat/completions \"HTTP/1.1 200 OK\"\n",
      "HTTP Request: POST https://api.openai.com/v1/chat/completions \"HTTP/1.1 200 OK\"\n"
     ]
    },
    {
     "name": "stderr",
     "output_type": "stream",
     "text": [
      " 38%|███▊      | 3/8 [00:12<00:15,  3.18s/it]"
     ]
    },
    {
     "name": "stdout",
     "output_type": "stream",
     "text": [
      "INFO:httpx:HTTP Request: POST https://api.openai.com/v1/chat/completions \"HTTP/1.1 200 OK\"\n",
      "HTTP Request: POST https://api.openai.com/v1/chat/completions \"HTTP/1.1 200 OK\"\n"
     ]
    },
    {
     "name": "stderr",
     "output_type": "stream",
     "text": [
      " 50%|█████     | 4/8 [00:12<00:09,  2.30s/it]"
     ]
    },
    {
     "name": "stdout",
     "output_type": "stream",
     "text": [
      "INFO:httpx:HTTP Request: POST https://api.openai.com/v1/chat/completions \"HTTP/1.1 200 OK\"\n",
      "HTTP Request: POST https://api.openai.com/v1/chat/completions \"HTTP/1.1 200 OK\"\n"
     ]
    },
    {
     "name": "stderr",
     "output_type": "stream",
     "text": [
      " 62%|██████▎   | 5/8 [00:16<00:08,  2.69s/it]"
     ]
    },
    {
     "name": "stdout",
     "output_type": "stream",
     "text": [
      "INFO:httpx:HTTP Request: POST https://api.openai.com/v1/chat/completions \"HTTP/1.1 200 OK\"\n",
      "HTTP Request: POST https://api.openai.com/v1/chat/completions \"HTTP/1.1 200 OK\"\n"
     ]
    },
    {
     "name": "stderr",
     "output_type": "stream",
     "text": [
      " 75%|███████▌  | 6/8 [00:18<00:05,  2.55s/it]"
     ]
    },
    {
     "name": "stdout",
     "output_type": "stream",
     "text": [
      "INFO:httpx:HTTP Request: POST https://api.openai.com/v1/chat/completions \"HTTP/1.1 429 Too Many Requests\"\n",
      "HTTP Request: POST https://api.openai.com/v1/chat/completions \"HTTP/1.1 429 Too Many Requests\"\n",
      "INFO:openai._base_client:Retrying request to /chat/completions in 3.054000 seconds\n",
      "Retrying request to /chat/completions in 3.054000 seconds\n",
      "INFO:httpx:HTTP Request: POST https://api.openai.com/v1/chat/completions \"HTTP/1.1 429 Too Many Requests\"\n",
      "HTTP Request: POST https://api.openai.com/v1/chat/completions \"HTTP/1.1 429 Too Many Requests\"\n",
      "INFO:openai._base_client:Retrying request to /chat/completions in 2.982000 seconds\n",
      "Retrying request to /chat/completions in 2.982000 seconds\n",
      "INFO:httpx:HTTP Request: POST https://api.openai.com/v1/chat/completions \"HTTP/1.1 429 Too Many Requests\"\n",
      "HTTP Request: POST https://api.openai.com/v1/chat/completions \"HTTP/1.1 429 Too Many Requests\"\n",
      "WARNING:llama_index.llms.openai.utils:Retrying llama_index.llms.openai.base.OpenAI._achat in 0.7888028408087993 seconds as it raised RateLimitError: Error code: 429 - {'error': {'message': 'Rate limit reached for gpt-4 in organization org-02INF0bfensA8pJBFmFo8A1j on tokens per min (TPM): Limit 10000, Used 9932, Requested 1585. Please try again in 9.102s. Visit https://platform.openai.com/account/rate-limits to learn more.', 'type': 'tokens', 'param': None, 'code': 'rate_limit_exceeded'}}.\n",
      "Retrying llama_index.llms.openai.base.OpenAI._achat in 0.7888028408087993 seconds as it raised RateLimitError: Error code: 429 - {'error': {'message': 'Rate limit reached for gpt-4 in organization org-02INF0bfensA8pJBFmFo8A1j on tokens per min (TPM): Limit 10000, Used 9932, Requested 1585. Please try again in 9.102s. Visit https://platform.openai.com/account/rate-limits to learn more.', 'type': 'tokens', 'param': None, 'code': 'rate_limit_exceeded'}}.\n",
      "INFO:httpx:HTTP Request: POST https://api.openai.com/v1/chat/completions \"HTTP/1.1 429 Too Many Requests\"\n",
      "HTTP Request: POST https://api.openai.com/v1/chat/completions \"HTTP/1.1 429 Too Many Requests\"\n",
      "INFO:openai._base_client:Retrying request to /chat/completions in 7.992000 seconds\n",
      "Retrying request to /chat/completions in 7.992000 seconds\n",
      "INFO:httpx:HTTP Request: POST https://api.openai.com/v1/chat/completions \"HTTP/1.1 200 OK\"\n",
      "HTTP Request: POST https://api.openai.com/v1/chat/completions \"HTTP/1.1 200 OK\"\n"
     ]
    },
    {
     "name": "stderr",
     "output_type": "stream",
     "text": [
      " 88%|████████▊ | 7/8 [00:29<00:05,  5.28s/it]"
     ]
    },
    {
     "name": "stdout",
     "output_type": "stream",
     "text": [
      "INFO:httpx:HTTP Request: POST https://api.openai.com/v1/chat/completions \"HTTP/1.1 429 Too Many Requests\"\n",
      "HTTP Request: POST https://api.openai.com/v1/chat/completions \"HTTP/1.1 429 Too Many Requests\"\n",
      "INFO:openai._base_client:Retrying request to /chat/completions in 1.548000 seconds\n",
      "Retrying request to /chat/completions in 1.548000 seconds\n",
      "INFO:httpx:HTTP Request: POST https://api.openai.com/v1/chat/completions \"HTTP/1.1 200 OK\"\n",
      "HTTP Request: POST https://api.openai.com/v1/chat/completions \"HTTP/1.1 200 OK\"\n"
     ]
    },
    {
     "name": "stderr",
     "output_type": "stream",
     "text": [
      "100%|██████████| 8/8 [00:44<00:00,  5.58s/it]\n"
     ]
    }
   ],
   "source": [
    "eval_results1 = await tqdm_asyncio.gather(*eval_tasks[:8])\n",
    "eval_results2 = await tqdm_asyncio.gather(*eval_tasks[8:16])\n",
    "eval_results3 = await tqdm_asyncio.gather(*eval_tasks[16:24])\n",
    "eval_results4 = await tqdm_asyncio.gather(*eval_tasks[24:])\n",
    "eval_results = eval_results1 + eval_results2+ eval_results3 + eval_results4"
   ]
  },
  {
   "cell_type": "code",
   "execution_count": 97,
   "metadata": {
    "tags": []
   },
   "outputs": [],
   "source": [
    "evals = {\n",
    "    \"answer_relevancy\": eval_results[::2],\n",
    "    \"context_relevancy\": eval_results[1::2],\n",
    "}"
   ]
  },
  {
   "cell_type": "markdown",
   "metadata": {},
   "source": [
    "### Taking a look at the evaluation results"
   ]
  },
  {
   "cell_type": "markdown",
   "metadata": {},
   "source": [
    "Here we use a utility function to convert the list of `EvaluationResult` objects into something more notebook friendly. This utility will provide two DataFrames, one deep one containing all of the evaluation results, and another one which aggregates via taking the mean of all the scores, per evaluation method."
   ]
  },
  {
   "cell_type": "code",
   "execution_count": 98,
   "metadata": {},
   "outputs": [],
   "source": [
    "from llama_index.core.evaluation.notebook_utils import get_eval_results_df\n",
    "import pandas as pd\n",
    "\n",
    "deep_dfs = {}\n",
    "mean_dfs = {}\n",
    "for metric in evals.keys():\n",
    "    deep_df, mean_df = get_eval_results_df(\n",
    "        names=[\"baseline\"] * len(evals[metric]),\n",
    "        results_arr=evals[metric],\n",
    "        metric=metric,\n",
    "    )\n",
    "    deep_dfs[metric] = deep_df\n",
    "    mean_dfs[metric] = mean_df"
   ]
  },
  {
   "cell_type": "code",
   "execution_count": 99,
   "metadata": {},
   "outputs": [
    {
     "data": {
      "text/html": [
       "<div>\n",
       "<style scoped>\n",
       "    .dataframe tbody tr th:only-of-type {\n",
       "        vertical-align: middle;\n",
       "    }\n",
       "\n",
       "    .dataframe tbody tr th {\n",
       "        vertical-align: top;\n",
       "    }\n",
       "\n",
       "    .dataframe thead th {\n",
       "        text-align: right;\n",
       "    }\n",
       "</style>\n",
       "<table border=\"1\" class=\"dataframe\">\n",
       "  <thead>\n",
       "    <tr style=\"text-align: right;\">\n",
       "      <th>rag</th>\n",
       "      <th>baseline</th>\n",
       "    </tr>\n",
       "    <tr>\n",
       "      <th>metrics</th>\n",
       "      <th></th>\n",
       "    </tr>\n",
       "  </thead>\n",
       "  <tbody>\n",
       "    <tr>\n",
       "      <th>mean_answer_relevancy_score</th>\n",
       "      <td>1.000000</td>\n",
       "    </tr>\n",
       "    <tr>\n",
       "      <th>mean_context_relevancy_score</th>\n",
       "      <td>0.507812</td>\n",
       "    </tr>\n",
       "  </tbody>\n",
       "</table>\n",
       "</div>"
      ],
      "text/plain": [
       "rag                           baseline\n",
       "metrics                               \n",
       "mean_answer_relevancy_score   1.000000\n",
       "mean_context_relevancy_score  0.507812"
      ]
     },
     "execution_count": 99,
     "metadata": {},
     "output_type": "execute_result"
    }
   ],
   "source": [
    "mean_scores_df = pd.concat(\n",
    "    [mdf.reset_index() for _, mdf in mean_dfs.items()],\n",
    "    axis=0,\n",
    "    ignore_index=True,\n",
    ")\n",
    "mean_scores_df = mean_scores_df.set_index(\"index\")\n",
    "mean_scores_df.index = mean_scores_df.index.set_names([\"metrics\"])\n",
    "mean_scores_df"
   ]
  },
  {
   "cell_type": "markdown",
   "metadata": {},
   "source": [
    "The above utility also provides the mean score across all of the evaluations in `mean_df`."
   ]
  },
  {
   "cell_type": "markdown",
   "metadata": {},
   "source": [
    "We can get a look at the raw distribution of the scores by invoking `value_counts()` on the `deep_df`."
   ]
  },
  {
   "cell_type": "code",
   "execution_count": 100,
   "metadata": {},
   "outputs": [
    {
     "data": {
      "text/plain": [
       "scores\n",
       "1.0    16\n",
       "Name: count, dtype: int64"
      ]
     },
     "execution_count": 100,
     "metadata": {},
     "output_type": "execute_result"
    }
   ],
   "source": [
    "deep_dfs[\"answer_relevancy\"][\"scores\"].value_counts()"
   ]
  },
  {
   "cell_type": "code",
   "execution_count": 101,
   "metadata": {},
   "outputs": [
    {
     "data": {
      "text/plain": [
       "scores\n",
       "0.750    4\n",
       "0.250    3\n",
       "0.625    2\n",
       "0.375    2\n",
       "0.000    2\n",
       "1.000    1\n",
       "0.875    1\n",
       "0.500    1\n",
       "Name: count, dtype: int64"
      ]
     },
     "execution_count": 101,
     "metadata": {},
     "output_type": "execute_result"
    }
   ],
   "source": [
    "deep_dfs[\"context_relevancy\"][\"scores\"].value_counts()"
   ]
  },
  {
   "cell_type": "markdown",
   "metadata": {},
   "source": [
    "It looks like for the most part, the default RAG does fairly well in terms of generating answers that are relevant to the query. Getting a closer look is made possible by viewing the records of any of the `deep_df`'s."
   ]
  },
  {
   "cell_type": "code",
   "execution_count": 102,
   "metadata": {},
   "outputs": [
    {
     "data": {
      "text/html": [
       "<div>\n",
       "<style scoped>\n",
       "    .dataframe tbody tr th:only-of-type {\n",
       "        vertical-align: middle;\n",
       "    }\n",
       "\n",
       "    .dataframe tbody tr th {\n",
       "        vertical-align: top;\n",
       "    }\n",
       "\n",
       "    .dataframe thead th {\n",
       "        text-align: right;\n",
       "    }\n",
       "</style>\n",
       "<table border=\"1\" class=\"dataframe\">\n",
       "  <thead>\n",
       "    <tr style=\"text-align: right;\">\n",
       "      <th></th>\n",
       "      <th>rag</th>\n",
       "      <th>query</th>\n",
       "      <th>answer</th>\n",
       "      <th>contexts</th>\n",
       "      <th>scores</th>\n",
       "      <th>feedbacks</th>\n",
       "    </tr>\n",
       "  </thead>\n",
       "  <tbody>\n",
       "    <tr>\n",
       "      <th>0</th>\n",
       "      <td>baseline</td>\n",
       "      <td>Discuss the significance of the year 1155 in the history of Vienna and explain how it contributed to the city's development under the Babenberg dynasty.</td>\n",
       "      <td>None</td>\n",
       "      <td>[The history of Vienna has been long and varied, beginning when the Roman Empire created a military camp in the area now covered by Vienna's city centre. Vienna grew from the Roman settlement known as Vindobona to be an important trading site in the 11th century. It became the capital of the Babenberg dynasty and subsequently of the Austrian Habsburgs, under whom it became one of Europe's cultural hubs. During the 19th century as the capital of the Austrian Empire and later Austria-Hungary, it temporarily became one of Europe's biggest cities. Since the end of World War I, Vienna has been the capital of the Republic of Austria.\\n\\n\\n== Beginnings and early Middle Ages ==\\n\\nThe name Vindobona derives from a Celtic language, suggesting that the region must have been inhabited before Roman times. The Romans created a military camp (occupied by Legio X Gemina) during the 1st century on the site of the city centre of present-day Vienna. The settlement was raised to the status of a municipium in 212. Even today, the streets of the First District show where the encampment placed its walls and moats. The Romans stayed until the 5th century.\\nRoman Vindobona was located in the outskirts of the empire and thus fell prey to the chaos of the Migration Period. There are some indications that a catastrophic fire occurred around the beginning of the 5th century. However, the remains of the encampment were not deserted, and a small settlement remained. The streets and houses of early medieval Vienna followed the former Roman walls, which gives rise to the conclusion that parts of the fortification were still in place and used by the settlers.\\nByzantine copper coins from the 6th century have been found several times in the area of today's city centre, indicating considerable trade activity. Graves from the 6th century were found during excavations next to the Berghof, in an area around Salvatorgasse. At that time, the Lombards controlled the area, with Slavs and Avars following later. Early Vienna was  centred on the Berghof.\\nThe first documented mention of the city during the Middle Ages is within the Salzburg Annals, dating to 881, when a battle apud Weniam was fought against the Magyars. However, it is unclear whether this refers to the city or the River Wien.\\n\\n\\n== Babenberg rule ==\\n\\nIn 976, the Margraviate of Ostarrîchi was given to the Babenberg family. Vienna lay at its border with Hungary.\\nVienna was an important site of trade as early as the 11th century. In the Exchange of Mautern between the Bishop of Passau and Margrave Leopold IV, Vienna is mentioned as a Civitas for the first time, which indicates the existence of a well-ordered settlement. \\nIn 1155, Margrave Henry II of Austria made Vienna his capital. In 1156, Austria was raised to a duchy in the Privilegium Minus, with Vienna becoming the seat of all future dukes. During that time, the Schottenstift was founded.\\nThe events surrounding the Third Crusade, during which King Richard the Lionheart was discovered and captured by Duke Leopold V the Virtuous two days before Christmas of 1192 in Erdberg near Vienna, brought an enormous ransom of 50,000 Silver Marks (about 10 to 12 tons of silver, about a third of the emperor's claims against the English. Richard had been extradited to him in March 1193). This allowed the creation of a mint and the construction of city walls around the year 1200. At the U-Bahn station Stubentor, some remains of the city walls can still be seen today. Because he had abused a protected crusader, Leopold V was excommunicated by Pope Celestine III, and died (without having been absolved) after falling from a horse in a tournament.\\nIn 1221, Vienna received the rights of a city and as a staple port (Stapelrecht). This meant that all traders passing through Vienna had to offer their goods in the city. This allowed the Viennese to act as middlemen in trade, so that Vienna soon created a network of far-reaching trade relations, particularly along the Danube basin and to Venice, and to become one of the most important cities in the Holy Roman Empire.\\n\\nHowever, it was considered embarrassing that Vienna did not have its own bishop. It is known that Duke Frederick II negotiated about the creation of a bishopric in Vienna, and the same is suspected of Ottokar Přemysl., == Habsburg rule ==\\n\\nIn 1278, Rudolf I took control over the Austrian lands after his victory over Ottokar II of Bohemia and began to establish Habsburg rule. In Vienna, it took a relatively long time for the Habsburgs to establish their control, because partisans of Ottokar remained strong for a long time. There were several uprisings against Albert I. The family of the Paltrams vom Stephansfreithof was foremost among the insurgents.\\nIn 1280, Jans der Enikel wrote the \"Fürstenbuch\", a first history of the city.\\nWith the Luxembourg emperors, Prague became the imperial residence and Vienna stood in its shadow. The early Habsburgs attempted to extend it in order to keep up. Duke Albert II, for example, had the gothic choir of the Stephansdom built. In 1327, Frederick the Handsome published his edict allowing the city to maintain an Eisenbuch (iron book) listing its privileges.\\n\\nThe combination of the heraldic eagle with the city coat of arms showing a white cross in a red field is found on a seal dated 1327.\\nThis heraldic emblem was in use throughout the 14th century in different variants.\\nRudolf IV of Austria deserves credit for his prudent economic policy, which raised the level of prosperity. His epithet the Founder is due to two things: first, he founded the University of Vienna in 1365, and second, he began the construction of the gothic nave in the Stephansdom. The latter is connected to the creation of a metropolitan chapter, as a symbolic substitute for a bishop.\\nThere was a period of inheritance disputes among the Habsburgs resulting not only in confusion, but also in an economic decline and social unrest, with disputes between the parties of patricians and artisans. While the patricians supported Ernest the Iron, the artisans supported Leopold IV. In 1408, the mayor Konrad Vorlauf, an  exponent of the patrician party, was executed.\\nAfter the election of Duke Albert V as German King Albert II, Vienna became the capital of the Holy Roman Empire. Albert's name is remembered for his expulsion of the Jewish population of Vienna in 1421/22.\\nEventually, in 1469, Vienna was given its own bishop, and the Stephansdom became a cathedral. During the upheavals of the era of Emperor Frederick III, Vienna remained on the side of his opponents (first Albert VI, then Matthias Corvinus), as Frederick proved unable to maintain peace in the land vis-à-vis rampaging gangs of mercenaries (often remaining from the Hussite Wars).\\nIn 1485, the Hungarian King Matthias Corvinus and the Black Army of Hungary conquered the city and Vienna became the king's seat that served as the capital of Hungary until 1490.\\nIn 1522, under Ferdinand I, Holy Roman Emperor the Blood Judgment of Wiener Neustadt led to the execution of leading members of the opposition within the city, and thus a destruction of the political structures. From then on, the city stood under direct imperial control.\\n\\nIn 1556, Vienna became the seat of the Emperor, with Bohemia having been added to the Habsburg realm in 1526.\\nDuring this time, the city was also recatholicised after having become Protestant rather quickly. In 1551, the Jesuits were brought to town and soon gained a large influence in court. The leader of the Counter-Reformation here was Melchior Khlesl, Bishop of Vienna from 1600.\\n\\n\\n=== Turkish sieges ===\\n\\nIn 1529, Vienna was besieged by the Ottoman Turks for the first time (the First Turkish Siege), although unsuccessfully. The city, protected by medieval walls, only barely withstood the attacks, until epidemics and an early winter forced the Turks to retreat. The siege had shown that new fortifications were needed. Following plans by Sebastian Schrantz, Vienna was expanded to a fortress in 1548. The city was furnished with eleven bastions and surrounded by a moat. A glacis was created around Vienna, a broad strip without any buildings, which allowed defenders to fire freely. These fortifications, which accounted for the major part of building activities well into the 17th century, became decisive in the Second Turkish Siege of 1683, as they allowed the city to maintain itself for two months, until the Turkish army was defeated by the army led by the Polish King John III Sobieski. This was the turning point in the Turkish Wars, as the Ottoman Empire was pushed back more and more during the following decades.]</td>\n",
       "      <td>0.625</td>\n",
       "      <td>The retrieved context does match the subject matter of the user's query. It provides a detailed history of Vienna, including the period of the Babenberg rule. It specifically mentions the year 1155, when Margrave Henry II of Austria made Vienna his capital, and how this contributed to the city's development. However, the context does not provide a comprehensive explanation of the significance of the year 1155 in the history of Vienna and how it contributed to the city's development under the Babenberg dynasty. It does not delve into the specific changes or developments that occurred in the city as a result of this event. Therefore, the context cannot be used exclusively to provide a full answer to the user's query.\\n\\n1. Does the retrieved context match the subject matter of the user's query? Yes (2/2)\\n2. Can the retrieved context be used exclusively to provide a full answer to the user's query? No (0.5/2)\\n\\n[RESULT] 2.5/4</td>\n",
       "    </tr>\n",
       "    <tr>\n",
       "      <th>1</th>\n",
       "      <td>baseline</td>\n",
       "      <td>What were the implications of Vienna receiving the rights of a city and staple port in 1221, and how did this status affect its role in trade within the Holy Roman Empire?</td>\n",
       "      <td>None</td>\n",
       "      <td>[The history of Vienna has been long and varied, beginning when the Roman Empire created a military camp in the area now covered by Vienna's city centre. Vienna grew from the Roman settlement known as Vindobona to be an important trading site in the 11th century. It became the capital of the Babenberg dynasty and subsequently of the Austrian Habsburgs, under whom it became one of Europe's cultural hubs. During the 19th century as the capital of the Austrian Empire and later Austria-Hungary, it temporarily became one of Europe's biggest cities. Since the end of World War I, Vienna has been the capital of the Republic of Austria.\\n\\n\\n== Beginnings and early Middle Ages ==\\n\\nThe name Vindobona derives from a Celtic language, suggesting that the region must have been inhabited before Roman times. The Romans created a military camp (occupied by Legio X Gemina) during the 1st century on the site of the city centre of present-day Vienna. The settlement was raised to the status of a municipium in 212. Even today, the streets of the First District show where the encampment placed its walls and moats. The Romans stayed until the 5th century.\\nRoman Vindobona was located in the outskirts of the empire and thus fell prey to the chaos of the Migration Period. There are some indications that a catastrophic fire occurred around the beginning of the 5th century. However, the remains of the encampment were not deserted, and a small settlement remained. The streets and houses of early medieval Vienna followed the former Roman walls, which gives rise to the conclusion that parts of the fortification were still in place and used by the settlers.\\nByzantine copper coins from the 6th century have been found several times in the area of today's city centre, indicating considerable trade activity. Graves from the 6th century were found during excavations next to the Berghof, in an area around Salvatorgasse. At that time, the Lombards controlled the area, with Slavs and Avars following later. Early Vienna was  centred on the Berghof.\\nThe first documented mention of the city during the Middle Ages is within the Salzburg Annals, dating to 881, when a battle apud Weniam was fought against the Magyars. However, it is unclear whether this refers to the city or the River Wien.\\n\\n\\n== Babenberg rule ==\\n\\nIn 976, the Margraviate of Ostarrîchi was given to the Babenberg family. Vienna lay at its border with Hungary.\\nVienna was an important site of trade as early as the 11th century. In the Exchange of Mautern between the Bishop of Passau and Margrave Leopold IV, Vienna is mentioned as a Civitas for the first time, which indicates the existence of a well-ordered settlement. \\nIn 1155, Margrave Henry II of Austria made Vienna his capital. In 1156, Austria was raised to a duchy in the Privilegium Minus, with Vienna becoming the seat of all future dukes. During that time, the Schottenstift was founded.\\nThe events surrounding the Third Crusade, during which King Richard the Lionheart was discovered and captured by Duke Leopold V the Virtuous two days before Christmas of 1192 in Erdberg near Vienna, brought an enormous ransom of 50,000 Silver Marks (about 10 to 12 tons of silver, about a third of the emperor's claims against the English. Richard had been extradited to him in March 1193). This allowed the creation of a mint and the construction of city walls around the year 1200. At the U-Bahn station Stubentor, some remains of the city walls can still be seen today. Because he had abused a protected crusader, Leopold V was excommunicated by Pope Celestine III, and died (without having been absolved) after falling from a horse in a tournament.\\nIn 1221, Vienna received the rights of a city and as a staple port (Stapelrecht). This meant that all traders passing through Vienna had to offer their goods in the city. This allowed the Viennese to act as middlemen in trade, so that Vienna soon created a network of far-reaching trade relations, particularly along the Danube basin and to Venice, and to become one of the most important cities in the Holy Roman Empire.\\n\\nHowever, it was considered embarrassing that Vienna did not have its own bishop. It is known that Duke Frederick II negotiated about the creation of a bishopric in Vienna, and the same is suspected of Ottokar Přemysl., == Habsburg rule ==\\n\\nIn 1278, Rudolf I took control over the Austrian lands after his victory over Ottokar II of Bohemia and began to establish Habsburg rule. In Vienna, it took a relatively long time for the Habsburgs to establish their control, because partisans of Ottokar remained strong for a long time. There were several uprisings against Albert I. The family of the Paltrams vom Stephansfreithof was foremost among the insurgents.\\nIn 1280, Jans der Enikel wrote the \"Fürstenbuch\", a first history of the city.\\nWith the Luxembourg emperors, Prague became the imperial residence and Vienna stood in its shadow. The early Habsburgs attempted to extend it in order to keep up. Duke Albert II, for example, had the gothic choir of the Stephansdom built. In 1327, Frederick the Handsome published his edict allowing the city to maintain an Eisenbuch (iron book) listing its privileges.\\n\\nThe combination of the heraldic eagle with the city coat of arms showing a white cross in a red field is found on a seal dated 1327.\\nThis heraldic emblem was in use throughout the 14th century in different variants.\\nRudolf IV of Austria deserves credit for his prudent economic policy, which raised the level of prosperity. His epithet the Founder is due to two things: first, he founded the University of Vienna in 1365, and second, he began the construction of the gothic nave in the Stephansdom. The latter is connected to the creation of a metropolitan chapter, as a symbolic substitute for a bishop.\\nThere was a period of inheritance disputes among the Habsburgs resulting not only in confusion, but also in an economic decline and social unrest, with disputes between the parties of patricians and artisans. While the patricians supported Ernest the Iron, the artisans supported Leopold IV. In 1408, the mayor Konrad Vorlauf, an  exponent of the patrician party, was executed.\\nAfter the election of Duke Albert V as German King Albert II, Vienna became the capital of the Holy Roman Empire. Albert's name is remembered for his expulsion of the Jewish population of Vienna in 1421/22.\\nEventually, in 1469, Vienna was given its own bishop, and the Stephansdom became a cathedral. During the upheavals of the era of Emperor Frederick III, Vienna remained on the side of his opponents (first Albert VI, then Matthias Corvinus), as Frederick proved unable to maintain peace in the land vis-à-vis rampaging gangs of mercenaries (often remaining from the Hussite Wars).\\nIn 1485, the Hungarian King Matthias Corvinus and the Black Army of Hungary conquered the city and Vienna became the king's seat that served as the capital of Hungary until 1490.\\nIn 1522, under Ferdinand I, Holy Roman Emperor the Blood Judgment of Wiener Neustadt led to the execution of leading members of the opposition within the city, and thus a destruction of the political structures. From then on, the city stood under direct imperial control.\\n\\nIn 1556, Vienna became the seat of the Emperor, with Bohemia having been added to the Habsburg realm in 1526.\\nDuring this time, the city was also recatholicised after having become Protestant rather quickly. In 1551, the Jesuits were brought to town and soon gained a large influence in court. The leader of the Counter-Reformation here was Melchior Khlesl, Bishop of Vienna from 1600.\\n\\n\\n=== Turkish sieges ===\\n\\nIn 1529, Vienna was besieged by the Ottoman Turks for the first time (the First Turkish Siege), although unsuccessfully. The city, protected by medieval walls, only barely withstood the attacks, until epidemics and an early winter forced the Turks to retreat. The siege had shown that new fortifications were needed. Following plans by Sebastian Schrantz, Vienna was expanded to a fortress in 1548. The city was furnished with eleven bastions and surrounded by a moat. A glacis was created around Vienna, a broad strip without any buildings, which allowed defenders to fire freely. These fortifications, which accounted for the major part of building activities well into the 17th century, became decisive in the Second Turkish Siege of 1683, as they allowed the city to maintain itself for two months, until the Turkish army was defeated by the army led by the Polish King John III Sobieski. This was the turning point in the Turkish Wars, as the Ottoman Empire was pushed back more and more during the following decades.]</td>\n",
       "      <td>0.750</td>\n",
       "      <td>The retrieved context does match the subject matter of the user's query. It provides a detailed history of Vienna, including its rise as a trading site, its status as a city and staple port in 1221, and its role in trade within the Holy Roman Empire. The context explains that the rights of a city and staple port meant that all traders passing through Vienna had to offer their goods in the city, which allowed Vienna to act as middlemen in trade and establish a network of far-reaching trade relations. \\n\\nHowever, the context does not fully answer the user's query. While it explains what the rights of a city and staple port entailed and how this status affected Vienna's role in trade, it does not delve into the broader implications of this status for Vienna. For example, it does not discuss how this status may have affected Vienna's political standing, its relationship with other cities and regions within the Holy Roman Empire, or its economic development beyond trade. \\n\\n1. Does the retrieved context match the subject matter of the user's query? Yes (2/2)\\n2. Can the retrieved context be used exclusively to provide a full answer to the user's query? Partially (1/2)\\n\\n[RESULT] 3/4</td>\n",
       "    </tr>\n",
       "  </tbody>\n",
       "</table>\n",
       "</div>"
      ],
      "text/plain": [
       "        rag  \\\n",
       "0  baseline   \n",
       "1  baseline   \n",
       "\n",
       "                                                                                                                                                                         query  \\\n",
       "0  Discuss the significance of the year 1155 in the history of Vienna and explain how it contributed to the city's development under the Babenberg dynasty.                      \n",
       "1  What were the implications of Vienna receiving the rights of a city and staple port in 1221, and how did this status affect its role in trade within the Holy Roman Empire?   \n",
       "\n",
       "  answer  \\\n",
       "0  None    \n",
       "1  None    \n",
       "\n",
       "                                                                                                                                                                                                                                                                                                                                                                                                                                                                                                                                                                                                                                                                                                                                                                                                                                                                                                                                                                                                                                                                                                                                                                                                                                                                                                                                                                                                                                                                                                                                                                                                                                                                                                                                                                                                                                                                                                                                                                                                                                                                                                                                                                                                                                                                                                                                                                                                                                                                                                                                                                                                                                                                                                                                                                                                                                                                                                                                                                                                                                                                                                                                                                                                                                                                                                                                                                                                                                                                                                                                                                                                                                                                                                                                                                                                                                                                                                                                                                                                                                                                                                                                                                                                                                                                                                                                                                                                                                                                                                                                                                                                                                                                                                                                                                                                                                                                                                                                                                                                                                                                                                                                                                                                                                                                                                                                                                                                                                                                                                                                                                                                                                                                                                                                                                                                                                                                                                                                                                                                                                                                                                                                                                                                                                                                                                                                                                                                                                                                                                                                                                                                                                                                                                                                                                                                                                                                                                                                                                                                                                                                                                                                                                                                                                                                                                                                                                                                                                                                                                                                                                                                                                                                                                                                                                                                                                                                                                                                                                                                                                                                                                                                                                                                                                                                                                                                                                                                                                                                                                                                                                                                                                                                                                                                                                                                                                                                                                                                                                                                                                            contexts  \\\n",
       "0  [The history of Vienna has been long and varied, beginning when the Roman Empire created a military camp in the area now covered by Vienna's city centre. Vienna grew from the Roman settlement known as Vindobona to be an important trading site in the 11th century. It became the capital of the Babenberg dynasty and subsequently of the Austrian Habsburgs, under whom it became one of Europe's cultural hubs. During the 19th century as the capital of the Austrian Empire and later Austria-Hungary, it temporarily became one of Europe's biggest cities. Since the end of World War I, Vienna has been the capital of the Republic of Austria.\\n\\n\\n== Beginnings and early Middle Ages ==\\n\\nThe name Vindobona derives from a Celtic language, suggesting that the region must have been inhabited before Roman times. The Romans created a military camp (occupied by Legio X Gemina) during the 1st century on the site of the city centre of present-day Vienna. The settlement was raised to the status of a municipium in 212. Even today, the streets of the First District show where the encampment placed its walls and moats. The Romans stayed until the 5th century.\\nRoman Vindobona was located in the outskirts of the empire and thus fell prey to the chaos of the Migration Period. There are some indications that a catastrophic fire occurred around the beginning of the 5th century. However, the remains of the encampment were not deserted, and a small settlement remained. The streets and houses of early medieval Vienna followed the former Roman walls, which gives rise to the conclusion that parts of the fortification were still in place and used by the settlers.\\nByzantine copper coins from the 6th century have been found several times in the area of today's city centre, indicating considerable trade activity. Graves from the 6th century were found during excavations next to the Berghof, in an area around Salvatorgasse. At that time, the Lombards controlled the area, with Slavs and Avars following later. Early Vienna was  centred on the Berghof.\\nThe first documented mention of the city during the Middle Ages is within the Salzburg Annals, dating to 881, when a battle apud Weniam was fought against the Magyars. However, it is unclear whether this refers to the city or the River Wien.\\n\\n\\n== Babenberg rule ==\\n\\nIn 976, the Margraviate of Ostarrîchi was given to the Babenberg family. Vienna lay at its border with Hungary.\\nVienna was an important site of trade as early as the 11th century. In the Exchange of Mautern between the Bishop of Passau and Margrave Leopold IV, Vienna is mentioned as a Civitas for the first time, which indicates the existence of a well-ordered settlement. \\nIn 1155, Margrave Henry II of Austria made Vienna his capital. In 1156, Austria was raised to a duchy in the Privilegium Minus, with Vienna becoming the seat of all future dukes. During that time, the Schottenstift was founded.\\nThe events surrounding the Third Crusade, during which King Richard the Lionheart was discovered and captured by Duke Leopold V the Virtuous two days before Christmas of 1192 in Erdberg near Vienna, brought an enormous ransom of 50,000 Silver Marks (about 10 to 12 tons of silver, about a third of the emperor's claims against the English. Richard had been extradited to him in March 1193). This allowed the creation of a mint and the construction of city walls around the year 1200. At the U-Bahn station Stubentor, some remains of the city walls can still be seen today. Because he had abused a protected crusader, Leopold V was excommunicated by Pope Celestine III, and died (without having been absolved) after falling from a horse in a tournament.\\nIn 1221, Vienna received the rights of a city and as a staple port (Stapelrecht). This meant that all traders passing through Vienna had to offer their goods in the city. This allowed the Viennese to act as middlemen in trade, so that Vienna soon created a network of far-reaching trade relations, particularly along the Danube basin and to Venice, and to become one of the most important cities in the Holy Roman Empire.\\n\\nHowever, it was considered embarrassing that Vienna did not have its own bishop. It is known that Duke Frederick II negotiated about the creation of a bishopric in Vienna, and the same is suspected of Ottokar Přemysl., == Habsburg rule ==\\n\\nIn 1278, Rudolf I took control over the Austrian lands after his victory over Ottokar II of Bohemia and began to establish Habsburg rule. In Vienna, it took a relatively long time for the Habsburgs to establish their control, because partisans of Ottokar remained strong for a long time. There were several uprisings against Albert I. The family of the Paltrams vom Stephansfreithof was foremost among the insurgents.\\nIn 1280, Jans der Enikel wrote the \"Fürstenbuch\", a first history of the city.\\nWith the Luxembourg emperors, Prague became the imperial residence and Vienna stood in its shadow. The early Habsburgs attempted to extend it in order to keep up. Duke Albert II, for example, had the gothic choir of the Stephansdom built. In 1327, Frederick the Handsome published his edict allowing the city to maintain an Eisenbuch (iron book) listing its privileges.\\n\\nThe combination of the heraldic eagle with the city coat of arms showing a white cross in a red field is found on a seal dated 1327.\\nThis heraldic emblem was in use throughout the 14th century in different variants.\\nRudolf IV of Austria deserves credit for his prudent economic policy, which raised the level of prosperity. His epithet the Founder is due to two things: first, he founded the University of Vienna in 1365, and second, he began the construction of the gothic nave in the Stephansdom. The latter is connected to the creation of a metropolitan chapter, as a symbolic substitute for a bishop.\\nThere was a period of inheritance disputes among the Habsburgs resulting not only in confusion, but also in an economic decline and social unrest, with disputes between the parties of patricians and artisans. While the patricians supported Ernest the Iron, the artisans supported Leopold IV. In 1408, the mayor Konrad Vorlauf, an  exponent of the patrician party, was executed.\\nAfter the election of Duke Albert V as German King Albert II, Vienna became the capital of the Holy Roman Empire. Albert's name is remembered for his expulsion of the Jewish population of Vienna in 1421/22.\\nEventually, in 1469, Vienna was given its own bishop, and the Stephansdom became a cathedral. During the upheavals of the era of Emperor Frederick III, Vienna remained on the side of his opponents (first Albert VI, then Matthias Corvinus), as Frederick proved unable to maintain peace in the land vis-à-vis rampaging gangs of mercenaries (often remaining from the Hussite Wars).\\nIn 1485, the Hungarian King Matthias Corvinus and the Black Army of Hungary conquered the city and Vienna became the king's seat that served as the capital of Hungary until 1490.\\nIn 1522, under Ferdinand I, Holy Roman Emperor the Blood Judgment of Wiener Neustadt led to the execution of leading members of the opposition within the city, and thus a destruction of the political structures. From then on, the city stood under direct imperial control.\\n\\nIn 1556, Vienna became the seat of the Emperor, with Bohemia having been added to the Habsburg realm in 1526.\\nDuring this time, the city was also recatholicised after having become Protestant rather quickly. In 1551, the Jesuits were brought to town and soon gained a large influence in court. The leader of the Counter-Reformation here was Melchior Khlesl, Bishop of Vienna from 1600.\\n\\n\\n=== Turkish sieges ===\\n\\nIn 1529, Vienna was besieged by the Ottoman Turks for the first time (the First Turkish Siege), although unsuccessfully. The city, protected by medieval walls, only barely withstood the attacks, until epidemics and an early winter forced the Turks to retreat. The siege had shown that new fortifications were needed. Following plans by Sebastian Schrantz, Vienna was expanded to a fortress in 1548. The city was furnished with eleven bastions and surrounded by a moat. A glacis was created around Vienna, a broad strip without any buildings, which allowed defenders to fire freely. These fortifications, which accounted for the major part of building activities well into the 17th century, became decisive in the Second Turkish Siege of 1683, as they allowed the city to maintain itself for two months, until the Turkish army was defeated by the army led by the Polish King John III Sobieski. This was the turning point in the Turkish Wars, as the Ottoman Empire was pushed back more and more during the following decades.]   \n",
       "1  [The history of Vienna has been long and varied, beginning when the Roman Empire created a military camp in the area now covered by Vienna's city centre. Vienna grew from the Roman settlement known as Vindobona to be an important trading site in the 11th century. It became the capital of the Babenberg dynasty and subsequently of the Austrian Habsburgs, under whom it became one of Europe's cultural hubs. During the 19th century as the capital of the Austrian Empire and later Austria-Hungary, it temporarily became one of Europe's biggest cities. Since the end of World War I, Vienna has been the capital of the Republic of Austria.\\n\\n\\n== Beginnings and early Middle Ages ==\\n\\nThe name Vindobona derives from a Celtic language, suggesting that the region must have been inhabited before Roman times. The Romans created a military camp (occupied by Legio X Gemina) during the 1st century on the site of the city centre of present-day Vienna. The settlement was raised to the status of a municipium in 212. Even today, the streets of the First District show where the encampment placed its walls and moats. The Romans stayed until the 5th century.\\nRoman Vindobona was located in the outskirts of the empire and thus fell prey to the chaos of the Migration Period. There are some indications that a catastrophic fire occurred around the beginning of the 5th century. However, the remains of the encampment were not deserted, and a small settlement remained. The streets and houses of early medieval Vienna followed the former Roman walls, which gives rise to the conclusion that parts of the fortification were still in place and used by the settlers.\\nByzantine copper coins from the 6th century have been found several times in the area of today's city centre, indicating considerable trade activity. Graves from the 6th century were found during excavations next to the Berghof, in an area around Salvatorgasse. At that time, the Lombards controlled the area, with Slavs and Avars following later. Early Vienna was  centred on the Berghof.\\nThe first documented mention of the city during the Middle Ages is within the Salzburg Annals, dating to 881, when a battle apud Weniam was fought against the Magyars. However, it is unclear whether this refers to the city or the River Wien.\\n\\n\\n== Babenberg rule ==\\n\\nIn 976, the Margraviate of Ostarrîchi was given to the Babenberg family. Vienna lay at its border with Hungary.\\nVienna was an important site of trade as early as the 11th century. In the Exchange of Mautern between the Bishop of Passau and Margrave Leopold IV, Vienna is mentioned as a Civitas for the first time, which indicates the existence of a well-ordered settlement. \\nIn 1155, Margrave Henry II of Austria made Vienna his capital. In 1156, Austria was raised to a duchy in the Privilegium Minus, with Vienna becoming the seat of all future dukes. During that time, the Schottenstift was founded.\\nThe events surrounding the Third Crusade, during which King Richard the Lionheart was discovered and captured by Duke Leopold V the Virtuous two days before Christmas of 1192 in Erdberg near Vienna, brought an enormous ransom of 50,000 Silver Marks (about 10 to 12 tons of silver, about a third of the emperor's claims against the English. Richard had been extradited to him in March 1193). This allowed the creation of a mint and the construction of city walls around the year 1200. At the U-Bahn station Stubentor, some remains of the city walls can still be seen today. Because he had abused a protected crusader, Leopold V was excommunicated by Pope Celestine III, and died (without having been absolved) after falling from a horse in a tournament.\\nIn 1221, Vienna received the rights of a city and as a staple port (Stapelrecht). This meant that all traders passing through Vienna had to offer their goods in the city. This allowed the Viennese to act as middlemen in trade, so that Vienna soon created a network of far-reaching trade relations, particularly along the Danube basin and to Venice, and to become one of the most important cities in the Holy Roman Empire.\\n\\nHowever, it was considered embarrassing that Vienna did not have its own bishop. It is known that Duke Frederick II negotiated about the creation of a bishopric in Vienna, and the same is suspected of Ottokar Přemysl., == Habsburg rule ==\\n\\nIn 1278, Rudolf I took control over the Austrian lands after his victory over Ottokar II of Bohemia and began to establish Habsburg rule. In Vienna, it took a relatively long time for the Habsburgs to establish their control, because partisans of Ottokar remained strong for a long time. There were several uprisings against Albert I. The family of the Paltrams vom Stephansfreithof was foremost among the insurgents.\\nIn 1280, Jans der Enikel wrote the \"Fürstenbuch\", a first history of the city.\\nWith the Luxembourg emperors, Prague became the imperial residence and Vienna stood in its shadow. The early Habsburgs attempted to extend it in order to keep up. Duke Albert II, for example, had the gothic choir of the Stephansdom built. In 1327, Frederick the Handsome published his edict allowing the city to maintain an Eisenbuch (iron book) listing its privileges.\\n\\nThe combination of the heraldic eagle with the city coat of arms showing a white cross in a red field is found on a seal dated 1327.\\nThis heraldic emblem was in use throughout the 14th century in different variants.\\nRudolf IV of Austria deserves credit for his prudent economic policy, which raised the level of prosperity. His epithet the Founder is due to two things: first, he founded the University of Vienna in 1365, and second, he began the construction of the gothic nave in the Stephansdom. The latter is connected to the creation of a metropolitan chapter, as a symbolic substitute for a bishop.\\nThere was a period of inheritance disputes among the Habsburgs resulting not only in confusion, but also in an economic decline and social unrest, with disputes between the parties of patricians and artisans. While the patricians supported Ernest the Iron, the artisans supported Leopold IV. In 1408, the mayor Konrad Vorlauf, an  exponent of the patrician party, was executed.\\nAfter the election of Duke Albert V as German King Albert II, Vienna became the capital of the Holy Roman Empire. Albert's name is remembered for his expulsion of the Jewish population of Vienna in 1421/22.\\nEventually, in 1469, Vienna was given its own bishop, and the Stephansdom became a cathedral. During the upheavals of the era of Emperor Frederick III, Vienna remained on the side of his opponents (first Albert VI, then Matthias Corvinus), as Frederick proved unable to maintain peace in the land vis-à-vis rampaging gangs of mercenaries (often remaining from the Hussite Wars).\\nIn 1485, the Hungarian King Matthias Corvinus and the Black Army of Hungary conquered the city and Vienna became the king's seat that served as the capital of Hungary until 1490.\\nIn 1522, under Ferdinand I, Holy Roman Emperor the Blood Judgment of Wiener Neustadt led to the execution of leading members of the opposition within the city, and thus a destruction of the political structures. From then on, the city stood under direct imperial control.\\n\\nIn 1556, Vienna became the seat of the Emperor, with Bohemia having been added to the Habsburg realm in 1526.\\nDuring this time, the city was also recatholicised after having become Protestant rather quickly. In 1551, the Jesuits were brought to town and soon gained a large influence in court. The leader of the Counter-Reformation here was Melchior Khlesl, Bishop of Vienna from 1600.\\n\\n\\n=== Turkish sieges ===\\n\\nIn 1529, Vienna was besieged by the Ottoman Turks for the first time (the First Turkish Siege), although unsuccessfully. The city, protected by medieval walls, only barely withstood the attacks, until epidemics and an early winter forced the Turks to retreat. The siege had shown that new fortifications were needed. Following plans by Sebastian Schrantz, Vienna was expanded to a fortress in 1548. The city was furnished with eleven bastions and surrounded by a moat. A glacis was created around Vienna, a broad strip without any buildings, which allowed defenders to fire freely. These fortifications, which accounted for the major part of building activities well into the 17th century, became decisive in the Second Turkish Siege of 1683, as they allowed the city to maintain itself for two months, until the Turkish army was defeated by the army led by the Polish King John III Sobieski. This was the turning point in the Turkish Wars, as the Ottoman Empire was pushed back more and more during the following decades.]   \n",
       "\n",
       "   scores  \\\n",
       "0  0.625    \n",
       "1  0.750    \n",
       "\n",
       "                                                                                                                                                                                                                                                                                                                                                                                                                                                                                                                                                                                                                                                                                                                                                                                                                                                                                                                                                                                                                                                                                                                                                                                                                                         feedbacks  \n",
       "0  The retrieved context does match the subject matter of the user's query. It provides a detailed history of Vienna, including the period of the Babenberg rule. It specifically mentions the year 1155, when Margrave Henry II of Austria made Vienna his capital, and how this contributed to the city's development. However, the context does not provide a comprehensive explanation of the significance of the year 1155 in the history of Vienna and how it contributed to the city's development under the Babenberg dynasty. It does not delve into the specific changes or developments that occurred in the city as a result of this event. Therefore, the context cannot be used exclusively to provide a full answer to the user's query.\\n\\n1. Does the retrieved context match the subject matter of the user's query? Yes (2/2)\\n2. Can the retrieved context be used exclusively to provide a full answer to the user's query? No (0.5/2)\\n\\n[RESULT] 2.5/4                                                                                                                                                                                                                                                                       \n",
       "1  The retrieved context does match the subject matter of the user's query. It provides a detailed history of Vienna, including its rise as a trading site, its status as a city and staple port in 1221, and its role in trade within the Holy Roman Empire. The context explains that the rights of a city and staple port meant that all traders passing through Vienna had to offer their goods in the city, which allowed Vienna to act as middlemen in trade and establish a network of far-reaching trade relations. \\n\\nHowever, the context does not fully answer the user's query. While it explains what the rights of a city and staple port entailed and how this status affected Vienna's role in trade, it does not delve into the broader implications of this status for Vienna. For example, it does not discuss how this status may have affected Vienna's political standing, its relationship with other cities and regions within the Holy Roman Empire, or its economic development beyond trade. \\n\\n1. Does the retrieved context match the subject matter of the user's query? Yes (2/2)\\n2. Can the retrieved context be used exclusively to provide a full answer to the user's query? Partially (1/2)\\n\\n[RESULT] 3/4  "
      ]
     },
     "execution_count": 102,
     "metadata": {},
     "output_type": "execute_result"
    }
   ],
   "source": [
    "deep_dfs[\"context_relevancy\"].head(2)"
   ]
  },
  {
   "cell_type": "markdown",
   "metadata": {},
   "source": [
    "And, of course you can apply any filters as you like. For example, if you want to look at the examples that yielded less than perfect results."
   ]
  },
  {
   "cell_type": "code",
   "execution_count": 103,
   "metadata": {},
   "outputs": [
    {
     "data": {
      "text/html": [
       "<div>\n",
       "<style scoped>\n",
       "    .dataframe tbody tr th:only-of-type {\n",
       "        vertical-align: middle;\n",
       "    }\n",
       "\n",
       "    .dataframe tbody tr th {\n",
       "        vertical-align: top;\n",
       "    }\n",
       "\n",
       "    .dataframe thead th {\n",
       "        text-align: right;\n",
       "    }\n",
       "</style>\n",
       "<table border=\"1\" class=\"dataframe\">\n",
       "  <thead>\n",
       "    <tr style=\"text-align: right;\">\n",
       "      <th></th>\n",
       "      <th>rag</th>\n",
       "      <th>query</th>\n",
       "      <th>answer</th>\n",
       "      <th>contexts</th>\n",
       "      <th>scores</th>\n",
       "      <th>feedbacks</th>\n",
       "    </tr>\n",
       "  </thead>\n",
       "  <tbody>\n",
       "    <tr>\n",
       "      <th>3</th>\n",
       "      <td>baseline</td>\n",
       "      <td>Analyze the impact of the First Turkish Siege of 1529 on Vienna's fortifications and military strategy, and explain how these developments influenced the outcome of the Second Turkish Siege in 1683.</td>\n",
       "      <td>None</td>\n",
       "      <td>[== Habsburg rule ==\\n\\nIn 1278, Rudolf I took control over the Austrian lands after his victory over Ottokar II of Bohemia and began to establish Habsburg rule. In Vienna, it took a relatively long time for the Habsburgs to establish their control, because partisans of Ottokar remained strong for a long time. There were several uprisings against Albert I. The family of the Paltrams vom Stephansfreithof was foremost among the insurgents.\\nIn 1280, Jans der Enikel wrote the \"Fürstenbuch\", a first history of the city.\\nWith the Luxembourg emperors, Prague became the imperial residence and Vienna stood in its shadow. The early Habsburgs attempted to extend it in order to keep up. Duke Albert II, for example, had the gothic choir of the Stephansdom built. In 1327, Frederick the Handsome published his edict allowing the city to maintain an Eisenbuch (iron book) listing its privileges.\\n\\nThe combination of the heraldic eagle with the city coat of arms showing a white cross in a red field is found on a seal dated 1327.\\nThis heraldic emblem was in use throughout the 14th century in different variants.\\nRudolf IV of Austria deserves credit for his prudent economic policy, which raised the level of prosperity. His epithet the Founder is due to two things: first, he founded the University of Vienna in 1365, and second, he began the construction of the gothic nave in the Stephansdom. The latter is connected to the creation of a metropolitan chapter, as a symbolic substitute for a bishop.\\nThere was a period of inheritance disputes among the Habsburgs resulting not only in confusion, but also in an economic decline and social unrest, with disputes between the parties of patricians and artisans. While the patricians supported Ernest the Iron, the artisans supported Leopold IV. In 1408, the mayor Konrad Vorlauf, an  exponent of the patrician party, was executed.\\nAfter the election of Duke Albert V as German King Albert II, Vienna became the capital of the Holy Roman Empire. Albert's name is remembered for his expulsion of the Jewish population of Vienna in 1421/22.\\nEventually, in 1469, Vienna was given its own bishop, and the Stephansdom became a cathedral. During the upheavals of the era of Emperor Frederick III, Vienna remained on the side of his opponents (first Albert VI, then Matthias Corvinus), as Frederick proved unable to maintain peace in the land vis-à-vis rampaging gangs of mercenaries (often remaining from the Hussite Wars).\\nIn 1485, the Hungarian King Matthias Corvinus and the Black Army of Hungary conquered the city and Vienna became the king's seat that served as the capital of Hungary until 1490.\\nIn 1522, under Ferdinand I, Holy Roman Emperor the Blood Judgment of Wiener Neustadt led to the execution of leading members of the opposition within the city, and thus a destruction of the political structures. From then on, the city stood under direct imperial control.\\n\\nIn 1556, Vienna became the seat of the Emperor, with Bohemia having been added to the Habsburg realm in 1526.\\nDuring this time, the city was also recatholicised after having become Protestant rather quickly. In 1551, the Jesuits were brought to town and soon gained a large influence in court. The leader of the Counter-Reformation here was Melchior Khlesl, Bishop of Vienna from 1600.\\n\\n\\n=== Turkish sieges ===\\n\\nIn 1529, Vienna was besieged by the Ottoman Turks for the first time (the First Turkish Siege), although unsuccessfully. The city, protected by medieval walls, only barely withstood the attacks, until epidemics and an early winter forced the Turks to retreat. The siege had shown that new fortifications were needed. Following plans by Sebastian Schrantz, Vienna was expanded to a fortress in 1548. The city was furnished with eleven bastions and surrounded by a moat. A glacis was created around Vienna, a broad strip without any buildings, which allowed defenders to fire freely. These fortifications, which accounted for the major part of building activities well into the 17th century, became decisive in the Second Turkish Siege of 1683, as they allowed the city to maintain itself for two months, until the Turkish army was defeated by the army led by the Polish King John III Sobieski. This was the turning point in the Turkish Wars, as the Ottoman Empire was pushed back more and more during the following decades., === Expansion under Emperor Franz Joseph I ===\\n\\nThe city was expanded in 1850, mostly to include the area within the Linienwall. The Vorstädte thus became the 2nd to 9th districts, with the old city becoming the first. In 1858, the fortifications were demolished, and the broad Ringstraße boulevard was built in their place. Many monumental buildings were built alongside it. The Ringstraße Style (Historicism) characterises the architecture of Vienna to this day. The period peaked in the World Exhibition of 1873, immediately before the stock market crash, which ended the Gründerzeit (\"foundation era\").\\nIn 1861, the Liberals won the first (relatively) free elections after the end of neoabsolutism.\\nAfter the great flood of 1830, Regulation of the Danube was frequently considered. It was finally put into practice during the 1860s. The many branches of the Danube were removed, and a straight course was created away from the city centre. The branch near the central city was made narrower and has been known under the somewhat misleading name Donaukanal (Danube Canal) ever since.\\nDuring that period, the population of Vienna increased sharply, mostly because of immigration. Censuses were conducted regularly from 1869 onwards, which showed an all-time high of population in 1910, with 2,031,000 inhabitants.\\nAround 1900, Vienna became a centre of the Jugendstil (Art Nouveau), most of all with Otto Wagner and the association of artists known as Vienna Secession (after which the characteristic building on Karlsplatz is named).\\nIn 1890, the city was expanded for a second time: the (Vororte) suburbs beyond the old Linienwall  were incorporated into the town as the districts 11 to 19 (the 10th district had been created in 1874 by the division of the fourth). Leopoldstadt was divided in 1900, with the northern part becoming the 20th district (Brigittenau). In 1904, Floridsdorf became part of Vienna as 21st district.\\nDuring those years, Karl Lueger was the leading figure of city politics. Neither his dedication to social policy can be denied, nor other works for the municipality (such as the Wiener Hochquellwasserleitung, bringing fresh water from the mountains to Vienna and the creation of a belt of meadows and forests around the city). However, these positive aspects were coupled with his raving and rhetorically well presented anti-Semitism, which enjoyed popular support.\\n\\n\\n=== World War I ===\\n\\nWorld War I (1914–1918) did not result in an immediate threat to Vienna, but it led to a lack of supplies because of the economic embargo imposed by the Entente powers, which resulted in a shortage of food and clothes. The skyrocketing costs of the war, mostly financed by borrowing, resulted in tremendous inflation that—as in Germany—wiped out the savings of many middle-class Viennese. One interesting quirk is that the 1916 Rent Control was never officially repealed; even today there are buildings where the 1916 rent—by now essentially meaningless—applies.\\nThese food shortages led to the 1918 Austro-Hungarian January Strike which started in Vienna. The Bolshevik seizure of power in Russia in November 1917 inspired the youth wing of the Social Democratic Workers' Party of Austria to organise meetings in November 1917 opposing the war.\\nThe Flight over Vienna propaganda flight, an air raid inspired by Gabriele d'Annunzio, was carried out on August 9, 1918, with 11 Ansaldo SVA. He flew undisturbed for over 1,200 km in a roundtrip to Vienna to drop about 400,000 propaganda leaflets, written in Italian and German, asking the people of Vienna the end of the alliance between Austria-Hungary and Germany.]</td>\n",
       "      <td>0.375</td>\n",
       "      <td>1. The retrieved context does match the subject matter of the user's query. It provides information about the First Turkish Siege of 1529 and the Second Turkish Siege in 1683, as well as the impact of these events on Vienna's fortifications and military strategy. However, the context does not provide a detailed analysis of these impacts and how they influenced the outcome of the Second Turkish Siege. It only briefly mentions that the fortifications allowed the city to maintain itself for two months until the Turkish army was defeated. \\n\\n2. The retrieved context cannot be used exclusively to provide a full answer to the user's query. While it does provide some relevant information, it lacks a detailed analysis of the impact of the First Turkish Siege on Vienna's fortifications and military strategy, and how these developments influenced the outcome of the Second Turkish Siege. The context also includes a lot of information that is not relevant to the user's query, such as the history of Habsburg rule in Vienna and the city's expansion under Emperor Franz Joseph I.\\n\\n[RESULT] 1.5</td>\n",
       "    </tr>\n",
       "    <tr>\n",
       "      <th>4</th>\n",
       "      <td>baseline</td>\n",
       "      <td>Discuss the impact of Emperor Joseph II's administration reforms in 1783 on the city of Vienna, particularly in relation to urban management and public health.</td>\n",
       "      <td>None</td>\n",
       "      <td>[=== 18th century ===\\n\\nThe following period was characterised by extensive building activities. In the course of reconstruction, Vienna was largely turned into a baroque city. The most important architects were Johann Bernhard Fischer von Erlach and Johann Lukas von Hildebrandt. Most construction happened in the suburbs (Vorstädte), as the nobility began to cover the surrounding land with garden palaces, known as Palais. The best known are the Palais Liechtenstein, Palais Modena, Schönbrunn Palace, Palais Schwarzenberg, and the Belvedere (the garden palais of Prince Eugene of Savoy). In 1704, an outer fortification, the Linienwall, was built around the Vorstädte.\\nAfter the extensive plague epidemics of 1679 and 1713, the population began to grow steadily. It is estimated that 150,000 people lived in Vienna in 1724, and 200,000 in 1790. At that time, the first factories were built, starting in Leopoldstadt. Leopoldstadt also became a site where many Jews lived, as they had been driven out of their 50-year-old ghetto in 1670. Hygienic problems began to become noticeable: sewers and street cleaning began to develop. Also in this time, the first house numbers (the Konskriptionsnummern) were issued, and the government postal system began to develop.\\nUnder Emperor Joseph II, the city administration was modernized in 1783: officials in charge of only the city were introduced, and the Magistrate was created (More information about the Magistrate of the City of Vienna specifically can be found in German at de:Magistrat der Stadt Wien.). At the same time, the graveyards within the city were closed.\\n\\n\\n=== 19th century ===\\n\\nDuring the Napoleonic Wars, Vienna was taken by the French twice, in 1805 and 1809. The first conquest happened without a battle. Three French marshals crossed the strongly defended Taborbrücke (Tábor bridge), the only Danube bridge at that time, and convinced the Austrian commander that the war was already over. In the meantime, the French army easily entered the city and was greeted by the population with interest rather than rejection. Napoleon allowed 10,000 men of the Vienna national guard to remain armed and left the arsenal to them when he left, as complete as he had found it.\\nHowever, the second occupation happened only after heavy fire. Shortly after, Napoleon suffered his first large defeat at Aspern, nearby. Less than two months later, his army crossed the Danube again and fought the Battle of Wagram on the same terrain as the previous Battle of Aspern. This second battle resulted in a victory for the French, and Austria soon surrendered, ending the War of the Fifth Coalition. In 1810, Salomon Mayer Rothschild arrived in Vienna from Frankfurt and sets up a bank named \"Mayer von Rothschild und Söhne\". The Emperor of Austria in 1823, made the five Rothschild brothers barons. The Rothschild family became famous as bankers in the major countries of Europe, and the Rothschild banking family of Austria remained prominent until the Creditanstalt bank in Vienna was confiscated by the Nazis in 1938.\\nAfter Napoleon's final defeat, the Congress of Vienna took place from September 18, 1814 to June 9, 1815, in which the political map of Europe was redrawn. The congress members indulged in many social events, which induced the witty Charles Joseph, Prince de Ligne to famously say: Le congres danse beaucoup, mais il ne marche pas (\"The congress dances, but does not progress\"). The events cost Austria a great deal of money, which was reflected in mockery about the major participants:\\n\\nAlexander of Russia: loves for all\\nFrederick William of Prussia: thinks for all\\nFrederick of Denmark: speaks for all\\nMaximilian of Bavaria: drinks for all\\nFrederick of Württemberg: eats for all\\nEmperor Francis of Austria: pays for all\\n\\nThe first half of the century was characterised by intensive industrialization, with Vienna being the center of the railway network after 1837.\\nThe French February Revolution of 1848 had an effect as far away as Vienna: on March 13, the March Revolution, which forced long-serving chancellor Metternich to resign.\\nDuring the 19th century, Vienna, along with Budapest, became one of the main centers of the Aromanian diaspora. The Aromanian population of these cities stands out for one of the first ones to develop a strictly Aromanian identity., === Expansion under Emperor Franz Joseph I ===\\n\\nThe city was expanded in 1850, mostly to include the area within the Linienwall. The Vorstädte thus became the 2nd to 9th districts, with the old city becoming the first. In 1858, the fortifications were demolished, and the broad Ringstraße boulevard was built in their place. Many monumental buildings were built alongside it. The Ringstraße Style (Historicism) characterises the architecture of Vienna to this day. The period peaked in the World Exhibition of 1873, immediately before the stock market crash, which ended the Gründerzeit (\"foundation era\").\\nIn 1861, the Liberals won the first (relatively) free elections after the end of neoabsolutism.\\nAfter the great flood of 1830, Regulation of the Danube was frequently considered. It was finally put into practice during the 1860s. The many branches of the Danube were removed, and a straight course was created away from the city centre. The branch near the central city was made narrower and has been known under the somewhat misleading name Donaukanal (Danube Canal) ever since.\\nDuring that period, the population of Vienna increased sharply, mostly because of immigration. Censuses were conducted regularly from 1869 onwards, which showed an all-time high of population in 1910, with 2,031,000 inhabitants.\\nAround 1900, Vienna became a centre of the Jugendstil (Art Nouveau), most of all with Otto Wagner and the association of artists known as Vienna Secession (after which the characteristic building on Karlsplatz is named).\\nIn 1890, the city was expanded for a second time: the (Vororte) suburbs beyond the old Linienwall  were incorporated into the town as the districts 11 to 19 (the 10th district had been created in 1874 by the division of the fourth). Leopoldstadt was divided in 1900, with the northern part becoming the 20th district (Brigittenau). In 1904, Floridsdorf became part of Vienna as 21st district.\\nDuring those years, Karl Lueger was the leading figure of city politics. Neither his dedication to social policy can be denied, nor other works for the municipality (such as the Wiener Hochquellwasserleitung, bringing fresh water from the mountains to Vienna and the creation of a belt of meadows and forests around the city). However, these positive aspects were coupled with his raving and rhetorically well presented anti-Semitism, which enjoyed popular support.\\n\\n\\n=== World War I ===\\n\\nWorld War I (1914–1918) did not result in an immediate threat to Vienna, but it led to a lack of supplies because of the economic embargo imposed by the Entente powers, which resulted in a shortage of food and clothes. The skyrocketing costs of the war, mostly financed by borrowing, resulted in tremendous inflation that—as in Germany—wiped out the savings of many middle-class Viennese. One interesting quirk is that the 1916 Rent Control was never officially repealed; even today there are buildings where the 1916 rent—by now essentially meaningless—applies.\\nThese food shortages led to the 1918 Austro-Hungarian January Strike which started in Vienna. The Bolshevik seizure of power in Russia in November 1917 inspired the youth wing of the Social Democratic Workers' Party of Austria to organise meetings in November 1917 opposing the war.\\nThe Flight over Vienna propaganda flight, an air raid inspired by Gabriele d'Annunzio, was carried out on August 9, 1918, with 11 Ansaldo SVA. He flew undisturbed for over 1,200 km in a roundtrip to Vienna to drop about 400,000 propaganda leaflets, written in Italian and German, asking the people of Vienna the end of the alliance between Austria-Hungary and Germany.]</td>\n",
       "      <td>0.250</td>\n",
       "      <td>1. The retrieved context does match the subject matter of the user's query to some extent. It mentions the modernization of the city administration under Emperor Joseph II in 1783, including the introduction of officials in charge of only the city and the creation of the Magistrate. It also mentions the closure of graveyards within the city during the same period. However, it does not provide specific details about the impact of these reforms on urban management and public health in Vienna. Therefore, it partially matches the subject matter of the user's query. (1/2)\\n2. The retrieved context cannot be used exclusively to provide a full answer to the user's query. While it does provide some information about the reforms implemented by Emperor Joseph II in 1783, it does not discuss their impact on the city of Vienna, particularly in relation to urban management and public health. Therefore, additional information would be needed to fully answer the user's query. (0/2)\\n\\n[RESULT] 1.0</td>\n",
       "    </tr>\n",
       "    <tr>\n",
       "      <th>5</th>\n",
       "      <td>baseline</td>\n",
       "      <td>Analyze the significance of the Congress of Vienna (1814-1815) in reshaping the political landscape of Europe, and explain how it affected Austria's financial situation.</td>\n",
       "      <td>None</td>\n",
       "      <td>[=== 18th century ===\\n\\nThe following period was characterised by extensive building activities. In the course of reconstruction, Vienna was largely turned into a baroque city. The most important architects were Johann Bernhard Fischer von Erlach and Johann Lukas von Hildebrandt. Most construction happened in the suburbs (Vorstädte), as the nobility began to cover the surrounding land with garden palaces, known as Palais. The best known are the Palais Liechtenstein, Palais Modena, Schönbrunn Palace, Palais Schwarzenberg, and the Belvedere (the garden palais of Prince Eugene of Savoy). In 1704, an outer fortification, the Linienwall, was built around the Vorstädte.\\nAfter the extensive plague epidemics of 1679 and 1713, the population began to grow steadily. It is estimated that 150,000 people lived in Vienna in 1724, and 200,000 in 1790. At that time, the first factories were built, starting in Leopoldstadt. Leopoldstadt also became a site where many Jews lived, as they had been driven out of their 50-year-old ghetto in 1670. Hygienic problems began to become noticeable: sewers and street cleaning began to develop. Also in this time, the first house numbers (the Konskriptionsnummern) were issued, and the government postal system began to develop.\\nUnder Emperor Joseph II, the city administration was modernized in 1783: officials in charge of only the city were introduced, and the Magistrate was created (More information about the Magistrate of the City of Vienna specifically can be found in German at de:Magistrat der Stadt Wien.). At the same time, the graveyards within the city were closed.\\n\\n\\n=== 19th century ===\\n\\nDuring the Napoleonic Wars, Vienna was taken by the French twice, in 1805 and 1809. The first conquest happened without a battle. Three French marshals crossed the strongly defended Taborbrücke (Tábor bridge), the only Danube bridge at that time, and convinced the Austrian commander that the war was already over. In the meantime, the French army easily entered the city and was greeted by the population with interest rather than rejection. Napoleon allowed 10,000 men of the Vienna national guard to remain armed and left the arsenal to them when he left, as complete as he had found it.\\nHowever, the second occupation happened only after heavy fire. Shortly after, Napoleon suffered his first large defeat at Aspern, nearby. Less than two months later, his army crossed the Danube again and fought the Battle of Wagram on the same terrain as the previous Battle of Aspern. This second battle resulted in a victory for the French, and Austria soon surrendered, ending the War of the Fifth Coalition. In 1810, Salomon Mayer Rothschild arrived in Vienna from Frankfurt and sets up a bank named \"Mayer von Rothschild und Söhne\". The Emperor of Austria in 1823, made the five Rothschild brothers barons. The Rothschild family became famous as bankers in the major countries of Europe, and the Rothschild banking family of Austria remained prominent until the Creditanstalt bank in Vienna was confiscated by the Nazis in 1938.\\nAfter Napoleon's final defeat, the Congress of Vienna took place from September 18, 1814 to June 9, 1815, in which the political map of Europe was redrawn. The congress members indulged in many social events, which induced the witty Charles Joseph, Prince de Ligne to famously say: Le congres danse beaucoup, mais il ne marche pas (\"The congress dances, but does not progress\"). The events cost Austria a great deal of money, which was reflected in mockery about the major participants:\\n\\nAlexander of Russia: loves for all\\nFrederick William of Prussia: thinks for all\\nFrederick of Denmark: speaks for all\\nMaximilian of Bavaria: drinks for all\\nFrederick of Württemberg: eats for all\\nEmperor Francis of Austria: pays for all\\n\\nThe first half of the century was characterised by intensive industrialization, with Vienna being the center of the railway network after 1837.\\nThe French February Revolution of 1848 had an effect as far away as Vienna: on March 13, the March Revolution, which forced long-serving chancellor Metternich to resign.\\nDuring the 19th century, Vienna, along with Budapest, became one of the main centers of the Aromanian diaspora. The Aromanian population of these cities stands out for one of the first ones to develop a strictly Aromanian identity., == See also ==\\nTimeline of Vienna\\nHistory of Austria\\nDistricts of Vienna\\n\\n\\n== References ==\\n\\n\\n== Further reading ==\\n\\nBaranello, Micaela. The Operetta Empire: Music Theater in Early Twentieth-Century Vienna (U of California Press, 2021).\\nBeller, Steven. Vienna and the Jews 1867-1938: A Cultural History (Cambridge, 1989).\\nBowman,  William D. Priest and Parish in Vienna, 1780 to 1880 (2000).\\nBoyer, John W. Culture and Political Crisis in Vienna: Christian Socialism in Power, 1897-1918 (U of Chicago Press, 1995).\\nBoyer, John. Political Radicalism in Late Imperial Vienna: Origins of the Christian Social Movement, 1848-1897 (U of Chicago Press, 1981).\\nBuklijas, Tatjana. \"Surgery and national identity in late nineteenth-century Vienna.\" Studies in History and Philosophy of Science Part C: Studies in History and Philosophy of Biological and Biomedical Sciences 38.4 (2007): 756-774. online\\nCoen, Deborah R. Vienna in the age of uncertainty: science, liberalism, and private life (U of Chicago Press, 2008).\\nCsendes, Peter. Historical Dictionary of Vienna (Scarecrow Press, 1999).\\nEmerson, Charles. 1913: In Search of the World Before the Great War (2013) compares Vienna to 20 major world cities on the eve of World War I; pp 87–109.\\nGeehr, Richard S. Karl Lueger: Mayor of Fin de Siècle Vienna (Wayne State University Press, 1990)\\nHamann, Brigette. Hitler's Vienna: A Dictator's Apprenticeship (Oxford P, 1999).\\nHanák, Péter. The garden and the workshop: essays on the cultural history of Vienna and Budapest (Princeton University Press, 2014)\\nHealy, Maureen. Vienna and the Fall of the Habsburg Empire: Total War and Everyday Life in World War I (2004).\\nKarnes, Kevin C. \"Wagner, Klimt, and the Metaphysics of Creativity in fin-de-siècle Vienna.\" Journal of the American Musicological Society 62.3 (2009): 647-697. online\\nKarnes, Kevin. Music, criticism, and the challenge of history: Shaping modern musical thought in late nineteenth century Vienna (Oxford UP, 2008).\\nKarnes, Kevin. A kingdom not of this world: Wagner, the arts, and utopian visions in fin-de-siècle Vienna (Oxford UP, 2013).\\nMay, A.J. Vienna in the Age of Franz Joseph (U of Oklahoma Press, 1968).\\nMillar, Simon and Peter Dennis. Vienna 1683: Christian Europe Repels the Ottomans (Osprey, 2008)\\nMorton, Frederik. A Nervous Splendour: Vienna 1888-1889 (Little, Brown, 1979).\\nOffenberger, Ilana Fritz. The Jews of Nazi Vienna, 1938-1945: Rescue and Destruction (Springer, 2017).\\nParsons, Nicholas. Vienna: A Cultural History (2008).\\nRampley, Matthew. The Vienna School of Art History: Empire and the Politics of Scholarship, 1847-1918 (Penn State Press, 2013).\\nRegal, Wolfgang and Michael Nanut. Vienna A Doctor’s Guide: 15 walking tours through Vienna’s medical history (2007)\\nRozenblit, Marsha. The Jews of Vienna, 1867-1914: Assimilation and Identity (State University of New York Press, 1984).\\nSchorske, Carl E. Fin-de-siècle Vienna: politics and culture (1979)\\nSilverman, Lisa. Becoming Austrians: Jews and Culture between the World Wars (Oxford UP, 2012), focus on Vienna.\\nUhl, Heidemarie. \"Museums as Engines of Identity: 'Vienna around 1900' and Exhibitionary Cultures in Vienna—A Comment.\" Austrian History Yearbook 46 (2015): 97-105.\\nWagner-Trenkwitz, Christoph. A Sound Tradition: A Short History of the Vienna Philharmonic Orchestra (Amalthea Signum Verlag, 2017).\\nWasserman, Janek. \"The Austro-Marxist struggle for 'intellectual workers': the lost debate on the question of intellectuals in interwar Vienna.\"]</td>\n",
       "      <td>0.250</td>\n",
       "      <td>The retrieved context does match the subject matter of the user's query to some extent. It provides information about the Congress of Vienna (1814-1815) and its role in reshaping the political landscape of Europe. However, it does not provide a detailed analysis of the significance of the Congress of Vienna in reshaping the political landscape of Europe, which is what the user asked for. \\n\\nThe context also does not provide any information on how the Congress of Vienna affected Austria's financial situation. The only mention of Austria's financial situation is a brief mention of the cost of the congress to Austria, but this does not provide a comprehensive answer to the user's query.\\n\\n1. Does the retrieved context match the subject matter of the user's query? Partially, the context does mention the Congress of Vienna and its role in reshaping Europe's political landscape, but it does not provide a detailed analysis of its significance. (1/2)\\n2. Can the retrieved context be used exclusively to provide a full answer to the user's query? No, the context does not provide any information on how the Congress of Vienna affected Austria's financial situation. (0/2)\\n\\n[RESULT] 1/4</td>\n",
       "    </tr>\n",
       "    <tr>\n",
       "      <th>11</th>\n",
       "      <td>baseline</td>\n",
       "      <td>Explain the significance of the Austrian State Treaty of 1955 and its implications for Austria's political status and neutrality in the context of post-war Europe.</td>\n",
       "      <td>None</td>\n",
       "      <td>[== The First Republic ==\\n\\nThe end of the war was also the end of Austria-Hungary. On November 12, 1918, the Republic of Deutsch-Österreich, or German-Austria, was proclaimed in front of the parliament. The population was concentrated in the capital, which was often called a hydrocephalus because of this;  articles in the international press had doubts about the viability of Vienna as a major European metropolis after the dissolution of Austria-Hungary.\\nIn 1921, Vienna was separated from surrounding Lower Austria and became a state of its own, with the mayor now equivalent in rank to a state governor. However, it remained the nominal capital of Lower Austria until 1986. The left-wing Social Democrats, who had dominated since the end of the war, were now in charge of the city administration. \"Red Vienna\" was considered an international model. Many notable Gemeindebauten (low-cost residential estates) were built during that period.\\nHowever, the increasing economic difficulties resulted in a political radicalization and polarisation of the political parties. On the social democratic side, the left-wing Republikanische Schutzbund (Republican Protective Alliance) was formed in 1923/24, which was a well-organised and well-equipped paramilitary group. It was opposed by the right-wing Heimwehr (\"Home Guard\"), which had been formed after the end of the war from local guards and similar combat units.\\nIn May 1923, in the presence of President Michael Hainisch, the First World Congress of Jewish Women was inaugurated at the Hofburg.\\n\\n\\n== Austrofascism ==\\n\\nThe fire of the Justizpalast (Palace of Justice) in 1927 after violent demonstrations, the collapse of the Creditanstalt, the largest bank of the country, and finally the dissolution of parliament in 1933, marked the way to the Civil War in February 1934. After Engelbert Dollfuß, who had been Chancellor of Austria and foreign minister since 1932, had forbidden the Nazi Party, the Communist Party and the Schutzbund in 1933, he extended the ban to the Social Democratic Party in 1934 after the February Uprising. The only legal political organization was the new movement of his own creation, the Vaterländische Front. Dollfuß created an authoritarian regime called Ständestaat and ruled without parliamentary approval (also see Austrofascism).\\n\\n\\n== Annexation by Nazi Germany and Second World War ==\\n\\nIn March 1938 Nazi Germany occupied and annexed Austria in a process known as the Anschluss. Adolf Hitler was rapturously received in Vienna by large crowds of admirers and famously gave a speech at Heldenplatz in which he welcomed his homeland into the Reich. Hitler's anti-Jewish policies fell on fertile soil in Vienna, where latent anti-Semitism had increased during the early 20th century. Immediately after the Anschluss the Jews of Vienna were subject to violence from the State as well as from Antisemites acting out of their own sadism. During the Reichskristallnacht on November 9, 1938, the synagogues, the Jewish centres of not only religious, but also social life, were destroyed. In August, the KZ Oberlanzendorf Wien (Central Office for Jewish Emigration) was created. Its head was Adolf Eichmann. On the whole, and despite some instances of anti-Semitism, the city of Vienna was less supportive of the Nazi regime than was the rest of Austria. This however did not reach any extent of an organised resistance. Hitler himself hated Vienna and was determined to build up Linz, his childhood hometown, and relegate Vienna to backwater status.\\nIn the course of the expansion of the city in 1938, 91 adjoining municipalities were incorporated into the city, from which the 22nd (Groß-Enzersdorf), the 23rd (Schwechat), the 24th (Mödling), the 25th (Liesing) and the 26th (Klosterneuburg) districts were created. With an area of 1,224 km2, this made Vienna the city with the largest territory in the Third Reich., === World War II ===\\nDuring the war, the city housed 12 sub-camps of the infamous Mauthausen-Gusen concentration camp, located in various parts of the city.\\nAlthough originally out of range of Allied bombers operating from England, by 1943 the city began being attacked by bombers based in Italy. As in other major cities of Nazi Germany, large flak towers were constructed in Vienna as defensive structures against these bombers. These structures remain in place today, as they are so thick and their foundations so deep that to destroy them would damage surrounding buildings.\\nThe U.S. bombings of 1944 and 1945 and the vicious fighting during the subsequent conquest of Vienna by Soviet troops in April 1945 caused much destruction within the city. However, some historic buildings survived the bombardment; many more were reconstructed after the war.\\n\\n\\n== The Second Republic ==\\n\\n\\n=== Allied occupation ===\\n\\nOnly a few days after the war, a provisional city government and administration was created. Also, the political parties were recreated. On April 29, 1945, the parliament building passed from the occupation force to the new Austrian government, and Karl Renner announced the reinstitution of the democratic Republic of Austria. Vienna was divided into five occupation zones between the Soviet Union, the United States, the UK, France, and with the first district (city centre) being patrolled by all four.\\nThe first municipal elections were held in November 1945. Of the 100 seats in the municipal council, the left-wing Social Democratic Party captured 58, the right-wing Austrian People's Party 36, and the Communists 6. In 1946, it was decided that the expansion of city territory of 1938 should be reversed, but this law was delayed by a veto of the occupying powers and was not put into practice until 1954. Two districts remained with Vienna, namely the 22nd one (Donaustadt) north of the Danube and the 23rd one (Liesing) in the south (some other districts gained some Lower Austrian territory).\\n\\n\\n=== Modern history since independence (1955) ===\\n\\nOn May 15, 1955, the country regained its political independence and sovereignty with the \"Austrian State Treaty\".  The Austrian Parliament immediately amended the treaty to establish Austria's future neutrality and non-alignment (similar to that of Switzerland).  This peace treaty was called a state treaty because Austria had temporarily ceased to exist in 1938.\\nAfter the war, as everywhere in Western Europe, there was an enormous economic boom, among other things because of the economic aid resulting from the Marshall Plan.\\nPublic transport in Vienna was improved by the introduction of the new U-Bahn network, the first part of which was opened in 1978. In 1979, the second Strategic Arms Limitation Talks treaty was signed in Vienna. During the 1970s, Vienna became the third official seat of the United Nations, and the UNO-City was built. At the end of the 20th century, a skyline consisting of several skyscrapers was created with, among others, the Andromeda Tower and Millennium Tower on the left and right sides of the Danube. Furthermore, a complex of skyscrapers was planned at the site of the Wien Mitte railway station, which might have endangered the position of Vienna's centre as a UNESCO World Heritage Site. The project has since been redesigned.\\nVienna was the capital of the surrounding Bundesland of Lower Austria (German: Niederösterreich) until 1986, when it was replaced by Sankt Pölten. As Vienna was not a geographical part of Lower Austria it was a capital outside of the territory it served.\\nIn the municipal elections of 2001, the Social Democrats regained an absolute majority. With the Liberal Forum not gaining enough votes, only four parties have been represented in the municipal council since then. In the 2005 elections, the Social Democrats further increased their majority.\\n\\nEspionage in Austria is legal if the country itself is not the target. The city has about 17,000 diplomats, many assigned to international organizations. Because of their presence and Austria's neutrality, Vienna became an important center for espionage, as depicted in The Third Man; during the Cold War the city allegedly had more spies than Austrian soldiers. Despite the 2022 Russian invasion of Ukraine, as of July 2023 there are more than 180 accredited Russian diplomats in Vienna, and reportedly more than one third are spies using diplomatic cover; Chinese, Iranian, Israeli, Saudi, American, British, and other European spies and counterspies are also in the country. Because of the tolerance of espionage the country is excluded from the Club de Berne.\\n\\n\\n== See also ==\\nTimeline of Vienna\\nHistory of Austria\\nDistricts of Vienna\\n\\n\\n== References ==\\n\\n\\n== Further reading ==\\n\\nBaranello, Micaela.]</td>\n",
       "      <td>0.375</td>\n",
       "      <td>1. The retrieved context does match the subject matter of the user's query to some extent. It provides a detailed history of Austria, including the period leading up to and following the Austrian State Treaty of 1955. It mentions the treaty and its implications for Austria's political status and neutrality. However, the context does not focus specifically on the significance of the treaty and its implications for Austria's political status and neutrality in the context of post-war Europe. It provides a broader historical context, which includes but is not limited to the specific subject matter of the user's query. Therefore, it partially matches the subject matter of the user's query. (1/2 points)\\n\\n2. The retrieved context cannot be used exclusively to provide a full answer to the user's query. While it does mention the Austrian State Treaty of 1955 and its implications for Austria's political status and neutrality, it does not provide a detailed explanation of the significance of the treaty and its implications in the context of post-war Europe. The user's query requires a more focused and detailed explanation of these specific aspects, which the retrieved context does not provide. Therefore, it cannot be used exclusively to provide a full answer to the user's query. (0.5/2 points)\\n\\n[RESULT] 1.5/4</td>\n",
       "    </tr>\n",
       "    <tr>\n",
       "      <th>12</th>\n",
       "      <td>baseline</td>\n",
       "      <td>Discuss the significance of Karl Lueger's mayoralty in fin-de-siècle Vienna as presented in Richard S. Geehr's work. How did his leadership influence the political and cultural landscape of the city during that period?</td>\n",
       "      <td>None</td>\n",
       "      <td>[Schorske, Carl E. Fin-de-siècle Vienna: politics and culture (1979)\\nSilverman, Lisa. Becoming Austrians: Jews and Culture between the World Wars (Oxford UP, 2012), focus on Vienna.\\nUhl, Heidemarie. \"Museums as Engines of Identity: 'Vienna around 1900' and Exhibitionary Cultures in Vienna—A Comment.\" Austrian History Yearbook 46 (2015): 97-105.\\nWagner-Trenkwitz, Christoph. A Sound Tradition: A Short History of the Vienna Philharmonic Orchestra (Amalthea Signum Verlag, 2017).\\nWasserman, Janek. \"The Austro-Marxist struggle for 'intellectual workers': the lost debate on the question of intellectuals in interwar Vienna.\" Modern Intellectual History 9.2 (2012): 361-388.\\nWistrich, Robert S. \"Karl Lueger and the Ambiguities of Viennese Antisemitism.\" Jewish Social Studies 45.3/4 (1983): 251-262. online\\nYales, W. E. Theatre in Vienna: A Critical History, 1776-1995 (Cambridge University Press, 1996)\\n\\n\\n=== Historiography and Memory ===\\nArens, Katherine. Belle Necropolis: Ghosts of Imperial Vienna (2014), art and memory\\nBeller, Steven. Rethinking Vienna 1900 (2001)\\nJovanović, Miloš. \"Whitewashed empire: Historical narrative and place marketing in Vienna.\" History and Anthropology 30.4 (2019): 460-476.\\nPirker, Peter, Johannes Kramer, and Mathias Lichtenwagner. \"Transnational memory spaces in the making: World War II and holocaust remembrance in Vienna.\" International Journal of Politics, Culture, and Society 32.4 (2019): 439-458. online\\n\\n\\n== External links ==\\n Media related to History of Vienna at Wikimedia Commons\\n\\nGeschichtewiki.wien.gv.at - Vienna History Wiki operated by the city of Vienna\\nThe History of Jewish Vienna, === Expansion under Emperor Franz Joseph I ===\\n\\nThe city was expanded in 1850, mostly to include the area within the Linienwall. The Vorstädte thus became the 2nd to 9th districts, with the old city becoming the first. In 1858, the fortifications were demolished, and the broad Ringstraße boulevard was built in their place. Many monumental buildings were built alongside it. The Ringstraße Style (Historicism) characterises the architecture of Vienna to this day. The period peaked in the World Exhibition of 1873, immediately before the stock market crash, which ended the Gründerzeit (\"foundation era\").\\nIn 1861, the Liberals won the first (relatively) free elections after the end of neoabsolutism.\\nAfter the great flood of 1830, Regulation of the Danube was frequently considered. It was finally put into practice during the 1860s. The many branches of the Danube were removed, and a straight course was created away from the city centre. The branch near the central city was made narrower and has been known under the somewhat misleading name Donaukanal (Danube Canal) ever since.\\nDuring that period, the population of Vienna increased sharply, mostly because of immigration. Censuses were conducted regularly from 1869 onwards, which showed an all-time high of population in 1910, with 2,031,000 inhabitants.\\nAround 1900, Vienna became a centre of the Jugendstil (Art Nouveau), most of all with Otto Wagner and the association of artists known as Vienna Secession (after which the characteristic building on Karlsplatz is named).\\nIn 1890, the city was expanded for a second time: the (Vororte) suburbs beyond the old Linienwall  were incorporated into the town as the districts 11 to 19 (the 10th district had been created in 1874 by the division of the fourth). Leopoldstadt was divided in 1900, with the northern part becoming the 20th district (Brigittenau). In 1904, Floridsdorf became part of Vienna as 21st district.\\nDuring those years, Karl Lueger was the leading figure of city politics. Neither his dedication to social policy can be denied, nor other works for the municipality (such as the Wiener Hochquellwasserleitung, bringing fresh water from the mountains to Vienna and the creation of a belt of meadows and forests around the city). However, these positive aspects were coupled with his raving and rhetorically well presented anti-Semitism, which enjoyed popular support.\\n\\n\\n=== World War I ===\\n\\nWorld War I (1914–1918) did not result in an immediate threat to Vienna, but it led to a lack of supplies because of the economic embargo imposed by the Entente powers, which resulted in a shortage of food and clothes. The skyrocketing costs of the war, mostly financed by borrowing, resulted in tremendous inflation that—as in Germany—wiped out the savings of many middle-class Viennese. One interesting quirk is that the 1916 Rent Control was never officially repealed; even today there are buildings where the 1916 rent—by now essentially meaningless—applies.\\nThese food shortages led to the 1918 Austro-Hungarian January Strike which started in Vienna. The Bolshevik seizure of power in Russia in November 1917 inspired the youth wing of the Social Democratic Workers' Party of Austria to organise meetings in November 1917 opposing the war.\\nThe Flight over Vienna propaganda flight, an air raid inspired by Gabriele d'Annunzio, was carried out on August 9, 1918, with 11 Ansaldo SVA. He flew undisturbed for over 1,200 km in a roundtrip to Vienna to drop about 400,000 propaganda leaflets, written in Italian and German, asking the people of Vienna the end of the alliance between Austria-Hungary and Germany.]</td>\n",
       "      <td>0.500</td>\n",
       "      <td>1. The retrieved context does match the subject matter of the user's query. It provides information about Karl Lueger's mayoralty in fin-de-siècle Vienna, discussing his influence on the city's politics and culture. It also mentions his anti-Semitism, which was a significant aspect of his leadership. However, the context does not specifically reference Richard S. Geehr's work, which the user's query asked for. Therefore, it only partially matches the subject matter. (1.5 points)\\n2. The retrieved context cannot be used exclusively to provide a full answer to the user's query. While it does provide some information about Karl Lueger's leadership and its influence on Vienna, it does not provide a comprehensive analysis of his significance during this period. Furthermore, it does not discuss Richard S. Geehr's interpretation of Lueger's mayoralty, which the user specifically asked for. Therefore, additional information would be needed to fully answer the user's query. (0.5 points)\\n\\n[RESULT] 2.0</td>\n",
       "    </tr>\n",
       "  </tbody>\n",
       "</table>\n",
       "</div>"
      ],
      "text/plain": [
       "         rag  \\\n",
       "3   baseline   \n",
       "4   baseline   \n",
       "5   baseline   \n",
       "11  baseline   \n",
       "12  baseline   \n",
       "\n",
       "                                                                                                                                                                                                                         query  \\\n",
       "3   Analyze the impact of the First Turkish Siege of 1529 on Vienna's fortifications and military strategy, and explain how these developments influenced the outcome of the Second Turkish Siege in 1683.                       \n",
       "4   Discuss the impact of Emperor Joseph II's administration reforms in 1783 on the city of Vienna, particularly in relation to urban management and public health.                                                              \n",
       "5   Analyze the significance of the Congress of Vienna (1814-1815) in reshaping the political landscape of Europe, and explain how it affected Austria's financial situation.                                                    \n",
       "11  Explain the significance of the Austrian State Treaty of 1955 and its implications for Austria's political status and neutrality in the context of post-war Europe.                                                          \n",
       "12  Discuss the significance of Karl Lueger's mayoralty in fin-de-siècle Vienna as presented in Richard S. Geehr's work. How did his leadership influence the political and cultural landscape of the city during that period?   \n",
       "\n",
       "   answer  \\\n",
       "3   None    \n",
       "4   None    \n",
       "5   None    \n",
       "11  None    \n",
       "12  None    \n",
       "\n",
       "                                                                                                                                                                                                                                                                                                                                                                                                                                                                                                                                                                                                                                                                                                                                                                                                                                                                                                                                                                                                                                                                                                                                                                                                                                                                                                                                                                                                                                                                                                                                                                                                                                                                                                                                                                                                                                                                                                                                                                                                                                                                                                                                                                                                                                                                                                                                                                                                                                                                                                                                                                                                                                                                                                                                                                                                                                                                                                                                                                                                                                                                                                                                                                                                                                                                                                                                                                                                                                                                                                                                                                                                                                                                                                                                                                                                                                                                                                                                                                                                                                                                                                                                                                                                                                                                                                                                                                                                                                                                                                                                                                                                                                                                                                                                                                                                                                                                                                                                                                                                                                                                                                                                                                                                                                                                                                                                                                                                                                                                                                                                                                                                                                                                                                                                                                                                                                                                                                                                                                                                                                                                                                                                                                                                                                                                                                                                                                                                                                                                                                                                                                                                                                                                                                                                                                                                                                                                                                                                                                                                                                                                                                                                                                                                                                                                                                                                                                                                                                                                                                                                                                                                                                                                                                                                                                                                                                                                                                                                                                                                                                                                                                                                                                                                                                                                                                                                                                                                                                                                                                                                                                                                                                                                                                                                                                                                                                                                                                                                                                                                                                                                                                 contexts  \\\n",
       "3   [== Habsburg rule ==\\n\\nIn 1278, Rudolf I took control over the Austrian lands after his victory over Ottokar II of Bohemia and began to establish Habsburg rule. In Vienna, it took a relatively long time for the Habsburgs to establish their control, because partisans of Ottokar remained strong for a long time. There were several uprisings against Albert I. The family of the Paltrams vom Stephansfreithof was foremost among the insurgents.\\nIn 1280, Jans der Enikel wrote the \"Fürstenbuch\", a first history of the city.\\nWith the Luxembourg emperors, Prague became the imperial residence and Vienna stood in its shadow. The early Habsburgs attempted to extend it in order to keep up. Duke Albert II, for example, had the gothic choir of the Stephansdom built. In 1327, Frederick the Handsome published his edict allowing the city to maintain an Eisenbuch (iron book) listing its privileges.\\n\\nThe combination of the heraldic eagle with the city coat of arms showing a white cross in a red field is found on a seal dated 1327.\\nThis heraldic emblem was in use throughout the 14th century in different variants.\\nRudolf IV of Austria deserves credit for his prudent economic policy, which raised the level of prosperity. His epithet the Founder is due to two things: first, he founded the University of Vienna in 1365, and second, he began the construction of the gothic nave in the Stephansdom. The latter is connected to the creation of a metropolitan chapter, as a symbolic substitute for a bishop.\\nThere was a period of inheritance disputes among the Habsburgs resulting not only in confusion, but also in an economic decline and social unrest, with disputes between the parties of patricians and artisans. While the patricians supported Ernest the Iron, the artisans supported Leopold IV. In 1408, the mayor Konrad Vorlauf, an  exponent of the patrician party, was executed.\\nAfter the election of Duke Albert V as German King Albert II, Vienna became the capital of the Holy Roman Empire. Albert's name is remembered for his expulsion of the Jewish population of Vienna in 1421/22.\\nEventually, in 1469, Vienna was given its own bishop, and the Stephansdom became a cathedral. During the upheavals of the era of Emperor Frederick III, Vienna remained on the side of his opponents (first Albert VI, then Matthias Corvinus), as Frederick proved unable to maintain peace in the land vis-à-vis rampaging gangs of mercenaries (often remaining from the Hussite Wars).\\nIn 1485, the Hungarian King Matthias Corvinus and the Black Army of Hungary conquered the city and Vienna became the king's seat that served as the capital of Hungary until 1490.\\nIn 1522, under Ferdinand I, Holy Roman Emperor the Blood Judgment of Wiener Neustadt led to the execution of leading members of the opposition within the city, and thus a destruction of the political structures. From then on, the city stood under direct imperial control.\\n\\nIn 1556, Vienna became the seat of the Emperor, with Bohemia having been added to the Habsburg realm in 1526.\\nDuring this time, the city was also recatholicised after having become Protestant rather quickly. In 1551, the Jesuits were brought to town and soon gained a large influence in court. The leader of the Counter-Reformation here was Melchior Khlesl, Bishop of Vienna from 1600.\\n\\n\\n=== Turkish sieges ===\\n\\nIn 1529, Vienna was besieged by the Ottoman Turks for the first time (the First Turkish Siege), although unsuccessfully. The city, protected by medieval walls, only barely withstood the attacks, until epidemics and an early winter forced the Turks to retreat. The siege had shown that new fortifications were needed. Following plans by Sebastian Schrantz, Vienna was expanded to a fortress in 1548. The city was furnished with eleven bastions and surrounded by a moat. A glacis was created around Vienna, a broad strip without any buildings, which allowed defenders to fire freely. These fortifications, which accounted for the major part of building activities well into the 17th century, became decisive in the Second Turkish Siege of 1683, as they allowed the city to maintain itself for two months, until the Turkish army was defeated by the army led by the Polish King John III Sobieski. This was the turning point in the Turkish Wars, as the Ottoman Empire was pushed back more and more during the following decades., === Expansion under Emperor Franz Joseph I ===\\n\\nThe city was expanded in 1850, mostly to include the area within the Linienwall. The Vorstädte thus became the 2nd to 9th districts, with the old city becoming the first. In 1858, the fortifications were demolished, and the broad Ringstraße boulevard was built in their place. Many monumental buildings were built alongside it. The Ringstraße Style (Historicism) characterises the architecture of Vienna to this day. The period peaked in the World Exhibition of 1873, immediately before the stock market crash, which ended the Gründerzeit (\"foundation era\").\\nIn 1861, the Liberals won the first (relatively) free elections after the end of neoabsolutism.\\nAfter the great flood of 1830, Regulation of the Danube was frequently considered. It was finally put into practice during the 1860s. The many branches of the Danube were removed, and a straight course was created away from the city centre. The branch near the central city was made narrower and has been known under the somewhat misleading name Donaukanal (Danube Canal) ever since.\\nDuring that period, the population of Vienna increased sharply, mostly because of immigration. Censuses were conducted regularly from 1869 onwards, which showed an all-time high of population in 1910, with 2,031,000 inhabitants.\\nAround 1900, Vienna became a centre of the Jugendstil (Art Nouveau), most of all with Otto Wagner and the association of artists known as Vienna Secession (after which the characteristic building on Karlsplatz is named).\\nIn 1890, the city was expanded for a second time: the (Vororte) suburbs beyond the old Linienwall  were incorporated into the town as the districts 11 to 19 (the 10th district had been created in 1874 by the division of the fourth). Leopoldstadt was divided in 1900, with the northern part becoming the 20th district (Brigittenau). In 1904, Floridsdorf became part of Vienna as 21st district.\\nDuring those years, Karl Lueger was the leading figure of city politics. Neither his dedication to social policy can be denied, nor other works for the municipality (such as the Wiener Hochquellwasserleitung, bringing fresh water from the mountains to Vienna and the creation of a belt of meadows and forests around the city). However, these positive aspects were coupled with his raving and rhetorically well presented anti-Semitism, which enjoyed popular support.\\n\\n\\n=== World War I ===\\n\\nWorld War I (1914–1918) did not result in an immediate threat to Vienna, but it led to a lack of supplies because of the economic embargo imposed by the Entente powers, which resulted in a shortage of food and clothes. The skyrocketing costs of the war, mostly financed by borrowing, resulted in tremendous inflation that—as in Germany—wiped out the savings of many middle-class Viennese. One interesting quirk is that the 1916 Rent Control was never officially repealed; even today there are buildings where the 1916 rent—by now essentially meaningless—applies.\\nThese food shortages led to the 1918 Austro-Hungarian January Strike which started in Vienna. The Bolshevik seizure of power in Russia in November 1917 inspired the youth wing of the Social Democratic Workers' Party of Austria to organise meetings in November 1917 opposing the war.\\nThe Flight over Vienna propaganda flight, an air raid inspired by Gabriele d'Annunzio, was carried out on August 9, 1918, with 11 Ansaldo SVA. He flew undisturbed for over 1,200 km in a roundtrip to Vienna to drop about 400,000 propaganda leaflets, written in Italian and German, asking the people of Vienna the end of the alliance between Austria-Hungary and Germany.]                                                                                                                                                                                                                                                                                                                                                                                                                                                                                                                                                                                                                                                                                                                                                       \n",
       "4   [=== 18th century ===\\n\\nThe following period was characterised by extensive building activities. In the course of reconstruction, Vienna was largely turned into a baroque city. The most important architects were Johann Bernhard Fischer von Erlach and Johann Lukas von Hildebrandt. Most construction happened in the suburbs (Vorstädte), as the nobility began to cover the surrounding land with garden palaces, known as Palais. The best known are the Palais Liechtenstein, Palais Modena, Schönbrunn Palace, Palais Schwarzenberg, and the Belvedere (the garden palais of Prince Eugene of Savoy). In 1704, an outer fortification, the Linienwall, was built around the Vorstädte.\\nAfter the extensive plague epidemics of 1679 and 1713, the population began to grow steadily. It is estimated that 150,000 people lived in Vienna in 1724, and 200,000 in 1790. At that time, the first factories were built, starting in Leopoldstadt. Leopoldstadt also became a site where many Jews lived, as they had been driven out of their 50-year-old ghetto in 1670. Hygienic problems began to become noticeable: sewers and street cleaning began to develop. Also in this time, the first house numbers (the Konskriptionsnummern) were issued, and the government postal system began to develop.\\nUnder Emperor Joseph II, the city administration was modernized in 1783: officials in charge of only the city were introduced, and the Magistrate was created (More information about the Magistrate of the City of Vienna specifically can be found in German at de:Magistrat der Stadt Wien.). At the same time, the graveyards within the city were closed.\\n\\n\\n=== 19th century ===\\n\\nDuring the Napoleonic Wars, Vienna was taken by the French twice, in 1805 and 1809. The first conquest happened without a battle. Three French marshals crossed the strongly defended Taborbrücke (Tábor bridge), the only Danube bridge at that time, and convinced the Austrian commander that the war was already over. In the meantime, the French army easily entered the city and was greeted by the population with interest rather than rejection. Napoleon allowed 10,000 men of the Vienna national guard to remain armed and left the arsenal to them when he left, as complete as he had found it.\\nHowever, the second occupation happened only after heavy fire. Shortly after, Napoleon suffered his first large defeat at Aspern, nearby. Less than two months later, his army crossed the Danube again and fought the Battle of Wagram on the same terrain as the previous Battle of Aspern. This second battle resulted in a victory for the French, and Austria soon surrendered, ending the War of the Fifth Coalition. In 1810, Salomon Mayer Rothschild arrived in Vienna from Frankfurt and sets up a bank named \"Mayer von Rothschild und Söhne\". The Emperor of Austria in 1823, made the five Rothschild brothers barons. The Rothschild family became famous as bankers in the major countries of Europe, and the Rothschild banking family of Austria remained prominent until the Creditanstalt bank in Vienna was confiscated by the Nazis in 1938.\\nAfter Napoleon's final defeat, the Congress of Vienna took place from September 18, 1814 to June 9, 1815, in which the political map of Europe was redrawn. The congress members indulged in many social events, which induced the witty Charles Joseph, Prince de Ligne to famously say: Le congres danse beaucoup, mais il ne marche pas (\"The congress dances, but does not progress\"). The events cost Austria a great deal of money, which was reflected in mockery about the major participants:\\n\\nAlexander of Russia: loves for all\\nFrederick William of Prussia: thinks for all\\nFrederick of Denmark: speaks for all\\nMaximilian of Bavaria: drinks for all\\nFrederick of Württemberg: eats for all\\nEmperor Francis of Austria: pays for all\\n\\nThe first half of the century was characterised by intensive industrialization, with Vienna being the center of the railway network after 1837.\\nThe French February Revolution of 1848 had an effect as far away as Vienna: on March 13, the March Revolution, which forced long-serving chancellor Metternich to resign.\\nDuring the 19th century, Vienna, along with Budapest, became one of the main centers of the Aromanian diaspora. The Aromanian population of these cities stands out for one of the first ones to develop a strictly Aromanian identity., === Expansion under Emperor Franz Joseph I ===\\n\\nThe city was expanded in 1850, mostly to include the area within the Linienwall. The Vorstädte thus became the 2nd to 9th districts, with the old city becoming the first. In 1858, the fortifications were demolished, and the broad Ringstraße boulevard was built in their place. Many monumental buildings were built alongside it. The Ringstraße Style (Historicism) characterises the architecture of Vienna to this day. The period peaked in the World Exhibition of 1873, immediately before the stock market crash, which ended the Gründerzeit (\"foundation era\").\\nIn 1861, the Liberals won the first (relatively) free elections after the end of neoabsolutism.\\nAfter the great flood of 1830, Regulation of the Danube was frequently considered. It was finally put into practice during the 1860s. The many branches of the Danube were removed, and a straight course was created away from the city centre. The branch near the central city was made narrower and has been known under the somewhat misleading name Donaukanal (Danube Canal) ever since.\\nDuring that period, the population of Vienna increased sharply, mostly because of immigration. Censuses were conducted regularly from 1869 onwards, which showed an all-time high of population in 1910, with 2,031,000 inhabitants.\\nAround 1900, Vienna became a centre of the Jugendstil (Art Nouveau), most of all with Otto Wagner and the association of artists known as Vienna Secession (after which the characteristic building on Karlsplatz is named).\\nIn 1890, the city was expanded for a second time: the (Vororte) suburbs beyond the old Linienwall  were incorporated into the town as the districts 11 to 19 (the 10th district had been created in 1874 by the division of the fourth). Leopoldstadt was divided in 1900, with the northern part becoming the 20th district (Brigittenau). In 1904, Floridsdorf became part of Vienna as 21st district.\\nDuring those years, Karl Lueger was the leading figure of city politics. Neither his dedication to social policy can be denied, nor other works for the municipality (such as the Wiener Hochquellwasserleitung, bringing fresh water from the mountains to Vienna and the creation of a belt of meadows and forests around the city). However, these positive aspects were coupled with his raving and rhetorically well presented anti-Semitism, which enjoyed popular support.\\n\\n\\n=== World War I ===\\n\\nWorld War I (1914–1918) did not result in an immediate threat to Vienna, but it led to a lack of supplies because of the economic embargo imposed by the Entente powers, which resulted in a shortage of food and clothes. The skyrocketing costs of the war, mostly financed by borrowing, resulted in tremendous inflation that—as in Germany—wiped out the savings of many middle-class Viennese. One interesting quirk is that the 1916 Rent Control was never officially repealed; even today there are buildings where the 1916 rent—by now essentially meaningless—applies.\\nThese food shortages led to the 1918 Austro-Hungarian January Strike which started in Vienna. The Bolshevik seizure of power in Russia in November 1917 inspired the youth wing of the Social Democratic Workers' Party of Austria to organise meetings in November 1917 opposing the war.\\nThe Flight over Vienna propaganda flight, an air raid inspired by Gabriele d'Annunzio, was carried out on August 9, 1918, with 11 Ansaldo SVA. He flew undisturbed for over 1,200 km in a roundtrip to Vienna to drop about 400,000 propaganda leaflets, written in Italian and German, asking the people of Vienna the end of the alliance between Austria-Hungary and Germany.]                                                                                                                                                                                                                                                                                                                                                                                                                                                                                                                                                                                                                                                                                                                                                                 \n",
       "5   [=== 18th century ===\\n\\nThe following period was characterised by extensive building activities. In the course of reconstruction, Vienna was largely turned into a baroque city. The most important architects were Johann Bernhard Fischer von Erlach and Johann Lukas von Hildebrandt. Most construction happened in the suburbs (Vorstädte), as the nobility began to cover the surrounding land with garden palaces, known as Palais. The best known are the Palais Liechtenstein, Palais Modena, Schönbrunn Palace, Palais Schwarzenberg, and the Belvedere (the garden palais of Prince Eugene of Savoy). In 1704, an outer fortification, the Linienwall, was built around the Vorstädte.\\nAfter the extensive plague epidemics of 1679 and 1713, the population began to grow steadily. It is estimated that 150,000 people lived in Vienna in 1724, and 200,000 in 1790. At that time, the first factories were built, starting in Leopoldstadt. Leopoldstadt also became a site where many Jews lived, as they had been driven out of their 50-year-old ghetto in 1670. Hygienic problems began to become noticeable: sewers and street cleaning began to develop. Also in this time, the first house numbers (the Konskriptionsnummern) were issued, and the government postal system began to develop.\\nUnder Emperor Joseph II, the city administration was modernized in 1783: officials in charge of only the city were introduced, and the Magistrate was created (More information about the Magistrate of the City of Vienna specifically can be found in German at de:Magistrat der Stadt Wien.). At the same time, the graveyards within the city were closed.\\n\\n\\n=== 19th century ===\\n\\nDuring the Napoleonic Wars, Vienna was taken by the French twice, in 1805 and 1809. The first conquest happened without a battle. Three French marshals crossed the strongly defended Taborbrücke (Tábor bridge), the only Danube bridge at that time, and convinced the Austrian commander that the war was already over. In the meantime, the French army easily entered the city and was greeted by the population with interest rather than rejection. Napoleon allowed 10,000 men of the Vienna national guard to remain armed and left the arsenal to them when he left, as complete as he had found it.\\nHowever, the second occupation happened only after heavy fire. Shortly after, Napoleon suffered his first large defeat at Aspern, nearby. Less than two months later, his army crossed the Danube again and fought the Battle of Wagram on the same terrain as the previous Battle of Aspern. This second battle resulted in a victory for the French, and Austria soon surrendered, ending the War of the Fifth Coalition. In 1810, Salomon Mayer Rothschild arrived in Vienna from Frankfurt and sets up a bank named \"Mayer von Rothschild und Söhne\". The Emperor of Austria in 1823, made the five Rothschild brothers barons. The Rothschild family became famous as bankers in the major countries of Europe, and the Rothschild banking family of Austria remained prominent until the Creditanstalt bank in Vienna was confiscated by the Nazis in 1938.\\nAfter Napoleon's final defeat, the Congress of Vienna took place from September 18, 1814 to June 9, 1815, in which the political map of Europe was redrawn. The congress members indulged in many social events, which induced the witty Charles Joseph, Prince de Ligne to famously say: Le congres danse beaucoup, mais il ne marche pas (\"The congress dances, but does not progress\"). The events cost Austria a great deal of money, which was reflected in mockery about the major participants:\\n\\nAlexander of Russia: loves for all\\nFrederick William of Prussia: thinks for all\\nFrederick of Denmark: speaks for all\\nMaximilian of Bavaria: drinks for all\\nFrederick of Württemberg: eats for all\\nEmperor Francis of Austria: pays for all\\n\\nThe first half of the century was characterised by intensive industrialization, with Vienna being the center of the railway network after 1837.\\nThe French February Revolution of 1848 had an effect as far away as Vienna: on March 13, the March Revolution, which forced long-serving chancellor Metternich to resign.\\nDuring the 19th century, Vienna, along with Budapest, became one of the main centers of the Aromanian diaspora. The Aromanian population of these cities stands out for one of the first ones to develop a strictly Aromanian identity., == See also ==\\nTimeline of Vienna\\nHistory of Austria\\nDistricts of Vienna\\n\\n\\n== References ==\\n\\n\\n== Further reading ==\\n\\nBaranello, Micaela. The Operetta Empire: Music Theater in Early Twentieth-Century Vienna (U of California Press, 2021).\\nBeller, Steven. Vienna and the Jews 1867-1938: A Cultural History (Cambridge, 1989).\\nBowman,  William D. Priest and Parish in Vienna, 1780 to 1880 (2000).\\nBoyer, John W. Culture and Political Crisis in Vienna: Christian Socialism in Power, 1897-1918 (U of Chicago Press, 1995).\\nBoyer, John. Political Radicalism in Late Imperial Vienna: Origins of the Christian Social Movement, 1848-1897 (U of Chicago Press, 1981).\\nBuklijas, Tatjana. \"Surgery and national identity in late nineteenth-century Vienna.\" Studies in History and Philosophy of Science Part C: Studies in History and Philosophy of Biological and Biomedical Sciences 38.4 (2007): 756-774. online\\nCoen, Deborah R. Vienna in the age of uncertainty: science, liberalism, and private life (U of Chicago Press, 2008).\\nCsendes, Peter. Historical Dictionary of Vienna (Scarecrow Press, 1999).\\nEmerson, Charles. 1913: In Search of the World Before the Great War (2013) compares Vienna to 20 major world cities on the eve of World War I; pp 87–109.\\nGeehr, Richard S. Karl Lueger: Mayor of Fin de Siècle Vienna (Wayne State University Press, 1990)\\nHamann, Brigette. Hitler's Vienna: A Dictator's Apprenticeship (Oxford P, 1999).\\nHanák, Péter. The garden and the workshop: essays on the cultural history of Vienna and Budapest (Princeton University Press, 2014)\\nHealy, Maureen. Vienna and the Fall of the Habsburg Empire: Total War and Everyday Life in World War I (2004).\\nKarnes, Kevin C. \"Wagner, Klimt, and the Metaphysics of Creativity in fin-de-siècle Vienna.\" Journal of the American Musicological Society 62.3 (2009): 647-697. online\\nKarnes, Kevin. Music, criticism, and the challenge of history: Shaping modern musical thought in late nineteenth century Vienna (Oxford UP, 2008).\\nKarnes, Kevin. A kingdom not of this world: Wagner, the arts, and utopian visions in fin-de-siècle Vienna (Oxford UP, 2013).\\nMay, A.J. Vienna in the Age of Franz Joseph (U of Oklahoma Press, 1968).\\nMillar, Simon and Peter Dennis. Vienna 1683: Christian Europe Repels the Ottomans (Osprey, 2008)\\nMorton, Frederik. A Nervous Splendour: Vienna 1888-1889 (Little, Brown, 1979).\\nOffenberger, Ilana Fritz. The Jews of Nazi Vienna, 1938-1945: Rescue and Destruction (Springer, 2017).\\nParsons, Nicholas. Vienna: A Cultural History (2008).\\nRampley, Matthew. The Vienna School of Art History: Empire and the Politics of Scholarship, 1847-1918 (Penn State Press, 2013).\\nRegal, Wolfgang and Michael Nanut. Vienna A Doctor’s Guide: 15 walking tours through Vienna’s medical history (2007)\\nRozenblit, Marsha. The Jews of Vienna, 1867-1914: Assimilation and Identity (State University of New York Press, 1984).\\nSchorske, Carl E. Fin-de-siècle Vienna: politics and culture (1979)\\nSilverman, Lisa. Becoming Austrians: Jews and Culture between the World Wars (Oxford UP, 2012), focus on Vienna.\\nUhl, Heidemarie. \"Museums as Engines of Identity: 'Vienna around 1900' and Exhibitionary Cultures in Vienna—A Comment.\" Austrian History Yearbook 46 (2015): 97-105.\\nWagner-Trenkwitz, Christoph. A Sound Tradition: A Short History of the Vienna Philharmonic Orchestra (Amalthea Signum Verlag, 2017).\\nWasserman, Janek. \"The Austro-Marxist struggle for 'intellectual workers': the lost debate on the question of intellectuals in interwar Vienna.\"]                                                                                                                                                                                                                                                                                                                                                                                                                                                                                                                                                                                                                                                                                                                                                                                                                                                                                    \n",
       "11  [== The First Republic ==\\n\\nThe end of the war was also the end of Austria-Hungary. On November 12, 1918, the Republic of Deutsch-Österreich, or German-Austria, was proclaimed in front of the parliament. The population was concentrated in the capital, which was often called a hydrocephalus because of this;  articles in the international press had doubts about the viability of Vienna as a major European metropolis after the dissolution of Austria-Hungary.\\nIn 1921, Vienna was separated from surrounding Lower Austria and became a state of its own, with the mayor now equivalent in rank to a state governor. However, it remained the nominal capital of Lower Austria until 1986. The left-wing Social Democrats, who had dominated since the end of the war, were now in charge of the city administration. \"Red Vienna\" was considered an international model. Many notable Gemeindebauten (low-cost residential estates) were built during that period.\\nHowever, the increasing economic difficulties resulted in a political radicalization and polarisation of the political parties. On the social democratic side, the left-wing Republikanische Schutzbund (Republican Protective Alliance) was formed in 1923/24, which was a well-organised and well-equipped paramilitary group. It was opposed by the right-wing Heimwehr (\"Home Guard\"), which had been formed after the end of the war from local guards and similar combat units.\\nIn May 1923, in the presence of President Michael Hainisch, the First World Congress of Jewish Women was inaugurated at the Hofburg.\\n\\n\\n== Austrofascism ==\\n\\nThe fire of the Justizpalast (Palace of Justice) in 1927 after violent demonstrations, the collapse of the Creditanstalt, the largest bank of the country, and finally the dissolution of parliament in 1933, marked the way to the Civil War in February 1934. After Engelbert Dollfuß, who had been Chancellor of Austria and foreign minister since 1932, had forbidden the Nazi Party, the Communist Party and the Schutzbund in 1933, he extended the ban to the Social Democratic Party in 1934 after the February Uprising. The only legal political organization was the new movement of his own creation, the Vaterländische Front. Dollfuß created an authoritarian regime called Ständestaat and ruled without parliamentary approval (also see Austrofascism).\\n\\n\\n== Annexation by Nazi Germany and Second World War ==\\n\\nIn March 1938 Nazi Germany occupied and annexed Austria in a process known as the Anschluss. Adolf Hitler was rapturously received in Vienna by large crowds of admirers and famously gave a speech at Heldenplatz in which he welcomed his homeland into the Reich. Hitler's anti-Jewish policies fell on fertile soil in Vienna, where latent anti-Semitism had increased during the early 20th century. Immediately after the Anschluss the Jews of Vienna were subject to violence from the State as well as from Antisemites acting out of their own sadism. During the Reichskristallnacht on November 9, 1938, the synagogues, the Jewish centres of not only religious, but also social life, were destroyed. In August, the KZ Oberlanzendorf Wien (Central Office for Jewish Emigration) was created. Its head was Adolf Eichmann. On the whole, and despite some instances of anti-Semitism, the city of Vienna was less supportive of the Nazi regime than was the rest of Austria. This however did not reach any extent of an organised resistance. Hitler himself hated Vienna and was determined to build up Linz, his childhood hometown, and relegate Vienna to backwater status.\\nIn the course of the expansion of the city in 1938, 91 adjoining municipalities were incorporated into the city, from which the 22nd (Groß-Enzersdorf), the 23rd (Schwechat), the 24th (Mödling), the 25th (Liesing) and the 26th (Klosterneuburg) districts were created. With an area of 1,224 km2, this made Vienna the city with the largest territory in the Third Reich., === World War II ===\\nDuring the war, the city housed 12 sub-camps of the infamous Mauthausen-Gusen concentration camp, located in various parts of the city.\\nAlthough originally out of range of Allied bombers operating from England, by 1943 the city began being attacked by bombers based in Italy. As in other major cities of Nazi Germany, large flak towers were constructed in Vienna as defensive structures against these bombers. These structures remain in place today, as they are so thick and their foundations so deep that to destroy them would damage surrounding buildings.\\nThe U.S. bombings of 1944 and 1945 and the vicious fighting during the subsequent conquest of Vienna by Soviet troops in April 1945 caused much destruction within the city. However, some historic buildings survived the bombardment; many more were reconstructed after the war.\\n\\n\\n== The Second Republic ==\\n\\n\\n=== Allied occupation ===\\n\\nOnly a few days after the war, a provisional city government and administration was created. Also, the political parties were recreated. On April 29, 1945, the parliament building passed from the occupation force to the new Austrian government, and Karl Renner announced the reinstitution of the democratic Republic of Austria. Vienna was divided into five occupation zones between the Soviet Union, the United States, the UK, France, and with the first district (city centre) being patrolled by all four.\\nThe first municipal elections were held in November 1945. Of the 100 seats in the municipal council, the left-wing Social Democratic Party captured 58, the right-wing Austrian People's Party 36, and the Communists 6. In 1946, it was decided that the expansion of city territory of 1938 should be reversed, but this law was delayed by a veto of the occupying powers and was not put into practice until 1954. Two districts remained with Vienna, namely the 22nd one (Donaustadt) north of the Danube and the 23rd one (Liesing) in the south (some other districts gained some Lower Austrian territory).\\n\\n\\n=== Modern history since independence (1955) ===\\n\\nOn May 15, 1955, the country regained its political independence and sovereignty with the \"Austrian State Treaty\".  The Austrian Parliament immediately amended the treaty to establish Austria's future neutrality and non-alignment (similar to that of Switzerland).  This peace treaty was called a state treaty because Austria had temporarily ceased to exist in 1938.\\nAfter the war, as everywhere in Western Europe, there was an enormous economic boom, among other things because of the economic aid resulting from the Marshall Plan.\\nPublic transport in Vienna was improved by the introduction of the new U-Bahn network, the first part of which was opened in 1978. In 1979, the second Strategic Arms Limitation Talks treaty was signed in Vienna. During the 1970s, Vienna became the third official seat of the United Nations, and the UNO-City was built. At the end of the 20th century, a skyline consisting of several skyscrapers was created with, among others, the Andromeda Tower and Millennium Tower on the left and right sides of the Danube. Furthermore, a complex of skyscrapers was planned at the site of the Wien Mitte railway station, which might have endangered the position of Vienna's centre as a UNESCO World Heritage Site. The project has since been redesigned.\\nVienna was the capital of the surrounding Bundesland of Lower Austria (German: Niederösterreich) until 1986, when it was replaced by Sankt Pölten. As Vienna was not a geographical part of Lower Austria it was a capital outside of the territory it served.\\nIn the municipal elections of 2001, the Social Democrats regained an absolute majority. With the Liberal Forum not gaining enough votes, only four parties have been represented in the municipal council since then. In the 2005 elections, the Social Democrats further increased their majority.\\n\\nEspionage in Austria is legal if the country itself is not the target. The city has about 17,000 diplomats, many assigned to international organizations. Because of their presence and Austria's neutrality, Vienna became an important center for espionage, as depicted in The Third Man; during the Cold War the city allegedly had more spies than Austrian soldiers. Despite the 2022 Russian invasion of Ukraine, as of July 2023 there are more than 180 accredited Russian diplomats in Vienna, and reportedly more than one third are spies using diplomatic cover; Chinese, Iranian, Israeli, Saudi, American, British, and other European spies and counterspies are also in the country. Because of the tolerance of espionage the country is excluded from the Club de Berne.\\n\\n\\n== See also ==\\nTimeline of Vienna\\nHistory of Austria\\nDistricts of Vienna\\n\\n\\n== References ==\\n\\n\\n== Further reading ==\\n\\nBaranello, Micaela.]   \n",
       "12  [Schorske, Carl E. Fin-de-siècle Vienna: politics and culture (1979)\\nSilverman, Lisa. Becoming Austrians: Jews and Culture between the World Wars (Oxford UP, 2012), focus on Vienna.\\nUhl, Heidemarie. \"Museums as Engines of Identity: 'Vienna around 1900' and Exhibitionary Cultures in Vienna—A Comment.\" Austrian History Yearbook 46 (2015): 97-105.\\nWagner-Trenkwitz, Christoph. A Sound Tradition: A Short History of the Vienna Philharmonic Orchestra (Amalthea Signum Verlag, 2017).\\nWasserman, Janek. \"The Austro-Marxist struggle for 'intellectual workers': the lost debate on the question of intellectuals in interwar Vienna.\" Modern Intellectual History 9.2 (2012): 361-388.\\nWistrich, Robert S. \"Karl Lueger and the Ambiguities of Viennese Antisemitism.\" Jewish Social Studies 45.3/4 (1983): 251-262. online\\nYales, W. E. Theatre in Vienna: A Critical History, 1776-1995 (Cambridge University Press, 1996)\\n\\n\\n=== Historiography and Memory ===\\nArens, Katherine. Belle Necropolis: Ghosts of Imperial Vienna (2014), art and memory\\nBeller, Steven. Rethinking Vienna 1900 (2001)\\nJovanović, Miloš. \"Whitewashed empire: Historical narrative and place marketing in Vienna.\" History and Anthropology 30.4 (2019): 460-476.\\nPirker, Peter, Johannes Kramer, and Mathias Lichtenwagner. \"Transnational memory spaces in the making: World War II and holocaust remembrance in Vienna.\" International Journal of Politics, Culture, and Society 32.4 (2019): 439-458. online\\n\\n\\n== External links ==\\n Media related to History of Vienna at Wikimedia Commons\\n\\nGeschichtewiki.wien.gv.at - Vienna History Wiki operated by the city of Vienna\\nThe History of Jewish Vienna, === Expansion under Emperor Franz Joseph I ===\\n\\nThe city was expanded in 1850, mostly to include the area within the Linienwall. The Vorstädte thus became the 2nd to 9th districts, with the old city becoming the first. In 1858, the fortifications were demolished, and the broad Ringstraße boulevard was built in their place. Many monumental buildings were built alongside it. The Ringstraße Style (Historicism) characterises the architecture of Vienna to this day. The period peaked in the World Exhibition of 1873, immediately before the stock market crash, which ended the Gründerzeit (\"foundation era\").\\nIn 1861, the Liberals won the first (relatively) free elections after the end of neoabsolutism.\\nAfter the great flood of 1830, Regulation of the Danube was frequently considered. It was finally put into practice during the 1860s. The many branches of the Danube were removed, and a straight course was created away from the city centre. The branch near the central city was made narrower and has been known under the somewhat misleading name Donaukanal (Danube Canal) ever since.\\nDuring that period, the population of Vienna increased sharply, mostly because of immigration. Censuses were conducted regularly from 1869 onwards, which showed an all-time high of population in 1910, with 2,031,000 inhabitants.\\nAround 1900, Vienna became a centre of the Jugendstil (Art Nouveau), most of all with Otto Wagner and the association of artists known as Vienna Secession (after which the characteristic building on Karlsplatz is named).\\nIn 1890, the city was expanded for a second time: the (Vororte) suburbs beyond the old Linienwall  were incorporated into the town as the districts 11 to 19 (the 10th district had been created in 1874 by the division of the fourth). Leopoldstadt was divided in 1900, with the northern part becoming the 20th district (Brigittenau). In 1904, Floridsdorf became part of Vienna as 21st district.\\nDuring those years, Karl Lueger was the leading figure of city politics. Neither his dedication to social policy can be denied, nor other works for the municipality (such as the Wiener Hochquellwasserleitung, bringing fresh water from the mountains to Vienna and the creation of a belt of meadows and forests around the city). However, these positive aspects were coupled with his raving and rhetorically well presented anti-Semitism, which enjoyed popular support.\\n\\n\\n=== World War I ===\\n\\nWorld War I (1914–1918) did not result in an immediate threat to Vienna, but it led to a lack of supplies because of the economic embargo imposed by the Entente powers, which resulted in a shortage of food and clothes. The skyrocketing costs of the war, mostly financed by borrowing, resulted in tremendous inflation that—as in Germany—wiped out the savings of many middle-class Viennese. One interesting quirk is that the 1916 Rent Control was never officially repealed; even today there are buildings where the 1916 rent—by now essentially meaningless—applies.\\nThese food shortages led to the 1918 Austro-Hungarian January Strike which started in Vienna. The Bolshevik seizure of power in Russia in November 1917 inspired the youth wing of the Social Democratic Workers' Party of Austria to organise meetings in November 1917 opposing the war.\\nThe Flight over Vienna propaganda flight, an air raid inspired by Gabriele d'Annunzio, was carried out on August 9, 1918, with 11 Ansaldo SVA. He flew undisturbed for over 1,200 km in a roundtrip to Vienna to drop about 400,000 propaganda leaflets, written in Italian and German, asking the people of Vienna the end of the alliance between Austria-Hungary and Germany.]                                                                                                                                                                                                                                                                                                                                                                                                                                                                                                                                                                                                                                                                                                                                                                                                                                                                                                                                                                                                                                                                                                                                                                                                                                                                                                                                                                                                                                                                                                                                                                                                                                                                                                                                                                                                                                                                                                                                                                                                                                                                                                                                                                                                                                                                                                                                                                                                                                                                                                                                                                                                                                                                                                                                                                                                                                                                                                                                                                                                                                                                                                                                                                                                                                                                                                                                                                                                                                                                                                                                                                            \n",
       "\n",
       "    scores  \\\n",
       "3   0.375    \n",
       "4   0.250    \n",
       "5   0.250    \n",
       "11  0.375    \n",
       "12  0.500    \n",
       "\n",
       "                                                                                                                                                                                                                                                                                                                                                                                                                                                                                                                                                                                                                                                                                                                                                                                                                                                                                                                                                                                                                                                                                                                                                                                                                                                                                                                                                                      feedbacks  \n",
       "3   1. The retrieved context does match the subject matter of the user's query. It provides information about the First Turkish Siege of 1529 and the Second Turkish Siege in 1683, as well as the impact of these events on Vienna's fortifications and military strategy. However, the context does not provide a detailed analysis of these impacts and how they influenced the outcome of the Second Turkish Siege. It only briefly mentions that the fortifications allowed the city to maintain itself for two months until the Turkish army was defeated. \\n\\n2. The retrieved context cannot be used exclusively to provide a full answer to the user's query. While it does provide some relevant information, it lacks a detailed analysis of the impact of the First Turkish Siege on Vienna's fortifications and military strategy, and how these developments influenced the outcome of the Second Turkish Siege. The context also includes a lot of information that is not relevant to the user's query, such as the history of Habsburg rule in Vienna and the city's expansion under Emperor Franz Joseph I.\\n\\n[RESULT] 1.5                                                                                                                                                                                                                                    \n",
       "4   1. The retrieved context does match the subject matter of the user's query to some extent. It mentions the modernization of the city administration under Emperor Joseph II in 1783, including the introduction of officials in charge of only the city and the creation of the Magistrate. It also mentions the closure of graveyards within the city during the same period. However, it does not provide specific details about the impact of these reforms on urban management and public health in Vienna. Therefore, it partially matches the subject matter of the user's query. (1/2)\\n2. The retrieved context cannot be used exclusively to provide a full answer to the user's query. While it does provide some information about the reforms implemented by Emperor Joseph II in 1783, it does not discuss their impact on the city of Vienna, particularly in relation to urban management and public health. Therefore, additional information would be needed to fully answer the user's query. (0/2)\\n\\n[RESULT] 1.0                                                                                                                                                                                                                                                                                                                                        \n",
       "5   The retrieved context does match the subject matter of the user's query to some extent. It provides information about the Congress of Vienna (1814-1815) and its role in reshaping the political landscape of Europe. However, it does not provide a detailed analysis of the significance of the Congress of Vienna in reshaping the political landscape of Europe, which is what the user asked for. \\n\\nThe context also does not provide any information on how the Congress of Vienna affected Austria's financial situation. The only mention of Austria's financial situation is a brief mention of the cost of the congress to Austria, but this does not provide a comprehensive answer to the user's query.\\n\\n1. Does the retrieved context match the subject matter of the user's query? Partially, the context does mention the Congress of Vienna and its role in reshaping Europe's political landscape, but it does not provide a detailed analysis of its significance. (1/2)\\n2. Can the retrieved context be used exclusively to provide a full answer to the user's query? No, the context does not provide any information on how the Congress of Vienna affected Austria's financial situation. (0/2)\\n\\n[RESULT] 1/4                                                                                                                                  \n",
       "11  1. The retrieved context does match the subject matter of the user's query to some extent. It provides a detailed history of Austria, including the period leading up to and following the Austrian State Treaty of 1955. It mentions the treaty and its implications for Austria's political status and neutrality. However, the context does not focus specifically on the significance of the treaty and its implications for Austria's political status and neutrality in the context of post-war Europe. It provides a broader historical context, which includes but is not limited to the specific subject matter of the user's query. Therefore, it partially matches the subject matter of the user's query. (1/2 points)\\n\\n2. The retrieved context cannot be used exclusively to provide a full answer to the user's query. While it does mention the Austrian State Treaty of 1955 and its implications for Austria's political status and neutrality, it does not provide a detailed explanation of the significance of the treaty and its implications in the context of post-war Europe. The user's query requires a more focused and detailed explanation of these specific aspects, which the retrieved context does not provide. Therefore, it cannot be used exclusively to provide a full answer to the user's query. (0.5/2 points)\\n\\n[RESULT] 1.5/4  \n",
       "12  1. The retrieved context does match the subject matter of the user's query. It provides information about Karl Lueger's mayoralty in fin-de-siècle Vienna, discussing his influence on the city's politics and culture. It also mentions his anti-Semitism, which was a significant aspect of his leadership. However, the context does not specifically reference Richard S. Geehr's work, which the user's query asked for. Therefore, it only partially matches the subject matter. (1.5 points)\\n2. The retrieved context cannot be used exclusively to provide a full answer to the user's query. While it does provide some information about Karl Lueger's leadership and its influence on Vienna, it does not provide a comprehensive analysis of his significance during this period. Furthermore, it does not discuss Richard S. Geehr's interpretation of Lueger's mayoralty, which the user specifically asked for. Therefore, additional information would be needed to fully answer the user's query. (0.5 points)\\n\\n[RESULT] 2.0                                                                                                                                                                                                                                                                                                                             "
      ]
     },
     "execution_count": 103,
     "metadata": {},
     "output_type": "execute_result"
    }
   ],
   "source": [
    "cond = deep_dfs[\"context_relevancy\"][\"scores\"] < 0.6\n",
    "deep_dfs[\"context_relevancy\"][cond].head(5)"
   ]
  },
  {
   "cell_type": "markdown",
   "metadata": {},
   "source": [
    "## 2.2 Retrieval Evaluation  \n",
    "\n",
    "Given a retriever and a set of questions, evaluate retrieved results using ranking metrics.\n",
    "\n",
    "https://docs.llamaindex.ai/en/stable/module_guides/evaluating/\n",
    "https://docs.llamaindex.ai/en/stable/module_guides/evaluating/usage_pattern_retrieval/\n",
    "https://docs.llamaindex.ai/en/stable/module_guides/evaluating/usage_pattern/"
   ]
  }
 ],
 "metadata": {
  "application/vnd.databricks.v1+notebook": {
   "dashboards": [],
   "language": "python",
   "notebookMetadata": {
    "pythonIndentUnit": 4
   },
   "notebookName": "2-Indexing_Querying_LLamaIndex",
   "widgets": {}
  },
  "colab": {
   "provenance": [
    {
     "file_id": "https://github.com/rsouza/Prompt_Engineering_Course/blob/main/Notebooks/5_LlamaIndex/2-Indexing_Querying_LLamaIndex.ipynb",
     "timestamp": 1714082079174
    }
   ]
  },
  "kernelspec": {
   "display_name": "Python 3 (ipykernel)",
   "language": "python",
   "name": "python3"
  },
  "language_info": {
   "codemirror_mode": {
    "name": "ipython",
    "version": 3
   },
   "file_extension": ".py",
   "mimetype": "text/x-python",
   "name": "python",
   "nbconvert_exporter": "python",
   "pygments_lexer": "ipython3",
   "version": "3.9.13"
  },
  "widgets": {
   "application/vnd.jupyter.widget-state+json": {
    "02576ade499449f3bb2ef0e9a705c261": {
     "model_module": "@jupyter-widgets/base",
     "model_module_version": "1.2.0",
     "model_name": "LayoutModel",
     "state": {
      "_model_module": "@jupyter-widgets/base",
      "_model_module_version": "1.2.0",
      "_model_name": "LayoutModel",
      "_view_count": null,
      "_view_module": "@jupyter-widgets/base",
      "_view_module_version": "1.2.0",
      "_view_name": "LayoutView",
      "align_content": null,
      "align_items": null,
      "align_self": null,
      "border": null,
      "bottom": null,
      "display": null,
      "flex": null,
      "flex_flow": null,
      "grid_area": null,
      "grid_auto_columns": null,
      "grid_auto_flow": null,
      "grid_auto_rows": null,
      "grid_column": null,
      "grid_gap": null,
      "grid_row": null,
      "grid_template_areas": null,
      "grid_template_columns": null,
      "grid_template_rows": null,
      "height": null,
      "justify_content": null,
      "justify_items": null,
      "left": null,
      "margin": null,
      "max_height": null,
      "max_width": null,
      "min_height": null,
      "min_width": null,
      "object_fit": null,
      "object_position": null,
      "order": null,
      "overflow": null,
      "overflow_x": null,
      "overflow_y": null,
      "padding": null,
      "right": null,
      "top": null,
      "visibility": null,
      "width": null
     }
    },
    "0589ba525d5747c191983227ea53aa7e": {
     "model_module": "@jupyter-widgets/controls",
     "model_module_version": "1.5.0",
     "model_name": "FloatProgressModel",
     "state": {
      "_dom_classes": [],
      "_model_module": "@jupyter-widgets/controls",
      "_model_module_version": "1.5.0",
      "_model_name": "FloatProgressModel",
      "_view_count": null,
      "_view_module": "@jupyter-widgets/controls",
      "_view_module_version": "1.5.0",
      "_view_name": "ProgressView",
      "bar_style": "success",
      "description": "",
      "description_tooltip": null,
      "layout": "IPY_MODEL_1f6311151e5d4f11b0221c01f67e1089",
      "max": 9,
      "min": 0,
      "orientation": "horizontal",
      "style": "IPY_MODEL_260acf1a5cca4a5baf42b51c2154a344",
      "value": 9
     }
    },
    "05a05a0a80d0434c8b6fdcd23cc22526": {
     "model_module": "@jupyter-widgets/controls",
     "model_module_version": "1.5.0",
     "model_name": "ProgressStyleModel",
     "state": {
      "_model_module": "@jupyter-widgets/controls",
      "_model_module_version": "1.5.0",
      "_model_name": "ProgressStyleModel",
      "_view_count": null,
      "_view_module": "@jupyter-widgets/base",
      "_view_module_version": "1.2.0",
      "_view_name": "StyleView",
      "bar_color": null,
      "description_width": ""
     }
    },
    "06e20ed2bb6b47f0aee321f723fc292a": {
     "model_module": "@jupyter-widgets/controls",
     "model_module_version": "1.5.0",
     "model_name": "HTMLModel",
     "state": {
      "_dom_classes": [],
      "_model_module": "@jupyter-widgets/controls",
      "_model_module_version": "1.5.0",
      "_model_name": "HTMLModel",
      "_view_count": null,
      "_view_module": "@jupyter-widgets/controls",
      "_view_module_version": "1.5.0",
      "_view_name": "HTMLView",
      "description": "",
      "description_tooltip": null,
      "layout": "IPY_MODEL_923c164d57574b0b80de6f5f30eb9a1b",
      "placeholder": "​",
      "style": "IPY_MODEL_ba6c243cd8c744978dfb2a0aff255962",
      "value": "Parsing nodes: 100%"
     }
    },
    "073bc2031e37489c871013a47ba15e6a": {
     "model_module": "@jupyter-widgets/base",
     "model_module_version": "1.2.0",
     "model_name": "LayoutModel",
     "state": {
      "_model_module": "@jupyter-widgets/base",
      "_model_module_version": "1.2.0",
      "_model_name": "LayoutModel",
      "_view_count": null,
      "_view_module": "@jupyter-widgets/base",
      "_view_module_version": "1.2.0",
      "_view_name": "LayoutView",
      "align_content": null,
      "align_items": null,
      "align_self": null,
      "border": null,
      "bottom": null,
      "display": null,
      "flex": null,
      "flex_flow": null,
      "grid_area": null,
      "grid_auto_columns": null,
      "grid_auto_flow": null,
      "grid_auto_rows": null,
      "grid_column": null,
      "grid_gap": null,
      "grid_row": null,
      "grid_template_areas": null,
      "grid_template_columns": null,
      "grid_template_rows": null,
      "height": null,
      "justify_content": null,
      "justify_items": null,
      "left": null,
      "margin": null,
      "max_height": null,
      "max_width": null,
      "min_height": null,
      "min_width": null,
      "object_fit": null,
      "object_position": null,
      "order": null,
      "overflow": null,
      "overflow_x": null,
      "overflow_y": null,
      "padding": null,
      "right": null,
      "top": null,
      "visibility": null,
      "width": null
     }
    },
    "0a6ee1b0bf6a4270afaa4bc242587a6f": {
     "model_module": "@jupyter-widgets/base",
     "model_module_version": "1.2.0",
     "model_name": "LayoutModel",
     "state": {
      "_model_module": "@jupyter-widgets/base",
      "_model_module_version": "1.2.0",
      "_model_name": "LayoutModel",
      "_view_count": null,
      "_view_module": "@jupyter-widgets/base",
      "_view_module_version": "1.2.0",
      "_view_name": "LayoutView",
      "align_content": null,
      "align_items": null,
      "align_self": null,
      "border": null,
      "bottom": null,
      "display": null,
      "flex": null,
      "flex_flow": null,
      "grid_area": null,
      "grid_auto_columns": null,
      "grid_auto_flow": null,
      "grid_auto_rows": null,
      "grid_column": null,
      "grid_gap": null,
      "grid_row": null,
      "grid_template_areas": null,
      "grid_template_columns": null,
      "grid_template_rows": null,
      "height": null,
      "justify_content": null,
      "justify_items": null,
      "left": null,
      "margin": null,
      "max_height": null,
      "max_width": null,
      "min_height": null,
      "min_width": null,
      "object_fit": null,
      "object_position": null,
      "order": null,
      "overflow": null,
      "overflow_x": null,
      "overflow_y": null,
      "padding": null,
      "right": null,
      "top": null,
      "visibility": null,
      "width": null
     }
    },
    "0a7e3572589e4865bc505e5c8f6311ef": {
     "model_module": "@jupyter-widgets/base",
     "model_module_version": "1.2.0",
     "model_name": "LayoutModel",
     "state": {
      "_model_module": "@jupyter-widgets/base",
      "_model_module_version": "1.2.0",
      "_model_name": "LayoutModel",
      "_view_count": null,
      "_view_module": "@jupyter-widgets/base",
      "_view_module_version": "1.2.0",
      "_view_name": "LayoutView",
      "align_content": null,
      "align_items": null,
      "align_self": null,
      "border": null,
      "bottom": null,
      "display": null,
      "flex": null,
      "flex_flow": null,
      "grid_area": null,
      "grid_auto_columns": null,
      "grid_auto_flow": null,
      "grid_auto_rows": null,
      "grid_column": null,
      "grid_gap": null,
      "grid_row": null,
      "grid_template_areas": null,
      "grid_template_columns": null,
      "grid_template_rows": null,
      "height": null,
      "justify_content": null,
      "justify_items": null,
      "left": null,
      "margin": null,
      "max_height": null,
      "max_width": null,
      "min_height": null,
      "min_width": null,
      "object_fit": null,
      "object_position": null,
      "order": null,
      "overflow": null,
      "overflow_x": null,
      "overflow_y": null,
      "padding": null,
      "right": null,
      "top": null,
      "visibility": null,
      "width": null
     }
    },
    "0af7beb368c34735abf7334e4ad9e9c9": {
     "model_module": "@jupyter-widgets/controls",
     "model_module_version": "1.5.0",
     "model_name": "FloatProgressModel",
     "state": {
      "_dom_classes": [],
      "_model_module": "@jupyter-widgets/controls",
      "_model_module_version": "1.5.0",
      "_model_name": "FloatProgressModel",
      "_view_count": null,
      "_view_module": "@jupyter-widgets/controls",
      "_view_module_version": "1.5.0",
      "_view_name": "ProgressView",
      "bar_style": "success",
      "description": "",
      "description_tooltip": null,
      "layout": "IPY_MODEL_12ad5a8d05b84fb2ae472573e1cd624f",
      "max": 9,
      "min": 0,
      "orientation": "horizontal",
      "style": "IPY_MODEL_9622de93dc4f49c2b5cd740477df2acd",
      "value": 9
     }
    },
    "12ad5a8d05b84fb2ae472573e1cd624f": {
     "model_module": "@jupyter-widgets/base",
     "model_module_version": "1.2.0",
     "model_name": "LayoutModel",
     "state": {
      "_model_module": "@jupyter-widgets/base",
      "_model_module_version": "1.2.0",
      "_model_name": "LayoutModel",
      "_view_count": null,
      "_view_module": "@jupyter-widgets/base",
      "_view_module_version": "1.2.0",
      "_view_name": "LayoutView",
      "align_content": null,
      "align_items": null,
      "align_self": null,
      "border": null,
      "bottom": null,
      "display": null,
      "flex": null,
      "flex_flow": null,
      "grid_area": null,
      "grid_auto_columns": null,
      "grid_auto_flow": null,
      "grid_auto_rows": null,
      "grid_column": null,
      "grid_gap": null,
      "grid_row": null,
      "grid_template_areas": null,
      "grid_template_columns": null,
      "grid_template_rows": null,
      "height": null,
      "justify_content": null,
      "justify_items": null,
      "left": null,
      "margin": null,
      "max_height": null,
      "max_width": null,
      "min_height": null,
      "min_width": null,
      "object_fit": null,
      "object_position": null,
      "order": null,
      "overflow": null,
      "overflow_x": null,
      "overflow_y": null,
      "padding": null,
      "right": null,
      "top": null,
      "visibility": null,
      "width": null
     }
    },
    "156a5c690c3d4771b43c0ea7351d6ecd": {
     "model_module": "@jupyter-widgets/controls",
     "model_module_version": "1.5.0",
     "model_name": "FloatProgressModel",
     "state": {
      "_dom_classes": [],
      "_model_module": "@jupyter-widgets/controls",
      "_model_module_version": "1.5.0",
      "_model_name": "FloatProgressModel",
      "_view_count": null,
      "_view_module": "@jupyter-widgets/controls",
      "_view_module_version": "1.5.0",
      "_view_name": "ProgressView",
      "bar_style": "success",
      "description": "",
      "description_tooltip": null,
      "layout": "IPY_MODEL_1daafe0968be4419b225d67758bf3603",
      "max": 9,
      "min": 0,
      "orientation": "horizontal",
      "style": "IPY_MODEL_4179840c35f24de68a9951fc2ec2b673",
      "value": 9
     }
    },
    "187e8a1e1d654d5e994ca76f50a1b73f": {
     "model_module": "@jupyter-widgets/base",
     "model_module_version": "1.2.0",
     "model_name": "LayoutModel",
     "state": {
      "_model_module": "@jupyter-widgets/base",
      "_model_module_version": "1.2.0",
      "_model_name": "LayoutModel",
      "_view_count": null,
      "_view_module": "@jupyter-widgets/base",
      "_view_module_version": "1.2.0",
      "_view_name": "LayoutView",
      "align_content": null,
      "align_items": null,
      "align_self": null,
      "border": null,
      "bottom": null,
      "display": null,
      "flex": null,
      "flex_flow": null,
      "grid_area": null,
      "grid_auto_columns": null,
      "grid_auto_flow": null,
      "grid_auto_rows": null,
      "grid_column": null,
      "grid_gap": null,
      "grid_row": null,
      "grid_template_areas": null,
      "grid_template_columns": null,
      "grid_template_rows": null,
      "height": null,
      "justify_content": null,
      "justify_items": null,
      "left": null,
      "margin": null,
      "max_height": null,
      "max_width": null,
      "min_height": null,
      "min_width": null,
      "object_fit": null,
      "object_position": null,
      "order": null,
      "overflow": null,
      "overflow_x": null,
      "overflow_y": null,
      "padding": null,
      "right": null,
      "top": null,
      "visibility": null,
      "width": null
     }
    },
    "1ab952700b614347985f836a4f88ec10": {
     "model_module": "@jupyter-widgets/controls",
     "model_module_version": "1.5.0",
     "model_name": "HTMLModel",
     "state": {
      "_dom_classes": [],
      "_model_module": "@jupyter-widgets/controls",
      "_model_module_version": "1.5.0",
      "_model_name": "HTMLModel",
      "_view_count": null,
      "_view_module": "@jupyter-widgets/controls",
      "_view_module_version": "1.5.0",
      "_view_name": "HTMLView",
      "description": "",
      "description_tooltip": null,
      "layout": "IPY_MODEL_64d9874d5f2a4f5a9e43f8c299760289",
      "placeholder": "​",
      "style": "IPY_MODEL_6d9b1ace3f8d48cabc0b66bf3630547d",
      "value": " 9/9 [00:00&lt;00:00, 312.38it/s]"
     }
    },
    "1d52c3d1f75248c192993359d09a15b0": {
     "model_module": "@jupyter-widgets/base",
     "model_module_version": "1.2.0",
     "model_name": "LayoutModel",
     "state": {
      "_model_module": "@jupyter-widgets/base",
      "_model_module_version": "1.2.0",
      "_model_name": "LayoutModel",
      "_view_count": null,
      "_view_module": "@jupyter-widgets/base",
      "_view_module_version": "1.2.0",
      "_view_name": "LayoutView",
      "align_content": null,
      "align_items": null,
      "align_self": null,
      "border": null,
      "bottom": null,
      "display": null,
      "flex": null,
      "flex_flow": null,
      "grid_area": null,
      "grid_auto_columns": null,
      "grid_auto_flow": null,
      "grid_auto_rows": null,
      "grid_column": null,
      "grid_gap": null,
      "grid_row": null,
      "grid_template_areas": null,
      "grid_template_columns": null,
      "grid_template_rows": null,
      "height": null,
      "justify_content": null,
      "justify_items": null,
      "left": null,
      "margin": null,
      "max_height": null,
      "max_width": null,
      "min_height": null,
      "min_width": null,
      "object_fit": null,
      "object_position": null,
      "order": null,
      "overflow": null,
      "overflow_x": null,
      "overflow_y": null,
      "padding": null,
      "right": null,
      "top": null,
      "visibility": null,
      "width": null
     }
    },
    "1daafe0968be4419b225d67758bf3603": {
     "model_module": "@jupyter-widgets/base",
     "model_module_version": "1.2.0",
     "model_name": "LayoutModel",
     "state": {
      "_model_module": "@jupyter-widgets/base",
      "_model_module_version": "1.2.0",
      "_model_name": "LayoutModel",
      "_view_count": null,
      "_view_module": "@jupyter-widgets/base",
      "_view_module_version": "1.2.0",
      "_view_name": "LayoutView",
      "align_content": null,
      "align_items": null,
      "align_self": null,
      "border": null,
      "bottom": null,
      "display": null,
      "flex": null,
      "flex_flow": null,
      "grid_area": null,
      "grid_auto_columns": null,
      "grid_auto_flow": null,
      "grid_auto_rows": null,
      "grid_column": null,
      "grid_gap": null,
      "grid_row": null,
      "grid_template_areas": null,
      "grid_template_columns": null,
      "grid_template_rows": null,
      "height": null,
      "justify_content": null,
      "justify_items": null,
      "left": null,
      "margin": null,
      "max_height": null,
      "max_width": null,
      "min_height": null,
      "min_width": null,
      "object_fit": null,
      "object_position": null,
      "order": null,
      "overflow": null,
      "overflow_x": null,
      "overflow_y": null,
      "padding": null,
      "right": null,
      "top": null,
      "visibility": null,
      "width": null
     }
    },
    "1e7e2825c64c4bf2a806d225ec262157": {
     "model_module": "@jupyter-widgets/controls",
     "model_module_version": "1.5.0",
     "model_name": "HTMLModel",
     "state": {
      "_dom_classes": [],
      "_model_module": "@jupyter-widgets/controls",
      "_model_module_version": "1.5.0",
      "_model_name": "HTMLModel",
      "_view_count": null,
      "_view_module": "@jupyter-widgets/controls",
      "_view_module_version": "1.5.0",
      "_view_name": "HTMLView",
      "description": "",
      "description_tooltip": null,
      "layout": "IPY_MODEL_470754f4533940b5bfd9cddf5375ec6d",
      "placeholder": "​",
      "style": "IPY_MODEL_51b9af019e7a4114af56704020adb073",
      "value": " 9/9 [00:00&lt;00:00, 266.08it/s]"
     }
    },
    "1f6311151e5d4f11b0221c01f67e1089": {
     "model_module": "@jupyter-widgets/base",
     "model_module_version": "1.2.0",
     "model_name": "LayoutModel",
     "state": {
      "_model_module": "@jupyter-widgets/base",
      "_model_module_version": "1.2.0",
      "_model_name": "LayoutModel",
      "_view_count": null,
      "_view_module": "@jupyter-widgets/base",
      "_view_module_version": "1.2.0",
      "_view_name": "LayoutView",
      "align_content": null,
      "align_items": null,
      "align_self": null,
      "border": null,
      "bottom": null,
      "display": null,
      "flex": null,
      "flex_flow": null,
      "grid_area": null,
      "grid_auto_columns": null,
      "grid_auto_flow": null,
      "grid_auto_rows": null,
      "grid_column": null,
      "grid_gap": null,
      "grid_row": null,
      "grid_template_areas": null,
      "grid_template_columns": null,
      "grid_template_rows": null,
      "height": null,
      "justify_content": null,
      "justify_items": null,
      "left": null,
      "margin": null,
      "max_height": null,
      "max_width": null,
      "min_height": null,
      "min_width": null,
      "object_fit": null,
      "object_position": null,
      "order": null,
      "overflow": null,
      "overflow_x": null,
      "overflow_y": null,
      "padding": null,
      "right": null,
      "top": null,
      "visibility": null,
      "width": null
     }
    },
    "20af49332562427f9cb015673828ca04": {
     "model_module": "@jupyter-widgets/controls",
     "model_module_version": "1.5.0",
     "model_name": "HTMLModel",
     "state": {
      "_dom_classes": [],
      "_model_module": "@jupyter-widgets/controls",
      "_model_module_version": "1.5.0",
      "_model_name": "HTMLModel",
      "_view_count": null,
      "_view_module": "@jupyter-widgets/controls",
      "_view_module_version": "1.5.0",
      "_view_name": "HTMLView",
      "description": "",
      "description_tooltip": null,
      "layout": "IPY_MODEL_02576ade499449f3bb2ef0e9a705c261",
      "placeholder": "​",
      "style": "IPY_MODEL_254bea0fcbce4340a144e3dd2b1c15ce",
      "value": " 9/9 [00:24&lt;00:00,  2.46s/it]"
     }
    },
    "2340220022724036899cd385eee591cb": {
     "model_module": "@jupyter-widgets/base",
     "model_module_version": "1.2.0",
     "model_name": "LayoutModel",
     "state": {
      "_model_module": "@jupyter-widgets/base",
      "_model_module_version": "1.2.0",
      "_model_name": "LayoutModel",
      "_view_count": null,
      "_view_module": "@jupyter-widgets/base",
      "_view_module_version": "1.2.0",
      "_view_name": "LayoutView",
      "align_content": null,
      "align_items": null,
      "align_self": null,
      "border": null,
      "bottom": null,
      "display": null,
      "flex": null,
      "flex_flow": null,
      "grid_area": null,
      "grid_auto_columns": null,
      "grid_auto_flow": null,
      "grid_auto_rows": null,
      "grid_column": null,
      "grid_gap": null,
      "grid_row": null,
      "grid_template_areas": null,
      "grid_template_columns": null,
      "grid_template_rows": null,
      "height": null,
      "justify_content": null,
      "justify_items": null,
      "left": null,
      "margin": null,
      "max_height": null,
      "max_width": null,
      "min_height": null,
      "min_width": null,
      "object_fit": null,
      "object_position": null,
      "order": null,
      "overflow": null,
      "overflow_x": null,
      "overflow_y": null,
      "padding": null,
      "right": null,
      "top": null,
      "visibility": null,
      "width": null
     }
    },
    "244cc16ad8f64de6bf2bfe034de82b44": {
     "model_module": "@jupyter-widgets/base",
     "model_module_version": "1.2.0",
     "model_name": "LayoutModel",
     "state": {
      "_model_module": "@jupyter-widgets/base",
      "_model_module_version": "1.2.0",
      "_model_name": "LayoutModel",
      "_view_count": null,
      "_view_module": "@jupyter-widgets/base",
      "_view_module_version": "1.2.0",
      "_view_name": "LayoutView",
      "align_content": null,
      "align_items": null,
      "align_self": null,
      "border": null,
      "bottom": null,
      "display": null,
      "flex": null,
      "flex_flow": null,
      "grid_area": null,
      "grid_auto_columns": null,
      "grid_auto_flow": null,
      "grid_auto_rows": null,
      "grid_column": null,
      "grid_gap": null,
      "grid_row": null,
      "grid_template_areas": null,
      "grid_template_columns": null,
      "grid_template_rows": null,
      "height": null,
      "justify_content": null,
      "justify_items": null,
      "left": null,
      "margin": null,
      "max_height": null,
      "max_width": null,
      "min_height": null,
      "min_width": null,
      "object_fit": null,
      "object_position": null,
      "order": null,
      "overflow": null,
      "overflow_x": null,
      "overflow_y": null,
      "padding": null,
      "right": null,
      "top": null,
      "visibility": null,
      "width": null
     }
    },
    "254bea0fcbce4340a144e3dd2b1c15ce": {
     "model_module": "@jupyter-widgets/controls",
     "model_module_version": "1.5.0",
     "model_name": "DescriptionStyleModel",
     "state": {
      "_model_module": "@jupyter-widgets/controls",
      "_model_module_version": "1.5.0",
      "_model_name": "DescriptionStyleModel",
      "_view_count": null,
      "_view_module": "@jupyter-widgets/base",
      "_view_module_version": "1.2.0",
      "_view_name": "StyleView",
      "description_width": ""
     }
    },
    "2598c688b83042ab972fddd379026898": {
     "model_module": "@jupyter-widgets/base",
     "model_module_version": "1.2.0",
     "model_name": "LayoutModel",
     "state": {
      "_model_module": "@jupyter-widgets/base",
      "_model_module_version": "1.2.0",
      "_model_name": "LayoutModel",
      "_view_count": null,
      "_view_module": "@jupyter-widgets/base",
      "_view_module_version": "1.2.0",
      "_view_name": "LayoutView",
      "align_content": null,
      "align_items": null,
      "align_self": null,
      "border": null,
      "bottom": null,
      "display": null,
      "flex": null,
      "flex_flow": null,
      "grid_area": null,
      "grid_auto_columns": null,
      "grid_auto_flow": null,
      "grid_auto_rows": null,
      "grid_column": null,
      "grid_gap": null,
      "grid_row": null,
      "grid_template_areas": null,
      "grid_template_columns": null,
      "grid_template_rows": null,
      "height": null,
      "justify_content": null,
      "justify_items": null,
      "left": null,
      "margin": null,
      "max_height": null,
      "max_width": null,
      "min_height": null,
      "min_width": null,
      "object_fit": null,
      "object_position": null,
      "order": null,
      "overflow": null,
      "overflow_x": null,
      "overflow_y": null,
      "padding": null,
      "right": null,
      "top": null,
      "visibility": null,
      "width": null
     }
    },
    "260acf1a5cca4a5baf42b51c2154a344": {
     "model_module": "@jupyter-widgets/controls",
     "model_module_version": "1.5.0",
     "model_name": "ProgressStyleModel",
     "state": {
      "_model_module": "@jupyter-widgets/controls",
      "_model_module_version": "1.5.0",
      "_model_name": "ProgressStyleModel",
      "_view_count": null,
      "_view_module": "@jupyter-widgets/base",
      "_view_module_version": "1.2.0",
      "_view_name": "StyleView",
      "bar_color": null,
      "description_width": ""
     }
    },
    "2737a2b3554c4f1b86b910623744f7e6": {
     "model_module": "@jupyter-widgets/controls",
     "model_module_version": "1.5.0",
     "model_name": "HBoxModel",
     "state": {
      "_dom_classes": [],
      "_model_module": "@jupyter-widgets/controls",
      "_model_module_version": "1.5.0",
      "_model_name": "HBoxModel",
      "_view_count": null,
      "_view_module": "@jupyter-widgets/controls",
      "_view_module_version": "1.5.0",
      "_view_name": "HBoxView",
      "box_style": "",
      "children": [
       "IPY_MODEL_71041ba2ed144362a48f20b9bdbdcd45",
       "IPY_MODEL_63cd597623ef4a61a9cb5afbf6f6b951",
       "IPY_MODEL_6a46a844a28f46b7b98d61e4a86d58ec"
      ],
      "layout": "IPY_MODEL_8fbc4f2ad5214d17840a844ed00aa8af"
     }
    },
    "298faff347d74a1789a1d8363dd97fb7": {
     "model_module": "@jupyter-widgets/controls",
     "model_module_version": "1.5.0",
     "model_name": "HTMLModel",
     "state": {
      "_dom_classes": [],
      "_model_module": "@jupyter-widgets/controls",
      "_model_module_version": "1.5.0",
      "_model_name": "HTMLModel",
      "_view_count": null,
      "_view_module": "@jupyter-widgets/controls",
      "_view_module_version": "1.5.0",
      "_view_name": "HTMLView",
      "description": "",
      "description_tooltip": null,
      "layout": "IPY_MODEL_6c80e814cfd14744b9c05820ae52043e",
      "placeholder": "​",
      "style": "IPY_MODEL_2a765c396bbd4601b8a056c1edef9ab1",
      "value": "Parsing nodes: 100%"
     }
    },
    "29db7c13edb84fe18c76a6c3ffcf54f6": {
     "model_module": "@jupyter-widgets/controls",
     "model_module_version": "1.5.0",
     "model_name": "HTMLModel",
     "state": {
      "_dom_classes": [],
      "_model_module": "@jupyter-widgets/controls",
      "_model_module_version": "1.5.0",
      "_model_name": "HTMLModel",
      "_view_count": null,
      "_view_module": "@jupyter-widgets/controls",
      "_view_module_version": "1.5.0",
      "_view_name": "HTMLView",
      "description": "",
      "description_tooltip": null,
      "layout": "IPY_MODEL_ba559bf9aa9949f2b11827ec685ea7b6",
      "placeholder": "​",
      "style": "IPY_MODEL_55a2abb70f424a18836edde5684d4629",
      "value": "Parsing nodes: 100%"
     }
    },
    "2a765c396bbd4601b8a056c1edef9ab1": {
     "model_module": "@jupyter-widgets/controls",
     "model_module_version": "1.5.0",
     "model_name": "DescriptionStyleModel",
     "state": {
      "_model_module": "@jupyter-widgets/controls",
      "_model_module_version": "1.5.0",
      "_model_name": "DescriptionStyleModel",
      "_view_count": null,
      "_view_module": "@jupyter-widgets/base",
      "_view_module_version": "1.2.0",
      "_view_name": "StyleView",
      "description_width": ""
     }
    },
    "2db6d82d89d74485b13c86c6f8179346": {
     "model_module": "@jupyter-widgets/controls",
     "model_module_version": "1.5.0",
     "model_name": "FloatProgressModel",
     "state": {
      "_dom_classes": [],
      "_model_module": "@jupyter-widgets/controls",
      "_model_module_version": "1.5.0",
      "_model_name": "FloatProgressModel",
      "_view_count": null,
      "_view_module": "@jupyter-widgets/controls",
      "_view_module_version": "1.5.0",
      "_view_name": "ProgressView",
      "bar_style": "success",
      "description": "",
      "description_tooltip": null,
      "layout": "IPY_MODEL_cb6e4b7ce2c140bdabd9bd14586ec6e1",
      "max": 9,
      "min": 0,
      "orientation": "horizontal",
      "style": "IPY_MODEL_05a05a0a80d0434c8b6fdcd23cc22526",
      "value": 9
     }
    },
    "2fd0f785a1b64679a297c046fcec87bc": {
     "model_module": "@jupyter-widgets/controls",
     "model_module_version": "1.5.0",
     "model_name": "HTMLModel",
     "state": {
      "_dom_classes": [],
      "_model_module": "@jupyter-widgets/controls",
      "_model_module_version": "1.5.0",
      "_model_name": "HTMLModel",
      "_view_count": null,
      "_view_module": "@jupyter-widgets/controls",
      "_view_module_version": "1.5.0",
      "_view_name": "HTMLView",
      "description": "",
      "description_tooltip": null,
      "layout": "IPY_MODEL_5f07e2737051433ea609a1728c642ab7",
      "placeholder": "​",
      "style": "IPY_MODEL_d9d4a97ac6e3455b9d8cd3bd25b21f07",
      "value": "Summarizing documents: 100%"
     }
    },
    "31ca2ffae54645029830c6a494bb7b50": {
     "model_module": "@jupyter-widgets/base",
     "model_module_version": "1.2.0",
     "model_name": "LayoutModel",
     "state": {
      "_model_module": "@jupyter-widgets/base",
      "_model_module_version": "1.2.0",
      "_model_name": "LayoutModel",
      "_view_count": null,
      "_view_module": "@jupyter-widgets/base",
      "_view_module_version": "1.2.0",
      "_view_name": "LayoutView",
      "align_content": null,
      "align_items": null,
      "align_self": null,
      "border": null,
      "bottom": null,
      "display": null,
      "flex": null,
      "flex_flow": null,
      "grid_area": null,
      "grid_auto_columns": null,
      "grid_auto_flow": null,
      "grid_auto_rows": null,
      "grid_column": null,
      "grid_gap": null,
      "grid_row": null,
      "grid_template_areas": null,
      "grid_template_columns": null,
      "grid_template_rows": null,
      "height": null,
      "justify_content": null,
      "justify_items": null,
      "left": null,
      "margin": null,
      "max_height": null,
      "max_width": null,
      "min_height": null,
      "min_width": null,
      "object_fit": null,
      "object_position": null,
      "order": null,
      "overflow": null,
      "overflow_x": null,
      "overflow_y": null,
      "padding": null,
      "right": null,
      "top": null,
      "visibility": null,
      "width": null
     }
    },
    "326addf309b149478306b4d6a8832f55": {
     "model_module": "@jupyter-widgets/base",
     "model_module_version": "1.2.0",
     "model_name": "LayoutModel",
     "state": {
      "_model_module": "@jupyter-widgets/base",
      "_model_module_version": "1.2.0",
      "_model_name": "LayoutModel",
      "_view_count": null,
      "_view_module": "@jupyter-widgets/base",
      "_view_module_version": "1.2.0",
      "_view_name": "LayoutView",
      "align_content": null,
      "align_items": null,
      "align_self": null,
      "border": null,
      "bottom": null,
      "display": null,
      "flex": null,
      "flex_flow": null,
      "grid_area": null,
      "grid_auto_columns": null,
      "grid_auto_flow": null,
      "grid_auto_rows": null,
      "grid_column": null,
      "grid_gap": null,
      "grid_row": null,
      "grid_template_areas": null,
      "grid_template_columns": null,
      "grid_template_rows": null,
      "height": null,
      "justify_content": null,
      "justify_items": null,
      "left": null,
      "margin": null,
      "max_height": null,
      "max_width": null,
      "min_height": null,
      "min_width": null,
      "object_fit": null,
      "object_position": null,
      "order": null,
      "overflow": null,
      "overflow_x": null,
      "overflow_y": null,
      "padding": null,
      "right": null,
      "top": null,
      "visibility": null,
      "width": null
     }
    },
    "34be21093b6545a7979734207d0fa8b2": {
     "model_module": "@jupyter-widgets/base",
     "model_module_version": "1.2.0",
     "model_name": "LayoutModel",
     "state": {
      "_model_module": "@jupyter-widgets/base",
      "_model_module_version": "1.2.0",
      "_model_name": "LayoutModel",
      "_view_count": null,
      "_view_module": "@jupyter-widgets/base",
      "_view_module_version": "1.2.0",
      "_view_name": "LayoutView",
      "align_content": null,
      "align_items": null,
      "align_self": null,
      "border": null,
      "bottom": null,
      "display": null,
      "flex": null,
      "flex_flow": null,
      "grid_area": null,
      "grid_auto_columns": null,
      "grid_auto_flow": null,
      "grid_auto_rows": null,
      "grid_column": null,
      "grid_gap": null,
      "grid_row": null,
      "grid_template_areas": null,
      "grid_template_columns": null,
      "grid_template_rows": null,
      "height": null,
      "justify_content": null,
      "justify_items": null,
      "left": null,
      "margin": null,
      "max_height": null,
      "max_width": null,
      "min_height": null,
      "min_width": null,
      "object_fit": null,
      "object_position": null,
      "order": null,
      "overflow": null,
      "overflow_x": null,
      "overflow_y": null,
      "padding": null,
      "right": null,
      "top": null,
      "visibility": null,
      "width": null
     }
    },
    "3b2b7ca283964dbeb5a863cc0271cc73": {
     "model_module": "@jupyter-widgets/base",
     "model_module_version": "1.2.0",
     "model_name": "LayoutModel",
     "state": {
      "_model_module": "@jupyter-widgets/base",
      "_model_module_version": "1.2.0",
      "_model_name": "LayoutModel",
      "_view_count": null,
      "_view_module": "@jupyter-widgets/base",
      "_view_module_version": "1.2.0",
      "_view_name": "LayoutView",
      "align_content": null,
      "align_items": null,
      "align_self": null,
      "border": null,
      "bottom": null,
      "display": null,
      "flex": null,
      "flex_flow": null,
      "grid_area": null,
      "grid_auto_columns": null,
      "grid_auto_flow": null,
      "grid_auto_rows": null,
      "grid_column": null,
      "grid_gap": null,
      "grid_row": null,
      "grid_template_areas": null,
      "grid_template_columns": null,
      "grid_template_rows": null,
      "height": null,
      "justify_content": null,
      "justify_items": null,
      "left": null,
      "margin": null,
      "max_height": null,
      "max_width": null,
      "min_height": null,
      "min_width": null,
      "object_fit": null,
      "object_position": null,
      "order": null,
      "overflow": null,
      "overflow_x": null,
      "overflow_y": null,
      "padding": null,
      "right": null,
      "top": null,
      "visibility": null,
      "width": null
     }
    },
    "3bf561c40d3240f2a02e44028b0e2101": {
     "model_module": "@jupyter-widgets/controls",
     "model_module_version": "1.5.0",
     "model_name": "ProgressStyleModel",
     "state": {
      "_model_module": "@jupyter-widgets/controls",
      "_model_module_version": "1.5.0",
      "_model_name": "ProgressStyleModel",
      "_view_count": null,
      "_view_module": "@jupyter-widgets/base",
      "_view_module_version": "1.2.0",
      "_view_name": "StyleView",
      "bar_color": null,
      "description_width": ""
     }
    },
    "3cc13dc1acb84da880abea2c1f3c0742": {
     "model_module": "@jupyter-widgets/controls",
     "model_module_version": "1.5.0",
     "model_name": "DescriptionStyleModel",
     "state": {
      "_model_module": "@jupyter-widgets/controls",
      "_model_module_version": "1.5.0",
      "_model_name": "DescriptionStyleModel",
      "_view_count": null,
      "_view_module": "@jupyter-widgets/base",
      "_view_module_version": "1.2.0",
      "_view_name": "StyleView",
      "description_width": ""
     }
    },
    "3f938d6311a44a7b939514c46ef0ca85": {
     "model_module": "@jupyter-widgets/base",
     "model_module_version": "1.2.0",
     "model_name": "LayoutModel",
     "state": {
      "_model_module": "@jupyter-widgets/base",
      "_model_module_version": "1.2.0",
      "_model_name": "LayoutModel",
      "_view_count": null,
      "_view_module": "@jupyter-widgets/base",
      "_view_module_version": "1.2.0",
      "_view_name": "LayoutView",
      "align_content": null,
      "align_items": null,
      "align_self": null,
      "border": null,
      "bottom": null,
      "display": null,
      "flex": null,
      "flex_flow": null,
      "grid_area": null,
      "grid_auto_columns": null,
      "grid_auto_flow": null,
      "grid_auto_rows": null,
      "grid_column": null,
      "grid_gap": null,
      "grid_row": null,
      "grid_template_areas": null,
      "grid_template_columns": null,
      "grid_template_rows": null,
      "height": null,
      "justify_content": null,
      "justify_items": null,
      "left": null,
      "margin": null,
      "max_height": null,
      "max_width": null,
      "min_height": null,
      "min_width": null,
      "object_fit": null,
      "object_position": null,
      "order": null,
      "overflow": null,
      "overflow_x": null,
      "overflow_y": null,
      "padding": null,
      "right": null,
      "top": null,
      "visibility": null,
      "width": null
     }
    },
    "40a4e5738af24c01aeeab8668f0cf1b8": {
     "model_module": "@jupyter-widgets/controls",
     "model_module_version": "1.5.0",
     "model_name": "DescriptionStyleModel",
     "state": {
      "_model_module": "@jupyter-widgets/controls",
      "_model_module_version": "1.5.0",
      "_model_name": "DescriptionStyleModel",
      "_view_count": null,
      "_view_module": "@jupyter-widgets/base",
      "_view_module_version": "1.2.0",
      "_view_name": "StyleView",
      "description_width": ""
     }
    },
    "414e20662cd44845aba3a0140c236316": {
     "model_module": "@jupyter-widgets/base",
     "model_module_version": "1.2.0",
     "model_name": "LayoutModel",
     "state": {
      "_model_module": "@jupyter-widgets/base",
      "_model_module_version": "1.2.0",
      "_model_name": "LayoutModel",
      "_view_count": null,
      "_view_module": "@jupyter-widgets/base",
      "_view_module_version": "1.2.0",
      "_view_name": "LayoutView",
      "align_content": null,
      "align_items": null,
      "align_self": null,
      "border": null,
      "bottom": null,
      "display": null,
      "flex": null,
      "flex_flow": null,
      "grid_area": null,
      "grid_auto_columns": null,
      "grid_auto_flow": null,
      "grid_auto_rows": null,
      "grid_column": null,
      "grid_gap": null,
      "grid_row": null,
      "grid_template_areas": null,
      "grid_template_columns": null,
      "grid_template_rows": null,
      "height": null,
      "justify_content": null,
      "justify_items": null,
      "left": null,
      "margin": null,
      "max_height": null,
      "max_width": null,
      "min_height": null,
      "min_width": null,
      "object_fit": null,
      "object_position": null,
      "order": null,
      "overflow": null,
      "overflow_x": null,
      "overflow_y": null,
      "padding": null,
      "right": null,
      "top": null,
      "visibility": null,
      "width": null
     }
    },
    "4179840c35f24de68a9951fc2ec2b673": {
     "model_module": "@jupyter-widgets/controls",
     "model_module_version": "1.5.0",
     "model_name": "ProgressStyleModel",
     "state": {
      "_model_module": "@jupyter-widgets/controls",
      "_model_module_version": "1.5.0",
      "_model_name": "ProgressStyleModel",
      "_view_count": null,
      "_view_module": "@jupyter-widgets/base",
      "_view_module_version": "1.2.0",
      "_view_name": "StyleView",
      "bar_color": null,
      "description_width": ""
     }
    },
    "470754f4533940b5bfd9cddf5375ec6d": {
     "model_module": "@jupyter-widgets/base",
     "model_module_version": "1.2.0",
     "model_name": "LayoutModel",
     "state": {
      "_model_module": "@jupyter-widgets/base",
      "_model_module_version": "1.2.0",
      "_model_name": "LayoutModel",
      "_view_count": null,
      "_view_module": "@jupyter-widgets/base",
      "_view_module_version": "1.2.0",
      "_view_name": "LayoutView",
      "align_content": null,
      "align_items": null,
      "align_self": null,
      "border": null,
      "bottom": null,
      "display": null,
      "flex": null,
      "flex_flow": null,
      "grid_area": null,
      "grid_auto_columns": null,
      "grid_auto_flow": null,
      "grid_auto_rows": null,
      "grid_column": null,
      "grid_gap": null,
      "grid_row": null,
      "grid_template_areas": null,
      "grid_template_columns": null,
      "grid_template_rows": null,
      "height": null,
      "justify_content": null,
      "justify_items": null,
      "left": null,
      "margin": null,
      "max_height": null,
      "max_width": null,
      "min_height": null,
      "min_width": null,
      "object_fit": null,
      "object_position": null,
      "order": null,
      "overflow": null,
      "overflow_x": null,
      "overflow_y": null,
      "padding": null,
      "right": null,
      "top": null,
      "visibility": null,
      "width": null
     }
    },
    "48a3efcf37784c12baef6b52569333a8": {
     "model_module": "@jupyter-widgets/controls",
     "model_module_version": "1.5.0",
     "model_name": "ProgressStyleModel",
     "state": {
      "_model_module": "@jupyter-widgets/controls",
      "_model_module_version": "1.5.0",
      "_model_name": "ProgressStyleModel",
      "_view_count": null,
      "_view_module": "@jupyter-widgets/base",
      "_view_module_version": "1.2.0",
      "_view_name": "StyleView",
      "bar_color": null,
      "description_width": ""
     }
    },
    "49fb4e9352fd4f9aa47a436ea0e9ee00": {
     "model_module": "@jupyter-widgets/controls",
     "model_module_version": "1.5.0",
     "model_name": "HTMLModel",
     "state": {
      "_dom_classes": [],
      "_model_module": "@jupyter-widgets/controls",
      "_model_module_version": "1.5.0",
      "_model_name": "HTMLModel",
      "_view_count": null,
      "_view_module": "@jupyter-widgets/controls",
      "_view_module_version": "1.5.0",
      "_view_name": "HTMLView",
      "description": "",
      "description_tooltip": null,
      "layout": "IPY_MODEL_073bc2031e37489c871013a47ba15e6a",
      "placeholder": "​",
      "style": "IPY_MODEL_5831db4be22449af9de30450e60a5a97",
      "value": " 9/9 [00:00&lt;00:00, 148.55it/s]"
     }
    },
    "4a8cc59153fa4780b6dbf597886027b7": {
     "model_module": "@jupyter-widgets/controls",
     "model_module_version": "1.5.0",
     "model_name": "ProgressStyleModel",
     "state": {
      "_model_module": "@jupyter-widgets/controls",
      "_model_module_version": "1.5.0",
      "_model_name": "ProgressStyleModel",
      "_view_count": null,
      "_view_module": "@jupyter-widgets/base",
      "_view_module_version": "1.2.0",
      "_view_name": "StyleView",
      "bar_color": null,
      "description_width": ""
     }
    },
    "4ab408fd9a2b469293f69d6aa5d82377": {
     "model_module": "@jupyter-widgets/controls",
     "model_module_version": "1.5.0",
     "model_name": "DescriptionStyleModel",
     "state": {
      "_model_module": "@jupyter-widgets/controls",
      "_model_module_version": "1.5.0",
      "_model_name": "DescriptionStyleModel",
      "_view_count": null,
      "_view_module": "@jupyter-widgets/base",
      "_view_module_version": "1.2.0",
      "_view_name": "StyleView",
      "description_width": ""
     }
    },
    "4bf5b9b1c2fc4a58b659b47c62a49493": {
     "model_module": "@jupyter-widgets/controls",
     "model_module_version": "1.5.0",
     "model_name": "DescriptionStyleModel",
     "state": {
      "_model_module": "@jupyter-widgets/controls",
      "_model_module_version": "1.5.0",
      "_model_name": "DescriptionStyleModel",
      "_view_count": null,
      "_view_module": "@jupyter-widgets/base",
      "_view_module_version": "1.2.0",
      "_view_name": "StyleView",
      "description_width": ""
     }
    },
    "4d17a78630e34c2f89acf24dd9d3df86": {
     "model_module": "@jupyter-widgets/base",
     "model_module_version": "1.2.0",
     "model_name": "LayoutModel",
     "state": {
      "_model_module": "@jupyter-widgets/base",
      "_model_module_version": "1.2.0",
      "_model_name": "LayoutModel",
      "_view_count": null,
      "_view_module": "@jupyter-widgets/base",
      "_view_module_version": "1.2.0",
      "_view_name": "LayoutView",
      "align_content": null,
      "align_items": null,
      "align_self": null,
      "border": null,
      "bottom": null,
      "display": null,
      "flex": null,
      "flex_flow": null,
      "grid_area": null,
      "grid_auto_columns": null,
      "grid_auto_flow": null,
      "grid_auto_rows": null,
      "grid_column": null,
      "grid_gap": null,
      "grid_row": null,
      "grid_template_areas": null,
      "grid_template_columns": null,
      "grid_template_rows": null,
      "height": null,
      "justify_content": null,
      "justify_items": null,
      "left": null,
      "margin": null,
      "max_height": null,
      "max_width": null,
      "min_height": null,
      "min_width": null,
      "object_fit": null,
      "object_position": null,
      "order": null,
      "overflow": null,
      "overflow_x": null,
      "overflow_y": null,
      "padding": null,
      "right": null,
      "top": null,
      "visibility": null,
      "width": null
     }
    },
    "4e8d707773844df69ae0ae13a4877ede": {
     "model_module": "@jupyter-widgets/controls",
     "model_module_version": "1.5.0",
     "model_name": "DescriptionStyleModel",
     "state": {
      "_model_module": "@jupyter-widgets/controls",
      "_model_module_version": "1.5.0",
      "_model_name": "DescriptionStyleModel",
      "_view_count": null,
      "_view_module": "@jupyter-widgets/base",
      "_view_module_version": "1.2.0",
      "_view_name": "StyleView",
      "description_width": ""
     }
    },
    "4eb0482c70324cf08edec3faa7f35470": {
     "model_module": "@jupyter-widgets/controls",
     "model_module_version": "1.5.0",
     "model_name": "DescriptionStyleModel",
     "state": {
      "_model_module": "@jupyter-widgets/controls",
      "_model_module_version": "1.5.0",
      "_model_name": "DescriptionStyleModel",
      "_view_count": null,
      "_view_module": "@jupyter-widgets/base",
      "_view_module_version": "1.2.0",
      "_view_name": "StyleView",
      "description_width": ""
     }
    },
    "4fbf999d27724699b86b6c3d917b729c": {
     "model_module": "@jupyter-widgets/controls",
     "model_module_version": "1.5.0",
     "model_name": "ProgressStyleModel",
     "state": {
      "_model_module": "@jupyter-widgets/controls",
      "_model_module_version": "1.5.0",
      "_model_name": "ProgressStyleModel",
      "_view_count": null,
      "_view_module": "@jupyter-widgets/base",
      "_view_module_version": "1.2.0",
      "_view_name": "StyleView",
      "bar_color": null,
      "description_width": ""
     }
    },
    "51b9af019e7a4114af56704020adb073": {
     "model_module": "@jupyter-widgets/controls",
     "model_module_version": "1.5.0",
     "model_name": "DescriptionStyleModel",
     "state": {
      "_model_module": "@jupyter-widgets/controls",
      "_model_module_version": "1.5.0",
      "_model_name": "DescriptionStyleModel",
      "_view_count": null,
      "_view_module": "@jupyter-widgets/base",
      "_view_module_version": "1.2.0",
      "_view_name": "StyleView",
      "description_width": ""
     }
    },
    "53b0e8fe6d674e49be682fb6207fddf9": {
     "model_module": "@jupyter-widgets/controls",
     "model_module_version": "1.5.0",
     "model_name": "HTMLModel",
     "state": {
      "_dom_classes": [],
      "_model_module": "@jupyter-widgets/controls",
      "_model_module_version": "1.5.0",
      "_model_name": "HTMLModel",
      "_view_count": null,
      "_view_module": "@jupyter-widgets/controls",
      "_view_module_version": "1.5.0",
      "_view_name": "HTMLView",
      "description": "",
      "description_tooltip": null,
      "layout": "IPY_MODEL_e2acbe24b6224a3c99cb795aa973dc8c",
      "placeholder": "​",
      "style": "IPY_MODEL_e9c146b6d9fc41d6a7e0c21f83f5f8bb",
      "value": " 9/9 [00:00&lt;00:00, 223.43it/s]"
     }
    },
    "55a2abb70f424a18836edde5684d4629": {
     "model_module": "@jupyter-widgets/controls",
     "model_module_version": "1.5.0",
     "model_name": "DescriptionStyleModel",
     "state": {
      "_model_module": "@jupyter-widgets/controls",
      "_model_module_version": "1.5.0",
      "_model_name": "DescriptionStyleModel",
      "_view_count": null,
      "_view_module": "@jupyter-widgets/base",
      "_view_module_version": "1.2.0",
      "_view_name": "StyleView",
      "description_width": ""
     }
    },
    "5831db4be22449af9de30450e60a5a97": {
     "model_module": "@jupyter-widgets/controls",
     "model_module_version": "1.5.0",
     "model_name": "DescriptionStyleModel",
     "state": {
      "_model_module": "@jupyter-widgets/controls",
      "_model_module_version": "1.5.0",
      "_model_name": "DescriptionStyleModel",
      "_view_count": null,
      "_view_module": "@jupyter-widgets/base",
      "_view_module_version": "1.2.0",
      "_view_name": "StyleView",
      "description_width": ""
     }
    },
    "585592b25c6043f3b938c230a09e7e03": {
     "model_module": "@jupyter-widgets/controls",
     "model_module_version": "1.5.0",
     "model_name": "DescriptionStyleModel",
     "state": {
      "_model_module": "@jupyter-widgets/controls",
      "_model_module_version": "1.5.0",
      "_model_name": "DescriptionStyleModel",
      "_view_count": null,
      "_view_module": "@jupyter-widgets/base",
      "_view_module_version": "1.2.0",
      "_view_name": "StyleView",
      "description_width": ""
     }
    },
    "5a2c0e20e5ec4ecc828981f7f4a6095a": {
     "model_module": "@jupyter-widgets/controls",
     "model_module_version": "1.5.0",
     "model_name": "HBoxModel",
     "state": {
      "_dom_classes": [],
      "_model_module": "@jupyter-widgets/controls",
      "_model_module_version": "1.5.0",
      "_model_name": "HBoxModel",
      "_view_count": null,
      "_view_module": "@jupyter-widgets/controls",
      "_view_module_version": "1.5.0",
      "_view_name": "HBoxView",
      "box_style": "",
      "children": [
       "IPY_MODEL_bd4737ff1f3e405cb9f57813ca3d7eca",
       "IPY_MODEL_f914b515911d4552aa8a653f836579a1",
       "IPY_MODEL_85c6531ae7d5414c85cda9e314693733"
      ],
      "layout": "IPY_MODEL_6f22aed76b264ac7b4c5e2abc3aad013"
     }
    },
    "5a3d8e83d0c8426ea812a46f72b405e1": {
     "model_module": "@jupyter-widgets/base",
     "model_module_version": "1.2.0",
     "model_name": "LayoutModel",
     "state": {
      "_model_module": "@jupyter-widgets/base",
      "_model_module_version": "1.2.0",
      "_model_name": "LayoutModel",
      "_view_count": null,
      "_view_module": "@jupyter-widgets/base",
      "_view_module_version": "1.2.0",
      "_view_name": "LayoutView",
      "align_content": null,
      "align_items": null,
      "align_self": null,
      "border": null,
      "bottom": null,
      "display": null,
      "flex": null,
      "flex_flow": null,
      "grid_area": null,
      "grid_auto_columns": null,
      "grid_auto_flow": null,
      "grid_auto_rows": null,
      "grid_column": null,
      "grid_gap": null,
      "grid_row": null,
      "grid_template_areas": null,
      "grid_template_columns": null,
      "grid_template_rows": null,
      "height": null,
      "justify_content": null,
      "justify_items": null,
      "left": null,
      "margin": null,
      "max_height": null,
      "max_width": null,
      "min_height": null,
      "min_width": null,
      "object_fit": null,
      "object_position": null,
      "order": null,
      "overflow": null,
      "overflow_x": null,
      "overflow_y": null,
      "padding": null,
      "right": null,
      "top": null,
      "visibility": null,
      "width": null
     }
    },
    "5cd1e36b4f764e8e89d5944f0368fdec": {
     "model_module": "@jupyter-widgets/controls",
     "model_module_version": "1.5.0",
     "model_name": "FloatProgressModel",
     "state": {
      "_dom_classes": [],
      "_model_module": "@jupyter-widgets/controls",
      "_model_module_version": "1.5.0",
      "_model_name": "FloatProgressModel",
      "_view_count": null,
      "_view_module": "@jupyter-widgets/controls",
      "_view_module_version": "1.5.0",
      "_view_name": "ProgressView",
      "bar_style": "success",
      "description": "",
      "description_tooltip": null,
      "layout": "IPY_MODEL_244cc16ad8f64de6bf2bfe034de82b44",
      "max": 9,
      "min": 0,
      "orientation": "horizontal",
      "style": "IPY_MODEL_83e5091fa5604787ab011a30752da40f",
      "value": 9
     }
    },
    "5eb459b7d6cc48d5b3eac0617d4de3e8": {
     "model_module": "@jupyter-widgets/controls",
     "model_module_version": "1.5.0",
     "model_name": "FloatProgressModel",
     "state": {
      "_dom_classes": [],
      "_model_module": "@jupyter-widgets/controls",
      "_model_module_version": "1.5.0",
      "_model_name": "FloatProgressModel",
      "_view_count": null,
      "_view_module": "@jupyter-widgets/controls",
      "_view_module_version": "1.5.0",
      "_view_name": "ProgressView",
      "bar_style": "success",
      "description": "",
      "description_tooltip": null,
      "layout": "IPY_MODEL_b9c9f45d73d04adebabd043b9e2fcf3c",
      "max": 9,
      "min": 0,
      "orientation": "horizontal",
      "style": "IPY_MODEL_4a8cc59153fa4780b6dbf597886027b7",
      "value": 9
     }
    },
    "5f07e2737051433ea609a1728c642ab7": {
     "model_module": "@jupyter-widgets/base",
     "model_module_version": "1.2.0",
     "model_name": "LayoutModel",
     "state": {
      "_model_module": "@jupyter-widgets/base",
      "_model_module_version": "1.2.0",
      "_model_name": "LayoutModel",
      "_view_count": null,
      "_view_module": "@jupyter-widgets/base",
      "_view_module_version": "1.2.0",
      "_view_name": "LayoutView",
      "align_content": null,
      "align_items": null,
      "align_self": null,
      "border": null,
      "bottom": null,
      "display": null,
      "flex": null,
      "flex_flow": null,
      "grid_area": null,
      "grid_auto_columns": null,
      "grid_auto_flow": null,
      "grid_auto_rows": null,
      "grid_column": null,
      "grid_gap": null,
      "grid_row": null,
      "grid_template_areas": null,
      "grid_template_columns": null,
      "grid_template_rows": null,
      "height": null,
      "justify_content": null,
      "justify_items": null,
      "left": null,
      "margin": null,
      "max_height": null,
      "max_width": null,
      "min_height": null,
      "min_width": null,
      "object_fit": null,
      "object_position": null,
      "order": null,
      "overflow": null,
      "overflow_x": null,
      "overflow_y": null,
      "padding": null,
      "right": null,
      "top": null,
      "visibility": null,
      "width": null
     }
    },
    "5f7789d733414845b3b678f8e3175c59": {
     "model_module": "@jupyter-widgets/controls",
     "model_module_version": "1.5.0",
     "model_name": "FloatProgressModel",
     "state": {
      "_dom_classes": [],
      "_model_module": "@jupyter-widgets/controls",
      "_model_module_version": "1.5.0",
      "_model_name": "FloatProgressModel",
      "_view_count": null,
      "_view_module": "@jupyter-widgets/controls",
      "_view_module_version": "1.5.0",
      "_view_name": "ProgressView",
      "bar_style": "success",
      "description": "",
      "description_tooltip": null,
      "layout": "IPY_MODEL_d93acb49fded441fbac51495cd416f99",
      "max": 9,
      "min": 0,
      "orientation": "horizontal",
      "style": "IPY_MODEL_3bf561c40d3240f2a02e44028b0e2101",
      "value": 9
     }
    },
    "62c0df7f46e14233925185ef496e9d8b": {
     "model_module": "@jupyter-widgets/controls",
     "model_module_version": "1.5.0",
     "model_name": "HTMLModel",
     "state": {
      "_dom_classes": [],
      "_model_module": "@jupyter-widgets/controls",
      "_model_module_version": "1.5.0",
      "_model_name": "HTMLModel",
      "_view_count": null,
      "_view_module": "@jupyter-widgets/controls",
      "_view_module_version": "1.5.0",
      "_view_name": "HTMLView",
      "description": "",
      "description_tooltip": null,
      "layout": "IPY_MODEL_91706bf038c745c5bcff7ee8752929ed",
      "placeholder": "​",
      "style": "IPY_MODEL_585592b25c6043f3b938c230a09e7e03",
      "value": "Extracting keywords from nodes: 100%"
     }
    },
    "63b6072f458c498ab2db221695f0f8e5": {
     "model_module": "@jupyter-widgets/controls",
     "model_module_version": "1.5.0",
     "model_name": "HTMLModel",
     "state": {
      "_dom_classes": [],
      "_model_module": "@jupyter-widgets/controls",
      "_model_module_version": "1.5.0",
      "_model_name": "HTMLModel",
      "_view_count": null,
      "_view_module": "@jupyter-widgets/controls",
      "_view_module_version": "1.5.0",
      "_view_name": "HTMLView",
      "description": "",
      "description_tooltip": null,
      "layout": "IPY_MODEL_3f938d6311a44a7b939514c46ef0ca85",
      "placeholder": "​",
      "style": "IPY_MODEL_40a4e5738af24c01aeeab8668f0cf1b8",
      "value": "Parsing nodes: 100%"
     }
    },
    "63cd597623ef4a61a9cb5afbf6f6b951": {
     "model_module": "@jupyter-widgets/controls",
     "model_module_version": "1.5.0",
     "model_name": "FloatProgressModel",
     "state": {
      "_dom_classes": [],
      "_model_module": "@jupyter-widgets/controls",
      "_model_module_version": "1.5.0",
      "_model_name": "FloatProgressModel",
      "_view_count": null,
      "_view_module": "@jupyter-widgets/controls",
      "_view_module_version": "1.5.0",
      "_view_name": "ProgressView",
      "bar_style": "success",
      "description": "",
      "description_tooltip": null,
      "layout": "IPY_MODEL_c409f0d13499402fba892d129120b36e",
      "max": 9,
      "min": 0,
      "orientation": "horizontal",
      "style": "IPY_MODEL_9adac731c35f48108c2a177576c9f22a",
      "value": 9
     }
    },
    "64d9874d5f2a4f5a9e43f8c299760289": {
     "model_module": "@jupyter-widgets/base",
     "model_module_version": "1.2.0",
     "model_name": "LayoutModel",
     "state": {
      "_model_module": "@jupyter-widgets/base",
      "_model_module_version": "1.2.0",
      "_model_name": "LayoutModel",
      "_view_count": null,
      "_view_module": "@jupyter-widgets/base",
      "_view_module_version": "1.2.0",
      "_view_name": "LayoutView",
      "align_content": null,
      "align_items": null,
      "align_self": null,
      "border": null,
      "bottom": null,
      "display": null,
      "flex": null,
      "flex_flow": null,
      "grid_area": null,
      "grid_auto_columns": null,
      "grid_auto_flow": null,
      "grid_auto_rows": null,
      "grid_column": null,
      "grid_gap": null,
      "grid_row": null,
      "grid_template_areas": null,
      "grid_template_columns": null,
      "grid_template_rows": null,
      "height": null,
      "justify_content": null,
      "justify_items": null,
      "left": null,
      "margin": null,
      "max_height": null,
      "max_width": null,
      "min_height": null,
      "min_width": null,
      "object_fit": null,
      "object_position": null,
      "order": null,
      "overflow": null,
      "overflow_x": null,
      "overflow_y": null,
      "padding": null,
      "right": null,
      "top": null,
      "visibility": null,
      "width": null
     }
    },
    "6a46a844a28f46b7b98d61e4a86d58ec": {
     "model_module": "@jupyter-widgets/controls",
     "model_module_version": "1.5.0",
     "model_name": "HTMLModel",
     "state": {
      "_dom_classes": [],
      "_model_module": "@jupyter-widgets/controls",
      "_model_module_version": "1.5.0",
      "_model_name": "HTMLModel",
      "_view_count": null,
      "_view_module": "@jupyter-widgets/controls",
      "_view_module_version": "1.5.0",
      "_view_name": "HTMLView",
      "description": "",
      "description_tooltip": null,
      "layout": "IPY_MODEL_ee7155ca310b4ede98bc94b072e233e8",
      "placeholder": "​",
      "style": "IPY_MODEL_4e8d707773844df69ae0ae13a4877ede",
      "value": " 9/9 [00:00&lt;00:00, 274.78it/s]"
     }
    },
    "6ad9593efbcd49c99490d7bbbc9fb424": {
     "model_module": "@jupyter-widgets/controls",
     "model_module_version": "1.5.0",
     "model_name": "HBoxModel",
     "state": {
      "_dom_classes": [],
      "_model_module": "@jupyter-widgets/controls",
      "_model_module_version": "1.5.0",
      "_model_name": "HBoxModel",
      "_view_count": null,
      "_view_module": "@jupyter-widgets/controls",
      "_view_module_version": "1.5.0",
      "_view_name": "HBoxView",
      "box_style": "",
      "children": [
       "IPY_MODEL_ca5c5c1d7627480c9785650685a64314",
       "IPY_MODEL_e89ce1e2eb924228894a9caf8aed5eb1",
       "IPY_MODEL_49fb4e9352fd4f9aa47a436ea0e9ee00"
      ],
      "layout": "IPY_MODEL_2340220022724036899cd385eee591cb"
     }
    },
    "6c80e814cfd14744b9c05820ae52043e": {
     "model_module": "@jupyter-widgets/base",
     "model_module_version": "1.2.0",
     "model_name": "LayoutModel",
     "state": {
      "_model_module": "@jupyter-widgets/base",
      "_model_module_version": "1.2.0",
      "_model_name": "LayoutModel",
      "_view_count": null,
      "_view_module": "@jupyter-widgets/base",
      "_view_module_version": "1.2.0",
      "_view_name": "LayoutView",
      "align_content": null,
      "align_items": null,
      "align_self": null,
      "border": null,
      "bottom": null,
      "display": null,
      "flex": null,
      "flex_flow": null,
      "grid_area": null,
      "grid_auto_columns": null,
      "grid_auto_flow": null,
      "grid_auto_rows": null,
      "grid_column": null,
      "grid_gap": null,
      "grid_row": null,
      "grid_template_areas": null,
      "grid_template_columns": null,
      "grid_template_rows": null,
      "height": null,
      "justify_content": null,
      "justify_items": null,
      "left": null,
      "margin": null,
      "max_height": null,
      "max_width": null,
      "min_height": null,
      "min_width": null,
      "object_fit": null,
      "object_position": null,
      "order": null,
      "overflow": null,
      "overflow_x": null,
      "overflow_y": null,
      "padding": null,
      "right": null,
      "top": null,
      "visibility": null,
      "width": null
     }
    },
    "6d9b1ace3f8d48cabc0b66bf3630547d": {
     "model_module": "@jupyter-widgets/controls",
     "model_module_version": "1.5.0",
     "model_name": "DescriptionStyleModel",
     "state": {
      "_model_module": "@jupyter-widgets/controls",
      "_model_module_version": "1.5.0",
      "_model_name": "DescriptionStyleModel",
      "_view_count": null,
      "_view_module": "@jupyter-widgets/base",
      "_view_module_version": "1.2.0",
      "_view_name": "StyleView",
      "description_width": ""
     }
    },
    "6dc814ca22e74a2a84ad0df638493b80": {
     "model_module": "@jupyter-widgets/controls",
     "model_module_version": "1.5.0",
     "model_name": "ProgressStyleModel",
     "state": {
      "_model_module": "@jupyter-widgets/controls",
      "_model_module_version": "1.5.0",
      "_model_name": "ProgressStyleModel",
      "_view_count": null,
      "_view_module": "@jupyter-widgets/base",
      "_view_module_version": "1.2.0",
      "_view_name": "StyleView",
      "bar_color": null,
      "description_width": ""
     }
    },
    "6dd87a5d12314693b598cdf0f57a6dca": {
     "model_module": "@jupyter-widgets/controls",
     "model_module_version": "1.5.0",
     "model_name": "DescriptionStyleModel",
     "state": {
      "_model_module": "@jupyter-widgets/controls",
      "_model_module_version": "1.5.0",
      "_model_name": "DescriptionStyleModel",
      "_view_count": null,
      "_view_module": "@jupyter-widgets/base",
      "_view_module_version": "1.2.0",
      "_view_name": "StyleView",
      "description_width": ""
     }
    },
    "6edcf020896a48c289085adf65f695e8": {
     "model_module": "@jupyter-widgets/controls",
     "model_module_version": "1.5.0",
     "model_name": "FloatProgressModel",
     "state": {
      "_dom_classes": [],
      "_model_module": "@jupyter-widgets/controls",
      "_model_module_version": "1.5.0",
      "_model_name": "FloatProgressModel",
      "_view_count": null,
      "_view_module": "@jupyter-widgets/controls",
      "_view_module_version": "1.5.0",
      "_view_name": "ProgressView",
      "bar_style": "success",
      "description": "",
      "description_tooltip": null,
      "layout": "IPY_MODEL_414e20662cd44845aba3a0140c236316",
      "max": 9,
      "min": 0,
      "orientation": "horizontal",
      "style": "IPY_MODEL_bab8ae14980a4557b42d94e9b5e0b1b9",
      "value": 9
     }
    },
    "6f22aed76b264ac7b4c5e2abc3aad013": {
     "model_module": "@jupyter-widgets/base",
     "model_module_version": "1.2.0",
     "model_name": "LayoutModel",
     "state": {
      "_model_module": "@jupyter-widgets/base",
      "_model_module_version": "1.2.0",
      "_model_name": "LayoutModel",
      "_view_count": null,
      "_view_module": "@jupyter-widgets/base",
      "_view_module_version": "1.2.0",
      "_view_name": "LayoutView",
      "align_content": null,
      "align_items": null,
      "align_self": null,
      "border": null,
      "bottom": null,
      "display": null,
      "flex": null,
      "flex_flow": null,
      "grid_area": null,
      "grid_auto_columns": null,
      "grid_auto_flow": null,
      "grid_auto_rows": null,
      "grid_column": null,
      "grid_gap": null,
      "grid_row": null,
      "grid_template_areas": null,
      "grid_template_columns": null,
      "grid_template_rows": null,
      "height": null,
      "justify_content": null,
      "justify_items": null,
      "left": null,
      "margin": null,
      "max_height": null,
      "max_width": null,
      "min_height": null,
      "min_width": null,
      "object_fit": null,
      "object_position": null,
      "order": null,
      "overflow": null,
      "overflow_x": null,
      "overflow_y": null,
      "padding": null,
      "right": null,
      "top": null,
      "visibility": null,
      "width": null
     }
    },
    "70f32c743358401a851d027874b67fb4": {
     "model_module": "@jupyter-widgets/base",
     "model_module_version": "1.2.0",
     "model_name": "LayoutModel",
     "state": {
      "_model_module": "@jupyter-widgets/base",
      "_model_module_version": "1.2.0",
      "_model_name": "LayoutModel",
      "_view_count": null,
      "_view_module": "@jupyter-widgets/base",
      "_view_module_version": "1.2.0",
      "_view_name": "LayoutView",
      "align_content": null,
      "align_items": null,
      "align_self": null,
      "border": null,
      "bottom": null,
      "display": null,
      "flex": null,
      "flex_flow": null,
      "grid_area": null,
      "grid_auto_columns": null,
      "grid_auto_flow": null,
      "grid_auto_rows": null,
      "grid_column": null,
      "grid_gap": null,
      "grid_row": null,
      "grid_template_areas": null,
      "grid_template_columns": null,
      "grid_template_rows": null,
      "height": null,
      "justify_content": null,
      "justify_items": null,
      "left": null,
      "margin": null,
      "max_height": null,
      "max_width": null,
      "min_height": null,
      "min_width": null,
      "object_fit": null,
      "object_position": null,
      "order": null,
      "overflow": null,
      "overflow_x": null,
      "overflow_y": null,
      "padding": null,
      "right": null,
      "top": null,
      "visibility": null,
      "width": null
     }
    },
    "71041ba2ed144362a48f20b9bdbdcd45": {
     "model_module": "@jupyter-widgets/controls",
     "model_module_version": "1.5.0",
     "model_name": "HTMLModel",
     "state": {
      "_dom_classes": [],
      "_model_module": "@jupyter-widgets/controls",
      "_model_module_version": "1.5.0",
      "_model_name": "HTMLModel",
      "_view_count": null,
      "_view_module": "@jupyter-widgets/controls",
      "_view_module_version": "1.5.0",
      "_view_name": "HTMLView",
      "description": "",
      "description_tooltip": null,
      "layout": "IPY_MODEL_9a6e8914164040fd9a13dfb051818cf9",
      "placeholder": "​",
      "style": "IPY_MODEL_9afcdcc87b6c444aac2d92f4df92c35c",
      "value": "Parsing nodes: 100%"
     }
    },
    "710fdb6588bd422bb09e049c18feab9b": {
     "model_module": "@jupyter-widgets/base",
     "model_module_version": "1.2.0",
     "model_name": "LayoutModel",
     "state": {
      "_model_module": "@jupyter-widgets/base",
      "_model_module_version": "1.2.0",
      "_model_name": "LayoutModel",
      "_view_count": null,
      "_view_module": "@jupyter-widgets/base",
      "_view_module_version": "1.2.0",
      "_view_name": "LayoutView",
      "align_content": null,
      "align_items": null,
      "align_self": null,
      "border": null,
      "bottom": null,
      "display": null,
      "flex": null,
      "flex_flow": null,
      "grid_area": null,
      "grid_auto_columns": null,
      "grid_auto_flow": null,
      "grid_auto_rows": null,
      "grid_column": null,
      "grid_gap": null,
      "grid_row": null,
      "grid_template_areas": null,
      "grid_template_columns": null,
      "grid_template_rows": null,
      "height": null,
      "justify_content": null,
      "justify_items": null,
      "left": null,
      "margin": null,
      "max_height": null,
      "max_width": null,
      "min_height": null,
      "min_width": null,
      "object_fit": null,
      "object_position": null,
      "order": null,
      "overflow": null,
      "overflow_x": null,
      "overflow_y": null,
      "padding": null,
      "right": null,
      "top": null,
      "visibility": null,
      "width": null
     }
    },
    "77791193a8714b139fde91b4bac92856": {
     "model_module": "@jupyter-widgets/base",
     "model_module_version": "1.2.0",
     "model_name": "LayoutModel",
     "state": {
      "_model_module": "@jupyter-widgets/base",
      "_model_module_version": "1.2.0",
      "_model_name": "LayoutModel",
      "_view_count": null,
      "_view_module": "@jupyter-widgets/base",
      "_view_module_version": "1.2.0",
      "_view_name": "LayoutView",
      "align_content": null,
      "align_items": null,
      "align_self": null,
      "border": null,
      "bottom": null,
      "display": null,
      "flex": null,
      "flex_flow": null,
      "grid_area": null,
      "grid_auto_columns": null,
      "grid_auto_flow": null,
      "grid_auto_rows": null,
      "grid_column": null,
      "grid_gap": null,
      "grid_row": null,
      "grid_template_areas": null,
      "grid_template_columns": null,
      "grid_template_rows": null,
      "height": null,
      "justify_content": null,
      "justify_items": null,
      "left": null,
      "margin": null,
      "max_height": null,
      "max_width": null,
      "min_height": null,
      "min_width": null,
      "object_fit": null,
      "object_position": null,
      "order": null,
      "overflow": null,
      "overflow_x": null,
      "overflow_y": null,
      "padding": null,
      "right": null,
      "top": null,
      "visibility": null,
      "width": null
     }
    },
    "78f8c0ffedcd4b119783854ba906f7de": {
     "model_module": "@jupyter-widgets/controls",
     "model_module_version": "1.5.0",
     "model_name": "HBoxModel",
     "state": {
      "_dom_classes": [],
      "_model_module": "@jupyter-widgets/controls",
      "_model_module_version": "1.5.0",
      "_model_name": "HBoxModel",
      "_view_count": null,
      "_view_module": "@jupyter-widgets/controls",
      "_view_module_version": "1.5.0",
      "_view_name": "HBoxView",
      "box_style": "",
      "children": [
       "IPY_MODEL_cc31816f55704cfa8a930b1e32a79f17",
       "IPY_MODEL_6edcf020896a48c289085adf65f695e8",
       "IPY_MODEL_842074bfda6f4915a752ec3b3d23be38"
      ],
      "layout": "IPY_MODEL_1d52c3d1f75248c192993359d09a15b0"
     }
    },
    "7ba24ca25c49494f8f6d2f5edee193b3": {
     "model_module": "@jupyter-widgets/controls",
     "model_module_version": "1.5.0",
     "model_name": "HTMLModel",
     "state": {
      "_dom_classes": [],
      "_model_module": "@jupyter-widgets/controls",
      "_model_module_version": "1.5.0",
      "_model_name": "HTMLModel",
      "_view_count": null,
      "_view_module": "@jupyter-widgets/controls",
      "_view_module_version": "1.5.0",
      "_view_name": "HTMLView",
      "description": "",
      "description_tooltip": null,
      "layout": "IPY_MODEL_a00b4f5ce93241319e9008fa35deb60e",
      "placeholder": "​",
      "style": "IPY_MODEL_d246b7f624b64ad3b810807f5f1fc653",
      "value": " 9/9 [00:24&lt;00:00,  2.23s/it]"
     }
    },
    "814febcbb02a4946aed9de2a8ccbdb3d": {
     "model_module": "@jupyter-widgets/base",
     "model_module_version": "1.2.0",
     "model_name": "LayoutModel",
     "state": {
      "_model_module": "@jupyter-widgets/base",
      "_model_module_version": "1.2.0",
      "_model_name": "LayoutModel",
      "_view_count": null,
      "_view_module": "@jupyter-widgets/base",
      "_view_module_version": "1.2.0",
      "_view_name": "LayoutView",
      "align_content": null,
      "align_items": null,
      "align_self": null,
      "border": null,
      "bottom": null,
      "display": null,
      "flex": null,
      "flex_flow": null,
      "grid_area": null,
      "grid_auto_columns": null,
      "grid_auto_flow": null,
      "grid_auto_rows": null,
      "grid_column": null,
      "grid_gap": null,
      "grid_row": null,
      "grid_template_areas": null,
      "grid_template_columns": null,
      "grid_template_rows": null,
      "height": null,
      "justify_content": null,
      "justify_items": null,
      "left": null,
      "margin": null,
      "max_height": null,
      "max_width": null,
      "min_height": null,
      "min_width": null,
      "object_fit": null,
      "object_position": null,
      "order": null,
      "overflow": null,
      "overflow_x": null,
      "overflow_y": null,
      "padding": null,
      "right": null,
      "top": null,
      "visibility": null,
      "width": null
     }
    },
    "82417c017d4049c2bab16f4ace02de7f": {
     "model_module": "@jupyter-widgets/base",
     "model_module_version": "1.2.0",
     "model_name": "LayoutModel",
     "state": {
      "_model_module": "@jupyter-widgets/base",
      "_model_module_version": "1.2.0",
      "_model_name": "LayoutModel",
      "_view_count": null,
      "_view_module": "@jupyter-widgets/base",
      "_view_module_version": "1.2.0",
      "_view_name": "LayoutView",
      "align_content": null,
      "align_items": null,
      "align_self": null,
      "border": null,
      "bottom": null,
      "display": null,
      "flex": null,
      "flex_flow": null,
      "grid_area": null,
      "grid_auto_columns": null,
      "grid_auto_flow": null,
      "grid_auto_rows": null,
      "grid_column": null,
      "grid_gap": null,
      "grid_row": null,
      "grid_template_areas": null,
      "grid_template_columns": null,
      "grid_template_rows": null,
      "height": null,
      "justify_content": null,
      "justify_items": null,
      "left": null,
      "margin": null,
      "max_height": null,
      "max_width": null,
      "min_height": null,
      "min_width": null,
      "object_fit": null,
      "object_position": null,
      "order": null,
      "overflow": null,
      "overflow_x": null,
      "overflow_y": null,
      "padding": null,
      "right": null,
      "top": null,
      "visibility": null,
      "width": null
     }
    },
    "83e5091fa5604787ab011a30752da40f": {
     "model_module": "@jupyter-widgets/controls",
     "model_module_version": "1.5.0",
     "model_name": "ProgressStyleModel",
     "state": {
      "_model_module": "@jupyter-widgets/controls",
      "_model_module_version": "1.5.0",
      "_model_name": "ProgressStyleModel",
      "_view_count": null,
      "_view_module": "@jupyter-widgets/base",
      "_view_module_version": "1.2.0",
      "_view_name": "StyleView",
      "bar_color": null,
      "description_width": ""
     }
    },
    "842074bfda6f4915a752ec3b3d23be38": {
     "model_module": "@jupyter-widgets/controls",
     "model_module_version": "1.5.0",
     "model_name": "HTMLModel",
     "state": {
      "_dom_classes": [],
      "_model_module": "@jupyter-widgets/controls",
      "_model_module_version": "1.5.0",
      "_model_name": "HTMLModel",
      "_view_count": null,
      "_view_module": "@jupyter-widgets/controls",
      "_view_module_version": "1.5.0",
      "_view_name": "HTMLView",
      "description": "",
      "description_tooltip": null,
      "layout": "IPY_MODEL_0a6ee1b0bf6a4270afaa4bc242587a6f",
      "placeholder": "​",
      "style": "IPY_MODEL_4ab408fd9a2b469293f69d6aa5d82377",
      "value": " 9/9 [00:00&lt;00:00, 267.31it/s]"
     }
    },
    "85c6531ae7d5414c85cda9e314693733": {
     "model_module": "@jupyter-widgets/controls",
     "model_module_version": "1.5.0",
     "model_name": "HTMLModel",
     "state": {
      "_dom_classes": [],
      "_model_module": "@jupyter-widgets/controls",
      "_model_module_version": "1.5.0",
      "_model_name": "HTMLModel",
      "_view_count": null,
      "_view_module": "@jupyter-widgets/controls",
      "_view_module_version": "1.5.0",
      "_view_name": "HTMLView",
      "description": "",
      "description_tooltip": null,
      "layout": "IPY_MODEL_5a3d8e83d0c8426ea812a46f72b405e1",
      "placeholder": "​",
      "style": "IPY_MODEL_fb22aaeb86bb40b18830f8737da26dc6",
      "value": " 9/9 [00:00&lt;00:00, 218.87it/s]"
     }
    },
    "883d2847cfb94453bcb382a1b6c1d7e0": {
     "model_module": "@jupyter-widgets/controls",
     "model_module_version": "1.5.0",
     "model_name": "HBoxModel",
     "state": {
      "_dom_classes": [],
      "_model_module": "@jupyter-widgets/controls",
      "_model_module_version": "1.5.0",
      "_model_name": "HBoxModel",
      "_view_count": null,
      "_view_module": "@jupyter-widgets/controls",
      "_view_module_version": "1.5.0",
      "_view_name": "HBoxView",
      "box_style": "",
      "children": [
       "IPY_MODEL_63b6072f458c498ab2db221695f0f8e5",
       "IPY_MODEL_5f7789d733414845b3b678f8e3175c59",
       "IPY_MODEL_d25d5f219cc6412a9e71908900501ef4"
      ],
      "layout": "IPY_MODEL_b76c900efa3c47389858f39d9a7d1230"
     }
    },
    "8b7ecd2e93ca4a4d9fc6259ba425a6f2": {
     "model_module": "@jupyter-widgets/controls",
     "model_module_version": "1.5.0",
     "model_name": "HBoxModel",
     "state": {
      "_dom_classes": [],
      "_model_module": "@jupyter-widgets/controls",
      "_model_module_version": "1.5.0",
      "_model_name": "HBoxModel",
      "_view_count": null,
      "_view_module": "@jupyter-widgets/controls",
      "_view_module_version": "1.5.0",
      "_view_name": "HBoxView",
      "box_style": "",
      "children": [
       "IPY_MODEL_d2326908c2954e979eb3135427f903b0",
       "IPY_MODEL_d11bdd3cd2d34d25b42788516049668b",
       "IPY_MODEL_20af49332562427f9cb015673828ca04"
      ],
      "layout": "IPY_MODEL_326addf309b149478306b4d6a8832f55"
     }
    },
    "8fa82ed551174d6bb86e5bc99e07a474": {
     "model_module": "@jupyter-widgets/controls",
     "model_module_version": "1.5.0",
     "model_name": "HTMLModel",
     "state": {
      "_dom_classes": [],
      "_model_module": "@jupyter-widgets/controls",
      "_model_module_version": "1.5.0",
      "_model_name": "HTMLModel",
      "_view_count": null,
      "_view_module": "@jupyter-widgets/controls",
      "_view_module_version": "1.5.0",
      "_view_name": "HTMLView",
      "description": "",
      "description_tooltip": null,
      "layout": "IPY_MODEL_0a7e3572589e4865bc505e5c8f6311ef",
      "placeholder": "​",
      "style": "IPY_MODEL_6dd87a5d12314693b598cdf0f57a6dca",
      "value": "Generating embeddings: 100%"
     }
    },
    "8fbc4f2ad5214d17840a844ed00aa8af": {
     "model_module": "@jupyter-widgets/base",
     "model_module_version": "1.2.0",
     "model_name": "LayoutModel",
     "state": {
      "_model_module": "@jupyter-widgets/base",
      "_model_module_version": "1.2.0",
      "_model_name": "LayoutModel",
      "_view_count": null,
      "_view_module": "@jupyter-widgets/base",
      "_view_module_version": "1.2.0",
      "_view_name": "LayoutView",
      "align_content": null,
      "align_items": null,
      "align_self": null,
      "border": null,
      "bottom": null,
      "display": null,
      "flex": null,
      "flex_flow": null,
      "grid_area": null,
      "grid_auto_columns": null,
      "grid_auto_flow": null,
      "grid_auto_rows": null,
      "grid_column": null,
      "grid_gap": null,
      "grid_row": null,
      "grid_template_areas": null,
      "grid_template_columns": null,
      "grid_template_rows": null,
      "height": null,
      "justify_content": null,
      "justify_items": null,
      "left": null,
      "margin": null,
      "max_height": null,
      "max_width": null,
      "min_height": null,
      "min_width": null,
      "object_fit": null,
      "object_position": null,
      "order": null,
      "overflow": null,
      "overflow_x": null,
      "overflow_y": null,
      "padding": null,
      "right": null,
      "top": null,
      "visibility": null,
      "width": null
     }
    },
    "909569508da94d4a89aecbd2e2cd6dc8": {
     "model_module": "@jupyter-widgets/base",
     "model_module_version": "1.2.0",
     "model_name": "LayoutModel",
     "state": {
      "_model_module": "@jupyter-widgets/base",
      "_model_module_version": "1.2.0",
      "_model_name": "LayoutModel",
      "_view_count": null,
      "_view_module": "@jupyter-widgets/base",
      "_view_module_version": "1.2.0",
      "_view_name": "LayoutView",
      "align_content": null,
      "align_items": null,
      "align_self": null,
      "border": null,
      "bottom": null,
      "display": null,
      "flex": null,
      "flex_flow": null,
      "grid_area": null,
      "grid_auto_columns": null,
      "grid_auto_flow": null,
      "grid_auto_rows": null,
      "grid_column": null,
      "grid_gap": null,
      "grid_row": null,
      "grid_template_areas": null,
      "grid_template_columns": null,
      "grid_template_rows": null,
      "height": null,
      "justify_content": null,
      "justify_items": null,
      "left": null,
      "margin": null,
      "max_height": null,
      "max_width": null,
      "min_height": null,
      "min_width": null,
      "object_fit": null,
      "object_position": null,
      "order": null,
      "overflow": null,
      "overflow_x": null,
      "overflow_y": null,
      "padding": null,
      "right": null,
      "top": null,
      "visibility": null,
      "width": null
     }
    },
    "91706bf038c745c5bcff7ee8752929ed": {
     "model_module": "@jupyter-widgets/base",
     "model_module_version": "1.2.0",
     "model_name": "LayoutModel",
     "state": {
      "_model_module": "@jupyter-widgets/base",
      "_model_module_version": "1.2.0",
      "_model_name": "LayoutModel",
      "_view_count": null,
      "_view_module": "@jupyter-widgets/base",
      "_view_module_version": "1.2.0",
      "_view_name": "LayoutView",
      "align_content": null,
      "align_items": null,
      "align_self": null,
      "border": null,
      "bottom": null,
      "display": null,
      "flex": null,
      "flex_flow": null,
      "grid_area": null,
      "grid_auto_columns": null,
      "grid_auto_flow": null,
      "grid_auto_rows": null,
      "grid_column": null,
      "grid_gap": null,
      "grid_row": null,
      "grid_template_areas": null,
      "grid_template_columns": null,
      "grid_template_rows": null,
      "height": null,
      "justify_content": null,
      "justify_items": null,
      "left": null,
      "margin": null,
      "max_height": null,
      "max_width": null,
      "min_height": null,
      "min_width": null,
      "object_fit": null,
      "object_position": null,
      "order": null,
      "overflow": null,
      "overflow_x": null,
      "overflow_y": null,
      "padding": null,
      "right": null,
      "top": null,
      "visibility": null,
      "width": null
     }
    },
    "923c164d57574b0b80de6f5f30eb9a1b": {
     "model_module": "@jupyter-widgets/base",
     "model_module_version": "1.2.0",
     "model_name": "LayoutModel",
     "state": {
      "_model_module": "@jupyter-widgets/base",
      "_model_module_version": "1.2.0",
      "_model_name": "LayoutModel",
      "_view_count": null,
      "_view_module": "@jupyter-widgets/base",
      "_view_module_version": "1.2.0",
      "_view_name": "LayoutView",
      "align_content": null,
      "align_items": null,
      "align_self": null,
      "border": null,
      "bottom": null,
      "display": null,
      "flex": null,
      "flex_flow": null,
      "grid_area": null,
      "grid_auto_columns": null,
      "grid_auto_flow": null,
      "grid_auto_rows": null,
      "grid_column": null,
      "grid_gap": null,
      "grid_row": null,
      "grid_template_areas": null,
      "grid_template_columns": null,
      "grid_template_rows": null,
      "height": null,
      "justify_content": null,
      "justify_items": null,
      "left": null,
      "margin": null,
      "max_height": null,
      "max_width": null,
      "min_height": null,
      "min_width": null,
      "object_fit": null,
      "object_position": null,
      "order": null,
      "overflow": null,
      "overflow_x": null,
      "overflow_y": null,
      "padding": null,
      "right": null,
      "top": null,
      "visibility": null,
      "width": null
     }
    },
    "92c503df6883482fb96845b3e2e87377": {
     "model_module": "@jupyter-widgets/controls",
     "model_module_version": "1.5.0",
     "model_name": "FloatProgressModel",
     "state": {
      "_dom_classes": [],
      "_model_module": "@jupyter-widgets/controls",
      "_model_module_version": "1.5.0",
      "_model_name": "FloatProgressModel",
      "_view_count": null,
      "_view_module": "@jupyter-widgets/controls",
      "_view_module_version": "1.5.0",
      "_view_name": "ProgressView",
      "bar_style": "success",
      "description": "",
      "description_tooltip": null,
      "layout": "IPY_MODEL_34be21093b6545a7979734207d0fa8b2",
      "max": 9,
      "min": 0,
      "orientation": "horizontal",
      "style": "IPY_MODEL_edc249291cf749a2a78d7b3595b8c7df",
      "value": 9
     }
    },
    "94ce158c9a09485f8d285a25cd81c105": {
     "model_module": "@jupyter-widgets/base",
     "model_module_version": "1.2.0",
     "model_name": "LayoutModel",
     "state": {
      "_model_module": "@jupyter-widgets/base",
      "_model_module_version": "1.2.0",
      "_model_name": "LayoutModel",
      "_view_count": null,
      "_view_module": "@jupyter-widgets/base",
      "_view_module_version": "1.2.0",
      "_view_name": "LayoutView",
      "align_content": null,
      "align_items": null,
      "align_self": null,
      "border": null,
      "bottom": null,
      "display": null,
      "flex": null,
      "flex_flow": null,
      "grid_area": null,
      "grid_auto_columns": null,
      "grid_auto_flow": null,
      "grid_auto_rows": null,
      "grid_column": null,
      "grid_gap": null,
      "grid_row": null,
      "grid_template_areas": null,
      "grid_template_columns": null,
      "grid_template_rows": null,
      "height": null,
      "justify_content": null,
      "justify_items": null,
      "left": null,
      "margin": null,
      "max_height": null,
      "max_width": null,
      "min_height": null,
      "min_width": null,
      "object_fit": null,
      "object_position": null,
      "order": null,
      "overflow": null,
      "overflow_x": null,
      "overflow_y": null,
      "padding": null,
      "right": null,
      "top": null,
      "visibility": null,
      "width": null
     }
    },
    "95e9cef0aabc47a7bbd12325e66ca9b2": {
     "model_module": "@jupyter-widgets/controls",
     "model_module_version": "1.5.0",
     "model_name": "DescriptionStyleModel",
     "state": {
      "_model_module": "@jupyter-widgets/controls",
      "_model_module_version": "1.5.0",
      "_model_name": "DescriptionStyleModel",
      "_view_count": null,
      "_view_module": "@jupyter-widgets/base",
      "_view_module_version": "1.2.0",
      "_view_name": "StyleView",
      "description_width": ""
     }
    },
    "9622de93dc4f49c2b5cd740477df2acd": {
     "model_module": "@jupyter-widgets/controls",
     "model_module_version": "1.5.0",
     "model_name": "ProgressStyleModel",
     "state": {
      "_model_module": "@jupyter-widgets/controls",
      "_model_module_version": "1.5.0",
      "_model_name": "ProgressStyleModel",
      "_view_count": null,
      "_view_module": "@jupyter-widgets/base",
      "_view_module_version": "1.2.0",
      "_view_name": "StyleView",
      "bar_color": null,
      "description_width": ""
     }
    },
    "9631babd57084e8ba65aac5ea748648c": {
     "model_module": "@jupyter-widgets/controls",
     "model_module_version": "1.5.0",
     "model_name": "HBoxModel",
     "state": {
      "_dom_classes": [],
      "_model_module": "@jupyter-widgets/controls",
      "_model_module_version": "1.5.0",
      "_model_name": "HBoxModel",
      "_view_count": null,
      "_view_module": "@jupyter-widgets/controls",
      "_view_module_version": "1.5.0",
      "_view_name": "HBoxView",
      "box_style": "",
      "children": [
       "IPY_MODEL_d0d6f08dae0040ba85e9c07abd16d536",
       "IPY_MODEL_0589ba525d5747c191983227ea53aa7e",
       "IPY_MODEL_fb015cf9c37a4076b1190242dad8a75b"
      ],
      "layout": "IPY_MODEL_9aff76f202b24d02ace4694552cb837f"
     }
    },
    "9a6e8914164040fd9a13dfb051818cf9": {
     "model_module": "@jupyter-widgets/base",
     "model_module_version": "1.2.0",
     "model_name": "LayoutModel",
     "state": {
      "_model_module": "@jupyter-widgets/base",
      "_model_module_version": "1.2.0",
      "_model_name": "LayoutModel",
      "_view_count": null,
      "_view_module": "@jupyter-widgets/base",
      "_view_module_version": "1.2.0",
      "_view_name": "LayoutView",
      "align_content": null,
      "align_items": null,
      "align_self": null,
      "border": null,
      "bottom": null,
      "display": null,
      "flex": null,
      "flex_flow": null,
      "grid_area": null,
      "grid_auto_columns": null,
      "grid_auto_flow": null,
      "grid_auto_rows": null,
      "grid_column": null,
      "grid_gap": null,
      "grid_row": null,
      "grid_template_areas": null,
      "grid_template_columns": null,
      "grid_template_rows": null,
      "height": null,
      "justify_content": null,
      "justify_items": null,
      "left": null,
      "margin": null,
      "max_height": null,
      "max_width": null,
      "min_height": null,
      "min_width": null,
      "object_fit": null,
      "object_position": null,
      "order": null,
      "overflow": null,
      "overflow_x": null,
      "overflow_y": null,
      "padding": null,
      "right": null,
      "top": null,
      "visibility": null,
      "width": null
     }
    },
    "9adac731c35f48108c2a177576c9f22a": {
     "model_module": "@jupyter-widgets/controls",
     "model_module_version": "1.5.0",
     "model_name": "ProgressStyleModel",
     "state": {
      "_model_module": "@jupyter-widgets/controls",
      "_model_module_version": "1.5.0",
      "_model_name": "ProgressStyleModel",
      "_view_count": null,
      "_view_module": "@jupyter-widgets/base",
      "_view_module_version": "1.2.0",
      "_view_name": "StyleView",
      "bar_color": null,
      "description_width": ""
     }
    },
    "9afcdcc87b6c444aac2d92f4df92c35c": {
     "model_module": "@jupyter-widgets/controls",
     "model_module_version": "1.5.0",
     "model_name": "DescriptionStyleModel",
     "state": {
      "_model_module": "@jupyter-widgets/controls",
      "_model_module_version": "1.5.0",
      "_model_name": "DescriptionStyleModel",
      "_view_count": null,
      "_view_module": "@jupyter-widgets/base",
      "_view_module_version": "1.2.0",
      "_view_name": "StyleView",
      "description_width": ""
     }
    },
    "9aff76f202b24d02ace4694552cb837f": {
     "model_module": "@jupyter-widgets/base",
     "model_module_version": "1.2.0",
     "model_name": "LayoutModel",
     "state": {
      "_model_module": "@jupyter-widgets/base",
      "_model_module_version": "1.2.0",
      "_model_name": "LayoutModel",
      "_view_count": null,
      "_view_module": "@jupyter-widgets/base",
      "_view_module_version": "1.2.0",
      "_view_name": "LayoutView",
      "align_content": null,
      "align_items": null,
      "align_self": null,
      "border": null,
      "bottom": null,
      "display": null,
      "flex": null,
      "flex_flow": null,
      "grid_area": null,
      "grid_auto_columns": null,
      "grid_auto_flow": null,
      "grid_auto_rows": null,
      "grid_column": null,
      "grid_gap": null,
      "grid_row": null,
      "grid_template_areas": null,
      "grid_template_columns": null,
      "grid_template_rows": null,
      "height": null,
      "justify_content": null,
      "justify_items": null,
      "left": null,
      "margin": null,
      "max_height": null,
      "max_width": null,
      "min_height": null,
      "min_width": null,
      "object_fit": null,
      "object_position": null,
      "order": null,
      "overflow": null,
      "overflow_x": null,
      "overflow_y": null,
      "padding": null,
      "right": null,
      "top": null,
      "visibility": null,
      "width": null
     }
    },
    "a00b4f5ce93241319e9008fa35deb60e": {
     "model_module": "@jupyter-widgets/base",
     "model_module_version": "1.2.0",
     "model_name": "LayoutModel",
     "state": {
      "_model_module": "@jupyter-widgets/base",
      "_model_module_version": "1.2.0",
      "_model_name": "LayoutModel",
      "_view_count": null,
      "_view_module": "@jupyter-widgets/base",
      "_view_module_version": "1.2.0",
      "_view_name": "LayoutView",
      "align_content": null,
      "align_items": null,
      "align_self": null,
      "border": null,
      "bottom": null,
      "display": null,
      "flex": null,
      "flex_flow": null,
      "grid_area": null,
      "grid_auto_columns": null,
      "grid_auto_flow": null,
      "grid_auto_rows": null,
      "grid_column": null,
      "grid_gap": null,
      "grid_row": null,
      "grid_template_areas": null,
      "grid_template_columns": null,
      "grid_template_rows": null,
      "height": null,
      "justify_content": null,
      "justify_items": null,
      "left": null,
      "margin": null,
      "max_height": null,
      "max_width": null,
      "min_height": null,
      "min_width": null,
      "object_fit": null,
      "object_position": null,
      "order": null,
      "overflow": null,
      "overflow_x": null,
      "overflow_y": null,
      "padding": null,
      "right": null,
      "top": null,
      "visibility": null,
      "width": null
     }
    },
    "a4bc950d21394dd9965b681d0470aed9": {
     "model_module": "@jupyter-widgets/controls",
     "model_module_version": "1.5.0",
     "model_name": "DescriptionStyleModel",
     "state": {
      "_model_module": "@jupyter-widgets/controls",
      "_model_module_version": "1.5.0",
      "_model_name": "DescriptionStyleModel",
      "_view_count": null,
      "_view_module": "@jupyter-widgets/base",
      "_view_module_version": "1.2.0",
      "_view_name": "StyleView",
      "description_width": ""
     }
    },
    "a6964ef350a14ff481d2d6b501839d2d": {
     "model_module": "@jupyter-widgets/controls",
     "model_module_version": "1.5.0",
     "model_name": "HBoxModel",
     "state": {
      "_dom_classes": [],
      "_model_module": "@jupyter-widgets/controls",
      "_model_module_version": "1.5.0",
      "_model_name": "HBoxModel",
      "_view_count": null,
      "_view_module": "@jupyter-widgets/controls",
      "_view_module_version": "1.5.0",
      "_view_name": "HBoxView",
      "box_style": "",
      "children": [
       "IPY_MODEL_06e20ed2bb6b47f0aee321f723fc292a",
       "IPY_MODEL_0af7beb368c34735abf7334e4ad9e9c9",
       "IPY_MODEL_53b0e8fe6d674e49be682fb6207fddf9"
      ],
      "layout": "IPY_MODEL_909569508da94d4a89aecbd2e2cd6dc8"
     }
    },
    "aaca5df3360c4cd2b2b8af6383b85160": {
     "model_module": "@jupyter-widgets/controls",
     "model_module_version": "1.5.0",
     "model_name": "HBoxModel",
     "state": {
      "_dom_classes": [],
      "_model_module": "@jupyter-widgets/controls",
      "_model_module_version": "1.5.0",
      "_model_name": "HBoxModel",
      "_view_count": null,
      "_view_module": "@jupyter-widgets/controls",
      "_view_module_version": "1.5.0",
      "_view_name": "HBoxView",
      "box_style": "",
      "children": [
       "IPY_MODEL_29db7c13edb84fe18c76a6c3ffcf54f6",
       "IPY_MODEL_5cd1e36b4f764e8e89d5944f0368fdec",
       "IPY_MODEL_1ab952700b614347985f836a4f88ec10"
      ],
      "layout": "IPY_MODEL_82417c017d4049c2bab16f4ace02de7f"
     }
    },
    "acbceca814974d2b9b5f95bd472db8ec": {
     "model_module": "@jupyter-widgets/controls",
     "model_module_version": "1.5.0",
     "model_name": "HBoxModel",
     "state": {
      "_dom_classes": [],
      "_model_module": "@jupyter-widgets/controls",
      "_model_module_version": "1.5.0",
      "_model_name": "HBoxModel",
      "_view_count": null,
      "_view_module": "@jupyter-widgets/controls",
      "_view_module_version": "1.5.0",
      "_view_name": "HBoxView",
      "box_style": "",
      "children": [
       "IPY_MODEL_62c0df7f46e14233925185ef496e9d8b",
       "IPY_MODEL_5eb459b7d6cc48d5b3eac0617d4de3e8",
       "IPY_MODEL_f69e2305867b4cbda91b12057844bc58"
      ],
      "layout": "IPY_MODEL_c70a47a6faa3499ea8941a6cb29e35d8"
     }
    },
    "b529f0dd0d7a4d5f8e94d8d853c02268": {
     "model_module": "@jupyter-widgets/base",
     "model_module_version": "1.2.0",
     "model_name": "LayoutModel",
     "state": {
      "_model_module": "@jupyter-widgets/base",
      "_model_module_version": "1.2.0",
      "_model_name": "LayoutModel",
      "_view_count": null,
      "_view_module": "@jupyter-widgets/base",
      "_view_module_version": "1.2.0",
      "_view_name": "LayoutView",
      "align_content": null,
      "align_items": null,
      "align_self": null,
      "border": null,
      "bottom": null,
      "display": null,
      "flex": null,
      "flex_flow": null,
      "grid_area": null,
      "grid_auto_columns": null,
      "grid_auto_flow": null,
      "grid_auto_rows": null,
      "grid_column": null,
      "grid_gap": null,
      "grid_row": null,
      "grid_template_areas": null,
      "grid_template_columns": null,
      "grid_template_rows": null,
      "height": null,
      "justify_content": null,
      "justify_items": null,
      "left": null,
      "margin": null,
      "max_height": null,
      "max_width": null,
      "min_height": null,
      "min_width": null,
      "object_fit": null,
      "object_position": null,
      "order": null,
      "overflow": null,
      "overflow_x": null,
      "overflow_y": null,
      "padding": null,
      "right": null,
      "top": null,
      "visibility": null,
      "width": null
     }
    },
    "b76c900efa3c47389858f39d9a7d1230": {
     "model_module": "@jupyter-widgets/base",
     "model_module_version": "1.2.0",
     "model_name": "LayoutModel",
     "state": {
      "_model_module": "@jupyter-widgets/base",
      "_model_module_version": "1.2.0",
      "_model_name": "LayoutModel",
      "_view_count": null,
      "_view_module": "@jupyter-widgets/base",
      "_view_module_version": "1.2.0",
      "_view_name": "LayoutView",
      "align_content": null,
      "align_items": null,
      "align_self": null,
      "border": null,
      "bottom": null,
      "display": null,
      "flex": null,
      "flex_flow": null,
      "grid_area": null,
      "grid_auto_columns": null,
      "grid_auto_flow": null,
      "grid_auto_rows": null,
      "grid_column": null,
      "grid_gap": null,
      "grid_row": null,
      "grid_template_areas": null,
      "grid_template_columns": null,
      "grid_template_rows": null,
      "height": null,
      "justify_content": null,
      "justify_items": null,
      "left": null,
      "margin": null,
      "max_height": null,
      "max_width": null,
      "min_height": null,
      "min_width": null,
      "object_fit": null,
      "object_position": null,
      "order": null,
      "overflow": null,
      "overflow_x": null,
      "overflow_y": null,
      "padding": null,
      "right": null,
      "top": null,
      "visibility": null,
      "width": null
     }
    },
    "b8bd8abe720140668da49bbaef539fc1": {
     "model_module": "@jupyter-widgets/base",
     "model_module_version": "1.2.0",
     "model_name": "LayoutModel",
     "state": {
      "_model_module": "@jupyter-widgets/base",
      "_model_module_version": "1.2.0",
      "_model_name": "LayoutModel",
      "_view_count": null,
      "_view_module": "@jupyter-widgets/base",
      "_view_module_version": "1.2.0",
      "_view_name": "LayoutView",
      "align_content": null,
      "align_items": null,
      "align_self": null,
      "border": null,
      "bottom": null,
      "display": null,
      "flex": null,
      "flex_flow": null,
      "grid_area": null,
      "grid_auto_columns": null,
      "grid_auto_flow": null,
      "grid_auto_rows": null,
      "grid_column": null,
      "grid_gap": null,
      "grid_row": null,
      "grid_template_areas": null,
      "grid_template_columns": null,
      "grid_template_rows": null,
      "height": null,
      "justify_content": null,
      "justify_items": null,
      "left": null,
      "margin": null,
      "max_height": null,
      "max_width": null,
      "min_height": null,
      "min_width": null,
      "object_fit": null,
      "object_position": null,
      "order": null,
      "overflow": null,
      "overflow_x": null,
      "overflow_y": null,
      "padding": null,
      "right": null,
      "top": null,
      "visibility": null,
      "width": null
     }
    },
    "b9c9f45d73d04adebabd043b9e2fcf3c": {
     "model_module": "@jupyter-widgets/base",
     "model_module_version": "1.2.0",
     "model_name": "LayoutModel",
     "state": {
      "_model_module": "@jupyter-widgets/base",
      "_model_module_version": "1.2.0",
      "_model_name": "LayoutModel",
      "_view_count": null,
      "_view_module": "@jupyter-widgets/base",
      "_view_module_version": "1.2.0",
      "_view_name": "LayoutView",
      "align_content": null,
      "align_items": null,
      "align_self": null,
      "border": null,
      "bottom": null,
      "display": null,
      "flex": null,
      "flex_flow": null,
      "grid_area": null,
      "grid_auto_columns": null,
      "grid_auto_flow": null,
      "grid_auto_rows": null,
      "grid_column": null,
      "grid_gap": null,
      "grid_row": null,
      "grid_template_areas": null,
      "grid_template_columns": null,
      "grid_template_rows": null,
      "height": null,
      "justify_content": null,
      "justify_items": null,
      "left": null,
      "margin": null,
      "max_height": null,
      "max_width": null,
      "min_height": null,
      "min_width": null,
      "object_fit": null,
      "object_position": null,
      "order": null,
      "overflow": null,
      "overflow_x": null,
      "overflow_y": null,
      "padding": null,
      "right": null,
      "top": null,
      "visibility": null,
      "width": null
     }
    },
    "ba559bf9aa9949f2b11827ec685ea7b6": {
     "model_module": "@jupyter-widgets/base",
     "model_module_version": "1.2.0",
     "model_name": "LayoutModel",
     "state": {
      "_model_module": "@jupyter-widgets/base",
      "_model_module_version": "1.2.0",
      "_model_name": "LayoutModel",
      "_view_count": null,
      "_view_module": "@jupyter-widgets/base",
      "_view_module_version": "1.2.0",
      "_view_name": "LayoutView",
      "align_content": null,
      "align_items": null,
      "align_self": null,
      "border": null,
      "bottom": null,
      "display": null,
      "flex": null,
      "flex_flow": null,
      "grid_area": null,
      "grid_auto_columns": null,
      "grid_auto_flow": null,
      "grid_auto_rows": null,
      "grid_column": null,
      "grid_gap": null,
      "grid_row": null,
      "grid_template_areas": null,
      "grid_template_columns": null,
      "grid_template_rows": null,
      "height": null,
      "justify_content": null,
      "justify_items": null,
      "left": null,
      "margin": null,
      "max_height": null,
      "max_width": null,
      "min_height": null,
      "min_width": null,
      "object_fit": null,
      "object_position": null,
      "order": null,
      "overflow": null,
      "overflow_x": null,
      "overflow_y": null,
      "padding": null,
      "right": null,
      "top": null,
      "visibility": null,
      "width": null
     }
    },
    "ba6c243cd8c744978dfb2a0aff255962": {
     "model_module": "@jupyter-widgets/controls",
     "model_module_version": "1.5.0",
     "model_name": "DescriptionStyleModel",
     "state": {
      "_model_module": "@jupyter-widgets/controls",
      "_model_module_version": "1.5.0",
      "_model_name": "DescriptionStyleModel",
      "_view_count": null,
      "_view_module": "@jupyter-widgets/base",
      "_view_module_version": "1.2.0",
      "_view_name": "StyleView",
      "description_width": ""
     }
    },
    "bab8ae14980a4557b42d94e9b5e0b1b9": {
     "model_module": "@jupyter-widgets/controls",
     "model_module_version": "1.5.0",
     "model_name": "ProgressStyleModel",
     "state": {
      "_model_module": "@jupyter-widgets/controls",
      "_model_module_version": "1.5.0",
      "_model_name": "ProgressStyleModel",
      "_view_count": null,
      "_view_module": "@jupyter-widgets/base",
      "_view_module_version": "1.2.0",
      "_view_name": "StyleView",
      "bar_color": null,
      "description_width": ""
     }
    },
    "bd4737ff1f3e405cb9f57813ca3d7eca": {
     "model_module": "@jupyter-widgets/controls",
     "model_module_version": "1.5.0",
     "model_name": "HTMLModel",
     "state": {
      "_dom_classes": [],
      "_model_module": "@jupyter-widgets/controls",
      "_model_module_version": "1.5.0",
      "_model_name": "HTMLModel",
      "_view_count": null,
      "_view_module": "@jupyter-widgets/controls",
      "_view_module_version": "1.5.0",
      "_view_name": "HTMLView",
      "description": "",
      "description_tooltip": null,
      "layout": "IPY_MODEL_3b2b7ca283964dbeb5a863cc0271cc73",
      "placeholder": "​",
      "style": "IPY_MODEL_4bf5b9b1c2fc4a58b659b47c62a49493",
      "value": "Parsing nodes: 100%"
     }
    },
    "c409f0d13499402fba892d129120b36e": {
     "model_module": "@jupyter-widgets/base",
     "model_module_version": "1.2.0",
     "model_name": "LayoutModel",
     "state": {
      "_model_module": "@jupyter-widgets/base",
      "_model_module_version": "1.2.0",
      "_model_name": "LayoutModel",
      "_view_count": null,
      "_view_module": "@jupyter-widgets/base",
      "_view_module_version": "1.2.0",
      "_view_name": "LayoutView",
      "align_content": null,
      "align_items": null,
      "align_self": null,
      "border": null,
      "bottom": null,
      "display": null,
      "flex": null,
      "flex_flow": null,
      "grid_area": null,
      "grid_auto_columns": null,
      "grid_auto_flow": null,
      "grid_auto_rows": null,
      "grid_column": null,
      "grid_gap": null,
      "grid_row": null,
      "grid_template_areas": null,
      "grid_template_columns": null,
      "grid_template_rows": null,
      "height": null,
      "justify_content": null,
      "justify_items": null,
      "left": null,
      "margin": null,
      "max_height": null,
      "max_width": null,
      "min_height": null,
      "min_width": null,
      "object_fit": null,
      "object_position": null,
      "order": null,
      "overflow": null,
      "overflow_x": null,
      "overflow_y": null,
      "padding": null,
      "right": null,
      "top": null,
      "visibility": null,
      "width": null
     }
    },
    "c70a47a6faa3499ea8941a6cb29e35d8": {
     "model_module": "@jupyter-widgets/base",
     "model_module_version": "1.2.0",
     "model_name": "LayoutModel",
     "state": {
      "_model_module": "@jupyter-widgets/base",
      "_model_module_version": "1.2.0",
      "_model_name": "LayoutModel",
      "_view_count": null,
      "_view_module": "@jupyter-widgets/base",
      "_view_module_version": "1.2.0",
      "_view_name": "LayoutView",
      "align_content": null,
      "align_items": null,
      "align_self": null,
      "border": null,
      "bottom": null,
      "display": null,
      "flex": null,
      "flex_flow": null,
      "grid_area": null,
      "grid_auto_columns": null,
      "grid_auto_flow": null,
      "grid_auto_rows": null,
      "grid_column": null,
      "grid_gap": null,
      "grid_row": null,
      "grid_template_areas": null,
      "grid_template_columns": null,
      "grid_template_rows": null,
      "height": null,
      "justify_content": null,
      "justify_items": null,
      "left": null,
      "margin": null,
      "max_height": null,
      "max_width": null,
      "min_height": null,
      "min_width": null,
      "object_fit": null,
      "object_position": null,
      "order": null,
      "overflow": null,
      "overflow_x": null,
      "overflow_y": null,
      "padding": null,
      "right": null,
      "top": null,
      "visibility": null,
      "width": null
     }
    },
    "ca5c5c1d7627480c9785650685a64314": {
     "model_module": "@jupyter-widgets/controls",
     "model_module_version": "1.5.0",
     "model_name": "HTMLModel",
     "state": {
      "_dom_classes": [],
      "_model_module": "@jupyter-widgets/controls",
      "_model_module_version": "1.5.0",
      "_model_name": "HTMLModel",
      "_view_count": null,
      "_view_module": "@jupyter-widgets/controls",
      "_view_module_version": "1.5.0",
      "_view_name": "HTMLView",
      "description": "",
      "description_tooltip": null,
      "layout": "IPY_MODEL_70f32c743358401a851d027874b67fb4",
      "placeholder": "​",
      "style": "IPY_MODEL_edd546afa00040c98de4b684eb41eaf5",
      "value": "Extracting keywords from nodes: 100%"
     }
    },
    "cb6e4b7ce2c140bdabd9bd14586ec6e1": {
     "model_module": "@jupyter-widgets/base",
     "model_module_version": "1.2.0",
     "model_name": "LayoutModel",
     "state": {
      "_model_module": "@jupyter-widgets/base",
      "_model_module_version": "1.2.0",
      "_model_name": "LayoutModel",
      "_view_count": null,
      "_view_module": "@jupyter-widgets/base",
      "_view_module_version": "1.2.0",
      "_view_name": "LayoutView",
      "align_content": null,
      "align_items": null,
      "align_self": null,
      "border": null,
      "bottom": null,
      "display": null,
      "flex": null,
      "flex_flow": null,
      "grid_area": null,
      "grid_auto_columns": null,
      "grid_auto_flow": null,
      "grid_auto_rows": null,
      "grid_column": null,
      "grid_gap": null,
      "grid_row": null,
      "grid_template_areas": null,
      "grid_template_columns": null,
      "grid_template_rows": null,
      "height": null,
      "justify_content": null,
      "justify_items": null,
      "left": null,
      "margin": null,
      "max_height": null,
      "max_width": null,
      "min_height": null,
      "min_width": null,
      "object_fit": null,
      "object_position": null,
      "order": null,
      "overflow": null,
      "overflow_x": null,
      "overflow_y": null,
      "padding": null,
      "right": null,
      "top": null,
      "visibility": null,
      "width": null
     }
    },
    "cc31816f55704cfa8a930b1e32a79f17": {
     "model_module": "@jupyter-widgets/controls",
     "model_module_version": "1.5.0",
     "model_name": "HTMLModel",
     "state": {
      "_dom_classes": [],
      "_model_module": "@jupyter-widgets/controls",
      "_model_module_version": "1.5.0",
      "_model_name": "HTMLModel",
      "_view_count": null,
      "_view_module": "@jupyter-widgets/controls",
      "_view_module_version": "1.5.0",
      "_view_name": "HTMLView",
      "description": "",
      "description_tooltip": null,
      "layout": "IPY_MODEL_77791193a8714b139fde91b4bac92856",
      "placeholder": "​",
      "style": "IPY_MODEL_a4bc950d21394dd9965b681d0470aed9",
      "value": "Parsing nodes: 100%"
     }
    },
    "cd0a31bf12594f629c73127c26f3bc12": {
     "model_module": "@jupyter-widgets/controls",
     "model_module_version": "1.5.0",
     "model_name": "HBoxModel",
     "state": {
      "_dom_classes": [],
      "_model_module": "@jupyter-widgets/controls",
      "_model_module_version": "1.5.0",
      "_model_name": "HBoxModel",
      "_view_count": null,
      "_view_module": "@jupyter-widgets/controls",
      "_view_module_version": "1.5.0",
      "_view_name": "HBoxView",
      "box_style": "",
      "children": [
       "IPY_MODEL_2fd0f785a1b64679a297c046fcec87bc",
       "IPY_MODEL_156a5c690c3d4771b43c0ea7351d6ecd",
       "IPY_MODEL_7ba24ca25c49494f8f6d2f5edee193b3"
      ],
      "layout": "IPY_MODEL_710fdb6588bd422bb09e049c18feab9b"
     }
    },
    "ce769541957a47569a614a58cb868e13": {
     "model_module": "@jupyter-widgets/controls",
     "model_module_version": "1.5.0",
     "model_name": "DescriptionStyleModel",
     "state": {
      "_model_module": "@jupyter-widgets/controls",
      "_model_module_version": "1.5.0",
      "_model_name": "DescriptionStyleModel",
      "_view_count": null,
      "_view_module": "@jupyter-widgets/base",
      "_view_module_version": "1.2.0",
      "_view_name": "StyleView",
      "description_width": ""
     }
    },
    "d0d6f08dae0040ba85e9c07abd16d536": {
     "model_module": "@jupyter-widgets/controls",
     "model_module_version": "1.5.0",
     "model_name": "HTMLModel",
     "state": {
      "_dom_classes": [],
      "_model_module": "@jupyter-widgets/controls",
      "_model_module_version": "1.5.0",
      "_model_name": "HTMLModel",
      "_view_count": null,
      "_view_module": "@jupyter-widgets/controls",
      "_view_module_version": "1.5.0",
      "_view_name": "HTMLView",
      "description": "",
      "description_tooltip": null,
      "layout": "IPY_MODEL_814febcbb02a4946aed9de2a8ccbdb3d",
      "placeholder": "​",
      "style": "IPY_MODEL_d1b427db09d94d04b0f6994542c8cf47",
      "value": "Generating embeddings: 100%"
     }
    },
    "d11bdd3cd2d34d25b42788516049668b": {
     "model_module": "@jupyter-widgets/controls",
     "model_module_version": "1.5.0",
     "model_name": "FloatProgressModel",
     "state": {
      "_dom_classes": [],
      "_model_module": "@jupyter-widgets/controls",
      "_model_module_version": "1.5.0",
      "_model_name": "FloatProgressModel",
      "_view_count": null,
      "_view_module": "@jupyter-widgets/controls",
      "_view_module_version": "1.5.0",
      "_view_name": "ProgressView",
      "bar_style": "success",
      "description": "",
      "description_tooltip": null,
      "layout": "IPY_MODEL_b529f0dd0d7a4d5f8e94d8d853c02268",
      "max": 9,
      "min": 0,
      "orientation": "horizontal",
      "style": "IPY_MODEL_6dc814ca22e74a2a84ad0df638493b80",
      "value": 9
     }
    },
    "d1b427db09d94d04b0f6994542c8cf47": {
     "model_module": "@jupyter-widgets/controls",
     "model_module_version": "1.5.0",
     "model_name": "DescriptionStyleModel",
     "state": {
      "_model_module": "@jupyter-widgets/controls",
      "_model_module_version": "1.5.0",
      "_model_name": "DescriptionStyleModel",
      "_view_count": null,
      "_view_module": "@jupyter-widgets/base",
      "_view_module_version": "1.2.0",
      "_view_name": "StyleView",
      "description_width": ""
     }
    },
    "d2326908c2954e979eb3135427f903b0": {
     "model_module": "@jupyter-widgets/controls",
     "model_module_version": "1.5.0",
     "model_name": "HTMLModel",
     "state": {
      "_dom_classes": [],
      "_model_module": "@jupyter-widgets/controls",
      "_model_module_version": "1.5.0",
      "_model_name": "HTMLModel",
      "_view_count": null,
      "_view_module": "@jupyter-widgets/controls",
      "_view_module_version": "1.5.0",
      "_view_name": "HTMLView",
      "description": "",
      "description_tooltip": null,
      "layout": "IPY_MODEL_dd11ab00d4864fe4a887b2b53003a8b3",
      "placeholder": "​",
      "style": "IPY_MODEL_4eb0482c70324cf08edec3faa7f35470",
      "value": "Processing nodes: 100%"
     }
    },
    "d246b7f624b64ad3b810807f5f1fc653": {
     "model_module": "@jupyter-widgets/controls",
     "model_module_version": "1.5.0",
     "model_name": "DescriptionStyleModel",
     "state": {
      "_model_module": "@jupyter-widgets/controls",
      "_model_module_version": "1.5.0",
      "_model_name": "DescriptionStyleModel",
      "_view_count": null,
      "_view_module": "@jupyter-widgets/base",
      "_view_module_version": "1.2.0",
      "_view_name": "StyleView",
      "description_width": ""
     }
    },
    "d25d5f219cc6412a9e71908900501ef4": {
     "model_module": "@jupyter-widgets/controls",
     "model_module_version": "1.5.0",
     "model_name": "HTMLModel",
     "state": {
      "_dom_classes": [],
      "_model_module": "@jupyter-widgets/controls",
      "_model_module_version": "1.5.0",
      "_model_name": "HTMLModel",
      "_view_count": null,
      "_view_module": "@jupyter-widgets/controls",
      "_view_module_version": "1.5.0",
      "_view_name": "HTMLView",
      "description": "",
      "description_tooltip": null,
      "layout": "IPY_MODEL_187e8a1e1d654d5e994ca76f50a1b73f",
      "placeholder": "​",
      "style": "IPY_MODEL_ce769541957a47569a614a58cb868e13",
      "value": " 9/9 [00:00&lt;00:00, 207.46it/s]"
     }
    },
    "d93acb49fded441fbac51495cd416f99": {
     "model_module": "@jupyter-widgets/base",
     "model_module_version": "1.2.0",
     "model_name": "LayoutModel",
     "state": {
      "_model_module": "@jupyter-widgets/base",
      "_model_module_version": "1.2.0",
      "_model_name": "LayoutModel",
      "_view_count": null,
      "_view_module": "@jupyter-widgets/base",
      "_view_module_version": "1.2.0",
      "_view_name": "LayoutView",
      "align_content": null,
      "align_items": null,
      "align_self": null,
      "border": null,
      "bottom": null,
      "display": null,
      "flex": null,
      "flex_flow": null,
      "grid_area": null,
      "grid_auto_columns": null,
      "grid_auto_flow": null,
      "grid_auto_rows": null,
      "grid_column": null,
      "grid_gap": null,
      "grid_row": null,
      "grid_template_areas": null,
      "grid_template_columns": null,
      "grid_template_rows": null,
      "height": null,
      "justify_content": null,
      "justify_items": null,
      "left": null,
      "margin": null,
      "max_height": null,
      "max_width": null,
      "min_height": null,
      "min_width": null,
      "object_fit": null,
      "object_position": null,
      "order": null,
      "overflow": null,
      "overflow_x": null,
      "overflow_y": null,
      "padding": null,
      "right": null,
      "top": null,
      "visibility": null,
      "width": null
     }
    },
    "d9d4a97ac6e3455b9d8cd3bd25b21f07": {
     "model_module": "@jupyter-widgets/controls",
     "model_module_version": "1.5.0",
     "model_name": "DescriptionStyleModel",
     "state": {
      "_model_module": "@jupyter-widgets/controls",
      "_model_module_version": "1.5.0",
      "_model_name": "DescriptionStyleModel",
      "_view_count": null,
      "_view_module": "@jupyter-widgets/base",
      "_view_module_version": "1.2.0",
      "_view_name": "StyleView",
      "description_width": ""
     }
    },
    "dd11ab00d4864fe4a887b2b53003a8b3": {
     "model_module": "@jupyter-widgets/base",
     "model_module_version": "1.2.0",
     "model_name": "LayoutModel",
     "state": {
      "_model_module": "@jupyter-widgets/base",
      "_model_module_version": "1.2.0",
      "_model_name": "LayoutModel",
      "_view_count": null,
      "_view_module": "@jupyter-widgets/base",
      "_view_module_version": "1.2.0",
      "_view_name": "LayoutView",
      "align_content": null,
      "align_items": null,
      "align_self": null,
      "border": null,
      "bottom": null,
      "display": null,
      "flex": null,
      "flex_flow": null,
      "grid_area": null,
      "grid_auto_columns": null,
      "grid_auto_flow": null,
      "grid_auto_rows": null,
      "grid_column": null,
      "grid_gap": null,
      "grid_row": null,
      "grid_template_areas": null,
      "grid_template_columns": null,
      "grid_template_rows": null,
      "height": null,
      "justify_content": null,
      "justify_items": null,
      "left": null,
      "margin": null,
      "max_height": null,
      "max_width": null,
      "min_height": null,
      "min_width": null,
      "object_fit": null,
      "object_position": null,
      "order": null,
      "overflow": null,
      "overflow_x": null,
      "overflow_y": null,
      "padding": null,
      "right": null,
      "top": null,
      "visibility": null,
      "width": null
     }
    },
    "dd9e5349b7004892857df5a2a65115ce": {
     "model_module": "@jupyter-widgets/controls",
     "model_module_version": "1.5.0",
     "model_name": "HBoxModel",
     "state": {
      "_dom_classes": [],
      "_model_module": "@jupyter-widgets/controls",
      "_model_module_version": "1.5.0",
      "_model_name": "HBoxModel",
      "_view_count": null,
      "_view_module": "@jupyter-widgets/controls",
      "_view_module_version": "1.5.0",
      "_view_name": "HBoxView",
      "box_style": "",
      "children": [
       "IPY_MODEL_8fa82ed551174d6bb86e5bc99e07a474",
       "IPY_MODEL_2db6d82d89d74485b13c86c6f8179346",
       "IPY_MODEL_ef73c3b8e52d47e981ffd05659eaaa4b"
      ],
      "layout": "IPY_MODEL_4d17a78630e34c2f89acf24dd9d3df86"
     }
    },
    "e17d08ecdb31415195bedf81a384b6d4": {
     "model_module": "@jupyter-widgets/base",
     "model_module_version": "1.2.0",
     "model_name": "LayoutModel",
     "state": {
      "_model_module": "@jupyter-widgets/base",
      "_model_module_version": "1.2.0",
      "_model_name": "LayoutModel",
      "_view_count": null,
      "_view_module": "@jupyter-widgets/base",
      "_view_module_version": "1.2.0",
      "_view_name": "LayoutView",
      "align_content": null,
      "align_items": null,
      "align_self": null,
      "border": null,
      "bottom": null,
      "display": null,
      "flex": null,
      "flex_flow": null,
      "grid_area": null,
      "grid_auto_columns": null,
      "grid_auto_flow": null,
      "grid_auto_rows": null,
      "grid_column": null,
      "grid_gap": null,
      "grid_row": null,
      "grid_template_areas": null,
      "grid_template_columns": null,
      "grid_template_rows": null,
      "height": null,
      "justify_content": null,
      "justify_items": null,
      "left": null,
      "margin": null,
      "max_height": null,
      "max_width": null,
      "min_height": null,
      "min_width": null,
      "object_fit": null,
      "object_position": null,
      "order": null,
      "overflow": null,
      "overflow_x": null,
      "overflow_y": null,
      "padding": null,
      "right": null,
      "top": null,
      "visibility": null,
      "width": null
     }
    },
    "e2acbe24b6224a3c99cb795aa973dc8c": {
     "model_module": "@jupyter-widgets/base",
     "model_module_version": "1.2.0",
     "model_name": "LayoutModel",
     "state": {
      "_model_module": "@jupyter-widgets/base",
      "_model_module_version": "1.2.0",
      "_model_name": "LayoutModel",
      "_view_count": null,
      "_view_module": "@jupyter-widgets/base",
      "_view_module_version": "1.2.0",
      "_view_name": "LayoutView",
      "align_content": null,
      "align_items": null,
      "align_self": null,
      "border": null,
      "bottom": null,
      "display": null,
      "flex": null,
      "flex_flow": null,
      "grid_area": null,
      "grid_auto_columns": null,
      "grid_auto_flow": null,
      "grid_auto_rows": null,
      "grid_column": null,
      "grid_gap": null,
      "grid_row": null,
      "grid_template_areas": null,
      "grid_template_columns": null,
      "grid_template_rows": null,
      "height": null,
      "justify_content": null,
      "justify_items": null,
      "left": null,
      "margin": null,
      "max_height": null,
      "max_width": null,
      "min_height": null,
      "min_width": null,
      "object_fit": null,
      "object_position": null,
      "order": null,
      "overflow": null,
      "overflow_x": null,
      "overflow_y": null,
      "padding": null,
      "right": null,
      "top": null,
      "visibility": null,
      "width": null
     }
    },
    "e562ce382f904803b3b8c3cee87d868c": {
     "model_module": "@jupyter-widgets/controls",
     "model_module_version": "1.5.0",
     "model_name": "DescriptionStyleModel",
     "state": {
      "_model_module": "@jupyter-widgets/controls",
      "_model_module_version": "1.5.0",
      "_model_name": "DescriptionStyleModel",
      "_view_count": null,
      "_view_module": "@jupyter-widgets/base",
      "_view_module_version": "1.2.0",
      "_view_name": "StyleView",
      "description_width": ""
     }
    },
    "e691e868aca245319aaa3840f5069036": {
     "model_module": "@jupyter-widgets/controls",
     "model_module_version": "1.5.0",
     "model_name": "HBoxModel",
     "state": {
      "_dom_classes": [],
      "_model_module": "@jupyter-widgets/controls",
      "_model_module_version": "1.5.0",
      "_model_name": "HBoxModel",
      "_view_count": null,
      "_view_module": "@jupyter-widgets/controls",
      "_view_module_version": "1.5.0",
      "_view_name": "HBoxView",
      "box_style": "",
      "children": [
       "IPY_MODEL_298faff347d74a1789a1d8363dd97fb7",
       "IPY_MODEL_92c503df6883482fb96845b3e2e87377",
       "IPY_MODEL_1e7e2825c64c4bf2a806d225ec262157"
      ],
      "layout": "IPY_MODEL_2598c688b83042ab972fddd379026898"
     }
    },
    "e89ce1e2eb924228894a9caf8aed5eb1": {
     "model_module": "@jupyter-widgets/controls",
     "model_module_version": "1.5.0",
     "model_name": "FloatProgressModel",
     "state": {
      "_dom_classes": [],
      "_model_module": "@jupyter-widgets/controls",
      "_model_module_version": "1.5.0",
      "_model_name": "FloatProgressModel",
      "_view_count": null,
      "_view_module": "@jupyter-widgets/controls",
      "_view_module_version": "1.5.0",
      "_view_name": "ProgressView",
      "bar_style": "success",
      "description": "",
      "description_tooltip": null,
      "layout": "IPY_MODEL_e17d08ecdb31415195bedf81a384b6d4",
      "max": 9,
      "min": 0,
      "orientation": "horizontal",
      "style": "IPY_MODEL_48a3efcf37784c12baef6b52569333a8",
      "value": 9
     }
    },
    "e9c146b6d9fc41d6a7e0c21f83f5f8bb": {
     "model_module": "@jupyter-widgets/controls",
     "model_module_version": "1.5.0",
     "model_name": "DescriptionStyleModel",
     "state": {
      "_model_module": "@jupyter-widgets/controls",
      "_model_module_version": "1.5.0",
      "_model_name": "DescriptionStyleModel",
      "_view_count": null,
      "_view_module": "@jupyter-widgets/base",
      "_view_module_version": "1.2.0",
      "_view_name": "StyleView",
      "description_width": ""
     }
    },
    "edc249291cf749a2a78d7b3595b8c7df": {
     "model_module": "@jupyter-widgets/controls",
     "model_module_version": "1.5.0",
     "model_name": "ProgressStyleModel",
     "state": {
      "_model_module": "@jupyter-widgets/controls",
      "_model_module_version": "1.5.0",
      "_model_name": "ProgressStyleModel",
      "_view_count": null,
      "_view_module": "@jupyter-widgets/base",
      "_view_module_version": "1.2.0",
      "_view_name": "StyleView",
      "bar_color": null,
      "description_width": ""
     }
    },
    "edd546afa00040c98de4b684eb41eaf5": {
     "model_module": "@jupyter-widgets/controls",
     "model_module_version": "1.5.0",
     "model_name": "DescriptionStyleModel",
     "state": {
      "_model_module": "@jupyter-widgets/controls",
      "_model_module_version": "1.5.0",
      "_model_name": "DescriptionStyleModel",
      "_view_count": null,
      "_view_module": "@jupyter-widgets/base",
      "_view_module_version": "1.2.0",
      "_view_name": "StyleView",
      "description_width": ""
     }
    },
    "ee7155ca310b4ede98bc94b072e233e8": {
     "model_module": "@jupyter-widgets/base",
     "model_module_version": "1.2.0",
     "model_name": "LayoutModel",
     "state": {
      "_model_module": "@jupyter-widgets/base",
      "_model_module_version": "1.2.0",
      "_model_name": "LayoutModel",
      "_view_count": null,
      "_view_module": "@jupyter-widgets/base",
      "_view_module_version": "1.2.0",
      "_view_name": "LayoutView",
      "align_content": null,
      "align_items": null,
      "align_self": null,
      "border": null,
      "bottom": null,
      "display": null,
      "flex": null,
      "flex_flow": null,
      "grid_area": null,
      "grid_auto_columns": null,
      "grid_auto_flow": null,
      "grid_auto_rows": null,
      "grid_column": null,
      "grid_gap": null,
      "grid_row": null,
      "grid_template_areas": null,
      "grid_template_columns": null,
      "grid_template_rows": null,
      "height": null,
      "justify_content": null,
      "justify_items": null,
      "left": null,
      "margin": null,
      "max_height": null,
      "max_width": null,
      "min_height": null,
      "min_width": null,
      "object_fit": null,
      "object_position": null,
      "order": null,
      "overflow": null,
      "overflow_x": null,
      "overflow_y": null,
      "padding": null,
      "right": null,
      "top": null,
      "visibility": null,
      "width": null
     }
    },
    "ef73c3b8e52d47e981ffd05659eaaa4b": {
     "model_module": "@jupyter-widgets/controls",
     "model_module_version": "1.5.0",
     "model_name": "HTMLModel",
     "state": {
      "_dom_classes": [],
      "_model_module": "@jupyter-widgets/controls",
      "_model_module_version": "1.5.0",
      "_model_name": "HTMLModel",
      "_view_count": null,
      "_view_module": "@jupyter-widgets/controls",
      "_view_module_version": "1.5.0",
      "_view_name": "HTMLView",
      "description": "",
      "description_tooltip": null,
      "layout": "IPY_MODEL_94ce158c9a09485f8d285a25cd81c105",
      "placeholder": "​",
      "style": "IPY_MODEL_e562ce382f904803b3b8c3cee87d868c",
      "value": " 9/9 [00:00&lt;00:00, 19.12it/s]"
     }
    },
    "f12b436b434647de9efff19d5c443525": {
     "model_module": "@jupyter-widgets/base",
     "model_module_version": "1.2.0",
     "model_name": "LayoutModel",
     "state": {
      "_model_module": "@jupyter-widgets/base",
      "_model_module_version": "1.2.0",
      "_model_name": "LayoutModel",
      "_view_count": null,
      "_view_module": "@jupyter-widgets/base",
      "_view_module_version": "1.2.0",
      "_view_name": "LayoutView",
      "align_content": null,
      "align_items": null,
      "align_self": null,
      "border": null,
      "bottom": null,
      "display": null,
      "flex": null,
      "flex_flow": null,
      "grid_area": null,
      "grid_auto_columns": null,
      "grid_auto_flow": null,
      "grid_auto_rows": null,
      "grid_column": null,
      "grid_gap": null,
      "grid_row": null,
      "grid_template_areas": null,
      "grid_template_columns": null,
      "grid_template_rows": null,
      "height": null,
      "justify_content": null,
      "justify_items": null,
      "left": null,
      "margin": null,
      "max_height": null,
      "max_width": null,
      "min_height": null,
      "min_width": null,
      "object_fit": null,
      "object_position": null,
      "order": null,
      "overflow": null,
      "overflow_x": null,
      "overflow_y": null,
      "padding": null,
      "right": null,
      "top": null,
      "visibility": null,
      "width": null
     }
    },
    "f69e2305867b4cbda91b12057844bc58": {
     "model_module": "@jupyter-widgets/controls",
     "model_module_version": "1.5.0",
     "model_name": "HTMLModel",
     "state": {
      "_dom_classes": [],
      "_model_module": "@jupyter-widgets/controls",
      "_model_module_version": "1.5.0",
      "_model_name": "HTMLModel",
      "_view_count": null,
      "_view_module": "@jupyter-widgets/controls",
      "_view_module_version": "1.5.0",
      "_view_name": "HTMLView",
      "description": "",
      "description_tooltip": null,
      "layout": "IPY_MODEL_f12b436b434647de9efff19d5c443525",
      "placeholder": "​",
      "style": "IPY_MODEL_95e9cef0aabc47a7bbd12325e66ca9b2",
      "value": " 9/9 [00:12&lt;00:00,  1.25s/it]"
     }
    },
    "f914b515911d4552aa8a653f836579a1": {
     "model_module": "@jupyter-widgets/controls",
     "model_module_version": "1.5.0",
     "model_name": "FloatProgressModel",
     "state": {
      "_dom_classes": [],
      "_model_module": "@jupyter-widgets/controls",
      "_model_module_version": "1.5.0",
      "_model_name": "FloatProgressModel",
      "_view_count": null,
      "_view_module": "@jupyter-widgets/controls",
      "_view_module_version": "1.5.0",
      "_view_name": "ProgressView",
      "bar_style": "success",
      "description": "",
      "description_tooltip": null,
      "layout": "IPY_MODEL_31ca2ffae54645029830c6a494bb7b50",
      "max": 9,
      "min": 0,
      "orientation": "horizontal",
      "style": "IPY_MODEL_4fbf999d27724699b86b6c3d917b729c",
      "value": 9
     }
    },
    "fb015cf9c37a4076b1190242dad8a75b": {
     "model_module": "@jupyter-widgets/controls",
     "model_module_version": "1.5.0",
     "model_name": "HTMLModel",
     "state": {
      "_dom_classes": [],
      "_model_module": "@jupyter-widgets/controls",
      "_model_module_version": "1.5.0",
      "_model_name": "HTMLModel",
      "_view_count": null,
      "_view_module": "@jupyter-widgets/controls",
      "_view_module_version": "1.5.0",
      "_view_name": "HTMLView",
      "description": "",
      "description_tooltip": null,
      "layout": "IPY_MODEL_b8bd8abe720140668da49bbaef539fc1",
      "placeholder": "​",
      "style": "IPY_MODEL_3cc13dc1acb84da880abea2c1f3c0742",
      "value": " 9/9 [00:00&lt;00:00, 30.95it/s]"
     }
    },
    "fb22aaeb86bb40b18830f8737da26dc6": {
     "model_module": "@jupyter-widgets/controls",
     "model_module_version": "1.5.0",
     "model_name": "DescriptionStyleModel",
     "state": {
      "_model_module": "@jupyter-widgets/controls",
      "_model_module_version": "1.5.0",
      "_model_name": "DescriptionStyleModel",
      "_view_count": null,
      "_view_module": "@jupyter-widgets/base",
      "_view_module_version": "1.2.0",
      "_view_name": "StyleView",
      "description_width": ""
     }
    }
   }
  }
 },
 "nbformat": 4,
 "nbformat_minor": 4
}
