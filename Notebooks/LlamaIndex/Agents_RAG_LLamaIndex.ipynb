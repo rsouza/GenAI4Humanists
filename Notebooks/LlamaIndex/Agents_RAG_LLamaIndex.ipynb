{
 "cells": [
  {
   "cell_type": "markdown",
   "metadata": {
    "id": "b0L5n3kwNdj9"
   },
   "source": [
    "# Agents with LlamaIndex I - Data Agents\n",
    "\n",
    "Sources [1](https://docs.llamaindex.ai/en/stable/module_guides/deploying/agents/), [2](https://docs.llamaindex.ai/en/stable/understanding/putting_it_all_together/agents/), [3](https://docs.llamaindex.ai/en/stable/examples/agent/custom_agent/), [4](https://docs.llamaindex.ai/en/stable/examples/agent/openai_agent/), [5](https://docs.llamaindex.ai/en/stable/module_guides/deploying/agents/agent_runner/), [6](https://medium.com/llamaindex-blog/data-agents-eed797d7972f), [7](https://akash-mathur.medium.com/advanced-rag-query-augmentation-for-next-level-search-using-llamaindex-d362fed7ecc3)    \n",
    "\n",
    "Data Agents, empowered by LLMs are knowledge workers within LlamaIndex, designed to interact with various types of data. These agents can handle both unstructured and structured data, significantly enhancing the capabilities beyond traditional query/chat engines.\n",
    "\n",
    "![](https://miro.medium.com/v2/resize:fit:1000/format:webp/1*cWwW01Ez_JIS2hcMJwcV8Q.png)  \n",
    "\n",
    "Here's a high level overview about it:\n",
    "\n",
    "+ Functionality: Data Agents can autonomously conduct searches and retrieve information across unstructured, semi-structured, and structured data. They are not limited to just reading data; they can also write, modify, and store information by integrating with external service APIs.\n",
    "\n",
    "+ Dynamic Interaction: Unlike static query/chat engines, Data Agents can dynamically interact with data sources. They can ingest new data and adapt based on the information they process, offering a more flexible and responsive approach to data management.\n",
    "\n",
    "Building a data agent requires the following core components:\n",
    "\n",
    "1. Reasoning loop\n",
    "2. Tool abstractions\n",
    "\n",
    "![](https://miro.medium.com/v2/resize:fit:1000/format:webp/1*WPOS7tiljXCrd3IkJy84CQ.png)  \n",
    "\n",
    "A data agent is initialized with set of APIs, or Tools, to interact with; these APIs can be called by the agent to return information or modify state. Given an input task, the data agent uses a reasoning loop to decide which tools to use, in which sequence, and the parameters to call each tool.\n",
    "\n",
    "---\n",
    "\n",
    "1. Reasoning Loop - The reasoning loop depends on the type of agent, as following:\n",
    "    + ReAct agent (works across any chat/text completion endpoint). - [Video](https://www.youtube.com/watch?v=pRUc6JPw6CY), [Code](https://colab.research.google.com/drive/1XYNaGvEdyKVbs4g_Maffyq08DUArcW8H?usp=sharing)  \n",
    "    + Function Calling Agents (integrates with any function calling LLM) - [Video](https://www.youtube.com/watch?v=6INvyrC4WrA), [Code](https://colab.research.google.com/drive/1GyPRMiwxS7rKxKpRt4r-ckYfmAw2GxdQ?usp=sharing)  \n",
    "    + \"Advanced Agents\": \n",
    "        + Retrieval Augmented Function Calling Agent - [Video](https://www.youtube.com/watch?v=K7h17Jjtbzg), [Code](https://colab.research.google.com/drive/1R41zIhVybCNqg67eVEPuyLeMp_HYwTlA?usp=sharing)  \n",
    "        + Controlling Agent Reasoning Loop - [Video](https://www.youtube.com/watch?v=gFRbkRtLGZQ), [Code](https://colab.research.google.com/drive/1c5ORIlqs3YMWosDSMgs6_ZHb5eiANS1c?usp=sharing)  \n",
    "        + StepWise Controllable Agent - [Video](https://www.youtube.com/watch?v=JGkSxdPFgyQ), [Code](https://colab.research.google.com/drive/1x-CR_KA7LzhPhLdITycojAJVamEaKsaO?usp=sharing)  \n",
    "        + [LLMCompiler](https://llamahub.ai/l/llama-packs/llama-index-packs-agents-llm-compiler?from=)  \n",
    "        + [Chain-of-Abstraction](https://llamahub.ai/l/llama-packs/llama-index-packs-agents-coa?from=)  \n",
    "        + [Language Agent Tree Search](https://llamahub.ai/l/llama-packs/llama-index-packs-agents-lats?from=)  \n",
    "        + and more...\n",
    "\n",
    "---\n",
    "\n",
    "2. Tool Abstractions - At their core, tool abstractions allow for a structured way to define how Data Agents can interact with data or services. Unlike typical APIs designed for human users, these tools are optimized for automated interactions, enabling agents to execute tasks with precision and efficiency.\n",
    "\n",
    "Types of Tools:\n",
    "\n",
    "+ FunctionTool - A function tool allows users to easily convert any user-defined function into a Tool. It can also auto-infer the function schema.\n",
    "+ QueryEngineTool - A tool that wraps an existing query engine. \n",
    "\n",
    "[LlamaHub Tools](https://llamahub.ai/?tab=tools)  \n",
    "    \n",
    "--- "
   ]
  },
  {
   "cell_type": "markdown",
   "metadata": {
    "id": "HyWM-ThgNdj_"
   },
   "source": [
    "## Installing Packages"
   ]
  },
  {
   "cell_type": "code",
   "execution_count": 1,
   "metadata": {
    "colab": {
     "base_uri": "https://localhost:8080/"
    },
    "executionInfo": {
     "elapsed": 76369,
     "status": "ok",
     "timestamp": 1714682800048,
     "user": {
      "displayName": "Renato Rocha Souza",
      "userId": "08757946413431057160"
     },
     "user_tz": -120
    },
    "id": "1hOqc6qhNdkA",
    "outputId": "2e5cf4da-cc0e-40ae-8d26-ed5ca7e07f60"
   },
   "outputs": [],
   "source": [
    "!pip install -q openai\n",
    "!pip install -q llama-index\n",
    "!pip install -q llama-index-experimental\n",
    "!pip install -qU llama-index-llms-openai\n",
    "!pip install -q pypdf\n",
    "!pip install -q docx2txt"
   ]
  },
  {
   "cell_type": "markdown",
   "metadata": {
    "id": "SG6gzO4zNdkB"
   },
   "source": [
    "## Importing Packages"
   ]
  },
  {
   "cell_type": "code",
   "execution_count": 2,
   "metadata": {
    "id": "2T8UKZJNNdkC"
   },
   "outputs": [],
   "source": [
    "import os\n",
    "import openai\n",
    "\n",
    "#os.environ[\"OPENAI_API_KEY\"] = \"<the key>\"\n",
    "openai.api_key = os.environ[\"OPENAI_API_KEY\"]\n",
    "\n",
    "import sys\n",
    "import shutil\n",
    "import glob\n",
    "import logging\n",
    "from pathlib import Path\n",
    "from IPython.display import Image\n",
    "\n",
    "import warnings\n",
    "warnings.filterwarnings('ignore')\n",
    "\n",
    "import pandas as pd\n",
    "\n",
    "## Llamaindex LLMs\n",
    "from llama_index.llms.openai import OpenAI\n",
    "\n",
    "## Llamaindex readers\n",
    "from llama_index.core import SimpleDirectoryReader\n",
    "\n",
    "## LlamaIndex Index Types\n",
    "from llama_index.core import ListIndex\n",
    "from llama_index.core import VectorStoreIndex\n",
    "from llama_index.core import TreeIndex\n",
    "from llama_index.core import KeywordTableIndex\n",
    "from llama_index.core import SimpleKeywordTableIndex\n",
    "from llama_index.core import DocumentSummaryIndex\n",
    "from llama_index.core import SummaryIndex\n",
    "from llama_index.core import KnowledgeGraphIndex\n",
    "from llama_index.experimental.query_engine import PandasQueryEngine\n",
    "\n",
    "## LlamaIndex Context Managers\n",
    "from llama_index.core import StorageContext\n",
    "from llama_index.core import load_index_from_storage\n",
    "from llama_index.core.response_synthesizers import get_response_synthesizer\n",
    "from llama_index.core.response_synthesizers import ResponseMode\n",
    "from llama_index.core.schema import Node\n",
    "from llama_index.core import Settings\n",
    "\n",
    "## LlamaIndex Templates\n",
    "from llama_index.core.prompts import PromptTemplate\n",
    "from llama_index.core.prompts import ChatPromptTemplate\n",
    "from llama_index.core.base.llms.types import ChatMessage, MessageRole\n",
    "\n",
    "## LlamaIndex Agents\n",
    "from llama_index.core.tools import FunctionTool\n",
    "from llama_index.core.agent import ReActAgent\n",
    "\n",
    "## LlamaIndex Callbacks\n",
    "from llama_index.core.callbacks import CallbackManager\n",
    "from llama_index.core.callbacks import LlamaDebugHandler\n",
    "\n",
    "import nest_asyncio\n",
    "nest_asyncio.apply()"
   ]
  },
  {
   "cell_type": "code",
   "execution_count": 3,
   "metadata": {
    "id": "UlTWP4TITXbv"
   },
   "outputs": [],
   "source": [
    "import logging\n",
    "\n",
    "#logging.basicConfig(stream=sys.stdout, level=logging.DEBUG)\n",
    "#logging.getLogger().addHandler(logging.StreamHandler(stream=sys.stdout))"
   ]
  },
  {
   "cell_type": "markdown",
   "metadata": {},
   "source": [
    "# 1st. Example - [Router Engine](https://docs.llamaindex.ai/en/stable/module_guides/querying/router/)  \n",
    "\n",
    "![](https://miro.medium.com/v2/resize:fit:1000/1*pwwxzWABv4cJDWonJ7LImg.png)\n",
    "\n",
    "A Router Query Engine serves as a powerful decision-making module that plays a crucial role in selecting the most appropriate choices based on user queries and metadata-defined options. These routers are versatile modules that can operate independently as “selector modules” or can be utilized as query engines or retrievers on top of other query engines or retrievers.\n",
    "\n",
    "Routers excel in various use cases, including selecting the appropriate data source from a diverse range of options and deciding whether to perform summarization or semantic search based on the user query. They can also handle more complex tasks like trying out multiple choices simultaneously and combining the results using multi-routing capabilities.\n",
    "\n",
    "We also define a “selector”. Users can easily employ routers as query engines or retrievers, with the router taking on the responsibility of selecting query engines or retrievers to route user queries effectively.\n",
    "\n",
    "Steps:  \n",
    "+ The source document is indexed with sentence splitting with a fixed window size\n",
    "+ Create summary and vector indexes\n",
    "+ From indices, we obtain query engines, respectively\n",
    "+ Bind all search engines to the agents as tools\n",
    "+ The agent will choose a tool based on the overall prompts\n",
    "+ Query on the agent."
   ]
  },
  {
   "cell_type": "markdown",
   "metadata": {},
   "source": [
    "#### Defining Models"
   ]
  },
  {
   "cell_type": "code",
   "execution_count": 4,
   "metadata": {},
   "outputs": [],
   "source": [
    "from llama_index.core import Settings\n",
    "from llama_index.llms.openai import OpenAI\n",
    "from llama_index.embeddings.openai import OpenAIEmbedding\n",
    "\n",
    "#model=\"gpt-4o\"\n",
    "model=\"gpt-4o-mini\"\n",
    "\n",
    "Settings.embed_model = OpenAIEmbedding(model=\"text-embedding-ada-002\")\n",
    "Settings.llm = OpenAI(temperature=0, \n",
    "                      model=model, \n",
    "                      #max_tokens=512\n",
    "                      PRESENCE_PENALTY=-2,\n",
    "                      TOP_P=1,\n",
    "                     )"
   ]
  },
  {
   "cell_type": "markdown",
   "metadata": {},
   "source": [
    "#### Defining Folders"
   ]
  },
  {
   "cell_type": "code",
   "execution_count": 5,
   "metadata": {},
   "outputs": [
    {
     "name": "stdout",
     "output_type": "stream",
     "text": [
      "Current dir: /home/renato/Documents/Repos/GenAI4Humanists/Notebooks/LlamaIndex\n",
      "Files in ../../Data/\n",
      ".ipynb_checkpoints\n",
      "1.pdf\n",
      "Lightroom.jpeg\n",
      "Sign.png\n",
      "Vienna_dataset.json\n",
      "Vienna_image.png\n",
      "Vienna_mask.png\n",
      "WarrenCommissionReport.txt\n",
      "attention.png\n",
      "axis_report.pdf\n",
      "california_housing_train.csv\n",
      "fossils.jpeg\n",
      "handwritten.jpg\n",
      "handwritten2.jpg\n",
      "handwritten3.jpg\n",
      "hdfc_report.pdf\n",
      "hr.sqlite\n",
      "icici_report.pdf\n",
      "imageToSave.png\n",
      "imageToSave2.png\n",
      "kafka_metamorphosis.txt\n",
      "keynote_recap.mp3\n",
      "keynote_recap.mp4\n",
      "knowledge_card.pdf\n",
      "loftq.pdf\n",
      "longlora.pdf\n",
      "lyft_2021.pdf\n",
      "metagpt.pdf\n",
      "metra.pdf\n",
      "new_rag_dataset.json\n",
      "nyc_text.txt\n",
      "paul_graham_essay.txt\n",
      "rag_dataset.json\n",
      "selfrag.pdf\n",
      "sound_english.mp3\n",
      "sound_german.mp3\n",
      "sound_portuguese.mp3\n",
      "speech.mp3\n",
      "swebench.pdf\n",
      "triangle.png\n",
      "uber_2021.pdf\n",
      "values.pdf\n",
      "vr_mcl.pdf\n",
      "zipformer.pdf\n"
     ]
    }
   ],
   "source": [
    "DOCS_DIR = \"../../Data/\"\n",
    "PERSIST_DIR = \"../../Index/\"\n",
    "\n",
    "print(f\"Current dir: {os.getcwd()}\")\n",
    "\n",
    "if not os.path.exists(DOCS_DIR):\n",
    "  os.mkdir(DOCS_DIR)\n",
    "docs = os.listdir(DOCS_DIR)\n",
    "docs = [d for d in docs]\n",
    "docs.sort()\n",
    "print(f\"Files in {DOCS_DIR}\")\n",
    "for doc in docs:\n",
    "    print(doc)"
   ]
  },
  {
   "cell_type": "markdown",
   "metadata": {},
   "source": [
    "## Load Data  \n",
    "A single file"
   ]
  },
  {
   "cell_type": "code",
   "execution_count": 6,
   "metadata": {},
   "outputs": [],
   "source": [
    "#### To download this paper, below is the needed code:\n",
    "#!wget \"https://openreview.net/pdf?id=VtmBAGCN7o\" -O ../Data/metagpt.pdf"
   ]
  },
  {
   "cell_type": "code",
   "execution_count": 7,
   "metadata": {},
   "outputs": [],
   "source": [
    "documents = SimpleDirectoryReader(input_files=[f\"{DOCS_DIR}metagpt.pdf\"]).load_data()"
   ]
  },
  {
   "cell_type": "code",
   "execution_count": 8,
   "metadata": {},
   "outputs": [],
   "source": [
    "from llama_index.core.node_parser import SentenceSplitter\n",
    "\n",
    "splitter = SentenceSplitter(chunk_size=1024)\n",
    "nodes = splitter.get_nodes_from_documents(documents)"
   ]
  },
  {
   "cell_type": "code",
   "execution_count": 9,
   "metadata": {},
   "outputs": [
    {
     "name": "stdout",
     "output_type": "stream",
     "text": [
      "34\n"
     ]
    },
    {
     "data": {
      "text/plain": [
       "TextNode(id_='634a1d48-6ac0-4075-9f82-32859fbd3314', embedding=None, metadata={'page_label': '1', 'file_name': 'metagpt.pdf', 'file_path': '../../Data/metagpt.pdf', 'file_type': 'application/pdf', 'file_size': 16911937, 'creation_date': '2024-11-09', 'last_modified_date': '2024-11-09'}, excluded_embed_metadata_keys=['file_name', 'file_type', 'file_size', 'creation_date', 'last_modified_date', 'last_accessed_date'], excluded_llm_metadata_keys=['file_name', 'file_type', 'file_size', 'creation_date', 'last_modified_date', 'last_accessed_date'], relationships={<NodeRelationship.SOURCE: '1'>: RelatedNodeInfo(node_id='7827d3d3-487e-4d38-b200-a30e95ae951a', node_type=<ObjectType.DOCUMENT: '4'>, metadata={'page_label': '1', 'file_name': 'metagpt.pdf', 'file_path': '../../Data/metagpt.pdf', 'file_type': 'application/pdf', 'file_size': 16911937, 'creation_date': '2024-11-09', 'last_modified_date': '2024-11-09'}, hash='5bb1c205a099d13b887047539f11bd6209d2c6c36d45b3dcf3606b34237edaaf')}, metadata_template='{key}: {value}', metadata_separator='\\n', text='Preprint\\nMETAGPT: M ETA PROGRAMMING FOR A\\nMULTI -AGENT COLLABORATIVE FRAMEWORK\\nSirui Hong1∗, Mingchen Zhuge2∗, Jonathan Chen1, Xiawu Zheng3, Yuheng Cheng4,\\nCeyao Zhang4, Jinlin Wang1, Zili Wang, Steven Ka Shing Yau5, Zijuan Lin4,\\nLiyang Zhou6, Chenyu Ran1, Lingfeng Xiao1,7, Chenglin Wu1†, J¨urgen Schmidhuber2,8\\n1DeepWisdom, 2AI Initiative, King Abdullah University of Science and Technology,\\n3Xiamen University, 4The Chinese University of Hong Kong, Shenzhen,\\n5Nanjing University, 6University of Pennsylvania,\\n7University of California, Berkeley, 8The Swiss AI Lab IDSIA/USI/SUPSI\\nABSTRACT\\nRemarkable progress has been made on automated problem solving through so-\\ncieties of agents based on large language models (LLMs). Existing LLM-based\\nmulti-agent systems can already solve simple dialogue tasks. Solutions to more\\ncomplex tasks, however, are complicated through logic inconsistencies due to\\ncascading hallucinations caused by naively chaining LLMs. Here we introduce\\nMetaGPT, an innovative meta-programming framework incorporating efficient\\nhuman workflows into LLM-based multi-agent collaborations. MetaGPT en-\\ncodes Standardized Operating Procedures (SOPs) into prompt sequences for more\\nstreamlined workflows, thus allowing agents with human-like domain expertise\\nto verify intermediate results and reduce errors. MetaGPT utilizes an assembly\\nline paradigm to assign diverse roles to various agents, efficiently breaking down\\ncomplex tasks into subtasks involving many agents working together. On col-\\nlaborative software engineering benchmarks, MetaGPT generates more coherent\\nsolutions than previous chat-based multi-agent systems. Our project can be found\\nat https://github.com/geekan/MetaGPT.\\n1 I NTRODUCTION\\nAutonomous agents utilizing Large Language Models (LLMs) offer promising opportunities to en-\\nhance and replicate human workflows. In real-world applications, however, existing systems (Park\\net al., 2023; Zhuge et al., 2023; Cai et al., 2023; Wang et al., 2023c; Li et al., 2023; Du et al., 2023;\\nLiang et al., 2023; Hao et al., 2023) tend to oversimplify the complexities. They struggle to achieve\\neffective, coherent, and accurate problem-solving processes, particularly when there is a need for\\nmeaningful collaborative interaction (Chen et al., 2024; Zhang et al., 2023; Dong et al., 2023; Zhou\\net al., 2023; Qian et al., 2023).\\nThrough extensive collaborative practice, humans have developed widely accepted Standardized\\nOperating Procedures (SOPs) across various domains (Belbin, 2012; Manifesto, 2001; DeMarco &\\nLister, 2013). These SOPs play a critical role in supporting task decomposition and effective coor-\\ndination. Furthermore, SOPs outline the responsibilities of each team member, while establishing\\nstandards for intermediate outputs. Well-defined SOPs improve the consistent and accurate exe-\\ncution of tasks that align with defined roles and quality standards (Belbin, 2012; Manifesto, 2001;\\nDeMarco & Lister, 2013; Wooldridge & Jennings, 1998). For instance, in a software company,\\nProduct Managers analyze competition and user needs to create Product Requirements Documents\\n(PRDs) using a standardized structure, to guide the developmental process.\\nInspired by such ideas, we design a promising GPT -based Meta-Programming framework called\\nMetaGPT that significantly benefits from SOPs. Unlike other works (Li et al., 2023; Qian et al.,\\n2023), MetaGPT requires agents to generate structured outputs, such as high-quality requirements\\n∗These authors contributed equally to this work.\\n†Chenglin Wu (alexanderwu@fuzhi.ai) is the corresponding author, affiliated with DeepWisdom.\\n1', mimetype='text/plain', start_char_idx=0, end_char_idx=3622, metadata_seperator='\\n', text_template='{metadata_str}\\n\\n{content}')"
      ]
     },
     "execution_count": 9,
     "metadata": {},
     "output_type": "execute_result"
    }
   ],
   "source": [
    "print(len(nodes))\n",
    "nodes[0]"
   ]
  },
  {
   "cell_type": "markdown",
   "metadata": {},
   "source": [
    "## Define Summary Index and Vector Index over the Same Data"
   ]
  },
  {
   "cell_type": "code",
   "execution_count": 10,
   "metadata": {},
   "outputs": [
    {
     "name": "stdout",
     "output_type": "stream",
     "text": [
      "INFO:httpx:HTTP Request: POST https://api.openai.com/v1/embeddings \"HTTP/1.1 200 OK\"\n",
      "HTTP Request: POST https://api.openai.com/v1/embeddings \"HTTP/1.1 200 OK\"\n"
     ]
    }
   ],
   "source": [
    "#from llama_index.core import SummaryIndex, VectorStoreIndex\n",
    "\n",
    "summary_index = SummaryIndex(nodes)\n",
    "vector_index = VectorStoreIndex(nodes)"
   ]
  },
  {
   "cell_type": "markdown",
   "metadata": {},
   "source": [
    "## Define Query Engines Tools and Set Metadata for each Tool"
   ]
  },
  {
   "cell_type": "code",
   "execution_count": 11,
   "metadata": {},
   "outputs": [],
   "source": [
    "summary_query_engine = summary_index.as_query_engine(response_mode=\"tree_summarize\", \n",
    "                                                     use_async=True,)\n",
    "\n",
    "vector_query_engine = vector_index.as_query_engine(similarity_top_k=3,\n",
    "                                                   retriever_mode=\"embedding\",\n",
    "                                                   response_mode=\"compact\",\n",
    "                                                   verbose=True)"
   ]
  },
  {
   "cell_type": "code",
   "execution_count": 12,
   "metadata": {},
   "outputs": [],
   "source": [
    "from llama_index.core.tools import QueryEngineTool\n",
    "\n",
    "summary_tool = QueryEngineTool.from_defaults(\n",
    "    query_engine=summary_query_engine,\n",
    "    description=(\"Useful for summarization questions related to MetaGPT\"),\n",
    ")\n",
    "\n",
    "vector_tool = QueryEngineTool.from_defaults(\n",
    "    query_engine=vector_query_engine,\n",
    "    description=(\"Useful for retrieving specific context from the MetaGPT paper.\"),\n",
    ")"
   ]
  },
  {
   "cell_type": "markdown",
   "metadata": {},
   "source": [
    "## Define Router Query Engine to use Tools"
   ]
  },
  {
   "cell_type": "code",
   "execution_count": 13,
   "metadata": {},
   "outputs": [],
   "source": [
    "from llama_index.core.query_engine.router_query_engine import RouterQueryEngine\n",
    "from llama_index.core.selectors import LLMSingleSelector\n",
    "\n",
    "query_engine = RouterQueryEngine(\n",
    "    selector=LLMSingleSelector.from_defaults(),\n",
    "    query_engine_tools=[summary_tool, vector_tool,],\n",
    "    verbose=True\n",
    ")"
   ]
  },
  {
   "cell_type": "markdown",
   "metadata": {},
   "source": [
    "## Testing"
   ]
  },
  {
   "cell_type": "code",
   "execution_count": 14,
   "metadata": {},
   "outputs": [
    {
     "name": "stdout",
     "output_type": "stream",
     "text": [
      "INFO:httpx:HTTP Request: POST https://api.openai.com/v1/chat/completions \"HTTP/1.1 200 OK\"\n",
      "HTTP Request: POST https://api.openai.com/v1/chat/completions \"HTTP/1.1 200 OK\"\n",
      "INFO:llama_index.core.query_engine.router_query_engine:Selecting query engine 0: The question asks for a summary of the document, which aligns with the purpose of choice 1, as it is useful for summarization questions..\n",
      "Selecting query engine 0: The question asks for a summary of the document, which aligns with the purpose of choice 1, as it is useful for summarization questions..\n",
      "\u001b[1;3;38;5;200mSelecting query engine 0: The question asks for a summary of the document, which aligns with the purpose of choice 1, as it is useful for summarization questions..\n",
      "\u001b[0mINFO:httpx:HTTP Request: POST https://api.openai.com/v1/chat/completions \"HTTP/1.1 200 OK\"\n",
      "HTTP Request: POST https://api.openai.com/v1/chat/completions \"HTTP/1.1 200 OK\"\n",
      "The document introduces MetaGPT, a meta-programming framework designed for multi-agent collaboration using large language models (LLMs). It addresses the challenges faced by existing LLM-based systems in solving complex tasks due to issues like logic inconsistencies and hallucinations. MetaGPT incorporates Standardized Operating Procedures (SOPs) to streamline workflows, allowing agents with specialized roles to collaborate effectively. The framework utilizes structured communication and an assembly line approach to break down tasks, enhancing the quality and coherence of generated solutions.\n",
      "\n",
      "MetaGPT has demonstrated state-of-the-art performance in code generation benchmarks, achieving high pass rates in HumanEval and MBPP tests. It features a unique executable feedback mechanism that allows agents to debug and improve code during runtime, further increasing the quality of outputs. The document also discusses the roles of various agents within the framework, including Product Managers, Architects, Engineers, and QA Engineers, each contributing to a well-defined workflow.\n",
      "\n",
      "Overall, MetaGPT represents a significant advancement in the development of LLM-based multi-agent systems, showcasing its potential for enhancing software engineering tasks through structured collaboration and effective communication.\n"
     ]
    }
   ],
   "source": [
    "response = query_engine.query(\"What is the summary of the document?\")\n",
    "print(str(response))"
   ]
  },
  {
   "cell_type": "code",
   "execution_count": 15,
   "metadata": {},
   "outputs": [
    {
     "name": "stdout",
     "output_type": "stream",
     "text": [
      "34\n"
     ]
    }
   ],
   "source": [
    "print(len(response.source_nodes))"
   ]
  },
  {
   "cell_type": "code",
   "execution_count": 16,
   "metadata": {},
   "outputs": [
    {
     "name": "stdout",
     "output_type": "stream",
     "text": [
      "INFO:httpx:HTTP Request: POST https://api.openai.com/v1/chat/completions \"HTTP/1.1 200 OK\"\n",
      "HTTP Request: POST https://api.openai.com/v1/chat/completions \"HTTP/1.1 200 OK\"\n",
      "INFO:llama_index.core.query_engine.router_query_engine:Selecting query engine 1: The question pertains to specific mechanisms of information sharing among agents, which would likely be detailed in the MetaGPT paper..\n",
      "Selecting query engine 1: The question pertains to specific mechanisms of information sharing among agents, which would likely be detailed in the MetaGPT paper..\n",
      "\u001b[1;3;38;5;200mSelecting query engine 1: The question pertains to specific mechanisms of information sharing among agents, which would likely be detailed in the MetaGPT paper..\n",
      "\u001b[0mINFO:httpx:HTTP Request: POST https://api.openai.com/v1/embeddings \"HTTP/1.1 200 OK\"\n",
      "HTTP Request: POST https://api.openai.com/v1/embeddings \"HTTP/1.1 200 OK\"\n",
      "INFO:httpx:HTTP Request: POST https://api.openai.com/v1/chat/completions \"HTTP/1.1 200 OK\"\n",
      "HTTP Request: POST https://api.openai.com/v1/chat/completions \"HTTP/1.1 200 OK\"\n",
      "Agents share information with other agents through a shared message pool, where they can publish structured messages and access messages from other entities. This mechanism allows agents to exchange information directly, enhancing communication efficiency. Additionally, agents can utilize a subscription mechanism to follow task-related information based on their role profiles, ensuring they receive relevant updates while avoiding information overload.\n"
     ]
    }
   ],
   "source": [
    "response = query_engine.query(\"How do agents share information with other agents?\")\n",
    "print(str(response))"
   ]
  },
  {
   "cell_type": "code",
   "execution_count": 17,
   "metadata": {},
   "outputs": [
    {
     "name": "stdout",
     "output_type": "stream",
     "text": [
      "3\n"
     ]
    }
   ],
   "source": [
    "print(len(response.source_nodes))"
   ]
  },
  {
   "cell_type": "markdown",
   "metadata": {},
   "source": [
    "# 2nd. Example - [Sub Question Query Engine](https://docs.llamaindex.ai/en/stable/examples/query_engine/sub_question_query_engine/)  \n",
    "\n",
    "[Source data](https://docs.llamaindex.ai/en/latest/examples/usecases/10k_sub_question/)\n",
    "\n",
    "Normal query engines are designed to locate relevant information within vast datasets. They act as intermediaries between users’ questions and stored data. When a user poses a query, the engine carefully analyzes it, pinpoints relevant data, and presents a comprehensive response.  \n",
    "\n",
    "While traditional query engines excel at straightforward questions, they often face challenges when confronted with multi-faceted questions spanning multiple documents. Simply merging documents and extracting top k elements frequently fails to capture the nuances required for truly informative responses.  \n",
    "\n",
    "Decomposition Strategy: To address this complexity, Sub-Question Query Engines adopt a divide-and-conquer approach. They elegantly decompose complex queries into a series of sub-questions, each targeting specific aspects of the original inquiry.  \n",
    "\n",
    "The implementation involves defining a Sub-Question Query Engine for each data source. Instead of treating all documents equally, the engine strategically addresses sub-questions specific to each data source. To generate the final response, a top-level Sub-Question Query Engine is then employed to synthesize the results from individual sub-questions.  \n",
    "\n",
    "Given the initial complex question, we use LLM to generate sub-questions and execute sub-questions on selected data sources. It gathers all sub-responses and then synthesizes the final response.  \n",
    "\n",
    "Sub-Question Query Engine focuses on the divide-and-conquer approach. It decomposes a complex query into a series of smaller, focused sub-questions. Each sub-question is sent to a dedicated Sub-Question Query Engine that retrieves relevant information from its specific data source. Hence, it ensures each sub-question gets the appropriate data source, leading to more precise results. It provides comprehensive answers by aggregating insights from various sub-questions to provide a holistic response.  "
   ]
  },
  {
   "cell_type": "code",
   "execution_count": 18,
   "metadata": {},
   "outputs": [],
   "source": [
    "#from llama_index.core.tools import QueryEngineTool\n",
    "from llama_index.core.tools import ToolMetadata\n",
    "from llama_index.core.query_engine import SubQuestionQueryEngine"
   ]
  },
  {
   "cell_type": "markdown",
   "metadata": {},
   "source": [
    "#### Load data"
   ]
  },
  {
   "cell_type": "code",
   "execution_count": 19,
   "metadata": {},
   "outputs": [],
   "source": [
    "lyft_docs = SimpleDirectoryReader(input_files=[f\"{DOCS_DIR}lyft_2021.pdf\"]).load_data()\n",
    "uber_docs = SimpleDirectoryReader(input_files=[f\"{DOCS_DIR}uber_2021.pdf\"]).load_data()"
   ]
  },
  {
   "cell_type": "markdown",
   "metadata": {},
   "source": [
    "#### Build indices"
   ]
  },
  {
   "cell_type": "code",
   "execution_count": 20,
   "metadata": {},
   "outputs": [
    {
     "name": "stdout",
     "output_type": "stream",
     "text": [
      "INFO:httpx:HTTP Request: POST https://api.openai.com/v1/embeddings \"HTTP/1.1 200 OK\"\n",
      "HTTP Request: POST https://api.openai.com/v1/embeddings \"HTTP/1.1 200 OK\"\n",
      "INFO:httpx:HTTP Request: POST https://api.openai.com/v1/embeddings \"HTTP/1.1 200 OK\"\n",
      "HTTP Request: POST https://api.openai.com/v1/embeddings \"HTTP/1.1 200 OK\"\n",
      "INFO:httpx:HTTP Request: POST https://api.openai.com/v1/embeddings \"HTTP/1.1 200 OK\"\n",
      "HTTP Request: POST https://api.openai.com/v1/embeddings \"HTTP/1.1 200 OK\"\n",
      "INFO:httpx:HTTP Request: POST https://api.openai.com/v1/embeddings \"HTTP/1.1 200 OK\"\n",
      "HTTP Request: POST https://api.openai.com/v1/embeddings \"HTTP/1.1 200 OK\"\n",
      "INFO:httpx:HTTP Request: POST https://api.openai.com/v1/embeddings \"HTTP/1.1 200 OK\"\n",
      "HTTP Request: POST https://api.openai.com/v1/embeddings \"HTTP/1.1 200 OK\"\n",
      "INFO:httpx:HTTP Request: POST https://api.openai.com/v1/embeddings \"HTTP/1.1 200 OK\"\n",
      "HTTP Request: POST https://api.openai.com/v1/embeddings \"HTTP/1.1 200 OK\"\n",
      "INFO:httpx:HTTP Request: POST https://api.openai.com/v1/embeddings \"HTTP/1.1 200 OK\"\n",
      "HTTP Request: POST https://api.openai.com/v1/embeddings \"HTTP/1.1 200 OK\"\n",
      "INFO:httpx:HTTP Request: POST https://api.openai.com/v1/embeddings \"HTTP/1.1 200 OK\"\n",
      "HTTP Request: POST https://api.openai.com/v1/embeddings \"HTTP/1.1 200 OK\"\n"
     ]
    }
   ],
   "source": [
    "lyft_index = VectorStoreIndex.from_documents(lyft_docs)\n",
    "uber_index = VectorStoreIndex.from_documents(uber_docs)"
   ]
  },
  {
   "cell_type": "markdown",
   "metadata": {},
   "source": [
    "#### Build query engines"
   ]
  },
  {
   "cell_type": "code",
   "execution_count": 21,
   "metadata": {},
   "outputs": [],
   "source": [
    "lyft_engine = lyft_index.as_query_engine(similarity_top_k=3,\n",
    "                                         retriever_mode=\"embedding\",\n",
    "                                         response_mode=\"compact\",\n",
    "                                         verbose=True)\n",
    "\n",
    "uber_engine = uber_index.as_query_engine(similarity_top_k=3,\n",
    "                                         retriever_mode=\"embedding\",\n",
    "                                         response_mode=\"compact\",\n",
    "                                         verbose=True)"
   ]
  },
  {
   "cell_type": "code",
   "execution_count": 22,
   "metadata": {},
   "outputs": [],
   "source": [
    "query_engine_tools = [\n",
    "    QueryEngineTool(\n",
    "        query_engine=lyft_engine,\n",
    "        metadata=ToolMetadata(\n",
    "            name=\"lyft\",\n",
    "            description=(\n",
    "                \"Provides information about Lyft financials for year 2021\"\n",
    "            ),\n",
    "        ),\n",
    "    ),\n",
    "    QueryEngineTool(\n",
    "        query_engine=uber_engine,\n",
    "        metadata=ToolMetadata(\n",
    "            name=\"uber\",\n",
    "            description=(\n",
    "                \"Provides information about Uber financials for year 2021\"\n",
    "            ),\n",
    "        ),\n",
    "    ),\n",
    "]\n",
    "\n",
    "s_engine = SubQuestionQueryEngine.from_defaults(query_engine_tools=query_engine_tools)"
   ]
  },
  {
   "cell_type": "markdown",
   "metadata": {},
   "source": [
    "#### Run queries"
   ]
  },
  {
   "cell_type": "code",
   "execution_count": 23,
   "metadata": {},
   "outputs": [
    {
     "name": "stdout",
     "output_type": "stream",
     "text": [
      "INFO:httpx:HTTP Request: POST https://api.openai.com/v1/chat/completions \"HTTP/1.1 200 OK\"\n",
      "HTTP Request: POST https://api.openai.com/v1/chat/completions \"HTTP/1.1 200 OK\"\n",
      "Generated 6 sub questions.\n",
      "\u001b[1;3;38;2;237;90;200m[lyft] Q: What were the key customer segments for Lyft in 2021?\n",
      "\u001b[0m\u001b[1;3;38;2;90;149;237m[uber] Q: What were the key customer segments for Uber in 2021?\n",
      "\u001b[0m\u001b[1;3;38;2;11;159;203m[lyft] Q: Which geographies showed the fastest growth for Lyft in 2021?\n",
      "\u001b[0m\u001b[1;3;38;2;155;135;227m[uber] Q: Which geographies showed the fastest growth for Uber in 2021?\n",
      "\u001b[0m\u001b[1;3;38;2;237;90;200m[lyft] Q: How did the growth rates of customer segments compare between Lyft and Uber in 2021?\n",
      "\u001b[0m\u001b[1;3;38;2;90;149;237m[uber] Q: How did the growth rates of geographies compare between Lyft and Uber in 2021?\n",
      "\u001b[0mINFO:httpx:HTTP Request: POST https://api.openai.com/v1/embeddings \"HTTP/1.1 200 OK\"\n",
      "HTTP Request: POST https://api.openai.com/v1/embeddings \"HTTP/1.1 200 OK\"\n",
      "INFO:httpx:HTTP Request: POST https://api.openai.com/v1/embeddings \"HTTP/1.1 200 OK\"\n",
      "HTTP Request: POST https://api.openai.com/v1/embeddings \"HTTP/1.1 200 OK\"\n",
      "INFO:httpx:HTTP Request: POST https://api.openai.com/v1/embeddings \"HTTP/1.1 200 OK\"\n",
      "HTTP Request: POST https://api.openai.com/v1/embeddings \"HTTP/1.1 200 OK\"\n",
      "INFO:httpx:HTTP Request: POST https://api.openai.com/v1/embeddings \"HTTP/1.1 200 OK\"\n",
      "HTTP Request: POST https://api.openai.com/v1/embeddings \"HTTP/1.1 200 OK\"\n",
      "INFO:httpx:HTTP Request: POST https://api.openai.com/v1/embeddings \"HTTP/1.1 200 OK\"\n",
      "HTTP Request: POST https://api.openai.com/v1/embeddings \"HTTP/1.1 200 OK\"\n",
      "INFO:httpx:HTTP Request: POST https://api.openai.com/v1/embeddings \"HTTP/1.1 200 OK\"\n",
      "HTTP Request: POST https://api.openai.com/v1/embeddings \"HTTP/1.1 200 OK\"\n",
      "INFO:httpx:HTTP Request: POST https://api.openai.com/v1/chat/completions \"HTTP/1.1 200 OK\"\n",
      "HTTP Request: POST https://api.openai.com/v1/chat/completions \"HTTP/1.1 200 OK\"\n",
      "\u001b[1;3;38;2;11;159;203m[lyft] A: The provided information does not specify which geographies showed the fastest growth for Lyft in 2021. It mentions overall revenue growth and an increase in the number of Active Riders, but does not break down the growth by specific geographic regions.\n",
      "\u001b[0mINFO:httpx:HTTP Request: POST https://api.openai.com/v1/chat/completions \"HTTP/1.1 200 OK\"\n",
      "HTTP Request: POST https://api.openai.com/v1/chat/completions \"HTTP/1.1 200 OK\"\n",
      "\u001b[1;3;38;2;90;149;237m[uber] A: The provided information does not include specific details about the growth rates of geographies for Lyft and Uber in 2021. Therefore, a comparison of their growth rates cannot be made based on the available context.\n",
      "\u001b[0mINFO:httpx:HTTP Request: POST https://api.openai.com/v1/chat/completions \"HTTP/1.1 200 OK\"\n",
      "HTTP Request: POST https://api.openai.com/v1/chat/completions \"HTTP/1.1 200 OK\"\n",
      "\u001b[1;3;38;2;155;135;227m[uber] A: The fastest growth for Uber in 2021 was derived from five metropolitan areas: Chicago, Miami, and New York City in the United States, Sao Paulo in Brazil, and London in the United Kingdom. These areas contributed significantly to the company's Mobility Gross Bookings.\n",
      "\u001b[0mINFO:httpx:HTTP Request: POST https://api.openai.com/v1/chat/completions \"HTTP/1.1 200 OK\"\n",
      "HTTP Request: POST https://api.openai.com/v1/chat/completions \"HTTP/1.1 200 OK\"\n",
      "\u001b[1;3;38;2;237;90;200m[lyft] A: The provided information does not include specific growth rates for customer segments of Lyft compared to Uber in 2021. It mentions that Lyft experienced a 49.2% increase in Active Riders in the fourth quarter of 2021 compared to the fourth quarter of 2020, but there is no comparative data for Uber's growth rates during the same period. Therefore, a direct comparison of growth rates between the two companies cannot be made based on the available information.\n",
      "\u001b[0mINFO:httpx:HTTP Request: POST https://api.openai.com/v1/chat/completions \"HTTP/1.1 200 OK\"\n",
      "HTTP Request: POST https://api.openai.com/v1/chat/completions \"HTTP/1.1 200 OK\"\n",
      "\u001b[1;3;38;2;237;90;200m[lyft] A: In 2021, Lyft's key customer segments included riders who utilize the ridesharing marketplace for transportation needs, drivers who operate on the platform seeking flexible income opportunities, and users of the bike and scooter sharing services. Additionally, the company catered to individuals looking for car rentals through its Express Drive and Lyft Rentals programs. The integration of public transit options also targeted users interested in a more comprehensive transportation solution. Overall, the customer base was diverse, encompassing various demographics such as parents, students, business owners, and retirees.\n",
      "\u001b[0mINFO:httpx:HTTP Request: POST https://api.openai.com/v1/chat/completions \"HTTP/1.1 200 OK\"\n",
      "HTTP Request: POST https://api.openai.com/v1/chat/completions \"HTTP/1.1 200 OK\"\n",
      "\u001b[1;3;38;2;90;149;237m[uber] A: The key customer segments for Uber in 2021 included Riders, who utilize ridesharing services provided by Mobility Drivers, and Eaters, who order meals and other goods through delivery services from Merchants facilitated by Couriers. Additionally, the platform also served shippers in the freight industry, connecting them with carriers. These segments reflect a diverse range of consumers engaging with Uber's various offerings across mobility, delivery, and freight services.\n",
      "\u001b[0mINFO:httpx:HTTP Request: POST https://api.openai.com/v1/chat/completions \"HTTP/1.1 200 OK\"\n",
      "HTTP Request: POST https://api.openai.com/v1/chat/completions \"HTTP/1.1 200 OK\"\n"
     ]
    }
   ],
   "source": [
    "response = s_engine.query(\"Compare and contrast the customer segments and geographies that grew the fastest\")"
   ]
  },
  {
   "cell_type": "code",
   "execution_count": 24,
   "metadata": {},
   "outputs": [
    {
     "name": "stdout",
     "output_type": "stream",
     "text": [
      "In 2021, Lyft's customer segments included riders using ridesharing services, drivers seeking flexible income, users of bike and scooter sharing, and individuals interested in car rentals. The customer base was diverse, encompassing various demographics such as parents, students, business owners, and retirees. However, specific geographic growth details for Lyft were not provided.\n",
      "\n",
      "In contrast, Uber's customer segments were more varied, including riders utilizing ridesharing, eaters ordering food and goods through delivery services, and shippers in the freight industry. Uber's fastest growth was noted in five metropolitan areas: Chicago, Miami, New York City, Sao Paulo, and London, which significantly contributed to its Mobility Gross Bookings.\n",
      "\n",
      "While both companies catered to diverse customer segments, Uber had a broader range of services, including food delivery and freight, which may have influenced its growth in specific urban areas. Lyft's growth details by geography were not specified, making it difficult to draw direct comparisons in that regard.\n"
     ]
    }
   ],
   "source": [
    "print(response)"
   ]
  },
  {
   "cell_type": "code",
   "execution_count": 25,
   "metadata": {},
   "outputs": [
    {
     "name": "stdout",
     "output_type": "stream",
     "text": [
      "INFO:httpx:HTTP Request: POST https://api.openai.com/v1/chat/completions \"HTTP/1.1 200 OK\"\n",
      "HTTP Request: POST https://api.openai.com/v1/chat/completions \"HTTP/1.1 200 OK\"\n",
      "Generated 4 sub questions.\n",
      "\u001b[1;3;38;2;237;90;200m[uber] Q: What was the revenue of Uber in 2020?\n",
      "\u001b[0m\u001b[1;3;38;2;90;149;237m[uber] Q: What was the revenue of Uber in 2021?\n",
      "\u001b[0m\u001b[1;3;38;2;11;159;203m[lyft] Q: What was the revenue of Lyft in 2020?\n",
      "\u001b[0m\u001b[1;3;38;2;155;135;227m[lyft] Q: What was the revenue of Lyft in 2021?\n",
      "\u001b[0mINFO:httpx:HTTP Request: POST https://api.openai.com/v1/embeddings \"HTTP/1.1 200 OK\"\n",
      "HTTP Request: POST https://api.openai.com/v1/embeddings \"HTTP/1.1 200 OK\"\n",
      "INFO:httpx:HTTP Request: POST https://api.openai.com/v1/embeddings \"HTTP/1.1 200 OK\"\n",
      "HTTP Request: POST https://api.openai.com/v1/embeddings \"HTTP/1.1 200 OK\"\n",
      "INFO:httpx:HTTP Request: POST https://api.openai.com/v1/embeddings \"HTTP/1.1 200 OK\"\n",
      "HTTP Request: POST https://api.openai.com/v1/embeddings \"HTTP/1.1 200 OK\"\n",
      "INFO:httpx:HTTP Request: POST https://api.openai.com/v1/embeddings \"HTTP/1.1 200 OK\"\n",
      "HTTP Request: POST https://api.openai.com/v1/embeddings \"HTTP/1.1 200 OK\"\n",
      "INFO:httpx:HTTP Request: POST https://api.openai.com/v1/chat/completions \"HTTP/1.1 200 OK\"\n",
      "HTTP Request: POST https://api.openai.com/v1/chat/completions \"HTTP/1.1 200 OK\"\n",
      "\u001b[1;3;38;2;11;159;203m[lyft] A: The revenue of Lyft in 2020 was $2,364,681,000.\n",
      "\u001b[0mINFO:httpx:HTTP Request: POST https://api.openai.com/v1/chat/completions \"HTTP/1.1 200 OK\"\n",
      "HTTP Request: POST https://api.openai.com/v1/chat/completions \"HTTP/1.1 200 OK\"\n",
      "\u001b[1;3;38;2;155;135;227m[lyft] A: The revenue of Lyft in 2021 was $3,208,323,000.\n",
      "\u001b[0mINFO:httpx:HTTP Request: POST https://api.openai.com/v1/chat/completions \"HTTP/1.1 200 OK\"\n",
      "HTTP Request: POST https://api.openai.com/v1/chat/completions \"HTTP/1.1 200 OK\"\n",
      "\u001b[1;3;38;2;90;149;237m[uber] A: The revenue of Uber in 2021 was $17,455 million.\n",
      "\u001b[0mINFO:httpx:HTTP Request: POST https://api.openai.com/v1/chat/completions \"HTTP/1.1 200 OK\"\n",
      "HTTP Request: POST https://api.openai.com/v1/chat/completions \"HTTP/1.1 200 OK\"\n",
      "\u001b[1;3;38;2;237;90;200m[uber] A: The revenue of Uber in 2020 was $11,139 million.\n",
      "\u001b[0mINFO:httpx:HTTP Request: POST https://api.openai.com/v1/chat/completions \"HTTP/1.1 200 OK\"\n",
      "HTTP Request: POST https://api.openai.com/v1/chat/completions \"HTTP/1.1 200 OK\"\n"
     ]
    }
   ],
   "source": [
    "response = s_engine.query(\"Compare revenue growth of Uber and Lyft from 2020 to 2021\")"
   ]
  },
  {
   "cell_type": "code",
   "execution_count": 26,
   "metadata": {},
   "outputs": [
    {
     "name": "stdout",
     "output_type": "stream",
     "text": [
      "Uber's revenue grew from $11,139 million in 2020 to $17,455 million in 2021, resulting in an increase of $6,316 million. In contrast, Lyft's revenue increased from $2,364,681,000 in 2020 to $3,208,323,000 in 2021, which is an increase of $843,642,000. Therefore, Uber experienced a significantly larger revenue growth compared to Lyft during this period.\n"
     ]
    }
   ],
   "source": [
    "print(response)"
   ]
  },
  {
   "cell_type": "markdown",
   "metadata": {},
   "source": [
    "# 3nd. Example - [Tool Calling](https://docs.llamaindex.ai/en/stable/module_guides/deploying/agents/tools/)  \n",
    "\n",
    "\n",
    "![](https://miro.medium.com/v2/resize:fit:720/1*WPOS7tiljXCrd3IkJy84CQ.png)"
   ]
  },
  {
   "cell_type": "markdown",
   "metadata": {},
   "source": [
    "## Define Simple Tools"
   ]
  },
  {
   "cell_type": "code",
   "execution_count": 27,
   "metadata": {},
   "outputs": [],
   "source": [
    "from llama_index.core.tools import FunctionTool\n",
    "\n",
    "def add(x: int, y: int) -> int:\n",
    "    \"\"\"Adds two integers together.\"\"\"\n",
    "    return x + y\n",
    "\n",
    "def subtract(x: int, y: int) -> int: \n",
    "    \"\"\"Subtract the second number from the first number.\"\"\"\n",
    "    return (x - y)\n",
    "\n",
    "def multiply(x: int, y: int) -> int: \n",
    "    \"\"\"Multiply one number by the other number.\"\"\"\n",
    "    return (x * y)\n",
    "\n",
    "def uppercase(x: str) -> str: \n",
    "    \"\"\"Return the input string in uppercase.\"\"\"\n",
    "    return (x.upper())\n",
    "\n",
    "add_tool = FunctionTool.from_defaults(fn=add)\n",
    "subtract_tool = FunctionTool.from_defaults(fn=subtract)\n",
    "multiply_tool = FunctionTool.from_defaults(fn=multiply)\n",
    "uppercase_tool = FunctionTool.from_defaults(fn=uppercase)"
   ]
  },
  {
   "cell_type": "code",
   "execution_count": 53,
   "metadata": {},
   "outputs": [
    {
     "name": "stdout",
     "output_type": "stream",
     "text": [
      "INFO:httpx:HTTP Request: POST https://api.openai.com/v1/chat/completions \"HTTP/1.1 200 OK\"\n",
      "HTTP Request: POST https://api.openai.com/v1/chat/completions \"HTTP/1.1 200 OK\"\n",
      "=== Calling Function ===\n",
      "Calling function: subtract with args: {\"x\": 3, \"y\": 12}\n",
      "=== Function Output ===\n",
      "-9\n",
      "-9\n"
     ]
    }
   ],
   "source": [
    "#llm = Settings.llm\n",
    "#llm = OpenAI(model=\"gpt-3.5-turbo\")\n",
    "llm = OpenAI(model=\"gpt-4o\")   #Sometimes GPT4o-mini does not work well with ill defined tools\n",
    "\n",
    "response = llm.predict_and_call(\n",
    "    [add_tool, subtract_tool, multiply_tool, uppercase_tool], \n",
    "    \"Tell me the output of 3 - 12 \", \n",
    "    verbose=True\n",
    ")\n",
    "print(str(response))"
   ]
  },
  {
   "cell_type": "code",
   "execution_count": 29,
   "metadata": {},
   "outputs": [
    {
     "name": "stdout",
     "output_type": "stream",
     "text": [
      "INFO:httpx:HTTP Request: POST https://api.openai.com/v1/chat/completions \"HTTP/1.1 200 OK\"\n",
      "HTTP Request: POST https://api.openai.com/v1/chat/completions \"HTTP/1.1 200 OK\"\n",
      "=== Calling Function ===\n",
      "Calling function: uppercase with args: {\"x\": \"This phrase\"}\n",
      "=== Function Output ===\n",
      "THIS PHRASE\n",
      "THIS PHRASE\n"
     ]
    }
   ],
   "source": [
    "response = llm.predict_and_call(\n",
    "    [add_tool, subtract_tool, multiply_tool, uppercase_tool], \n",
    "    \"Write ```This phrase``` in uppercase\", \n",
    "    verbose=True\n",
    ")\n",
    "print(str(response))"
   ]
  },
  {
   "cell_type": "markdown",
   "metadata": {},
   "source": [
    "#### Now that you understand the mechanism behind simple tools:  \n",
    "\n",
    "## Define an Auto-Retrieval Tool using metadata as filter"
   ]
  },
  {
   "cell_type": "code",
   "execution_count": 30,
   "metadata": {},
   "outputs": [],
   "source": [
    "## Uncomment if not ran before\n",
    "\n",
    "#import nest_asyncio\n",
    "#nest_asyncio.apply()\n",
    "#from llama_index.core import SimpleDirectoryReader\n",
    "#documents = SimpleDirectoryReader(input_files=[\"metagpt.pdf\"]).load_data()\n",
    "#from llama_index.core.node_parser import SentenceSplitter\n",
    "#splitter = SentenceSplitter(chunk_size=1024)\n",
    "#nodes = splitter.get_nodes_from_documents(documents)"
   ]
  },
  {
   "cell_type": "markdown",
   "metadata": {},
   "source": [
    "### Examining the metadata that was automatically added to the document nodes:"
   ]
  },
  {
   "cell_type": "code",
   "execution_count": 31,
   "metadata": {},
   "outputs": [
    {
     "name": "stdout",
     "output_type": "stream",
     "text": [
      "page_label: 1\n",
      "file_name: metagpt.pdf\n",
      "file_path: ../../Data/metagpt.pdf\n",
      "file_type: application/pdf\n",
      "file_size: 16911937\n",
      "creation_date: 2024-11-09\n",
      "last_modified_date: 2024-11-09\n",
      "\n",
      "Preprint\n",
      "METAGPT: M ETA PROGRAMMING FOR A\n",
      "MULTI -AGENT COLLABORATIVE FRAMEWORK\n",
      "Sirui Hong1∗, Mingchen Zhuge2∗, Jonathan Chen1, Xiawu Zheng3, Yuheng Cheng4,\n",
      "Ceyao Zhang4, Jinlin Wang1, Zili Wang, Steven Ka Shing Yau5, Zijuan Lin4,\n",
      "Liyang Zhou6, Chenyu Ran1, Lingfeng Xiao1,7, Chenglin Wu1†, J¨urgen Schmidhuber2,8\n",
      "1DeepWisdom, 2AI Initiative, King Abdullah University of Science and Technology,\n",
      "3Xiamen University, 4The Chinese University of Hong Kong, Shenzhen,\n",
      "5Nanjing University, 6University of Pennsylvania,\n",
      "7University of California, Berkeley, 8The Swiss AI Lab IDSIA/USI/SUPSI\n",
      "ABSTRACT\n",
      "Remarkable progress has been made on automated problem solving through so-\n",
      "cieties of agents based on large language models (LLMs). Existing LLM-based\n",
      "multi-agent systems can already solve simple dialogue tasks. Solutions to more\n",
      "complex tasks, however, are complicated through logic inconsistencies due to\n",
      "cascading hallucinations caused by naively chaining LLMs. Here we introduce\n",
      "MetaGPT, an innovative meta-programming framework incorporating efficient\n",
      "human workflows into LLM-based multi-agent collaborations. MetaGPT en-\n",
      "codes Standardized Operating Procedures (SOPs) into prompt sequences for more\n",
      "streamlined workflows, thus allowing agents with human-like domain expertise\n",
      "to verify intermediate results and reduce errors. MetaGPT utilizes an assembly\n",
      "line paradigm to assign diverse roles to various agents, efficiently breaking down\n",
      "complex tasks into subtasks involving many agents working together. On col-\n",
      "laborative software engineering benchmarks, MetaGPT generates more coherent\n",
      "solutions than previous chat-based multi-agent systems. Our project can be found\n",
      "at https://github.com/geekan/MetaGPT.\n",
      "1 I NTRODUCTION\n",
      "Autonomous agents utilizing Large Language Models (LLMs) offer promising opportunities to en-\n",
      "hance and replicate human workflows. In real-world applications, however, existing systems (Park\n",
      "et al., 2023; Zhuge et al., 2023; Cai et al., 2023; Wang et al., 2023c; Li et al., 2023; Du et al., 2023;\n",
      "Liang et al., 2023; Hao et al., 2023) tend to oversimplify the complexities. They struggle to achieve\n",
      "effective, coherent, and accurate problem-solving processes, particularly when there is a need for\n",
      "meaningful collaborative interaction (Chen et al., 2024; Zhang et al., 2023; Dong et al., 2023; Zhou\n",
      "et al., 2023; Qian et al., 2023).\n",
      "Through extensive collaborative practice, humans have developed widely accepted Standardized\n",
      "Operating Procedures (SOPs) across various domains (Belbin, 2012; Manifesto, 2001; DeMarco &\n",
      "Lister, 2013). These SOPs play a critical role in supporting task decomposition and effective coor-\n",
      "dination. Furthermore, SOPs outline the responsibilities of each team member, while establishing\n",
      "standards for intermediate outputs. Well-defined SOPs improve the consistent and accurate exe-\n",
      "cution of tasks that align with defined roles and quality standards (Belbin, 2012; Manifesto, 2001;\n",
      "DeMarco & Lister, 2013; Wooldridge & Jennings, 1998). For instance, in a software company,\n",
      "Product Managers analyze competition and user needs to create Product Requirements Documents\n",
      "(PRDs) using a standardized structure, to guide the developmental process.\n",
      "Inspired by such ideas, we design a promising GPT -based Meta-Programming framework called\n",
      "MetaGPT that significantly benefits from SOPs. Unlike other works (Li et al., 2023; Qian et al.,\n",
      "2023), MetaGPT requires agents to generate structured outputs, such as high-quality requirements\n",
      "∗These authors contributed equally to this work.\n",
      "†Chenglin Wu (alexanderwu@fuzhi.ai) is the corresponding author, affiliated with DeepWisdom.\n",
      "1\n"
     ]
    }
   ],
   "source": [
    "print(nodes[0].get_content(metadata_mode=\"all\"))"
   ]
  },
  {
   "cell_type": "code",
   "execution_count": 32,
   "metadata": {},
   "outputs": [],
   "source": [
    "## Uncomment if not ran before\n",
    "\n",
    "#from llama_index.core import VectorStoreIndex\n",
    "#vector_index = VectorStoreIndex(nodes)\n",
    "#query_engine = vector_index.as_query_engine(similarity_top_k=2)"
   ]
  },
  {
   "cell_type": "markdown",
   "metadata": {},
   "source": [
    "### Defining Metadata Filters"
   ]
  },
  {
   "cell_type": "code",
   "execution_count": 33,
   "metadata": {},
   "outputs": [
    {
     "name": "stdout",
     "output_type": "stream",
     "text": [
      "INFO:httpx:HTTP Request: POST https://api.openai.com/v1/embeddings \"HTTP/1.1 200 OK\"\n",
      "HTTP Request: POST https://api.openai.com/v1/embeddings \"HTTP/1.1 200 OK\"\n",
      "INFO:httpx:HTTP Request: POST https://api.openai.com/v1/chat/completions \"HTTP/1.1 200 OK\"\n",
      "HTTP Request: POST https://api.openai.com/v1/chat/completions \"HTTP/1.1 200 OK\"\n",
      "MetaGPT achieves notable high-level results, including a new state-of-the-art performance in code generation benchmarks with Pass@1 scores of 85.9% and 87.7% on HumanEval and MBPP datasets, respectively. Additionally, it demonstrates a 100% task completion rate in experimental evaluations, showcasing its robustness and efficiency in handling complex software projects.\n"
     ]
    }
   ],
   "source": [
    "from llama_index.core.vector_stores import MetadataFilters\n",
    "\n",
    "query_engine = vector_index.as_query_engine(\n",
    "    similarity_top_k=2,\n",
    "    filters=MetadataFilters.from_dicts(\n",
    "        [\n",
    "            {\"key\": \"page_label\", \"value\": \"2\"},\n",
    "            {\"key\": \"file_path\", \"value\": \"../../Data/metagpt.pdf\"}\n",
    "        ]\n",
    "    )\n",
    ")\n",
    "\n",
    "response = query_engine.query(\n",
    "    \"What are some high-level results of MetaGPT?\", \n",
    ")\n",
    "\n",
    "print(str(response))"
   ]
  },
  {
   "cell_type": "code",
   "execution_count": 34,
   "metadata": {},
   "outputs": [
    {
     "name": "stdout",
     "output_type": "stream",
     "text": [
      "{'page_label': '2', 'file_name': 'metagpt.pdf', 'file_path': '../../Data/metagpt.pdf', 'file_type': 'application/pdf', 'file_size': 16911937, 'creation_date': '2024-11-09', 'last_modified_date': '2024-11-09'}\n"
     ]
    }
   ],
   "source": [
    "for n in response.source_nodes:\n",
    "    print(n.metadata)"
   ]
  },
  {
   "cell_type": "markdown",
   "metadata": {},
   "source": [
    "## Define an Auto-Retrieval Tool"
   ]
  },
  {
   "cell_type": "code",
   "execution_count": 35,
   "metadata": {},
   "outputs": [],
   "source": [
    "from typing import List\n",
    "from llama_index.core.vector_stores import FilterCondition\n",
    "\n",
    "\n",
    "def vector_query(query: str, page_numbers: List[str]) -> str:\n",
    "    \"\"\"Perform a vector search over an index.\n",
    "    \n",
    "    query (str): the string query to be embedded.\n",
    "    page_numbers (List[str]): Filter by set of pages. Leave BLANK if we want to perform a vector search\n",
    "    over all pages. Otherwise, filter by the set of specified pages.\n",
    "    \n",
    "    \"\"\"\n",
    "\n",
    "    metadata_dicts = [{\"key\": \"page_label\", \"value\": p} for p in page_numbers]\n",
    "    \n",
    "    query_engine = vector_index.as_query_engine(similarity_top_k=2,\n",
    "                                                filters=MetadataFilters.from_dicts(\n",
    "                                                    metadata_dicts,\n",
    "                                                    condition=FilterCondition.OR\n",
    "                                                )\n",
    "                                               )\n",
    "    response = query_engine.query(query)\n",
    "    return response\n",
    "\n",
    "vector_query_tool = FunctionTool.from_defaults(name=\"vector_tool\", fn=vector_query)"
   ]
  },
  {
   "cell_type": "code",
   "execution_count": 36,
   "metadata": {},
   "outputs": [
    {
     "name": "stdout",
     "output_type": "stream",
     "text": [
      "INFO:httpx:HTTP Request: POST https://api.openai.com/v1/chat/completions \"HTTP/1.1 200 OK\"\n",
      "HTTP Request: POST https://api.openai.com/v1/chat/completions \"HTTP/1.1 200 OK\"\n",
      "=== Calling Function ===\n",
      "Calling function: vector_tool with args: {\"query\": \"high-level results of MetaGPT\", \"page_numbers\": [\"2\"]}\n",
      "INFO:httpx:HTTP Request: POST https://api.openai.com/v1/embeddings \"HTTP/1.1 200 OK\"\n",
      "HTTP Request: POST https://api.openai.com/v1/embeddings \"HTTP/1.1 200 OK\"\n",
      "INFO:httpx:HTTP Request: POST https://api.openai.com/v1/chat/completions \"HTTP/1.1 200 OK\"\n",
      "HTTP Request: POST https://api.openai.com/v1/chat/completions \"HTTP/1.1 200 OK\"\n",
      "=== Function Output ===\n",
      "MetaGPT achieves a new state-of-the-art performance in code generation benchmarks, with Pass@1 scores of 85.9% and 87.7% on the HumanEval and MBPP datasets, respectively. It demonstrates a 100% task completion rate in experimental evaluations, showcasing its robustness and efficiency in handling complex software projects. Additionally, it outperforms other frameworks like AutoGPT, LangChain, AgentVerse, and ChatDev in managing higher levels of software complexity and providing extensive functionality.\n"
     ]
    }
   ],
   "source": [
    "response = llm.predict_and_call(\n",
    "    [vector_query_tool], \n",
    "    \"What are the high-level results of MetaGPT as described on page 2?\", \n",
    "    verbose=True\n",
    ")"
   ]
  },
  {
   "cell_type": "code",
   "execution_count": 37,
   "metadata": {},
   "outputs": [
    {
     "name": "stdout",
     "output_type": "stream",
     "text": [
      "{'page_label': '2', 'file_name': 'metagpt.pdf', 'file_path': '../../Data/metagpt.pdf', 'file_type': 'application/pdf', 'file_size': 16911937, 'creation_date': '2024-11-09', 'last_modified_date': '2024-11-09'}\n"
     ]
    }
   ],
   "source": [
    "for n in response.source_nodes:\n",
    "    print(n.metadata)"
   ]
  },
  {
   "cell_type": "markdown",
   "metadata": {},
   "source": [
    "## Adding some other Data tools!"
   ]
  },
  {
   "cell_type": "code",
   "execution_count": 48,
   "metadata": {},
   "outputs": [],
   "source": [
    "#from llama_index.core import SummaryIndex\n",
    "#from llama_index.core.tools import QueryEngineTool\n",
    "\n",
    "summary_index = SummaryIndex(nodes)\n",
    "summary_query_engine = summary_index.as_query_engine(\n",
    "    response_mode=\"tree_summarize\",\n",
    "    use_async=True,\n",
    ")\n",
    "summary_tool = QueryEngineTool.from_defaults(\n",
    "    name=\"summary_tool\",\n",
    "    query_engine=summary_query_engine,\n",
    "    description=(\n",
    "        \"Useful if you want to get a summary of the paper\"\n",
    "    ),\n",
    ")"
   ]
  },
  {
   "cell_type": "markdown",
   "metadata": {},
   "source": [
    "#### Creating a query to trigger the vector query tool:"
   ]
  },
  {
   "cell_type": "code",
   "execution_count": 49,
   "metadata": {},
   "outputs": [
    {
     "name": "stdout",
     "output_type": "stream",
     "text": [
      "INFO:httpx:HTTP Request: POST https://api.openai.com/v1/chat/completions \"HTTP/1.1 200 OK\"\n",
      "HTTP Request: POST https://api.openai.com/v1/chat/completions \"HTTP/1.1 200 OK\"\n",
      "=== Calling Function ===\n",
      "Calling function: vector_tool with args: {\"query\": \"MetaGPT comparisons with ChatDev\", \"page_numbers\": [\"8\"]}\n",
      "INFO:httpx:HTTP Request: POST https://api.openai.com/v1/embeddings \"HTTP/1.1 200 OK\"\n",
      "HTTP Request: POST https://api.openai.com/v1/embeddings \"HTTP/1.1 200 OK\"\n",
      "INFO:httpx:HTTP Request: POST https://api.openai.com/v1/chat/completions \"HTTP/1.1 200 OK\"\n",
      "HTTP Request: POST https://api.openai.com/v1/chat/completions \"HTTP/1.1 200 OK\"\n",
      "=== Function Output ===\n",
      "MetaGPT demonstrates superior performance compared to ChatDev across various metrics in the SoftwareDev dataset. In terms of executability, MetaGPT scores 3.75, approaching a flawless score of 4, while ChatDev only scores 2.25. Additionally, MetaGPT requires less time to execute tasks, taking 503 seconds compared to ChatDev's 762 seconds. \n",
      "\n",
      "When it comes to token usage, MetaGPT uses more tokens overall (24,613 or 31,255) compared to ChatDev's 19,292, but it generates code more efficiently, needing only 126.5/124.3 tokens per line of code, whereas ChatDev requires 248.9 tokens. \n",
      "\n",
      "In terms of code statistics, MetaGPT produces more code files (5.1) and total lines of code (251.4) than ChatDev, which has 1.9 code files and 77.5 total lines of code. Furthermore, the human revision cost is significantly lower for MetaGPT at 0.83 compared to ChatDev's 2.5, indicating a more efficient process overall.\n"
     ]
    }
   ],
   "source": [
    "response = llm.predict_and_call(\n",
    "    [vector_query_tool, summary_tool], \n",
    "    \"What are the MetaGPT comparisons with ChatDev described on page 8?\", \n",
    "    verbose=True\n",
    ")"
   ]
  },
  {
   "cell_type": "code",
   "execution_count": 50,
   "metadata": {},
   "outputs": [
    {
     "name": "stdout",
     "output_type": "stream",
     "text": [
      "{'page_label': '8', 'file_name': 'metagpt.pdf', 'file_path': '../../Data/metagpt.pdf', 'file_type': 'application/pdf', 'file_size': 16911937, 'creation_date': '2024-11-09', 'last_modified_date': '2024-11-09'}\n"
     ]
    }
   ],
   "source": [
    "for n in response.source_nodes:\n",
    "    print(n.metadata)"
   ]
  },
  {
   "cell_type": "markdown",
   "metadata": {},
   "source": [
    "#### Creating a query to trigger the summary tool:"
   ]
  },
  {
   "cell_type": "code",
   "execution_count": 54,
   "metadata": {},
   "outputs": [
    {
     "name": "stdout",
     "output_type": "stream",
     "text": [
      "INFO:httpx:HTTP Request: POST https://api.openai.com/v1/chat/completions \"HTTP/1.1 200 OK\"\n",
      "HTTP Request: POST https://api.openai.com/v1/chat/completions \"HTTP/1.1 200 OK\"\n",
      "=== Calling Function ===\n",
      "Calling function: summary_tool with args: {\"input\": \"summary\"}\n",
      "INFO:httpx:HTTP Request: POST https://api.openai.com/v1/chat/completions \"HTTP/1.1 200 OK\"\n",
      "HTTP Request: POST https://api.openai.com/v1/chat/completions \"HTTP/1.1 200 OK\"\n",
      "=== Function Output ===\n",
      "MetaGPT is a novel meta-programming framework designed for multi-agent collaboration utilizing Large Language Models (LLMs). It addresses the challenges faced by existing LLM-based systems, particularly in solving complex tasks that often lead to logic inconsistencies and errors due to cascading hallucinations. By incorporating Standardized Operating Procedures (SOPs), MetaGPT streamlines workflows and enhances the accuracy of task execution.\n",
      "\n",
      "The framework employs a structured approach where agents are assigned specific roles, such as Product Manager, Architect, Engineer, and QA Engineer, each contributing specialized outputs. This role specialization allows for effective task decomposition and collaboration, significantly improving the coherence and quality of generated solutions.\n",
      "\n",
      "MetaGPT features a communication protocol that utilizes structured messaging and a publish-subscribe mechanism, enhancing information sharing among agents while minimizing irrelevant communication. Additionally, it includes an executable feedback mechanism that allows agents to debug and optimize code during runtime, further elevating the quality of code generation.\n",
      "\n",
      "Experimental results demonstrate that MetaGPT achieves state-of-the-art performance on various benchmarks, including HumanEval and MBPP, outperforming other frameworks in terms of executability and efficiency. The framework's design not only facilitates effective collaboration among agents but also sets a foundation for future research in human-inspired techniques for artificial multi-agent systems.\n"
     ]
    }
   ],
   "source": [
    "response = llm.predict_and_call(\n",
    "    [vector_query_tool, summary_tool], \n",
    "    \"What is a summary of the paper?\", \n",
    "    verbose=True\n",
    ")"
   ]
  },
  {
   "cell_type": "code",
   "execution_count": 55,
   "metadata": {},
   "outputs": [
    {
     "name": "stdout",
     "output_type": "stream",
     "text": [
      "{'page_label': '1', 'file_name': 'metagpt.pdf', 'file_path': '../../Data/metagpt.pdf', 'file_type': 'application/pdf', 'file_size': 16911937, 'creation_date': '2024-11-09', 'last_modified_date': '2024-11-09'}\n",
      "{'page_label': '2', 'file_name': 'metagpt.pdf', 'file_path': '../../Data/metagpt.pdf', 'file_type': 'application/pdf', 'file_size': 16911937, 'creation_date': '2024-11-09', 'last_modified_date': '2024-11-09'}\n",
      "{'page_label': '3', 'file_name': 'metagpt.pdf', 'file_path': '../../Data/metagpt.pdf', 'file_type': 'application/pdf', 'file_size': 16911937, 'creation_date': '2024-11-09', 'last_modified_date': '2024-11-09'}\n",
      "{'page_label': '3', 'file_name': 'metagpt.pdf', 'file_path': '../../Data/metagpt.pdf', 'file_type': 'application/pdf', 'file_size': 16911937, 'creation_date': '2024-11-09', 'last_modified_date': '2024-11-09'}\n",
      "{'page_label': '4', 'file_name': 'metagpt.pdf', 'file_path': '../../Data/metagpt.pdf', 'file_type': 'application/pdf', 'file_size': 16911937, 'creation_date': '2024-11-09', 'last_modified_date': '2024-11-09'}\n",
      "{'page_label': '5', 'file_name': 'metagpt.pdf', 'file_path': '../../Data/metagpt.pdf', 'file_type': 'application/pdf', 'file_size': 16911937, 'creation_date': '2024-11-09', 'last_modified_date': '2024-11-09'}\n",
      "{'page_label': '6', 'file_name': 'metagpt.pdf', 'file_path': '../../Data/metagpt.pdf', 'file_type': 'application/pdf', 'file_size': 16911937, 'creation_date': '2024-11-09', 'last_modified_date': '2024-11-09'}\n",
      "{'page_label': '7', 'file_name': 'metagpt.pdf', 'file_path': '../../Data/metagpt.pdf', 'file_type': 'application/pdf', 'file_size': 16911937, 'creation_date': '2024-11-09', 'last_modified_date': '2024-11-09'}\n",
      "{'page_label': '7', 'file_name': 'metagpt.pdf', 'file_path': '../../Data/metagpt.pdf', 'file_type': 'application/pdf', 'file_size': 16911937, 'creation_date': '2024-11-09', 'last_modified_date': '2024-11-09'}\n",
      "{'page_label': '8', 'file_name': 'metagpt.pdf', 'file_path': '../../Data/metagpt.pdf', 'file_type': 'application/pdf', 'file_size': 16911937, 'creation_date': '2024-11-09', 'last_modified_date': '2024-11-09'}\n",
      "{'page_label': '9', 'file_name': 'metagpt.pdf', 'file_path': '../../Data/metagpt.pdf', 'file_type': 'application/pdf', 'file_size': 16911937, 'creation_date': '2024-11-09', 'last_modified_date': '2024-11-09'}\n",
      "{'page_label': '10', 'file_name': 'metagpt.pdf', 'file_path': '../../Data/metagpt.pdf', 'file_type': 'application/pdf', 'file_size': 16911937, 'creation_date': '2024-11-09', 'last_modified_date': '2024-11-09'}\n",
      "{'page_label': '10', 'file_name': 'metagpt.pdf', 'file_path': '../../Data/metagpt.pdf', 'file_type': 'application/pdf', 'file_size': 16911937, 'creation_date': '2024-11-09', 'last_modified_date': '2024-11-09'}\n",
      "{'page_label': '11', 'file_name': 'metagpt.pdf', 'file_path': '../../Data/metagpt.pdf', 'file_type': 'application/pdf', 'file_size': 16911937, 'creation_date': '2024-11-09', 'last_modified_date': '2024-11-09'}\n",
      "{'page_label': '11', 'file_name': 'metagpt.pdf', 'file_path': '../../Data/metagpt.pdf', 'file_type': 'application/pdf', 'file_size': 16911937, 'creation_date': '2024-11-09', 'last_modified_date': '2024-11-09'}\n",
      "{'page_label': '12', 'file_name': 'metagpt.pdf', 'file_path': '../../Data/metagpt.pdf', 'file_type': 'application/pdf', 'file_size': 16911937, 'creation_date': '2024-11-09', 'last_modified_date': '2024-11-09'}\n",
      "{'page_label': '12', 'file_name': 'metagpt.pdf', 'file_path': '../../Data/metagpt.pdf', 'file_type': 'application/pdf', 'file_size': 16911937, 'creation_date': '2024-11-09', 'last_modified_date': '2024-11-09'}\n",
      "{'page_label': '13', 'file_name': 'metagpt.pdf', 'file_path': '../../Data/metagpt.pdf', 'file_type': 'application/pdf', 'file_size': 16911937, 'creation_date': '2024-11-09', 'last_modified_date': '2024-11-09'}\n",
      "{'page_label': '14', 'file_name': 'metagpt.pdf', 'file_path': '../../Data/metagpt.pdf', 'file_type': 'application/pdf', 'file_size': 16911937, 'creation_date': '2024-11-09', 'last_modified_date': '2024-11-09'}\n",
      "{'page_label': '15', 'file_name': 'metagpt.pdf', 'file_path': '../../Data/metagpt.pdf', 'file_type': 'application/pdf', 'file_size': 16911937, 'creation_date': '2024-11-09', 'last_modified_date': '2024-11-09'}\n",
      "{'page_label': '16', 'file_name': 'metagpt.pdf', 'file_path': '../../Data/metagpt.pdf', 'file_type': 'application/pdf', 'file_size': 16911937, 'creation_date': '2024-11-09', 'last_modified_date': '2024-11-09'}\n",
      "{'page_label': '17', 'file_name': 'metagpt.pdf', 'file_path': '../../Data/metagpt.pdf', 'file_type': 'application/pdf', 'file_size': 16911937, 'creation_date': '2024-11-09', 'last_modified_date': '2024-11-09'}\n",
      "{'page_label': '18', 'file_name': 'metagpt.pdf', 'file_path': '../../Data/metagpt.pdf', 'file_type': 'application/pdf', 'file_size': 16911937, 'creation_date': '2024-11-09', 'last_modified_date': '2024-11-09'}\n",
      "{'page_label': '19', 'file_name': 'metagpt.pdf', 'file_path': '../../Data/metagpt.pdf', 'file_type': 'application/pdf', 'file_size': 16911937, 'creation_date': '2024-11-09', 'last_modified_date': '2024-11-09'}\n",
      "{'page_label': '20', 'file_name': 'metagpt.pdf', 'file_path': '../../Data/metagpt.pdf', 'file_type': 'application/pdf', 'file_size': 16911937, 'creation_date': '2024-11-09', 'last_modified_date': '2024-11-09'}\n",
      "{'page_label': '21', 'file_name': 'metagpt.pdf', 'file_path': '../../Data/metagpt.pdf', 'file_type': 'application/pdf', 'file_size': 16911937, 'creation_date': '2024-11-09', 'last_modified_date': '2024-11-09'}\n",
      "{'page_label': '22', 'file_name': 'metagpt.pdf', 'file_path': '../../Data/metagpt.pdf', 'file_type': 'application/pdf', 'file_size': 16911937, 'creation_date': '2024-11-09', 'last_modified_date': '2024-11-09'}\n",
      "{'page_label': '23', 'file_name': 'metagpt.pdf', 'file_path': '../../Data/metagpt.pdf', 'file_type': 'application/pdf', 'file_size': 16911937, 'creation_date': '2024-11-09', 'last_modified_date': '2024-11-09'}\n",
      "{'page_label': '24', 'file_name': 'metagpt.pdf', 'file_path': '../../Data/metagpt.pdf', 'file_type': 'application/pdf', 'file_size': 16911937, 'creation_date': '2024-11-09', 'last_modified_date': '2024-11-09'}\n",
      "{'page_label': '25', 'file_name': 'metagpt.pdf', 'file_path': '../../Data/metagpt.pdf', 'file_type': 'application/pdf', 'file_size': 16911937, 'creation_date': '2024-11-09', 'last_modified_date': '2024-11-09'}\n",
      "{'page_label': '26', 'file_name': 'metagpt.pdf', 'file_path': '../../Data/metagpt.pdf', 'file_type': 'application/pdf', 'file_size': 16911937, 'creation_date': '2024-11-09', 'last_modified_date': '2024-11-09'}\n",
      "{'page_label': '27', 'file_name': 'metagpt.pdf', 'file_path': '../../Data/metagpt.pdf', 'file_type': 'application/pdf', 'file_size': 16911937, 'creation_date': '2024-11-09', 'last_modified_date': '2024-11-09'}\n",
      "{'page_label': '28', 'file_name': 'metagpt.pdf', 'file_path': '../../Data/metagpt.pdf', 'file_type': 'application/pdf', 'file_size': 16911937, 'creation_date': '2024-11-09', 'last_modified_date': '2024-11-09'}\n",
      "{'page_label': '29', 'file_name': 'metagpt.pdf', 'file_path': '../../Data/metagpt.pdf', 'file_type': 'application/pdf', 'file_size': 16911937, 'creation_date': '2024-11-09', 'last_modified_date': '2024-11-09'}\n"
     ]
    }
   ],
   "source": [
    "for n in response.source_nodes:\n",
    "    print(n.metadata)"
   ]
  },
  {
   "cell_type": "markdown",
   "metadata": {},
   "source": [
    "# 4rd. Example - [Building an Agent Reasoning Loop](https://docs.llamaindex.ai/en/latest/examples/agent/return_direct_agent/) with memory  \n",
    "### The agent reasoning loop keeps the session alive and works interactively  "
   ]
  },
  {
   "cell_type": "code",
   "execution_count": 57,
   "metadata": {},
   "outputs": [
    {
     "data": {
      "image/png": "[encoded data removed]",
      "text/plain": [
       "<IPython.core.display.Image object>"
      ]
     },
     "execution_count": 57,
     "metadata": {},
     "output_type": "execute_result"
    }
   ],
   "source": [
    "Image(filename=\"../../Imgs/20240516_201241.png\")"
   ]
  },
  {
   "cell_type": "code",
   "execution_count": 58,
   "metadata": {},
   "outputs": [
    {
     "data": {
      "image/png": "[encoded data removed]",
      "text/plain": [
       "<IPython.core.display.Image object>"
      ]
     },
     "execution_count": 58,
     "metadata": {},
     "output_type": "execute_result"
    }
   ],
   "source": [
    "Image(filename=\"../../Imgs/20240516_201558.png\")"
   ]
  },
  {
   "cell_type": "code",
   "execution_count": 59,
   "metadata": {},
   "outputs": [],
   "source": [
    "## Uncomment if not ran before\n",
    "## vector_tool, summary_tool as defined before\n",
    "#import nest_asyncio\n",
    "#nest_asyncio.apply()"
   ]
  },
  {
   "cell_type": "code",
   "execution_count": 60,
   "metadata": {},
   "outputs": [],
   "source": [
    "from llama_index.core.agent import FunctionCallingAgentWorker\n",
    "from llama_index.core.agent import AgentRunner\n",
    "\n",
    "agent_worker = FunctionCallingAgentWorker.from_tools(\n",
    "    [vector_tool, summary_tool], \n",
    "    llm=llm, \n",
    "    verbose=True\n",
    ")\n",
    "agent = AgentRunner(agent_worker)"
   ]
  },
  {
   "cell_type": "markdown",
   "metadata": {},
   "source": [
    "#### Let's make a two steps query"
   ]
  },
  {
   "cell_type": "code",
   "execution_count": 61,
   "metadata": {},
   "outputs": [
    {
     "name": "stdout",
     "output_type": "stream",
     "text": [
      "Added user message to memory: What are the MetaGPT comparisons with ChatDev described on page 8,and how Agents communicate with other agents?\n",
      "INFO:httpx:HTTP Request: POST https://api.openai.com/v1/chat/completions \"HTTP/1.1 200 OK\"\n",
      "HTTP Request: POST https://api.openai.com/v1/chat/completions \"HTTP/1.1 200 OK\"\n",
      "=== Calling Function ===\n",
      "Calling function: query_engine_tool with args: {\"input\": \"MetaGPT comparisons with ChatDev described on page 8\"}\n",
      "INFO:httpx:HTTP Request: POST https://api.openai.com/v1/embeddings \"HTTP/1.1 200 OK\"\n",
      "HTTP Request: POST https://api.openai.com/v1/embeddings \"HTTP/1.1 200 OK\"\n",
      "INFO:httpx:HTTP Request: POST https://api.openai.com/v1/chat/completions \"HTTP/1.1 200 OK\"\n",
      "HTTP Request: POST https://api.openai.com/v1/chat/completions \"HTTP/1.1 200 OK\"\n",
      "=== Function Output ===\n",
      "MetaGPT demonstrates superior performance compared to ChatDev across various metrics in the SoftwareDev dataset. Specifically, MetaGPT achieves an executability score of 3.75, significantly higher than ChatDev's score of 2.25. In terms of running time, MetaGPT takes 503 seconds, which is less than ChatDev's 762 seconds. Although MetaGPT requires more tokens for code generation (24,613 or 31,255 compared to ChatDev's 19,292), it generates code more efficiently, needing only 126.5/124.3 tokens per line, while ChatDev uses 248.9 tokens. Additionally, MetaGPT produces more code files and lines of code per file, leading to a total of 251.4 lines compared to ChatDev's 77.5. The human revision cost is also lower for MetaGPT at 0.83, compared to ChatDev's 2.5, indicating a more effective code generation process. Overall, these results highlight the advantages of MetaGPT in software development tasks.\n",
      "=== Calling Function ===\n",
      "Calling function: query_engine_tool with args: {\"input\": \"How Agents communicate with other agents in MetaGPT\"}\n",
      "INFO:httpx:HTTP Request: POST https://api.openai.com/v1/embeddings \"HTTP/1.1 200 OK\"\n",
      "HTTP Request: POST https://api.openai.com/v1/embeddings \"HTTP/1.1 200 OK\"\n",
      "INFO:httpx:HTTP Request: POST https://api.openai.com/v1/chat/completions \"HTTP/1.1 200 OK\"\n",
      "HTTP Request: POST https://api.openai.com/v1/chat/completions \"HTTP/1.1 200 OK\"\n",
      "=== Function Output ===\n",
      "Agents in MetaGPT communicate through a structured communication protocol that utilizes a shared message pool. This allows agents to publish structured messages and subscribe to relevant messages based on their profiles. Each agent monitors the message pool to identify important observations, which can trigger actions or assist in completing tasks. Instead of relying on one-to-one dialogue, agents exchange information through documents and diagrams, ensuring that all necessary details are included and reducing the risk of irrelevant or missing content. Additionally, a subscription mechanism enables agents to filter and receive only task-related information, enhancing communication efficiency and preventing information overload.\n",
      "INFO:httpx:HTTP Request: POST https://api.openai.com/v1/chat/completions \"HTTP/1.1 200 OK\"\n",
      "HTTP Request: POST https://api.openai.com/v1/chat/completions \"HTTP/1.1 200 OK\"\n",
      "=== LLM Response ===\n",
      "### MetaGPT Comparisons with ChatDev\n",
      "\n",
      "MetaGPT demonstrates superior performance compared to ChatDev across various metrics in the SoftwareDev dataset:\n",
      "\n",
      "- **Executability Score**: MetaGPT achieves a score of 3.75, significantly higher than ChatDev's score of 2.25.\n",
      "- **Running Time**: MetaGPT takes 503 seconds, which is less than ChatDev's 762 seconds.\n",
      "- **Token Usage**: Although MetaGPT requires more tokens for code generation (24,613 or 31,255 compared to ChatDev's 19,292), it generates code more efficiently, needing only 126.5/124.3 tokens per line, while ChatDev uses 248.9 tokens.\n",
      "- **Code Generation**: MetaGPT produces more code files and lines of code per file, leading to a total of 251.4 lines compared to ChatDev's 77.5.\n",
      "- **Human Revision Cost**: MetaGPT has a lower revision cost at 0.83, compared to ChatDev's 2.5, indicating a more effective code generation process.\n",
      "\n",
      "Overall, these results highlight the advantages of MetaGPT in software development tasks.\n",
      "\n",
      "### Agent Communication in MetaGPT\n",
      "\n",
      "Agents in MetaGPT communicate through a structured communication protocol using a shared message pool. This system allows agents to:\n",
      "\n",
      "- **Publish and Subscribe**: Agents publish structured messages and subscribe to relevant messages based on their profiles.\n",
      "- **Monitor and Trigger Actions**: Each agent monitors the message pool to identify important observations, which can trigger actions or assist in completing tasks.\n",
      "- **Document and Diagram Exchange**: Instead of relying on one-to-one dialogue, agents exchange information through documents and diagrams, ensuring all necessary details are included and reducing the risk of irrelevant or missing content.\n",
      "- **Subscription Mechanism**: This enables agents to filter and receive only task-related information, enhancing communication efficiency and preventing information overload.\n"
     ]
    }
   ],
   "source": [
    "response = agent.query(\n",
    "    \"What are the MetaGPT comparisons with ChatDev described on page 8,\"\n",
    "    \"and how Agents communicate with other agents?\"\n",
    ")"
   ]
  },
  {
   "cell_type": "code",
   "execution_count": 62,
   "metadata": {},
   "outputs": [
    {
     "name": "stdout",
     "output_type": "stream",
     "text": [
      "page_label: 8\n",
      "file_name: metagpt.pdf\n",
      "file_path: ../../Data/metagpt.pdf\n",
      "file_type: application/pdf\n",
      "file_size: 16911937\n",
      "creation_date: 2024-11-09\n",
      "last_modified_date: 2024-11-09\n",
      "\n",
      "Preprint\n",
      "Figure 5: Demo softwares developed by MetaGPT.\n",
      "in these two public benchmarks. Moreover, as shown in Table 1, MetaGPT outperforms ChatDev on\n",
      "the challenging SoftwareDev dataset in nearly all metrics. For example, considering the executabil-\n",
      "ity, MetaGPT achieves a score of 3.75, which is very close to 4 (flawless). Besides, it takes less time\n",
      "(503 seconds), clearly less than ChatDev. Considering the code statistic and the cost of human revi-\n",
      "sion, it also significantly outperforms ChatDev. Although MetaGPT requires more tokens (24,613\n",
      "or 31,255 compared to 19,292), it needs only 126.5/124.3 tokens to generate one line of code. In\n",
      "contrast, ChatDev uses 248.9 tokens. These results highlight the benefits of SOPs in collabora-\n",
      "tions between multiple agents. Additionally, we demonstrate the autonomous software generation\n",
      "capabilities of MetaGPT through visualization samples (Figure 5). For additional experiments and\n",
      "analysis, please refer to Appendix C.\n",
      "Table 1: The statistical analysis on SoftwareDev.\n",
      "Statistical Index ChatDev MetaGPT w/o Feedback MetaGPT\n",
      "(A)Executability 2.25 3.67 3.75\n",
      "(B)Cost#1: Running Times (s) 762 503 541\n",
      "(B)Cost#2: Token Usage 19,292 24,613 31,255\n",
      "(C)Code Statistic#1: Code Files 1.9 4.6 5.1\n",
      "(C)Code Statistic#2: Lines of Code per File 40.8 42.3 49.3\n",
      "(C)Code Statistic#3: Total Code Lines 77.5 194.6 251.4\n",
      "(D)Productivity 248.9 126.5 124.3\n",
      "(E)Human Revision Cost 2.5 2.25 0.83\n",
      "4.3 C APABILITIES ANALYSIS\n",
      "Compared to open-source baseline methods such as AutoGPT and autonomous agents such as\n",
      "AgentVerse and ChatDev, MetaGPT offers functions for software engineering tasks. As presented\n",
      "in Table 2, our framework encompasses a wide range of abilities to handle complex and specialized\n",
      "development tasks efficiently. Incorporating SOPs (e.g., role-play expertise, structured communi-\n",
      "cation, streamlined workflow) can significantly improve code generation. Other baseline methods\n",
      "8\n"
     ]
    }
   ],
   "source": [
    "print(response.source_nodes[0].get_content(metadata_mode=\"all\"))"
   ]
  },
  {
   "cell_type": "code",
   "execution_count": 63,
   "metadata": {},
   "outputs": [
    {
     "name": "stdout",
     "output_type": "stream",
     "text": [
      "Added user message to memory: Tell me about the evaluation datasets used.\n",
      "INFO:httpx:HTTP Request: POST https://api.openai.com/v1/chat/completions \"HTTP/1.1 200 OK\"\n",
      "HTTP Request: POST https://api.openai.com/v1/chat/completions \"HTTP/1.1 200 OK\"\n",
      "=== Calling Function ===\n",
      "Calling function: query_engine_tool with args: {\"input\": \"evaluation datasets used in MetaGPT\"}\n",
      "INFO:httpx:HTTP Request: POST https://api.openai.com/v1/embeddings \"HTTP/1.1 200 OK\"\n",
      "HTTP Request: POST https://api.openai.com/v1/embeddings \"HTTP/1.1 200 OK\"\n",
      "INFO:httpx:HTTP Request: POST https://api.openai.com/v1/chat/completions \"HTTP/1.1 200 OK\"\n",
      "HTTP Request: POST https://api.openai.com/v1/chat/completions \"HTTP/1.1 200 OK\"\n",
      "=== Function Output ===\n",
      "MetaGPT utilizes the SoftwareDev dataset, which includes 70 diverse software development tasks. Additionally, it is evaluated using benchmarks such as HumanEval and MBPP, where it demonstrates superior performance compared to previous approaches.\n",
      "INFO:httpx:HTTP Request: POST https://api.openai.com/v1/chat/completions \"HTTP/1.1 200 OK\"\n",
      "HTTP Request: POST https://api.openai.com/v1/chat/completions \"HTTP/1.1 200 OK\"\n",
      "=== LLM Response ===\n",
      "MetaGPT is evaluated using the following datasets:\n",
      "\n",
      "1. **SoftwareDev Dataset**: This dataset includes 70 diverse software development tasks, providing a comprehensive evaluation of MetaGPT's capabilities in handling various software development challenges.\n",
      "\n",
      "2. **HumanEval and MBPP Benchmarks**: MetaGPT is also evaluated using these benchmarks, where it demonstrates superior performance compared to previous approaches. These benchmarks are commonly used to assess the effectiveness of AI models in code generation and problem-solving tasks.\n"
     ]
    }
   ],
   "source": [
    "response = agent.chat(\n",
    "    \"Tell me about the evaluation datasets used.\"\n",
    ")"
   ]
  },
  {
   "cell_type": "code",
   "execution_count": 64,
   "metadata": {},
   "outputs": [
    {
     "name": "stdout",
     "output_type": "stream",
     "text": [
      "Added user message to memory: Tell me the results over one of the above datasets.\n",
      "INFO:httpx:HTTP Request: POST https://api.openai.com/v1/chat/completions \"HTTP/1.1 200 OK\"\n",
      "HTTP Request: POST https://api.openai.com/v1/chat/completions \"HTTP/1.1 200 OK\"\n",
      "=== Calling Function ===\n",
      "Calling function: query_engine_tool with args: {\"input\": \"MetaGPT results on SoftwareDev dataset\"}\n",
      "INFO:httpx:HTTP Request: POST https://api.openai.com/v1/embeddings \"HTTP/1.1 200 OK\"\n",
      "HTTP Request: POST https://api.openai.com/v1/embeddings \"HTTP/1.1 200 OK\"\n",
      "INFO:httpx:HTTP Request: POST https://api.openai.com/v1/chat/completions \"HTTP/1.1 200 OK\"\n",
      "HTTP Request: POST https://api.openai.com/v1/chat/completions \"HTTP/1.1 200 OK\"\n",
      "=== Function Output ===\n",
      "MetaGPT demonstrates strong performance on the SoftwareDev dataset, achieving an average executability score of 3.75, which is significantly higher than ChatDev's score of 2.25. In terms of running time, MetaGPT requires 503 seconds, compared to ChatDev's 762 seconds. Although MetaGPT uses more tokens overall (31,255 compared to ChatDev's 19,292), it generates code more efficiently, needing only 124.3 tokens per line of code, while ChatDev requires 248.9 tokens. Additionally, MetaGPT produces more code files and lines of code, with an average of 5.1 code files and 251.4 total lines of code, further highlighting its effectiveness in software development tasks.\n",
      "INFO:httpx:HTTP Request: POST https://api.openai.com/v1/chat/completions \"HTTP/1.1 200 OK\"\n",
      "HTTP Request: POST https://api.openai.com/v1/chat/completions \"HTTP/1.1 200 OK\"\n",
      "=== LLM Response ===\n",
      "On the SoftwareDev dataset, MetaGPT demonstrates strong performance with the following results:\n",
      "\n",
      "- **Executability Score**: MetaGPT achieves an average score of 3.75, significantly higher than ChatDev's score of 2.25.\n",
      "- **Running Time**: MetaGPT requires 503 seconds, compared to ChatDev's 762 seconds.\n",
      "- **Token Usage**: While MetaGPT uses more tokens overall (31,255 compared to ChatDev's 19,292), it generates code more efficiently, needing only 124.3 tokens per line of code, whereas ChatDev requires 248.9 tokens.\n",
      "- **Code Generation**: MetaGPT produces more code files and lines of code, with an average of 5.1 code files and 251.4 total lines of code.\n",
      "\n",
      "These results highlight MetaGPT's effectiveness in handling software development tasks efficiently and effectively.\n"
     ]
    }
   ],
   "source": [
    "response = agent.chat(\"Tell me the results over one of the above datasets.\")"
   ]
  },
  {
   "cell_type": "markdown",
   "metadata": {},
   "source": [
    "## Lower-Level: Debuggability and Control"
   ]
  },
  {
   "cell_type": "code",
   "execution_count": 77,
   "metadata": {},
   "outputs": [],
   "source": [
    "agent_worker = FunctionCallingAgentWorker.from_tools(\n",
    "    [vector_tool, summary_tool], \n",
    "    llm=llm, \n",
    "    verbose=True\n",
    ")\n",
    "agent = AgentRunner(agent_worker)"
   ]
  },
  {
   "cell_type": "code",
   "execution_count": 78,
   "metadata": {},
   "outputs": [],
   "source": [
    "task = agent.create_task(\n",
    "    \"Tell me about the agent roles in MetaGPT, \"\n",
    "    \"and then how they communicate with each other.\"\n",
    ")"
   ]
  },
  {
   "cell_type": "code",
   "execution_count": 79,
   "metadata": {},
   "outputs": [
    {
     "name": "stdout",
     "output_type": "stream",
     "text": [
      "Added user message to memory: Tell me about the agent roles in MetaGPT, and then how they communicate with each other.\n",
      "INFO:httpx:HTTP Request: POST https://api.openai.com/v1/chat/completions \"HTTP/1.1 200 OK\"\n",
      "HTTP Request: POST https://api.openai.com/v1/chat/completions \"HTTP/1.1 200 OK\"\n",
      "=== Calling Function ===\n",
      "Calling function: query_engine_tool with args: {\"input\": \"agent roles in MetaGPT\"}\n",
      "INFO:httpx:HTTP Request: POST https://api.openai.com/v1/embeddings \"HTTP/1.1 200 OK\"\n",
      "HTTP Request: POST https://api.openai.com/v1/embeddings \"HTTP/1.1 200 OK\"\n",
      "INFO:httpx:HTTP Request: POST https://api.openai.com/v1/chat/completions \"HTTP/1.1 200 OK\"\n",
      "HTTP Request: POST https://api.openai.com/v1/chat/completions \"HTTP/1.1 200 OK\"\n",
      "=== Function Output ===\n",
      "In MetaGPT, there are five defined roles within the framework of a simulated software company: Product Manager, Architect, Project Manager, Engineer, and QA Engineer. Each role has specific responsibilities and skills tailored to contribute to the overall workflow. For instance, the Product Manager focuses on business-oriented analysis, while the Engineer is responsible for programming tasks. The specialization of these roles allows for the breakdown of complex work into smaller, more manageable tasks, facilitating collaboration among agents with diverse expertise.\n",
      "=== Calling Function ===\n",
      "Calling function: query_engine_tool with args: {\"input\": \"communication between agents in MetaGPT\"}\n",
      "INFO:httpx:HTTP Request: POST https://api.openai.com/v1/embeddings \"HTTP/1.1 200 OK\"\n",
      "HTTP Request: POST https://api.openai.com/v1/embeddings \"HTTP/1.1 200 OK\"\n",
      "INFO:httpx:HTTP Request: POST https://api.openai.com/v1/chat/completions \"HTTP/1.1 200 OK\"\n",
      "HTTP Request: POST https://api.openai.com/v1/chat/completions \"HTTP/1.1 200 OK\"\n",
      "=== Function Output ===\n",
      "Communication between agents in MetaGPT is facilitated through a structured communication protocol that enhances efficiency. Agents utilize a shared message pool to publish and subscribe to structured messages relevant to their roles. This allows them to exchange information directly without the need for one-to-one inquiries, reducing communication overhead.\n",
      "\n",
      "Each agent has a defined profile that includes their specific role, goals, and constraints, enabling them to focus on task-related information. The subscription mechanism allows agents to filter and receive only the information pertinent to their tasks, minimizing distractions from irrelevant details.\n",
      "\n",
      "Additionally, agents communicate through structured outputs such as documents and diagrams, rather than dialogue, ensuring that all necessary information is conveyed clearly and completely. This structured approach helps prevent information distortion and overload, promoting effective collaboration among agents.\n"
     ]
    }
   ],
   "source": [
    "step_output = agent.run_step(task.task_id)"
   ]
  },
  {
   "cell_type": "code",
   "execution_count": 80,
   "metadata": {},
   "outputs": [
    {
     "name": "stdout",
     "output_type": "stream",
     "text": [
      "Num completed for task 58127451-7421-4085-947d-0c1c49c32aff: 1\n",
      "In MetaGPT, there are five defined roles within the framework of a simulated software company: Product Manager, Architect, Project Manager, Engineer, and QA Engineer. Each role has specific responsibilities and skills tailored to contribute to the overall workflow. For instance, the Product Manager focuses on business-oriented analysis, while the Engineer is responsible for programming tasks. The specialization of these roles allows for the breakdown of complex work into smaller, more manageable tasks, facilitating collaboration among agents with diverse expertise.\n"
     ]
    }
   ],
   "source": [
    "completed_steps = agent.get_completed_steps(task.task_id)\n",
    "print(f\"Num completed for task {task.task_id}: {len(completed_steps)}\")\n",
    "print(completed_steps[0].output.sources[0].raw_output)"
   ]
  },
  {
   "cell_type": "code",
   "execution_count": 81,
   "metadata": {},
   "outputs": [
    {
     "name": "stdout",
     "output_type": "stream",
     "text": [
      "Num upcoming steps for task 58127451-7421-4085-947d-0c1c49c32aff: 1\n"
     ]
    },
    {
     "data": {
      "text/plain": [
       "TaskStep(task_id='58127451-7421-4085-947d-0c1c49c32aff', step_id='de99c93f-dc04-438e-9627-70d0f597d1bd', input=None, step_state={}, next_steps={}, prev_steps={}, is_ready=True)"
      ]
     },
     "execution_count": 81,
     "metadata": {},
     "output_type": "execute_result"
    }
   ],
   "source": [
    "upcoming_steps = agent.get_upcoming_steps(task.task_id)\n",
    "print(f\"Num upcoming steps for task {task.task_id}: {len(upcoming_steps)}\")\n",
    "upcoming_steps[0]"
   ]
  },
  {
   "cell_type": "markdown",
   "metadata": {},
   "source": [
    "### Inserting a new step in the task"
   ]
  },
  {
   "cell_type": "code",
   "execution_count": 82,
   "metadata": {},
   "outputs": [
    {
     "name": "stdout",
     "output_type": "stream",
     "text": [
      "Added user message to memory: What about how agents share information?\n",
      "INFO:httpx:HTTP Request: POST https://api.openai.com/v1/chat/completions \"HTTP/1.1 200 OK\"\n",
      "HTTP Request: POST https://api.openai.com/v1/chat/completions \"HTTP/1.1 200 OK\"\n",
      "=== LLM Response ===\n",
      "In MetaGPT, agents share information through a structured communication protocol that enhances efficiency. They utilize a shared message pool to publish and subscribe to structured messages relevant to their roles. This system allows agents to exchange information directly without the need for one-to-one inquiries, thereby reducing communication overhead.\n",
      "\n",
      "Each agent has a defined profile that includes their specific role, goals, and constraints, which enables them to focus on task-related information. The subscription mechanism allows agents to filter and receive only the information pertinent to their tasks, minimizing distractions from irrelevant details.\n",
      "\n",
      "Moreover, agents communicate through structured outputs such as documents and diagrams, rather than dialogue. This ensures that all necessary information is conveyed clearly and completely, helping to prevent information distortion and overload. This structured approach promotes effective collaboration among agents by ensuring that the information shared is relevant and well-organized.\n"
     ]
    }
   ],
   "source": [
    "step_output = agent.run_step(\n",
    "    task.task_id, input=\"What about how agents share information?\"\n",
    ")"
   ]
  },
  {
   "cell_type": "code",
   "execution_count": 83,
   "metadata": {},
   "outputs": [
    {
     "name": "stdout",
     "output_type": "stream",
     "text": [
      "True\n"
     ]
    }
   ],
   "source": [
    "print(step_output.is_last)\n",
    "#step_output = agent.run_step(task.task_id)   ##Error"
   ]
  },
  {
   "cell_type": "code",
   "execution_count": 84,
   "metadata": {},
   "outputs": [],
   "source": [
    "response = agent.finalize_response(task.task_id)"
   ]
  },
  {
   "cell_type": "code",
   "execution_count": 85,
   "metadata": {},
   "outputs": [
    {
     "name": "stdout",
     "output_type": "stream",
     "text": [
      "In MetaGPT, agents share information through a structured communication protocol that enhances efficiency. They utilize a shared message pool to publish and subscribe to structured messages relevant to their roles. This system allows agents to exchange information directly without the need for one-to-one inquiries, thereby reducing communication overhead.\n",
      "\n",
      "Each agent has a defined profile that includes their specific role, goals, and constraints, which enables them to focus on task-related information. The subscription mechanism allows agents to filter and receive only the information pertinent to their tasks, minimizing distractions from irrelevant details.\n",
      "\n",
      "Moreover, agents communicate through structured outputs such as documents and diagrams, rather than dialogue. This ensures that all necessary information is conveyed clearly and completely, helping to prevent information distortion and overload. This structured approach promotes effective collaboration among agents by ensuring that the information shared is relevant and well-organized.\n"
     ]
    }
   ],
   "source": [
    "print(str(response))"
   ]
  },
  {
   "cell_type": "markdown",
   "metadata": {},
   "source": [
    "# 5th. Example - [Building a Multi-Document Agent](https://docs.llamaindex.ai/en/stable/examples/agent/multi_document_agents/)"
   ]
  },
  {
   "cell_type": "code",
   "execution_count": 87,
   "metadata": {},
   "outputs": [
    {
     "data": {
      "image/png": "[encoded data removed]",
      "text/plain": [
       "<IPython.core.display.Image object>"
      ]
     },
     "execution_count": 87,
     "metadata": {},
     "output_type": "execute_result"
    }
   ],
   "source": [
    "Image(filename=\"../../Imgs/20240516_230659.png\") "
   ]
  },
  {
   "cell_type": "markdown",
   "metadata": {},
   "source": [
    "## Setup an Multi-Document Agent over 3 papers"
   ]
  },
  {
   "cell_type": "code",
   "execution_count": 88,
   "metadata": {},
   "outputs": [],
   "source": [
    "## Uncomment if not ran before\n",
    "#import nest_asyncio\n",
    "#nest_asyncio.apply()\n",
    "#from llama_index.core import SimpleDirectoryReader, VectorStoreIndex, SummaryIndex\n",
    "#from llama_index.core.node_parser import SentenceSplitter\n",
    "#from llama_index.core.tools import FunctionTool, QueryEngineTool\n",
    "#from llama_index.core.vector_stores import MetadataFilters, FilterCondition\n",
    "from typing import List, Optional\n",
    "from pathlib import Path"
   ]
  },
  {
   "cell_type": "code",
   "execution_count": 89,
   "metadata": {},
   "outputs": [],
   "source": [
    "def get_doc_tools(file_path: str, name: str,) -> str:\n",
    "    \"\"\"Get vector query and summary query tools from a document.\"\"\"\n",
    "\n",
    "    documents = SimpleDirectoryReader(input_files=[file_path]).load_data()\n",
    "    splitter = SentenceSplitter(chunk_size=1024)\n",
    "    nodes = splitter.get_nodes_from_documents(documents)\n",
    "    vector_index = VectorStoreIndex(nodes)\n",
    "    \n",
    "    def vector_query(query: str, page_numbers: Optional[List[str]] = None) -> str:\n",
    "        \"\"\"Use to answer questions over a given paper.\n",
    "    \n",
    "        Useful if you have specific questions over the paper.\n",
    "        Always leave page_numbers as None UNLESS there is a specific page you want to search for.\n",
    "    \n",
    "        Args:\n",
    "            query (str): the string query to be embedded.\n",
    "            page_numbers (Optional[List[str]]): Filter by set of pages. Leave as NONE \n",
    "                if we want to perform a vector search\n",
    "                over all pages. Otherwise, filter by the set of specified pages.\n",
    "        \n",
    "        \"\"\"\n",
    "    \n",
    "        page_numbers = page_numbers or []\n",
    "        metadata_dicts = [{\"key\": \"page_label\", \"value\": p} for p in page_numbers]\n",
    "        query_engine = vector_index.as_query_engine(similarity_top_k=2,\n",
    "                                                    filters=MetadataFilters.from_dicts(metadata_dicts,\n",
    "                                                                                       condition=FilterCondition.OR)\n",
    "                                                   )\n",
    "        response = query_engine.query(query)\n",
    "        return response\n",
    "    \n",
    "    vector_query_tool = FunctionTool.from_defaults(name=f\"vector_tool_{name}\", fn=vector_query)\n",
    "    \n",
    "    summary_index = SummaryIndex(nodes)\n",
    "    summary_query_engine = summary_index.as_query_engine(response_mode=\"tree_summarize\",                                                  use_async=True,)\n",
    "    summary_tool = QueryEngineTool.from_defaults(name=f\"summary_tool_{name}\",\n",
    "                                                 query_engine=summary_query_engine,\n",
    "                                                 description=(f\"Useful for summarization questions related to {name}\"),)\n",
    "\n",
    "    return vector_query_tool, summary_tool"
   ]
  },
  {
   "cell_type": "code",
   "execution_count": 90,
   "metadata": {},
   "outputs": [
    {
     "name": "stdout",
     "output_type": "stream",
     "text": [
      "Files in ../../Data/\n",
      ".ipynb_checkpoints\n",
      "1.pdf\n",
      "Lightroom.jpeg\n",
      "Sign.png\n",
      "Vienna_dataset.json\n",
      "Vienna_image.png\n",
      "Vienna_mask.png\n",
      "WarrenCommissionReport.txt\n",
      "attention.png\n",
      "axis_report.pdf\n",
      "california_housing_train.csv\n",
      "fossils.jpeg\n",
      "handwritten.jpg\n",
      "handwritten2.jpg\n",
      "handwritten3.jpg\n",
      "hdfc_report.pdf\n",
      "hr.sqlite\n",
      "icici_report.pdf\n",
      "imageToSave.png\n",
      "imageToSave2.png\n",
      "kafka_metamorphosis.txt\n",
      "keynote_recap.mp3\n",
      "keynote_recap.mp4\n",
      "knowledge_card.pdf\n",
      "loftq.pdf\n",
      "longlora.pdf\n",
      "lyft_2021.pdf\n",
      "metagpt.pdf\n",
      "metra.pdf\n",
      "new_rag_dataset.json\n",
      "nyc_text.txt\n",
      "paul_graham_essay.txt\n",
      "rag_dataset.json\n",
      "selfrag.pdf\n",
      "sound_english.mp3\n",
      "sound_german.mp3\n",
      "sound_portuguese.mp3\n",
      "speech.mp3\n",
      "swebench.pdf\n",
      "triangle.png\n",
      "uber_2021.pdf\n",
      "values.pdf\n",
      "vr_mcl.pdf\n",
      "zipformer.pdf\n"
     ]
    }
   ],
   "source": [
    "docs = os.listdir(DOCS_DIR)\n",
    "docs = [d for d in docs]\n",
    "docs.sort()\n",
    "print(f\"Files in {DOCS_DIR}\")\n",
    "for doc in docs:\n",
    "    print(doc)"
   ]
  },
  {
   "cell_type": "code",
   "execution_count": 91,
   "metadata": {},
   "outputs": [],
   "source": [
    "papers = [\n",
    "    \"../../Data/metagpt.pdf\",\n",
    "    \"../../Data/longlora.pdf\",\n",
    "    \"../../Data/selfrag.pdf\",\n",
    "]"
   ]
  },
  {
   "cell_type": "code",
   "execution_count": 92,
   "metadata": {},
   "outputs": [
    {
     "name": "stdout",
     "output_type": "stream",
     "text": [
      "Getting tools for paper: ../../Data/metagpt.pdf\n",
      "INFO:httpx:HTTP Request: POST https://api.openai.com/v1/embeddings \"HTTP/1.1 200 OK\"\n",
      "HTTP Request: POST https://api.openai.com/v1/embeddings \"HTTP/1.1 200 OK\"\n",
      "Getting tools for paper: ../../Data/longlora.pdf\n",
      "INFO:httpx:HTTP Request: POST https://api.openai.com/v1/embeddings \"HTTP/1.1 200 OK\"\n",
      "HTTP Request: POST https://api.openai.com/v1/embeddings \"HTTP/1.1 200 OK\"\n",
      "Getting tools for paper: ../../Data/selfrag.pdf\n",
      "INFO:httpx:HTTP Request: POST https://api.openai.com/v1/embeddings \"HTTP/1.1 200 OK\"\n",
      "HTTP Request: POST https://api.openai.com/v1/embeddings \"HTTP/1.1 200 OK\"\n"
     ]
    }
   ],
   "source": [
    "paper_to_tools_dict = {}\n",
    "for paper in papers:\n",
    "    print(f\"Getting tools for paper: {paper}\")\n",
    "    vector_tool, summary_tool = get_doc_tools(paper, Path(paper).stem)\n",
    "    paper_to_tools_dict[paper] = [vector_tool, summary_tool]"
   ]
  },
  {
   "cell_type": "code",
   "execution_count": 93,
   "metadata": {},
   "outputs": [
    {
     "name": "stdout",
     "output_type": "stream",
     "text": [
      "6\n"
     ]
    }
   ],
   "source": [
    "initial_tools = [t for paper in papers for t in paper_to_tools_dict[paper]]\n",
    "print(len(initial_tools))"
   ]
  },
  {
   "cell_type": "code",
   "execution_count": 94,
   "metadata": {},
   "outputs": [],
   "source": [
    "from llama_index.core.agent import FunctionCallingAgentWorker\n",
    "from llama_index.core.agent import AgentRunner\n",
    "\n",
    "agent_worker = FunctionCallingAgentWorker.from_tools(\n",
    "    initial_tools, \n",
    "    llm=llm, \n",
    "    verbose=True\n",
    ")\n",
    "agent = AgentRunner(agent_worker)"
   ]
  },
  {
   "cell_type": "code",
   "execution_count": 95,
   "metadata": {},
   "outputs": [
    {
     "name": "stdout",
     "output_type": "stream",
     "text": [
      "Added user message to memory: Tell me about the evaluation dataset used in LongLoRA, and then tell me about the evaluation results\n",
      "INFO:httpx:HTTP Request: POST https://api.openai.com/v1/chat/completions \"HTTP/1.1 200 OK\"\n",
      "HTTP Request: POST https://api.openai.com/v1/chat/completions \"HTTP/1.1 200 OK\"\n",
      "=== Calling Function ===\n",
      "Calling function: vector_tool_longlora with args: {\"query\": \"evaluation dataset used in LongLoRA\"}\n",
      "INFO:httpx:HTTP Request: POST https://api.openai.com/v1/embeddings \"HTTP/1.1 200 OK\"\n",
      "HTTP Request: POST https://api.openai.com/v1/embeddings \"HTTP/1.1 200 OK\"\n",
      "INFO:httpx:HTTP Request: POST https://api.openai.com/v1/chat/completions \"HTTP/1.1 200 OK\"\n",
      "HTTP Request: POST https://api.openai.com/v1/chat/completions \"HTTP/1.1 200 OK\"\n",
      "=== Function Output ===\n",
      "The evaluation dataset used in LongLoRA is the proof-pile test set.\n",
      "=== Calling Function ===\n",
      "Calling function: vector_tool_longlora with args: {\"query\": \"evaluation results of LongLoRA\"}\n",
      "INFO:httpx:HTTP Request: POST https://api.openai.com/v1/embeddings \"HTTP/1.1 200 OK\"\n",
      "HTTP Request: POST https://api.openai.com/v1/embeddings \"HTTP/1.1 200 OK\"\n",
      "INFO:httpx:HTTP Request: POST https://api.openai.com/v1/chat/completions \"HTTP/1.1 200 OK\"\n",
      "HTTP Request: POST https://api.openai.com/v1/chat/completions \"HTTP/1.1 200 OK\"\n",
      "=== Function Output ===\n",
      "The evaluation results of LongLoRA indicate that it efficiently extends the context length of LLMs with less GPU memory cost and training time compared to standard full fine-tuning, while maintaining minimal accuracy compromise. The method allows the Llama2 7B model to achieve a context length of 100k and the 70B model to reach 32k context length, all on a single 8 × A100 machine. Additionally, LongLoRA bridges the gap between LoRA and full fine-tuning through trainable normalization and embedding, demonstrating its effectiveness in fine-tuning pre-trained LLMs for long context adaptation.\n",
      "INFO:httpx:HTTP Request: POST https://api.openai.com/v1/chat/completions \"HTTP/1.1 200 OK\"\n",
      "HTTP Request: POST https://api.openai.com/v1/chat/completions \"HTTP/1.1 200 OK\"\n",
      "=== LLM Response ===\n",
      "The evaluation dataset used in LongLoRA is the proof-pile test set.\n",
      "\n",
      "As for the evaluation results, LongLoRA efficiently extends the context length of large language models (LLMs) with less GPU memory cost and training time compared to standard full fine-tuning, while maintaining minimal accuracy compromise. The method allows the Llama2 7B model to achieve a context length of 100k and the 70B model to reach a 32k context length, all on a single 8 × A100 machine. Additionally, LongLoRA bridges the gap between LoRA and full fine-tuning through trainable normalization and embedding, demonstrating its effectiveness in fine-tuning pre-trained LLMs for long context adaptation.\n"
     ]
    }
   ],
   "source": [
    "response = agent.query(\n",
    "    \"Tell me about the evaluation dataset used in LongLoRA, \"\n",
    "    \"and then tell me about the evaluation results\"\n",
    ")"
   ]
  },
  {
   "cell_type": "code",
   "execution_count": 96,
   "metadata": {},
   "outputs": [
    {
     "name": "stdout",
     "output_type": "stream",
     "text": [
      "Added user message to memory: Give me a summary of both Self-RAG and LongLoRA\n",
      "INFO:httpx:HTTP Request: POST https://api.openai.com/v1/chat/completions \"HTTP/1.1 200 OK\"\n",
      "HTTP Request: POST https://api.openai.com/v1/chat/completions \"HTTP/1.1 200 OK\"\n",
      "=== Calling Function ===\n",
      "Calling function: summary_tool_selfrag with args: {\"input\": \"Self-RAG\"}\n",
      "INFO:httpx:HTTP Request: POST https://api.openai.com/v1/chat/completions \"HTTP/1.1 200 OK\"\n",
      "HTTP Request: POST https://api.openai.com/v1/chat/completions \"HTTP/1.1 200 OK\"\n",
      "=== Function Output ===\n",
      "Self-RAG, or Self-Reflective Retrieval-Augmented Generation, is a framework designed to enhance the quality and factuality of large language models (LLMs) through on-demand retrieval and self-reflection. It addresses the common issue of factual inaccuracies in LLM outputs by allowing the model to determine when to retrieve relevant information and to critique its own generated responses.\n",
      "\n",
      "The framework operates by training a single LLM to generate text while incorporating special tokens known as reflection tokens. These tokens help the model assess the necessity of retrieving additional information, evaluate the relevance of retrieved passages, and critique the quality of its own outputs. This process enables the model to adaptively retrieve information as needed, rather than relying on a fixed number of passages, which can lead to irrelevant or low-quality responses.\n",
      "\n",
      "Self-RAG has shown significant improvements in various tasks, outperforming existing state-of-the-art models in areas such as open-domain question answering, reasoning, and long-form generation. The framework not only enhances factual accuracy but also improves citation precision, making it a valuable tool for applications requiring reliable information generation.\n",
      "=== Calling Function ===\n",
      "Calling function: summary_tool_longlora with args: {\"input\": \"LongLoRA\"}\n",
      "INFO:httpx:HTTP Request: POST https://api.openai.com/v1/chat/completions \"HTTP/1.1 200 OK\"\n",
      "HTTP Request: POST https://api.openai.com/v1/chat/completions \"HTTP/1.1 200 OK\"\n",
      "=== Function Output ===\n",
      "LongLoRA is an efficient fine-tuning approach designed to extend the context sizes of pre-trained large language models (LLMs) while minimizing computational costs. It utilizes a technique called shifted sparse attention (S2-Attn) during training, which allows for effective context extension without the high computational demands typically associated with long context training. This method enables models to maintain their original attention architecture during inference, facilitating compatibility with existing optimization techniques.\n",
      "\n",
      "LongLoRA has demonstrated strong performance across various tasks, successfully extending models like Llama2 from shorter context lengths to significantly longer ones, such as 100k tokens for the 7B model and 32k tokens for the 70B model, all while being executed on a single 8× A100 machine. The approach also incorporates improvements to the low-rank adaptation (LoRA) method by making embedding and normalization layers trainable, which is crucial for effective long context adaptation. Overall, LongLoRA provides a practical solution for researchers looking to enhance the capabilities of LLMs in handling longer sequences efficiently.\n",
      "INFO:httpx:HTTP Request: POST https://api.openai.com/v1/chat/completions \"HTTP/1.1 200 OK\"\n",
      "HTTP Request: POST https://api.openai.com/v1/chat/completions \"HTTP/1.1 200 OK\"\n",
      "=== LLM Response ===\n",
      "Here are the summaries for both Self-RAG and LongLoRA:\n",
      "\n",
      "### Self-RAG\n",
      "Self-RAG, or Self-Reflective Retrieval-Augmented Generation, is a framework designed to improve the quality and factual accuracy of large language models (LLMs) through on-demand retrieval and self-reflection. It addresses the issue of factual inaccuracies by allowing the model to decide when to retrieve relevant information and to critique its own responses. The framework uses reflection tokens to help the model assess the need for additional information, evaluate the relevance of retrieved passages, and critique its outputs. This adaptive retrieval process leads to significant improvements in tasks like open-domain question answering, reasoning, and long-form generation, enhancing both factual accuracy and citation precision.\n",
      "\n",
      "### LongLoRA\n",
      "LongLoRA is an efficient fine-tuning approach aimed at extending the context sizes of pre-trained large language models (LLMs) while minimizing computational costs. It employs shifted sparse attention (S2-Attn) during training, allowing for effective context extension without high computational demands. This method maintains the original attention architecture during inference, ensuring compatibility with existing optimization techniques. LongLoRA has successfully extended models like Llama2 to handle significantly longer contexts, such as 100k tokens for the 7B model and 32k tokens for the 70B model, using a single 8× A100 machine. It also enhances the low-rank adaptation (LoRA) method by making embedding and normalization layers trainable, providing a practical solution for handling longer sequences efficiently.\n",
      "Here are the summaries for both Self-RAG and LongLoRA:\n",
      "\n",
      "### Self-RAG\n",
      "Self-RAG, or Self-Reflective Retrieval-Augmented Generation, is a framework designed to improve the quality and factual accuracy of large language models (LLMs) through on-demand retrieval and self-reflection. It addresses the issue of factual inaccuracies by allowing the model to decide when to retrieve relevant information and to critique its own responses. The framework uses reflection tokens to help the model assess the need for additional information, evaluate the relevance of retrieved passages, and critique its outputs. This adaptive retrieval process leads to significant improvements in tasks like open-domain question answering, reasoning, and long-form generation, enhancing both factual accuracy and citation precision.\n",
      "\n",
      "### LongLoRA\n",
      "LongLoRA is an efficient fine-tuning approach aimed at extending the context sizes of pre-trained large language models (LLMs) while minimizing computational costs. It employs shifted sparse attention (S2-Attn) during training, allowing for effective context extension without high computational demands. This method maintains the original attention architecture during inference, ensuring compatibility with existing optimization techniques. LongLoRA has successfully extended models like Llama2 to handle significantly longer contexts, such as 100k tokens for the 7B model and 32k tokens for the 70B model, using a single 8× A100 machine. It also enhances the low-rank adaptation (LoRA) method by making embedding and normalization layers trainable, providing a practical solution for handling longer sequences efficiently.\n"
     ]
    }
   ],
   "source": [
    "response = agent.query(\"Give me a summary of both Self-RAG and LongLoRA\")\n",
    "print(str(response))"
   ]
  },
  {
   "cell_type": "markdown",
   "metadata": {},
   "source": [
    "## Setup an Multi-Document Agent over 10 papers"
   ]
  },
  {
   "cell_type": "code",
   "execution_count": 97,
   "metadata": {},
   "outputs": [],
   "source": [
    "papers = [\n",
    "    \"../../Data/metagpt.pdf\",\n",
    "    \"../../Data/longlora.pdf\",\n",
    "    \"../../Data/loftq.pdf\",\n",
    "    \"../../Data/swebench.pdf\",\n",
    "    \"../../Data/selfrag.pdf\",\n",
    "    \"../../Data/zipformer.pdf\",\n",
    "    \"../../Data/values.pdf\",\n",
    "    \"../../Data/knowledge_card.pdf\",\n",
    "    \"../../Data/metra.pdf\",\n",
    "    \"../../Data/vr_mcl.pdf\"\n",
    "]"
   ]
  },
  {
   "cell_type": "code",
   "execution_count": 98,
   "metadata": {},
   "outputs": [
    {
     "name": "stdout",
     "output_type": "stream",
     "text": [
      "Getting tools for paper: ../../Data/metagpt.pdf\n",
      "INFO:httpx:HTTP Request: POST https://api.openai.com/v1/embeddings \"HTTP/1.1 200 OK\"\n",
      "HTTP Request: POST https://api.openai.com/v1/embeddings \"HTTP/1.1 200 OK\"\n",
      "Getting tools for paper: ../../Data/longlora.pdf\n",
      "INFO:httpx:HTTP Request: POST https://api.openai.com/v1/embeddings \"HTTP/1.1 200 OK\"\n",
      "HTTP Request: POST https://api.openai.com/v1/embeddings \"HTTP/1.1 200 OK\"\n",
      "Getting tools for paper: ../../Data/loftq.pdf\n",
      "INFO:httpx:HTTP Request: POST https://api.openai.com/v1/embeddings \"HTTP/1.1 200 OK\"\n",
      "HTTP Request: POST https://api.openai.com/v1/embeddings \"HTTP/1.1 200 OK\"\n",
      "Getting tools for paper: ../../Data/swebench.pdf\n",
      "INFO:httpx:HTTP Request: POST https://api.openai.com/v1/embeddings \"HTTP/1.1 200 OK\"\n",
      "HTTP Request: POST https://api.openai.com/v1/embeddings \"HTTP/1.1 200 OK\"\n",
      "Getting tools for paper: ../../Data/selfrag.pdf\n",
      "INFO:httpx:HTTP Request: POST https://api.openai.com/v1/embeddings \"HTTP/1.1 200 OK\"\n",
      "HTTP Request: POST https://api.openai.com/v1/embeddings \"HTTP/1.1 200 OK\"\n",
      "Getting tools for paper: ../../Data/zipformer.pdf\n",
      "INFO:httpx:HTTP Request: POST https://api.openai.com/v1/embeddings \"HTTP/1.1 200 OK\"\n",
      "HTTP Request: POST https://api.openai.com/v1/embeddings \"HTTP/1.1 200 OK\"\n",
      "Getting tools for paper: ../../Data/values.pdf\n",
      "INFO:httpx:HTTP Request: POST https://api.openai.com/v1/embeddings \"HTTP/1.1 200 OK\"\n",
      "HTTP Request: POST https://api.openai.com/v1/embeddings \"HTTP/1.1 200 OK\"\n",
      "Getting tools for paper: ../../Data/knowledge_card.pdf\n",
      "INFO:httpx:HTTP Request: POST https://api.openai.com/v1/embeddings \"HTTP/1.1 200 OK\"\n",
      "HTTP Request: POST https://api.openai.com/v1/embeddings \"HTTP/1.1 200 OK\"\n",
      "Getting tools for paper: ../../Data/metra.pdf\n",
      "INFO:httpx:HTTP Request: POST https://api.openai.com/v1/embeddings \"HTTP/1.1 200 OK\"\n",
      "HTTP Request: POST https://api.openai.com/v1/embeddings \"HTTP/1.1 200 OK\"\n",
      "Getting tools for paper: ../../Data/vr_mcl.pdf\n",
      "INFO:httpx:HTTP Request: POST https://api.openai.com/v1/embeddings \"HTTP/1.1 200 OK\"\n",
      "HTTP Request: POST https://api.openai.com/v1/embeddings \"HTTP/1.1 200 OK\"\n"
     ]
    }
   ],
   "source": [
    "paper_to_tools_dict = {}\n",
    "for paper in papers:\n",
    "    print(f\"Getting tools for paper: {paper}\")\n",
    "    vector_tool, summary_tool = get_doc_tools(paper, Path(paper).stem)\n",
    "    paper_to_tools_dict[paper] = [vector_tool, summary_tool]"
   ]
  },
  {
   "cell_type": "markdown",
   "metadata": {},
   "source": [
    "## Extend the Agent with Tool Retrieval"
   ]
  },
  {
   "cell_type": "code",
   "execution_count": 99,
   "metadata": {},
   "outputs": [],
   "source": [
    "all_tools = [t for paper in papers for t in paper_to_tools_dict[paper]]"
   ]
  },
  {
   "cell_type": "markdown",
   "metadata": {},
   "source": [
    "### Define an \"object\" index and retriever over these tools"
   ]
  },
  {
   "cell_type": "code",
   "execution_count": 100,
   "metadata": {},
   "outputs": [
    {
     "name": "stdout",
     "output_type": "stream",
     "text": [
      "INFO:httpx:HTTP Request: POST https://api.openai.com/v1/embeddings \"HTTP/1.1 200 OK\"\n",
      "HTTP Request: POST https://api.openai.com/v1/embeddings \"HTTP/1.1 200 OK\"\n"
     ]
    }
   ],
   "source": [
    "#from llama_index.core import VectorStoreIndex\n",
    "from llama_index.core.objects import ObjectIndex\n",
    "\n",
    "obj_index = ObjectIndex.from_objects(\n",
    "    all_tools,\n",
    "    index_cls=VectorStoreIndex,\n",
    ")"
   ]
  },
  {
   "cell_type": "code",
   "execution_count": 101,
   "metadata": {},
   "outputs": [],
   "source": [
    "obj_retriever = obj_index.as_retriever(similarity_top_k=3)"
   ]
  },
  {
   "cell_type": "markdown",
   "metadata": {},
   "source": [
    "### The tools will be chosen by similarity"
   ]
  },
  {
   "cell_type": "code",
   "execution_count": 102,
   "metadata": {},
   "outputs": [
    {
     "name": "stdout",
     "output_type": "stream",
     "text": [
      "INFO:httpx:HTTP Request: POST https://api.openai.com/v1/embeddings \"HTTP/1.1 200 OK\"\n",
      "HTTP Request: POST https://api.openai.com/v1/embeddings \"HTTP/1.1 200 OK\"\n"
     ]
    }
   ],
   "source": [
    "tools = obj_retriever.retrieve(\n",
    "    \"Tell me about the eval dataset used in MetaGPT and SWE-Bench\"\n",
    ")"
   ]
  },
  {
   "cell_type": "code",
   "execution_count": 103,
   "metadata": {},
   "outputs": [
    {
     "name": "stdout",
     "output_type": "stream",
     "text": [
      "ToolMetadata(description='Useful for summarization questions related to metagpt', name='summary_tool_metagpt', fn_schema=<class 'llama_index.core.tools.types.DefaultToolFnSchema'>, return_direct=False)\n",
      "ToolMetadata(description='Useful for summarization questions related to metra', name='summary_tool_metra', fn_schema=<class 'llama_index.core.tools.types.DefaultToolFnSchema'>, return_direct=False)\n",
      "ToolMetadata(description='Useful for summarization questions related to swebench', name='summary_tool_swebench', fn_schema=<class 'llama_index.core.tools.types.DefaultToolFnSchema'>, return_direct=False)\n"
     ]
    }
   ],
   "source": [
    "for t in tools:\n",
    "    print(t.metadata)"
   ]
  },
  {
   "cell_type": "code",
   "execution_count": 104,
   "metadata": {},
   "outputs": [],
   "source": [
    "#from llama_index.core.agent import FunctionCallingAgentWorker\n",
    "#from llama_index.core.agent import AgentRunner\n",
    "\n",
    "agent_worker = FunctionCallingAgentWorker.from_tools(\n",
    "    tool_retriever=obj_retriever,\n",
    "    llm=llm, \n",
    "    system_prompt=\"\"\" \\\n",
    "You are an agent designed to answer queries over a set of given papers.\n",
    "Please always use the tools provided to answer a question. Do not rely on prior knowledge.\\\n",
    "\n",
    "\"\"\",\n",
    "    verbose=True\n",
    ")\n",
    "agent = AgentRunner(agent_worker)"
   ]
  },
  {
   "cell_type": "code",
   "execution_count": 105,
   "metadata": {},
   "outputs": [
    {
     "name": "stdout",
     "output_type": "stream",
     "text": [
      "Added user message to memory: Tell me about the evaluation dataset used in MetaGPT and compare it against SWE-Bench\n",
      "INFO:httpx:HTTP Request: POST https://api.openai.com/v1/embeddings \"HTTP/1.1 200 OK\"\n",
      "HTTP Request: POST https://api.openai.com/v1/embeddings \"HTTP/1.1 200 OK\"\n",
      "INFO:httpx:HTTP Request: POST https://api.openai.com/v1/chat/completions \"HTTP/1.1 200 OK\"\n",
      "HTTP Request: POST https://api.openai.com/v1/chat/completions \"HTTP/1.1 200 OK\"\n",
      "=== Calling Function ===\n",
      "Calling function: summary_tool_metagpt with args: {\"input\": \"evaluation dataset\"}\n",
      "INFO:httpx:HTTP Request: POST https://api.openai.com/v1/chat/completions \"HTTP/1.1 200 OK\"\n",
      "HTTP Request: POST https://api.openai.com/v1/chat/completions \"HTTP/1.1 200 OK\"\n",
      "=== Function Output ===\n",
      "The evaluation datasets used in the experiments include HumanEval, which consists of 164 handwritten programming tasks, and MBPP, which contains 427 Python tasks covering core concepts and standard library features. Additionally, a self-generated dataset named SoftwareDev includes 70 diverse software development tasks, each with its own specific prompt. These datasets serve as benchmarks to assess the performance of the MetaGPT framework in code generation and software development tasks.\n",
      "=== Calling Function ===\n",
      "Calling function: summary_tool_swebench with args: {\"input\": \"evaluation dataset\"}\n",
      "INFO:httpx:HTTP Request: POST https://api.openai.com/v1/chat/completions \"HTTP/1.1 200 OK\"\n",
      "HTTP Request: POST https://api.openai.com/v1/chat/completions \"HTTP/1.1 200 OK\"\n",
      "=== Function Output ===\n",
      "The evaluation dataset consists of 2,294 software engineering problems derived from real-world GitHub issues and corresponding pull requests across 12 popular Python repositories. Each task in the dataset requires a language model to generate a patch that resolves a given issue while passing associated tests. The dataset is designed to reflect realistic software engineering challenges, requiring models to understand complex codebases and perform multi-file edits. The tasks are validated through execution-based testing, ensuring that the generated solutions effectively address the reported issues.\n",
      "INFO:httpx:HTTP Request: POST https://api.openai.com/v1/embeddings \"HTTP/1.1 200 OK\"\n",
      "HTTP Request: POST https://api.openai.com/v1/embeddings \"HTTP/1.1 200 OK\"\n",
      "INFO:httpx:HTTP Request: POST https://api.openai.com/v1/chat/completions \"HTTP/1.1 200 OK\"\n",
      "HTTP Request: POST https://api.openai.com/v1/chat/completions \"HTTP/1.1 200 OK\"\n",
      "=== LLM Response ===\n",
      "The evaluation dataset used in MetaGPT includes:\n",
      "\n",
      "1. **HumanEval**: 164 handwritten programming tasks.\n",
      "2. **MBPP**: 427 Python tasks covering core concepts and standard library features.\n",
      "3. **SoftwareDev**: A self-generated dataset with 70 diverse software development tasks, each with a specific prompt.\n",
      "\n",
      "These datasets are used to benchmark the performance of the MetaGPT framework in code generation and software development tasks.\n",
      "\n",
      "In contrast, the evaluation dataset for SWE-Bench consists of:\n",
      "\n",
      "1. **2,294 software engineering problems** derived from real-world GitHub issues and corresponding pull requests across 12 popular Python repositories.\n",
      "2. Each task requires a language model to generate a patch that resolves a given issue while passing associated tests.\n",
      "3. The dataset reflects realistic software engineering challenges, requiring models to understand complex codebases and perform multi-file edits.\n",
      "4. Tasks are validated through execution-based testing to ensure the generated solutions effectively address the reported issues.\n",
      "\n",
      "In summary, while MetaGPT's datasets focus on a mix of handwritten and self-generated programming tasks, SWE-Bench's dataset is derived from real-world software engineering problems, emphasizing practical challenges and execution-based validation.\n",
      "The evaluation dataset used in MetaGPT includes:\n",
      "\n",
      "1. **HumanEval**: 164 handwritten programming tasks.\n",
      "2. **MBPP**: 427 Python tasks covering core concepts and standard library features.\n",
      "3. **SoftwareDev**: A self-generated dataset with 70 diverse software development tasks, each with a specific prompt.\n",
      "\n",
      "These datasets are used to benchmark the performance of the MetaGPT framework in code generation and software development tasks.\n",
      "\n",
      "In contrast, the evaluation dataset for SWE-Bench consists of:\n",
      "\n",
      "1. **2,294 software engineering problems** derived from real-world GitHub issues and corresponding pull requests across 12 popular Python repositories.\n",
      "2. Each task requires a language model to generate a patch that resolves a given issue while passing associated tests.\n",
      "3. The dataset reflects realistic software engineering challenges, requiring models to understand complex codebases and perform multi-file edits.\n",
      "4. Tasks are validated through execution-based testing to ensure the generated solutions effectively address the reported issues.\n",
      "\n",
      "In summary, while MetaGPT's datasets focus on a mix of handwritten and self-generated programming tasks, SWE-Bench's dataset is derived from real-world software engineering problems, emphasizing practical challenges and execution-based validation.\n"
     ]
    }
   ],
   "source": [
    "response = agent.query(\n",
    "    \"Tell me about the evaluation dataset used \"\n",
    "    \"in MetaGPT and compare it against SWE-Bench\"\n",
    ")\n",
    "print(str(response))"
   ]
  },
  {
   "cell_type": "code",
   "execution_count": 106,
   "metadata": {},
   "outputs": [
    {
     "name": "stdout",
     "output_type": "stream",
     "text": [
      "Added user message to memory: Compare and contrast the LoRA papers (LongLoRA, LoftQ). Analyze the approach in each paper first. \n",
      "INFO:httpx:HTTP Request: POST https://api.openai.com/v1/embeddings \"HTTP/1.1 200 OK\"\n",
      "HTTP Request: POST https://api.openai.com/v1/embeddings \"HTTP/1.1 200 OK\"\n",
      "INFO:httpx:HTTP Request: POST https://api.openai.com/v1/chat/completions \"HTTP/1.1 200 OK\"\n",
      "HTTP Request: POST https://api.openai.com/v1/chat/completions \"HTTP/1.1 200 OK\"\n",
      "=== Calling Function ===\n",
      "Calling function: summary_tool_longlora with args: {\"input\": \"Analyze the approach in the LongLoRA paper.\"}\n",
      "INFO:httpx:HTTP Request: POST https://api.openai.com/v1/chat/completions \"HTTP/1.1 200 OK\"\n",
      "HTTP Request: POST https://api.openai.com/v1/chat/completions \"HTTP/1.1 200 OK\"\n",
      "=== Function Output ===\n",
      "The LongLoRA approach introduces an efficient method for fine-tuning large language models (LLMs) to extend their context lengths significantly while minimizing computational costs. It combines two key innovations: Shifted Sparse Attention (S2-Attn) and an improved version of Low-Rank Adaptation (LoRA).\n",
      "\n",
      "1. **Shifted Sparse Attention (S2-Attn)**: This mechanism replaces the standard self-attention used during training with a more efficient sparse attention method. S2-Attn divides the input context into smaller groups and processes them individually, allowing for information exchange between neighboring groups by shifting the token positions. This design reduces the computational complexity from quadratic to linear with respect to the context length, making it feasible to train models with much longer contexts without incurring prohibitive resource costs.\n",
      "\n",
      "2. **Improved LoRA**: While traditional LoRA focuses on adapting the attention weights of pre-trained models, LongLoRA enhances this by making the embedding and normalization layers trainable as well. This adjustment is crucial for effectively adapting LLMs to longer contexts, as it helps bridge the performance gap between LoRA and full fine-tuning. The improved LoRA, referred to as LoRA+, retains the efficiency of low-rank updates while achieving better performance in long-context scenarios.\n",
      "\n",
      "3. **Empirical Results**: LongLoRA has demonstrated strong performance across various tasks, successfully extending the context length of models like Llama2 from 4k to 100k tokens for the 7B model and up to 32k for the 70B model, all while running on a single 8× A100 machine. The approach maintains a balance between computational efficiency and model performance, achieving results comparable to full fine-tuning with significantly lower memory and training time requirements.\n",
      "\n",
      "4. **Compatibility and Implementation**: The architecture of LongLoRA allows it to retain the original attention mechanisms during inference, ensuring compatibility with existing optimization techniques and infrastructure. The implementation of S2-Attn is straightforward, requiring minimal code changes, which facilitates its adoption in various applications.\n",
      "\n",
      "Overall, LongLoRA represents a significant advancement in the fine-tuning of LLMs, particularly for applications requiring the processing of long sequences, by effectively addressing the computational challenges associated with traditional methods.\n",
      "=== Calling Function ===\n",
      "Calling function: summary_tool_loftq with args: {\"input\": \"Analyze the approach in the LoftQ paper.\"}\n",
      "INFO:httpx:HTTP Request: POST https://api.openai.com/v1/chat/completions \"HTTP/1.1 200 OK\"\n",
      "HTTP Request: POST https://api.openai.com/v1/chat/completions \"HTTP/1.1 200 OK\"\n",
      "=== Function Output ===\n",
      "The LoftQ approach introduces a novel quantization framework specifically designed for large language models (LLMs) that integrates quantization with LoRA (Low-Rank Adaptation) fine-tuning. The key innovation lies in its ability to jointly optimize the quantization of model weights and the initialization of low-rank adapters, addressing the performance gap typically observed when combining these two techniques.\n",
      "\n",
      "1. **Joint Optimization**: LoftQ minimizes the discrepancy between the original high-precision weights and the quantized weights along with the low-rank approximations. This is achieved through an alternating optimization process that iteratively refines both the quantized weights and the low-rank matrices.\n",
      "\n",
      "2. **Initialization Strategy**: The framework provides a more effective initialization for LoRA fine-tuning by considering the quantization process. This contrasts with traditional methods that often overlook the impact of quantization on the initialization of low-rank adapters, leading to suboptimal performance.\n",
      "\n",
      "3. **Performance Gains**: LoftQ demonstrates significant improvements in various downstream tasks, particularly in low-bit quantization scenarios (e.g., 2-bit and 4-bit). The method consistently outperforms existing quantization techniques, such as QLoRA, across multiple benchmarks, including natural language understanding, question answering, summarization, and natural language generation.\n",
      "\n",
      "4. **Robustness**: The approach shows robustness, especially in low-bit regimes where other methods may fail to converge. LoftQ maintains stable performance and effectively narrows the initialization gap, which is crucial for successful fine-tuning.\n",
      "\n",
      "5. **Compatibility with Quantization Methods**: LoftQ is compatible with different quantization techniques, such as uniform quantization and NormalFloat quantization, allowing for flexibility in its application across various models.\n",
      "\n",
      "6. **Efficiency**: The computational cost of LoftQ is minimal, as it operates on individual weight matrices and can be executed in parallel. This efficiency makes it feasible to apply LoftQ to pre-trained models and reuse the initialization for different downstream tasks.\n",
      "\n",
      "Overall, LoftQ represents a significant advancement in the field of model quantization and fine-tuning, providing a systematic approach that enhances the performance of large language models while addressing the challenges posed by quantization.\n",
      "INFO:httpx:HTTP Request: POST https://api.openai.com/v1/embeddings \"HTTP/1.1 200 OK\"\n",
      "HTTP Request: POST https://api.openai.com/v1/embeddings \"HTTP/1.1 200 OK\"\n",
      "INFO:httpx:HTTP Request: POST https://api.openai.com/v1/chat/completions \"HTTP/1.1 200 OK\"\n",
      "HTTP Request: POST https://api.openai.com/v1/chat/completions \"HTTP/1.1 200 OK\"\n",
      "=== LLM Response ===\n",
      "The LongLoRA and LoftQ papers both present innovative approaches to enhancing large language models (LLMs), but they focus on different aspects of model optimization and fine-tuning.\n",
      "\n",
      "### LongLoRA Approach:\n",
      "1. **Objective**: LongLoRA aims to extend the context length of LLMs efficiently while minimizing computational costs.\n",
      "2. **Key Innovations**:\n",
      "   - **Shifted Sparse Attention (S2-Attn)**: This mechanism reduces computational complexity from quadratic to linear by dividing input context into smaller groups and allowing information exchange between them.\n",
      "   - **Improved LoRA (LoRA+)**: Enhances traditional LoRA by making embedding and normalization layers trainable, bridging the performance gap between LoRA and full fine-tuning.\n",
      "3. **Performance**: Successfully extends context length significantly (e.g., from 4k to 100k tokens for the 7B model) with strong performance across various tasks.\n",
      "4. **Compatibility**: Retains original attention mechanisms during inference, ensuring compatibility with existing optimization techniques.\n",
      "5. **Implementation**: Requires minimal code changes, facilitating adoption.\n",
      "\n",
      "### LoftQ Approach:\n",
      "1. **Objective**: LoftQ focuses on integrating quantization with LoRA fine-tuning to optimize model weights and low-rank adapters jointly.\n",
      "2. **Key Innovations**:\n",
      "   - **Joint Optimization**: Minimizes discrepancy between high-precision and quantized weights through alternating optimization.\n",
      "   - **Effective Initialization**: Provides better initialization for LoRA by considering quantization, improving performance.\n",
      "3. **Performance**: Shows significant improvements in low-bit quantization scenarios, outperforming existing techniques like QLoRA.\n",
      "4. **Robustness**: Maintains stable performance in low-bit regimes, narrowing the initialization gap.\n",
      "5. **Compatibility**: Works with various quantization techniques, offering flexibility.\n",
      "6. **Efficiency**: Operates on individual weight matrices with minimal computational cost, allowing parallel execution.\n",
      "\n",
      "### Comparison:\n",
      "- **Focus**: LongLoRA is centered on extending context length efficiently, while LoftQ addresses the integration of quantization with fine-tuning.\n",
      "- **Techniques**: LongLoRA uses sparse attention and improved LoRA, whereas LoftQ employs joint optimization and effective initialization strategies.\n",
      "- **Performance**: Both approaches demonstrate significant performance improvements, but in different areas—LongLoRA in context length and LoftQ in quantization.\n",
      "- **Implementation**: Both methods emphasize compatibility and efficiency, though they tackle different challenges in model optimization.\n",
      "\n",
      "Overall, LongLoRA and LoftQ offer complementary advancements in the field of LLM optimization, each addressing specific challenges in extending context length and integrating quantization, respectively.\n"
     ]
    }
   ],
   "source": [
    "response = agent.query(\n",
    "    \"Compare and contrast the LoRA papers (LongLoRA, LoftQ). \"\n",
    "    \"Analyze the approach in each paper first. \"\n",
    ")"
   ]
  },
  {
   "cell_type": "code",
   "execution_count": null,
   "metadata": {},
   "outputs": [],
   "source": []
  }
 ],
 "metadata": {
  "application/vnd.databricks.v1+notebook": {
   "dashboards": [],
   "language": "python",
   "notebookMetadata": {
    "pythonIndentUnit": 4
   },
   "notebookName": "2-Indexing_Querying_LLamaIndex",
   "widgets": {}
  },
  "colab": {
   "provenance": [
    {
     "file_id": "https://github.com/rsouza/Prompt_Engineering_Course/blob/main/Notebooks/5_LlamaIndex/2-Indexing_Querying_LLamaIndex.ipynb",
     "timestamp": 1714082079174
    }
   ]
  },
  "kernelspec": {
   "display_name": "Python 3 (ipykernel)",
   "language": "python",
   "name": "python3"
  },
  "language_info": {
   "codemirror_mode": {
    "name": "ipython",
    "version": 3
   },
   "file_extension": ".py",
   "mimetype": "text/x-python",
   "name": "python",
   "nbconvert_exporter": "python",
   "pygments_lexer": "ipython3",
   "version": "3.12.3"
  },
  "widgets": {
   "application/vnd.jupyter.widget-state+json": {
    "1d311bf7ee564be781cfd48286066ba0": {
     "model_module": "@jupyter-widgets/controls",
     "model_module_version": "1.5.0",
     "model_name": "HTMLModel",
     "state": {
      "_dom_classes": [],
      "_model_module": "@jupyter-widgets/controls",
      "_model_module_version": "1.5.0",
      "_model_name": "HTMLModel",
      "_view_count": null,
      "_view_module": "@jupyter-widgets/controls",
      "_view_module_version": "1.5.0",
      "_view_name": "HTMLView",
      "description": "",
      "description_tooltip": null,
      "layout": "IPY_MODEL_6efb132931b04655b350d09375a58bf1",
      "placeholder": "​",
      "style": "IPY_MODEL_a0ad0d2d97514a2ab8dc2ab0a5591178",
      "value": " 10/10 [00:00&lt;00:00, 67.37it/s]"
     }
    },
    "1ece578683ef4f83b58288633c9bb975": {
     "model_module": "@jupyter-widgets/controls",
     "model_module_version": "1.5.0",
     "model_name": "HTMLModel",
     "state": {
      "_dom_classes": [],
      "_model_module": "@jupyter-widgets/controls",
      "_model_module_version": "1.5.0",
      "_model_name": "HTMLModel",
      "_view_count": null,
      "_view_module": "@jupyter-widgets/controls",
      "_view_module_version": "1.5.0",
      "_view_name": "HTMLView",
      "description": "",
      "description_tooltip": null,
      "layout": "IPY_MODEL_e2d2af3f1254498ca0ed0413fc2e3873",
      "placeholder": "​",
      "style": "IPY_MODEL_a87159485bc84f03889bd9ca3439d020",
      "value": "Parsing nodes: 100%"
     }
    },
    "2a51f4e1f37141848d9023722fe81e15": {
     "model_module": "@jupyter-widgets/controls",
     "model_module_version": "1.5.0",
     "model_name": "DescriptionStyleModel",
     "state": {
      "_model_module": "@jupyter-widgets/controls",
      "_model_module_version": "1.5.0",
      "_model_name": "DescriptionStyleModel",
      "_view_count": null,
      "_view_module": "@jupyter-widgets/base",
      "_view_module_version": "1.2.0",
      "_view_name": "StyleView",
      "description_width": ""
     }
    },
    "3f735494c12145f28654994ad79a0832": {
     "model_module": "@jupyter-widgets/base",
     "model_module_version": "1.2.0",
     "model_name": "LayoutModel",
     "state": {
      "_model_module": "@jupyter-widgets/base",
      "_model_module_version": "1.2.0",
      "_model_name": "LayoutModel",
      "_view_count": null,
      "_view_module": "@jupyter-widgets/base",
      "_view_module_version": "1.2.0",
      "_view_name": "LayoutView",
      "align_content": null,
      "align_items": null,
      "align_self": null,
      "border": null,
      "bottom": null,
      "display": null,
      "flex": null,
      "flex_flow": null,
      "grid_area": null,
      "grid_auto_columns": null,
      "grid_auto_flow": null,
      "grid_auto_rows": null,
      "grid_column": null,
      "grid_gap": null,
      "grid_row": null,
      "grid_template_areas": null,
      "grid_template_columns": null,
      "grid_template_rows": null,
      "height": null,
      "justify_content": null,
      "justify_items": null,
      "left": null,
      "margin": null,
      "max_height": null,
      "max_width": null,
      "min_height": null,
      "min_width": null,
      "object_fit": null,
      "object_position": null,
      "order": null,
      "overflow": null,
      "overflow_x": null,
      "overflow_y": null,
      "padding": null,
      "right": null,
      "top": null,
      "visibility": null,
      "width": null
     }
    },
    "44ee0f3679a34d8482515e78b478283a": {
     "model_module": "@jupyter-widgets/base",
     "model_module_version": "1.2.0",
     "model_name": "LayoutModel",
     "state": {
      "_model_module": "@jupyter-widgets/base",
      "_model_module_version": "1.2.0",
      "_model_name": "LayoutModel",
      "_view_count": null,
      "_view_module": "@jupyter-widgets/base",
      "_view_module_version": "1.2.0",
      "_view_name": "LayoutView",
      "align_content": null,
      "align_items": null,
      "align_self": null,
      "border": null,
      "bottom": null,
      "display": null,
      "flex": null,
      "flex_flow": null,
      "grid_area": null,
      "grid_auto_columns": null,
      "grid_auto_flow": null,
      "grid_auto_rows": null,
      "grid_column": null,
      "grid_gap": null,
      "grid_row": null,
      "grid_template_areas": null,
      "grid_template_columns": null,
      "grid_template_rows": null,
      "height": null,
      "justify_content": null,
      "justify_items": null,
      "left": null,
      "margin": null,
      "max_height": null,
      "max_width": null,
      "min_height": null,
      "min_width": null,
      "object_fit": null,
      "object_position": null,
      "order": null,
      "overflow": null,
      "overflow_x": null,
      "overflow_y": null,
      "padding": null,
      "right": null,
      "top": null,
      "visibility": null,
      "width": null
     }
    },
    "48c37d7e447d49a8b911134d287d1ab8": {
     "model_module": "@jupyter-widgets/base",
     "model_module_version": "1.2.0",
     "model_name": "LayoutModel",
     "state": {
      "_model_module": "@jupyter-widgets/base",
      "_model_module_version": "1.2.0",
      "_model_name": "LayoutModel",
      "_view_count": null,
      "_view_module": "@jupyter-widgets/base",
      "_view_module_version": "1.2.0",
      "_view_name": "LayoutView",
      "align_content": null,
      "align_items": null,
      "align_self": null,
      "border": null,
      "bottom": null,
      "display": null,
      "flex": null,
      "flex_flow": null,
      "grid_area": null,
      "grid_auto_columns": null,
      "grid_auto_flow": null,
      "grid_auto_rows": null,
      "grid_column": null,
      "grid_gap": null,
      "grid_row": null,
      "grid_template_areas": null,
      "grid_template_columns": null,
      "grid_template_rows": null,
      "height": null,
      "justify_content": null,
      "justify_items": null,
      "left": null,
      "margin": null,
      "max_height": null,
      "max_width": null,
      "min_height": null,
      "min_width": null,
      "object_fit": null,
      "object_position": null,
      "order": null,
      "overflow": null,
      "overflow_x": null,
      "overflow_y": null,
      "padding": null,
      "right": null,
      "top": null,
      "visibility": null,
      "width": null
     }
    },
    "56344af539034c34b5e98563675e6ef1": {
     "model_module": "@jupyter-widgets/controls",
     "model_module_version": "1.5.0",
     "model_name": "HTMLModel",
     "state": {
      "_dom_classes": [],
      "_model_module": "@jupyter-widgets/controls",
      "_model_module_version": "1.5.0",
      "_model_name": "HTMLModel",
      "_view_count": null,
      "_view_module": "@jupyter-widgets/controls",
      "_view_module_version": "1.5.0",
      "_view_name": "HTMLView",
      "description": "",
      "description_tooltip": null,
      "layout": "IPY_MODEL_c1cdb05547004947986e416042a3c758",
      "placeholder": "​",
      "style": "IPY_MODEL_9a7cc7cb31fa4ea5afea4f3ef812e68d",
      "value": " 30/30 [00:01&lt;00:00, 28.29it/s]"
     }
    },
    "5a0c1216c09d45caae2855d23accd01a": {
     "model_module": "@jupyter-widgets/controls",
     "model_module_version": "1.5.0",
     "model_name": "ProgressStyleModel",
     "state": {
      "_model_module": "@jupyter-widgets/controls",
      "_model_module_version": "1.5.0",
      "_model_name": "ProgressStyleModel",
      "_view_count": null,
      "_view_module": "@jupyter-widgets/base",
      "_view_module_version": "1.2.0",
      "_view_name": "StyleView",
      "bar_color": null,
      "description_width": ""
     }
    },
    "68fc88da1157414192a92094331375ae": {
     "model_module": "@jupyter-widgets/controls",
     "model_module_version": "1.5.0",
     "model_name": "HBoxModel",
     "state": {
      "_dom_classes": [],
      "_model_module": "@jupyter-widgets/controls",
      "_model_module_version": "1.5.0",
      "_model_name": "HBoxModel",
      "_view_count": null,
      "_view_module": "@jupyter-widgets/controls",
      "_view_module_version": "1.5.0",
      "_view_name": "HBoxView",
      "box_style": "",
      "children": [
       "IPY_MODEL_1ece578683ef4f83b58288633c9bb975",
       "IPY_MODEL_6d704507f27e42f8a89b4fe41f875b8a",
       "IPY_MODEL_1d311bf7ee564be781cfd48286066ba0"
      ],
      "layout": "IPY_MODEL_44ee0f3679a34d8482515e78b478283a"
     }
    },
    "6d704507f27e42f8a89b4fe41f875b8a": {
     "model_module": "@jupyter-widgets/controls",
     "model_module_version": "1.5.0",
     "model_name": "FloatProgressModel",
     "state": {
      "_dom_classes": [],
      "_model_module": "@jupyter-widgets/controls",
      "_model_module_version": "1.5.0",
      "_model_name": "FloatProgressModel",
      "_view_count": null,
      "_view_module": "@jupyter-widgets/controls",
      "_view_module_version": "1.5.0",
      "_view_name": "ProgressView",
      "bar_style": "success",
      "description": "",
      "description_tooltip": null,
      "layout": "IPY_MODEL_48c37d7e447d49a8b911134d287d1ab8",
      "max": 10,
      "min": 0,
      "orientation": "horizontal",
      "style": "IPY_MODEL_5a0c1216c09d45caae2855d23accd01a",
      "value": 10
     }
    },
    "6efb132931b04655b350d09375a58bf1": {
     "model_module": "@jupyter-widgets/base",
     "model_module_version": "1.2.0",
     "model_name": "LayoutModel",
     "state": {
      "_model_module": "@jupyter-widgets/base",
      "_model_module_version": "1.2.0",
      "_model_name": "LayoutModel",
      "_view_count": null,
      "_view_module": "@jupyter-widgets/base",
      "_view_module_version": "1.2.0",
      "_view_name": "LayoutView",
      "align_content": null,
      "align_items": null,
      "align_self": null,
      "border": null,
      "bottom": null,
      "display": null,
      "flex": null,
      "flex_flow": null,
      "grid_area": null,
      "grid_auto_columns": null,
      "grid_auto_flow": null,
      "grid_auto_rows": null,
      "grid_column": null,
      "grid_gap": null,
      "grid_row": null,
      "grid_template_areas": null,
      "grid_template_columns": null,
      "grid_template_rows": null,
      "height": null,
      "justify_content": null,
      "justify_items": null,
      "left": null,
      "margin": null,
      "max_height": null,
      "max_width": null,
      "min_height": null,
      "min_width": null,
      "object_fit": null,
      "object_position": null,
      "order": null,
      "overflow": null,
      "overflow_x": null,
      "overflow_y": null,
      "padding": null,
      "right": null,
      "top": null,
      "visibility": null,
      "width": null
     }
    },
    "75c38119547645f591c78bcd8f67cc10": {
     "model_module": "@jupyter-widgets/controls",
     "model_module_version": "1.5.0",
     "model_name": "FloatProgressModel",
     "state": {
      "_dom_classes": [],
      "_model_module": "@jupyter-widgets/controls",
      "_model_module_version": "1.5.0",
      "_model_name": "FloatProgressModel",
      "_view_count": null,
      "_view_module": "@jupyter-widgets/controls",
      "_view_module_version": "1.5.0",
      "_view_name": "ProgressView",
      "bar_style": "success",
      "description": "",
      "description_tooltip": null,
      "layout": "IPY_MODEL_b4f2c1a82f224dd0ba0faef7dca60d80",
      "max": 30,
      "min": 0,
      "orientation": "horizontal",
      "style": "IPY_MODEL_ce761a2a57694a4f80c6319cbe633693",
      "value": 30
     }
    },
    "9a7cc7cb31fa4ea5afea4f3ef812e68d": {
     "model_module": "@jupyter-widgets/controls",
     "model_module_version": "1.5.0",
     "model_name": "DescriptionStyleModel",
     "state": {
      "_model_module": "@jupyter-widgets/controls",
      "_model_module_version": "1.5.0",
      "_model_name": "DescriptionStyleModel",
      "_view_count": null,
      "_view_module": "@jupyter-widgets/base",
      "_view_module_version": "1.2.0",
      "_view_name": "StyleView",
      "description_width": ""
     }
    },
    "a0ad0d2d97514a2ab8dc2ab0a5591178": {
     "model_module": "@jupyter-widgets/controls",
     "model_module_version": "1.5.0",
     "model_name": "DescriptionStyleModel",
     "state": {
      "_model_module": "@jupyter-widgets/controls",
      "_model_module_version": "1.5.0",
      "_model_name": "DescriptionStyleModel",
      "_view_count": null,
      "_view_module": "@jupyter-widgets/base",
      "_view_module_version": "1.2.0",
      "_view_name": "StyleView",
      "description_width": ""
     }
    },
    "a0ff4a0af9d444128c464b97cb9f13dd": {
     "model_module": "@jupyter-widgets/controls",
     "model_module_version": "1.5.0",
     "model_name": "HBoxModel",
     "state": {
      "_dom_classes": [],
      "_model_module": "@jupyter-widgets/controls",
      "_model_module_version": "1.5.0",
      "_model_name": "HBoxModel",
      "_view_count": null,
      "_view_module": "@jupyter-widgets/controls",
      "_view_module_version": "1.5.0",
      "_view_name": "HBoxView",
      "box_style": "",
      "children": [
       "IPY_MODEL_ccfb889b464e40c489f0a873681c3463",
       "IPY_MODEL_75c38119547645f591c78bcd8f67cc10",
       "IPY_MODEL_56344af539034c34b5e98563675e6ef1"
      ],
      "layout": "IPY_MODEL_3f735494c12145f28654994ad79a0832"
     }
    },
    "a87159485bc84f03889bd9ca3439d020": {
     "model_module": "@jupyter-widgets/controls",
     "model_module_version": "1.5.0",
     "model_name": "DescriptionStyleModel",
     "state": {
      "_model_module": "@jupyter-widgets/controls",
      "_model_module_version": "1.5.0",
      "_model_name": "DescriptionStyleModel",
      "_view_count": null,
      "_view_module": "@jupyter-widgets/base",
      "_view_module_version": "1.2.0",
      "_view_name": "StyleView",
      "description_width": ""
     }
    },
    "b4f2c1a82f224dd0ba0faef7dca60d80": {
     "model_module": "@jupyter-widgets/base",
     "model_module_version": "1.2.0",
     "model_name": "LayoutModel",
     "state": {
      "_model_module": "@jupyter-widgets/base",
      "_model_module_version": "1.2.0",
      "_model_name": "LayoutModel",
      "_view_count": null,
      "_view_module": "@jupyter-widgets/base",
      "_view_module_version": "1.2.0",
      "_view_name": "LayoutView",
      "align_content": null,
      "align_items": null,
      "align_self": null,
      "border": null,
      "bottom": null,
      "display": null,
      "flex": null,
      "flex_flow": null,
      "grid_area": null,
      "grid_auto_columns": null,
      "grid_auto_flow": null,
      "grid_auto_rows": null,
      "grid_column": null,
      "grid_gap": null,
      "grid_row": null,
      "grid_template_areas": null,
      "grid_template_columns": null,
      "grid_template_rows": null,
      "height": null,
      "justify_content": null,
      "justify_items": null,
      "left": null,
      "margin": null,
      "max_height": null,
      "max_width": null,
      "min_height": null,
      "min_width": null,
      "object_fit": null,
      "object_position": null,
      "order": null,
      "overflow": null,
      "overflow_x": null,
      "overflow_y": null,
      "padding": null,
      "right": null,
      "top": null,
      "visibility": null,
      "width": null
     }
    },
    "c1cdb05547004947986e416042a3c758": {
     "model_module": "@jupyter-widgets/base",
     "model_module_version": "1.2.0",
     "model_name": "LayoutModel",
     "state": {
      "_model_module": "@jupyter-widgets/base",
      "_model_module_version": "1.2.0",
      "_model_name": "LayoutModel",
      "_view_count": null,
      "_view_module": "@jupyter-widgets/base",
      "_view_module_version": "1.2.0",
      "_view_name": "LayoutView",
      "align_content": null,
      "align_items": null,
      "align_self": null,
      "border": null,
      "bottom": null,
      "display": null,
      "flex": null,
      "flex_flow": null,
      "grid_area": null,
      "grid_auto_columns": null,
      "grid_auto_flow": null,
      "grid_auto_rows": null,
      "grid_column": null,
      "grid_gap": null,
      "grid_row": null,
      "grid_template_areas": null,
      "grid_template_columns": null,
      "grid_template_rows": null,
      "height": null,
      "justify_content": null,
      "justify_items": null,
      "left": null,
      "margin": null,
      "max_height": null,
      "max_width": null,
      "min_height": null,
      "min_width": null,
      "object_fit": null,
      "object_position": null,
      "order": null,
      "overflow": null,
      "overflow_x": null,
      "overflow_y": null,
      "padding": null,
      "right": null,
      "top": null,
      "visibility": null,
      "width": null
     }
    },
    "ccfb889b464e40c489f0a873681c3463": {
     "model_module": "@jupyter-widgets/controls",
     "model_module_version": "1.5.0",
     "model_name": "HTMLModel",
     "state": {
      "_dom_classes": [],
      "_model_module": "@jupyter-widgets/controls",
      "_model_module_version": "1.5.0",
      "_model_name": "HTMLModel",
      "_view_count": null,
      "_view_module": "@jupyter-widgets/controls",
      "_view_module_version": "1.5.0",
      "_view_name": "HTMLView",
      "description": "",
      "description_tooltip": null,
      "layout": "IPY_MODEL_e5e9a34c12b5444db998dd9f3735f83d",
      "placeholder": "​",
      "style": "IPY_MODEL_2a51f4e1f37141848d9023722fe81e15",
      "value": "Generating embeddings: 100%"
     }
    },
    "ce761a2a57694a4f80c6319cbe633693": {
     "model_module": "@jupyter-widgets/controls",
     "model_module_version": "1.5.0",
     "model_name": "ProgressStyleModel",
     "state": {
      "_model_module": "@jupyter-widgets/controls",
      "_model_module_version": "1.5.0",
      "_model_name": "ProgressStyleModel",
      "_view_count": null,
      "_view_module": "@jupyter-widgets/base",
      "_view_module_version": "1.2.0",
      "_view_name": "StyleView",
      "bar_color": null,
      "description_width": ""
     }
    },
    "e2d2af3f1254498ca0ed0413fc2e3873": {
     "model_module": "@jupyter-widgets/base",
     "model_module_version": "1.2.0",
     "model_name": "LayoutModel",
     "state": {
      "_model_module": "@jupyter-widgets/base",
      "_model_module_version": "1.2.0",
      "_model_name": "LayoutModel",
      "_view_count": null,
      "_view_module": "@jupyter-widgets/base",
      "_view_module_version": "1.2.0",
      "_view_name": "LayoutView",
      "align_content": null,
      "align_items": null,
      "align_self": null,
      "border": null,
      "bottom": null,
      "display": null,
      "flex": null,
      "flex_flow": null,
      "grid_area": null,
      "grid_auto_columns": null,
      "grid_auto_flow": null,
      "grid_auto_rows": null,
      "grid_column": null,
      "grid_gap": null,
      "grid_row": null,
      "grid_template_areas": null,
      "grid_template_columns": null,
      "grid_template_rows": null,
      "height": null,
      "justify_content": null,
      "justify_items": null,
      "left": null,
      "margin": null,
      "max_height": null,
      "max_width": null,
      "min_height": null,
      "min_width": null,
      "object_fit": null,
      "object_position": null,
      "order": null,
      "overflow": null,
      "overflow_x": null,
      "overflow_y": null,
      "padding": null,
      "right": null,
      "top": null,
      "visibility": null,
      "width": null
     }
    },
    "e5e9a34c12b5444db998dd9f3735f83d": {
     "model_module": "@jupyter-widgets/base",
     "model_module_version": "1.2.0",
     "model_name": "LayoutModel",
     "state": {
      "_model_module": "@jupyter-widgets/base",
      "_model_module_version": "1.2.0",
      "_model_name": "LayoutModel",
      "_view_count": null,
      "_view_module": "@jupyter-widgets/base",
      "_view_module_version": "1.2.0",
      "_view_name": "LayoutView",
      "align_content": null,
      "align_items": null,
      "align_self": null,
      "border": null,
      "bottom": null,
      "display": null,
      "flex": null,
      "flex_flow": null,
      "grid_area": null,
      "grid_auto_columns": null,
      "grid_auto_flow": null,
      "grid_auto_rows": null,
      "grid_column": null,
      "grid_gap": null,
      "grid_row": null,
      "grid_template_areas": null,
      "grid_template_columns": null,
      "grid_template_rows": null,
      "height": null,
      "justify_content": null,
      "justify_items": null,
      "left": null,
      "margin": null,
      "max_height": null,
      "max_width": null,
      "min_height": null,
      "min_width": null,
      "object_fit": null,
      "object_position": null,
      "order": null,
      "overflow": null,
      "overflow_x": null,
      "overflow_y": null,
      "padding": null,
      "right": null,
      "top": null,
      "visibility": null,
      "width": null
     }
    }
   }
  }
 },
 "nbformat": 4,
 "nbformat_minor": 4
}
