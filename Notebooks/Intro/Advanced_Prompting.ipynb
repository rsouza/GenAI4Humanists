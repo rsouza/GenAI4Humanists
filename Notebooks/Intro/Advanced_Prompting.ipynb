{
 "cells": [
  {
   "cell_type": "markdown",
   "metadata": {
    "application/vnd.databricks.v1+cell": {
     "cellMetadata": {},
     "inputWidgets": {},
     "nuid": "883e0a02-d065-430e-89b5-e4434ef02159",
     "showTitle": false,
     "title": ""
    },
    "id": "JMXGlIvAwn30"
   },
   "source": [
    "# Advanced prompts\n",
    "\n",
    "In this notebook, we will explore some advanced prompt patterns:  \n",
    "+ Few-shots prompt\n",
    "+ Chain of Thought prompt\n",
    "+ Program-Aided Language Models (PAL)\n",
    "+ REACT\n",
    "+ CO-STAR\n",
    "\n",
    "## Setup\n",
    "#### Load the API key and relevant Python libraries."
   ]
  },
  {
   "cell_type": "code",
   "execution_count": 0,
   "metadata": {
    "application/vnd.databricks.v1+cell": {
     "cellMetadata": {
      "byteLimit": 2048000,
      "rowLimit": 10000
     },
     "inputWidgets": {},
     "nuid": "323c47a4-1444-46c0-8f3a-055f5e305944",
     "showTitle": false,
     "title": ""
    }
   },
   "outputs": [],
   "source": [
    "!pip install -qU openai\n",
    "dbutils.library.restartPython()"
   ]
  },
  {
   "cell_type": "code",
   "execution_count": 0,
   "metadata": {
    "application/vnd.databricks.v1+cell": {
     "cellMetadata": {
      "byteLimit": 2048000,
      "rowLimit": 10000
     },
     "inputWidgets": {},
     "nuid": "3853a554-f7fc-4170-b203-eb2a69163bf4",
     "showTitle": false,
     "title": ""
    }
   },
   "outputs": [],
   "source": [
    "import os\n",
    "import openai\n",
    "from openai import OpenAI\n",
    "from openai import AzureOpenAI\n",
    "\n",
    "openai.api_type = \"azure\"\n",
    "openai.api_key = os.environ[\"OPENAI_API_KEY\"]\n",
    "openai.api_version = \"2023-07-01-preview\"\n",
    "openai.api_base = \"https://rg-rbi-aa-aitest-dsacademy.openai.azure.com/\"\n",
    "#openai.api_base = \"https://chatgpt-summarization.openai.azure.com/\"\n",
    "\n",
    "#llm_model_name = \"gpt-35-turbo\"\n",
    "#llm_deploy_name = \"model-gpt-35-turbo\"\n",
    "\n",
    "llm_model_name = \"gpt-4o\"\n",
    "llm_deploy_name = \"model-gpt-4o\"\n",
    "\n",
    "client = AzureOpenAI(api_key=openai.api_key,\n",
    "                     api_version=openai.api_version,\n",
    "                     azure_endpoint=openai.api_base,\n",
    "                     )\n",
    "\n",
    "def ask(prompt):\n",
    "    try:\n",
    "        chat_completion = client.chat.completions.create(\n",
    "            model=llm_deploy_name,\n",
    "            messages=[\n",
    "                {\"role\": \"system\", \"content\": \"You are a helpful assistant.\"},\n",
    "                {\"role\": \"user\", \"content\": f\"{prompt}\"},\n",
    "            ],\n",
    "            )\n",
    "        return(chat_completion.choices[0].message.content)\n",
    "    except openai.error.APIError as e:\n",
    "        print(f\"OpenAI API returned an API Error: {e}\")\n",
    "    except openai.error.AuthenticationError as e:\n",
    "        print(f\"OpenAI API returned an Authentication Error: {e}\")\n",
    "    except openai.error.APIConnectionError as e:\n",
    "        print(f\"Failed to connect to OpenAI API: {e}\")\n",
    "    except openai.error.InvalidRequestError as e:\n",
    "        print(f\"Invalid Request Error: {e}\")\n",
    "    except openai.error.RateLimitError as e:\n",
    "        print(f\"OpenAI API request exceeded rate limit: {e}\")\n",
    "    except openai.error.ServiceUnavailableError as e:\n",
    "        print(f\"Service Unavailable: {e}\")\n",
    "    except openai.error.Timeout as e:\n",
    "        print(f\"Request timed out: {e}\")\n",
    "    except:\n",
    "        print(\"An exception has occured.\")"
   ]
  },
  {
   "cell_type": "markdown",
   "metadata": {
    "application/vnd.databricks.v1+cell": {
     "cellMetadata": {},
     "inputWidgets": {},
     "nuid": "14a9d8ad-5101-4024-ac12-4cecbf255d5c",
     "showTitle": false,
     "title": ""
    }
   },
   "source": [
    "### Few-shots prompt\n",
    "\n",
    "Few-shots prompting means that along with the instruction, you input demonstrations of how the task can be solved. \n",
    "\n",
    "##### Zero-shot prompting (without few-shot prompting):"
   ]
  },
  {
   "cell_type": "code",
   "execution_count": 0,
   "metadata": {
    "application/vnd.databricks.v1+cell": {
     "cellMetadata": {
      "byteLimit": 2048000,
      "rowLimit": 10000
     },
     "inputWidgets": {},
     "nuid": "a4b7fa91-441c-4bf0-8e1d-013c695e9e41",
     "showTitle": false,
     "title": ""
    }
   },
   "outputs": [],
   "source": [
    "ask(\"Please analyze the sentiment of the following sentence: 'This phone lasts all day on a single charge. It’s amazing!'\")"
   ]
  },
  {
   "cell_type": "markdown",
   "metadata": {
    "application/vnd.databricks.v1+cell": {
     "cellMetadata": {},
     "inputWidgets": {},
     "nuid": "51990fd6-c854-4302-9799-33b702c76de6",
     "showTitle": false,
     "title": ""
    }
   },
   "source": [
    "##### With few-shot prompting:"
   ]
  },
  {
   "cell_type": "code",
   "execution_count": 0,
   "metadata": {
    "application/vnd.databricks.v1+cell": {
     "cellMetadata": {
      "byteLimit": 2048000,
      "rowLimit": 10000
     },
     "inputWidgets": {},
     "nuid": "3215ffb8-a671-40c6-a3eb-b580f86bf620",
     "showTitle": false,
     "title": ""
    }
   },
   "outputs": [],
   "source": [
    "query = \"\"\"\n",
    "I will provide you with a series of sentences. \n",
    "After each sentence, please analyze the sentiment expressed and categorize it as “Positive,” “Negative,” or “Neutral.”\n",
    "\n",
    "Q) \"I absolutely love the friendly service at that restaurant.\" \n",
    "A) {Sentiment: \"Positive\"}\n",
    "Q) \"The movie was a complete waste of time and money.\" \n",
    "A) {Sentiment: \"Negative\"}\n",
    "Q) \"It’s a typical day, nothing much happening.\" \n",
    "A) {Sentiment: \"Neutral\"}\n",
    "\n",
    "Now, please analyze the sentiment of the following sentence:\n",
    "\n",
    "\"This phone lasts all day on a single charge. It’s amazing!\"\n",
    "\"\"\"\n",
    "\n",
    "ask(query)"
   ]
  },
  {
   "cell_type": "markdown",
   "metadata": {
    "application/vnd.databricks.v1+cell": {
     "cellMetadata": {},
     "inputWidgets": {},
     "nuid": "90973a7b-e02f-4fa5-a817-622373a789e1",
     "showTitle": false,
     "title": ""
    }
   },
   "source": [
    "### Chain of Thought prompt\n",
    "\n",
    "The main idea of Chain-of-Thought (CoT) prompting is that LLMs handle complex tasks better if they are divided into intermediate steps.\n",
    "\n",
    "##### Without Chain of Thought:"
   ]
  },
  {
   "cell_type": "code",
   "execution_count": 0,
   "metadata": {
    "application/vnd.databricks.v1+cell": {
     "cellMetadata": {
      "byteLimit": 2048000,
      "rowLimit": 10000
     },
     "inputWidgets": {},
     "nuid": "a5774beb-8b6f-4d92-9960-6b6630542b9f",
     "showTitle": false,
     "title": ""
    }
   },
   "outputs": [],
   "source": [
    "query = \"\"\"\n",
    "Question: What will be the atomic number of the next element to be added to the periodic table of elements?\n",
    "\"\"\"\n",
    "\n",
    "ask(query)"
   ]
  },
  {
   "cell_type": "markdown",
   "metadata": {
    "application/vnd.databricks.v1+cell": {
     "cellMetadata": {},
     "inputWidgets": {},
     "nuid": "b7a6d505-b770-4554-8673-9e8712fc5af0",
     "showTitle": false,
     "title": ""
    }
   },
   "source": [
    "##### With Chain of Thought:"
   ]
  },
  {
   "cell_type": "code",
   "execution_count": 0,
   "metadata": {
    "application/vnd.databricks.v1+cell": {
     "cellMetadata": {
      "byteLimit": 2048000,
      "rowLimit": 10000
     },
     "inputWidgets": {},
     "nuid": "201ce84a-e8b1-47f7-89c2-c49ea0928839",
     "showTitle": false,
     "title": ""
    }
   },
   "outputs": [],
   "source": [
    "query = \"\"\"\n",
    "- Every element we add to the periodic table of elements has a bigger atomic number comparing to the successor.\n",
    "- The next element's atomic number adds one to the atomic number of previous one in the periodic table.\n",
    "- Oganesson, the last element to be added, has the atomic number of 118.\n",
    "\n",
    "Question: What will be the atomic number of the next element to be added to the periodic table of elements?\n",
    "\"\"\"\n",
    "\n",
    "ask(query)"
   ]
  },
  {
   "cell_type": "markdown",
   "metadata": {
    "application/vnd.databricks.v1+cell": {
     "cellMetadata": {},
     "inputWidgets": {},
     "nuid": "4b6cedf2-4fe5-44f5-9b98-b82f07184f53",
     "showTitle": false,
     "title": ""
    }
   },
   "source": [
    "### [Program-Aided Language Models (PAL)](https://reasonwithpal.com/)\n",
    "\n",
    "PAL is a method, where language models generate programs from natural language descriptions, which are then executed by a programmatic runtime like a Python interpreter. That leads to a more accurate result.\n",
    "\n",
    "##### Without PAL:"
   ]
  },
  {
   "cell_type": "code",
   "execution_count": 0,
   "metadata": {
    "application/vnd.databricks.v1+cell": {
     "cellMetadata": {
      "byteLimit": 2048000,
      "rowLimit": 10000
     },
     "inputWidgets": {},
     "nuid": "39d19f78-26b8-4573-8d8d-fdf08a2e33f9",
     "showTitle": false,
     "title": ""
    }
   },
   "outputs": [],
   "source": [
    "ask(\"There were nine computers in the server room. Five more computers were installed each day, since Monday. How many computers are now in the server room?\")"
   ]
  },
  {
   "cell_type": "markdown",
   "metadata": {
    "application/vnd.databricks.v1+cell": {
     "cellMetadata": {},
     "inputWidgets": {},
     "nuid": "37649991-413d-4c5a-9a93-f9c9793062fe",
     "showTitle": false,
     "title": ""
    }
   },
   "source": [
    "##### With PAL:"
   ]
  },
  {
   "cell_type": "code",
   "execution_count": 0,
   "metadata": {
    "application/vnd.databricks.v1+cell": {
     "cellMetadata": {
      "byteLimit": 2048000,
      "rowLimit": 10000
     },
     "inputWidgets": {},
     "nuid": "76f0c8e2-ff89-4589-a5fe-d68dd28945a9",
     "showTitle": false,
     "title": ""
    }
   },
   "outputs": [],
   "source": [
    "query = \"\"\"\n",
    "There were nine computers in the server room last Monday. \n",
    "Five more computers were installed each day, until today. \n",
    "How many computers are now in the server room?\n",
    "create a Python code to answer the question, execute it, and print the result\n",
    "Explain each step.\n",
    "\"\"\"\n",
    "\n",
    "print(ask(query))"
   ]
  },
  {
   "cell_type": "markdown",
   "metadata": {
    "application/vnd.databricks.v1+cell": {
     "cellMetadata": {},
     "inputWidgets": {},
     "nuid": "960cf918-ff60-4d95-ae31-d1edd2cb17bb",
     "showTitle": false,
     "title": ""
    }
   },
   "source": [
    "### [REACT](https://arxiv.org/pdf/2210.03629)\n",
    "\n",
    "ReAct is a prompting technique that combines reasoning, that  helps the model induce, track, and update action plans as well as handle\n",
    "exceptions, and actions, that allow it to interface with and gather additional information\n",
    "from external sources.\n",
    "\n",
    "##### Without REACT:"
   ]
  },
  {
   "cell_type": "code",
   "execution_count": 0,
   "metadata": {
    "application/vnd.databricks.v1+cell": {
     "cellMetadata": {
      "byteLimit": 2048000,
      "rowLimit": 10000
     },
     "inputWidgets": {},
     "nuid": "1ba07453-cea0-4089-aaaa-a3f2661360e1",
     "showTitle": false,
     "title": ""
    }
   },
   "outputs": [],
   "source": [
    "query = \"\"\"\n",
    "Emma took a 80 minutes plane ride to Seattle. After spending a quarter of hour in a cab, She then took a two hours train ride to Portland, \n",
    "but the train was 5 minutes late. Initially, she would only wait for 15 minutes in the train station before the train departs. \n",
    "She then took an Uber for the airport, which took 1/2 of hour. Then, after 1 hour waiting in the airport, she took a plane to Vancouver \n",
    "that lasted half of the time she spent on the first transportation mode. \n",
    "How long did it take her to get to Vancouver?\n",
    "\"\"\"\n",
    "\n",
    "print(ask(query))"
   ]
  },
  {
   "cell_type": "markdown",
   "metadata": {
    "application/vnd.databricks.v1+cell": {
     "cellMetadata": {},
     "inputWidgets": {},
     "nuid": "48a01419-0a69-4d1f-95ed-d38649932eae",
     "showTitle": false,
     "title": ""
    }
   },
   "source": [
    "##### With REACT:"
   ]
  },
  {
   "cell_type": "code",
   "execution_count": 0,
   "metadata": {
    "application/vnd.databricks.v1+cell": {
     "cellMetadata": {
      "byteLimit": 2048000,
      "rowLimit": 10000
     },
     "inputWidgets": {},
     "nuid": "cd517fa6-6d2f-4d2d-ac0a-d9a722a39168",
     "showTitle": false,
     "title": ""
    }
   },
   "outputs": [],
   "source": [
    "query = \"\"\"\n",
    "Emma took a 80 minutes plane ride to Seattle. After spending a quarter of hour in a cab, She then took a two hours train ride to Portland, \n",
    "but the train was 5 minutes late. Initially, she would only wait for 15 minutes in the train station before the train departs. \n",
    "She then took an Uber for the airport, which took 1/2 of hour. Then, after 1 hour waiting in the airport, she took a plane to Vancouver \n",
    "that lasted half of the time she spent on the first transportation mode. \n",
    "How long did it take her to get to Vancouver? \n",
    "Use the REACT framework to show your reasoning.\n",
    "\"\"\"\n",
    "\n",
    "print(ask(query))"
   ]
  },
  {
   "cell_type": "markdown",
   "metadata": {
    "application/vnd.databricks.v1+cell": {
     "cellMetadata": {},
     "inputWidgets": {},
     "nuid": "6dfb4c3e-d228-4b5e-97ad-7d60e5a59f4d",
     "showTitle": false,
     "title": ""
    }
   },
   "source": [
    "### CO-STAR  \n",
    "\n",
    "Effective prompt structuring is crucial for eliciting optimal responses from an LLM. The CO-STAR framework is a handy template for structuring prompts.  \n",
    "\n",
    "It considers all the key aspects that influence the effectiveness and relevance of an LLM’s response, leading to more optimal responses.  \n",
    "\n",
    "##### Without CO-STAR:"
   ]
  },
  {
   "cell_type": "code",
   "execution_count": 0,
   "metadata": {
    "application/vnd.databricks.v1+cell": {
     "cellMetadata": {
      "byteLimit": 2048000,
      "rowLimit": 10000
     },
     "inputWidgets": {},
     "nuid": "4e390169-8864-4b8f-8b80-695f511dd518",
     "showTitle": false,
     "title": ""
    }
   },
   "outputs": [],
   "source": [
    "ask(\"Write a LinkedIn post to advertise Raiffeisen new product called voiceBot, to allow electronic banking transactions via voice.\")"
   ]
  },
  {
   "cell_type": "markdown",
   "metadata": {
    "application/vnd.databricks.v1+cell": {
     "cellMetadata": {},
     "inputWidgets": {},
     "nuid": "3863f6ed-bf77-4cb1-8ea6-f8a97f927304",
     "showTitle": false,
     "title": ""
    }
   },
   "source": [
    "##### With CO-STAR:"
   ]
  },
  {
   "cell_type": "code",
   "execution_count": 0,
   "metadata": {
    "application/vnd.databricks.v1+cell": {
     "cellMetadata": {
      "byteLimit": 2048000,
      "rowLimit": 10000
     },
     "inputWidgets": {},
     "nuid": "33057482-399b-4771-9281-7e86803de14c",
     "showTitle": false,
     "title": ""
    }
   },
   "outputs": [],
   "source": [
    "query = \"\"\"\n",
    "# CONTEXT #\n",
    "I want to advertise my company’s new product. My company’s name is Raiffeisen and the product is called VoiceBot, that allow electronic banking transactions via voice.\n",
    "\n",
    "# OBJECTIVE #\n",
    "Create a LinkedIn post for me, which aims to get people to click on the link to read it.\n",
    "\n",
    "# STYLE #\n",
    "Follow the writing style of successful companies on the same sector that advertise similar products.\n",
    "\n",
    "# TONE #\n",
    "Persuasive\n",
    "\n",
    "# AUDIENCE #\n",
    "My company’s audience profile on LinkedIn is typically the older generation. Tailor your post to target what this audience typically looks out for in hair products.\n",
    "\n",
    "# RESPONSE #\n",
    "The LinkedIn post\n",
    "\"\"\"\n",
    "\n",
    "ask(query)"
   ]
  }
 ],
 "metadata": {
  "application/vnd.databricks.v1+notebook": {
   "dashboards": [],
   "environmentMetadata": null,
   "language": "python",
   "notebookMetadata": {
    "pythonIndentUnit": 4
   },
   "notebookName": "2-Advanced_Prompting",
   "widgets": {}
  },
  "kernelspec": {
   "display_name": "Python 3 (ipykernel)",
   "language": "python",
   "name": "python3"
  },
  "language_info": {
   "codemirror_mode": {
    "name": "ipython",
    "version": 3
   },
   "file_extension": ".py",
   "mimetype": "text/x-python",
   "name": "python",
   "nbconvert_exporter": "python",
   "pygments_lexer": "ipython3",
   "version": "3.10.9"
  }
 },
 "nbformat": 4,
 "nbformat_minor": 0
}
