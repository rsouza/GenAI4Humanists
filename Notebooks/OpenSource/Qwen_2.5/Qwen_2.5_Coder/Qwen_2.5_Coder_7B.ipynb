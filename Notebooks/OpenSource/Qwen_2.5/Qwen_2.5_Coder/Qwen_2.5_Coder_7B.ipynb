{
 "cells": [
  {
   "cell_type": "markdown",
   "metadata": {
    "application/vnd.databricks.v1+cell": {
     "cellMetadata": {
      "byteLimit": 2048000,
      "rowLimit": 10000
     },
     "inputWidgets": {},
     "nuid": "018d40c2-d808-4dbe-ac07-726f4d390a5e",
     "showTitle": false,
     "tableResultSettingsMap": {},
     "title": ""
    }
   },
   "source": [
    "\n",
    "### Using [Qwen 2.5-Coder-7B](https://huggingface.co/Qwen/Qwen2.5-Coder-7B) - [Alibaba Cloud](https://www.alibabacloud.com/en?_p_lc=1)  \n",
    "\n",
    "##### Running on g4dn.2xlarge"
   ]
  },
  {
   "cell_type": "markdown",
   "metadata": {
    "application/vnd.databricks.v1+cell": {
     "cellMetadata": {
      "byteLimit": 2048000,
      "rowLimit": 10000
     },
     "inputWidgets": {},
     "nuid": "2209995f-28f2-4651-b595-ade526089d8c",
     "showTitle": false,
     "tableResultSettingsMap": {},
     "title": ""
    }
   },
   "source": [
    "##### Setup"
   ]
  },
  {
   "cell_type": "code",
   "execution_count": 0,
   "metadata": {
    "application/vnd.databricks.v1+cell": {
     "cellMetadata": {
      "byteLimit": 2048000,
      "rowLimit": 10000
     },
     "inputWidgets": {},
     "nuid": "88eb44a5-0c95-4f91-a761-242ea4795cf9",
     "showTitle": false,
     "tableResultSettingsMap": {},
     "title": ""
    }
   },
   "outputs": [],
   "source": [
    "!pip install -Uq accelerate \n",
    "!pip install -Uq bitsandbytes\n",
    "!pip install \"transformers>=4.45.0\" --upgrade\n",
    "\n",
    "dbutils.library.restartPython()"
   ]
  },
  {
   "cell_type": "code",
   "execution_count": 0,
   "metadata": {
    "application/vnd.databricks.v1+cell": {
     "cellMetadata": {
      "byteLimit": 2048000,
      "rowLimit": 10000
     },
     "inputWidgets": {},
     "nuid": "5e90f7e8-b3ed-44dd-830e-7e69a3ca4783",
     "showTitle": false,
     "tableResultSettingsMap": {},
     "title": ""
    }
   },
   "outputs": [],
   "source": [
    "import os\n",
    "import torch\n",
    "torch.cuda.empty_cache()\n",
    "\n",
    "import gc\n",
    "gc.collect()\n",
    "\n",
    "import time\n",
    "\n",
    "from transformers import pipeline"
   ]
  },
  {
   "cell_type": "markdown",
   "metadata": {
    "application/vnd.databricks.v1+cell": {
     "cellMetadata": {
      "byteLimit": 2048000,
      "rowLimit": 10000
     },
     "inputWidgets": {},
     "nuid": "0bfd978f-517c-46b3-8ad7-aceb4951c0c9",
     "showTitle": false,
     "tableResultSettingsMap": {},
     "title": ""
    }
   },
   "source": [
    "##### Checking GPU Allocation"
   ]
  },
  {
   "cell_type": "code",
   "execution_count": 0,
   "metadata": {
    "application/vnd.databricks.v1+cell": {
     "cellMetadata": {
      "byteLimit": 2048000,
      "rowLimit": 10000
     },
     "inputWidgets": {},
     "nuid": "93cd90f0-7c99-4938-9b60-ca115cccc517",
     "showTitle": false,
     "tableResultSettingsMap": {},
     "title": ""
    }
   },
   "outputs": [],
   "source": [
    "print(torch.cuda.memory_summary(device=None, abbreviated=False))"
   ]
  },
  {
   "cell_type": "markdown",
   "metadata": {
    "application/vnd.databricks.v1+cell": {
     "cellMetadata": {
      "byteLimit": 2048000,
      "rowLimit": 10000
     },
     "inputWidgets": {},
     "nuid": "33630006-31fc-410f-a5ce-5d877ed7ff2a",
     "showTitle": false,
     "tableResultSettingsMap": {},
     "title": ""
    }
   },
   "source": [
    "\n",
    "#### Load model"
   ]
  },
  {
   "cell_type": "code",
   "execution_count": 0,
   "metadata": {
    "application/vnd.databricks.v1+cell": {
     "cellMetadata": {
      "byteLimit": 2048000,
      "rowLimit": 10000
     },
     "inputWidgets": {},
     "nuid": "5d0e3952-c83f-453b-951c-83fddb2a49d0",
     "showTitle": false,
     "tableResultSettingsMap": {},
     "title": ""
    }
   },
   "outputs": [],
   "source": [
    "# run on g4dn.xlarge[T4]\n",
    "instruct7 = pipeline(model=\"Qwen/Qwen2.5-Coder-7B\", torch_dtype=torch.bfloat16, device_map=\"auto\", trust_remote_code=True)"
   ]
  },
  {
   "cell_type": "code",
   "execution_count": 0,
   "metadata": {
    "application/vnd.databricks.v1+cell": {
     "cellMetadata": {
      "byteLimit": 2048000,
      "rowLimit": 10000
     },
     "inputWidgets": {},
     "nuid": "8bd36046-dac4-45eb-9336-36b16c1208ca",
     "showTitle": false,
     "tableResultSettingsMap": {},
     "title": ""
    }
   },
   "outputs": [],
   "source": [
    "# clear the memory cache used by PyTorch\n",
    "torch.cuda.empty_cache()\n",
    "# garbage collection to free up memory occupied by unused objects\n",
    "gc.collect()"
   ]
  },
  {
   "cell_type": "markdown",
   "metadata": {
    "application/vnd.databricks.v1+cell": {
     "cellMetadata": {
      "byteLimit": 2048000,
      "rowLimit": 10000
     },
     "inputWidgets": {},
     "nuid": "0aeaf2a7-4ccc-4ae7-9f80-4438ca832f37",
     "showTitle": false,
     "tableResultSettingsMap": {},
     "title": ""
    }
   },
   "source": [
    "#### Coding Task"
   ]
  },
  {
   "cell_type": "markdown",
   "metadata": {
    "application/vnd.databricks.v1+cell": {
     "cellMetadata": {
      "byteLimit": 2048000,
      "rowLimit": 10000
     },
     "inputWidgets": {},
     "nuid": "59fcd519-c621-4e0f-a015-40bf63213cef",
     "showTitle": false,
     "tableResultSettingsMap": {},
     "title": ""
    }
   },
   "source": [
    "**Level: Very easy**\n",
    "\n",
    "Convert Minutes into Seconds\n",
    "\n",
    "\n",
    "_Coding challenge from: https://edabit.com/challenge/FQyaaJx7orS7tiwz8_"
   ]
  },
  {
   "cell_type": "code",
   "execution_count": 0,
   "metadata": {
    "application/vnd.databricks.v1+cell": {
     "cellMetadata": {
      "byteLimit": 2048000,
      "rowLimit": 10000
     },
     "inputWidgets": {},
     "nuid": "6558296c-b2e8-4dda-bf39-8b194e0503b3",
     "showTitle": false,
     "tableResultSettingsMap": {},
     "title": ""
    }
   },
   "outputs": [],
   "source": [
    "coding_template = \"\"\"Write a code in Python to solve the following task:\n",
    "\n",
    "{task}\n",
    "\n",
    "Starter: \n",
    "\n",
    "{starter}\n",
    "\"\"\"\n",
    "\n",
    "coding_test = \"\"\"Write a function that takes an integer minutes and converts it to seconds.\"\"\"\n",
    "\n",
    "starter = \"\"\"def convert(minutes):\"\"\"\n",
    "\n",
    "\n",
    "response = instruct7(coding_template.format(task=coding_test, starter=starter), max_new_tokens=200)\n",
    "print(response[0]['generated_text'] if isinstance(response, list) else response['generated_text'])"
   ]
  },
  {
   "cell_type": "markdown",
   "metadata": {
    "application/vnd.databricks.v1+cell": {
     "cellMetadata": {
      "byteLimit": 2048000,
      "rowLimit": 10000
     },
     "inputWidgets": {},
     "nuid": "d38947f4-03c9-495c-9daa-b19f28c5b813",
     "showTitle": false,
     "tableResultSettingsMap": {},
     "title": ""
    }
   },
   "source": [
    "Solved correctly ✔"
   ]
  },
  {
   "cell_type": "markdown",
   "metadata": {
    "application/vnd.databricks.v1+cell": {
     "cellMetadata": {
      "byteLimit": 2048000,
      "rowLimit": 10000
     },
     "inputWidgets": {},
     "nuid": "d7adcfbc-bae6-4f73-8fd3-358d0089a4e9",
     "showTitle": false,
     "tableResultSettingsMap": {},
     "title": ""
    }
   },
   "source": [
    "**Level: Easy**\n",
    "\n",
    "Basic Calculator\n",
    "\n",
    "_Code challenge from: https://edabit.com/challenge/ZdnwC3PsXPQTdTiKf_:"
   ]
  },
  {
   "cell_type": "code",
   "execution_count": 0,
   "metadata": {
    "application/vnd.databricks.v1+cell": {
     "cellMetadata": {
      "byteLimit": 2048000,
      "rowLimit": 10000
     },
     "inputWidgets": {},
     "nuid": "ba93e458-a61c-4680-8fe5-7460c5850c35",
     "showTitle": false,
     "tableResultSettingsMap": {},
     "title": ""
    }
   },
   "outputs": [],
   "source": [
    "coding_test = \"\"\"Create a Python function that takes two numbers and a mathematical operator + - / * and will perform a calculation with the given numbers. If the input tries to divide by 0, return: Can't divide by 0!\"\"\"\n",
    "\n",
    "starter = \"\"\"def calculator(num1, operator, num2):\"\"\"\n",
    "\n",
    "\n",
    "response = instruct7(coding_template.format(task=coding_test, starter=starter), max_new_tokens=1000)\n",
    "print(response[0]['generated_text'] if isinstance(response, list) else response['generated_text'])"
   ]
  },
  {
   "cell_type": "markdown",
   "metadata": {
    "application/vnd.databricks.v1+cell": {
     "cellMetadata": {},
     "inputWidgets": {},
     "nuid": "8f5bdf13-4917-4c6a-8dbc-7fb98f35f943",
     "showTitle": false,
     "tableResultSettingsMap": {},
     "title": ""
    }
   },
   "source": [
    "Solved correctly ✔"
   ]
  },
  {
   "cell_type": "markdown",
   "metadata": {
    "application/vnd.databricks.v1+cell": {
     "cellMetadata": {
      "byteLimit": 2048000,
      "rowLimit": 10000
     },
     "inputWidgets": {},
     "nuid": "02011031-83b3-471e-b8f4-fb7f6d69cd88",
     "showTitle": false,
     "tableResultSettingsMap": {},
     "title": ""
    }
   },
   "source": [
    "**Level: Medium**\n",
    "\n",
    "FizzBuzz Interview Question\n",
    "\n",
    "_Coding challenge from: https://edabit.com/challenge/WXqH9qvvGkmx4dMvp_"
   ]
  },
  {
   "cell_type": "code",
   "execution_count": 0,
   "metadata": {
    "application/vnd.databricks.v1+cell": {
     "cellMetadata": {
      "byteLimit": 2048000,
      "rowLimit": 10000
     },
     "inputWidgets": {},
     "nuid": "fe1f889b-fa38-4d2d-91e6-f37fb00e9d51",
     "showTitle": false,
     "tableResultSettingsMap": {},
     "title": ""
    }
   },
   "outputs": [],
   "source": [
    "coding_test = \"\"\"Write a function in Python that takes a number as an argument and returns \"Fizz\", \"Buzz\" or \"FizzBuzz\".\n",
    "\n",
    "If the number is a multiple of 3 the output should be \"Fizz\".\n",
    "If the number given is a multiple of 5, the output should be \"Buzz\".\n",
    "If the number given is a multiple of both 3 and 5, the output should be \"FizzBuzz\".\n",
    "If the number is not a multiple of either 3 or 5, the number should be output on its own as shown in the examples below.\n",
    "The output should always be a string even if it is not a multiple of 3 or 5.\"\"\"\n",
    "\n",
    "starter = \"\"\"def fizz_buzz(num):\"\"\"\n",
    "\n",
    "\n",
    "response = instruct7(coding_template.format(task=coding_test, starter=starter), max_new_tokens=1000)\n",
    "print(response[0]['generated_text'] if isinstance(response, list) else response['generated_text'])"
   ]
  },
  {
   "cell_type": "markdown",
   "metadata": {
    "application/vnd.databricks.v1+cell": {
     "cellMetadata": {},
     "inputWidgets": {},
     "nuid": "6e49a600-9bb4-4199-8f09-6380d54e7f9d",
     "showTitle": false,
     "tableResultSettingsMap": {},
     "title": ""
    }
   },
   "source": [
    "![](7_fizzbuzz.png)"
   ]
  },
  {
   "cell_type": "markdown",
   "metadata": {
    "application/vnd.databricks.v1+cell": {
     "cellMetadata": {},
     "inputWidgets": {},
     "nuid": "4f648bfc-b574-4b3a-8920-572402acff6b",
     "showTitle": false,
     "tableResultSettingsMap": {},
     "title": ""
    }
   },
   "source": [
    "Solved correctly ✔"
   ]
  },
  {
   "cell_type": "markdown",
   "metadata": {
    "application/vnd.databricks.v1+cell": {
     "cellMetadata": {
      "byteLimit": 2048000,
      "rowLimit": 10000
     },
     "inputWidgets": {},
     "nuid": "ee1c4ea5-dcd0-49cf-971e-08b7fc37279c",
     "showTitle": true,
     "tableResultSettingsMap": {},
     "title": ""
    }
   },
   "source": [
    "**Level: Hard**\n",
    "\n",
    "Censor Words from List\n",
    "\n",
    "_Coding challenge from: https://edabit.com/challenge/zJSF5EfPe69e9sJAc:_"
   ]
  },
  {
   "cell_type": "code",
   "execution_count": 0,
   "metadata": {
    "application/vnd.databricks.v1+cell": {
     "cellMetadata": {
      "byteLimit": 2048000,
      "rowLimit": 10000
     },
     "inputWidgets": {},
     "nuid": "e0e697fe-2c3b-4073-8088-04b969ce5e21",
     "showTitle": false,
     "tableResultSettingsMap": {},
     "title": ""
    }
   },
   "outputs": [],
   "source": [
    "coding_test = \"\"\"Create a function that takes a string txt and censors any word from a given list lst. The text removed must be replaced by the given character char.\"\"\"\n",
    "\n",
    "starter = \"\"\"def censor_string(txt, lst, char):\"\"\"\n",
    "\n",
    "\n",
    "response = instruct7(coding_template.format(task=coding_test, starter=starter), max_new_tokens=500)\n",
    "print(response[0]['generated_text'] if isinstance(response, list) else response['generated_text'])"
   ]
  },
  {
   "cell_type": "markdown",
   "metadata": {
    "application/vnd.databricks.v1+cell": {
     "cellMetadata": {},
     "inputWidgets": {},
     "nuid": "93d8aa28-d726-49eb-9cde-cbcf724a583e",
     "showTitle": false,
     "tableResultSettingsMap": {},
     "title": ""
    }
   },
   "source": [
    "![](7_sensor.png)"
   ]
  },
  {
   "cell_type": "markdown",
   "metadata": {
    "application/vnd.databricks.v1+cell": {
     "cellMetadata": {},
     "inputWidgets": {},
     "nuid": "700faf6d-9180-4553-8ede-d942b1218def",
     "showTitle": false,
     "tableResultSettingsMap": {},
     "title": ""
    }
   },
   "source": [
    "Solved incorrectly ✘"
   ]
  },
  {
   "cell_type": "markdown",
   "metadata": {
    "application/vnd.databricks.v1+cell": {
     "cellMetadata": {
      "byteLimit": 2048000,
      "rowLimit": 10000
     },
     "inputWidgets": {},
     "nuid": "69a43c2d-00d8-4cb8-bd85-5457aa711c32",
     "showTitle": false,
     "tableResultSettingsMap": {},
     "title": ""
    }
   },
   "source": [
    "**Level: Very hard**\n",
    "\n",
    "First Letter Shift\n",
    "\n",
    "_Code challenge from: https://edabit.com/challenge/ojNRprg7fKpWJpj47_"
   ]
  },
  {
   "cell_type": "code",
   "execution_count": 0,
   "metadata": {
    "application/vnd.databricks.v1+cell": {
     "cellMetadata": {
      "byteLimit": 2048000,
      "rowLimit": 10000
     },
     "inputWidgets": {},
     "nuid": "2fa7e1e1-cad1-4da8-a14f-189909bef07f",
     "showTitle": false,
     "tableResultSettingsMap": {},
     "title": ""
    }
   },
   "outputs": [],
   "source": [
    "coding_test = \"\"\"Given a sentence, create a function which shifts the first letter of each word to the next word in the sentence (shifting right). \n",
    "The last word shifts its first letter to the first word in the sentence.\n",
    "All sentences will be given in lowercase.\n",
    "Note how single words remain untouched\"\"\"\n",
    "\n",
    "starter = \"\"\"def shift_sentence(txt):\"\"\"\n",
    "\n",
    "\n",
    "response = instruct7(coding_template.format(task=coding_test, starter=starter), max_new_tokens=1000)\n",
    "print(response[0]['generated_text'] if isinstance(response, list) else response['generated_text'])"
   ]
  },
  {
   "cell_type": "markdown",
   "metadata": {
    "application/vnd.databricks.v1+cell": {
     "cellMetadata": {},
     "inputWidgets": {},
     "nuid": "0f38dfff-fbe0-4cb9-a27a-eb1238a7b60c",
     "showTitle": false,
     "tableResultSettingsMap": {},
     "title": ""
    }
   },
   "source": [
    "Solved incorrectly ✘"
   ]
  },
  {
   "cell_type": "markdown",
   "metadata": {
    "application/vnd.databricks.v1+cell": {
     "cellMetadata": {},
     "inputWidgets": {},
     "nuid": "bbe9b259-a280-47da-8328-b249b6bc6771",
     "showTitle": false,
     "tableResultSettingsMap": {},
     "title": ""
    }
   },
   "source": [
    "\n",
    "| Test | Task | Level | Solved |\n",
    "|----------|----------|----------|----------|\n",
    "| 1    | Convert Minutes into Seconds     | Very easy     | ✔     |\n",
    "| 2    | Basic Calculator                 | Easy          | ✔     |\n",
    "| 3    | FizzBuzz Interview Question      | Medium        | ✔     |\n",
    "| 4    | Censor Words from List           | Hard          | ✘     |\n",
    "| 5    | First Letter Shift               | Very hard     | ✘     |"
   ]
  },
  {
   "cell_type": "markdown",
   "metadata": {
    "application/vnd.databricks.v1+cell": {
     "cellMetadata": {
      "byteLimit": 2048000,
      "rowLimit": 10000
     },
     "inputWidgets": {},
     "nuid": "2dc2e676-7170-4821-b865-b89a5fd8f734",
     "showTitle": false,
     "tableResultSettingsMap": {},
     "title": ""
    }
   },
   "source": [
    "The minimum cluster configuration needed to run the model is **g4dn.2xlarge[T4]** - 32 GB memory, 1 GPU."
   ]
  }
 ],
 "metadata": {
  "application/vnd.databricks.v1+notebook": {
   "dashboards": [],
   "environmentMetadata": null,
   "language": "python",
   "notebookMetadata": {
    "pythonIndentUnit": 4
   },
   "notebookName": "Qwen_2.5_Coder_7B",
   "widgets": {}
  },
  "language_info": {
   "name": "python"
  }
 },
 "nbformat": 4,
 "nbformat_minor": 0
}
