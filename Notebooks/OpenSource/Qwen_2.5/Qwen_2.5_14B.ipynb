{
 "cells": [
  {
   "cell_type": "markdown",
   "metadata": {
    "application/vnd.databricks.v1+cell": {
     "cellMetadata": {
      "byteLimit": 2048000,
      "rowLimit": 10000
     },
     "inputWidgets": {},
     "nuid": "018d40c2-d808-4dbe-ac07-726f4d390a5e",
     "showTitle": false,
     "tableResultSettingsMap": {},
     "title": ""
    }
   },
   "source": [
    "\n",
    "### Using [Qwen 2.5-14B](https://huggingface.co/Qwen/Qwen2.5-14B) - [Alibaba Cloud](https://www.alibabacloud.com/en?_p_lc=1)  \n",
    "\n",
    "##### Running on g5.12xlarge"
   ]
  },
  {
   "cell_type": "markdown",
   "metadata": {
    "application/vnd.databricks.v1+cell": {
     "cellMetadata": {
      "byteLimit": 2048000,
      "rowLimit": 10000
     },
     "inputWidgets": {},
     "nuid": "f2ffc1e9-e90e-4de6-8571-cf102efa9402",
     "showTitle": false,
     "tableResultSettingsMap": {},
     "title": ""
    }
   },
   "source": [
    "_launched on 19.09.24_\n",
    "\n",
    "available in various sized including: \n",
    "- Qwen 2.5: 0.5B, 1.5B, 3B, 7B, **14B**, 32B, and 72B\n",
    "- Qwen 2.5-Coder: 1.5B, 7B, and 32B on the way\n",
    "- Qwen 2.5-Math: 1.5B, 7B, and 72B \n",
    "\n",
    "\n",
    "Qwen models are trained on 18 trillion tokens and have great capabilities in coding and mathematics. They support up to 128K tokens and over 29 languages."
   ]
  },
  {
   "cell_type": "markdown",
   "metadata": {
    "application/vnd.databricks.v1+cell": {
     "cellMetadata": {
      "byteLimit": 2048000,
      "rowLimit": 10000
     },
     "inputWidgets": {},
     "nuid": "2209995f-28f2-4651-b595-ade526089d8c",
     "showTitle": false,
     "tableResultSettingsMap": {},
     "title": ""
    }
   },
   "source": [
    "##### Setup"
   ]
  },
  {
   "cell_type": "code",
   "execution_count": 0,
   "metadata": {
    "application/vnd.databricks.v1+cell": {
     "cellMetadata": {
      "byteLimit": 2048000,
      "rowLimit": 10000
     },
     "inputWidgets": {},
     "nuid": "88eb44a5-0c95-4f91-a761-242ea4795cf9",
     "showTitle": false,
     "tableResultSettingsMap": {},
     "title": ""
    }
   },
   "outputs": [],
   "source": [
    "!pip install -Uq accelerate \n",
    "!pip install -Uq bitsandbytes\n",
    "!pip install \"transformers>=4.45.0\" --upgrade\n",
    "\n",
    "dbutils.library.restartPython()"
   ]
  },
  {
   "cell_type": "code",
   "execution_count": 0,
   "metadata": {
    "application/vnd.databricks.v1+cell": {
     "cellMetadata": {
      "byteLimit": 2048000,
      "rowLimit": 10000
     },
     "inputWidgets": {},
     "nuid": "5e90f7e8-b3ed-44dd-830e-7e69a3ca4783",
     "showTitle": false,
     "tableResultSettingsMap": {},
     "title": ""
    }
   },
   "outputs": [],
   "source": [
    "import os\n",
    "import torch\n",
    "torch.cuda.empty_cache()\n",
    "\n",
    "\n",
    "import gc\n",
    "gc.collect()\n",
    "\n",
    "import time\n",
    "\n",
    "from transformers import AutoModelForCausalLM, AutoTokenizer"
   ]
  },
  {
   "cell_type": "markdown",
   "metadata": {
    "application/vnd.databricks.v1+cell": {
     "cellMetadata": {
      "byteLimit": 2048000,
      "rowLimit": 10000
     },
     "inputWidgets": {},
     "nuid": "0bfd978f-517c-46b3-8ad7-aceb4951c0c9",
     "showTitle": false,
     "tableResultSettingsMap": {},
     "title": ""
    }
   },
   "source": [
    "##### Checking GPU Allocation"
   ]
  },
  {
   "cell_type": "code",
   "execution_count": 0,
   "metadata": {
    "application/vnd.databricks.v1+cell": {
     "cellMetadata": {
      "byteLimit": 2048000,
      "rowLimit": 10000
     },
     "inputWidgets": {},
     "nuid": "93cd90f0-7c99-4938-9b60-ca115cccc517",
     "showTitle": false,
     "tableResultSettingsMap": {},
     "title": ""
    }
   },
   "outputs": [],
   "source": [
    "print(torch.cuda.memory_summary(device=None, abbreviated=False))"
   ]
  },
  {
   "cell_type": "markdown",
   "metadata": {
    "application/vnd.databricks.v1+cell": {
     "cellMetadata": {
      "byteLimit": 2048000,
      "rowLimit": 10000
     },
     "inputWidgets": {},
     "nuid": "33630006-31fc-410f-a5ce-5d877ed7ff2a",
     "showTitle": false,
     "tableResultSettingsMap": {},
     "title": ""
    }
   },
   "source": [
    "\n",
    "#### Load model"
   ]
  },
  {
   "cell_type": "code",
   "execution_count": 0,
   "metadata": {
    "application/vnd.databricks.v1+cell": {
     "cellMetadata": {
      "byteLimit": 2048000,
      "rowLimit": 10000
     },
     "inputWidgets": {},
     "nuid": "5d07fb67-afc8-4449-bce9-c22d14cba9fe",
     "showTitle": false,
     "tableResultSettingsMap": {},
     "title": ""
    }
   },
   "outputs": [],
   "source": [
    "tokenizer_14 = AutoTokenizer.from_pretrained(\"Qwen/Qwen2.5-14B\", trust_remote_code=True)\n",
    "model_14 = AutoModelForCausalLM.from_pretrained(\n",
    "    \"Qwen/Qwen2.5-14B\",\n",
    "    torch_dtype=torch.bfloat16,  \n",
    "    device_map=\"auto\",           \n",
    "    trust_remote_code=True\n",
    ")"
   ]
  },
  {
   "cell_type": "markdown",
   "metadata": {
    "application/vnd.databricks.v1+cell": {
     "cellMetadata": {
      "byteLimit": 2048000,
      "rowLimit": 10000
     },
     "inputWidgets": {},
     "nuid": "18d723ed-ff83-4996-bfcd-6ecb9db9a22c",
     "showTitle": false,
     "tableResultSettingsMap": {},
     "title": ""
    }
   },
   "source": [
    "#### Text Generation"
   ]
  },
  {
   "cell_type": "code",
   "execution_count": 0,
   "metadata": {
    "application/vnd.databricks.v1+cell": {
     "cellMetadata": {
      "byteLimit": 2048000,
      "rowLimit": 10000
     },
     "inputWidgets": {},
     "nuid": "2be0edbb-e464-4e25-8958-bc0178333874",
     "showTitle": false,
     "tableResultSettingsMap": {},
     "title": ""
    }
   },
   "outputs": [],
   "source": [
    "prompt_generation = \"Write me all about Arthur Schopenhauer.\"\n",
    "\n",
    "inputs = tokenizer_14(prompt_generation, return_tensors=\"pt\")\n",
    "\n",
    "# Move inputs to the model's device (get device from model)\n",
    "device = next(model_14.parameters()).device\n",
    "inputs = {k: v.to(device) for k, v in inputs.items()}\n",
    "\n",
    "#Tracking the time\n",
    "start_time = time.time()\n",
    "\n",
    "outputs = model_14.generate(**inputs, max_new_tokens=200)\n",
    "\n",
    "print(tokenizer_14.decode(outputs[0], skip_special_tokens=True))\n",
    "\n",
    "end_time = time.time()\n",
    "\n",
    "latency = end_time - start_time"
   ]
  },
  {
   "cell_type": "code",
   "execution_count": 0,
   "metadata": {
    "application/vnd.databricks.v1+cell": {
     "cellMetadata": {
      "byteLimit": 2048000,
      "rowLimit": 10000
     },
     "inputWidgets": {},
     "nuid": "0b697cb9-516a-410e-a3f5-791262d0bff2",
     "showTitle": false,
     "tableResultSettingsMap": {},
     "title": ""
    }
   },
   "outputs": [],
   "source": [
    "print('Latency of the model is', latency)"
   ]
  },
  {
   "cell_type": "markdown",
   "metadata": {
    "application/vnd.databricks.v1+cell": {
     "cellMetadata": {
      "byteLimit": 2048000,
      "rowLimit": 10000
     },
     "inputWidgets": {},
     "nuid": "4fc52ad5-b822-4e8a-aaba-ae77958964ce",
     "showTitle": false,
     "tableResultSettingsMap": {},
     "title": ""
    }
   },
   "source": [
    "#### Text Summarization"
   ]
  },
  {
   "cell_type": "code",
   "execution_count": 0,
   "metadata": {
    "application/vnd.databricks.v1+cell": {
     "cellMetadata": {
      "byteLimit": 2048000,
      "rowLimit": 10000
     },
     "inputWidgets": {},
     "nuid": "4e058286-f2ff-420a-b69c-9917e02265c4",
     "showTitle": false,
     "tableResultSettingsMap": {},
     "title": ""
    }
   },
   "outputs": [],
   "source": [
    "template = \"\"\"Write a short summary of this article for a business expert:\n",
    "\n",
    "{article}\n",
    "\"\"\"\n",
    "\n",
    "cameroon = \"\"\"The economic fallout from the COVID-19 pandemic and the subsequent global shocks provoked by the war in Ukraine have hit African countries hard, denting economic growth and aggravating their sovereign debt positions. The International Monetary Fund (IMF) forecasts that Cameroon, a Central African oil producer, will record 4.3% economic growth this year after it slumped to 0.5% in 2020. The Fund has classified Cameroon as being at high risk of debt distress, though in its most recent review of the country's loan programme it stated that, with active fiscal reforms and management, the debt could be sustainable. \"Our debt service coverage from exports needs to be improved. That's the reason why we are ranked in a high risk debt distress position,\" said Alamine Ousmane Mey, Cameroon's minister of economy, planning and regional development. He was speaking at an event organised by the Atlantic Council think tank on the sidelines of the IMF and World Bank's Spring Meetings in Washington. \"We're working to be able to improve our exports through import substitution policies to reduce imports, produce more and export more. This will give us better room for debt service coverage,\" he said. Cameroon has also relaunched talks with the U.S. to end its suspension from the Africa Growth and Opportunities Act (AGOA) initiative, which grants qualifying African countries tariff-free access to the U.S. market. Former President Donald Trump suspended Cameroon from the programme in late 2019 over \"persistent gross violations of internationally recognised human rights\" by Cameroonian security forces. Since 2017, factions of secessionist militias have been battling government troops in the majority Francophone country's two English-speaking regions. The conflict has killed thousands and displaced nearly 800,000 people. \"All the issues that have been raised, we're working on in a very transparent open manner to be able to iron them out and solve the problems,\" Mey said, referring to the talks with U.S. officials to rejoin AGOA. Our Standards: The Thomson Reuters Trust Principles.\n",
    "\"\"\"\n",
    "prompt = template.format(article=cameroon)\n",
    "\n",
    "inputs = tokenizer_14(prompt, return_tensors=\"pt\")\n",
    "device = next(model_14.parameters()).device\n",
    "inputs = {k: v.to(device) for k, v in inputs.items()}\n",
    "\n",
    "outputs = model_14.generate(**inputs, max_new_tokens=120)\n",
    "    \n",
    "print(tokenizer_14.decode(outputs[0], skip_special_tokens=True))"
   ]
  },
  {
   "cell_type": "markdown",
   "metadata": {
    "application/vnd.databricks.v1+cell": {
     "cellMetadata": {
      "byteLimit": 2048000,
      "rowLimit": 10000
     },
     "inputWidgets": {},
     "nuid": "93a0be96-80f2-4859-be23-737ffac95061",
     "showTitle": false,
     "tableResultSettingsMap": {},
     "title": ""
    }
   },
   "source": [
    "#### Text Translation"
   ]
  },
  {
   "cell_type": "code",
   "execution_count": 0,
   "metadata": {
    "application/vnd.databricks.v1+cell": {
     "cellMetadata": {
      "byteLimit": 2048000,
      "rowLimit": 10000
     },
     "inputWidgets": {},
     "nuid": "e0c4f54c-b096-4bd4-95d1-95f0233eb53b",
     "showTitle": false,
     "tableResultSettingsMap": {},
     "title": ""
    }
   },
   "outputs": [],
   "source": [
    "translation_template = \"\"\"Translate into Russian:\n",
    "{text}\n",
    "\"\"\"\n",
    "\n",
    "translate_to_rus = \"\"\"Mr. Bingley was good-looking and gentlemanlike: he had a pleasant countenance, and easy, unaffected manners. His sisters were fine women, with an air of decided fashion. His brother-in-law, Mr. Hurst, merely looked the gentleman; but his friend Mr. Darcy soon drew the attention of the room by his fine, tall person, handsome features, noble mien, and the report, which was in general circulation within five minutes after his entrance, of his having ten thousand a year. The gentlemen pronounced him to be a fine figure of a man, the ladies declared he was much handsomer than Mr. Bingley, and he was looked at with great admiration for about half the evening, till his manners gave a disgust which turned the tide of his popularity; for he was discovered to be proud, to be above his company, and above being pleased; and not all his large estate in Derbyshire could save him from having a most forbidding, disagreeable countenance, and being unworthy to be compared with his friend.\"\"\"\n",
    "\n",
    "prompt = translation_template.format(text=translate_to_rus)\n",
    "\n",
    "inputs = tokenizer_14(prompt, return_tensors=\"pt\")\n",
    "device = next(model_14.parameters()).device\n",
    "inputs = {k: v.to(device) for k, v in inputs.items()}\n",
    "\n",
    "outputs = model_14.generate(**inputs, max_new_tokens=120)\n",
    "    \n",
    "print(tokenizer_14.decode(outputs[0], skip_special_tokens=True))"
   ]
  },
  {
   "cell_type": "markdown",
   "metadata": {
    "application/vnd.databricks.v1+cell": {
     "cellMetadata": {
      "byteLimit": 2048000,
      "rowLimit": 10000
     },
     "inputWidgets": {},
     "nuid": "0aeaf2a7-4ccc-4ae7-9f80-4438ca832f37",
     "showTitle": false,
     "tableResultSettingsMap": {},
     "title": ""
    }
   },
   "source": [
    "#### Coding Task"
   ]
  },
  {
   "cell_type": "markdown",
   "metadata": {
    "application/vnd.databricks.v1+cell": {
     "cellMetadata": {
      "byteLimit": 2048000,
      "rowLimit": 10000
     },
     "inputWidgets": {},
     "nuid": "477c199b-b125-4b63-9e8d-73c48bd83244",
     "showTitle": false,
     "tableResultSettingsMap": {},
     "title": ""
    }
   },
   "source": [
    "_Code challenge from: https://edabit.com/challenge/ZdnwC3PsXPQTdTiKf_:"
   ]
  },
  {
   "cell_type": "code",
   "execution_count": 0,
   "metadata": {
    "application/vnd.databricks.v1+cell": {
     "cellMetadata": {
      "byteLimit": 2048000,
      "rowLimit": 10000
     },
     "inputWidgets": {},
     "nuid": "ba93e458-a61c-4680-8fe5-7460c5850c35",
     "showTitle": false,
     "tableResultSettingsMap": {},
     "title": ""
    }
   },
   "outputs": [],
   "source": [
    "coding_template = \"\"\"Write a code in Python to solve the following task:\n",
    "\n",
    "{task}\n",
    "\n",
    "Starter: \n",
    "\n",
    "{starter}\n",
    "\"\"\"\n",
    "\n",
    "coding_test = \"\"\"Create a Python function that takes two numbers and a mathematical operator + - / * and will perform a calculation with the given numbers. If the input tries to divide by 0, return: Can't divide by 0!\"\"\"\n",
    "\n",
    "\n",
    "starter = \"\"\"def calculator(num1, operator, num2):\"\"\"\n",
    "\n",
    "\n",
    "prompt = coding_template.format(task=coding_test, starter = starter)\n",
    "\n",
    "inputs = tokenizer_14(prompt, return_tensors=\"pt\")\n",
    "device = next(model_14.parameters()).device\n",
    "inputs = {k: v.to(device) for k, v in inputs.items()}\n",
    "\n",
    "outputs = model_14.generate(**inputs, max_new_tokens=200)\n",
    "    \n",
    "print(tokenizer_14.decode(outputs[0], skip_special_tokens=True))"
   ]
  },
  {
   "cell_type": "markdown",
   "metadata": {
    "application/vnd.databricks.v1+cell": {
     "cellMetadata": {
      "byteLimit": 2048000,
      "rowLimit": 10000
     },
     "inputWidgets": {},
     "nuid": "ee1c4ea5-dcd0-49cf-971e-08b7fc37279c",
     "showTitle": true,
     "tableResultSettingsMap": {},
     "title": ""
    }
   },
   "source": [
    "_Coding challenge from: https://edabit.com/challenge/3A3mHS5B3NNZddQL2_:"
   ]
  },
  {
   "cell_type": "code",
   "execution_count": 0,
   "metadata": {
    "application/vnd.databricks.v1+cell": {
     "cellMetadata": {
      "byteLimit": 2048000,
      "rowLimit": 10000
     },
     "inputWidgets": {},
     "nuid": "e0e697fe-2c3b-4073-8088-04b969ce5e21",
     "showTitle": false,
     "tableResultSettingsMap": {},
     "title": ""
    }
   },
   "outputs": [],
   "source": [
    "coding_template = \"\"\"Write a code in Python to solve the following task:\n",
    "\n",
    "{task}\n",
    "\n",
    "Starter:\n",
    "\n",
    "{starter}\n",
    "\n",
    "\"\"\"\n",
    "\n",
    "coding_test = \"\"\"Create a function:\n",
    "    \n",
    "to check if a candidate is qualified in an imaginary coding interview of an imaginary tech startup.\n",
    "\n",
    "The criteria for a candidate to be qualified in the coding interview is:\n",
    "The candidate should have complete all the questions.\n",
    "The maximum time given to complete the interview is 120 minutes.\n",
    "The maximum time given for very easy questions is 5 minutes each.\n",
    "The maximum time given for easy questions is 10 minutes each.\n",
    "The maximum time given for medium questions is 15 minutes each.\n",
    "The maximum time given for hard questions is 20 minutes each.\n",
    "If all the above conditions are satisfied, return \"qualified\", else return \"disqualified\".\n",
    "\n",
    "You will be given a list of time taken by a candidate to solve a particular question and the total time taken by the candidate to complete the interview.\n",
    "\n",
    "Given a list , in a true condition will always be in the format [very easy, very easy, easy, easy, medium, medium, hard, hard].\n",
    "\n",
    "The maximum time to complete the interview includes a buffer time of 20 minutes.\"\"\"\n",
    "\n",
    "starter = \"\"\"def interview(lst, tot):\"\"\"\n",
    "\n",
    "prompt = coding_template.format(task=coding_template, starter=starter)\n",
    "\n",
    "inputs = tokenizer_14(prompt, return_tensors=\"pt\")\n",
    "device = next(model_14.parameters()).device\n",
    "inputs = {k: v.to(device) for k, v in inputs.items()}\n",
    "\n",
    "outputs = model_14.generate(**inputs, max_new_tokens=400)\n",
    "    \n",
    "print(tokenizer_14.decode(outputs[0], skip_special_tokens=True))"
   ]
  },
  {
   "cell_type": "markdown",
   "metadata": {
    "application/vnd.databricks.v1+cell": {
     "cellMetadata": {
      "byteLimit": 2048000,
      "rowLimit": 10000
     },
     "inputWidgets": {},
     "nuid": "cb6cf8b5-f48d-4eb0-9854-14f0c918e7bc",
     "showTitle": false,
     "tableResultSettingsMap": {},
     "title": ""
    }
   },
   "source": [
    "The minimum cluster configuration needed to run the model is **g5.12xlarge[A10G]** - 192 GB memory, 4 GPUs."
   ]
  }
 ],
 "metadata": {
  "application/vnd.databricks.v1+notebook": {
   "dashboards": [],
   "environmentMetadata": null,
   "language": "python",
   "notebookMetadata": {
    "pythonIndentUnit": 4
   },
   "notebookName": "Qwen_2.5_14B",
   "widgets": {}
  },
  "language_info": {
   "name": "python"
  }
 },
 "nbformat": 4,
 "nbformat_minor": 0
}
