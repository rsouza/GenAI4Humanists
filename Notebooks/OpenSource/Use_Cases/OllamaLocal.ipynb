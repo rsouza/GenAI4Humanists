{
 "cells": [
  {
   "cell_type": "markdown",
   "id": "417f9f2b-97eb-459c-b997-8c4d32821a8b",
   "metadata": {},
   "source": [
    "# Using Local Ollama Models\n",
    "\n",
    "### With the [Ollama Python](https://github.com/ollama/ollama-python) library"
   ]
  },
  {
   "cell_type": "code",
   "execution_count": 1,
   "id": "a7f31085-12bb-4a26-88a5-a4c77a29dccd",
   "metadata": {},
   "outputs": [
    {
     "name": "stdout",
     "output_type": "stream",
     "text": [
      "Note: you may need to restart the kernel to use updated packages.\n",
      "Note: you may need to restart the kernel to use updated packages.\n",
      "Note: you may need to restart the kernel to use updated packages.\n"
     ]
    }
   ],
   "source": [
    "%pip install -qU ollama\n",
    "%pip install -qU pillow\n",
    "%pip install -qU pandas"
   ]
  },
  {
   "cell_type": "code",
   "execution_count": 2,
   "id": "3e663202-6c6b-47e2-9d6d-e575edefd183",
   "metadata": {},
   "outputs": [],
   "source": [
    "import ollama\n",
    "import json\n",
    "import sys\n",
    "import io\n",
    "from dataclasses import asdict\n",
    "from pprint import pprint\n",
    "from PIL import Image as PIL_Image\n",
    "from IPython.display import display, JSON\n",
    "import pandas as pd"
   ]
  },
  {
   "cell_type": "code",
   "execution_count": 3,
   "id": "461fdf9f-3681-46ad-af6a-fec5d147eb7d",
   "metadata": {},
   "outputs": [
    {
     "data": {
      "text/plain": [
       "ProgressResponse(status='success', completed=None, total=None, digest=None)"
      ]
     },
     "execution_count": 3,
     "metadata": {},
     "output_type": "execute_result"
    }
   ],
   "source": [
    "ollama.pull('llama3.2:1b')"
   ]
  },
  {
   "cell_type": "code",
   "execution_count": 4,
   "id": "62e28237-df29-473d-a702-bd97169ea97c",
   "metadata": {},
   "outputs": [
    {
     "name": "stderr",
     "output_type": "stream",
     "text": [
      "/tmp/ipykernel_20052/3897950745.py:1: PydanticDeprecatedSince20: The `json` method is deprecated; use `model_dump_json` instead. Deprecated in Pydantic V2.0 to be removed in V3.0. See Pydantic V2 Migration Guide at https://errors.pydantic.dev/2.11/migration/\n",
      "  data = ollama.list().json()\n"
     ]
    },
    {
     "data": {
      "text/html": [
       "<div>\n",
       "<style scoped>\n",
       "    .dataframe tbody tr th:only-of-type {\n",
       "        vertical-align: middle;\n",
       "    }\n",
       "\n",
       "    .dataframe tbody tr th {\n",
       "        vertical-align: top;\n",
       "    }\n",
       "\n",
       "    .dataframe thead th {\n",
       "        text-align: right;\n",
       "    }\n",
       "</style>\n",
       "<table border=\"1\" class=\"dataframe\">\n",
       "  <thead>\n",
       "    <tr style=\"text-align: right;\">\n",
       "      <th></th>\n",
       "      <th>model</th>\n",
       "      <th>modified_at</th>\n",
       "      <th>digest</th>\n",
       "      <th>size</th>\n",
       "      <th>details.parent_model</th>\n",
       "      <th>details.format</th>\n",
       "      <th>details.family</th>\n",
       "      <th>details.families</th>\n",
       "      <th>details.parameter_size</th>\n",
       "      <th>details.quantization_level</th>\n",
       "    </tr>\n",
       "  </thead>\n",
       "  <tbody>\n",
       "    <tr>\n",
       "      <th>0</th>\n",
       "      <td>llama3.2:1b</td>\n",
       "      <td>2025-04-10T23:04:54.493204Z</td>\n",
       "      <td>baf6a787fdffd633537aa2eb51cfd54cb93ff08e280400...</td>\n",
       "      <td>1321098329</td>\n",
       "      <td></td>\n",
       "      <td>gguf</td>\n",
       "      <td>llama</td>\n",
       "      <td>[llama]</td>\n",
       "      <td>1.2B</td>\n",
       "      <td>Q8_0</td>\n",
       "    </tr>\n",
       "    <tr>\n",
       "      <th>1</th>\n",
       "      <td>gemma2:2b</td>\n",
       "      <td>2024-11-18T19:35:05.245799Z</td>\n",
       "      <td>8ccf136fdd5298f3ffe2d69862750ea7fb56555fa4d5b1...</td>\n",
       "      <td>1629518495</td>\n",
       "      <td></td>\n",
       "      <td>gguf</td>\n",
       "      <td>gemma2</td>\n",
       "      <td>[gemma2]</td>\n",
       "      <td>2.6B</td>\n",
       "      <td>Q4_0</td>\n",
       "    </tr>\n",
       "    <tr>\n",
       "      <th>2</th>\n",
       "      <td>qwen2.5:7b</td>\n",
       "      <td>2024-11-15T23:15:23.050186Z</td>\n",
       "      <td>845dbda0ea48ed749caafd9e6037047aa19acfcfd82e70...</td>\n",
       "      <td>4683087332</td>\n",
       "      <td></td>\n",
       "      <td>gguf</td>\n",
       "      <td>qwen2</td>\n",
       "      <td>[qwen2]</td>\n",
       "      <td>7.6B</td>\n",
       "      <td>Q4_K_M</td>\n",
       "    </tr>\n",
       "    <tr>\n",
       "      <th>3</th>\n",
       "      <td>llama3.2-vision:latest</td>\n",
       "      <td>2024-11-15T22:20:55.857948Z</td>\n",
       "      <td>38107a0cd11910a31c300fcfd1e9a107b2928e56ebabd1...</td>\n",
       "      <td>7901829417</td>\n",
       "      <td></td>\n",
       "      <td>gguf</td>\n",
       "      <td>mllama</td>\n",
       "      <td>[mllama, mllama]</td>\n",
       "      <td>9.8B</td>\n",
       "      <td>Q4_K_M</td>\n",
       "    </tr>\n",
       "  </tbody>\n",
       "</table>\n",
       "</div>"
      ],
      "text/plain": [
       "                    model                  modified_at  \\\n",
       "0             llama3.2:1b  2025-04-10T23:04:54.493204Z   \n",
       "1               gemma2:2b  2024-11-18T19:35:05.245799Z   \n",
       "2              qwen2.5:7b  2024-11-15T23:15:23.050186Z   \n",
       "3  llama3.2-vision:latest  2024-11-15T22:20:55.857948Z   \n",
       "\n",
       "                                              digest        size  \\\n",
       "0  baf6a787fdffd633537aa2eb51cfd54cb93ff08e280400...  1321098329   \n",
       "1  8ccf136fdd5298f3ffe2d69862750ea7fb56555fa4d5b1...  1629518495   \n",
       "2  845dbda0ea48ed749caafd9e6037047aa19acfcfd82e70...  4683087332   \n",
       "3  38107a0cd11910a31c300fcfd1e9a107b2928e56ebabd1...  7901829417   \n",
       "\n",
       "  details.parent_model details.format details.family  details.families  \\\n",
       "0                                gguf          llama           [llama]   \n",
       "1                                gguf         gemma2          [gemma2]   \n",
       "2                                gguf          qwen2           [qwen2]   \n",
       "3                                gguf         mllama  [mllama, mllama]   \n",
       "\n",
       "  details.parameter_size details.quantization_level  \n",
       "0                   1.2B                       Q8_0  \n",
       "1                   2.6B                       Q4_0  \n",
       "2                   7.6B                     Q4_K_M  \n",
       "3                   9.8B                     Q4_K_M  "
      ]
     },
     "execution_count": 4,
     "metadata": {},
     "output_type": "execute_result"
    }
   ],
   "source": [
    "data = ollama.list().json()\n",
    "data_dict = json.loads(data)\n",
    "df = pd.json_normalize(data_dict['models'])\n",
    "df.head()"
   ]
  },
  {
   "cell_type": "code",
   "execution_count": 5,
   "id": "5e1802af-1ca2-483e-849b-ba3a0413267a",
   "metadata": {},
   "outputs": [
    {
     "data": {
      "text/plain": [
       "ShowResponse(modified_at=datetime.datetime(2025, 4, 10, 23, 4, 54, 493204, tzinfo=TzInfo(UTC)), template='<|start_header_id|>system<|end_header_id|>\\n\\nCutting Knowledge Date: December 2023\\n\\n{{ if .System }}{{ .System }}\\n{{- end }}\\n{{- if .Tools }}When you receive a tool call response, use the output to format an answer to the orginal user question.\\n\\nYou are a helpful assistant with tool calling capabilities.\\n{{- end }}<|eot_id|>\\n{{- range $i, $_ := .Messages }}\\n{{- $last := eq (len (slice $.Messages $i)) 1 }}\\n{{- if eq .Role \"user\" }}<|start_header_id|>user<|end_header_id|>\\n{{- if and $.Tools $last }}\\n\\nGiven the following functions, please respond with a JSON for a function call with its proper arguments that best answers the given prompt.\\n\\nRespond in the format {\"name\": function name, \"parameters\": dictionary of argument name and its value}. Do not use variables.\\n\\n{{ range $.Tools }}\\n{{- . }}\\n{{ end }}\\n{{ .Content }}<|eot_id|>\\n{{- else }}\\n\\n{{ .Content }}<|eot_id|>\\n{{- end }}{{ if $last }}<|start_header_id|>assistant<|end_header_id|>\\n\\n{{ end }}\\n{{- else if eq .Role \"assistant\" }}<|start_header_id|>assistant<|end_header_id|>\\n{{- if .ToolCalls }}\\n{{ range .ToolCalls }}\\n{\"name\": \"{{ .Function.Name }}\", \"parameters\": {{ .Function.Arguments }}}{{ end }}\\n{{- else }}\\n\\n{{ .Content }}\\n{{- end }}{{ if not $last }}<|eot_id|>{{ end }}\\n{{- else if eq .Role \"tool\" }}<|start_header_id|>ipython<|end_header_id|>\\n\\n{{ .Content }}<|eot_id|>{{ if $last }}<|start_header_id|>assistant<|end_header_id|>\\n\\n{{ end }}\\n{{- end }}\\n{{- end }}', modelfile='# Modelfile generated by \"ollama show\"\\n# To build a new Modelfile based on this, replace FROM with:\\n# FROM llama3.2:1b\\n\\nFROM /root/.ollama/models/blobs/sha256-74701a8c35f6c8d9a4b91f3f3497643001d63e0c7a84e085bed452548fa88d45\\nTEMPLATE \"\"\"<|start_header_id|>system<|end_header_id|>\\n\\nCutting Knowledge Date: December 2023\\n\\n{{ if .System }}{{ .System }}\\n{{- end }}\\n{{- if .Tools }}When you receive a tool call response, use the output to format an answer to the orginal user question.\\n\\nYou are a helpful assistant with tool calling capabilities.\\n{{- end }}<|eot_id|>\\n{{- range $i, $_ := .Messages }}\\n{{- $last := eq (len (slice $.Messages $i)) 1 }}\\n{{- if eq .Role \"user\" }}<|start_header_id|>user<|end_header_id|>\\n{{- if and $.Tools $last }}\\n\\nGiven the following functions, please respond with a JSON for a function call with its proper arguments that best answers the given prompt.\\n\\nRespond in the format {\"name\": function name, \"parameters\": dictionary of argument name and its value}. Do not use variables.\\n\\n{{ range $.Tools }}\\n{{- . }}\\n{{ end }}\\n{{ .Content }}<|eot_id|>\\n{{- else }}\\n\\n{{ .Content }}<|eot_id|>\\n{{- end }}{{ if $last }}<|start_header_id|>assistant<|end_header_id|>\\n\\n{{ end }}\\n{{- else if eq .Role \"assistant\" }}<|start_header_id|>assistant<|end_header_id|>\\n{{- if .ToolCalls }}\\n{{ range .ToolCalls }}\\n{\"name\": \"{{ .Function.Name }}\", \"parameters\": {{ .Function.Arguments }}}{{ end }}\\n{{- else }}\\n\\n{{ .Content }}\\n{{- end }}{{ if not $last }}<|eot_id|>{{ end }}\\n{{- else if eq .Role \"tool\" }}<|start_header_id|>ipython<|end_header_id|>\\n\\n{{ .Content }}<|eot_id|>{{ if $last }}<|start_header_id|>assistant<|end_header_id|>\\n\\n{{ end }}\\n{{- end }}\\n{{- end }}\"\"\"\\nLICENSE \"LLAMA 3.2 COMMUNITY LICENSE AGREEMENT\\nLlama 3.2 Version Release Date: September 25, 2024\\n\\n“Agreement” means the terms and conditions for use, reproduction, distribution \\nand modification of the Llama Materials set forth herein.\\n\\n“Documentation” means the specifications, manuals and documentation accompanying Llama 3.2\\ndistributed by Meta at https://llama.meta.com/doc/overview.\\n\\n“Licensee” or “you” means you, or your employer or any other person or entity (if you are \\nentering into this Agreement on such person or entity’s behalf), of the age required under\\napplicable laws, rules or regulations to provide legal consent and that has legal authority\\nto bind your employer or such other person or entity if you are entering in this Agreement\\non their behalf.\\n\\n“Llama 3.2” means the foundational large language models and software and algorithms, including\\nmachine-learning model code, trained model weights, inference-enabling code, training-enabling code,\\nfine-tuning enabling code and other elements of the foregoing distributed by Meta at \\nhttps://www.llama.com/llama-downloads.\\n\\n“Llama Materials” means, collectively, Meta’s proprietary Llama 3.2 and Documentation (and \\nany portion thereof) made available under this Agreement.\\n\\n“Meta” or “we” means Meta Platforms Ireland Limited (if you are located in or, \\nif you are an entity, your principal place of business is in the EEA or Switzerland) \\nand Meta Platforms, Inc. (if you are located outside of the EEA or Switzerland). \\n\\n\\nBy clicking “I Accept” below or by using or distributing any portion or element of the Llama Materials,\\nyou agree to be bound by this Agreement.\\n\\n\\n1. License Rights and Redistribution.\\n\\n    a. Grant of Rights. You are granted a non-exclusive, worldwide, \\nnon-transferable and royalty-free limited license under Meta’s intellectual property or other rights \\nowned by Meta embodied in the Llama Materials to use, reproduce, distribute, copy, create derivative works \\nof, and make modifications to the Llama Materials.  \\n\\n    b. Redistribution and Use.  \\n\\n        i. If you distribute or make available the Llama Materials (or any derivative works thereof), \\nor a product or service (including another AI model) that contains any of them, you shall (A) provide\\na copy of this Agreement with any such Llama Materials; and (B) prominently display “Built with Llama”\\non a related website, user interface, blogpost, about page, or product documentation. If you use the\\nLlama Materials or any outputs or results of the Llama Materials to create, train, fine tune, or\\notherwise improve an AI model, which is distributed or made available, you shall also include “Llama”\\nat the beginning of any such AI model name.\\n\\n        ii. If you receive Llama Materials, or any derivative works thereof, from a Licensee as part\\nof an integrated end user product, then Section 2 of this Agreement will not apply to you. \\n\\n        iii. You must retain in all copies of the Llama Materials that you distribute the \\nfollowing attribution notice within a “Notice” text file distributed as a part of such copies: \\n“Llama 3.2 is licensed under the Llama 3.2 Community License, Copyright © Meta Platforms,\\nInc. All Rights Reserved.”\\n\\n        iv. Your use of the Llama Materials must comply with applicable laws and regulations\\n(including trade compliance laws and regulations) and adhere to the Acceptable Use Policy for\\nthe Llama Materials (available at https://www.llama.com/llama3_2/use-policy), which is hereby \\nincorporated by reference into this Agreement.\\n  \\n2. Additional Commercial Terms. If, on the Llama 3.2 version release date, the monthly active users\\nof the products or services made available by or for Licensee, or Licensee’s affiliates, \\nis greater than 700 million monthly active users in the preceding calendar month, you must request \\na license from Meta, which Meta may grant to you in its sole discretion, and you are not authorized to\\nexercise any of the rights under this Agreement unless or until Meta otherwise expressly grants you such rights.\\n\\n3. Disclaimer of Warranty. UNLESS REQUIRED BY APPLICABLE LAW, THE LLAMA MATERIALS AND ANY OUTPUT AND \\nRESULTS THEREFROM ARE PROVIDED ON AN “AS IS” BASIS, WITHOUT WARRANTIES OF ANY KIND, AND META DISCLAIMS\\nALL WARRANTIES OF ANY KIND, BOTH EXPRESS AND IMPLIED, INCLUDING, WITHOUT LIMITATION, ANY WARRANTIES\\nOF TITLE, NON-INFRINGEMENT, MERCHANTABILITY, OR FITNESS FOR A PARTICULAR PURPOSE. YOU ARE SOLELY RESPONSIBLE\\nFOR DETERMINING THE APPROPRIATENESS OF USING OR REDISTRIBUTING THE LLAMA MATERIALS AND ASSUME ANY RISKS ASSOCIATED\\nWITH YOUR USE OF THE LLAMA MATERIALS AND ANY OUTPUT AND RESULTS.\\n\\n4. Limitation of Liability. IN NO EVENT WILL META OR ITS AFFILIATES BE LIABLE UNDER ANY THEORY OF LIABILITY, \\nWHETHER IN CONTRACT, TORT, NEGLIGENCE, PRODUCTS LIABILITY, OR OTHERWISE, ARISING OUT OF THIS AGREEMENT, \\nFOR ANY LOST PROFITS OR ANY INDIRECT, SPECIAL, CONSEQUENTIAL, INCIDENTAL, EXEMPLARY OR PUNITIVE DAMAGES, EVEN \\nIF META OR ITS AFFILIATES HAVE BEEN ADVISED OF THE POSSIBILITY OF ANY OF THE FOREGOING.\\n\\n5. Intellectual Property.\\n\\n    a. No trademark licenses are granted under this Agreement, and in connection with the Llama Materials, \\nneither Meta nor Licensee may use any name or mark owned by or associated with the other or any of its affiliates, \\nexcept as required for reasonable and customary use in describing and redistributing the Llama Materials or as \\nset forth in this Section 5(a). Meta hereby grants you a license to use “Llama” (the “Mark”) solely as required \\nto comply with the last sentence of Section 1.b.i. You will comply with Meta’s brand guidelines (currently accessible \\nat https://about.meta.com/brand/resources/meta/company-brand/). All goodwill arising out of your use of the Mark \\nwill inure to the benefit of Meta.\\n\\n    b. Subject to Meta’s ownership of Llama Materials and derivatives made by or for Meta, with respect to any\\n    derivative works and modifications of the Llama Materials that are made by you, as between you and Meta,\\n    you are and will be the owner of such derivative works and modifications.\\n\\n    c. If you institute litigation or other proceedings against Meta or any entity (including a cross-claim or\\n    counterclaim in a lawsuit) alleging that the Llama Materials or Llama 3.2 outputs or results, or any portion\\n    of any of the foregoing, constitutes infringement of intellectual property or other rights owned or licensable\\n    by you, then any licenses granted to you under this Agreement shall terminate as of the date such litigation or\\n    claim is filed or instituted. You will indemnify and hold harmless Meta from and against any claim by any third\\n    party arising out of or related to your use or distribution of the Llama Materials.\\n\\n6. Term and Termination. The term of this Agreement will commence upon your acceptance of this Agreement or access\\nto the Llama Materials and will continue in full force and effect until terminated in accordance with the terms\\nand conditions herein. Meta may terminate this Agreement if you are in breach of any term or condition of this\\nAgreement. Upon termination of this Agreement, you shall delete and cease use of the Llama Materials. Sections 3,\\n4 and 7 shall survive the termination of this Agreement. \\n\\n7. Governing Law and Jurisdiction. This Agreement will be governed and construed under the laws of the State of \\nCalifornia without regard to choice of law principles, and the UN Convention on Contracts for the International\\nSale of Goods does not apply to this Agreement. The courts of California shall have exclusive jurisdiction of\\nany dispute arising out of this Agreement.\"\\nLICENSE \"**Llama 3.2** **Acceptable Use Policy**\\n\\nMeta is committed to promoting safe and fair use of its tools and features, including Llama 3.2. If you access or use Llama 3.2, you agree to this Acceptable Use Policy (“**Policy**”). The most recent copy of this policy can be found at [https://www.llama.com/llama3_2/use-policy](https://www.llama.com/llama3_2/use-policy).\\n\\n**Prohibited Uses**\\n\\nWe want everyone to use Llama 3.2 safely and responsibly. You agree you will not use, or allow others to use, Llama 3.2 to:\\n\\n\\n\\n1. Violate the law or others’ rights, including to:\\n    1. Engage in, promote, generate, contribute to, encourage, plan, incite, or further illegal or unlawful activity or content, such as:\\n        1. Violence or terrorism\\n        2. Exploitation or harm to children, including the solicitation, creation, acquisition, or dissemination of child exploitative content or failure to report Child Sexual Abuse Material\\n        3. Human trafficking, exploitation, and sexual violence\\n        4. The illegal distribution of information or materials to minors, including obscene materials, or failure to employ legally required age-gating in connection with such information or materials.\\n        5. Sexual solicitation\\n        6. Any other criminal activity\\n    1. Engage in, promote, incite, or facilitate the harassment, abuse, threatening, or bullying of individuals or groups of individuals\\n    2. Engage in, promote, incite, or facilitate discrimination or other unlawful or harmful conduct in the provision of employment, employment benefits, credit, housing, other economic benefits, or other essential goods and services\\n    3. Engage in the unauthorized or unlicensed practice of any profession including, but not limited to, financial, legal, medical/health, or related professional practices\\n    4. Collect, process, disclose, generate, or infer private or sensitive information about individuals, including information about individuals’ identity, health, or demographic information, unless you have obtained the right to do so in accordance with applicable law\\n    5. Engage in or facilitate any action or generate any content that infringes, misappropriates, or otherwise violates any third-party rights, including the outputs or results of any products or services using the Llama Materials\\n    6. Create, generate, or facilitate the creation of malicious code, malware, computer viruses or do anything else that could disable, overburden, interfere with or impair the proper working, integrity, operation or appearance of a website or computer system\\n    7. Engage in any action, or facilitate any action, to intentionally circumvent or remove usage restrictions or other safety measures, or to enable functionality disabled by Meta\\n2. Engage in, promote, incite, facilitate, or assist in the planning or development of activities that present a risk of death or bodily harm to individuals, including use of Llama 3.2 related to the following:\\n    8. Military, warfare, nuclear industries or applications, espionage, use for materials or activities that are subject to the International Traffic Arms Regulations (ITAR) maintained by the United States Department of State or to the U.S. Biological Weapons Anti-Terrorism Act of 1989 or the Chemical Weapons Convention Implementation Act of 1997\\n    9. Guns and illegal weapons (including weapon development)\\n    10. Illegal drugs and regulated/controlled substances\\n    11. Operation of critical infrastructure, transportation technologies, or heavy machinery\\n    12. Self-harm or harm to others, including suicide, cutting, and eating disorders\\n    13. Any content intended to incite or promote violence, abuse, or any infliction of bodily harm to an individual\\n3. Intentionally deceive or mislead others, including use of Llama 3.2 related to the following:\\n    14. Generating, promoting, or furthering fraud or the creation or promotion of disinformation\\n    15. Generating, promoting, or furthering defamatory content, including the creation of defamatory statements, images, or other content\\n    16. Generating, promoting, or further distributing spam\\n    17. Impersonating another individual without consent, authorization, or legal right\\n    18. Representing that the use of Llama 3.2 or outputs are human-generated\\n    19. Generating or facilitating false online engagement, including fake reviews and other means of fake online engagement\\n4. Fail to appropriately disclose to end users any known dangers of your AI system\\n5. Interact with third party tools, models, or software designed to generate unlawful content or engage in unlawful or harmful conduct and/or represent that the outputs of such tools, models, or software are associated with Meta or Llama 3.2\\n\\nWith respect to any multimodal models included in Llama 3.2, the rights granted under Section 1(a) of the Llama 3.2 Community License Agreement are not being granted to you if you are an individual domiciled in, or a company with a principal place of business in, the European Union. This restriction does not apply to end users of a product or service that incorporates any such multimodal models.\\n\\nPlease report any violation of this Policy, software “bug,” or other problems that could lead to a violation of this Policy through one of the following means:\\n\\n\\n\\n* Reporting issues with the model: [https://github.com/meta-llama/llama-models/issues](https://l.workplace.com/l.php?u=https%3A%2F%2Fgithub.com%2Fmeta-llama%2Fllama-models%2Fissues&h=AT0qV8W9BFT6NwihiOHRuKYQM_UnkzN_NmHMy91OT55gkLpgi4kQupHUl0ssR4dQsIQ8n3tfd0vtkobvsEvt1l4Ic6GXI2EeuHV8N08OG2WnbAmm0FL4ObkazC6G_256vN0lN9DsykCvCqGZ)\\n* Reporting risky content generated by the model: [developers.facebook.com/llama_output_feedback](http://developers.facebook.com/llama_output_feedback)\\n* Reporting bugs and security concerns: [facebook.com/whitehat/info](http://facebook.com/whitehat/info)\\n* Reporting violations of the Acceptable Use Policy or unlicensed uses of Llama 3.2: LlamaUseReport@meta.com\"\\n', license='LLAMA 3.2 COMMUNITY LICENSE AGREEMENT\\nLlama 3.2 Version Release Date: September 25, 2024\\n\\n“Agreement” means the terms and conditions for use, reproduction, distribution \\nand modification of the Llama Materials set forth herein.\\n\\n“Documentation” means the specifications, manuals and documentation accompanying Llama 3.2\\ndistributed by Meta at https://llama.meta.com/doc/overview.\\n\\n“Licensee” or “you” means you, or your employer or any other person or entity (if you are \\nentering into this Agreement on such person or entity’s behalf), of the age required under\\napplicable laws, rules or regulations to provide legal consent and that has legal authority\\nto bind your employer or such other person or entity if you are entering in this Agreement\\non their behalf.\\n\\n“Llama 3.2” means the foundational large language models and software and algorithms, including\\nmachine-learning model code, trained model weights, inference-enabling code, training-enabling code,\\nfine-tuning enabling code and other elements of the foregoing distributed by Meta at \\nhttps://www.llama.com/llama-downloads.\\n\\n“Llama Materials” means, collectively, Meta’s proprietary Llama 3.2 and Documentation (and \\nany portion thereof) made available under this Agreement.\\n\\n“Meta” or “we” means Meta Platforms Ireland Limited (if you are located in or, \\nif you are an entity, your principal place of business is in the EEA or Switzerland) \\nand Meta Platforms, Inc. (if you are located outside of the EEA or Switzerland). \\n\\n\\nBy clicking “I Accept” below or by using or distributing any portion or element of the Llama Materials,\\nyou agree to be bound by this Agreement.\\n\\n\\n1. License Rights and Redistribution.\\n\\n    a. Grant of Rights. You are granted a non-exclusive, worldwide, \\nnon-transferable and royalty-free limited license under Meta’s intellectual property or other rights \\nowned by Meta embodied in the Llama Materials to use, reproduce, distribute, copy, create derivative works \\nof, and make modifications to the Llama Materials.  \\n\\n    b. Redistribution and Use.  \\n\\n        i. If you distribute or make available the Llama Materials (or any derivative works thereof), \\nor a product or service (including another AI model) that contains any of them, you shall (A) provide\\na copy of this Agreement with any such Llama Materials; and (B) prominently display “Built with Llama”\\non a related website, user interface, blogpost, about page, or product documentation. If you use the\\nLlama Materials or any outputs or results of the Llama Materials to create, train, fine tune, or\\notherwise improve an AI model, which is distributed or made available, you shall also include “Llama”\\nat the beginning of any such AI model name.\\n\\n        ii. If you receive Llama Materials, or any derivative works thereof, from a Licensee as part\\nof an integrated end user product, then Section 2 of this Agreement will not apply to you. \\n\\n        iii. You must retain in all copies of the Llama Materials that you distribute the \\nfollowing attribution notice within a “Notice” text file distributed as a part of such copies: \\n“Llama 3.2 is licensed under the Llama 3.2 Community License, Copyright © Meta Platforms,\\nInc. All Rights Reserved.”\\n\\n        iv. Your use of the Llama Materials must comply with applicable laws and regulations\\n(including trade compliance laws and regulations) and adhere to the Acceptable Use Policy for\\nthe Llama Materials (available at https://www.llama.com/llama3_2/use-policy), which is hereby \\nincorporated by reference into this Agreement.\\n  \\n2. Additional Commercial Terms. If, on the Llama 3.2 version release date, the monthly active users\\nof the products or services made available by or for Licensee, or Licensee’s affiliates, \\nis greater than 700 million monthly active users in the preceding calendar month, you must request \\na license from Meta, which Meta may grant to you in its sole discretion, and you are not authorized to\\nexercise any of the rights under this Agreement unless or until Meta otherwise expressly grants you such rights.\\n\\n3. Disclaimer of Warranty. UNLESS REQUIRED BY APPLICABLE LAW, THE LLAMA MATERIALS AND ANY OUTPUT AND \\nRESULTS THEREFROM ARE PROVIDED ON AN “AS IS” BASIS, WITHOUT WARRANTIES OF ANY KIND, AND META DISCLAIMS\\nALL WARRANTIES OF ANY KIND, BOTH EXPRESS AND IMPLIED, INCLUDING, WITHOUT LIMITATION, ANY WARRANTIES\\nOF TITLE, NON-INFRINGEMENT, MERCHANTABILITY, OR FITNESS FOR A PARTICULAR PURPOSE. YOU ARE SOLELY RESPONSIBLE\\nFOR DETERMINING THE APPROPRIATENESS OF USING OR REDISTRIBUTING THE LLAMA MATERIALS AND ASSUME ANY RISKS ASSOCIATED\\nWITH YOUR USE OF THE LLAMA MATERIALS AND ANY OUTPUT AND RESULTS.\\n\\n4. Limitation of Liability. IN NO EVENT WILL META OR ITS AFFILIATES BE LIABLE UNDER ANY THEORY OF LIABILITY, \\nWHETHER IN CONTRACT, TORT, NEGLIGENCE, PRODUCTS LIABILITY, OR OTHERWISE, ARISING OUT OF THIS AGREEMENT, \\nFOR ANY LOST PROFITS OR ANY INDIRECT, SPECIAL, CONSEQUENTIAL, INCIDENTAL, EXEMPLARY OR PUNITIVE DAMAGES, EVEN \\nIF META OR ITS AFFILIATES HAVE BEEN ADVISED OF THE POSSIBILITY OF ANY OF THE FOREGOING.\\n\\n5. Intellectual Property.\\n\\n    a. No trademark licenses are granted under this Agreement, and in connection with the Llama Materials, \\nneither Meta nor Licensee may use any name or mark owned by or associated with the other or any of its affiliates, \\nexcept as required for reasonable and customary use in describing and redistributing the Llama Materials or as \\nset forth in this Section 5(a). Meta hereby grants you a license to use “Llama” (the “Mark”) solely as required \\nto comply with the last sentence of Section 1.b.i. You will comply with Meta’s brand guidelines (currently accessible \\nat https://about.meta.com/brand/resources/meta/company-brand/). All goodwill arising out of your use of the Mark \\nwill inure to the benefit of Meta.\\n\\n    b. Subject to Meta’s ownership of Llama Materials and derivatives made by or for Meta, with respect to any\\n    derivative works and modifications of the Llama Materials that are made by you, as between you and Meta,\\n    you are and will be the owner of such derivative works and modifications.\\n\\n    c. If you institute litigation or other proceedings against Meta or any entity (including a cross-claim or\\n    counterclaim in a lawsuit) alleging that the Llama Materials or Llama 3.2 outputs or results, or any portion\\n    of any of the foregoing, constitutes infringement of intellectual property or other rights owned or licensable\\n    by you, then any licenses granted to you under this Agreement shall terminate as of the date such litigation or\\n    claim is filed or instituted. You will indemnify and hold harmless Meta from and against any claim by any third\\n    party arising out of or related to your use or distribution of the Llama Materials.\\n\\n6. Term and Termination. The term of this Agreement will commence upon your acceptance of this Agreement or access\\nto the Llama Materials and will continue in full force and effect until terminated in accordance with the terms\\nand conditions herein. Meta may terminate this Agreement if you are in breach of any term or condition of this\\nAgreement. Upon termination of this Agreement, you shall delete and cease use of the Llama Materials. Sections 3,\\n4 and 7 shall survive the termination of this Agreement. \\n\\n7. Governing Law and Jurisdiction. This Agreement will be governed and construed under the laws of the State of \\nCalifornia without regard to choice of law principles, and the UN Convention on Contracts for the International\\nSale of Goods does not apply to this Agreement. The courts of California shall have exclusive jurisdiction of\\nany dispute arising out of this Agreement.\\n**Llama 3.2** **Acceptable Use Policy**\\n\\nMeta is committed to promoting safe and fair use of its tools and features, including Llama 3.2. If you access or use Llama 3.2, you agree to this Acceptable Use Policy (“**Policy**”). The most recent copy of this policy can be found at [https://www.llama.com/llama3_2/use-policy](https://www.llama.com/llama3_2/use-policy).\\n\\n**Prohibited Uses**\\n\\nWe want everyone to use Llama 3.2 safely and responsibly. You agree you will not use, or allow others to use, Llama 3.2 to:\\n\\n\\n\\n1. Violate the law or others’ rights, including to:\\n    1. Engage in, promote, generate, contribute to, encourage, plan, incite, or further illegal or unlawful activity or content, such as:\\n        1. Violence or terrorism\\n        2. Exploitation or harm to children, including the solicitation, creation, acquisition, or dissemination of child exploitative content or failure to report Child Sexual Abuse Material\\n        3. Human trafficking, exploitation, and sexual violence\\n        4. The illegal distribution of information or materials to minors, including obscene materials, or failure to employ legally required age-gating in connection with such information or materials.\\n        5. Sexual solicitation\\n        6. Any other criminal activity\\n    1. Engage in, promote, incite, or facilitate the harassment, abuse, threatening, or bullying of individuals or groups of individuals\\n    2. Engage in, promote, incite, or facilitate discrimination or other unlawful or harmful conduct in the provision of employment, employment benefits, credit, housing, other economic benefits, or other essential goods and services\\n    3. Engage in the unauthorized or unlicensed practice of any profession including, but not limited to, financial, legal, medical/health, or related professional practices\\n    4. Collect, process, disclose, generate, or infer private or sensitive information about individuals, including information about individuals’ identity, health, or demographic information, unless you have obtained the right to do so in accordance with applicable law\\n    5. Engage in or facilitate any action or generate any content that infringes, misappropriates, or otherwise violates any third-party rights, including the outputs or results of any products or services using the Llama Materials\\n    6. Create, generate, or facilitate the creation of malicious code, malware, computer viruses or do anything else that could disable, overburden, interfere with or impair the proper working, integrity, operation or appearance of a website or computer system\\n    7. Engage in any action, or facilitate any action, to intentionally circumvent or remove usage restrictions or other safety measures, or to enable functionality disabled by Meta\\n2. Engage in, promote, incite, facilitate, or assist in the planning or development of activities that present a risk of death or bodily harm to individuals, including use of Llama 3.2 related to the following:\\n    8. Military, warfare, nuclear industries or applications, espionage, use for materials or activities that are subject to the International Traffic Arms Regulations (ITAR) maintained by the United States Department of State or to the U.S. Biological Weapons Anti-Terrorism Act of 1989 or the Chemical Weapons Convention Implementation Act of 1997\\n    9. Guns and illegal weapons (including weapon development)\\n    10. Illegal drugs and regulated/controlled substances\\n    11. Operation of critical infrastructure, transportation technologies, or heavy machinery\\n    12. Self-harm or harm to others, including suicide, cutting, and eating disorders\\n    13. Any content intended to incite or promote violence, abuse, or any infliction of bodily harm to an individual\\n3. Intentionally deceive or mislead others, including use of Llama 3.2 related to the following:\\n    14. Generating, promoting, or furthering fraud or the creation or promotion of disinformation\\n    15. Generating, promoting, or furthering defamatory content, including the creation of defamatory statements, images, or other content\\n    16. Generating, promoting, or further distributing spam\\n    17. Impersonating another individual without consent, authorization, or legal right\\n    18. Representing that the use of Llama 3.2 or outputs are human-generated\\n    19. Generating or facilitating false online engagement, including fake reviews and other means of fake online engagement\\n4. Fail to appropriately disclose to end users any known dangers of your AI system\\n5. Interact with third party tools, models, or software designed to generate unlawful content or engage in unlawful or harmful conduct and/or represent that the outputs of such tools, models, or software are associated with Meta or Llama 3.2\\n\\nWith respect to any multimodal models included in Llama 3.2, the rights granted under Section 1(a) of the Llama 3.2 Community License Agreement are not being granted to you if you are an individual domiciled in, or a company with a principal place of business in, the European Union. This restriction does not apply to end users of a product or service that incorporates any such multimodal models.\\n\\nPlease report any violation of this Policy, software “bug,” or other problems that could lead to a violation of this Policy through one of the following means:\\n\\n\\n\\n* Reporting issues with the model: [https://github.com/meta-llama/llama-models/issues](https://l.workplace.com/l.php?u=https%3A%2F%2Fgithub.com%2Fmeta-llama%2Fllama-models%2Fissues&h=AT0qV8W9BFT6NwihiOHRuKYQM_UnkzN_NmHMy91OT55gkLpgi4kQupHUl0ssR4dQsIQ8n3tfd0vtkobvsEvt1l4Ic6GXI2EeuHV8N08OG2WnbAmm0FL4ObkazC6G_256vN0lN9DsykCvCqGZ)\\n* Reporting risky content generated by the model: [developers.facebook.com/llama_output_feedback](http://developers.facebook.com/llama_output_feedback)\\n* Reporting bugs and security concerns: [facebook.com/whitehat/info](http://facebook.com/whitehat/info)\\n* Reporting violations of the Acceptable Use Policy or unlicensed uses of Llama 3.2: LlamaUseReport@meta.com', details=ModelDetails(parent_model='', format='gguf', family='llama', families=['llama'], parameter_size='1.2B', quantization_level='Q8_0'), modelinfo={'general.architecture': 'llama', 'general.basename': 'Llama-3.2', 'general.file_type': 7, 'general.finetune': 'Instruct', 'general.languages': ['en', 'de', 'fr', 'it', 'pt', 'hi', 'es', 'th'], 'general.parameter_count': 1235814432, 'general.quantization_version': 2, 'general.size_label': '1B', 'general.tags': ['facebook', 'meta', 'pytorch', 'llama', 'llama-3', 'text-generation'], 'general.type': 'model', 'llama.attention.head_count': 32, 'llama.attention.head_count_kv': 8, 'llama.attention.key_length': 64, 'llama.attention.layer_norm_rms_epsilon': 1e-05, 'llama.attention.value_length': 64, 'llama.block_count': 16, 'llama.context_length': 131072, 'llama.embedding_length': 2048, 'llama.feed_forward_length': 8192, 'llama.rope.dimension_count': 64, 'llama.rope.freq_base': 500000, 'llama.vocab_size': 128256, 'tokenizer.ggml.bos_token_id': 128000, 'tokenizer.ggml.eos_token_id': 128009, 'tokenizer.ggml.merges': None, 'tokenizer.ggml.model': 'gpt2', 'tokenizer.ggml.pre': 'llama-bpe', 'tokenizer.ggml.token_type': None, 'tokenizer.ggml.tokens': None}, parameters=None)"
      ]
     },
     "execution_count": 5,
     "metadata": {},
     "output_type": "execute_result"
    }
   ],
   "source": [
    "ollama.show('llama3.2:1b')"
   ]
  },
  {
   "cell_type": "code",
   "execution_count": 6,
   "id": "5369ec94-3275-415a-8dd9-822b3d64c2bf",
   "metadata": {},
   "outputs": [
    {
     "data": {
      "text/plain": [
       "ModelDetails(parent_model='', format='gguf', family='llama', families=['llama'], parameter_size='1.2B', quantization_level='Q8_0')"
      ]
     },
     "execution_count": 6,
     "metadata": {},
     "output_type": "execute_result"
    }
   ],
   "source": [
    "ollama.show('llama3.2:1b')['details']"
   ]
  },
  {
   "cell_type": "markdown",
   "id": "5dfd7c3d-06e4-4b9f-8de9-3e4b11e7527d",
   "metadata": {},
   "source": [
    "## Choosing Models\n",
    "\n",
    "[Llamma 3.1 models](https://ollama.com/library/llama3.1)  \n",
    "[Llamma 3.2 models](https://ollama.com/library/llama3.2)  \n",
    "[Llamma 3.3 models](https://ollama.com/library/llama3.3)  \n",
    "[Gemma 3 Models](https://ollama.com/library/gemma3)    \n",
    "[Qwen Models](https://ollama.com/library/qwen2.5)  \n",
    "[DeepSeek Models](https://ollama.com/library/deepseek-r1)  "
   ]
  },
  {
   "cell_type": "markdown",
   "id": "a59f11c4-7968-4dfa-9682-3cc9cda50248",
   "metadata": {},
   "source": [
    "### Chat"
   ]
  },
  {
   "cell_type": "code",
   "execution_count": 7,
   "id": "466804ec-7abc-4fda-a990-a3f316094c65",
   "metadata": {},
   "outputs": [
    {
     "name": "stdout",
     "output_type": "stream",
     "text": [
      "The sky appears blue because of a phenomenon called Rayleigh scattering. When sunlight enters the Earth's atmosphere, it encounters air molecules and other small particles. Sunlight is actually made up of different colors, each of which has a different wavelength. Blue light waves are shorter and scatter more easily when they hit these particles compared to red or orange light, which have longer wavelengths.\n",
      "\n",
      "As the sun rises in the east and sets in the west, the light travels through a much thicker layer of the Earth's atmosphere than it does during midday. This causes even more blue light to be scattered out of our line of sight, leaving behind mostly red and orange hues that we see during sunrise and sunset.\n",
      "\n",
      "So, when you look up at the sky on a clear day, you're seeing all this scattered blue light, which is why the sky appears blue!\n"
     ]
    }
   ],
   "source": [
    "model = 'qwen2.5:7b'\n",
    "\n",
    "response = ollama.chat(model=model, \n",
    "                       messages=[\n",
    "  {\n",
    "    'role': 'user', 'content': 'Why is the sky blue?',\n",
    "  },\n",
    "])\n",
    "print(response['message']['content'])"
   ]
  },
  {
   "cell_type": "code",
   "execution_count": 12,
   "id": "99fd0a62-5709-4a31-af08-7d48e67b5bf8",
   "metadata": {},
   "outputs": [
    {
     "data": {
      "text/plain": [
       "EmbedResponse(model='llama3.2:1b', created_at=None, done=None, done_reason=None, total_duration=284284455, load_duration=36730943, prompt_eval_count=9, prompt_eval_duration=None, eval_count=None, eval_duration=None, embeddings=[[-0.017315725, 0.027169358, 0.014532774, 0.0020883721, 0.017243436, 0.004025449, 0.016137738, 0.0289905, -0.017287366, -0.014449311, -0.0034955174, 0.0019534277, -0.037489064, 0.020004947, -0.016757492, -0.00315398, -0.022323119, 0.015298974, 0.037923604, 0.012655875, -0.0021396456, 0.013829648, -0.028408384, 0.010183324, -0.009278026, -0.0055244956, -0.043584567, 0.015350513, -0.004542461, 0.011415577, -0.013120931, 0.018406525, -0.01211976, -0.0008940557, 0.011708177, -0.02619315, 0.0042929533, 0.0059720953, 0.01713208, -0.004561473, -0.0062080813, -0.017060254, 0.01084095, 0.022440368, 0.0050616553, 0.013410655, 0.01743288, -0.0049900254, 0.002920505, 0.055061314, -0.033697158, 0.02518843, 0.090167195, -0.0008328766, -0.011374726, -0.0008623407, -0.023048038, -0.031423967, -0.01562752, 0.025757939, -0.005516271, 0.049275465, -0.01905187, 0.006677495, 0.021825572, -0.026754469, -0.0124240285, 0.018238269, 0.049951084, 0.024276122, -0.0076539433, -0.005902676, -0.059023287, -0.0025189198, -0.026250748, -0.0064113485, 0.0149829155, -0.013938216, 0.015469437, -0.03225193, -0.034474928, -0.027939333, -0.0053901295, 0.007318577, 0.011387512, 0.013065637, 0.02913872, -0.014058244, -0.0011562319, 0.0017024159, -0.005563629, 0.02969292, 0.037141744, 0.007025843, -0.012809274, -0.019495526, -0.005979802, -0.009086636, 0.022391418, 0.0052848407, -0.033004634, 0.014719766, -0.005255137, 0.020418487, 0.029040957, 0.00669812, -0.015158262, 0.023167552, -0.016994903, -0.04226502, 0.04059116, 0.006646856, -0.028512277, -0.0023115706, -0.00096632773, 0.03331152, -0.0033590419, -0.04664656, -0.02985494, 0.050113015, -0.017258028, 0.007762366, -0.001730331, 0.0074588535, 0.012386521, 0.016887594, -0.029414529, -0.024110267, -0.004702352, 0.007700856, 0.00972884, 0.00708736, -0.01495736, 0.032037947, -0.0012253101, 0.012357083, 0.008128974, 0.018500565, -0.014752892, 0.016214535, 0.012183505, -0.0042810095, 0.020071134, 0.0076158564, -0.013245414, -0.009750717, 0.009649543, -0.034453172, 0.034389954, 0.00906972, 0.014615479, 0.009680342, 0.027128786, -0.03075902, 0.007770491, -0.010217305, 0.005494343, -0.012552501, 0.012060569, -0.014756992, -0.024738284, 0.04960516, -0.009013807, -0.032708112, -0.029890928, 0.02788968, -0.022093698, 0.013396632, -0.020320851, -0.03204123, -0.01210022, -0.0052642045, 0.0029208437, -0.013601702, -0.013864936, -0.026223984, 0.022903718, 0.009268757, -0.0064403, 0.0015881204, 0.03684329, 0.022517882, -0.030096302, 0.013685981, -0.003440464, -0.017822271, -0.043877736, -0.0038585023, -0.030028155, -0.000864754, 0.021812238, -0.017326834, -0.014662377, -0.0032542082, -0.007433369, -0.017319899, -0.030575348, 0.013289658, -0.0075901938, -0.00364103, 0.013660646, -0.032202486, -0.013242679, -0.0075381063, 0.0037206027, 0.037199274, -0.028884776, -0.013693226, -0.011370729, 0.026547233, -0.0084059015, 0.041494116, 0.017905258, -0.017664975, 0.021112716, 0.0040210704, 0.00048474048, -0.028950486, 0.018741637, 0.009572171, 0.04725033, -0.0016565828, -0.0067050657, 0.006817243, -0.01993778, -0.005104873, -0.011009351, 0.0035328656, -0.026178837, -0.020302577, 0.016693356, 0.003175518, 0.0065386505, -0.005718473, 0.006694932, -0.01118234, -0.0030615956, 0.013915022, 0.004895508, -0.0012601743, 0.0076032607, 0.004319094, -0.03696311, 0.02558323, 0.0045873546, 0.00059882127, 0.022622675, 0.019115627, 0.0328104, 0.008700648, 0.001159132, 0.00632266, 0.014836332, 0.036124844, 0.0033973842, 0.010798701, 0.019404382, -0.003158649, -0.0075452686, -0.048461933, 0.01847943, -0.024508685, 0.026224794, 0.0136209605, 0.021139985, 0.04610333, -0.019824136, -0.014245528, 0.007916061, -0.028957225, 0.021268092, 0.00677886, -0.008423408, -0.043508016, 0.02694682, -0.0021799286, -0.020393895, -0.008353929, 0.018852994, 0.012829294, -0.00864386, 0.035100654, 0.016570015, -0.0032633655, 0.017202996, -0.022450041, -0.08288327, -0.003437447, -0.021583784, 0.002296503, 0.009641287, -0.040780637, -0.0062673814, 0.0027178486, -0.039609484, -0.0030104904, -0.009792965, 0.009709853, 0.054061536, -0.030189635, 0.011333573, -0.016738078, 0.01678888, -0.0018421083, 0.00086136727, 0.016565647, 0.051378366, 0.007328391, -0.01582363, 0.0019799685, 0.015549681, -0.027752673, 0.020661714, -0.015843824, -0.024095148, 0.021347765, -0.039339844, -0.0019096574, 0.0095954705, 0.014818647, 0.011083832, -0.016044952, -0.01239991, -0.0014441785, -0.02176352, 0.022752902, -0.04527749, 0.017740652, -0.0028019603, 0.00204789, -0.038672946, -0.031512823, -0.027541893, 0.0027731145, -0.018798403, -0.018029122, -0.045693796, -0.014753686, 0.033119325, 0.013569257, -0.006676472, -0.007487846, -0.03222272, 0.015309987, -0.012794882, 0.017286178, 0.022614792, -0.03333979, 0.009258048, -0.0064667887, 0.010955787, -0.03795807, 0.0069923014, -0.0064907973, -0.0022313062, -0.022715008, -0.0031607784, 0.012227503, 0.0033298626, 0.013127466, 0.00945248, 0.0014808942, -0.012315908, -0.027990522, -0.017644906, -0.008229162, -0.0013916104, 0.027866084, 0.0022077698, -0.010564148, 0.0011711409, 0.014810551, -0.0037531946, -0.011213344, -0.03862879, 0.012986379, 0.010510434, 0.03147397, 0.007575764, -0.0036323222, 0.039652202, -0.017369103, -0.012412898, 0.035522137, 0.009145042, 0.007946069, -0.0036893748, -0.016654562, 0.0062910467, 0.028009934, 0.03590812, 0.008792883, 0.021288928, 0.018108537, 0.017868675, 0.025895813, 0.005785665, 0.0038700392, 0.0071108425, 0.020690514, -0.03177657, 0.0006189889, -0.012865934, -0.041298352, 0.0034379328, 0.01960456, 0.0017458802, 0.032394458, -0.014755052, 0.0009890618, 0.008671569, -0.010230873, -0.0050881207, -1.4807023e-06, -0.00021312675, 0.033804577, 0.014838868, -0.061947756, -0.008206948, -0.02477862, 0.008437609, -0.027400881, 0.03092149, 0.01881181, 0.033584043, 0.0038681482, -0.010025565, -0.004134989, -0.0063836975, 0.04925911, -0.014757207, 0.03328899, -0.019825129, -0.019671159, -0.027608484, 0.013959818, 0.03601626, 0.03321744, 0.021425381, 0.028908374, -0.04394806, -0.025693227, -0.001474701, 0.051719684, -0.013672544, 0.034130454, -0.013856513, -0.013156845, -0.008945739, -0.016474131, -0.010445533, 0.05014117, 0.013054675, -0.007537413, 0.02168368, 0.016832523, -0.0027755504, 0.0066190725, 0.010302975, 0.0015350215, -0.011948479, -0.0035882809, 0.035319977, -0.0029451256, -0.014275372, -0.00036722483, 0.003888014, -0.013175268, -0.0051187007, 0.016768716, -0.0045375326, 0.011100332, -0.004940006, 0.012288128, -0.014231329, -0.035060026, -0.040972676, 0.053311426, 0.001050446, -0.013007017, 0.00034971497, -0.01602026, -0.0052980795, 0.003399298, -0.018951353, 5.187385e-05, -0.017354272, 0.0023944308, -0.018937929, 0.03255994, 0.018268945, -0.0026558898, 0.029638967, 0.005823809, 0.015264807, -0.03372077, 0.026221927, 0.030113483, 0.00055964245, -0.03670064, -0.027355537, -0.013556565, -0.010263519, 0.028718455, -0.021343729, 0.014013905, 0.021673828, -0.021460181, 0.0026194968, -0.012013802, -0.011899556, 0.035391822, 0.020502064, -0.0073119747, 0.02623988, -0.024210623, -0.021258257, 0.0006596795, -0.009016061, -0.0027414567, 0.04443249, 0.020863296, -0.003714337, 0.004413085, -0.048038594, -0.027564248, -0.026899233, -0.011120626, -0.035894237, 0.010173522, -0.027458377, 0.0011370432, -0.020521067, -0.030343683, -0.002533755, 0.00963383, -0.033198286, 0.023391526, -0.0095823025, -0.026436407, 0.014082946, 0.039404746, 0.046177555, -0.0005672969, 0.021942543, -0.0028399283, -0.04627988, 0.03817193, 0.019266415, -0.0052890745, -0.014109889, -0.02329615, 0.0079140775, -0.0153687885, 0.00893395, 0.01077071, 0.00984547, -0.008316827, -0.018004725, -0.0033227364, -0.033311047, 0.017448712, 0.017168993, 0.0132704675, 0.011591248, 0.00922915, -0.0020656025, -0.047479503, -0.027832357, 0.028101172, -0.017136553, -0.01661161, -0.0064490302, -0.023376683, 0.0027415552, 0.029941509, 0.043515246, -0.010659789, -0.004216182, 0.01152877, 0.00039453746, 0.013951597, -0.021919657, -0.008425587, 0.008939043, 0.02879311, 0.012308257, 0.014514202, 0.043343216, 0.032948542, 0.011003984, -0.038140036, -0.0074632987, 0.007553949, 0.0069747907, -0.0049306126, 0.0384305, 0.004135596, 0.011252556, -0.021196896, 0.023825595, -0.0013640505, -0.0060447683, 0.0041605737, 0.09445706, 0.0022381775, -0.018566305, -0.032665905, 0.0049913563, -0.013792826, 0.0028415709, -0.021657886, -0.03306822, -0.011166921, 0.025923993, -0.0017563277, -0.001029755, -0.017757198, 0.018850656, 0.01263793, -0.018520609, -0.019912612, -0.015725492, 0.010766879, -0.0033925858, -0.016552115, 0.012631927, 0.02936708, -0.0034354534, -0.019940102, 0.03865004, 0.029155046, -0.02559728, 0.009662502, 0.0041143587, 0.0025326952, -0.009448747, -0.012633419, -0.007980773, 0.022175508, 0.0048165265, -0.033849336, -0.002635923, 0.04871135, -0.027849842, -0.015097657, -0.032418508, -0.029777525, -0.018886423, -0.019673007, 0.07205772, -0.050676733, 0.04703119, -0.045097366, -0.043230243, 0.029318733, 0.015085956, 0.011738799, -0.00024464692, -0.026572617, -0.009402852, 0.004088417, 0.035339266, 0.033520993, 0.02140842, 0.0076688295, -0.0038536186, -0.002098026, 0.0018117193, -0.037555333, -0.039659064, 0.019260205, -0.018365853, -0.008614006, -0.03508024, 0.034540705, 0.014245485, -0.009429919, 0.0068623424, -0.00353493, -0.0010593587, 0.055037383, 0.025007915, -0.01954691, 0.003703143, -0.016571626, 0.02549925, 0.005042384, -0.002347211, 0.019978933, 0.026948594, -0.016035203, 0.013508185, -0.0076040304, -0.026758581, -0.049578324, 0.02184817, 0.018816557, 0.00733615, -0.021836078, -0.011343804, -0.027456678, 0.0016855585, -0.019783894, 0.002134913, 0.011243133, 0.028002284, -0.014285377, 0.0091031855, 0.0059093526, -0.025045302, 0.02382756, 0.012755941, 0.0067271763, -0.009994871, 0.024620574, 0.026256826, 0.026877608, -0.017780468, 0.022248687, 0.010837558, 0.019038625, 0.021047767, -0.040387947, -0.018791346, 0.017707612, 0.04844792, -0.0022389079, -0.03079817, -0.006971082, -0.026841288, -0.013790583, 0.020332206, 0.022405779, -0.012136027, 0.007183575, -0.009335476, -0.001077096, -0.03561233, -0.008100485, 0.00019970427, 0.041212853, 0.018250408, 0.020399757, 0.019737933, -0.027036224, 0.004149624, -0.006763335, 0.037930835, 0.0060665566, 0.001654676, -0.0071048746, -0.024101872, 0.0091614565, -0.003289149, 0.009061213, 0.009497221, 0.020625668, 0.04770181, -0.0025560562, 0.026001764, 0.070748225, 0.014170725, -0.008207729, 0.007525672, -0.0017941799, 0.021454167, -0.016610151, 0.0006330646, 0.032718245, -0.010476787, -0.0135170715, -0.0034329565, 0.028570144, -0.033720158, 0.011063835, 0.0012315806, -0.012485378, 0.0047482154, -0.025514385, 0.0065889875, 0.001429631, 0.006003031, -0.04158025, -0.022295449, 0.019199336, 0.0042542526, -0.026355008, -0.011595638, 0.02159578, -0.0303927, 0.0019367893, 0.0553939, 0.02155365, -0.012683098, 0.019841272, -0.027292075, -0.016967665, -0.0019702644, 0.011041377, 0.051472917, 0.0073978305, -0.018906562, -0.025410509, 0.033379678, -0.0065663317, 0.015525605, -0.002883099, -0.021504626, -0.004823468, -0.021419743, -0.0036156885, -0.017303316, 0.047073975, -0.009026493, -0.018200766, 0.02868638, -0.009433495, 0.009906135, -0.008026782, 0.004855355, 0.00015672689, 0.0071932864, 0.021447964, -0.031128075, -0.015973061, 0.020594189, 0.025381636, -0.03058553, -0.008335335, -0.030083178, -0.023210641, 0.014255229, -0.005647271, -0.011299043, 0.007847242, 0.0020153283, -0.0028449956, -0.011903742, 0.010605072, -0.026414819, 0.008830623, -0.023663444, -0.009524098, -0.012908345, 0.016047204, -0.012824476, 0.014566112, 0.013474686, 0.007714717, -0.005932403, 0.0045285365, 0.014880908, 0.014687276, 0.023006093, 0.023010125, -0.0013072616, -0.0254759, -0.006819312, -0.033828523, 0.02322653, -0.020865828, 0.009484263, -0.01817066, 0.003672466, -0.016693957, -0.05873669, -0.0015149486, 0.018445369, 0.010594349, 0.0070546377, 0.012310278, 0.0075517665, 0.010977017, -0.013538289, 0.023739519, 0.0006673063, 0.003160815, 0.026845392, 0.017207937, -0.0006563691, 0.06535642, 0.0019159279, 0.004003376, -0.008548179, 0.0034625137, 0.02531465, -0.017350424, 0.003455432, 0.007089613, 0.002534974, -0.014558394, -0.044499706, 0.013212257, 0.002233758, 0.009591704, -0.038438406, -0.00858795, -0.024380969, -0.004569052, 0.018098002, -0.010933802, -0.0069631487, 0.022008762, -0.015658006, 0.004924779, -0.001184829, -0.0009202354, 0.00034417113, 0.0024620406, -0.00024703448, -0.003997449, -0.004895685, 0.0065443725, -0.018451061, -0.008218072, 0.001450277, -0.0200004, 0.0041217827, -0.014770973, -0.020536646, -0.022038167, 0.019194338, -0.012860203, 0.0019141922, 0.0007814385, 0.03476297, -0.007087851, 0.0518023, -0.011481178, -0.018915027, -0.00915853, -0.011999037, 0.0053608804, 0.027887806, 0.024237674, -0.023234528, -0.01863892, 0.028736351, 0.010304357, -0.0016855745, 0.02125748, -0.0016205091, -0.0033771428, 0.021818029, 0.00063537166, 0.03925355, -0.0049309316, -0.016822828, -0.01930484, 0.005747765, 0.011014395, 0.01132585, -0.015914125, 0.009255076, -0.0073691597, 0.016624685, -0.0055002538, 0.0049383915, 0.030843856, -0.0018979909, 0.013938914, 0.0023644678, 0.0036766976, 0.019102225, -0.05032989, -0.02781534, -0.0070031467, -0.012341069, 0.010540619, 0.017201558, -0.047183722, 0.01710654, -0.019395858, -0.051463973, -0.009606173, -0.003141491, -0.03448715, -0.0073096817, 0.008781979, 0.014886028, -0.007998996, 0.053051706, -0.0007187416, -0.027831016, -0.0023760512, -0.013912794, -0.0022575245, -0.0021792033, -0.027064402, 0.008222908, -0.010172565, 0.04358877, -0.0126229385, -0.0034912247, -0.010906319, -0.026799737, -0.04073364, -0.006371444, 0.017745798, 0.025245568, 0.036278162, -0.0029616584, 0.027921079, -0.0077885017, -0.01953688, -0.008789141, 0.030137522, -0.00263644, 0.02537909, 0.029221231, 0.025376782, 0.00730463, -0.0036915846, -0.017669858, 0.0022168593, 0.010019307, 0.027416375, -0.04274022, -0.025654163, -0.022557702, 0.086870015, 0.016804416, -0.010693067, -0.0035974379, 0.009630399, 0.012212357, -0.018955033, 0.0055857548, 0.00035444854, 0.016053408, 0.007311829, -0.01037777, 0.029225193, 0.028184298, -0.010863387, -0.006622469, 0.039582912, 0.04638282, 0.0032484315, 0.02743517, -0.0075122355, -0.00553168, 0.0025737293, 0.019979864, -0.0058920365, -0.007084624, 0.0007463831, 0.020127455, -0.024768412, 0.028693102, -0.02910029, -0.021749036, -0.00032248654, 0.009623798, 0.0058627347, -0.02257744, -0.0193226, 0.00046488663, 0.027371624, 0.013010651, 0.010155176, 0.01207789, 0.012557335, -0.025662884, 0.024965025, 0.02425266, -0.024279512, -0.0062217694, 0.005989356, -0.011877363, -0.036029544, -0.03278689, -0.0125363795, 0.018304737, -0.0029534874, 0.02304751, -0.0071372474, -0.010220813, 0.043701585, 0.01651081, 0.02023904, -0.007898148, -0.029036256, 0.017876502, 0.008991988, -0.009112354, -0.006293617, -0.032597966, -0.018576883, -0.007265616, 0.027223267, 0.028939765, -0.0070812493, 0.04792573, -0.002203158, -0.010583629, -0.031424854, -0.009870461, 0.0052705244, 0.04128585, 0.025920587, 0.02216405, 0.02008644, 0.03489499, -0.023687804, 0.025800535, 0.007369572, -0.012792208, 0.032068703, 0.0013399413, -0.014298506, 0.0056367517, 0.0064985934, -0.012807163, -0.0021930875, 0.01599023, 0.0022062853, -0.008203064, 0.0043468284, -0.02335761, 0.019008946, -0.009361838, -0.00059864554, -0.0018063084, 0.03787533, 0.010648946, -0.011826065, 0.027752459, 0.00902766, -0.0038166556, -0.008652777, 0.006523797, -0.004161342, -0.012768497, 0.01225573, -0.0052559897, -0.0009172415, 0.018325742, -0.0029644046, 0.008598622, 0.004778997, 0.001273591, 0.009093009, -0.0039721234, 0.0036254104, -0.013526178, 0.018619968, 0.026105512, -0.053092223, -0.016865732, -0.008901872, -0.0039478634, 0.003855705, 0.003000469, -0.014041624, 0.0044790395, -0.06646248, 0.016062425, -0.0025189964, 0.016389733, 0.016230673, -0.03136461, -0.02193526, -0.012645142, 0.004473365, -0.0081139775, -0.029023862, -0.0364203, -0.01053359, 0.00063553086, 0.0026968492, 0.043971814, -0.034071613, -0.004453547, 0.003394293, -0.050763614, 0.005595565, -0.011734291, -0.011686302, -0.028347641, 0.0077892477, 0.008694291, 0.005699648, -0.01079336, 0.011988249, 0.014241686, -0.0058232755, -0.0044495715, 0.031582117, 0.014690523, 0.021200314, -0.051083095, -0.0127148805, 0.016686067, 0.023542626, 0.049389467, -0.020258958, -0.004755914, 0.0009018481, 0.006230637, 0.04804915, -0.014074577, 0.003011708, -0.005205997, -0.008169474, 0.013364598, 0.007296208, -0.0008121659, -0.008708591, -0.024181489, 0.011906093, -0.021589367, 0.00783752, -0.021243043, -0.015803862, 0.025519151, -0.007602052, 0.01765349, -0.029029595, -0.034190655, -0.013023867, 0.026328482, 0.014375851, -0.00068024726, 0.026916157, -0.006764448, 0.05589638, 0.017694358, -0.023491455, 0.014642385, -0.033837482, -0.035087455, -0.0068920413, -0.006469752, -0.00093350053, 0.0020754188, -0.016459113, 0.0065337354, 0.017379452, -0.0032535822, 0.027812911, 0.017885687, -0.00074060884, 0.05333084, -0.017217346, -0.02769307, -0.012204009, -0.04017627, -0.00070877554, -0.0044152825, 0.018663539, -0.016520346, -0.0061446773, 0.0045200847, 0.019449964, 0.014331076, -0.0043787085, -0.0021875214, 0.022960655, -0.0103757605, 0.026435537, 0.004147591, 0.011091415, -0.023996787, 0.052584957, -0.0140951285, -0.006314361, 0.0048725577, -0.00075231073, -0.0059954845, -0.042014465, -0.027746469, 0.018527562, -0.036400374, -0.019695127, 0.01301138, -0.00032176857, 0.022676717, -0.018231403, -0.019950207, -0.0116731, -0.010900346, 0.022846978, 0.0058220075, -0.0117903305, -0.011123424, 0.00011018843, 0.010513705, 0.010643573, 0.01976913, 0.017939027, 0.022926759, -0.008843774, -0.019357612, 0.015883293, 0.0020942932, -0.004745041, -0.0017195104, 0.020854156, -0.014144415, 0.0254649, -0.028838785, -0.0076968693, 0.004692522, -0.038205065, -0.02593144, 0.028917098, -0.016273359, -0.018471926, 0.00059000263, 0.005209282, -0.04143502, 0.025549483, 0.0064939675, -0.011347007, 0.018219283, 0.015349427, -0.005130256, 0.016219866, -0.0067175226, -0.008277652, -0.038065854, 0.01148795, 0.0042240922, -0.012920332, 0.020220477, 0.048891354, -0.013344018, 0.0050735245, 0.010330147, -0.0021781765, -0.006241206, -0.005513596, 0.014982257, -0.0153288245, -0.04661656, -0.034002256, 0.0056866673, 0.029790642, -0.0042524715, -0.019057482, -0.0044997633, 0.021561528, -0.010326207, -0.06848885, -0.0108699985, 0.015218657, 0.019397216, 0.015182258, 0.026403958, 0.047354914, -0.016941149, -0.0008028747, -0.016440263, -0.010464638, 0.021867484, -0.017965078, 0.0030026785, -0.03167559, -0.020463327, 0.0069252755, -0.03356436, -0.021338236, -0.00023189644, 0.014737117, -0.0061284225, -0.031060515, -0.001921664, -0.0049768556, -0.0318251, -0.0064331666, 0.006496943, 0.0030729654, -0.03355225, -0.0037709007, 0.008106243, -0.015522992, 0.015437096, 0.01951622, -0.03129239, 0.009467206, 0.013002656, 0.0060391054, 0.020387357, -0.048871376, 0.024054602, -0.003210221, 0.02775534, 0.033320863, 0.0027145199, 0.014084622, 0.020282898, -0.008090096, -0.031231418, 0.030240983, -0.0017404791, 0.016912665, -0.0009688901, -0.040142264, 0.052262347, -0.014472605, -0.013187005, -0.02358257, 0.013485863, 0.0272577, -0.010269488, -0.013418912, -0.022258895, -0.005757396, 0.00070023886, -0.01152205, -0.012631917, -0.010806053, -0.005991396, 0.027766712, -0.01137697, -0.017514942, -0.011361774, -0.013040427, 0.010189869, 0.042155482, -0.028325265, -0.012133338, -0.027008777, -0.019109037, 0.053744644, -0.006981133, 0.018527789, -0.019307995, 0.0354192, 0.024357667, 0.032904755, -0.009868298, -0.010050647, 0.010626983, -0.005183377, -0.035069156, 0.009393094, -0.018460773, -0.016502699, 0.02327473, 0.024618443, 0.019159602, 0.00824512, -0.015131995, -0.014209667, 0.022345526, 0.008521656, 0.0015614178, -0.007005525, 0.011656356, 0.010197375, -0.0057616597, 0.018256703, -0.008684256, -0.0045000343, -0.017818803, 0.00019407737, 0.017952975, -0.00527711, -0.01651079, 0.045349177, -0.016009383, -0.02261265, -0.016767373, 0.03456679, -0.013323079, 0.047304347, 0.004372575, -0.022174712, 0.044086624, 0.02446325, 0.006342291, -0.036477316, -0.0012473995, 0.0031613905, -0.013608459, 0.026074007, 0.02917682, 0.0030473187, -0.04872298, -0.020052878, 0.010517441, -0.027834672, 0.010179258, 0.0040386245, 0.009945299, 0.034008928, 0.0147636905, -0.006612899, 0.004326472, 0.0032861417, 0.0037904268, 0.014903256, 0.012316826, -0.011196757, 0.02416717, 0.025615958, -0.012701905, -0.012198169, 0.008402524, 0.010507405, -0.038860142, -0.020510156, 0.009684132, -0.016784033, -0.031237848, 0.0068534673, 0.014853344, -0.012158148, 0.0024970141, 0.014583674, 0.0019066435, 0.010189246, 0.013212238, -0.0232246, -0.009466865, -0.01969117, 0.015150244, -0.01155655, -0.035634276, -0.031920284, -0.03382909, -0.03282022, -0.009657862, -0.0008394278, -0.010538804, -0.004215067, 0.03139568, -0.031777803, -0.03766206, 0.009717606, 0.019727794, -0.012714144, 0.013847209, 0.021870825, 0.017513635, -0.0225594, -0.020576525, -0.019050196, -0.07248539, -0.048596747, 0.012453641, -0.012226205, 0.0018883378, -0.014060237, -0.034422737, 0.020543836, 0.00959876, 0.0077659134, -0.04972122, 0.020780561, 0.012665651, -0.04036634, 0.021937743, -0.0122049, -0.0119088385, -0.003316688, 0.026916765, -0.015919082, 0.037724957, -0.025338015, -0.0066202376, -0.06454929, -0.039882716, -0.024654496, -0.0032737956, 0.008260202, 0.0034362325, -0.023493806, -0.012870437, 0.01017172, 0.017131671, -0.003405939, -0.03165657, -0.03915703, 0.00830948, -0.003875336, -0.010400421, -0.0032957636, -0.027246272, -0.020361584, -0.021283843, -0.0038636487, 0.026537301, 0.036462523, 0.003333258, -0.017243734, 0.023374496, -0.001618144, 0.01693866, -0.021831298, 0.019706022, 0.042059053, 0.016535185, 0.01799877, 0.017822705, 0.03429983, -0.002044602, 0.0073563256, 0.043234427, -0.014259858, -0.0029296076, -0.07316579, -0.013647835, 0.023425655, -0.003543769, -0.004917458, 0.03806352, 0.0051442883, -0.0013497991, 0.014865045, 0.02671956, -0.020471206, 0.04447669, -0.027685732, 0.023731908, 0.020904306, 0.03488721, -0.0034468465, -0.0006700648, 0.03284969, 0.046011657, -0.01338229, 0.0014272284, -0.0013556132, 0.019448914, 0.008142802, 0.023022698, -0.0058736983, 0.031110406, 0.0013281377, -0.022902997, 0.008164657, -0.0018310257, 0.02639363, -0.028902585, -0.0100659225, 0.0046105096, 0.009462205, 0.012813085, -0.025311314, -0.010155871, 0.027801149, -0.063305914, -0.006835706, -0.023670815, 0.005918565, 0.016279032, -0.006204818, -0.002858759, 0.019307418, -0.0046824515, -0.012989622, -0.023665646, 8.589089e-05, 0.004432283, 0.03512326, -0.045749146, 0.00039778618, -0.02945257, -0.024409462, 0.03484156, -0.016683873, 0.0267802, -0.008853779, -0.040982023, -0.01759727, -0.02087548, -0.02195134, 0.01491625, 0.0072753993, -0.029984377, -0.004528752, -0.022882456, 0.002756127, -0.04069588, 0.017033018, 0.037037615, -0.009067161, -0.00392099, -0.0025108107, -0.015092192, -0.038083784, 0.0020561519, -0.027631069, -0.009095211, 0.017624151, -0.001996106, -0.0146548, 0.03927078, -0.019474141, 0.029507473, 0.0026797364, 0.029289717, -0.013970449, -0.006924457, -0.0013872401, -0.005634614, 0.0036668626, -0.012068737, -0.015043481, 0.058505528, -0.0476027, -0.03332877, -0.03610887, -0.04955913, 0.00765142, 0.018070089, -0.0017965126, 0.034140162, 0.013745425, 0.008500654, 0.009481637, 0.021311082, -0.0077410867, 0.01433642, 0.022255694, -0.013904014, -0.020761676, -0.02087519, 0.04960096, -0.037344515, 0.02461957, 0.030731374, -0.018749828, 0.0054930877, -0.0078052282, 0.009839244, 0.0047611347, -0.038132627, -0.0005360361, 0.006015328, -0.056464557, 0.0009469098, -0.029759556, 0.008197466, -0.013033862, -0.038941566, 0.037951887, -0.0031418628, -0.014952352, 0.0062554376, -0.0054907226, -0.003039834, 0.002742762, -0.007433947, -0.020338703, 0.01095341, -0.014372198, -0.028247235, 0.04570416, -0.024830112, -0.011064775, -0.017280197, -0.02659712, 0.008792262, -0.020984257, 0.0001856438, 0.030426884, 0.03835667, -0.017989343, -0.0021726952, 0.008226955, -0.005315548, 0.025381943, 0.012216619, -0.02729173, 0.0025928267, -0.036003295, -0.00031748766, -0.012776487, -0.013570864, 0.007327878, -0.01692821, 0.031920988, 0.018508356, -0.017979048, -0.014582089, 0.01535805, 0.034372438, -0.0054897177, -0.0035279898, 0.015618956, 0.03789755, 0.028788988, -0.0056432863, 0.019906493, -0.021425806, -0.007936964, 0.017319616, 0.024895467, -0.009407218, -0.017706575, 0.004433514, -0.0060386, 0.027417349, -0.011813129, -0.032739718, 0.015156213, -0.0020211048, 0.0063607437, 0.020294625, -0.029045107, -0.0072566923, 0.01776365, -0.04565463, 0.018390795, 0.01491554, 0.006573487, 0.0020505772, 0.0028042088, 0.06300832, -0.0184491, -0.0086149005, 0.008195429, -0.0384599, -0.01913504, 0.034261554, 0.0017807246, -0.015182412, -0.04140635, -0.023033045, -0.029996637, 0.015731785, 0.03282389, 0.0005505877, 0.030960122, 0.011694714, -0.005471799, -0.013030461, -0.0022678494, -0.027670365, -0.04440646, -0.016419454, -0.010809752, -0.0016466591, -0.08133803, 0.017562596, -0.0006223733, -0.014360438, -0.0033057248, 0.0023758477, 0.009956975, -0.04863268, -0.030376626, 0.017370833, 0.041897066, -0.0021699439, -0.008806699, -0.0118245445, 0.026298318, 0.004951804, -0.011680612, -0.0017729446, -0.028636977, 0.0005707678, -0.022125393, -0.020768799, -0.03976671, 0.016144285, 0.051202763, -0.01640633, 0.0088915285, -0.04014468, 0.016021501, 0.016846675, -0.004378521, -0.016752427, -0.0053800894, 0.0021773046, -0.011303485, 0.037903093, 0.02105099, 0.029707242, -0.021497417, -0.009766385, 0.013759436, 0.01514667, -0.022298502, 0.006022407, -0.0155007355, -0.036219895, 0.00045696227, 0.039135024, -0.017638585, -0.04384765, -0.0076302765, -0.050342385, -0.0025842222, -0.013480092, 0.0040288926, -0.0008733614, -0.0053255083, 0.0028182203, -0.004903719, 0.011625186, 0.043445628, -0.029252827, -0.009338716, -0.019837998, 0.0031587314, 0.017224567, -0.011678085, -0.0143048875, -0.0056587043, 0.00069535145, 0.02424605, -0.022731297, -0.026081527, -0.00025229438, -0.0017926334, 0.004525097, 0.002162624, -0.0358773, -0.002119156, 0.024732696, -0.034522742, -0.04161835, 0.01857103, -0.021872928, -0.007359958, 0.0014396673, 0.015395158, 0.029301941, 0.011759549, -0.021084802, 0.021583548, 0.03819545, 0.032788347, 0.029117322, 0.029377881, -0.029436596, -0.015194313, -0.018797258, -0.017602043, 0.028936464, -0.026275042, 0.007385171, -0.03155607, -0.002134885, -0.010182012, 0.044999603, -0.045431435, -0.0026640983, -0.0037163256, -0.025084179, 0.032047078, -0.009844557, 0.013170315, 0.0012142112, 0.025168136, -0.0022995125, 1.903564e-05, -0.018160513, -0.0035273319, -0.0011912893, -0.0061986297, -0.0349508, -0.009034208, 0.036918584, 0.003442432, -0.03352363, -0.036481507, 0.014735926, 0.043212608, 0.022266483, 0.016733412, 0.024183579, 0.001737169, 0.02860376, -0.010374641, 0.0144916, -0.0014230063, 0.0053870943, 0.018371668, 0.0018678985, 0.0044797356, -0.03872825, -0.006867791, 0.01038071, -0.042703837, 0.0070886896, 0.026103731, -0.024317069, 0.005890262, 0.018471722, -0.03114265, 0.01175367, 0.0014583026, 0.005102518, 0.008943661, -0.025481898, -0.014498017, -0.008487999, -0.0019537085, 0.019232422, 0.020767704, -0.06550566, -0.0023556768, -0.00804085, 0.046083514, 0.012768423, -0.019786963, 0.040179957, -0.030359762, 0.008294518, 0.014728321, 0.0043740864, -0.017545858, 0.024140662, -0.017224515, -0.015661418, -0.014785612, -0.00023505463, 0.05134044, -0.022124369, -0.008901241, -0.015972659, 0.029269235, 0.024274861, 0.023471562, -0.01150585, -0.018076515, 0.020098789, 0.084756464, 0.009546475, -0.03229289, -0.029269341, 0.007217711, 0.031242987, -0.0060175397, 0.016898874, 0.049702436, 0.010525842, -0.012954743, 0.0020710342, -0.0050949682, 0.050589792, 0.00034560065, 0.03527891, 0.023769733, -0.007531095, -0.02238741, -0.033005327, -0.018775033, 0.01994908]])"
      ]
     },
     "execution_count": 12,
     "metadata": {},
     "output_type": "execute_result"
    }
   ],
   "source": [
    "embed = ollama.embed(model='llama3.2:1b', \n",
    "                     input='The sky is blue because of rayleigh scattering')\n",
    "embed"
   ]
  },
  {
   "cell_type": "code",
   "execution_count": 13,
   "id": "a0fd400b",
   "metadata": {},
   "outputs": [
    {
     "data": {
      "text/plain": [
       "ProgressResponse(status='success', completed=None, total=None, digest=None)"
      ]
     },
     "execution_count": 13,
     "metadata": {},
     "output_type": "execute_result"
    }
   ],
   "source": [
    "#ollama.pull(\"gemma3:latest\")\n",
    "ollama.pull(\"llama3.2-vision:latest\")"
   ]
  },
  {
   "cell_type": "code",
   "execution_count": null,
   "id": "216365f3-0c34-4b21-a8ed-8dfb7d07d494",
   "metadata": {},
   "outputs": [],
   "source": [
    "model = 'llama3.2-vision:latest'\n",
    "\n",
    "response = ollama.chat(\n",
    "    model=model,\n",
    "    messages=[{\n",
    "        'role': 'user',\n",
    "        'content': 'Can you describe this image?',\n",
    "        'images': [\"../../../Data/imgs/fossils.jpeg\"]\n",
    "    }]\n",
    ")\n",
    "\n",
    "print(response)"
   ]
  },
  {
   "cell_type": "code",
   "execution_count": null,
   "id": "93669445-07ca-4d33-94c6-379a5ee6385f",
   "metadata": {},
   "outputs": [],
   "source": []
  }
 ],
 "metadata": {
  "kernelspec": {
   "display_name": ".venv",
   "language": "python",
   "name": "python3"
  },
  "language_info": {
   "codemirror_mode": {
    "name": "ipython",
    "version": 3
   },
   "file_extension": ".py",
   "mimetype": "text/x-python",
   "name": "python",
   "nbconvert_exporter": "python",
   "pygments_lexer": "ipython3",
   "version": "3.12.3"
  }
 },
 "nbformat": 4,
 "nbformat_minor": 5
}
