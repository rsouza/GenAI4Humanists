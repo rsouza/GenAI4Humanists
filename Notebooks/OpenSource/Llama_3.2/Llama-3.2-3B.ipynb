{
 "cells": [
  {
   "cell_type": "markdown",
   "metadata": {
    "application/vnd.databricks.v1+cell": {
     "cellMetadata": {
      "byteLimit": 2048000,
      "rowLimit": 10000
     },
     "inputWidgets": {},
     "nuid": "b7dc1091-e18a-4ab0-a4e2-0ac4a2460bf0",
     "showTitle": false,
     "tableResultSettingsMap": {},
     "title": ""
    }
   },
   "source": [
    "\n",
    "### Using [Llama-3.2-1B](https://huggingface.co/meta-llama/Llama-3.2-1B) - [Meta](https://www.meta.com/at/en/)  \n",
    "\n",
    "##### Running on g4dn.xlarge"
   ]
  },
  {
   "cell_type": "markdown",
   "metadata": {
    "application/vnd.databricks.v1+cell": {
     "cellMetadata": {
      "byteLimit": 2048000,
      "rowLimit": 10000
     },
     "inputWidgets": {},
     "nuid": "2c0e0b22-3042-48b6-84e3-08e1888b0d37",
     "showTitle": false,
     "tableResultSettingsMap": {},
     "title": ""
    }
   },
   "source": [
    "_launched on 25.09.24_\n",
    "\n",
    "\n",
    "•\tsmall and medium-sized vision LLMs: 11B and 90B\n",
    "\n",
    "\n",
    "•\tlightweight, text-only models: 1B and **3B** - for edge devices \n",
    "\n",
    "\n",
    "with a 128 000 token context length.\n",
    "\n",
    "\n",
    "Vision models can be used to understand documents, answer questions based on visual content or caption images. \n",
    "\n",
    "\n",
    "Multimodal models are not accessible from the European Union, so we will only test text-based models.\n"
   ]
  },
  {
   "cell_type": "code",
   "execution_count": null,
   "metadata": {
    "application/vnd.databricks.v1+cell": {
     "cellMetadata": {
      "byteLimit": 2048000,
      "rowLimit": 10000
     },
     "inputWidgets": {},
     "nuid": "9ad433dc-8d2b-45d3-b7e4-8ad6a3abf5e8",
     "showTitle": false,
     "tableResultSettingsMap": {},
     "title": ""
    }
   },
   "outputs": [],
   "source": [
    "!pip install --upgrade transformers\n",
    "dbutils.library.restartPython()"
   ]
  },
  {
   "cell_type": "code",
   "execution_count": null,
   "metadata": {
    "application/vnd.databricks.v1+cell": {
     "cellMetadata": {
      "byteLimit": 2048000,
      "rowLimit": 10000
     },
     "inputWidgets": {},
     "nuid": "b16f951c-1892-414a-b378-adc7f91f0a59",
     "showTitle": false,
     "tableResultSettingsMap": {},
     "title": ""
    }
   },
   "outputs": [],
   "source": [
    "from huggingface_hub import login\n",
    "\n",
    "huggingface_token = \"<your token>\"\n",
    "\n",
    "login(token=huggingface_token)"
   ]
  },
  {
   "cell_type": "code",
   "execution_count": null,
   "metadata": {
    "application/vnd.databricks.v1+cell": {
     "cellMetadata": {
      "byteLimit": 2048000,
      "rowLimit": 10000
     },
     "inputWidgets": {},
     "nuid": "ae81a7d6-f2f8-431c-8414-f74cb6e937d2",
     "showTitle": false,
     "tableResultSettingsMap": {},
     "title": ""
    }
   },
   "outputs": [],
   "source": [
    "import torch\n",
    "from transformers import pipeline\n",
    "\n",
    "model_id = \"meta-llama/Llama-3.2-1B\"\n",
    "\n",
    "instruct = pipeline(\n",
    "    \"text-generation\", \n",
    "    model=model_id, \n",
    "    torch_dtype=torch.bfloat16, \n",
    "    device_map=\"auto\"\n",
    ")"
   ]
  },
  {
   "cell_type": "markdown",
   "metadata": {
    "application/vnd.databricks.v1+cell": {
     "cellMetadata": {
      "byteLimit": 2048000,
      "rowLimit": 10000
     },
     "inputWidgets": {},
     "nuid": "63df28ba-d914-41a6-8bcd-e93f3a0e02a9",
     "showTitle": false,
     "tableResultSettingsMap": {},
     "title": ""
    }
   },
   "source": [
    "####Text Generation"
   ]
  },
  {
   "cell_type": "code",
   "execution_count": null,
   "metadata": {
    "application/vnd.databricks.v1+cell": {
     "cellMetadata": {
      "byteLimit": 2048000,
      "rowLimit": 10000
     },
     "inputWidgets": {},
     "nuid": "7ff36d29-de52-4f4c-a7d9-ef78ec1dd080",
     "showTitle": false,
     "tableResultSettingsMap": {},
     "title": ""
    }
   },
   "outputs": [],
   "source": [
    "import time\n",
    "\n",
    "prompt_generation = \"Write me all about Arthur Schopenhauer.\"\n",
    "\n",
    "#Tracking the time\n",
    "start_time = time.time()\n",
    "response = instruct(prompt_generation, max_new_tokens=200)\n",
    "print(response[0]['generated_text'] if isinstance(response, list) else response['generated_text'])\n",
    "end_time = time.time()\n",
    "latency = end_time - start_time"
   ]
  },
  {
   "cell_type": "markdown",
   "metadata": {
    "application/vnd.databricks.v1+cell": {
     "cellMetadata": {
      "byteLimit": 2048000,
      "rowLimit": 10000
     },
     "inputWidgets": {},
     "nuid": "98fde6c2-3929-453d-83f2-08a644f1fa62",
     "showTitle": false,
     "tableResultSettingsMap": {},
     "title": ""
    }
   },
   "source": [
    "_We can notice that the model is hallucinating._"
   ]
  },
  {
   "cell_type": "code",
   "execution_count": null,
   "metadata": {
    "application/vnd.databricks.v1+cell": {
     "cellMetadata": {
      "byteLimit": 2048000,
      "rowLimit": 10000
     },
     "inputWidgets": {},
     "nuid": "8c286d84-cb78-4466-85f2-c4d84242989a",
     "showTitle": false,
     "tableResultSettingsMap": {},
     "title": ""
    }
   },
   "outputs": [],
   "source": [
    "print('Latency of the model is', latency)"
   ]
  },
  {
   "cell_type": "markdown",
   "metadata": {
    "application/vnd.databricks.v1+cell": {
     "cellMetadata": {
      "byteLimit": 2048000,
      "rowLimit": 10000
     },
     "inputWidgets": {},
     "nuid": "721af2ca-499b-4f67-adfd-1cb905273667",
     "showTitle": false,
     "tableResultSettingsMap": {},
     "title": ""
    }
   },
   "source": [
    "####Text Summarization"
   ]
  },
  {
   "cell_type": "code",
   "execution_count": null,
   "metadata": {
    "application/vnd.databricks.v1+cell": {
     "cellMetadata": {
      "byteLimit": 2048000,
      "rowLimit": 10000
     },
     "inputWidgets": {},
     "nuid": "a9a0fcc4-ca8c-44eb-a166-0684707932d1",
     "showTitle": false,
     "tableResultSettingsMap": {},
     "title": ""
    }
   },
   "outputs": [],
   "source": [
    "template = \"\"\"Write a short summary of this article for a business expert:\n",
    "\n",
    "{article}\n",
    "\"\"\"\n",
    "\n",
    "cameroon = \"\"\"The economic fallout from the COVID-19 pandemic and the subsequent global shocks provoked by the war in Ukraine have hit African countries hard, denting economic growth and aggravating their sovereign debt positions. The International Monetary Fund (IMF) forecasts that Cameroon, a Central African oil producer, will record 4.3% economic growth this year after it slumped to 0.5% in 2020. The Fund has classified Cameroon as being at high risk of debt distress, though in its most recent review of the country's loan programme it stated that, with active fiscal reforms and management, the debt could be sustainable. \"Our debt service coverage from exports needs to be improved. That's the reason why we are ranked in a high risk debt distress position,\" said Alamine Ousmane Mey, Cameroon's minister of economy, planning and regional development. He was speaking at an event organised by the Atlantic Council think tank on the sidelines of the IMF and World Bank's Spring Meetings in Washington. \"We're working to be able to improve our exports through import substitution policies to reduce imports, produce more and export more. This will give us better room for debt service coverage,\" he said. Cameroon has also relaunched talks with the U.S. to end its suspension from the Africa Growth and Opportunities Act (AGOA) initiative, which grants qualifying African countries tariff-free access to the U.S. market. Former President Donald Trump suspended Cameroon from the programme in late 2019 over \"persistent gross violations of internationally recognised human rights\" by Cameroonian security forces. Since 2017, factions of secessionist militias have been battling government troops in the majority Francophone country's two English-speaking regions. The conflict has killed thousands and displaced nearly 800,000 people. \"All the issues that have been raised, we're working on in a very transparent open manner to be able to iron them out and solve the problems,\" Mey said, referring to the talks with U.S. officials to rejoin AGOA. Our Standards: The Thomson Reuters Trust Principles.\n",
    "\"\"\"\n",
    "\n",
    "response = instruct(template.format(article=cameroon), max_new_tokens=120)\n",
    "print(response[0]['generated_text'] if isinstance(response, list) else response['generated_text'])"
   ]
  },
  {
   "cell_type": "markdown",
   "metadata": {
    "application/vnd.databricks.v1+cell": {
     "cellMetadata": {
      "byteLimit": 2048000,
      "rowLimit": 10000
     },
     "inputWidgets": {},
     "nuid": "f3e83540-e216-4ec4-8ab9-5c671c0f3206",
     "showTitle": false,
     "tableResultSettingsMap": {},
     "title": ""
    }
   },
   "source": [
    "####Coding Task"
   ]
  },
  {
   "cell_type": "markdown",
   "metadata": {
    "application/vnd.databricks.v1+cell": {
     "cellMetadata": {
      "byteLimit": 2048000,
      "rowLimit": 10000
     },
     "inputWidgets": {},
     "nuid": "0f873ee9-7d48-4fd5-a283-fb6e61fa6bb0",
     "showTitle": false,
     "tableResultSettingsMap": {},
     "title": ""
    }
   },
   "source": [
    "_Code challenge from: https://edabit.com/challenge/ZdnwC3PsXPQTdTiKf_:"
   ]
  },
  {
   "cell_type": "code",
   "execution_count": null,
   "metadata": {
    "application/vnd.databricks.v1+cell": {
     "cellMetadata": {
      "byteLimit": 2048000,
      "rowLimit": 10000
     },
     "inputWidgets": {},
     "nuid": "a3c79b99-e643-4648-b251-9ee9c5773a82",
     "showTitle": false,
     "tableResultSettingsMap": {},
     "title": ""
    }
   },
   "outputs": [],
   "source": [
    "coding_template = \"\"\"Write a code in Python to solve the following task:\n",
    "\n",
    "{task}\n",
    "\n",
    "Starter: \n",
    "\n",
    "{starter}\n",
    "\"\"\"\n",
    "\n",
    "coding_test = \"\"\"Create a Python function that takes two numbers and a mathematical operator + - / * and will perform a calculation with the given numbers.If the input tries to divide by 0, return: Can't divide by 0! \"\"\"\n",
    "\n",
    "# examples = \"\"\"calculator(2, \"+\", 2) ➞ 4\n",
    "\n",
    "# calculator(2, \"*\", 2) ➞ 4\n",
    "\n",
    "# calculator(4, \"/\", 2) ➞ 2\"\"\"\n",
    "\n",
    "starter = \"\"\"def calculator(num1, operator, num2):\"\"\"\n",
    "\n",
    "\n",
    "response = instruct(coding_template.format(task=coding_test, starter=starter), max_new_tokens=1000)\n",
    "print(response[0]['generated_text'] if isinstance(response, list) else response['generated_text'])"
   ]
  },
  {
   "cell_type": "markdown",
   "metadata": {
    "application/vnd.databricks.v1+cell": {
     "cellMetadata": {
      "byteLimit": 2048000,
      "rowLimit": 10000
     },
     "inputWidgets": {},
     "nuid": "ad6b0e28-e426-46f3-8c38-0e5108772818",
     "showTitle": false,
     "tableResultSettingsMap": {},
     "title": ""
    }
   },
   "source": [
    "_Coding challenge from: https://edabit.com/challenge/3A3mHS5B3NNZddQL2_:"
   ]
  },
  {
   "cell_type": "code",
   "execution_count": null,
   "metadata": {
    "application/vnd.databricks.v1+cell": {
     "cellMetadata": {
      "byteLimit": 2048000,
      "rowLimit": 10000
     },
     "inputWidgets": {},
     "nuid": "a0fa26fb-98a1-435c-803f-40454e647ddb",
     "showTitle": false,
     "tableResultSettingsMap": {},
     "title": ""
    }
   },
   "outputs": [],
   "source": [
    "coding_template = \"\"\"Write a code in Python to solve the following task:\n",
    "\n",
    "{task}\n",
    "\n",
    "Starter:\n",
    "\n",
    "{starter}\n",
    "\n",
    "\"\"\"\n",
    "\n",
    "coding_test = \"\"\"Create a function:\n",
    "    \n",
    "to check if a candidate is qualified in an imaginary coding interview of an imaginary tech startup.\n",
    "\n",
    "The criteria for a candidate to be qualified in the coding interview is:\n",
    "The candidate should have complete all the questions.\n",
    "The maximum time given to complete the interview is 120 minutes.\n",
    "The maximum time given for very easy questions is 5 minutes each.\n",
    "The maximum time given for easy questions is 10 minutes each.\n",
    "The maximum time given for medium questions is 15 minutes each.\n",
    "The maximum time given for hard questions is 20 minutes each.\n",
    "If all the above conditions are satisfied, return \"qualified\", else return \"disqualified\".\n",
    "\n",
    "You will be given a list of time taken by a candidate to solve a particular question and the total time taken by the candidate to complete the interview.\n",
    "\n",
    "Given a list , in a true condition will always be in the format [very easy, very easy, easy, easy, medium, medium, hard, hard].\n",
    "\n",
    "The maximum time to complete the interview includes a buffer time of 20 minutes.\"\"\"\n",
    "\n",
    "starter = \"\"\"def interview(lst, tot):\"\"\"\n",
    "\n",
    "\n",
    "response = instruct(coding_template.format(task=coding_test, starter=starter), max_new_tokens=500)\n",
    "print(response[0]['generated_text'] if isinstance(response, list) else response['generated_text'])"
   ]
  },
  {
   "cell_type": "markdown",
   "metadata": {
    "application/vnd.databricks.v1+cell": {
     "cellMetadata": {},
     "inputWidgets": {},
     "nuid": "e64575c8-1e70-4c7e-8c4e-913cf32421f7",
     "showTitle": false,
     "tableResultSettingsMap": {},
     "title": ""
    }
   },
   "source": [
    "The minimum cluster configuration needed to run the model is **g4dn.xlarge[T4]** - 16 GB memory, 1 GPU.\n",
    "\n",
    "Cost: 0.71 dbu/h.\n",
    "\n",
    "Latency of the model: 6s."
   ]
  }
 ],
 "metadata": {
  "application/vnd.databricks.v1+notebook": {
   "dashboards": [],
   "environmentMetadata": null,
   "language": "python",
   "notebookMetadata": {
    "pythonIndentUnit": 4
   },
   "notebookName": "Llama-3.2-3B",
   "widgets": {}
  },
  "language_info": {
   "name": "python"
  }
 },
 "nbformat": 4,
 "nbformat_minor": 0
}
